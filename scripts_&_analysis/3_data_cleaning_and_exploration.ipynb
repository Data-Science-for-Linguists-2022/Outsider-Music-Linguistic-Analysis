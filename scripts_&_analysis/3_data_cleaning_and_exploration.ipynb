{
 "cells": [
  {
   "cell_type": "markdown",
   "metadata": {},
   "source": [
    "# Data Cleaning and Exploration\n",
    "Emma McKibbin | ECM68@pitt.edu    \n",
    "Spring 2022"
   ]
  },
  {
   "cell_type": "markdown",
   "metadata": {},
   "source": [
    "## Table of Contents:\n",
    "1. [Important Information](https://nbviewer.org/github/Data-Science-for-Linguists-2022/Outsider-Music-Linguistic-Analysis/blob/main/scripts_%26_analysis/3_data_cleaning_and_exploration.ipynb#Important-Information)\n",
    "2. [Unpickle the Data](https://nbviewer.org/github/Data-Science-for-Linguists-2022/Outsider-Music-Linguistic-Analysis/blob/main/scripts_%26_analysis/3_data_cleaning_and_exploration.ipynb#Unpickle-the-Data)    \n",
    "3. [Initial Data Exploration](https://nbviewer.org/github/Data-Science-for-Linguists-2022/Outsider-Music-Linguistic-Analysis/blob/main/scripts_%26_analysis/3_data_cleaning_and_exploration.ipynb#Initial-Data-Exploration)    \n",
    "4. [Data Cleaning](https://nbviewer.org/github/Data-Science-for-Linguists-2022/Outsider-Music-Linguistic-Analysis/blob/main/scripts_%26_analysis/3_data_cleaning_and_exploration.ipynb#Data-Cleaning)\n",
    "5. [Analysis of Outsider Music](https://nbviewer.org/github/Data-Science-for-Linguists-2022/Outsider-Music-Linguistic-Analysis/blob/main/scripts_%26_analysis/3_data_cleaning_and_exploration.ipynb#Analysis-of-Outsider-Music)\n",
    "6. [Analysis of Popular Music](https://nbviewer.org/github/Data-Science-for-Linguists-2022/Outsider-Music-Linguistic-Analysis/blob/main/scripts_%26_analysis/3_data_cleaning_and_exploration.ipynb#Analysis-of-Popular-Music)\n",
    "7. [Breakdown by Most Represented Outsider Musicians](https://nbviewer.org/github/Data-Science-for-Linguists-2022/Outsider-Music-Linguistic-Analysis/blob/main/scripts_%26_analysis/3_data_cleaning_and_exploration.ipynb#Breakdown-by-Most-Represented-Outsider-Musicians)\n",
    "\n",
    "If some output in this Jupyter notebook doesn't appear, check it out in this [nbviewer](https://nbviewer.org/github/Data-Science-for-Linguists-2022/Outsider-Music-Linguistic-Analysis/blob/main/scripts_%26_analysis/3_data_cleaning_and_exploration.ipynb)."
   ]
  },
  {
   "cell_type": "markdown",
   "metadata": {},
   "source": [
    "## Important Information\n",
    "### Prior to the Creation of this Script:\n",
    "I have scraped the list of musicians from Wikipedia using [0_wiki_musicians.py](https://github.com/Data-Science-for-Linguists-2022/Outsider-Music-Linguistic-Analysis/blob/main/scripts_%26_analysis/0_wiki_musicians.py).  I manually cleaned the text file ([0_wiki_musicians.txt](https://github.com/Data-Science-for-Linguists-2022/Outsider-Music-Linguistic-Analysis/blob/main/scripts_%26_analysis/0_wiki_musicians.txt)) to remove double quotations (\"\") and parentheticals like \"(performer),\" \"(musician),\" and \"(singer),\" since it was manageable with just 111 artists.\n",
    "\n",
    "I then retrieved lyrics from these artists from Genius.com using [1_lyricsgenius_requests.ipynb](https://github.com/Data-Science-for-Linguists-2022/Outsider-Music-Linguistic-Analysis/blob/main/scripts_%26_analysis/1_lyricsgenius_requests.ipynb), where 70+ artist-queries successfully returned JSON files.\n",
    "\n",
    "Lastly, I created and pickled the lyrics data frame (or rough_df.pkl, not uploaded in the repo) in the [2_load_json_to_df.ipynb](https://github.com/Data-Science-for-Linguists-2022/Outsider-Music-Linguistic-Analysis/blob/main/scripts_%26_analysis/2_load_json_to_df.ipynb) script, where an additional 8 artists could not be successfully loaded, due to entirely null lyrical entries.  This pickled data frame remains in my local repository.\n",
    "\n",
    "The steps above were broken into multiple scripts to avoid re-running time-intensive queries.\n",
    "\n",
    "Anyone interested in recreating the dataset should start with the `lyricsgenius` requests using the musician list.\n",
    "\n",
    "### Progress Report Info:\n",
    "This script corresponds to the end of [Progress Report 1](https://github.com/Data-Science-for-Linguists-2022/Outsider-Music-Linguistic-Analysis/blob/main/progress_report.md#1st-progress-report) onward."
   ]
  },
  {
   "cell_type": "markdown",
   "metadata": {},
   "source": [
    "## Unpickle the Data\n",
    "The JSON files were loaded into a dataframe in [2_load_json_to_df.ipynb](https://github.com/Data-Science-for-Linguists-2022/Outsider-Music-Linguistic-Analysis/blob/main/scripts_%26_analysis/2_load_json_to_df.ipynb).  Let's load up the pickled dataframe:"
   ]
  },
  {
   "cell_type": "code",
   "execution_count": 1,
   "metadata": {},
   "outputs": [],
   "source": [
    "import pickle\n",
    "f = open('../data/rough_df.pkl', 'rb')\n",
    "lyricsdf = pickle.load(f)\n",
    "f.close()"
   ]
  },
  {
   "cell_type": "code",
   "execution_count": 2,
   "metadata": {},
   "outputs": [
    {
     "data": {
      "text/html": [
       "<div>\n",
       "<style scoped>\n",
       "    .dataframe tbody tr th:only-of-type {\n",
       "        vertical-align: middle;\n",
       "    }\n",
       "\n",
       "    .dataframe tbody tr th {\n",
       "        vertical-align: top;\n",
       "    }\n",
       "\n",
       "    .dataframe thead th {\n",
       "        text-align: right;\n",
       "    }\n",
       "</style>\n",
       "<table border=\"1\" class=\"dataframe\">\n",
       "  <thead>\n",
       "    <tr style=\"text-align: right;\">\n",
       "      <th></th>\n",
       "      <th>artist</th>\n",
       "      <th>title</th>\n",
       "      <th>lyrics</th>\n",
       "    </tr>\n",
       "  </thead>\n",
       "  <tbody>\n",
       "    <tr>\n",
       "      <td>0</td>\n",
       "      <td>Abner Jay</td>\n",
       "      <td>Bring It When You Come</td>\n",
       "      <td>Bring It When You Come Lyrics\\nTerrible things...</td>\n",
       "    </tr>\n",
       "    <tr>\n",
       "      <td>1</td>\n",
       "      <td>Abner Jay</td>\n",
       "      <td>Cocaine</td>\n",
       "      <td>Cocaine Lyrics\\nFolk music is high-class music...</td>\n",
       "    </tr>\n",
       "    <tr>\n",
       "      <td>2</td>\n",
       "      <td>Abner Jay</td>\n",
       "      <td>Cocaine Blues</td>\n",
       "      <td>Cocaine Blues LyricsCocaine, Cocaine\\nRunning ...</td>\n",
       "    </tr>\n",
       "    <tr>\n",
       "      <td>3</td>\n",
       "      <td>Abner Jay</td>\n",
       "      <td>Don’t Mess with Me Baby</td>\n",
       "      <td>Don’t Mess with Me Baby Lyrics\\nTerrible thing...</td>\n",
       "    </tr>\n",
       "    <tr>\n",
       "      <td>4</td>\n",
       "      <td>Abner Jay</td>\n",
       "      <td>I cried</td>\n",
       "      <td>I cried LyricsI, I cried\\nI cried in the ni-ig...</td>\n",
       "    </tr>\n",
       "  </tbody>\n",
       "</table>\n",
       "</div>"
      ],
      "text/plain": [
       "      artist                    title  \\\n",
       "0  Abner Jay   Bring It When You Come   \n",
       "1  Abner Jay                  Cocaine   \n",
       "2  Abner Jay            Cocaine Blues   \n",
       "3  Abner Jay  Don’t Mess with Me Baby   \n",
       "4  Abner Jay                  I cried   \n",
       "\n",
       "                                              lyrics  \n",
       "0  Bring It When You Come Lyrics\\nTerrible things...  \n",
       "1  Cocaine Lyrics\\nFolk music is high-class music...  \n",
       "2  Cocaine Blues LyricsCocaine, Cocaine\\nRunning ...  \n",
       "3  Don’t Mess with Me Baby Lyrics\\nTerrible thing...  \n",
       "4  I cried LyricsI, I cried\\nI cried in the ni-ig...  "
      ]
     },
     "execution_count": 2,
     "metadata": {},
     "output_type": "execute_result"
    }
   ],
   "source": [
    "lyricsdf.head()"
   ]
  },
  {
   "cell_type": "markdown",
   "metadata": {},
   "source": [
    "## Initial Data Exploration\n",
    "**Before cleaning**, I'd like to see the status of the data: \n",
    "- how many artists are there,\n",
    "- how many songs,\n",
    "- how many lyrics are empty strings,\n",
    "- how many are duplicates,\n",
    "- and what is the artist distribution like?"
   ]
  },
  {
   "cell_type": "code",
   "execution_count": 3,
   "metadata": {},
   "outputs": [],
   "source": [
    "import nltk\n",
    "import pandas as pd\n",
    "import numpy as np\n",
    "import matplotlib.pyplot as plt\n",
    "import re"
   ]
  },
  {
   "cell_type": "code",
   "execution_count": 4,
   "metadata": {},
   "outputs": [
    {
     "data": {
      "text/html": [
       "<div>\n",
       "<style scoped>\n",
       "    .dataframe tbody tr th:only-of-type {\n",
       "        vertical-align: middle;\n",
       "    }\n",
       "\n",
       "    .dataframe tbody tr th {\n",
       "        vertical-align: top;\n",
       "    }\n",
       "\n",
       "    .dataframe thead th {\n",
       "        text-align: right;\n",
       "    }\n",
       "</style>\n",
       "<table border=\"1\" class=\"dataframe\">\n",
       "  <thead>\n",
       "    <tr style=\"text-align: right;\">\n",
       "      <th></th>\n",
       "      <th>artist</th>\n",
       "      <th>title</th>\n",
       "      <th>lyrics</th>\n",
       "    </tr>\n",
       "  </thead>\n",
       "  <tbody>\n",
       "    <tr>\n",
       "      <td>count</td>\n",
       "      <td>3388</td>\n",
       "      <td>3388</td>\n",
       "      <td>3388</td>\n",
       "    </tr>\n",
       "    <tr>\n",
       "      <td>unique</td>\n",
       "      <td>63</td>\n",
       "      <td>3359</td>\n",
       "      <td>3187</td>\n",
       "    </tr>\n",
       "    <tr>\n",
       "      <td>top</td>\n",
       "      <td>Wesley Willis</td>\n",
       "      <td>Lullaby</td>\n",
       "      <td></td>\n",
       "    </tr>\n",
       "    <tr>\n",
       "      <td>freq</td>\n",
       "      <td>561</td>\n",
       "      <td>3</td>\n",
       "      <td>202</td>\n",
       "    </tr>\n",
       "  </tbody>\n",
       "</table>\n",
       "</div>"
      ],
      "text/plain": [
       "               artist    title lyrics\n",
       "count            3388     3388   3388\n",
       "unique             63     3359   3187\n",
       "top     Wesley Willis  Lullaby       \n",
       "freq              561        3    202"
      ]
     },
     "execution_count": 4,
     "metadata": {},
     "output_type": "execute_result"
    }
   ],
   "source": [
    "lyricsdf.describe()"
   ]
  },
  {
   "cell_type": "markdown",
   "metadata": {},
   "source": [
    "It looks like there are 3,388 lyric entries, with 63 unique artists.\n",
    "\n",
    "201 lyric entries are not unique.  It's very likely that these represent missing lyrics, which should be excluded from the dataset."
   ]
  },
  {
   "cell_type": "code",
   "execution_count": 5,
   "metadata": {},
   "outputs": [
    {
     "data": {
      "text/plain": [
       "False    3186\n",
       "True      202\n",
       "Name: lyrics, dtype: int64"
      ]
     },
     "execution_count": 5,
     "metadata": {},
     "output_type": "execute_result"
    }
   ],
   "source": [
    "# Find duplicates\n",
    "lyricsdf.lyrics.duplicated(keep=False).value_counts()"
   ]
  },
  {
   "cell_type": "code",
   "execution_count": 6,
   "metadata": {},
   "outputs": [
    {
     "data": {
      "text/plain": [
       "202"
      ]
     },
     "execution_count": 6,
     "metadata": {},
     "output_type": "execute_result"
    }
   ],
   "source": [
    "# How many are empty strings?\n",
    "len(lyricsdf[lyricsdf.lyrics == \"\"])"
   ]
  },
  {
   "cell_type": "markdown",
   "metadata": {},
   "source": [
    "All of the duplicate lyrics entries (202 of them) are empty strings."
   ]
  },
  {
   "cell_type": "code",
   "execution_count": 7,
   "metadata": {},
   "outputs": [
    {
     "data": {
      "text/html": [
       "<div>\n",
       "<style scoped>\n",
       "    .dataframe tbody tr th:only-of-type {\n",
       "        vertical-align: middle;\n",
       "    }\n",
       "\n",
       "    .dataframe tbody tr th {\n",
       "        vertical-align: top;\n",
       "    }\n",
       "\n",
       "    .dataframe thead th {\n",
       "        text-align: right;\n",
       "    }\n",
       "</style>\n",
       "<table border=\"1\" class=\"dataframe\">\n",
       "  <thead>\n",
       "    <tr style=\"text-align: right;\">\n",
       "      <th></th>\n",
       "      <th>artist</th>\n",
       "      <th>title</th>\n",
       "      <th>lyrics</th>\n",
       "    </tr>\n",
       "  </thead>\n",
       "  <tbody>\n",
       "    <tr>\n",
       "      <td>count</td>\n",
       "      <td>3388</td>\n",
       "      <td>3388</td>\n",
       "      <td>3388</td>\n",
       "    </tr>\n",
       "    <tr>\n",
       "      <td>unique</td>\n",
       "      <td>63</td>\n",
       "      <td>3359</td>\n",
       "      <td>3187</td>\n",
       "    </tr>\n",
       "    <tr>\n",
       "      <td>top</td>\n",
       "      <td>Wesley Willis</td>\n",
       "      <td>Lullaby</td>\n",
       "      <td></td>\n",
       "    </tr>\n",
       "    <tr>\n",
       "      <td>freq</td>\n",
       "      <td>561</td>\n",
       "      <td>3</td>\n",
       "      <td>202</td>\n",
       "    </tr>\n",
       "  </tbody>\n",
       "</table>\n",
       "</div>"
      ],
      "text/plain": [
       "               artist    title lyrics\n",
       "count            3388     3388   3388\n",
       "unique             63     3359   3187\n",
       "top     Wesley Willis  Lullaby       \n",
       "freq              561        3    202"
      ]
     },
     "execution_count": 7,
     "metadata": {},
     "output_type": "execute_result"
    }
   ],
   "source": [
    "lyricsdf.describe()"
   ]
  },
  {
   "cell_type": "code",
   "execution_count": 8,
   "metadata": {},
   "outputs": [
    {
     "data": {
      "text/plain": [
       "Wesley Willis        561\n",
       "Jandek               351\n",
       "Daniel Johnston      316\n",
       "Viper                261\n",
       "Brian Wilson         237\n",
       "                    ... \n",
       "Paul Hawkins           1\n",
       "Varg Vikernes          1\n",
       "Mrs. Miller            1\n",
       "Sky Saxon              1\n",
       "Damião Experiença      1\n",
       "Name: artist, Length: 63, dtype: int64"
      ]
     },
     "execution_count": 8,
     "metadata": {},
     "output_type": "execute_result"
    }
   ],
   "source": [
    "lyricsdf.artist.value_counts()"
   ]
  },
  {
   "cell_type": "markdown",
   "metadata": {},
   "source": [
    "A good portion of the data is made up of Wesley Willis music (561 songs), while it appears that many artists may only have 1 or 2 songs in the list.  This skew may prove problematic for the ensuing analysis.  Note that the first 6-7 artists have similar magnitudes of lyrics represented in the dataset (in the 100s), so there is a chance the analysis will be equally representative of those musicians, while leaving less represented musicians largely unrepresented in the final results.\n",
    "\n",
    "SPOILER: This distribution is, indeed, problematic.  Wesley Willis's idiosyncracies only exacerbate the distribution issue, since most of his lyrics follow the same format, include a lot of repetition, and use a few less common words extremely frequently."
   ]
  },
  {
   "cell_type": "code",
   "execution_count": 9,
   "metadata": {},
   "outputs": [
    {
     "data": {
      "image/png": "[encoded data removed]",
      "text/plain": [
       "<Figure size 432x288 with 1 Axes>"
      ]
     },
     "metadata": {
      "needs_background": "light"
     },
     "output_type": "display_data"
    }
   ],
   "source": [
    "lyricsdf.artist.value_counts().plot(kind = \"box\", rot=0, title = \"Outsider Music Artist Distribution Before Cleaning\")\n",
    "plt.savefig('../images/outsider_artist_boxplt_dist.png')"
   ]
  },
  {
   "cell_type": "markdown",
   "metadata": {},
   "source": [
    "This box plot visualizes the current artist distribution. There are many artists with only 1 or so songs in the data, as shown by the incredibly cramped 2nd quartile.  But there are also a handful of outliers with hundreds of songs present in the data."
   ]
  },
  {
   "cell_type": "markdown",
   "metadata": {},
   "source": [
    "## Data Cleaning"
   ]
  },
  {
   "cell_type": "markdown",
   "metadata": {},
   "source": [
    "To begin, there are many artifacts remaining from the Genius lyrics website.\n",
    "- \"*Song Title* Lyrics\" at the beginning of all lyric data\n",
    "- Any number of digits followed by \"Embed\" at the end of all lyric data\n",
    "- \"Transcription in progress...\" instead of lyrics\n",
    "\n",
    "Indexing will be fixed, and formatting will also be cleaned.  \"\\n\" will be stripped from the ends of the lyric text, only after removing \"*Song Title* Lyrics\" since the number of \"\\n\" after this artifact is not consistent.  \"\\n\" within the lyric body will be replaced with spaces (\" \").\n",
    "\n",
    "First, we'll remove \"*Song Title* Lyrics\":"
   ]
  },
  {
   "cell_type": "code",
   "execution_count": 10,
   "metadata": {},
   "outputs": [
    {
     "data": {
      "text/html": [
       "<div>\n",
       "<style scoped>\n",
       "    .dataframe tbody tr th:only-of-type {\n",
       "        vertical-align: middle;\n",
       "    }\n",
       "\n",
       "    .dataframe tbody tr th {\n",
       "        vertical-align: top;\n",
       "    }\n",
       "\n",
       "    .dataframe thead th {\n",
       "        text-align: right;\n",
       "    }\n",
       "</style>\n",
       "<table border=\"1\" class=\"dataframe\">\n",
       "  <thead>\n",
       "    <tr style=\"text-align: right;\">\n",
       "      <th></th>\n",
       "      <th>artist</th>\n",
       "      <th>title</th>\n",
       "      <th>lyrics</th>\n",
       "    </tr>\n",
       "  </thead>\n",
       "  <tbody>\n",
       "    <tr>\n",
       "      <td>0</td>\n",
       "      <td>Abner Jay</td>\n",
       "      <td>Bring It When You Come</td>\n",
       "      <td>Bring It When You Come Lyrics\\nTerrible things...</td>\n",
       "    </tr>\n",
       "    <tr>\n",
       "      <td>1</td>\n",
       "      <td>Abner Jay</td>\n",
       "      <td>Cocaine</td>\n",
       "      <td>Cocaine Lyrics\\nFolk music is high-class music...</td>\n",
       "    </tr>\n",
       "    <tr>\n",
       "      <td>2</td>\n",
       "      <td>Abner Jay</td>\n",
       "      <td>Cocaine Blues</td>\n",
       "      <td>Cocaine Blues LyricsCocaine, Cocaine\\nRunning ...</td>\n",
       "    </tr>\n",
       "    <tr>\n",
       "      <td>3</td>\n",
       "      <td>Abner Jay</td>\n",
       "      <td>Don’t Mess with Me Baby</td>\n",
       "      <td>Don’t Mess with Me Baby Lyrics\\nTerrible thing...</td>\n",
       "    </tr>\n",
       "    <tr>\n",
       "      <td>4</td>\n",
       "      <td>Abner Jay</td>\n",
       "      <td>I cried</td>\n",
       "      <td>I cried LyricsI, I cried\\nI cried in the ni-ig...</td>\n",
       "    </tr>\n",
       "  </tbody>\n",
       "</table>\n",
       "</div>"
      ],
      "text/plain": [
       "      artist                    title  \\\n",
       "0  Abner Jay   Bring It When You Come   \n",
       "1  Abner Jay                  Cocaine   \n",
       "2  Abner Jay            Cocaine Blues   \n",
       "3  Abner Jay  Don’t Mess with Me Baby   \n",
       "4  Abner Jay                  I cried   \n",
       "\n",
       "                                              lyrics  \n",
       "0  Bring It When You Come Lyrics\\nTerrible things...  \n",
       "1  Cocaine Lyrics\\nFolk music is high-class music...  \n",
       "2  Cocaine Blues LyricsCocaine, Cocaine\\nRunning ...  \n",
       "3  Don’t Mess with Me Baby Lyrics\\nTerrible thing...  \n",
       "4  I cried LyricsI, I cried\\nI cried in the ni-ig...  "
      ]
     },
     "execution_count": 10,
     "metadata": {},
     "output_type": "execute_result"
    }
   ],
   "source": [
    "# see the lyrics column\n",
    "lyricsdf.head()"
   ]
  },
  {
   "cell_type": "code",
   "execution_count": 11,
   "metadata": {},
   "outputs": [],
   "source": [
    "# cycles through rows, removes the *Song Title* Lyrics from beginning\n",
    "def removeTitle(df):\n",
    "    i = 0\n",
    "    while i != len(df):\n",
    "        row = df.iloc[i]\n",
    "        toRemove = row.title + \" Lyrics\"\n",
    "        row.lyrics = row.lyrics.replace(toRemove, \"\")\n",
    "        i = i+1"
   ]
  },
  {
   "cell_type": "code",
   "execution_count": 12,
   "metadata": {},
   "outputs": [
    {
     "data": {
      "text/html": [
       "<div>\n",
       "<style scoped>\n",
       "    .dataframe tbody tr th:only-of-type {\n",
       "        vertical-align: middle;\n",
       "    }\n",
       "\n",
       "    .dataframe tbody tr th {\n",
       "        vertical-align: top;\n",
       "    }\n",
       "\n",
       "    .dataframe thead th {\n",
       "        text-align: right;\n",
       "    }\n",
       "</style>\n",
       "<table border=\"1\" class=\"dataframe\">\n",
       "  <thead>\n",
       "    <tr style=\"text-align: right;\">\n",
       "      <th></th>\n",
       "      <th>artist</th>\n",
       "      <th>title</th>\n",
       "      <th>lyrics</th>\n",
       "    </tr>\n",
       "  </thead>\n",
       "  <tbody>\n",
       "    <tr>\n",
       "      <td>0</td>\n",
       "      <td>Abner Jay</td>\n",
       "      <td>Bring It When You Come</td>\n",
       "      <td>\\nTerrible things, always happening\\nJust like...</td>\n",
       "    </tr>\n",
       "    <tr>\n",
       "      <td>1</td>\n",
       "      <td>Abner Jay</td>\n",
       "      <td>Cocaine</td>\n",
       "      <td>\\nFolk music is high-class music. There's a lo...</td>\n",
       "    </tr>\n",
       "    <tr>\n",
       "      <td>2</td>\n",
       "      <td>Abner Jay</td>\n",
       "      <td>Cocaine Blues</td>\n",
       "      <td>Cocaine, Cocaine\\nRunning round my heart\\nAnd ...</td>\n",
       "    </tr>\n",
       "    <tr>\n",
       "      <td>3</td>\n",
       "      <td>Abner Jay</td>\n",
       "      <td>Don’t Mess with Me Baby</td>\n",
       "      <td>\\nTerrible things; that's what's getting all t...</td>\n",
       "    </tr>\n",
       "    <tr>\n",
       "      <td>4</td>\n",
       "      <td>Abner Jay</td>\n",
       "      <td>I cried</td>\n",
       "      <td>I, I cried\\nI cried in the ni-ight\\nOh please ...</td>\n",
       "    </tr>\n",
       "  </tbody>\n",
       "</table>\n",
       "</div>"
      ],
      "text/plain": [
       "      artist                    title  \\\n",
       "0  Abner Jay   Bring It When You Come   \n",
       "1  Abner Jay                  Cocaine   \n",
       "2  Abner Jay            Cocaine Blues   \n",
       "3  Abner Jay  Don’t Mess with Me Baby   \n",
       "4  Abner Jay                  I cried   \n",
       "\n",
       "                                              lyrics  \n",
       "0  \\nTerrible things, always happening\\nJust like...  \n",
       "1  \\nFolk music is high-class music. There's a lo...  \n",
       "2  Cocaine, Cocaine\\nRunning round my heart\\nAnd ...  \n",
       "3  \\nTerrible things; that's what's getting all t...  \n",
       "4  I, I cried\\nI cried in the ni-ight\\nOh please ...  "
      ]
     },
     "execution_count": 12,
     "metadata": {},
     "output_type": "execute_result"
    }
   ],
   "source": [
    "removeTitle(lyricsdf)\n",
    "lyricsdf.head()"
   ]
  },
  {
   "cell_type": "markdown",
   "metadata": {},
   "source": [
    "Then we'll strip whitespace from the beginning and end of the lyric data."
   ]
  },
  {
   "cell_type": "code",
   "execution_count": 13,
   "metadata": {},
   "outputs": [],
   "source": [
    "# strip whitespace from the beginning and end\n",
    "lyricsdf.lyrics = lyricsdf.lyrics.map(lambda x: x.strip(\"\\n\"))"
   ]
  },
  {
   "cell_type": "code",
   "execution_count": 14,
   "metadata": {},
   "outputs": [
    {
     "data": {
      "text/html": [
       "<div>\n",
       "<style scoped>\n",
       "    .dataframe tbody tr th:only-of-type {\n",
       "        vertical-align: middle;\n",
       "    }\n",
       "\n",
       "    .dataframe tbody tr th {\n",
       "        vertical-align: top;\n",
       "    }\n",
       "\n",
       "    .dataframe thead th {\n",
       "        text-align: right;\n",
       "    }\n",
       "</style>\n",
       "<table border=\"1\" class=\"dataframe\">\n",
       "  <thead>\n",
       "    <tr style=\"text-align: right;\">\n",
       "      <th></th>\n",
       "      <th>artist</th>\n",
       "      <th>title</th>\n",
       "      <th>lyrics</th>\n",
       "    </tr>\n",
       "  </thead>\n",
       "  <tbody>\n",
       "    <tr>\n",
       "      <td>0</td>\n",
       "      <td>Abner Jay</td>\n",
       "      <td>Bring It When You Come</td>\n",
       "      <td>Terrible things, always happening\\nJust like y...</td>\n",
       "    </tr>\n",
       "    <tr>\n",
       "      <td>1</td>\n",
       "      <td>Abner Jay</td>\n",
       "      <td>Cocaine</td>\n",
       "      <td>Folk music is high-class music. There's a lott...</td>\n",
       "    </tr>\n",
       "    <tr>\n",
       "      <td>2</td>\n",
       "      <td>Abner Jay</td>\n",
       "      <td>Cocaine Blues</td>\n",
       "      <td>Cocaine, Cocaine\\nRunning round my heart\\nAnd ...</td>\n",
       "    </tr>\n",
       "    <tr>\n",
       "      <td>3</td>\n",
       "      <td>Abner Jay</td>\n",
       "      <td>Don’t Mess with Me Baby</td>\n",
       "      <td>Terrible things; that's what's getting all the...</td>\n",
       "    </tr>\n",
       "    <tr>\n",
       "      <td>4</td>\n",
       "      <td>Abner Jay</td>\n",
       "      <td>I cried</td>\n",
       "      <td>I, I cried\\nI cried in the ni-ight\\nOh please ...</td>\n",
       "    </tr>\n",
       "  </tbody>\n",
       "</table>\n",
       "</div>"
      ],
      "text/plain": [
       "      artist                    title  \\\n",
       "0  Abner Jay   Bring It When You Come   \n",
       "1  Abner Jay                  Cocaine   \n",
       "2  Abner Jay            Cocaine Blues   \n",
       "3  Abner Jay  Don’t Mess with Me Baby   \n",
       "4  Abner Jay                  I cried   \n",
       "\n",
       "                                              lyrics  \n",
       "0  Terrible things, always happening\\nJust like y...  \n",
       "1  Folk music is high-class music. There's a lott...  \n",
       "2  Cocaine, Cocaine\\nRunning round my heart\\nAnd ...  \n",
       "3  Terrible things; that's what's getting all the...  \n",
       "4  I, I cried\\nI cried in the ni-ight\\nOh please ...  "
      ]
     },
     "execution_count": 14,
     "metadata": {},
     "output_type": "execute_result"
    }
   ],
   "source": [
    "lyricsdf.head()"
   ]
  },
  {
   "cell_type": "markdown",
   "metadata": {},
   "source": [
    ".loc[] appears to use indexes that reset for individual artists.  As shown below, .loc[46] will bring of the 46th song of **all artists** with 46 songs or more.  This feature probably won't be more useful than it will be confusing, so to simplify the indexing, we'll reset the indexes."
   ]
  },
  {
   "cell_type": "code",
   "execution_count": 15,
   "metadata": {
    "scrolled": true
   },
   "outputs": [
    {
     "data": {
      "text/html": [
       "<div>\n",
       "<style scoped>\n",
       "    .dataframe tbody tr th:only-of-type {\n",
       "        vertical-align: middle;\n",
       "    }\n",
       "\n",
       "    .dataframe tbody tr th {\n",
       "        vertical-align: top;\n",
       "    }\n",
       "\n",
       "    .dataframe thead th {\n",
       "        text-align: right;\n",
       "    }\n",
       "</style>\n",
       "<table border=\"1\" class=\"dataframe\">\n",
       "  <thead>\n",
       "    <tr style=\"text-align: right;\">\n",
       "      <th></th>\n",
       "      <th>artist</th>\n",
       "      <th>title</th>\n",
       "      <th>lyrics</th>\n",
       "    </tr>\n",
       "  </thead>\n",
       "  <tbody>\n",
       "    <tr>\n",
       "      <td>46</td>\n",
       "      <td>Ariel Pink</td>\n",
       "      <td>Function</td>\n",
       "      <td>What's the function of your soul\\nWhat's the f...</td>\n",
       "    </tr>\n",
       "    <tr>\n",
       "      <td>46</td>\n",
       "      <td>Brian Wilson</td>\n",
       "      <td>Dream Angel</td>\n",
       "      <td>I'm holding you as you sleep\\nI get this feeli...</td>\n",
       "    </tr>\n",
       "    <tr>\n",
       "      <td>46</td>\n",
       "      <td>Daniel Johnston</td>\n",
       "      <td>Despair Came Knocking</td>\n",
       "      <td>Despair came knocking at my door\\nAnd I let he...</td>\n",
       "    </tr>\n",
       "    <tr>\n",
       "      <td>46</td>\n",
       "      <td>Gary Wilson</td>\n",
       "      <td>Lonely Holiday (Intro)</td>\n",
       "      <td>Holiday\\nA holiday\\nIt's a holidayEmbed</td>\n",
       "    </tr>\n",
       "    <tr>\n",
       "      <td>46</td>\n",
       "      <td>Hasil Adkins</td>\n",
       "      <td>Woke Up This Morning</td>\n",
       "      <td>I got up this morning\\nYeah when I woke up thi...</td>\n",
       "    </tr>\n",
       "  </tbody>\n",
       "</table>\n",
       "</div>"
      ],
      "text/plain": [
       "             artist                   title  \\\n",
       "46       Ariel Pink                Function   \n",
       "46     Brian Wilson             Dream Angel   \n",
       "46  Daniel Johnston   Despair Came Knocking   \n",
       "46      Gary Wilson  Lonely Holiday (Intro)   \n",
       "46     Hasil Adkins    Woke Up This Morning   \n",
       "\n",
       "                                               lyrics  \n",
       "46  What's the function of your soul\\nWhat's the f...  \n",
       "46  I'm holding you as you sleep\\nI get this feeli...  \n",
       "46  Despair came knocking at my door\\nAnd I let he...  \n",
       "46            Holiday\\nA holiday\\nIt's a holidayEmbed  \n",
       "46  I got up this morning\\nYeah when I woke up thi...  "
      ]
     },
     "execution_count": 15,
     "metadata": {},
     "output_type": "execute_result"
    }
   ],
   "source": [
    "lyricsdf.loc[46].head()"
   ]
  },
  {
   "cell_type": "code",
   "execution_count": 16,
   "metadata": {},
   "outputs": [
    {
     "data": {
      "text/html": [
       "<div>\n",
       "<style scoped>\n",
       "    .dataframe tbody tr th:only-of-type {\n",
       "        vertical-align: middle;\n",
       "    }\n",
       "\n",
       "    .dataframe tbody tr th {\n",
       "        vertical-align: top;\n",
       "    }\n",
       "\n",
       "    .dataframe thead th {\n",
       "        text-align: right;\n",
       "    }\n",
       "</style>\n",
       "<table border=\"1\" class=\"dataframe\">\n",
       "  <thead>\n",
       "    <tr style=\"text-align: right;\">\n",
       "      <th></th>\n",
       "      <th>artist</th>\n",
       "      <th>title</th>\n",
       "      <th>lyrics</th>\n",
       "    </tr>\n",
       "  </thead>\n",
       "  <tbody>\n",
       "    <tr>\n",
       "      <td>0</td>\n",
       "      <td>Abner Jay</td>\n",
       "      <td>Bring It When You Come</td>\n",
       "      <td>Terrible things, always happening\\nJust like y...</td>\n",
       "    </tr>\n",
       "    <tr>\n",
       "      <td>1</td>\n",
       "      <td>Abner Jay</td>\n",
       "      <td>Cocaine</td>\n",
       "      <td>Folk music is high-class music. There's a lott...</td>\n",
       "    </tr>\n",
       "    <tr>\n",
       "      <td>2</td>\n",
       "      <td>Abner Jay</td>\n",
       "      <td>Cocaine Blues</td>\n",
       "      <td>Cocaine, Cocaine\\nRunning round my heart\\nAnd ...</td>\n",
       "    </tr>\n",
       "    <tr>\n",
       "      <td>3</td>\n",
       "      <td>Abner Jay</td>\n",
       "      <td>Don’t Mess with Me Baby</td>\n",
       "      <td>Terrible things; that's what's getting all the...</td>\n",
       "    </tr>\n",
       "    <tr>\n",
       "      <td>4</td>\n",
       "      <td>Abner Jay</td>\n",
       "      <td>I cried</td>\n",
       "      <td>I, I cried\\nI cried in the ni-ight\\nOh please ...</td>\n",
       "    </tr>\n",
       "  </tbody>\n",
       "</table>\n",
       "</div>"
      ],
      "text/plain": [
       "      artist                    title  \\\n",
       "0  Abner Jay   Bring It When You Come   \n",
       "1  Abner Jay                  Cocaine   \n",
       "2  Abner Jay            Cocaine Blues   \n",
       "3  Abner Jay  Don’t Mess with Me Baby   \n",
       "4  Abner Jay                  I cried   \n",
       "\n",
       "                                              lyrics  \n",
       "0  Terrible things, always happening\\nJust like y...  \n",
       "1  Folk music is high-class music. There's a lott...  \n",
       "2  Cocaine, Cocaine\\nRunning round my heart\\nAnd ...  \n",
       "3  Terrible things; that's what's getting all the...  \n",
       "4  I, I cried\\nI cried in the ni-ight\\nOh please ...  "
      ]
     },
     "execution_count": 16,
     "metadata": {},
     "output_type": "execute_result"
    }
   ],
   "source": [
    "# This makes sure everything has a unique index\n",
    "lyricsdf = lyricsdf.reset_index()\n",
    "lyricsdf = lyricsdf[['artist', 'title', 'lyrics']]\n",
    "lyricsdf.head()"
   ]
  },
  {
   "cell_type": "code",
   "execution_count": 17,
   "metadata": {},
   "outputs": [
    {
     "data": {
      "text/html": [
       "<div>\n",
       "<style scoped>\n",
       "    .dataframe tbody tr th:only-of-type {\n",
       "        vertical-align: middle;\n",
       "    }\n",
       "\n",
       "    .dataframe tbody tr th {\n",
       "        vertical-align: top;\n",
       "    }\n",
       "\n",
       "    .dataframe thead th {\n",
       "        text-align: right;\n",
       "    }\n",
       "</style>\n",
       "<table border=\"1\" class=\"dataframe\">\n",
       "  <thead>\n",
       "    <tr style=\"text-align: right;\">\n",
       "      <th></th>\n",
       "      <th>artist</th>\n",
       "      <th>title</th>\n",
       "      <th>lyrics</th>\n",
       "    </tr>\n",
       "  </thead>\n",
       "  <tbody>\n",
       "    <tr>\n",
       "      <td>3383</td>\n",
       "      <td>William Shatner</td>\n",
       "      <td>Together</td>\n",
       "      <td>He says Phoenix\\nPegasus\\nGrecian urn\\nMidwest...</td>\n",
       "    </tr>\n",
       "    <tr>\n",
       "      <td>3384</td>\n",
       "      <td>William Shatner</td>\n",
       "      <td>Twilight Zone</td>\n",
       "      <td>(Somewhere in a lonely hotel room\\nThere's a g...</td>\n",
       "    </tr>\n",
       "    <tr>\n",
       "      <td>3385</td>\n",
       "      <td>William Shatner</td>\n",
       "      <td>Walking on the Moon</td>\n",
       "      <td>Giant steps are what you take\\nI hope my legs ...</td>\n",
       "    </tr>\n",
       "    <tr>\n",
       "      <td>3386</td>\n",
       "      <td>William Shatner</td>\n",
       "      <td>What Have You Done</td>\n",
       "      <td>She was underwater\\nIn the shadows\\nWas it the...</td>\n",
       "    </tr>\n",
       "    <tr>\n",
       "      <td>3387</td>\n",
       "      <td>William Shatner</td>\n",
       "      <td>You’ll Have Time</td>\n",
       "      <td>Live life, live life like you're gonna die\\nBe...</td>\n",
       "    </tr>\n",
       "  </tbody>\n",
       "</table>\n",
       "</div>"
      ],
      "text/plain": [
       "               artist                title  \\\n",
       "3383  William Shatner             Together   \n",
       "3384  William Shatner        Twilight Zone   \n",
       "3385  William Shatner  Walking on the Moon   \n",
       "3386  William Shatner   What Have You Done   \n",
       "3387  William Shatner     You’ll Have Time   \n",
       "\n",
       "                                                 lyrics  \n",
       "3383  He says Phoenix\\nPegasus\\nGrecian urn\\nMidwest...  \n",
       "3384  (Somewhere in a lonely hotel room\\nThere's a g...  \n",
       "3385  Giant steps are what you take\\nI hope my legs ...  \n",
       "3386  She was underwater\\nIn the shadows\\nWas it the...  \n",
       "3387  Live life, live life like you're gonna die\\nBe...  "
      ]
     },
     "execution_count": 17,
     "metadata": {},
     "output_type": "execute_result"
    }
   ],
   "source": [
    "lyricsdf.tail()"
   ]
  },
  {
   "cell_type": "markdown",
   "metadata": {},
   "source": [
    "Next, we need to fix the \"Embed\" issue:"
   ]
  },
  {
   "cell_type": "code",
   "execution_count": 18,
   "metadata": {},
   "outputs": [
    {
     "data": {
      "text/plain": [
       "' airplane crash\\nCar wreck, a cap in your ass2Embed'"
      ]
     },
     "execution_count": 18,
     "metadata": {},
     "output_type": "execute_result"
    }
   ],
   "source": [
    "# William Shatner \"You'll Have Time\" ends in \"2Embed\"\n",
    "lyricsdf.iloc[-1].lyrics[-50:]"
   ]
  },
  {
   "cell_type": "code",
   "execution_count": 19,
   "metadata": {},
   "outputs": [
    {
     "name": "stdout",
     "output_type": "stream",
     "text": [
      "man at warEmbed\n",
      "guilty...2Embed\n",
      "the stars1Embed\n",
      "lse alarm)Embed\n",
      " your eyesEmbed\n"
     ]
    }
   ],
   "source": [
    "# Randomly sample 5 song endings, check what \"Embed\"s look like\n",
    "embedtest = lyricsdf.lyrics.sample(5)\n",
    "for lyrics in embedtest:\n",
    "    print(lyrics[-15:])"
   ]
  },
  {
   "cell_type": "markdown",
   "metadata": {},
   "source": [
    "A few features of the \"Embed\" issue at the tail of the lyrics encountered through sampling:\n",
    "- No space before \"Embed\"\n",
    "- Occasionally (but rarely), there is a digit before (e.g., \"1Embed\")\n",
    "    - After checking some lyrics on the Genius site, I found that this number corresponds to the \"PYONG\"s on the lyrics.  This is sort of like a favoriting/sharing function, but for now, it's sort of unimportant.\n",
    "    \n",
    "Both the \"Embed\" and the preceding digit, if present, should be removed.  There is some risk that removing the digit will delete a digit at the end of the lyrics, but I judge that, in this case, losing a digit is preferable to including extraneous data.\n"
   ]
  },
  {
   "cell_type": "code",
   "execution_count": 20,
   "metadata": {},
   "outputs": [],
   "source": [
    "# Remove the nEmbed using a regex\n",
    "def removeEmbed(df):\n",
    "    i = 0\n",
    "    while i != len(df):\n",
    "        row = df.iloc[i]\n",
    "        embed = row.lyrics\n",
    "        row.lyrics = re.sub(r'\\d*Embed', \"\", embed)\n",
    "        #print(row.lyrics[-50:])\n",
    "        i = i+1"
   ]
  },
  {
   "cell_type": "code",
   "execution_count": 21,
   "metadata": {},
   "outputs": [],
   "source": [
    "removeEmbed(lyricsdf)"
   ]
  },
  {
   "cell_type": "code",
   "execution_count": 22,
   "metadata": {},
   "outputs": [
    {
     "name": "stdout",
     "output_type": "stream",
     "text": [
      "st of champions\n",
      "\n",
      "Fade into gray\n",
      "ot my head down\n",
      "ry lasts longer\n",
      " cat in America\n"
     ]
    }
   ],
   "source": [
    "# Randomly sample 5 song endings, check that \"Embed\"s are gone\n",
    "embedtest = lyricsdf.lyrics.sample(5)\n",
    "for lyrics in embedtest:\n",
    "    print(lyrics[-15:])"
   ]
  },
  {
   "cell_type": "markdown",
   "metadata": {},
   "source": [
    "Let's set \"Transcription in progress ...\" lyric entries to empty strings so that they may be excluded from the final dataset in its cleaned form."
   ]
  },
  {
   "cell_type": "code",
   "execution_count": 23,
   "metadata": {},
   "outputs": [
    {
     "name": "stdout",
     "output_type": "stream",
     "text": [
      "['Transcription']\n",
      "['Transcription']\n",
      "['Transcription']\n",
      "['Transcription']\n",
      "['Transcription']\n",
      "['Transcription']\n"
     ]
    }
   ],
   "source": [
    "i=0\n",
    "while i != len(lyricsdf):\n",
    "    x = re.findall(r\"transcription\", lyricsdf.lyrics[i], re.IGNORECASE)\n",
    "    if x: print(x)\n",
    "    i = i+1"
   ]
  },
  {
   "cell_type": "code",
   "execution_count": 24,
   "metadata": {},
   "outputs": [],
   "source": [
    "# There are 6! and they all appear to say \"Transcription in progress\"\n",
    "i=0\n",
    "transcript_del = []\n",
    "while i != len(lyricsdf):\n",
    "    if \"Transcription in progress\" in lyricsdf.iloc[i].lyrics:\n",
    "        transcript_del.append(i)\n",
    "    i= i+1"
   ]
  },
  {
   "cell_type": "code",
   "execution_count": 25,
   "metadata": {},
   "outputs": [
    {
     "name": "stdout",
     "output_type": "stream",
     "text": [
      "Transcription in progress by Viper Crackposting admins\n",
      "Transcription in progress by Viper Crackposting admins\n",
      "Transcription in progress by Viper Crackposting admins\n",
      "Transcription in progress by Viper Crackposting admins\n",
      "Transcription in progress by Viper Crackposting admins\n",
      "Transcription in progress by Viper Crackposting admins\n"
     ]
    }
   ],
   "source": [
    "for i in transcript_del:\n",
    "    print(lyricsdf.iloc[i].lyrics)"
   ]
  },
  {
   "cell_type": "code",
   "execution_count": 26,
   "metadata": {},
   "outputs": [],
   "source": [
    "# They're all the same string, so:\n",
    "lyricsdf.lyrics = lyricsdf.lyrics.replace(\"Transcription in progress by Viper Crackposting admins\", None)"
   ]
  },
  {
   "cell_type": "code",
   "execution_count": 27,
   "metadata": {},
   "outputs": [],
   "source": [
    "i=0\n",
    "while i != len(lyricsdf):\n",
    "    x = re.findall(r\"Transcription\", lyricsdf.lyrics[i])\n",
    "    if x: print(x)\n",
    "    i = i+1"
   ]
  },
  {
   "cell_type": "code",
   "execution_count": 28,
   "metadata": {},
   "outputs": [
    {
     "data": {
      "text/html": [
       "<div>\n",
       "<style scoped>\n",
       "    .dataframe tbody tr th:only-of-type {\n",
       "        vertical-align: middle;\n",
       "    }\n",
       "\n",
       "    .dataframe tbody tr th {\n",
       "        vertical-align: top;\n",
       "    }\n",
       "\n",
       "    .dataframe thead th {\n",
       "        text-align: right;\n",
       "    }\n",
       "</style>\n",
       "<table border=\"1\" class=\"dataframe\">\n",
       "  <thead>\n",
       "    <tr style=\"text-align: right;\">\n",
       "      <th></th>\n",
       "      <th>artist</th>\n",
       "      <th>title</th>\n",
       "      <th>lyrics</th>\n",
       "      <th>lyrics_lines</th>\n",
       "    </tr>\n",
       "  </thead>\n",
       "  <tbody>\n",
       "    <tr>\n",
       "      <td>0</td>\n",
       "      <td>Abner Jay</td>\n",
       "      <td>Bring It When You Come</td>\n",
       "      <td>Terrible things, always happening Just like ye...</td>\n",
       "      <td>Terrible things, always happening\\nJust like y...</td>\n",
       "    </tr>\n",
       "    <tr>\n",
       "      <td>1</td>\n",
       "      <td>Abner Jay</td>\n",
       "      <td>Cocaine</td>\n",
       "      <td>Folk music is high-class music. There's a lott...</td>\n",
       "      <td>Folk music is high-class music. There's a lott...</td>\n",
       "    </tr>\n",
       "    <tr>\n",
       "      <td>2</td>\n",
       "      <td>Abner Jay</td>\n",
       "      <td>Cocaine Blues</td>\n",
       "      <td>Cocaine, Cocaine Running round my heart And th...</td>\n",
       "      <td>Cocaine, Cocaine\\nRunning round my heart\\nAnd ...</td>\n",
       "    </tr>\n",
       "    <tr>\n",
       "      <td>3</td>\n",
       "      <td>Abner Jay</td>\n",
       "      <td>Don’t Mess with Me Baby</td>\n",
       "      <td>Terrible things; that's what's getting all the...</td>\n",
       "      <td>Terrible things; that's what's getting all the...</td>\n",
       "    </tr>\n",
       "    <tr>\n",
       "      <td>4</td>\n",
       "      <td>Abner Jay</td>\n",
       "      <td>I cried</td>\n",
       "      <td>I, I cried I cried in the ni-ight Oh please co...</td>\n",
       "      <td>I, I cried\\nI cried in the ni-ight\\nOh please ...</td>\n",
       "    </tr>\n",
       "  </tbody>\n",
       "</table>\n",
       "</div>"
      ],
      "text/plain": [
       "      artist                    title  \\\n",
       "0  Abner Jay   Bring It When You Come   \n",
       "1  Abner Jay                  Cocaine   \n",
       "2  Abner Jay            Cocaine Blues   \n",
       "3  Abner Jay  Don’t Mess with Me Baby   \n",
       "4  Abner Jay                  I cried   \n",
       "\n",
       "                                              lyrics  \\\n",
       "0  Terrible things, always happening Just like ye...   \n",
       "1  Folk music is high-class music. There's a lott...   \n",
       "2  Cocaine, Cocaine Running round my heart And th...   \n",
       "3  Terrible things; that's what's getting all the...   \n",
       "4  I, I cried I cried in the ni-ight Oh please co...   \n",
       "\n",
       "                                        lyrics_lines  \n",
       "0  Terrible things, always happening\\nJust like y...  \n",
       "1  Folk music is high-class music. There's a lott...  \n",
       "2  Cocaine, Cocaine\\nRunning round my heart\\nAnd ...  \n",
       "3  Terrible things; that's what's getting all the...  \n",
       "4  I, I cried\\nI cried in the ni-ight\\nOh please ...  "
      ]
     },
     "execution_count": 28,
     "metadata": {},
     "output_type": "execute_result"
    }
   ],
   "source": [
    "# replaces newlines with spaces, but maintains the line-break data in a separate column\n",
    "lyricsdf[\"lyrics_lines\"] = lyricsdf.lyrics\n",
    "lyricsdf.lyrics = lyricsdf.lyrics.map(lambda x: x.replace(\"\\n\", \" \"))\n",
    "lyricsdf.head()"
   ]
  },
  {
   "cell_type": "code",
   "execution_count": 29,
   "metadata": {},
   "outputs": [
    {
     "name": "stdout",
     "output_type": "stream",
     "text": [
      "it with you, honey Bring it with you when you come\n",
      "heart And it runnin', oh it runnin' Round my brain\n",
      "nd then running Lord, it's running Round my brain \n",
      "with me baby And I declare, I declare I am through\n",
      "back tonight And then I'll kiss and hold you tight\n"
     ]
    }
   ],
   "source": [
    "# The end is looking pretty good, too! No Embed, no newlines\n",
    "for lyrics in lyricsdf.lyrics[:5]:\n",
    "    print(lyrics[-50:])"
   ]
  },
  {
   "cell_type": "markdown",
   "metadata": {},
   "source": [
    "### Language Detection\n",
    "I attempted 2 kinds of language detection, both of which had some influence on the final dataset but didn't quite achieve what I had anticipated.\n",
    "1. **Character Encoding-based Detection**    \n",
    "    If a character wasn't able to be decoded in ASCII, the song lyrics would be considered non-English.  This was attempted both categorically (any non-English character would identify the lyrics as non-English) and continuously (a certain percentage of characters would identify the lyrics as non-English), but neither was very conclusive in terms of language detection.    \n",
    "    However, this method was **useful for identifying formatting errors** that wouldn't have otherwise gone unnoticed, so this section remains in this final document.\n",
    "2. **SpaCy Language Detector**    \n",
    "    Since character-based detection wasn't effective, I tried using the pre-packaged detector models from spaCy.  Though this was able to guarantee a fully English dataset, it also tags many English lyrics as non-English languages, especially for very short, repetitive, or nonsense lyrics.  In the end, I was able to use this to definitively remove the Swedish and Japanese data, but any other non-English lyrics will remain in the dataset."
   ]
  },
  {
   "cell_type": "code",
   "execution_count": 30,
   "metadata": {},
   "outputs": [
    {
     "data": {
      "text/plain": [
       "'En dag när jag gick i en skog Så tappade jag mina byxor Jag märkte det ej Men jag mötte en tjej Och hon tittade så konstigt på mig Men så sa hon hej ... ... Och sen så gick jag hem'"
      ]
     },
     "execution_count": 30,
     "metadata": {},
     "output_type": "execute_result"
    }
   ],
   "source": [
    "# This is not English :)\n",
    "lyricsdf.iloc[1915].lyrics"
   ]
  },
  {
   "cell_type": "markdown",
   "metadata": {},
   "source": [
    "**Character Encoding-based Detection**    \n",
    "The code below was taken from this [stack overflow page](https://stackoverflow.com/questions/27084617/detect-strings-with-non-english-characters-in-python).  It should identify non-English characters not found in ASCII."
   ]
  },
  {
   "cell_type": "code",
   "execution_count": 31,
   "metadata": {},
   "outputs": [],
   "source": [
    "# Returns a boolean: False if the lyrics contain \"non-English\" characters\n",
    "def isEnglish(s):\n",
    "    try:\n",
    "        s.encode(encoding='utf-8').decode('ascii')\n",
    "    except UnicodeDecodeError:\n",
    "        return False\n",
    "    else:\n",
    "        return True"
   ]
  },
  {
   "cell_type": "code",
   "execution_count": 32,
   "metadata": {},
   "outputs": [
    {
     "data": {
      "text/plain": [
       "False"
      ]
     },
     "execution_count": 32,
     "metadata": {},
     "output_type": "execute_result"
    }
   ],
   "source": [
    "# Test on the Swedish lyrics (and it works!)\n",
    "isEnglish(lyricsdf.iloc[1915].lyrics)"
   ]
  },
  {
   "cell_type": "code",
   "execution_count": 33,
   "metadata": {},
   "outputs": [
    {
     "data": {
      "text/html": [
       "<div>\n",
       "<style scoped>\n",
       "    .dataframe tbody tr th:only-of-type {\n",
       "        vertical-align: middle;\n",
       "    }\n",
       "\n",
       "    .dataframe tbody tr th {\n",
       "        vertical-align: top;\n",
       "    }\n",
       "\n",
       "    .dataframe thead th {\n",
       "        text-align: right;\n",
       "    }\n",
       "</style>\n",
       "<table border=\"1\" class=\"dataframe\">\n",
       "  <thead>\n",
       "    <tr style=\"text-align: right;\">\n",
       "      <th></th>\n",
       "      <th>artist</th>\n",
       "      <th>title</th>\n",
       "      <th>lyrics</th>\n",
       "      <th>lyrics_lines</th>\n",
       "      <th>eng_chars_only</th>\n",
       "    </tr>\n",
       "  </thead>\n",
       "  <tbody>\n",
       "    <tr>\n",
       "      <td>0</td>\n",
       "      <td>Abner Jay</td>\n",
       "      <td>Bring It When You Come</td>\n",
       "      <td>Terrible things, always happening Just like ye...</td>\n",
       "      <td>Terrible things, always happening\\nJust like y...</td>\n",
       "      <td>True</td>\n",
       "    </tr>\n",
       "    <tr>\n",
       "      <td>1</td>\n",
       "      <td>Abner Jay</td>\n",
       "      <td>Cocaine</td>\n",
       "      <td>Folk music is high-class music. There's a lott...</td>\n",
       "      <td>Folk music is high-class music. There's a lott...</td>\n",
       "      <td>True</td>\n",
       "    </tr>\n",
       "    <tr>\n",
       "      <td>2</td>\n",
       "      <td>Abner Jay</td>\n",
       "      <td>Cocaine Blues</td>\n",
       "      <td>Cocaine, Cocaine Running round my heart And th...</td>\n",
       "      <td>Cocaine, Cocaine\\nRunning round my heart\\nAnd ...</td>\n",
       "      <td>True</td>\n",
       "    </tr>\n",
       "    <tr>\n",
       "      <td>3</td>\n",
       "      <td>Abner Jay</td>\n",
       "      <td>Don’t Mess with Me Baby</td>\n",
       "      <td>Terrible things; that's what's getting all the...</td>\n",
       "      <td>Terrible things; that's what's getting all the...</td>\n",
       "      <td>True</td>\n",
       "    </tr>\n",
       "    <tr>\n",
       "      <td>4</td>\n",
       "      <td>Abner Jay</td>\n",
       "      <td>I cried</td>\n",
       "      <td>I, I cried I cried in the ni-ight Oh please co...</td>\n",
       "      <td>I, I cried\\nI cried in the ni-ight\\nOh please ...</td>\n",
       "      <td>True</td>\n",
       "    </tr>\n",
       "  </tbody>\n",
       "</table>\n",
       "</div>"
      ],
      "text/plain": [
       "      artist                    title  \\\n",
       "0  Abner Jay   Bring It When You Come   \n",
       "1  Abner Jay                  Cocaine   \n",
       "2  Abner Jay            Cocaine Blues   \n",
       "3  Abner Jay  Don’t Mess with Me Baby   \n",
       "4  Abner Jay                  I cried   \n",
       "\n",
       "                                              lyrics  \\\n",
       "0  Terrible things, always happening Just like ye...   \n",
       "1  Folk music is high-class music. There's a lott...   \n",
       "2  Cocaine, Cocaine Running round my heart And th...   \n",
       "3  Terrible things; that's what's getting all the...   \n",
       "4  I, I cried I cried in the ni-ight Oh please co...   \n",
       "\n",
       "                                        lyrics_lines  eng_chars_only  \n",
       "0  Terrible things, always happening\\nJust like y...            True  \n",
       "1  Folk music is high-class music. There's a lott...            True  \n",
       "2  Cocaine, Cocaine\\nRunning round my heart\\nAnd ...            True  \n",
       "3  Terrible things; that's what's getting all the...            True  \n",
       "4  I, I cried\\nI cried in the ni-ight\\nOh please ...            True  "
      ]
     },
     "execution_count": 33,
     "metadata": {},
     "output_type": "execute_result"
    }
   ],
   "source": [
    "lyricsdf[\"eng_chars_only\"] = lyricsdf.lyrics.map(lambda x: isEnglish(x))\n",
    "lyricsdf.head()"
   ]
  },
  {
   "cell_type": "code",
   "execution_count": 34,
   "metadata": {},
   "outputs": [
    {
     "data": {
      "text/plain": [
       "True     2337\n",
       "False    1051\n",
       "Name: eng_chars_only, dtype: int64"
      ]
     },
     "execution_count": 34,
     "metadata": {},
     "output_type": "execute_result"
    }
   ],
   "source": [
    "# That's a lot of non-English songs. Hmm...\n",
    "lyricsdf.eng_chars_only.value_counts()"
   ]
  },
  {
   "cell_type": "markdown",
   "metadata": {},
   "source": [
    "Character-encoding based detection is very useful for finding formatting issues caused by unexpected characters.  Note that the list of \"non-English\" lyrics below actually includes many English lyrics.  As shown in the next few code blocks, this is due to characters like \"\\u2005\", \"\\u205f\", formatted ellipses \"…\", and escaped apostrophes \"\\\\'\".  The punctuation will be standardized, and whitespace characters will be replaced with spaces (\" \")."
   ]
  },
  {
   "cell_type": "code",
   "execution_count": 35,
   "metadata": {},
   "outputs": [
    {
     "data": {
      "text/plain": [
       "1322    They told me about you They told me about you ...\n",
       "3149    This band played at the Metro About 800 people...\n",
       "3186    Thank God for how I'm living today, I will roc...\n",
       "3282    There's lots of singers, and they're comin' fr...\n",
       "321     Have you ever heard a newborn baby cry Mom and...\n",
       "3074    Play that guitar Jam harder like a Magikist Ro...\n",
       "141     Ah, ah-ah Ah, ah-ah Ah-ah Ah, ah-ah Ah, ah-ah ...\n",
       "2222    One day I’m gonna say My last “Merry Christmas...\n",
       "3041    Thank God for how I'm living today, I will roc...\n",
       "1818    Paris, Paris Mais qui, mon petit Mais qui, mon...\n",
       "Name: lyrics, dtype: object"
      ]
     },
     "execution_count": 35,
     "metadata": {},
     "output_type": "execute_result"
    }
   ],
   "source": [
    "nonEng = lyricsdf[lyricsdf.eng_chars_only == False]\n",
    "nonEng.lyrics.sample(10)"
   ]
  },
  {
   "cell_type": "code",
   "execution_count": 36,
   "metadata": {},
   "outputs": [
    {
     "data": {
      "text/plain": [
       "\"This band rocked the Czar bar About 180 people were at the show The rock show was\\u2005a\\u2005rock 'n roll\\u2005experience It was a great knockout  The Dollrods The\\u2005Dollrods The Dollrods The Dollrods  The band played it on The band got down like a Magikist They can really rock the nation They can really jam the guitar  The Dollrods The Dollrods The Dollrods The Dollrods  The show was a rock 'n roller The jam session was a big rock 'n roll blast The jam session was kick ass show They can really knock it out The Dollrods The Dollrods The Dollrods The Dollrods  Rock over London, rock on Chicago Diet Pepsi, uh-huh!\""
      ]
     },
     "execution_count": 36,
     "metadata": {},
     "output_type": "execute_result"
    }
   ],
   "source": [
    "# Example of \\u2005\n",
    "lyricsdf.iloc[3175].lyrics"
   ]
  },
  {
   "cell_type": "code",
   "execution_count": 37,
   "metadata": {},
   "outputs": [],
   "source": [
    "# Replace the whitespace character \\u2005 with a space\n",
    "lyricsdf.lyrics = lyricsdf.lyrics.map(lambda x: x.replace(\"\\u2005\", \" \"))\n",
    "lyricsdf.lyrics_lines = lyricsdf.lyrics_lines.map(lambda x: x.replace(\"\\u2005\", \" \"))"
   ]
  },
  {
   "cell_type": "code",
   "execution_count": 38,
   "metadata": {},
   "outputs": [
    {
     "data": {
      "text/plain": [
       "\"This band played at the Empty Bottle About two hundred fifty people were at the rock show The jam session was perfect The rock 'n roll burned a monkey up  Brain Kiss Brain Kiss Brain Kiss Brain Kiss  The band played it on The\\u205fband\\u205fgot\\u205fdown like a\\u205fMagikist The crowd roared\\u205flike a lion The jam session whooped a llama's ass  Brain Kiss Brain Kiss Brain Kiss Brain Kiss  The show was over A lot of people met the band The rock 'n roll show was awesome It whipped a pony's ass with a belt Brain Kiss Brain Kiss Brain Kiss Brain Kiss  Rock over London, rock on Chicago Radio Shack, you got questions, we got answers\""
      ]
     },
     "execution_count": 38,
     "metadata": {},
     "output_type": "execute_result"
    }
   ],
   "source": [
    "# Example of \\u205f\n",
    "lyricsdf.iloc[2734].lyrics"
   ]
  },
  {
   "cell_type": "code",
   "execution_count": 39,
   "metadata": {},
   "outputs": [],
   "source": [
    "# Replace the whitespace character \\u205f with a space\n",
    "lyricsdf.lyrics = lyricsdf.lyrics.map(lambda x: x.replace(\"\\u205f\", \" \"))\n",
    "lyricsdf.lyrics_lines = lyricsdf.lyrics_lines.map(lambda x: x.replace(\"\\u205f\", \" \"))"
   ]
  },
  {
   "cell_type": "code",
   "execution_count": 40,
   "metadata": {},
   "outputs": [
    {
     "data": {
      "text/plain": [
       "'High on a rocky ledge lives a mädel, Edelweiß Shy as a shadow, lovely as lace, and cold as ice High on a rocky ledge, I pledge my love to her Ev\\'ry time I climb up to Paradise How many times I\\'ve been up to see her, goodness knows Huffing and puffing, dressed in the warmest climbing clothes How many chances would be taken in my Hopeless pursuit of the Schnee-Mädel-Edelweiß Then spoke a spirit, \"If you would win your Lady Love There\\'s only one way: fall to your death from high above You will begin to grow in snow beside the one You have waited for to be mated with\" Now, I\\'m an Edel, vice to my Mädel, Edelweiß Dying to be with her wasn\\'t any sacrifice We\\'re so deliriously happy on our ledge Where I pledge my love to my Lady Fair You who are climbing breathless to see me and my love Snow flowers growing fonder on Lover\\'s Ledge above If you\\'ve the yen to pluck, then pluck us both For we who have lived as one wish to die as one'"
      ]
     },
     "execution_count": 40,
     "metadata": {},
     "output_type": "execute_result"
    }
   ],
   "source": [
    "# Example of escaped apostrophe \\'\n",
    "lyricsdf.iloc[1795].lyrics"
   ]
  },
  {
   "cell_type": "code",
   "execution_count": 41,
   "metadata": {},
   "outputs": [],
   "source": [
    "# Replace escaped apostrophe with curly apostrophe, since other lyrics use that format\n",
    "lyricsdf.lyrics = lyricsdf.lyrics.map(lambda x: x.replace(\"\\'\", \"’\"))\n",
    "lyricsdf.lyrics_lines = lyricsdf.lyrics_lines.map(lambda x: x.replace(\"\\'\", \"’\"))\n"
   ]
  },
  {
   "cell_type": "code",
   "execution_count": 42,
   "metadata": {},
   "outputs": [
    {
     "data": {
      "text/plain": [
       "'To yo dome with the chrome To yo dome with the chrome To yo dome with the chrome To yo dome with the chrome To yo dome with the chrome To yo dome with the chrome To yo dome with the chrome To yo dome with the chrome To yo dome with the chrome To yo dome with the chrome To yo dome with the chrome To yo dome with the chrome  Don’t get sent home In a body bag for not leaving me alone I don’t care what you got goin on Cuz i already paid and my body is every bone Yea i know, that I’m conceited and arrogant And that can be repeated But that’s just my personality And it’s magnified cuz im a G So i ain’t trying to hear what they gotta say Like they ? for a jack, so i ? the gun spray These marks are fucking up my day Rollin up asking if they may Ask me a question about some bullshit Bitch ass nigga you better get a grip I’m tired of playing with these faggots I’m bout to get my four and let you snitch niggas have it To yo dome with the chrome To yo dome with the chrome To yo dome with the chrome To yo dome with the chrome To yo dome with the chrome To yo dome with the chrome To yo dome with the chrome To yo dome with the chrome To yo dome with the chrome To yo dome with the chrome To yo dome with the chrome To yo dome with the chrome  I roll on my own My homeboys sad they walks and rome Around upset In a rush to get wet Why do you wanna die Don’t you see, living is fly? Don’t make your folk cry And have niggas looking at your frame Closed eyes I ball and mash No room in pockets They full of cash My task Is to make dough Im getting loot from places i ain’t seen before Or knew existed A baller stuck on a mission But wondering when this green gon’ stop coming in I’ll go… To yo dome with the chrome To yo dome with the chrome To yo dome with the chrome To yo dome with the chrome To yo dome with the chrome To yo dome with the chrome To yo dome with the chrome To yo dome with the chrome To yo dome with the chrome To yo dome with the chrome To yo dome with the chrome To yo dome with the chrome'"
      ]
     },
     "execution_count": 42,
     "metadata": {},
     "output_type": "execute_result"
    }
   ],
   "source": [
    "# Example of specially formatted ellipsis \"…\"\n",
    "lyricsdf.iloc[2522].lyrics"
   ]
  },
  {
   "cell_type": "code",
   "execution_count": 43,
   "metadata": {},
   "outputs": [
    {
     "data": {
      "text/plain": [
       "'ck on a mission But wondering when this green gon’ stop coming in I’ll go... To yo dome with the chrome To yo dome with the chrome To yo dome with the chrome To yo dome with the chrome To yo dome with'"
      ]
     },
     "execution_count": 43,
     "metadata": {},
     "output_type": "execute_result"
    }
   ],
   "source": [
    "# Replace special ellipsis with plain \"...\"\n",
    "lyricsdf.lyrics = lyricsdf.lyrics.map(lambda x: x.replace(\"…\", \"...\"))\n",
    "lyricsdf.lyrics_lines = lyricsdf.lyrics_lines.map(lambda x: x.replace(\"…\", \"...\"))\n",
    "lyricsdf.iloc[2522].lyrics[-400:-200]"
   ]
  },
  {
   "cell_type": "markdown",
   "metadata": {},
   "source": [
    "Quick double-check to see if there are any more formatting issues:"
   ]
  },
  {
   "cell_type": "code",
   "execution_count": 44,
   "metadata": {},
   "outputs": [],
   "source": [
    "# It looks like there are not \"\\\" formatting issues left\n",
    "for i in range(len(lyricsdf)):\n",
    "    x = re.findall(r\"\\\\\", lyricsdf.lyrics[i])\n",
    "    if x: print(x)"
   ]
  },
  {
   "cell_type": "markdown",
   "metadata": {},
   "source": [
    "The eng_chars_only column isn't very useful at the moment.  Because it's a boolean, many of the lyrics marked as \"non-English\" are actually English but contain special characters or accented letters.\n",
    "\n",
    "I attempted a continuous approach by separating English from non-English using a cutoff % of non-English characters.  I scrapped this, as it was not any more effective than the categorical approach and did not give additional insight into the data cleaning."
   ]
  },
  {
   "cell_type": "markdown",
   "metadata": {},
   "source": [
    "**SpaCy Language Detection**    \n",
    "To weed out the non-English lyrics more definitively, I'll try the spaCy LanguageDetector package, using the small English model."
   ]
  },
  {
   "cell_type": "code",
   "execution_count": 45,
   "metadata": {},
   "outputs": [],
   "source": [
    "import spacy"
   ]
  },
  {
   "cell_type": "markdown",
   "metadata": {},
   "source": [
    "Using the spaCy documentation and this [stack overflow page](https://stackoverflow.com/questions/66712753/how-to-use-languagedetector-from-spacy-langdetect-package), I'll create a new column to store the language detected and the confidence score."
   ]
  },
  {
   "cell_type": "code",
   "execution_count": 46,
   "metadata": {},
   "outputs": [
    {
     "name": "stdout",
     "output_type": "stream",
     "text": [
      "{'language': 'en', 'score': 0.9999943390927915}\n"
     ]
    }
   ],
   "source": [
    "from spacy_langdetect import LanguageDetector\n",
    "from spacy.language import Language\n",
    "\n",
    "def get_lang_detector(nlp, name):\n",
    "    return LanguageDetector()\n",
    "\n",
    "# create the `nlp` language detector with the English model and test\n",
    "nlp = spacy.load(\"en_core_web_sm\")\n",
    "Language.factory(\"language_detector\", func=get_lang_detector)\n",
    "nlp.add_pipe('language_detector', last=True)\n",
    "text = 'This is an english text.'\n",
    "doc = nlp(text)\n",
    "print(doc._.language)"
   ]
  },
  {
   "cell_type": "code",
   "execution_count": null,
   "metadata": {},
   "outputs": [],
   "source": [
    "# Save the detector output to a column 'lang_detect'\n",
    "def langDetect(nlp, text):\n",
    "    doc = nlp(text)\n",
    "    return doc._.language\n",
    "\n",
    "lyricsdf[\"lang_detect\"] = lyricsdf.lyrics.map(lambda x: langDetect(nlp, x))"
   ]
  },
  {
   "cell_type": "code",
   "execution_count": null,
   "metadata": {},
   "outputs": [],
   "source": [
    "lyricsdf.head()"
   ]
  },
  {
   "cell_type": "code",
   "execution_count": null,
   "metadata": {},
   "outputs": [],
   "source": [
    "# lang_detect is a short dictionary, containing 'language' and 'score' as keys\n",
    "\n",
    "# extract 'language' into a separate column\n",
    "lyricsdf[\"lang\"] = lyricsdf.lang_detect.map(lambda x: x[\"language\"])"
   ]
  },
  {
   "cell_type": "code",
   "execution_count": null,
   "metadata": {},
   "outputs": [],
   "source": [
    "lyricsdf.lang.value_counts()"
   ]
  },
  {
   "cell_type": "code",
   "execution_count": null,
   "metadata": {},
   "outputs": [],
   "source": [
    "non_eng = lyricsdf[lyricsdf.lang != \"en\"]\n",
    "non_eng.sample(5)"
   ]
  },
  {
   "cell_type": "markdown",
   "metadata": {},
   "source": [
    "'UNKNOWN' language is detected when the lyric entry is empty ('').  Some languages appear to be detected correctly, but many English lyrics are identified as non-English.  As demonstrated in the code block below, all lyrics identified as English seem to be correct."
   ]
  },
  {
   "cell_type": "code",
   "execution_count": null,
   "metadata": {},
   "outputs": [],
   "source": [
    "lyricsdf[lyricsdf.lang == \"en\"].sample(5)"
   ]
  },
  {
   "cell_type": "code",
   "execution_count": null,
   "metadata": {},
   "outputs": [],
   "source": [
    "# Check some of the less frequent languages\n",
    "lyricsdf[lyricsdf.lang.isin(['ja', 'no', 'es', 'nl', 'tr', 'sw', 'it', 'ca', 'et', 'pt', 'pl', 'sl', 'sk', 'hr'])].sample(5)"
   ]
  },
  {
   "cell_type": "code",
   "execution_count": null,
   "metadata": {},
   "outputs": [],
   "source": [
    "# Check out some of the more frequent languages:\n",
    "lyricsdf[lyricsdf.lang.isin(['fr', 'so', 'tl', 'id', 'cy', 'af'])].sample(5)"
   ]
  },
  {
   "cell_type": "markdown",
   "metadata": {},
   "source": [
    "The above lists are samples, but I've skimmed through the full non-English lists. SpaCy's language detector using the small English model isn't a perfect solution.  Many English lyrics have been misidentified as foreign languages, as shown below with \"Deck the Halls,\" where too many \"la\"s have caused a very confident 'Spanish' classification."
   ]
  },
  {
   "cell_type": "code",
   "execution_count": null,
   "metadata": {},
   "outputs": [],
   "source": [
    "print(\"language:\", lyricsdf.iloc[223].lang, \"\\n\", lyricsdf.iloc[223].lyrics)"
   ]
  },
  {
   "cell_type": "code",
   "execution_count": null,
   "metadata": {},
   "outputs": [],
   "source": [
    "lyricsdf.iloc[223].lang_detect"
   ]
  },
  {
   "cell_type": "code",
   "execution_count": null,
   "metadata": {},
   "outputs": [],
   "source": [
    "# All 59 of the Swedish tagged lyrics are Swedish (or, at the very least, not English)\n",
    "# Only a sample shown below\n",
    "lyricsdf[lyricsdf.lang == \"sv\"].sample(5)"
   ]
  },
  {
   "cell_type": "code",
   "execution_count": null,
   "metadata": {},
   "outputs": [],
   "source": [
    "# All lyrics tagged as Japanese are Japanese\n",
    "lyricsdf[lyricsdf.lang == \"ja\"]"
   ]
  },
  {
   "cell_type": "markdown",
   "metadata": {},
   "source": [
    "For the analysis, I will remove those languages which I know are entirely non-English lyrics, including Swedish ('sv') and Japanese ('ja').  The other languages identified are not so definitively English or non-English, so I will leave them in the dataset for analysis.  Given that there were 59 Swedish songs identified, it seems worthwhile to remove them.\n",
    "\n",
    "If it seems as if the non-English data may be confounding the analysis, the songs identified as English ('en') appear to be identified as such reliably and can be used for a smaller analysis.  However, I would like to avoid doing this, since many of the stranger, non-sense lyrics that could characterize outsider music have been identified as non-English."
   ]
  },
  {
   "cell_type": "code",
   "execution_count": null,
   "metadata": {},
   "outputs": [],
   "source": [
    "# And UNKNOWN language is just the empty string lyrics!\n",
    "lyricsdf[lyricsdf.lang == \"UNKNOWN\"].sample(5)"
   ]
  },
  {
   "cell_type": "code",
   "execution_count": null,
   "metadata": {},
   "outputs": [],
   "source": [
    "# save the data into a different data frame\n",
    "lyricsdf_orig = lyricsdf\n",
    "\n",
    "# update the lyricsdf to remove Swedish, Japanese, and empty string lyric entries\n",
    "lyricsdf = lyricsdf[~lyricsdf.lang.isin(['sv', 'ja', 'UNKNOWN'])]"
   ]
  },
  {
   "cell_type": "markdown",
   "metadata": {},
   "source": [
    "## Analysis of Outsider Music\n",
    "The analysis here is fairly simple.  We'll look at the:\n",
    "- token count distribution\n",
    "- artist distribution\n",
    "- most common word tokens, with and without stopwords\n",
    "\n",
    "**Token Count Distribution**    \n",
    "The lyrics need to be tokenized so that they can be analyzed at the word-level."
   ]
  },
  {
   "cell_type": "code",
   "execution_count": null,
   "metadata": {},
   "outputs": [],
   "source": [
    "import warnings\n",
    "from pandas.core.common import SettingWithCopyWarning\n",
    "warnings.simplefilter(action=\"ignore\", category=SettingWithCopyWarning)"
   ]
  },
  {
   "cell_type": "code",
   "execution_count": null,
   "metadata": {},
   "outputs": [],
   "source": [
    "# tokenize, then lowercase tokens\n",
    "lyricsdf[\"tokens\"] = lyricsdf.lyrics.map(lambda x: nltk.word_tokenize(x))\n",
    "lyricsdf.tokens = lyricsdf.tokens.map(lambda x: [word.lower() for word in x])\n",
    "\n",
    "# create token count column\n",
    "lyricsdf[\"token_ct\"] = lyricsdf.tokens.map(len)\n",
    "lyricsdf.head()"
   ]
  },
  {
   "cell_type": "code",
   "execution_count": null,
   "metadata": {},
   "outputs": [],
   "source": [
    "# lyricsdf[\"type_ct\"] = lyricsdf.tokens.map(lambda x: len(set(x)))    # type was not used in the present analysis\n",
    "# lyricsdf[\"TTR\"] = lyricsdf.type_ct / lyricsdf.token_ct              # TTR was not used in the present analysis"
   ]
  },
  {
   "cell_type": "code",
   "execution_count": null,
   "metadata": {},
   "outputs": [],
   "source": [
    "lyricsdf.token_ct.describe()"
   ]
  },
  {
   "cell_type": "code",
   "execution_count": null,
   "metadata": {},
   "outputs": [],
   "source": [
    "# Token count distribution\n",
    "lyricsdf.token_ct.plot(kind = \"box\", rot=0, title = \"Outsider Music Token Count Distribution\")\n",
    "plt.savefig('../images/outsider_token_count_dist.png')"
   ]
  },
  {
   "cell_type": "markdown",
   "metadata": {},
   "source": [
    "There are some lyrics with around 2,000 tokens!  This seems unusual.  Let's investigate... could this be a tokenization issue?  Note that, on average, most songs are about 200 tokens long, which seems a bit more reasonable."
   ]
  },
  {
   "cell_type": "code",
   "execution_count": null,
   "metadata": {},
   "outputs": [],
   "source": [
    "lyricsdf[lyricsdf.token_ct >= 2000]"
   ]
  },
  {
   "cell_type": "code",
   "execution_count": null,
   "metadata": {},
   "outputs": [],
   "source": [
    "lyricsdf.loc[1242].lyrics"
   ]
  },
  {
   "cell_type": "markdown",
   "metadata": {},
   "source": [
    "This is actually pretty long.  (It's a 30-minute video on [YouTube](https://www.youtube.com/watch?v=nbn1Ei7Jfkc)!    \n",
    "\n",
    "What are the songs with the shortest lyrics?"
   ]
  },
  {
   "cell_type": "code",
   "execution_count": null,
   "metadata": {},
   "outputs": [],
   "source": [
    "shortest = lyricsdf[lyricsdf.token_ct < 20]\n",
    "shortest.sort_values('token_ct').head(10)"
   ]
  },
  {
   "cell_type": "markdown",
   "metadata": {},
   "source": [
    "\"Needs to be transcribed\" is likely not a lyric and was missed during data cleaning.  As a disclaimer, much of this data isn't perfectly cleaned.  Unlike some more popular music, a lot of this data is very idiosyncratic and non-English-like (as seems to be the pattern until now).  This \"Needs to be transcribed\" example and a few others I have encountered through data sampling do not follow the exact format as previous \"transcription\"-centered comments.  Because of this, it will be difficult to identify and remove all comments like this.\n",
    "\n",
    "Furthermore, note that spaCy's language detector identified many of these shorter lyrical entries as non-English languages.  It's additionally interesting to note that many of these lyrics are identical to the titles, bringing up a question: are these mistakes from the Genius API pulling titles from empty lyric pages, or are these really just the lyrics of the song?  These can't be answered by further linguistic analysis but are rather just questions about the dataset.  In the case that anyone would like to replicate my methods of pulling and cleaning the data, this is something to keep in mind."
   ]
  },
  {
   "cell_type": "markdown",
   "metadata": {},
   "source": [
    "**Artist Distribution**    "
   ]
  },
  {
   "cell_type": "code",
   "execution_count": null,
   "metadata": {},
   "outputs": [],
   "source": [
    "lyricsdf.artist.describe()"
   ]
  },
  {
   "cell_type": "code",
   "execution_count": null,
   "metadata": {},
   "outputs": [],
   "source": [
    "# 15 most frequent artists\n",
    "lyricsdf.artist.value_counts()[:15]"
   ]
  },
  {
   "cell_type": "code",
   "execution_count": null,
   "metadata": {
    "scrolled": true
   },
   "outputs": [],
   "source": [
    "# 15 least frequent artists\n",
    "lyricsdf.artist.value_counts()[-15:]"
   ]
  },
  {
   "cell_type": "code",
   "execution_count": null,
   "metadata": {},
   "outputs": [],
   "source": [
    "# Separate top 15 artists\n",
    "artists_to_plot = lyricsdf.artist.value_counts()[:15]\n",
    "few_artist = lyricsdf.artist.value_counts()[15:]\n",
    "\n",
    "# Create an \"other\" group, which sums together the bottom 48 artist counts\n",
    "sum = 0\n",
    "for y in few_artist:\n",
    "    sum = sum +y\n",
    "artists_to_plot = artists_to_plot.append(pd.Series(sum))\n",
    "artists_to_plot.rename(index={0:'Other'},inplace=True)"
   ]
  },
  {
   "cell_type": "code",
   "execution_count": null,
   "metadata": {},
   "outputs": [],
   "source": [
    "# Only shows the top 15 artists, as well as 48 \"Other\" artists grouped together\n",
    "\n",
    "# Pie plot of top 15 artists & other\n",
    "plt.pie(artists_to_plot, autopct='%1.1f%%', pctdistance = 1.2, labeldistance = 1.4)\n",
    "plt.legend(artists_to_plot.index, bbox_to_anchor=(-0.1, 1.),\n",
    "           fontsize=8)\n",
    "plt.title(\"Outsider Artist Distribution\")\n",
    "plt.savefig('../images/outsider_artist_dist_fig.png')\n",
    "plt.tight_layout()\n",
    "plt.show()\n",
    "\n",
    "# NOTE: I couldn't get the percentages to not overlap.  Ideally, the smaller percentages wouldn't be displayed."
   ]
  },
  {
   "cell_type": "code",
   "execution_count": null,
   "metadata": {},
   "outputs": [],
   "source": [
    "artists_to_plot"
   ]
  },
  {
   "cell_type": "code",
   "execution_count": null,
   "metadata": {},
   "outputs": [],
   "source": [
    "lyricsdf.artist.describe()"
   ]
  },
  {
   "cell_type": "code",
   "execution_count": null,
   "metadata": {},
   "outputs": [],
   "source": [
    "lyricsdf.lyrics.describe()"
   ]
  },
  {
   "cell_type": "markdown",
   "metadata": {},
   "source": [
    "After cleaning up the data, Wesley Willis is still at the top of the artist-count list, followed by 7 artists with song volumes of the same magnitude (in the 100s).  Note that Willis has more representation in this dataset (18.1%) than 47 of the least frequent artists (16.9%).\n",
    "\n",
    "In total, there are 3,102 viable lyric entries left in the dataset after cleaning.  Of this, there are 62 unique artists, and 3,036 unique entries.  Fewer unique entries than total entries implies that there are duplicates.  After investigation, these are lyrics that do NOT share the same title, but share the same lyrics.  In the future, I would need to investigate these items a bit more deeply to understand why this is happening; is it a phenomenon of the lyrics, or is it an issue with pulling from the Genius API?"
   ]
  },
  {
   "cell_type": "markdown",
   "metadata": {},
   "source": [
    "**Most Common Words**"
   ]
  },
  {
   "cell_type": "code",
   "execution_count": null,
   "metadata": {},
   "outputs": [],
   "source": [
    "# The most common words in this dataset\n",
    "from collections import Counter\n",
    "outtoks = []\n",
    "\n",
    "for toks in lyricsdf.tokens:\n",
    "    outtoks.extend(toks)\n",
    "\n",
    "outfreq = Counter(outtoks)\n",
    "print(outfreq.most_common(20))"
   ]
  },
  {
   "cell_type": "code",
   "execution_count": null,
   "metadata": {},
   "outputs": [],
   "source": [
    "# Create bar plot with most common words and their counts\n",
    "word = []\n",
    "count = []\n",
    "for (w, c) in outfreq.most_common(20):\n",
    "    word.append(w)\n",
    "    count.append(c)\n",
    "plt.bar(word, count)\n",
    "plt.xticks(rotation = 90)\n",
    "plt.title(\"Most Common Words in Outsider Music\")\n",
    "plt.savefig(\"../images/out_most_common_words\")\n",
    "plt.show()"
   ]
  },
  {
   "cell_type": "markdown",
   "metadata": {},
   "source": [
    "Unsurprisingly (or maybe surprisingly, given the nature of the data so far), the most common words in the dataset are pronouns, contractions, and other functional items or punctuation.  Let's try to look at the most common words that aren't stopwords ([source](https://stackoverflow.com/questions/31826950/dropping-specific-words-out-of-an-nltk-distribution-beyond-stopwords))."
   ]
  },
  {
   "cell_type": "code",
   "execution_count": null,
   "metadata": {},
   "outputs": [],
   "source": [
    "# If we remove stopwords and punctuation, what do we get?\n",
    "stopwords = nltk.corpus.stopwords.words('english')\n",
    "stopwords.extend(['’', ',', '?', '!', '(', ')', '[', ']', '.', \"'\", '\"',])   # also remove punctuation\n",
    "filtered_outfreq = dict((word, freq) for word, freq in outfreq.items() if word not in (stopwords))\n",
    "lyricsdf_fd = nltk.FreqDist(filtered_outfreq)\n",
    "print(lyricsdf_fd.most_common(20))"
   ]
  },
  {
   "cell_type": "code",
   "execution_count": null,
   "metadata": {},
   "outputs": [],
   "source": [
    "# Create bar plot with most common words and their counts (NOT including stopwords)\n",
    "word = []\n",
    "count = []\n",
    "for (w, c) in lyricsdf_fd.most_common(20):\n",
    "    word.append(w)\n",
    "    count.append(c)\n",
    "plt.bar(word, count)\n",
    "plt.xticks(rotation = 90)\n",
    "plt.title(\"Most Common Words in Outsider Music (Without Stopwords)\")\n",
    "plt.savefig(\"../images/out_most_common_words_nostops\")\n",
    "plt.show()"
   ]
  },
  {
   "cell_type": "code",
   "execution_count": null,
   "metadata": {},
   "outputs": [],
   "source": [
    "# \"Rock\" and \"ass\" are interesting... in the most common words\n",
    "# What's their distribution overall? \n",
    "\n",
    "rock = lyricsdf_fd[\"rock\"]\n",
    "ass = lyricsdf_fd[\"ass\"]\n",
    "rockpct = lyricsdf_fd[\"rock\"] / lyricsdf.token_ct.sum()\n",
    "asspct = lyricsdf_fd[\"ass\"] / lyricsdf.token_ct.sum()\n",
    "\n",
    "print(\"In Outsider Music:\\n\",\n",
    "    \"'rock' count =\", rock, \"\\n\",\n",
    "     \"'ass' count =\", ass, \"\\n\",\n",
    "     \"'rock' % =\", rockpct, \"\\n\",\n",
    "     \"'ass' % =\", asspct, \"\\n\")"
   ]
  },
  {
   "cell_type": "markdown",
   "metadata": {},
   "source": [
    "Now these are some more interesting words!  I wonder how they'll play out against the \"insider\" music dataset--the Billboard Hot 100 corpus."
   ]
  },
  {
   "cell_type": "markdown",
   "metadata": {},
   "source": [
    "## Analysis of Popular Music\n",
    "### Billboard Hot 100 Corpus\n",
    "I'll be using Kaylin Pavlik's dataset from her [\"50 Years of Pop Music\"](https://www.kaylinpavlik.com/50-years-of-pop-music/) project as a means of comparison for the present outsider music dataset.  It should be noted that Pavlik's dataset contains the most popular music over a span of 5 decades, and so it is not perfectly comparable to the outsider music dataset, which does not contain information on temporal stratification or genre.\n",
    "\n",
    "After some mild cleaning, we'll repeat the same analysis:\n",
    "- token count distribution\n",
    "- artist distribution\n",
    "- most common word tokens, with and without stopwords"
   ]
  },
  {
   "cell_type": "code",
   "execution_count": null,
   "metadata": {},
   "outputs": [],
   "source": [
    "# load in the lyrics dataset\n",
    "popdf = pd.read_csv(\"../data/billboard_lyrics_1964-2015.csv\", encoding = \"ISO-8859-1\")\n",
    "popdf.head()"
   ]
  },
  {
   "cell_type": "code",
   "execution_count": null,
   "metadata": {},
   "outputs": [],
   "source": [
    "popdf.shape"
   ]
  },
  {
   "cell_type": "markdown",
   "metadata": {},
   "source": [
    "Note that there are also about 2000 more data points in Pavlik's dataset. This dataset labels instrumental songs as such in the lyrics, but the outsider music dataset showed no lyrics for songs like this.  For consistency, I will remove the \"instrumental\" strings from the Lyrics column, along with the float `np.nan` values."
   ]
  },
  {
   "cell_type": "code",
   "execution_count": null,
   "metadata": {},
   "outputs": [],
   "source": [
    "popdf.Lyrics = popdf.Lyrics.replace({np.nan: \"\", \"instrumental\":\"\", None:\"\"})\n",
    "popdf.Lyrics = popdf.Lyrics.astype(str)\n",
    "\n",
    "popdf.iloc[2].Lyrics  # note that this is multiple spaces"
   ]
  },
  {
   "cell_type": "code",
   "execution_count": null,
   "metadata": {},
   "outputs": [],
   "source": [
    "# Reduce multiple spaces to an empty string\n",
    "popdf.Lyrics = popdf.Lyrics.map(lambda x: x.strip())"
   ]
  },
  {
   "cell_type": "code",
   "execution_count": null,
   "metadata": {},
   "outputs": [],
   "source": [
    "# Now it's just an empty string instead of 2 spaces!\n",
    "popdf.iloc[2].Lyrics"
   ]
  },
  {
   "cell_type": "code",
   "execution_count": null,
   "metadata": {},
   "outputs": [],
   "source": [
    "# slim down dataframe to only the necessary columns\n",
    "popdf.rename(columns={\"Song\":\"title\", \"Artist\":\"artist\", \"Lyrics\":\"lyrics\"}, inplace=True)\n",
    "popdf = popdf[[\"title\", \"artist\", \"lyrics\"]]\n",
    "popdf.head()"
   ]
  },
  {
   "cell_type": "code",
   "execution_count": null,
   "metadata": {},
   "outputs": [],
   "source": [
    "# Let's take a peek at an sample from this dataset\n",
    "popdf.iloc[66].lyrics"
   ]
  },
  {
   "cell_type": "markdown",
   "metadata": {},
   "source": [
    "Note that this dataset isn't perfect either -- many words have been concatenated, likely because newlines were cut out, rather than replaced with spaces.  Because of this, words like \"beooh,\" \"tookall,\" \"forbut,\" \"bei,\" and \"begood\" will each be considered as single tokens.  However, in the interest of saving time and using existing resources, we'll assume that the frequencies of these words will be low enough to effect the ensuing analysis only minimally!\n",
    "\n",
    "As done with the outsider dataset, we'll tokenize this dataset for word-level analysis."
   ]
  },
  {
   "cell_type": "code",
   "execution_count": null,
   "metadata": {},
   "outputs": [],
   "source": [
    "# tokenize & lowercase, in case any remaining capitals are in the data\n",
    "popdf[\"tokens\"] = popdf.lyrics.map(lambda x: nltk.word_tokenize(x))\n",
    "popdf.tokens = popdf.tokens.map(lambda x: [word.lower() for word in x])\n",
    "\n",
    "# create token count column\n",
    "popdf[\"token_ct\"] = popdf.tokens.map(len)\n",
    "popdf.head()"
   ]
  },
  {
   "cell_type": "code",
   "execution_count": null,
   "metadata": {},
   "outputs": [],
   "source": [
    "# popdf[\"type_ct\"] = popdf.tokens.map(lambda x: len(set(x)))    # type not used in present analysis\n",
    "# popdf[\"TTR\"] = popdf.type_ct / popdf.token_ct                 # TTR not used in present analysis"
   ]
  },
  {
   "cell_type": "code",
   "execution_count": null,
   "metadata": {},
   "outputs": [],
   "source": [
    "popdf.describe()"
   ]
  },
  {
   "cell_type": "markdown",
   "metadata": {},
   "source": [
    "The token count minimum is 0, meaning there are empty strings still left in the data.  Time to remove those!  We'll also get rid of 'instrumental' lyrics and songs with string 'NA' as their lyric entries."
   ]
  },
  {
   "cell_type": "code",
   "execution_count": null,
   "metadata": {},
   "outputs": [],
   "source": [
    "# save full dataset to different object in case it's needed later\n",
    "popdf_orig = popdf\n",
    "\n",
    "# drop empty/null lyrics, and instrumental lyrics\n",
    "popdf = popdf[~popdf.lyrics.isin(['', 'instrumental', 'NA'])]\n",
    "popdf.describe()"
   ]
  },
  {
   "cell_type": "markdown",
   "metadata": {},
   "source": [
    "Since this dataset contains the most popular music *each year*, there's a potential for some songs to be listed for multiple years.  Therefore, we need to make sure we remove duplicates."
   ]
  },
  {
   "cell_type": "code",
   "execution_count": null,
   "metadata": {},
   "outputs": [],
   "source": [
    "# Remove lyric duplicates\n",
    "popdf = popdf[~popdf.lyrics.duplicated()]"
   ]
  },
  {
   "cell_type": "code",
   "execution_count": null,
   "metadata": {},
   "outputs": [],
   "source": [
    "popdf.describe()"
   ]
  },
  {
   "cell_type": "code",
   "execution_count": null,
   "metadata": {
    "scrolled": true
   },
   "outputs": [],
   "source": [
    "popdf.token_ct.plot(kind = \"box\", rot=0, title = \"Pop Music Token Count Distribution\")\n",
    "plt.savefig('../images/pop_token_count_dist.png')"
   ]
  },
  {
   "cell_type": "markdown",
   "metadata": {},
   "source": [
    "There are still some pretty long lyrics here, but the maximum token count is still nearly half that of the outsider music.  The distribution here seems to be a little more normal.  While the outside music had a great wealth of data crammed around the mean token count of 215.  Here, the mean is a little higher, at about 330 tokens per song (and potentially more, given that some words are concatenated mistakenly) and the spread is more consistent."
   ]
  },
  {
   "cell_type": "markdown",
   "metadata": {},
   "source": [
    "**Artist Distribution**"
   ]
  },
  {
   "cell_type": "code",
   "execution_count": null,
   "metadata": {},
   "outputs": [],
   "source": [
    "popdf.artist.describe()"
   ]
  },
  {
   "cell_type": "markdown",
   "metadata": {},
   "source": [
    "This dataset has 2,335 unique artists (compared to our measly 62 artists in the outsider dataset)."
   ]
  },
  {
   "cell_type": "code",
   "execution_count": null,
   "metadata": {},
   "outputs": [],
   "source": [
    "popdf.artist.value_counts()"
   ]
  },
  {
   "cell_type": "markdown",
   "metadata": {},
   "source": [
    "This dataset is much less skewed toward any particular artist. Madonna, who is most represented in Pavlik's Billboard data, only has 33 songs total."
   ]
  },
  {
   "cell_type": "code",
   "execution_count": null,
   "metadata": {},
   "outputs": [],
   "source": [
    "# Separate the top 15 artists\n",
    "pop_artists_to_plot = popdf.artist.value_counts()[:15]\n",
    "pop_few_artist = popdf.artist.value_counts()[15:]\n",
    "\n",
    "# Create an \"other\" group, which sums together the bottom artist counts\n",
    "sum = 0\n",
    "for y in pop_few_artist:\n",
    "    sum = sum +y\n",
    "pop_artists_to_plot = pop_artists_to_plot.append(pd.Series(sum))\n",
    "pop_artists_to_plot.rename(index={0:'Other'},inplace=True)"
   ]
  },
  {
   "cell_type": "code",
   "execution_count": null,
   "metadata": {},
   "outputs": [],
   "source": [
    "# How much of the data do the top 15 artists represent?\n",
    "1 - sum / len(popdf)"
   ]
  },
  {
   "cell_type": "code",
   "execution_count": null,
   "metadata": {
    "scrolled": true
   },
   "outputs": [],
   "source": [
    "# Only shows the top 15 artists to be comparable to the outsider music chart\n",
    "plt.pie(pop_artists_to_plot)\n",
    "plt.title(\"Top 15 Pop Artists Distribution\")\n",
    "plt.legend(pop_artists_to_plot.index, bbox_to_anchor=(-0.1, 1.),\n",
    "           fontsize=8)\n",
    "plt.tight_layout()\n",
    "plt.savefig('../images/pop_artist_dist_fig.png')\n",
    "plt.show()"
   ]
  },
  {
   "cell_type": "markdown",
   "metadata": {},
   "source": [
    "This chart isn't a wonderfully informative visualization on its own, but in contrast to the outsider music dataset, you can see that the distribution is much less skewed toward any one artist.  The brown section, representing artists beyond the top-15, is 94% of the data.  Below, I will visualize again, but using a number of top artists proportional to the number of artists in Pavlik's dataset."
   ]
  },
  {
   "cell_type": "code",
   "execution_count": null,
   "metadata": {},
   "outputs": [],
   "source": [
    "# Instead, use the top 24% of artists\n",
    "proportion = 15/len(lyricsdf.artist.unique())\n",
    "size = proportion * len(popdf.artist.unique())\n",
    "size"
   ]
  },
  {
   "cell_type": "code",
   "execution_count": null,
   "metadata": {},
   "outputs": [],
   "source": [
    "# Separate top 565 artists\n",
    "pop_artists_to_plot = popdf.artist.value_counts()[:566]\n",
    "pop_few_artist = popdf.artist.value_counts()[566:]\n",
    "\n",
    "# Create an \"other\" group, which sums together the bottom artist counts\n",
    "sum = 0\n",
    "for y in pop_few_artist:\n",
    "    sum = sum +y\n",
    "pop_artists_to_plot = pop_artists_to_plot.append(pd.Series(sum))\n",
    "pop_artists_to_plot.rename(index={0:'Other'},inplace=True)"
   ]
  },
  {
   "cell_type": "code",
   "execution_count": null,
   "metadata": {},
   "outputs": [],
   "source": [
    "# How much of the data do the top 565 artists represent?\n",
    "sum / len(popdf)"
   ]
  },
  {
   "cell_type": "code",
   "execution_count": null,
   "metadata": {},
   "outputs": [],
   "source": [
    "# Shows the top 556 artists to be comparable *proportionally* to the outsider music chart\n",
    "plt.pie(pop_artists_to_plot)\n",
    "plt.title(\"Top 556 Pop Artists - Proportional Pie Chart\")\n",
    "plt.savefig('../images/pop_proportional_artist_dist_fig.png')\n",
    "plt.show()"
   ]
  },
  {
   "cell_type": "markdown",
   "metadata": {},
   "source": [
    "Once again, alone, this chart is extremely unreadable, but it should be viewed contrastively to understand that, while the outsider music's \"Other\" artist category (about 76% of the artists) took up only 16.9% of the total lyrics dataset, the Billboard Pop Music dataset has 41.7% of its data in this \"Other\" category.\n",
    "\n",
    "It should be clear by now, then, that a major issue with the outsider music dataset will be its representativeness, or generalizability.  Given the nature of the outsider music dataset (and given enough time), it would be interesting to analyze the outsider music dataset split between Wesley Willis songs alone and the full dataset without Willis's music. This could give some insight into how much Wesley Willis influences the overall dataset, as well as show whether the conventional understanding of outsider music is attrubutable mostly to Wesley Willis, if it does not hold true for both parts of the full dataset.\n",
    "\n",
    "**Most Common Words**"
   ]
  },
  {
   "cell_type": "code",
   "execution_count": null,
   "metadata": {},
   "outputs": [],
   "source": [
    "# most common words in the pop dataset\n",
    "poptoks = []\n",
    "\n",
    "for toks in popdf.tokens:\n",
    "    poptoks.extend(toks)\n",
    "\n",
    "popfreq = Counter(poptoks)\n",
    "print(popfreq.most_common(20))"
   ]
  },
  {
   "cell_type": "code",
   "execution_count": null,
   "metadata": {},
   "outputs": [],
   "source": [
    "# Create bar plot with most common words and their counts\n",
    "word = []\n",
    "count = []\n",
    "for (w, c) in popfreq.most_common(20):\n",
    "    word.append(w)\n",
    "    count.append(c)\n",
    "plt.bar(word, count)\n",
    "plt.xticks(rotation = 90)\n",
    "plt.title(\"Most Common Words in Popular Music\")\n",
    "plt.savefig(\"../images/pop_most_common_words\")\n",
    "plt.show()"
   ]
  },
  {
   "cell_type": "code",
   "execution_count": null,
   "metadata": {},
   "outputs": [],
   "source": [
    "# If we remove stopwords and punctuation, what do we get?\n",
    "stopwords = nltk.corpus.stopwords.words('english')\n",
    "# alter  stopwords so that it will catch \"dont\", \"cant\", etc.\n",
    "stopwords = [x.replace(\"'\", \"\") for x in stopwords]\n",
    "filtered_popfreq = dict((word, freq) for word, freq in popfreq.items() if word not in (stopwords))\n",
    "popdf_fd = nltk.FreqDist(filtered_popfreq)\n",
    "print(popdf_fd.most_common(20))"
   ]
  },
  {
   "cell_type": "code",
   "execution_count": null,
   "metadata": {},
   "outputs": [],
   "source": [
    "# Create bar plot with most common words and their counts (NOT including stopwords)\n",
    "word = []\n",
    "count = []\n",
    "for (w, c) in popdf_fd.most_common(20):\n",
    "    word.append(w)\n",
    "    count.append(c)\n",
    "plt.bar(word, count)\n",
    "plt.xticks(rotation = 90)\n",
    "plt.title(\"Most Common Words in Popular Music (Without Stopwords)\")\n",
    "plt.savefig(\"../images/pop_most_common_words_nostops\")\n",
    "plt.show()"
   ]
  },
  {
   "cell_type": "code",
   "execution_count": null,
   "metadata": {},
   "outputs": [],
   "source": [
    "# Check up on \"rock\" and \"ass\" in the popular music dataset\n",
    "rock = popdf_fd[\"rock\"]\n",
    "ass = popdf_fd[\"ass\"]\n",
    "rockpct = popdf_fd[\"rock\"] / popdf.token_ct.sum()\n",
    "asspct = popdf_fd[\"ass\"] / popdf.token_ct.sum()\n",
    "print(\"In Popular Music:\\n\",\n",
    "    \"'rock' count =\", rock, \"\\n\",\n",
    "     \"'ass' count =\", ass, \"\\n\",\n",
    "     \"'rock' % =\", rockpct, \"\\n\",\n",
    "     \"'ass' % =\", asspct, \"\\n\")"
   ]
  },
  {
   "cell_type": "markdown",
   "metadata": {},
   "source": [
    "Seeing words like \"im,\" \"dont,\" \"youre,\" and \"cant\" pop up in the first non-stopwords analysis is a bit tell-tale that Pavlik's dataset has been cleaned very differently from the outsider music dataset.  Just removing the apostrophes in the stopwords list isn't enough either, since stopwords expects that the data is tokenized to split contractions (e.g., \"i\", \"'\", \"m\", for \"I'm\")"
   ]
  },
  {
   "cell_type": "markdown",
   "metadata": {
    "scrolled": false
   },
   "source": [
    "## Breakdown by Most Represented Outsider Musicians\n",
    "### The Big 3:\n",
    "**Wesley Willis, Jandek, and Daniel Johnston**    \n",
    "These are the top 3 artists in the Outsider Music dataset.  They make up nearly 40% of the data, meaning the other remaining 59 artists comprise only a little over 60% of the data."
   ]
  },
  {
   "cell_type": "code",
   "execution_count": null,
   "metadata": {},
   "outputs": [],
   "source": [
    "def top3(x):\n",
    "    if x in [\"Wesley Willis\", \"Jandek\", \"Daniel Johnston\"]:\n",
    "        return \"top 3\"\n",
    "    else:\n",
    "        return \"other\"\n",
    "    \n",
    "lyricsdf[\"top3\"] = lyricsdf.artist.map(lambda x: top3(x))"
   ]
  },
  {
   "cell_type": "code",
   "execution_count": null,
   "metadata": {},
   "outputs": [],
   "source": [
    "# Plot the top 3 artists' song counts against all other songs in the Outsider dataset\n",
    "plt.barh(lyricsdf.top3.unique(), lyricsdf.top3.value_counts(), color = \"olivedrab\")\n",
    "plt.title(\"Wesley Willis, Jandek, and Daniel Johnston Songs vs. Other Artists\")\n",
    "plt.savefig(\"../images/top3_vs_other_artists_distribution\")\n",
    "plt.show()"
   ]
  },
  {
   "cell_type": "markdown",
   "metadata": {},
   "source": [
    "### Now What?\n",
    "The data is clearly skewed, so further investigation of the outsider music dataset vs. the popular music dataset seems a bit futile.  Any information gleaned from further analysis will be indeterminate, not fully representative of all outsider musicians and not fully representative of artists like Wesley Willis, Jandek, or Daniel Johnston.\n",
    "\n",
    "To conclude, we'll separate out the top 3 artists' music into 3 datasets and visualize the trends in their data against trends in the remaining musicians' lyrics.  This should give some insight into the skew of the data!\n",
    "\n",
    "Deeper analysis for this section can be found in the final_report.md."
   ]
  },
  {
   "cell_type": "code",
   "execution_count": null,
   "metadata": {},
   "outputs": [],
   "source": [
    "# separate Outsider Musicians into 4 datasets:\n",
    "willis = lyricsdf[lyricsdf.artist == \"Wesley Willis\"]\n",
    "jandek = lyricsdf[lyricsdf.artist == \"Jandek\"]\n",
    "danjohn = lyricsdf[lyricsdf.artist == \"Daniel Johnston\"]\n",
    "\n",
    "# Currently just looking at not Wesley Willis's Music!\n",
    "otherout = lyricsdf[lyricsdf.artist != \"Wesley Willis\"]"
   ]
  },
  {
   "cell_type": "code",
   "execution_count": null,
   "metadata": {},
   "outputs": [],
   "source": [
    "willis.describe()"
   ]
  },
  {
   "cell_type": "code",
   "execution_count": null,
   "metadata": {},
   "outputs": [],
   "source": [
    "jandek.describe()"
   ]
  },
  {
   "cell_type": "code",
   "execution_count": null,
   "metadata": {},
   "outputs": [],
   "source": [
    "danjohn.describe()"
   ]
  },
  {
   "cell_type": "code",
   "execution_count": null,
   "metadata": {},
   "outputs": [],
   "source": [
    "otherout.describe()"
   ]
  },
  {
   "cell_type": "markdown",
   "metadata": {},
   "source": [
    "**Non-Wesley Willis Outsider Music**\n",
    "- Artist Distribution\n",
    "- Token Distribution\n",
    "- Most Common Words"
   ]
  },
  {
   "cell_type": "code",
   "execution_count": null,
   "metadata": {},
   "outputs": [],
   "source": [
    "# Separate out the top 15 non-Wesley Willis artists\n",
    "artists_to_plot = otherout.artist.value_counts()[:15]\n",
    "few_artist = otherout.artist.value_counts()[15:]\n",
    "\n",
    "# Create an \"other\" group, which sums together the bottom artist counts\n",
    "sum = 0\n",
    "for y in few_artist:\n",
    "    sum = sum +y\n",
    "artists_to_plot = artists_to_plot.append(pd.Series(sum))\n",
    "artists_to_plot.rename(index={0:'Other'},inplace=True)"
   ]
  },
  {
   "cell_type": "code",
   "execution_count": null,
   "metadata": {},
   "outputs": [],
   "source": [
    "# Only shows the top 15 artists, as well as 48 \"Other\" artists grouped together\n",
    "plt.pie(artists_to_plot, autopct='%1.1f%%', pctdistance = 1.2, labeldistance = 1.4)\n",
    "plt.legend(artists_to_plot.index, bbox_to_anchor=(-0.1, 1.),\n",
    "           fontsize=8)\n",
    "plt.title(\"Non-Wesley Willis Outsider Artist Distribution\")\n",
    "plt.savefig('../images/otherout_artist_dist_fig.png')\n",
    "plt.tight_layout()\n",
    "plt.show()"
   ]
  },
  {
   "cell_type": "markdown",
   "metadata": {},
   "source": [
    "The remaining 46 artists still represent less than 20% of the data.  Jandek, Daniel Johnston, Viper, Brian Wilson, and John Frusciante still make up a good portion of this data, but currently the goal is just to see exactly how much of the skew is toward *Wesley Willis*.  Other artists may be analyzed later."
   ]
  },
  {
   "cell_type": "code",
   "execution_count": null,
   "metadata": {},
   "outputs": [],
   "source": [
    "otherout.token_ct.plot(kind = \"box\", rot=0, title = \"Non-Wesley Willis Outsider Music Token Count Distribution\")\n",
    "plt.savefig('../images/otherout_token_count_dist.png')"
   ]
  },
  {
   "cell_type": "code",
   "execution_count": null,
   "metadata": {},
   "outputs": [],
   "source": [
    "otherout.token_ct.describe()"
   ]
  },
  {
   "cell_type": "code",
   "execution_count": null,
   "metadata": {},
   "outputs": [],
   "source": [
    "# The most common words in the other outsiders dataset\n",
    "outtoks = []\n",
    "\n",
    "for toks in otherout.tokens:\n",
    "    outtoks.extend(toks)\n",
    "\n",
    "outfreq = Counter(outtoks)"
   ]
  },
  {
   "cell_type": "code",
   "execution_count": null,
   "metadata": {},
   "outputs": [],
   "source": [
    "# Create bar plot with most common words and their counts\n",
    "word = []\n",
    "count = []\n",
    "for (w, c) in outfreq.most_common(20):\n",
    "    word.append(w)\n",
    "    count.append(c)\n",
    "plt.bar(word, count)\n",
    "plt.xticks(rotation = 90)\n",
    "plt.title(\"Most Common Words in Non-Wesley Willis Outsider Music\")\n",
    "plt.savefig(\"../images/otherout_most_common_words\")\n",
    "plt.show()"
   ]
  },
  {
   "cell_type": "code",
   "execution_count": null,
   "metadata": {},
   "outputs": [],
   "source": [
    "# remove stopwords and punctuation\n",
    "stopwords = nltk.corpus.stopwords.words('english')\n",
    "stopwords.extend(['’', ',', '?', '!', '(', ')', '[', ']', '.', \"'\", '\"',])   # also remove punctuation\n",
    "filtered_outfreq = dict((word, freq) for word, freq in outfreq.items() if word not in (stopwords))\n",
    "otherout_fd = nltk.FreqDist(filtered_outfreq)"
   ]
  },
  {
   "cell_type": "code",
   "execution_count": null,
   "metadata": {},
   "outputs": [],
   "source": [
    "# Create bar plot with most common words and their counts (NOT including stopwords)\n",
    "word = []\n",
    "count = []\n",
    "for (w, c) in otherout_fd.most_common(20):\n",
    "    word.append(w)\n",
    "    count.append(c)\n",
    "plt.bar(word, count)\n",
    "plt.xticks(rotation = 90)\n",
    "plt.title(\"Most Common Words in Non-Wesley Willis Outsider Music (Without Stopwords)\", fontsize = 10)\n",
    "plt.savefig(\"../images/otherout_most_common_words_nostops\")\n",
    "plt.show()"
   ]
  },
  {
   "cell_type": "code",
   "execution_count": null,
   "metadata": {},
   "outputs": [],
   "source": [
    "# \"rock\" and \"ass\" in non-Wesley Willis Music\n",
    "rock = otherout_fd[\"rock\"]\n",
    "ass = otherout_fd[\"ass\"]\n",
    "rockpct = otherout_fd[\"rock\"] / otherout.token_ct.sum()\n",
    "asspct = otherout_fd[\"ass\"] / otherout.token_ct.sum()\n",
    "print(\"In non-Wesley Willis Outsider Music:\\n\",\n",
    "    \"'rock' count =\", rock, \"\\n\",\n",
    "     \"'ass' count =\", ass, \"\\n\",\n",
    "     \"'rock' % =\", rockpct, \"\\n\",\n",
    "     \"'ass' % =\", asspct, \"\\n\")"
   ]
  },
  {
   "cell_type": "markdown",
   "metadata": {},
   "source": [
    "**Wesley Willis ONLY**\n",
    "- Token Count Distribution\n",
    "- Most Common Words"
   ]
  },
  {
   "cell_type": "code",
   "execution_count": null,
   "metadata": {},
   "outputs": [],
   "source": [
    "willis.token_ct.plot(kind = \"box\", rot=0, title = \"Wesley Willis Outsider Music Token Count Distribution\")\n",
    "plt.savefig('../images/willis_token_count_dist.png')"
   ]
  },
  {
   "cell_type": "code",
   "execution_count": null,
   "metadata": {
    "scrolled": true
   },
   "outputs": [],
   "source": [
    "willis.token_ct.describe()"
   ]
  },
  {
   "cell_type": "code",
   "execution_count": null,
   "metadata": {},
   "outputs": [],
   "source": [
    "# The most common words in the Wesley Willis dataset\n",
    "outtoks = []\n",
    "\n",
    "for toks in willis.tokens:\n",
    "    outtoks.extend(toks)\n",
    "\n",
    "outfreq = Counter(outtoks)"
   ]
  },
  {
   "cell_type": "code",
   "execution_count": null,
   "metadata": {},
   "outputs": [],
   "source": [
    "# Create bar plot with most common words and their counts\n",
    "word = []\n",
    "count = []\n",
    "for (w, c) in outfreq.most_common(20):\n",
    "    word.append(w)\n",
    "    count.append(c)\n",
    "plt.bar(word, count)\n",
    "plt.xticks(rotation = 90)\n",
    "plt.title(\"Most Common Words in Wesley Willis Music\")\n",
    "plt.savefig(\"../images/willis_most_common_words\")\n",
    "plt.show()"
   ]
  },
  {
   "cell_type": "code",
   "execution_count": null,
   "metadata": {},
   "outputs": [],
   "source": [
    "# remove stopwords and punctuation\n",
    "filtered_outfreq = dict((word, freq) for word, freq in outfreq.items() if word not in (stopwords))\n",
    "willis_fd = nltk.FreqDist(filtered_outfreq)"
   ]
  },
  {
   "cell_type": "code",
   "execution_count": null,
   "metadata": {},
   "outputs": [],
   "source": [
    "# Create bar plot with most common words and their counts (NOT including stopwords)\n",
    "word = []\n",
    "count = []\n",
    "for (w, c) in willis_fd.most_common(20):\n",
    "    word.append(w)\n",
    "    count.append(c)\n",
    "plt.bar(word, count)\n",
    "plt.xticks(rotation = 90)\n",
    "plt.title(\"Most Common Words in Wesley Willis Music (Without Stopwords)\")\n",
    "plt.savefig(\"../images/willis_most_common_words_nostops\")\n",
    "plt.show()"
   ]
  },
  {
   "cell_type": "markdown",
   "metadata": {},
   "source": [
    "This is not surprising.  Willis's most common words: rock and ass!"
   ]
  },
  {
   "cell_type": "code",
   "execution_count": null,
   "metadata": {
    "scrolled": true
   },
   "outputs": [],
   "source": [
    "# \"Rock\" and \"ass\" in Wesley Willis's Music\n",
    "rock = willis_fd[\"rock\"]\n",
    "ass = willis_fd[\"ass\"]\n",
    "rockpct = willis_fd[\"rock\"] / willis.token_ct.sum()\n",
    "asspct = willis_fd[\"ass\"] / willis.token_ct.sum()\n",
    "print(\"In Wesley Willis Music:\\n\",\n",
    "    \"'rock' count =\", rock, \"\\n\",\n",
    "     \"'ass' count =\", ass, \"\\n\",\n",
    "     \"'rock' % =\", rockpct, \"\\n\",\n",
    "     \"'ass' % =\", asspct, \"\\n\")"
   ]
  },
  {
   "cell_type": "markdown",
   "metadata": {},
   "source": [
    "**Jandek, Daniel Johnston, and Non-Top 3 Outsider Musicians**    \n",
    "Lastly, let's run a quick analysis on Jandek and Daniel Johnston, just to see if their data may have skewed the original analysis, as well.\n",
    "- Token Distribution\n",
    "- Most Common Words"
   ]
  },
  {
   "cell_type": "code",
   "execution_count": null,
   "metadata": {},
   "outputs": [],
   "source": [
    "# Create a dataset without the top 3 artists:\n",
    "notop3 = lyricsdf[~lyricsdf.artist.isin([\"Wesley Willis\", \"Daniel Johnston\", \"Jandek\"])]"
   ]
  },
  {
   "cell_type": "code",
   "execution_count": null,
   "metadata": {},
   "outputs": [],
   "source": [
    "# Plot the token distribution without the top 3 artists\n",
    "notop3.token_ct.plot(kind = \"box\", rot=0, title = \"Outsider Music without Top 3 Artists - Token Count Distribution\")\n",
    "plt.savefig('../images/no_top3_token_count_dist.png')"
   ]
  },
  {
   "cell_type": "code",
   "execution_count": null,
   "metadata": {},
   "outputs": [],
   "source": [
    "notop3.token_ct.describe()"
   ]
  },
  {
   "cell_type": "code",
   "execution_count": null,
   "metadata": {},
   "outputs": [],
   "source": [
    "# Jandek's token count distribution\n",
    "jandek.token_ct.plot(kind = \"box\", rot=0, title = \"Jandek Token Count Distribution\")\n",
    "plt.savefig('../images/jandek_token_count_dist.png')"
   ]
  },
  {
   "cell_type": "code",
   "execution_count": null,
   "metadata": {},
   "outputs": [],
   "source": [
    "jandek.token_ct.describe()"
   ]
  },
  {
   "cell_type": "code",
   "execution_count": null,
   "metadata": {},
   "outputs": [],
   "source": [
    "# Daniel Johnston's token count distribution\n",
    "danjohn.token_ct.plot(kind = \"box\", rot=0, title = \"Daniel Johnston Token Count Distribution\")\n",
    "plt.savefig('../images/daniel_johnston_token_count_dist.png')"
   ]
  },
  {
   "cell_type": "code",
   "execution_count": null,
   "metadata": {},
   "outputs": [],
   "source": [
    "danjohn.token_ct.describe()"
   ]
  },
  {
   "cell_type": "code",
   "execution_count": null,
   "metadata": {},
   "outputs": [],
   "source": [
    "# The most common words in the non-top 3 outsiders dataset\n",
    "outtoks = []\n",
    "\n",
    "for toks in notop3.tokens:\n",
    "    outtoks.extend(toks)\n",
    "\n",
    "outfreq = Counter(outtoks)\n",
    "\n",
    "# Create a plot for most common 20 words\n",
    "word = []\n",
    "count = []\n",
    "for (w, c) in outfreq.most_common(20):\n",
    "    word.append(w)\n",
    "    count.append(c)\n",
    "plt.bar(word, count)\n",
    "plt.xticks(rotation = 90)\n",
    "plt.title(\"Most Common Words in Non-Top 3 Outsider Music\")\n",
    "plt.savefig(\"../images/no_top3_most_common_words\")\n",
    "plt.show()"
   ]
  },
  {
   "cell_type": "code",
   "execution_count": null,
   "metadata": {},
   "outputs": [],
   "source": [
    "# remove stopwords and punctuation\n",
    "stopwords = nltk.corpus.stopwords.words('english')\n",
    "stopwords.extend(['’', ',', '?', '!', '(', ')', '[', ']', '.', \"'\", '\"',])\n",
    "filtered_outfreq = dict((word, freq) for word, freq in outfreq.items() if word not in (stopwords))\n",
    "notop3_fd = nltk.FreqDist(filtered_outfreq)\n",
    "\n",
    "# Create a plot for most common 20 words (NOT including stopwords)\n",
    "word = []\n",
    "count = []\n",
    "for (w, c) in notop3_fd.most_common(20):\n",
    "    word.append(w)\n",
    "    count.append(c)\n",
    "plt.bar(word, count)\n",
    "plt.xticks(rotation = 90)\n",
    "plt.title(\"Most Common Words in Non-Top 3 Outsider Music (Without Stopwords)\")\n",
    "plt.savefig(\"../images/no_top3_most_common_words_nostops\")\n",
    "plt.show()"
   ]
  },
  {
   "cell_type": "code",
   "execution_count": null,
   "metadata": {
    "scrolled": true
   },
   "outputs": [],
   "source": [
    "# The most common words in the Jandek dataset\n",
    "outtoks = []\n",
    "\n",
    "for toks in jandek.tokens:\n",
    "    outtoks.extend(toks)\n",
    "\n",
    "outfreq = Counter(outtoks)\n",
    "\n",
    "# Create a plot for most common 20 words\n",
    "word = []\n",
    "count = []\n",
    "for (w, c) in outfreq.most_common(20):\n",
    "    word.append(w)\n",
    "    count.append(c)\n",
    "plt.bar(word, count)\n",
    "plt.xticks(rotation = 90)\n",
    "plt.title(\"Most Common Words in Jandek Music\")\n",
    "plt.savefig(\"../images/jandek_most_common_words\")\n",
    "plt.show()"
   ]
  },
  {
   "cell_type": "code",
   "execution_count": null,
   "metadata": {},
   "outputs": [],
   "source": [
    "# remove stopwords and punctuation\n",
    "filtered_outfreq = dict((word, freq) for word, freq in outfreq.items() if word not in (stopwords))\n",
    "jandek_fd = nltk.FreqDist(filtered_outfreq)\n",
    "\n",
    "# Create a plot for most common 20 words (NOT including stopwords)\n",
    "word = []\n",
    "count = []\n",
    "for (w, c) in jandek_fd.most_common(20):\n",
    "    word.append(w)\n",
    "    count.append(c)\n",
    "plt.bar(word, count)\n",
    "plt.xticks(rotation = 90)\n",
    "plt.title(\"Most Common Words in Jandek Music (Without Stopwords)\")\n",
    "plt.savefig(\"../images/jandek_most_common_words_nostops\")\n",
    "plt.show()"
   ]
  },
  {
   "cell_type": "code",
   "execution_count": null,
   "metadata": {},
   "outputs": [],
   "source": [
    "# The most common words in the Daniel Johnston dataset\n",
    "outtoks = []\n",
    "\n",
    "for toks in danjohn.tokens:\n",
    "    outtoks.extend(toks)\n",
    "\n",
    "outfreq = Counter(outtoks)\n",
    "\n",
    "# Create a plot for most common 20 words\n",
    "word = []\n",
    "count = []\n",
    "for (w, c) in outfreq.most_common(20):\n",
    "    word.append(w)\n",
    "    count.append(c)\n",
    "plt.bar(word, count)\n",
    "plt.xticks(rotation = 90)\n",
    "plt.title(\"Most Common Words in Daniel Johnston Music\")\n",
    "plt.savefig(\"../images/daniel_johnston_most_common_words\")\n",
    "plt.show()"
   ]
  },
  {
   "cell_type": "code",
   "execution_count": null,
   "metadata": {},
   "outputs": [],
   "source": [
    "# remove stopwords and punctuation\n",
    "filtered_outfreq = dict((word, freq) for word, freq in outfreq.items() if word not in (stopwords))\n",
    "danjohn_fd = nltk.FreqDist(filtered_outfreq)\n",
    "\n",
    "# Create a plot for most common 20 words (NOT including stopwords)\n",
    "word = []\n",
    "count = []\n",
    "for (w, c) in danjohn_fd.most_common(20):\n",
    "    word.append(w)\n",
    "    count.append(c)\n",
    "plt.bar(word, count)\n",
    "plt.xticks(rotation = 90)\n",
    "plt.title(\"Most Common Words in Daniel Johnston Music (Without Stopwords)\")\n",
    "plt.savefig(\"../images/daniel_johnston_most_common_words_nostops\")\n",
    "plt.show()"
   ]
  },
  {
   "cell_type": "code",
   "execution_count": null,
   "metadata": {},
   "outputs": [],
   "source": [
    "# Jandek's 2 most common words:\n",
    "# KNOW\n",
    "know = jandek_fd[\"know\"]\n",
    "knowpct = jandek_fd[\"know\"] / jandek.token_ct.sum()\n",
    "print(\"KNOW in Jandek Music:\\n\",\n",
    "    \"'know' count =\", know, \"\\n\",\n",
    "     \"'know' % =\", knowpct)\n",
    "\n",
    "know = notop3_fd[\"know\"]\n",
    "knowpct = notop3_fd[\"know\"] / notop3.token_ct.sum()\n",
    "print(\"KNOW in Outsider Music without Top 3 Artists:\\n\",\n",
    "    \"'know' count =\", know, \"\\n\",\n",
    "     \"'know' % =\", knowpct)"
   ]
  },
  {
   "cell_type": "code",
   "execution_count": null,
   "metadata": {},
   "outputs": [],
   "source": [
    "# GOT\n",
    "got = jandek_fd[\"got\"]\n",
    "gotpct = jandek_fd[\"got\"] / jandek.token_ct.sum()\n",
    "print(\"GOT in Jandek Music:\\n\",\n",
    "    \"'got' count =\", got, \"\\n\",\n",
    "     \"'got' % =\", gotpct)\n",
    "\n",
    "got = notop3_fd[\"got\"]\n",
    "gotpct = notop3_fd[\"got\"] / notop3.token_ct.sum()\n",
    "print(\"GOT in Outsider Music without Top 3 Artists:\\n\",\n",
    "    \"'got' count =\", got, \"\\n\",\n",
    "     \"'got' % =\", gotpct)"
   ]
  },
  {
   "cell_type": "code",
   "execution_count": null,
   "metadata": {},
   "outputs": [],
   "source": [
    "# Daniel Johnston's most common word:\n",
    "# LOVE\n",
    "love = danjohn_fd[\"love\"]\n",
    "lovepct = danjohn_fd[\"love\"] / danjohn.token_ct.sum()\n",
    "print(\"LOVE in Daniel Johnston Music:\\n\",\n",
    "    \"'love' count =\", love, \"\\n\",\n",
    "     \"'love' % =\", lovepct)\n",
    "\n",
    "love = notop3_fd[\"love\"]\n",
    "lovepct = notop3_fd[\"love\"] / notop3.token_ct.sum()\n",
    "print(\"LOVE in Outsider Music without Top 3 Artists:\\n\",\n",
    "    \"'love' count =\", love, \"\\n\",\n",
    "     \"'love' % =\", lovepct)"
   ]
  }
 ],
 "metadata": {
  "kernelspec": {
   "display_name": "Python 3",
   "language": "python",
   "name": "python3"
  },
  "language_info": {
   "codemirror_mode": {
    "name": "ipython",
    "version": 3
   },
   "file_extension": ".py",
   "mimetype": "text/x-python",
   "name": "python",
   "nbconvert_exporter": "python",
   "pygments_lexer": "ipython3",
   "version": "3.7.4"
  }
 },
 "nbformat": 4,
 "nbformat_minor": 2
}
