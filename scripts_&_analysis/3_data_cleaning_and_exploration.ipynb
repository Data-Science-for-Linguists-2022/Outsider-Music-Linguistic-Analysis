{
 "cells": [
  {
   "cell_type": "markdown",
   "metadata": {},
   "source": [
    "# Data Cleaning and Exploration\n"
   ]
  },
  {
   "cell_type": "markdown",
   "metadata": {},
   "source": [
    "## Table of Contents:\n",
    "1. [Important Information](http://localhost:8888/notebooks/Documents/DataSci/Outsider-Music-Linguistic-Analysis/scripts_%26_analysis/3_data_cleaning_and_exploration.ipynb#Important-Information)\n",
    "2. [Unpickle the Data](http://localhost:8888/notebooks/Documents/DataSci/Outsider-Music-Linguistic-Analysis/scripts_%26_analysis/3_data_cleaning_and_exploration.ipynb#Unpickle-the-Data)    \n",
    "3. [Initial Data Exploration](http://localhost:8888/notebooks/Documents/DataSci/Outsider-Music-Linguistic-Analysis/scripts_%26_analysis/3_data_cleaning_and_exploration.ipynb#Initial-Data-Exploration)    \n",
    "4. [Data Cleaning](http://localhost:8888/notebooks/Documents/DataSci/Outsider-Music-Linguistic-Analysis/scripts_%26_analysis/3_data_cleaning_and_exploration.ipynb#Data-Cleaning)"
   ]
  },
  {
   "cell_type": "markdown",
   "metadata": {},
   "source": [
    "## Important Information\n",
    "### Prior to the Creation of this Script:\n",
    "I have scraped the list of musicians from Wikipedia using wiki_musicians.py.  I manually cleaned the text file to remove double quotations (\"\") and parentheticals like \"(performer),\" \"(musician),\" and \"(singer),\" since it was manageable with just 111 artists.\n",
    "\n",
    "I then retrieved lyrics from these artists from Genius.com using lyricsgenius_requests.ipynb, where 70+ artist-queries successfully returned JSON files.\n",
    "\n",
    "Lastly, I created and pickled the lyrics data frame (or rough_df.pkl, not uploaded in the repo) in the [load_json_to_df.ipynb](http://localhost:8888/notebooks/Documents/DataSci/Outsider-Music-Linguistic-Analysis/scripts_%26_analysis/2_load_json_to_df.ipynb) script, where an additional 8 artists could not be successfully loaded, due to entirely null lyrical entries.  This pickled data frame remains in my local repository.\n",
    "\n",
    "The steps above were broken into multiple scripts to avoid re-running time-intensive queries."
   ]
  },
  {
   "cell_type": "markdown",
   "metadata": {},
   "source": [
    "## Unpickle the Data"
   ]
  },
  {
   "cell_type": "code",
   "execution_count": 1,
   "metadata": {},
   "outputs": [],
   "source": [
    "import pickle\n",
    "f = open('../data/rough_df.pkl', 'rb')\n",
    "lyricsdf = pickle.load(f)\n",
    "f.close()"
   ]
  },
  {
   "cell_type": "code",
   "execution_count": 2,
   "metadata": {},
   "outputs": [
    {
     "data": {
      "text/html": [
       "<div>\n",
       "<style scoped>\n",
       "    .dataframe tbody tr th:only-of-type {\n",
       "        vertical-align: middle;\n",
       "    }\n",
       "\n",
       "    .dataframe tbody tr th {\n",
       "        vertical-align: top;\n",
       "    }\n",
       "\n",
       "    .dataframe thead th {\n",
       "        text-align: right;\n",
       "    }\n",
       "</style>\n",
       "<table border=\"1\" class=\"dataframe\">\n",
       "  <thead>\n",
       "    <tr style=\"text-align: right;\">\n",
       "      <th></th>\n",
       "      <th>artist</th>\n",
       "      <th>title</th>\n",
       "      <th>lyrics</th>\n",
       "    </tr>\n",
       "  </thead>\n",
       "  <tbody>\n",
       "    <tr>\n",
       "      <td>0</td>\n",
       "      <td>Abner Jay</td>\n",
       "      <td>Bring It When You Come</td>\n",
       "      <td>Bring It When You Come Lyrics\\nTerrible things...</td>\n",
       "    </tr>\n",
       "    <tr>\n",
       "      <td>1</td>\n",
       "      <td>Abner Jay</td>\n",
       "      <td>Cocaine</td>\n",
       "      <td>Cocaine Lyrics\\nFolk music is high-class music...</td>\n",
       "    </tr>\n",
       "    <tr>\n",
       "      <td>2</td>\n",
       "      <td>Abner Jay</td>\n",
       "      <td>Cocaine Blues</td>\n",
       "      <td>Cocaine Blues LyricsCocaine, Cocaine\\nRunning ...</td>\n",
       "    </tr>\n",
       "    <tr>\n",
       "      <td>3</td>\n",
       "      <td>Abner Jay</td>\n",
       "      <td>Don’t Mess with Me Baby</td>\n",
       "      <td>Don’t Mess with Me Baby Lyrics\\nTerrible thing...</td>\n",
       "    </tr>\n",
       "    <tr>\n",
       "      <td>4</td>\n",
       "      <td>Abner Jay</td>\n",
       "      <td>I cried</td>\n",
       "      <td>I cried LyricsI, I cried\\nI cried in the ni-ig...</td>\n",
       "    </tr>\n",
       "  </tbody>\n",
       "</table>\n",
       "</div>"
      ],
      "text/plain": [
       "      artist                    title  \\\n",
       "0  Abner Jay   Bring It When You Come   \n",
       "1  Abner Jay                  Cocaine   \n",
       "2  Abner Jay            Cocaine Blues   \n",
       "3  Abner Jay  Don’t Mess with Me Baby   \n",
       "4  Abner Jay                  I cried   \n",
       "\n",
       "                                              lyrics  \n",
       "0  Bring It When You Come Lyrics\\nTerrible things...  \n",
       "1  Cocaine Lyrics\\nFolk music is high-class music...  \n",
       "2  Cocaine Blues LyricsCocaine, Cocaine\\nRunning ...  \n",
       "3  Don’t Mess with Me Baby Lyrics\\nTerrible thing...  \n",
       "4  I cried LyricsI, I cried\\nI cried in the ni-ig...  "
      ]
     },
     "execution_count": 2,
     "metadata": {},
     "output_type": "execute_result"
    }
   ],
   "source": [
    "lyricsdf.head()"
   ]
  },
  {
   "cell_type": "markdown",
   "metadata": {},
   "source": [
    "## Initial Data Exploration\n",
    "Before cleaning, I'd like to see the status of the data: \n",
    "- how many artists are there,\n",
    "- how many songs,\n",
    "- how many lyrics are empty strings,\n",
    "- how many are duplicates,\n",
    "- and what is the artist distribution like?"
   ]
  },
  {
   "cell_type": "code",
   "execution_count": 3,
   "metadata": {},
   "outputs": [],
   "source": [
    "import nltk\n",
    "import pandas as pd\n",
    "import numpy as np\n",
    "import matplotlib.pyplot as plt"
   ]
  },
  {
   "cell_type": "code",
   "execution_count": 4,
   "metadata": {},
   "outputs": [
    {
     "data": {
      "text/html": [
       "<div>\n",
       "<style scoped>\n",
       "    .dataframe tbody tr th:only-of-type {\n",
       "        vertical-align: middle;\n",
       "    }\n",
       "\n",
       "    .dataframe tbody tr th {\n",
       "        vertical-align: top;\n",
       "    }\n",
       "\n",
       "    .dataframe thead th {\n",
       "        text-align: right;\n",
       "    }\n",
       "</style>\n",
       "<table border=\"1\" class=\"dataframe\">\n",
       "  <thead>\n",
       "    <tr style=\"text-align: right;\">\n",
       "      <th></th>\n",
       "      <th>artist</th>\n",
       "      <th>title</th>\n",
       "      <th>lyrics</th>\n",
       "    </tr>\n",
       "  </thead>\n",
       "  <tbody>\n",
       "    <tr>\n",
       "      <td>count</td>\n",
       "      <td>3388</td>\n",
       "      <td>3388</td>\n",
       "      <td>3388</td>\n",
       "    </tr>\n",
       "    <tr>\n",
       "      <td>unique</td>\n",
       "      <td>63</td>\n",
       "      <td>3359</td>\n",
       "      <td>3187</td>\n",
       "    </tr>\n",
       "    <tr>\n",
       "      <td>top</td>\n",
       "      <td>Wesley Willis</td>\n",
       "      <td>Lullaby</td>\n",
       "      <td></td>\n",
       "    </tr>\n",
       "    <tr>\n",
       "      <td>freq</td>\n",
       "      <td>561</td>\n",
       "      <td>3</td>\n",
       "      <td>202</td>\n",
       "    </tr>\n",
       "  </tbody>\n",
       "</table>\n",
       "</div>"
      ],
      "text/plain": [
       "               artist    title lyrics\n",
       "count            3388     3388   3388\n",
       "unique             63     3359   3187\n",
       "top     Wesley Willis  Lullaby       \n",
       "freq              561        3    202"
      ]
     },
     "execution_count": 4,
     "metadata": {},
     "output_type": "execute_result"
    }
   ],
   "source": [
    "lyricsdf.describe()"
   ]
  },
  {
   "cell_type": "markdown",
   "metadata": {},
   "source": [
    "It looks like there are 3,388 lyric entries, with 63 unique artists. I sense there are a number of \"null\" lyrics, given that nearly 200 entries are not unique.  This may also be explained by duplicates (though I wouldn't expect exact duplicates for non-null lyrics)."
   ]
  },
  {
   "cell_type": "code",
   "execution_count": 5,
   "metadata": {},
   "outputs": [
    {
     "data": {
      "text/plain": [
       "202"
      ]
     },
     "execution_count": 5,
     "metadata": {},
     "output_type": "execute_result"
    }
   ],
   "source": [
    "# Find duplicates\n",
    "len(lyricsdf[lyricsdf.lyrics == \"\"])"
   ]
  },
  {
   "cell_type": "code",
   "execution_count": 6,
   "metadata": {},
   "outputs": [
    {
     "data": {
      "text/plain": [
       "False    3187\n",
       "True      201\n",
       "Name: lyrics, dtype: int64"
      ]
     },
     "execution_count": 6,
     "metadata": {},
     "output_type": "execute_result"
    }
   ],
   "source": [
    "lyricsdf.lyrics.duplicated().value_counts()"
   ]
  },
  {
   "cell_type": "markdown",
   "metadata": {},
   "source": [
    "201 lyric entries are duplicates of other entries, and 202 lyric entries are empty strings."
   ]
  },
  {
   "cell_type": "code",
   "execution_count": 7,
   "metadata": {},
   "outputs": [
    {
     "data": {
      "text/html": [
       "<div>\n",
       "<style scoped>\n",
       "    .dataframe tbody tr th:only-of-type {\n",
       "        vertical-align: middle;\n",
       "    }\n",
       "\n",
       "    .dataframe tbody tr th {\n",
       "        vertical-align: top;\n",
       "    }\n",
       "\n",
       "    .dataframe thead th {\n",
       "        text-align: right;\n",
       "    }\n",
       "</style>\n",
       "<table border=\"1\" class=\"dataframe\">\n",
       "  <thead>\n",
       "    <tr style=\"text-align: right;\">\n",
       "      <th></th>\n",
       "      <th>artist</th>\n",
       "      <th>title</th>\n",
       "      <th>lyrics</th>\n",
       "    </tr>\n",
       "  </thead>\n",
       "  <tbody>\n",
       "    <tr>\n",
       "      <td>count</td>\n",
       "      <td>3388</td>\n",
       "      <td>3388</td>\n",
       "      <td>3388</td>\n",
       "    </tr>\n",
       "    <tr>\n",
       "      <td>unique</td>\n",
       "      <td>63</td>\n",
       "      <td>3359</td>\n",
       "      <td>3187</td>\n",
       "    </tr>\n",
       "    <tr>\n",
       "      <td>top</td>\n",
       "      <td>Wesley Willis</td>\n",
       "      <td>Lullaby</td>\n",
       "      <td></td>\n",
       "    </tr>\n",
       "    <tr>\n",
       "      <td>freq</td>\n",
       "      <td>561</td>\n",
       "      <td>3</td>\n",
       "      <td>202</td>\n",
       "    </tr>\n",
       "  </tbody>\n",
       "</table>\n",
       "</div>"
      ],
      "text/plain": [
       "               artist    title lyrics\n",
       "count            3388     3388   3388\n",
       "unique             63     3359   3187\n",
       "top     Wesley Willis  Lullaby       \n",
       "freq              561        3    202"
      ]
     },
     "execution_count": 7,
     "metadata": {},
     "output_type": "execute_result"
    }
   ],
   "source": [
    "lyricsdf.describe()"
   ]
  },
  {
   "cell_type": "code",
   "execution_count": 8,
   "metadata": {},
   "outputs": [
    {
     "data": {
      "text/plain": [
       "Wesley Willis      561\n",
       "Jandek             351\n",
       "Daniel Johnston    316\n",
       "Viper              261\n",
       "Brian Wilson       237\n",
       "                  ... \n",
       "Lucia Pamela         1\n",
       "Dr. Demento          1\n",
       "Paul Hawkins         1\n",
       "Mrs. Miller          1\n",
       "Varg Vikernes        1\n",
       "Name: artist, Length: 63, dtype: int64"
      ]
     },
     "execution_count": 8,
     "metadata": {},
     "output_type": "execute_result"
    }
   ],
   "source": [
    "lyricsdf.artist.value_counts()"
   ]
  },
  {
   "cell_type": "markdown",
   "metadata": {},
   "source": [
    "A good portion of the data is made up of Wesley Willis music (561 songs), while it appears that many artists may only have 1 or 2 songs in the list.  Obviously, this may skew the analysis toward \"Wesley Willis\" music and away from the more general \"Outsider Music\" genre.  I will wait until my data is fully cleaned before making any judgments on how to deal with this potential skew."
   ]
  },
  {
   "cell_type": "code",
   "execution_count": 9,
   "metadata": {},
   "outputs": [
    {
     "data": {
      "text/plain": [
       "<matplotlib.axes._subplots.AxesSubplot at 0x28246a88148>"
      ]
     },
     "execution_count": 9,
     "metadata": {},
     "output_type": "execute_result"
    },
    {
     "data": {
      "image/png": "[encoded data removed]",
      "text/plain": [
       "<Figure size 432x288 with 1 Axes>"
      ]
     },
     "metadata": {
      "needs_background": "light"
     },
     "output_type": "display_data"
    }
   ],
   "source": [
    "lyricsdf.artist.value_counts().plot(kind = \"box\", rot=0, title = \"Artist Distribution\")"
   ]
  },
  {
   "cell_type": "markdown",
   "metadata": {},
   "source": [
    "This box plot is probably the cleanest way to visualize the artist distribution: there are many artists with only 1 or so songs in the data, as shown by the incredibly cramped 2nd quartile.  But there are also a handful of outliers with hundreds of songs present in the data."
   ]
  },
  {
   "cell_type": "markdown",
   "metadata": {},
   "source": [
    "## Data Cleaning"
   ]
  },
  {
   "cell_type": "markdown",
   "metadata": {},
   "source": [
    "As I move forward with data cleaning, I will need to first take care of the \"*Song Title* Lyrics\" issue present at the beginning of most (if not all) of the lyrics in the dataset, then strip whitespace from the ends of the lyric text and handle \"\\n\" within the lyric body.  I will also replace all empty strings \"\" with null values, so that they can be excluded from analysis later.  I will then take a closer look at remaining duplicates and try to weed out any non-lyrical entries."
   ]
  },
  {
   "cell_type": "code",
   "execution_count": 10,
   "metadata": {},
   "outputs": [],
   "source": [
    "# PROGRESS REPORT 2\n",
    "def removeTitle(df):\n",
    "    i = 0\n",
    "    while i != len(df):\n",
    "        row = df.iloc[i]\n",
    "        toRemove = row.title + \" Lyrics\"\n",
    "        row.lyrics = row.lyrics.lstrip(toRemove)\n",
    "        i = i+1"
   ]
  },
  {
   "cell_type": "code",
   "execution_count": 11,
   "metadata": {},
   "outputs": [],
   "source": [
    "removeTitle(lyricsdf)"
   ]
  },
  {
   "cell_type": "code",
   "execution_count": 12,
   "metadata": {},
   "outputs": [
    {
     "data": {
      "text/html": [
       "<div>\n",
       "<style scoped>\n",
       "    .dataframe tbody tr th:only-of-type {\n",
       "        vertical-align: middle;\n",
       "    }\n",
       "\n",
       "    .dataframe tbody tr th {\n",
       "        vertical-align: top;\n",
       "    }\n",
       "\n",
       "    .dataframe thead th {\n",
       "        text-align: right;\n",
       "    }\n",
       "</style>\n",
       "<table border=\"1\" class=\"dataframe\">\n",
       "  <thead>\n",
       "    <tr style=\"text-align: right;\">\n",
       "      <th></th>\n",
       "      <th>artist</th>\n",
       "      <th>title</th>\n",
       "      <th>lyrics</th>\n",
       "    </tr>\n",
       "  </thead>\n",
       "  <tbody>\n",
       "    <tr>\n",
       "      <td>0</td>\n",
       "      <td>Abner Jay</td>\n",
       "      <td>Bring It When You Come</td>\n",
       "      <td>\\nTerrible things, always happening\\nJust like...</td>\n",
       "    </tr>\n",
       "    <tr>\n",
       "      <td>1</td>\n",
       "      <td>Abner Jay</td>\n",
       "      <td>Cocaine</td>\n",
       "      <td>\\nFolk music is high-class music. There's a lo...</td>\n",
       "    </tr>\n",
       "    <tr>\n",
       "      <td>2</td>\n",
       "      <td>Abner Jay</td>\n",
       "      <td>Cocaine Blues</td>\n",
       "      <td>, Cocaine\\nRunning round my heart\\nAnd then ru...</td>\n",
       "    </tr>\n",
       "    <tr>\n",
       "      <td>3</td>\n",
       "      <td>Abner Jay</td>\n",
       "      <td>Don’t Mess with Me Baby</td>\n",
       "      <td>\\nTerrible things; that's what's getting all t...</td>\n",
       "    </tr>\n",
       "    <tr>\n",
       "      <td>4</td>\n",
       "      <td>Abner Jay</td>\n",
       "      <td>I cried</td>\n",
       "      <td>, I cried\\nI cried in the ni-ight\\nOh please c...</td>\n",
       "    </tr>\n",
       "  </tbody>\n",
       "</table>\n",
       "</div>"
      ],
      "text/plain": [
       "      artist                    title  \\\n",
       "0  Abner Jay   Bring It When You Come   \n",
       "1  Abner Jay                  Cocaine   \n",
       "2  Abner Jay            Cocaine Blues   \n",
       "3  Abner Jay  Don’t Mess with Me Baby   \n",
       "4  Abner Jay                  I cried   \n",
       "\n",
       "                                              lyrics  \n",
       "0  \\nTerrible things, always happening\\nJust like...  \n",
       "1  \\nFolk music is high-class music. There's a lo...  \n",
       "2  , Cocaine\\nRunning round my heart\\nAnd then ru...  \n",
       "3  \\nTerrible things; that's what's getting all t...  \n",
       "4  , I cried\\nI cried in the ni-ight\\nOh please c...  "
      ]
     },
     "execution_count": 12,
     "metadata": {},
     "output_type": "execute_result"
    }
   ],
   "source": [
    "lyricsdf.head()"
   ]
  },
  {
   "cell_type": "markdown",
   "metadata": {},
   "source": [
    "Let's get rid of those 202 empty strings and replace with null vlaues."
   ]
  },
  {
   "cell_type": "code",
   "execution_count": 13,
   "metadata": {},
   "outputs": [],
   "source": [
    "lyricsdf = lyricsdf.replace(\"\", None)"
   ]
  },
  {
   "cell_type": "code",
   "execution_count": 14,
   "metadata": {},
   "outputs": [
    {
     "data": {
      "text/plain": [
       "0"
      ]
     },
     "execution_count": 14,
     "metadata": {},
     "output_type": "execute_result"
    }
   ],
   "source": [
    "len(lyricsdf[lyricsdf.lyrics == \"\"])"
   ]
  },
  {
   "cell_type": "markdown",
   "metadata": {},
   "source": [
    "Note below that there are still duplicates.  After removing the song titles, lyrical entries like \"Transcription in progress\" and \"Embed\" are now identical, in addition to the NaN values now present.  It is difficult to tell, however, why some of these other entries are appearing as duplicates"
   ]
  },
  {
   "cell_type": "code",
   "execution_count": 15,
   "metadata": {},
   "outputs": [
    {
     "data": {
      "text/html": [
       "<div>\n",
       "<style scoped>\n",
       "    .dataframe tbody tr th:only-of-type {\n",
       "        vertical-align: middle;\n",
       "    }\n",
       "\n",
       "    .dataframe tbody tr th {\n",
       "        vertical-align: top;\n",
       "    }\n",
       "\n",
       "    .dataframe thead th {\n",
       "        text-align: right;\n",
       "    }\n",
       "</style>\n",
       "<table border=\"1\" class=\"dataframe\">\n",
       "  <thead>\n",
       "    <tr style=\"text-align: right;\">\n",
       "      <th></th>\n",
       "      <th>artist</th>\n",
       "      <th>title</th>\n",
       "      <th>lyrics</th>\n",
       "    </tr>\n",
       "  </thead>\n",
       "  <tbody>\n",
       "    <tr>\n",
       "      <td>23</td>\n",
       "      <td>The Red Krayola</td>\n",
       "      <td>Piece for Piano and Guitar</td>\n",
       "      <td>Historic locomotion in\\nSectional activation\\n...</td>\n",
       "    </tr>\n",
       "    <tr>\n",
       "      <td>33</td>\n",
       "      <td>The Red Krayola</td>\n",
       "      <td>The Jewels of thre Madonna</td>\n",
       "      <td>Neevr let it be said that this is swill\\nI'm g...</td>\n",
       "    </tr>\n",
       "    <tr>\n",
       "      <td>36</td>\n",
       "      <td>The Red Krayola</td>\n",
       "      <td>Tina’s Gone to Have a Baby</td>\n",
       "      <td>he master tours the garden in a coach\\nI see h...</td>\n",
       "    </tr>\n",
       "    <tr>\n",
       "      <td>10</td>\n",
       "      <td>The Shaggs</td>\n",
       "      <td>Shaggs’ Own Thing (Musical Version)</td>\n",
       "      <td>\\nOh, the rich people want what the poor peopl...</td>\n",
       "    </tr>\n",
       "    <tr>\n",
       "      <td>17</td>\n",
       "      <td>The Shaggs</td>\n",
       "      <td>Wheels</td>\n",
       "      <td>\\nWhat should I do?\\nTell me, tell me\\nWhat sh...</td>\n",
       "    </tr>\n",
       "    <tr>\n",
       "      <td>1</td>\n",
       "      <td>Tonetta</td>\n",
       "      <td>81 Inch Prime Ass (Tonetta)</td>\n",
       "      <td>'m going to tickle your ass\\nWith my tongue\\nA...</td>\n",
       "    </tr>\n",
       "    <tr>\n",
       "      <td>34</td>\n",
       "      <td>Viper</td>\n",
       "      <td>Cocaine</td>\n",
       "      <td>Embed</td>\n",
       "    </tr>\n",
       "    <tr>\n",
       "      <td>79</td>\n",
       "      <td>Viper</td>\n",
       "      <td>Hop It, Drop It</td>\n",
       "      <td>\\nHop it, drop it\\nDon't hurt it, work it\\nHop...</td>\n",
       "    </tr>\n",
       "    <tr>\n",
       "      <td>113</td>\n",
       "      <td>Viper</td>\n",
       "      <td>In the Life of the Top-Choice Assassin</td>\n",
       "      <td>\\nIn the life of a baller\\nShot-caller, hater ...</td>\n",
       "    </tr>\n",
       "    <tr>\n",
       "      <td>127</td>\n",
       "      <td>Viper</td>\n",
       "      <td>Jackers Mad</td>\n",
       "      <td>Transcription in progress by Viper Crackpostin...</td>\n",
       "    </tr>\n",
       "    <tr>\n",
       "      <td>156</td>\n",
       "      <td>Viper</td>\n",
       "      <td>No 1 Had A Clue</td>\n",
       "      <td>\\nGirls love me cause I'm so real\\nCause I'm l...</td>\n",
       "    </tr>\n",
       "    <tr>\n",
       "      <td>181</td>\n",
       "      <td>Viper</td>\n",
       "      <td>Shinin’</td>\n",
       "      <td>Transcription in progress by Viper Crackpostin...</td>\n",
       "    </tr>\n",
       "    <tr>\n",
       "      <td>207</td>\n",
       "      <td>Viper</td>\n",
       "      <td>The Paper Man</td>\n",
       "      <td>\\nIf you're looking for me I'll be ballin'\\nCa...</td>\n",
       "    </tr>\n",
       "    <tr>\n",
       "      <td>217</td>\n",
       "      <td>Viper</td>\n",
       "      <td>Thick Grindin’</td>\n",
       "      <td>\\nStanging licks, hustlin' thick\\nBig grinding...</td>\n",
       "    </tr>\n",
       "    <tr>\n",
       "      <td>231</td>\n",
       "      <td>Viper</td>\n",
       "      <td>Top Money In Our Pocket</td>\n",
       "      <td>anscription in progress by Viper Crackposting ...</td>\n",
       "    </tr>\n",
       "    <tr>\n",
       "      <td>233</td>\n",
       "      <td>Viper</td>\n",
       "      <td>U a Dime</td>\n",
       "      <td>\\nUp\\nYou a dime, get up\\nYou fine, get up\\nYo...</td>\n",
       "    </tr>\n",
       "    <tr>\n",
       "      <td>242</td>\n",
       "      <td>Viper</td>\n",
       "      <td>We Lit</td>\n",
       "      <td>Transcription in progress by Viper Crackpostin...</td>\n",
       "    </tr>\n",
       "    <tr>\n",
       "      <td>251</td>\n",
       "      <td>Viper</td>\n",
       "      <td>Winnin’ Through Your Best Side</td>\n",
       "      <td>\\nYou probably seen me rolling through your ho...</td>\n",
       "    </tr>\n",
       "    <tr>\n",
       "      <td>255</td>\n",
       "      <td>Viper</td>\n",
       "      <td>You Fine, Get Up</td>\n",
       "      <td>\\nUp\\nYou a dime, get up\\nYou fine, get up\\nYo...</td>\n",
       "    </tr>\n",
       "    <tr>\n",
       "      <td>196</td>\n",
       "      <td>Wesley Willis</td>\n",
       "      <td>I’m Shooting Out Your Lights (New York, New Yo...</td>\n",
       "      <td>\\nLook out as I speak, buddy boy\\nI'm going to...</td>\n",
       "    </tr>\n",
       "  </tbody>\n",
       "</table>\n",
       "</div>"
      ],
      "text/plain": [
       "              artist                                              title  \\\n",
       "23   The Red Krayola                         Piece for Piano and Guitar   \n",
       "33   The Red Krayola                         The Jewels of thre Madonna   \n",
       "36   The Red Krayola                         Tina’s Gone to Have a Baby   \n",
       "10        The Shaggs                Shaggs’ Own Thing (Musical Version)   \n",
       "17        The Shaggs                                             Wheels   \n",
       "1            Tonetta                        81 Inch Prime Ass (Tonetta)   \n",
       "34             Viper                                            Cocaine   \n",
       "79             Viper                                    Hop It, Drop It   \n",
       "113            Viper             In the Life of the Top-Choice Assassin   \n",
       "127            Viper                                        Jackers Mad   \n",
       "156            Viper                                    No 1 Had A Clue   \n",
       "181            Viper                                            Shinin’   \n",
       "207            Viper                                      The Paper Man   \n",
       "217            Viper                                     Thick Grindin’   \n",
       "231            Viper                            Top Money In Our Pocket   \n",
       "233            Viper                                           U a Dime   \n",
       "242            Viper                                             We Lit   \n",
       "251            Viper                     Winnin’ Through Your Best Side   \n",
       "255            Viper                                   You Fine, Get Up   \n",
       "196    Wesley Willis  I’m Shooting Out Your Lights (New York, New Yo...   \n",
       "\n",
       "                                                lyrics  \n",
       "23   Historic locomotion in\\nSectional activation\\n...  \n",
       "33   Neevr let it be said that this is swill\\nI'm g...  \n",
       "36   he master tours the garden in a coach\\nI see h...  \n",
       "10   \\nOh, the rich people want what the poor peopl...  \n",
       "17   \\nWhat should I do?\\nTell me, tell me\\nWhat sh...  \n",
       "1    'm going to tickle your ass\\nWith my tongue\\nA...  \n",
       "34                                               Embed  \n",
       "79   \\nHop it, drop it\\nDon't hurt it, work it\\nHop...  \n",
       "113  \\nIn the life of a baller\\nShot-caller, hater ...  \n",
       "127  Transcription in progress by Viper Crackpostin...  \n",
       "156  \\nGirls love me cause I'm so real\\nCause I'm l...  \n",
       "181  Transcription in progress by Viper Crackpostin...  \n",
       "207  \\nIf you're looking for me I'll be ballin'\\nCa...  \n",
       "217  \\nStanging licks, hustlin' thick\\nBig grinding...  \n",
       "231  anscription in progress by Viper Crackposting ...  \n",
       "233  \\nUp\\nYou a dime, get up\\nYou fine, get up\\nYo...  \n",
       "242  Transcription in progress by Viper Crackpostin...  \n",
       "251  \\nYou probably seen me rolling through your ho...  \n",
       "255  \\nUp\\nYou a dime, get up\\nYou fine, get up\\nYo...  \n",
       "196  \\nLook out as I speak, buddy boy\\nI'm going to...  "
      ]
     },
     "execution_count": 15,
     "metadata": {},
     "output_type": "execute_result"
    }
   ],
   "source": [
    "lyricsdf[lyricsdf.lyrics.duplicated()].tail(20)"
   ]
  },
  {
   "cell_type": "code",
   "execution_count": 17,
   "metadata": {},
   "outputs": [],
   "source": [
    "# strip whitespace from the beginning and end\n",
    "lyricsdf.lyrics = lyricsdf.lyrics.map(lambda x: x.strip(\"\\n\"))"
   ]
  },
  {
   "cell_type": "code",
   "execution_count": 18,
   "metadata": {},
   "outputs": [
    {
     "data": {
      "text/html": [
       "<div>\n",
       "<style scoped>\n",
       "    .dataframe tbody tr th:only-of-type {\n",
       "        vertical-align: middle;\n",
       "    }\n",
       "\n",
       "    .dataframe tbody tr th {\n",
       "        vertical-align: top;\n",
       "    }\n",
       "\n",
       "    .dataframe thead th {\n",
       "        text-align: right;\n",
       "    }\n",
       "</style>\n",
       "<table border=\"1\" class=\"dataframe\">\n",
       "  <thead>\n",
       "    <tr style=\"text-align: right;\">\n",
       "      <th></th>\n",
       "      <th>artist</th>\n",
       "      <th>title</th>\n",
       "      <th>lyrics</th>\n",
       "    </tr>\n",
       "  </thead>\n",
       "  <tbody>\n",
       "    <tr>\n",
       "      <td>0</td>\n",
       "      <td>Abner Jay</td>\n",
       "      <td>Bring It When You Come</td>\n",
       "      <td>Terrible things, always happening\\nJust like y...</td>\n",
       "    </tr>\n",
       "    <tr>\n",
       "      <td>1</td>\n",
       "      <td>Abner Jay</td>\n",
       "      <td>Cocaine</td>\n",
       "      <td>Folk music is high-class music. There's a lott...</td>\n",
       "    </tr>\n",
       "    <tr>\n",
       "      <td>2</td>\n",
       "      <td>Abner Jay</td>\n",
       "      <td>Cocaine Blues</td>\n",
       "      <td>, Cocaine\\nRunning round my heart\\nAnd then ru...</td>\n",
       "    </tr>\n",
       "    <tr>\n",
       "      <td>3</td>\n",
       "      <td>Abner Jay</td>\n",
       "      <td>Don’t Mess with Me Baby</td>\n",
       "      <td>Terrible things; that's what's getting all the...</td>\n",
       "    </tr>\n",
       "    <tr>\n",
       "      <td>4</td>\n",
       "      <td>Abner Jay</td>\n",
       "      <td>I cried</td>\n",
       "      <td>, I cried\\nI cried in the ni-ight\\nOh please c...</td>\n",
       "    </tr>\n",
       "  </tbody>\n",
       "</table>\n",
       "</div>"
      ],
      "text/plain": [
       "      artist                    title  \\\n",
       "0  Abner Jay   Bring It When You Come   \n",
       "1  Abner Jay                  Cocaine   \n",
       "2  Abner Jay            Cocaine Blues   \n",
       "3  Abner Jay  Don’t Mess with Me Baby   \n",
       "4  Abner Jay                  I cried   \n",
       "\n",
       "                                              lyrics  \n",
       "0  Terrible things, always happening\\nJust like y...  \n",
       "1  Folk music is high-class music. There's a lott...  \n",
       "2  , Cocaine\\nRunning round my heart\\nAnd then ru...  \n",
       "3  Terrible things; that's what's getting all the...  \n",
       "4  , I cried\\nI cried in the ni-ight\\nOh please c...  "
      ]
     },
     "execution_count": 18,
     "metadata": {},
     "output_type": "execute_result"
    }
   ],
   "source": [
    "lyricsdf.head()"
   ]
  },
  {
   "cell_type": "code",
   "execution_count": 43,
   "metadata": {},
   "outputs": [],
   "source": [
    "test = lyricsdf.sample(1)"
   ]
  },
  {
   "cell_type": "code",
   "execution_count": 44,
   "metadata": {},
   "outputs": [
    {
     "data": {
      "text/html": [
       "<div>\n",
       "<style scoped>\n",
       "    .dataframe tbody tr th:only-of-type {\n",
       "        vertical-align: middle;\n",
       "    }\n",
       "\n",
       "    .dataframe tbody tr th {\n",
       "        vertical-align: top;\n",
       "    }\n",
       "\n",
       "    .dataframe thead th {\n",
       "        text-align: right;\n",
       "    }\n",
       "</style>\n",
       "<table border=\"1\" class=\"dataframe\">\n",
       "  <thead>\n",
       "    <tr style=\"text-align: right;\">\n",
       "      <th></th>\n",
       "      <th>index</th>\n",
       "      <th>artist</th>\n",
       "      <th>title</th>\n",
       "      <th>lyrics</th>\n",
       "    </tr>\n",
       "  </thead>\n",
       "  <tbody>\n",
       "    <tr>\n",
       "      <td>2460</td>\n",
       "      <td>42</td>\n",
       "      <td>Viper</td>\n",
       "      <td>Death 2 Snitches</td>\n",
       "      <td>Mark may do talking on me but he don't know me...</td>\n",
       "    </tr>\n",
       "  </tbody>\n",
       "</table>\n",
       "</div>"
      ],
      "text/plain": [
       "      index artist             title  \\\n",
       "2460     42  Viper  Death 2 Snitches   \n",
       "\n",
       "                                                 lyrics  \n",
       "2460  Mark may do talking on me but he don't know me...  "
      ]
     },
     "execution_count": 44,
     "metadata": {},
     "output_type": "execute_result"
    }
   ],
   "source": [
    "test"
   ]
  },
  {
   "cell_type": "code",
   "execution_count": 48,
   "metadata": {},
   "outputs": [
    {
     "data": {
      "text/plain": [
       "level_0                                                   46\n",
       "index                                                     23\n",
       "artist                                            Ariel Pink\n",
       "title                                           Death Patrol\n",
       "lyrics     Come on the streets the death patrol\\nTaking d...\n",
       "Name: 46, dtype: object"
      ]
     },
     "execution_count": 48,
     "metadata": {},
     "output_type": "execute_result"
    }
   ],
   "source": [
    "lyricsdf.loc[46]"
   ]
  },
  {
   "cell_type": "code",
   "execution_count": 47,
   "metadata": {},
   "outputs": [
    {
     "ename": "ValueError",
     "evalue": "cannot insert level_0, already exists",
     "output_type": "error",
     "traceback": [
      "\u001b[1;31m---------------------------------------------------------------------------\u001b[0m",
      "\u001b[1;31mValueError\u001b[0m                                Traceback (most recent call last)",
      "\u001b[1;32m<ipython-input-47-497153362608>\u001b[0m in \u001b[0;36m<module>\u001b[1;34m\u001b[0m\n\u001b[1;32m----> 1\u001b[1;33m \u001b[0mlyricsdf\u001b[0m \u001b[1;33m=\u001b[0m \u001b[0mlyricsdf\u001b[0m\u001b[1;33m.\u001b[0m\u001b[0mreset_index\u001b[0m\u001b[1;33m(\u001b[0m\u001b[1;33m)\u001b[0m\u001b[1;33m\u001b[0m\u001b[1;33m\u001b[0m\u001b[0m\n\u001b[0m\u001b[0;32m      2\u001b[0m \u001b[0mlyricsdf\u001b[0m \u001b[1;33m=\u001b[0m \u001b[0mlyricsdf\u001b[0m\u001b[1;33m[\u001b[0m\u001b[1;33m[\u001b[0m\u001b[0martist\u001b[0m\u001b[1;33m,\u001b[0m \u001b[0mtitle\u001b[0m\u001b[1;33m,\u001b[0m \u001b[0mlyrics\u001b[0m\u001b[1;33m]\u001b[0m\u001b[1;33m]\u001b[0m\u001b[1;33m\u001b[0m\u001b[1;33m\u001b[0m\u001b[0m\n",
      "\u001b[1;32m~\\Anaconda3\\lib\\site-packages\\pandas\\core\\frame.py\u001b[0m in \u001b[0;36mreset_index\u001b[1;34m(self, level, drop, inplace, col_level, col_fill)\u001b[0m\n\u001b[0;32m   4692\u001b[0m                 \u001b[1;31m# to ndarray and maybe infer different dtype\u001b[0m\u001b[1;33m\u001b[0m\u001b[1;33m\u001b[0m\u001b[1;33m\u001b[0m\u001b[0m\n\u001b[0;32m   4693\u001b[0m                 \u001b[0mlevel_values\u001b[0m \u001b[1;33m=\u001b[0m \u001b[0m_maybe_casted_values\u001b[0m\u001b[1;33m(\u001b[0m\u001b[0mlev\u001b[0m\u001b[1;33m,\u001b[0m \u001b[0mlab\u001b[0m\u001b[1;33m)\u001b[0m\u001b[1;33m\u001b[0m\u001b[1;33m\u001b[0m\u001b[0m\n\u001b[1;32m-> 4694\u001b[1;33m                 \u001b[0mnew_obj\u001b[0m\u001b[1;33m.\u001b[0m\u001b[0minsert\u001b[0m\u001b[1;33m(\u001b[0m\u001b[1;36m0\u001b[0m\u001b[1;33m,\u001b[0m \u001b[0mname\u001b[0m\u001b[1;33m,\u001b[0m \u001b[0mlevel_values\u001b[0m\u001b[1;33m)\u001b[0m\u001b[1;33m\u001b[0m\u001b[1;33m\u001b[0m\u001b[0m\n\u001b[0m\u001b[0;32m   4695\u001b[0m \u001b[1;33m\u001b[0m\u001b[0m\n\u001b[0;32m   4696\u001b[0m         \u001b[0mnew_obj\u001b[0m\u001b[1;33m.\u001b[0m\u001b[0mindex\u001b[0m \u001b[1;33m=\u001b[0m \u001b[0mnew_index\u001b[0m\u001b[1;33m\u001b[0m\u001b[1;33m\u001b[0m\u001b[0m\n",
      "\u001b[1;32m~\\Anaconda3\\lib\\site-packages\\pandas\\core\\frame.py\u001b[0m in \u001b[0;36minsert\u001b[1;34m(self, loc, column, value, allow_duplicates)\u001b[0m\n\u001b[0;32m   3574\u001b[0m         \u001b[0mself\u001b[0m\u001b[1;33m.\u001b[0m\u001b[0m_ensure_valid_index\u001b[0m\u001b[1;33m(\u001b[0m\u001b[0mvalue\u001b[0m\u001b[1;33m)\u001b[0m\u001b[1;33m\u001b[0m\u001b[1;33m\u001b[0m\u001b[0m\n\u001b[0;32m   3575\u001b[0m         \u001b[0mvalue\u001b[0m \u001b[1;33m=\u001b[0m \u001b[0mself\u001b[0m\u001b[1;33m.\u001b[0m\u001b[0m_sanitize_column\u001b[0m\u001b[1;33m(\u001b[0m\u001b[0mcolumn\u001b[0m\u001b[1;33m,\u001b[0m \u001b[0mvalue\u001b[0m\u001b[1;33m,\u001b[0m \u001b[0mbroadcast\u001b[0m\u001b[1;33m=\u001b[0m\u001b[1;32mFalse\u001b[0m\u001b[1;33m)\u001b[0m\u001b[1;33m\u001b[0m\u001b[1;33m\u001b[0m\u001b[0m\n\u001b[1;32m-> 3576\u001b[1;33m         \u001b[0mself\u001b[0m\u001b[1;33m.\u001b[0m\u001b[0m_data\u001b[0m\u001b[1;33m.\u001b[0m\u001b[0minsert\u001b[0m\u001b[1;33m(\u001b[0m\u001b[0mloc\u001b[0m\u001b[1;33m,\u001b[0m \u001b[0mcolumn\u001b[0m\u001b[1;33m,\u001b[0m \u001b[0mvalue\u001b[0m\u001b[1;33m,\u001b[0m \u001b[0mallow_duplicates\u001b[0m\u001b[1;33m=\u001b[0m\u001b[0mallow_duplicates\u001b[0m\u001b[1;33m)\u001b[0m\u001b[1;33m\u001b[0m\u001b[1;33m\u001b[0m\u001b[0m\n\u001b[0m\u001b[0;32m   3577\u001b[0m \u001b[1;33m\u001b[0m\u001b[0m\n\u001b[0;32m   3578\u001b[0m     \u001b[1;32mdef\u001b[0m \u001b[0massign\u001b[0m\u001b[1;33m(\u001b[0m\u001b[0mself\u001b[0m\u001b[1;33m,\u001b[0m \u001b[1;33m**\u001b[0m\u001b[0mkwargs\u001b[0m\u001b[1;33m)\u001b[0m\u001b[1;33m:\u001b[0m\u001b[1;33m\u001b[0m\u001b[1;33m\u001b[0m\u001b[0m\n",
      "\u001b[1;32m~\\Anaconda3\\lib\\site-packages\\pandas\\core\\internals\\managers.py\u001b[0m in \u001b[0;36minsert\u001b[1;34m(self, loc, item, value, allow_duplicates)\u001b[0m\n\u001b[0;32m   1171\u001b[0m         \u001b[1;32mif\u001b[0m \u001b[1;32mnot\u001b[0m \u001b[0mallow_duplicates\u001b[0m \u001b[1;32mand\u001b[0m \u001b[0mitem\u001b[0m \u001b[1;32min\u001b[0m \u001b[0mself\u001b[0m\u001b[1;33m.\u001b[0m\u001b[0mitems\u001b[0m\u001b[1;33m:\u001b[0m\u001b[1;33m\u001b[0m\u001b[1;33m\u001b[0m\u001b[0m\n\u001b[0;32m   1172\u001b[0m             \u001b[1;31m# Should this be a different kind of error??\u001b[0m\u001b[1;33m\u001b[0m\u001b[1;33m\u001b[0m\u001b[1;33m\u001b[0m\u001b[0m\n\u001b[1;32m-> 1173\u001b[1;33m             \u001b[1;32mraise\u001b[0m \u001b[0mValueError\u001b[0m\u001b[1;33m(\u001b[0m\u001b[1;34m\"cannot insert {}, already exists\"\u001b[0m\u001b[1;33m.\u001b[0m\u001b[0mformat\u001b[0m\u001b[1;33m(\u001b[0m\u001b[0mitem\u001b[0m\u001b[1;33m)\u001b[0m\u001b[1;33m)\u001b[0m\u001b[1;33m\u001b[0m\u001b[1;33m\u001b[0m\u001b[0m\n\u001b[0m\u001b[0;32m   1174\u001b[0m \u001b[1;33m\u001b[0m\u001b[0m\n\u001b[0;32m   1175\u001b[0m         \u001b[1;32mif\u001b[0m \u001b[1;32mnot\u001b[0m \u001b[0misinstance\u001b[0m\u001b[1;33m(\u001b[0m\u001b[0mloc\u001b[0m\u001b[1;33m,\u001b[0m \u001b[0mint\u001b[0m\u001b[1;33m)\u001b[0m\u001b[1;33m:\u001b[0m\u001b[1;33m\u001b[0m\u001b[1;33m\u001b[0m\u001b[0m\n",
      "\u001b[1;31mValueError\u001b[0m: cannot insert level_0, already exists"
     ]
    }
   ],
   "source": [
    "lyricsdf = lyricsdf.reset_index()\n",
    "lyricsdf = lyricsdf[[artist, title, lyrics]]"
   ]
  },
  {
   "cell_type": "code",
   "execution_count": 39,
   "metadata": {},
   "outputs": [
    {
     "data": {
      "text/html": [
       "<div>\n",
       "<style scoped>\n",
       "    .dataframe tbody tr th:only-of-type {\n",
       "        vertical-align: middle;\n",
       "    }\n",
       "\n",
       "    .dataframe tbody tr th {\n",
       "        vertical-align: top;\n",
       "    }\n",
       "\n",
       "    .dataframe thead th {\n",
       "        text-align: right;\n",
       "    }\n",
       "</style>\n",
       "<table border=\"1\" class=\"dataframe\">\n",
       "  <thead>\n",
       "    <tr style=\"text-align: right;\">\n",
       "      <th></th>\n",
       "      <th>index</th>\n",
       "      <th>artist</th>\n",
       "      <th>title</th>\n",
       "      <th>lyrics</th>\n",
       "    </tr>\n",
       "  </thead>\n",
       "  <tbody>\n",
       "    <tr>\n",
       "      <td>0</td>\n",
       "      <td>0</td>\n",
       "      <td>Abner Jay</td>\n",
       "      <td>Bring It When You Come</td>\n",
       "      <td>Terrible things, always happening\\nJust like y...</td>\n",
       "    </tr>\n",
       "    <tr>\n",
       "      <td>1</td>\n",
       "      <td>1</td>\n",
       "      <td>Abner Jay</td>\n",
       "      <td>Cocaine</td>\n",
       "      <td>Folk music is high-class music. There's a lott...</td>\n",
       "    </tr>\n",
       "    <tr>\n",
       "      <td>2</td>\n",
       "      <td>2</td>\n",
       "      <td>Abner Jay</td>\n",
       "      <td>Cocaine Blues</td>\n",
       "      <td>, Cocaine\\nRunning round my heart\\nAnd then ru...</td>\n",
       "    </tr>\n",
       "    <tr>\n",
       "      <td>3</td>\n",
       "      <td>3</td>\n",
       "      <td>Abner Jay</td>\n",
       "      <td>Don’t Mess with Me Baby</td>\n",
       "      <td>Terrible things; that's what's getting all the...</td>\n",
       "    </tr>\n",
       "    <tr>\n",
       "      <td>4</td>\n",
       "      <td>4</td>\n",
       "      <td>Abner Jay</td>\n",
       "      <td>I cried</td>\n",
       "      <td>, I cried\\nI cried in the ni-ight\\nOh please c...</td>\n",
       "    </tr>\n",
       "    <tr>\n",
       "      <td>...</td>\n",
       "      <td>...</td>\n",
       "      <td>...</td>\n",
       "      <td>...</td>\n",
       "      <td>...</td>\n",
       "    </tr>\n",
       "    <tr>\n",
       "      <td>3383</td>\n",
       "      <td>45</td>\n",
       "      <td>William Shatner</td>\n",
       "      <td>Together</td>\n",
       "      <td>He says Phoenix\\nPegasus\\nGrecian urn\\nMidwest...</td>\n",
       "    </tr>\n",
       "    <tr>\n",
       "      <td>3384</td>\n",
       "      <td>46</td>\n",
       "      <td>William Shatner</td>\n",
       "      <td>Twilight Zone</td>\n",
       "      <td>(Somewhere in a lonely hotel room\\nThere's a g...</td>\n",
       "    </tr>\n",
       "    <tr>\n",
       "      <td>3385</td>\n",
       "      <td>47</td>\n",
       "      <td>William Shatner</td>\n",
       "      <td>Walking on the Moon</td>\n",
       "      <td>Giant steps are what you take\\nI hope my legs ...</td>\n",
       "    </tr>\n",
       "    <tr>\n",
       "      <td>3386</td>\n",
       "      <td>48</td>\n",
       "      <td>William Shatner</td>\n",
       "      <td>What Have You Done</td>\n",
       "      <td>She was underwater\\nIn the shadows\\nWas it the...</td>\n",
       "    </tr>\n",
       "    <tr>\n",
       "      <td>3387</td>\n",
       "      <td>49</td>\n",
       "      <td>William Shatner</td>\n",
       "      <td>You’ll Have Time</td>\n",
       "      <td>fe, live life like you're gonna die\\nBecause y...</td>\n",
       "    </tr>\n",
       "  </tbody>\n",
       "</table>\n",
       "<p>3388 rows × 4 columns</p>\n",
       "</div>"
      ],
      "text/plain": [
       "      index           artist                    title  \\\n",
       "0         0        Abner Jay   Bring It When You Come   \n",
       "1         1        Abner Jay                  Cocaine   \n",
       "2         2        Abner Jay            Cocaine Blues   \n",
       "3         3        Abner Jay  Don’t Mess with Me Baby   \n",
       "4         4        Abner Jay                  I cried   \n",
       "...     ...              ...                      ...   \n",
       "3383     45  William Shatner                 Together   \n",
       "3384     46  William Shatner            Twilight Zone   \n",
       "3385     47  William Shatner      Walking on the Moon   \n",
       "3386     48  William Shatner       What Have You Done   \n",
       "3387     49  William Shatner         You’ll Have Time   \n",
       "\n",
       "                                                 lyrics  \n",
       "0     Terrible things, always happening\\nJust like y...  \n",
       "1     Folk music is high-class music. There's a lott...  \n",
       "2     , Cocaine\\nRunning round my heart\\nAnd then ru...  \n",
       "3     Terrible things; that's what's getting all the...  \n",
       "4     , I cried\\nI cried in the ni-ight\\nOh please c...  \n",
       "...                                                 ...  \n",
       "3383  He says Phoenix\\nPegasus\\nGrecian urn\\nMidwest...  \n",
       "3384  (Somewhere in a lonely hotel room\\nThere's a g...  \n",
       "3385  Giant steps are what you take\\nI hope my legs ...  \n",
       "3386  She was underwater\\nIn the shadows\\nWas it the...  \n",
       "3387  fe, live life like you're gonna die\\nBecause y...  \n",
       "\n",
       "[3388 rows x 4 columns]"
      ]
     },
     "execution_count": 39,
     "metadata": {},
     "output_type": "execute_result"
    }
   ],
   "source": [
    "lyricsdf = l"
   ]
  }
 ],
 "metadata": {
  "kernelspec": {
   "display_name": "Python 3",
   "language": "python",
   "name": "python3"
  },
  "language_info": {
   "codemirror_mode": {
    "name": "ipython",
    "version": 3
   },
   "file_extension": ".py",
   "mimetype": "text/x-python",
   "name": "python",
   "nbconvert_exporter": "python",
   "pygments_lexer": "ipython3",
   "version": "3.7.4"
  }
 },
 "nbformat": 4,
 "nbformat_minor": 2
}
