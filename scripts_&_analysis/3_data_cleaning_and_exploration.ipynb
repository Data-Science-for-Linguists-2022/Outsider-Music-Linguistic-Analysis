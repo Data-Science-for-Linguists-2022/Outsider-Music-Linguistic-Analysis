{
 "cells": [
  {
   "cell_type": "markdown",
   "metadata": {},
   "source": [
    "# Data Cleaning and Exploration\n"
   ]
  },
  {
   "cell_type": "markdown",
   "metadata": {},
   "source": [
    "## Table of Contents:\n",
    "1. [Important Information](http://localhost:8888/notebooks/Documents/DataSci/Outsider-Music-Linguistic-Analysis/scripts_%26_analysis/3_data_cleaning_and_exploration.ipynb#Important-Information)\n",
    "2. [Unpickle the Data](http://localhost:8888/notebooks/Documents/DataSci/Outsider-Music-Linguistic-Analysis/scripts_%26_analysis/3_data_cleaning_and_exploration.ipynb#Unpickle-the-Data)    \n",
    "3. [Initial Data Exploration](http://localhost:8888/notebooks/Documents/DataSci/Outsider-Music-Linguistic-Analysis/scripts_%26_analysis/3_data_cleaning_and_exploration.ipynb#Initial-Data-Exploration)    \n",
    "4. [Data Cleaning](http://localhost:8888/notebooks/Documents/DataSci/Outsider-Music-Linguistic-Analysis/scripts_%26_analysis/3_data_cleaning_and_exploration.ipynb#Data-Cleaning)\n",
    "\n",
    "If some output in this Jupyter notebook doesn't appear, check it out in this [nbviewer](https://nbviewer.org/github/Data-Science-for-Linguists-2022/Outsider-Music-Linguistic-Analysis/blob/main/scripts_%26_analysis/3_data_cleaning_and_exploration.ipynb)."
   ]
  },
  {
   "cell_type": "markdown",
   "metadata": {},
   "source": [
    "## Important Information\n",
    "### Prior to the Creation of this Script:\n",
    "I have scraped the list of musicians from Wikipedia using wiki_musicians.py.  I manually cleaned the text file to remove double quotations (\"\") and parentheticals like \"(performer),\" \"(musician),\" and \"(singer),\" since it was manageable with just 111 artists.\n",
    "\n",
    "I then retrieved lyrics from these artists from Genius.com using lyricsgenius_requests.ipynb, where 70+ artist-queries successfully returned JSON files.\n",
    "\n",
    "Lastly, I created and pickled the lyrics data frame (or rough_df.pkl, not uploaded in the repo) in the [load_json_to_df.ipynb](https://github.com/Data-Science-for-Linguists-2022/Outsider-Music-Linguistic-Analysis/blob/main/scripts_%26_analysis/2_load_json_to_df.ipynb) script, where an additional 8 artists could not be successfully loaded, due to entirely null lyrical entries.  This pickled data frame remains in my local repository.\n",
    "\n",
    "The steps above were broken into multiple scripts to avoid re-running time-intensive queries.\n",
    "\n",
    "### Progress Report Info:\n",
    "This script represents the end of Progress Report 1 and the main body of Progress Report 2.  PR1 was split into multiple scripts/notebooks so that data collection steps wouldn't be re-run."
   ]
  },
  {
   "cell_type": "markdown",
   "metadata": {},
   "source": [
    "## Unpickle the Data"
   ]
  },
  {
   "cell_type": "code",
   "execution_count": 1,
   "metadata": {},
   "outputs": [],
   "source": [
    "import pickle\n",
    "f = open('../data/rough_df.pkl', 'rb')\n",
    "lyricsdf = pickle.load(f)\n",
    "f.close()"
   ]
  },
  {
   "cell_type": "code",
   "execution_count": 2,
   "metadata": {},
   "outputs": [
    {
     "data": {
      "text/html": [
       "<div>\n",
       "<style scoped>\n",
       "    .dataframe tbody tr th:only-of-type {\n",
       "        vertical-align: middle;\n",
       "    }\n",
       "\n",
       "    .dataframe tbody tr th {\n",
       "        vertical-align: top;\n",
       "    }\n",
       "\n",
       "    .dataframe thead th {\n",
       "        text-align: right;\n",
       "    }\n",
       "</style>\n",
       "<table border=\"1\" class=\"dataframe\">\n",
       "  <thead>\n",
       "    <tr style=\"text-align: right;\">\n",
       "      <th></th>\n",
       "      <th>artist</th>\n",
       "      <th>title</th>\n",
       "      <th>lyrics</th>\n",
       "    </tr>\n",
       "  </thead>\n",
       "  <tbody>\n",
       "    <tr>\n",
       "      <td>0</td>\n",
       "      <td>Abner Jay</td>\n",
       "      <td>Bring It When You Come</td>\n",
       "      <td>Bring It When You Come Lyrics\\nTerrible things...</td>\n",
       "    </tr>\n",
       "    <tr>\n",
       "      <td>1</td>\n",
       "      <td>Abner Jay</td>\n",
       "      <td>Cocaine</td>\n",
       "      <td>Cocaine Lyrics\\nFolk music is high-class music...</td>\n",
       "    </tr>\n",
       "    <tr>\n",
       "      <td>2</td>\n",
       "      <td>Abner Jay</td>\n",
       "      <td>Cocaine Blues</td>\n",
       "      <td>Cocaine Blues LyricsCocaine, Cocaine\\nRunning ...</td>\n",
       "    </tr>\n",
       "    <tr>\n",
       "      <td>3</td>\n",
       "      <td>Abner Jay</td>\n",
       "      <td>Don’t Mess with Me Baby</td>\n",
       "      <td>Don’t Mess with Me Baby Lyrics\\nTerrible thing...</td>\n",
       "    </tr>\n",
       "    <tr>\n",
       "      <td>4</td>\n",
       "      <td>Abner Jay</td>\n",
       "      <td>I cried</td>\n",
       "      <td>I cried LyricsI, I cried\\nI cried in the ni-ig...</td>\n",
       "    </tr>\n",
       "  </tbody>\n",
       "</table>\n",
       "</div>"
      ],
      "text/plain": [
       "      artist                    title  \\\n",
       "0  Abner Jay   Bring It When You Come   \n",
       "1  Abner Jay                  Cocaine   \n",
       "2  Abner Jay            Cocaine Blues   \n",
       "3  Abner Jay  Don’t Mess with Me Baby   \n",
       "4  Abner Jay                  I cried   \n",
       "\n",
       "                                              lyrics  \n",
       "0  Bring It When You Come Lyrics\\nTerrible things...  \n",
       "1  Cocaine Lyrics\\nFolk music is high-class music...  \n",
       "2  Cocaine Blues LyricsCocaine, Cocaine\\nRunning ...  \n",
       "3  Don’t Mess with Me Baby Lyrics\\nTerrible thing...  \n",
       "4  I cried LyricsI, I cried\\nI cried in the ni-ig...  "
      ]
     },
     "execution_count": 2,
     "metadata": {},
     "output_type": "execute_result"
    }
   ],
   "source": [
    "lyricsdf.head()"
   ]
  },
  {
   "cell_type": "markdown",
   "metadata": {},
   "source": [
    "## Initial Data Exploration\n",
    "Before cleaning, I'd like to see the status of the data: \n",
    "- how many artists are there,\n",
    "- how many songs,\n",
    "- how many lyrics are empty strings,\n",
    "- how many are duplicates,\n",
    "- and what is the artist distribution like?"
   ]
  },
  {
   "cell_type": "code",
   "execution_count": 3,
   "metadata": {},
   "outputs": [],
   "source": [
    "import nltk\n",
    "import pandas as pd\n",
    "import numpy as np\n",
    "import matplotlib.pyplot as plt\n",
    "import re"
   ]
  },
  {
   "cell_type": "code",
   "execution_count": 4,
   "metadata": {},
   "outputs": [
    {
     "data": {
      "text/html": [
       "<div>\n",
       "<style scoped>\n",
       "    .dataframe tbody tr th:only-of-type {\n",
       "        vertical-align: middle;\n",
       "    }\n",
       "\n",
       "    .dataframe tbody tr th {\n",
       "        vertical-align: top;\n",
       "    }\n",
       "\n",
       "    .dataframe thead th {\n",
       "        text-align: right;\n",
       "    }\n",
       "</style>\n",
       "<table border=\"1\" class=\"dataframe\">\n",
       "  <thead>\n",
       "    <tr style=\"text-align: right;\">\n",
       "      <th></th>\n",
       "      <th>artist</th>\n",
       "      <th>title</th>\n",
       "      <th>lyrics</th>\n",
       "    </tr>\n",
       "  </thead>\n",
       "  <tbody>\n",
       "    <tr>\n",
       "      <td>count</td>\n",
       "      <td>3388</td>\n",
       "      <td>3388</td>\n",
       "      <td>3388</td>\n",
       "    </tr>\n",
       "    <tr>\n",
       "      <td>unique</td>\n",
       "      <td>63</td>\n",
       "      <td>3359</td>\n",
       "      <td>3187</td>\n",
       "    </tr>\n",
       "    <tr>\n",
       "      <td>top</td>\n",
       "      <td>Wesley Willis</td>\n",
       "      <td>Lullaby</td>\n",
       "      <td></td>\n",
       "    </tr>\n",
       "    <tr>\n",
       "      <td>freq</td>\n",
       "      <td>561</td>\n",
       "      <td>3</td>\n",
       "      <td>202</td>\n",
       "    </tr>\n",
       "  </tbody>\n",
       "</table>\n",
       "</div>"
      ],
      "text/plain": [
       "               artist    title lyrics\n",
       "count            3388     3388   3388\n",
       "unique             63     3359   3187\n",
       "top     Wesley Willis  Lullaby       \n",
       "freq              561        3    202"
      ]
     },
     "execution_count": 4,
     "metadata": {},
     "output_type": "execute_result"
    }
   ],
   "source": [
    "lyricsdf.describe()"
   ]
  },
  {
   "cell_type": "markdown",
   "metadata": {},
   "source": [
    "It looks like there are 3,388 lyric entries, with 63 unique artists. I sense there are a number of \"null\" lyrics, given that nearly 200 entries are not unique.  This may also be explained by duplicates (though I wouldn't expect exact duplicates for non-null lyrics)."
   ]
  },
  {
   "cell_type": "code",
   "execution_count": 5,
   "metadata": {},
   "outputs": [
    {
     "data": {
      "text/plain": [
       "202"
      ]
     },
     "execution_count": 5,
     "metadata": {},
     "output_type": "execute_result"
    }
   ],
   "source": [
    "# Find duplicates\n",
    "len(lyricsdf[lyricsdf.lyrics == \"\"])"
   ]
  },
  {
   "cell_type": "code",
   "execution_count": 6,
   "metadata": {},
   "outputs": [
    {
     "data": {
      "text/plain": [
       "False    3187\n",
       "True      201\n",
       "Name: lyrics, dtype: int64"
      ]
     },
     "execution_count": 6,
     "metadata": {},
     "output_type": "execute_result"
    }
   ],
   "source": [
    "lyricsdf.lyrics.duplicated().value_counts()"
   ]
  },
  {
   "cell_type": "markdown",
   "metadata": {},
   "source": [
    "201 lyric entries are duplicates of other entries, and 202 lyric entries are empty strings."
   ]
  },
  {
   "cell_type": "code",
   "execution_count": 7,
   "metadata": {},
   "outputs": [
    {
     "data": {
      "text/html": [
       "<div>\n",
       "<style scoped>\n",
       "    .dataframe tbody tr th:only-of-type {\n",
       "        vertical-align: middle;\n",
       "    }\n",
       "\n",
       "    .dataframe tbody tr th {\n",
       "        vertical-align: top;\n",
       "    }\n",
       "\n",
       "    .dataframe thead th {\n",
       "        text-align: right;\n",
       "    }\n",
       "</style>\n",
       "<table border=\"1\" class=\"dataframe\">\n",
       "  <thead>\n",
       "    <tr style=\"text-align: right;\">\n",
       "      <th></th>\n",
       "      <th>artist</th>\n",
       "      <th>title</th>\n",
       "      <th>lyrics</th>\n",
       "    </tr>\n",
       "  </thead>\n",
       "  <tbody>\n",
       "    <tr>\n",
       "      <td>count</td>\n",
       "      <td>3388</td>\n",
       "      <td>3388</td>\n",
       "      <td>3388</td>\n",
       "    </tr>\n",
       "    <tr>\n",
       "      <td>unique</td>\n",
       "      <td>63</td>\n",
       "      <td>3359</td>\n",
       "      <td>3187</td>\n",
       "    </tr>\n",
       "    <tr>\n",
       "      <td>top</td>\n",
       "      <td>Wesley Willis</td>\n",
       "      <td>Lullaby</td>\n",
       "      <td></td>\n",
       "    </tr>\n",
       "    <tr>\n",
       "      <td>freq</td>\n",
       "      <td>561</td>\n",
       "      <td>3</td>\n",
       "      <td>202</td>\n",
       "    </tr>\n",
       "  </tbody>\n",
       "</table>\n",
       "</div>"
      ],
      "text/plain": [
       "               artist    title lyrics\n",
       "count            3388     3388   3388\n",
       "unique             63     3359   3187\n",
       "top     Wesley Willis  Lullaby       \n",
       "freq              561        3    202"
      ]
     },
     "execution_count": 7,
     "metadata": {},
     "output_type": "execute_result"
    }
   ],
   "source": [
    "lyricsdf.describe()"
   ]
  },
  {
   "cell_type": "code",
   "execution_count": 8,
   "metadata": {},
   "outputs": [
    {
     "data": {
      "text/plain": [
       "Wesley Willis      561\n",
       "Jandek             351\n",
       "Daniel Johnston    316\n",
       "Viper              261\n",
       "Brian Wilson       237\n",
       "                  ... \n",
       "Sky Saxon            1\n",
       "Mrs. Miller          1\n",
       "Varg Vikernes        1\n",
       "Paul Hawkins         1\n",
       "Lucia Pamela         1\n",
       "Name: artist, Length: 63, dtype: int64"
      ]
     },
     "execution_count": 8,
     "metadata": {},
     "output_type": "execute_result"
    }
   ],
   "source": [
    "lyricsdf.artist.value_counts()"
   ]
  },
  {
   "cell_type": "markdown",
   "metadata": {},
   "source": [
    "A good portion of the data is made up of Wesley Willis music (561 songs), while it appears that many artists may only have 1 or 2 songs in the list.  Obviously, this may skew the analysis toward \"Wesley Willis\" music and away from the more general \"Outsider Music\" genre.  I will wait until my data is fully cleaned before making any judgments on how to deal with this potential skew."
   ]
  },
  {
   "cell_type": "code",
   "execution_count": 9,
   "metadata": {},
   "outputs": [
    {
     "data": {
      "text/plain": [
       "<matplotlib.axes._subplots.AxesSubplot at 0x200bfccf748>"
      ]
     },
     "execution_count": 9,
     "metadata": {},
     "output_type": "execute_result"
    },
    {
     "data": {
      "image/png": "[encoded data removed]",
      "text/plain": [
       "<Figure size 432x288 with 1 Axes>"
      ]
     },
     "metadata": {
      "needs_background": "light"
     },
     "output_type": "display_data"
    }
   ],
   "source": [
    "lyricsdf.artist.value_counts().plot(kind = \"box\", rot=0, title = \"Artist Distribution\")"
   ]
  },
  {
   "cell_type": "markdown",
   "metadata": {},
   "source": [
    "This box plot is probably the cleanest way to visualize the artist distribution: there are many artists with only 1 or so songs in the data, as shown by the incredibly cramped 2nd quartile.  But there are also a handful of outliers with hundreds of songs present in the data."
   ]
  },
  {
   "cell_type": "markdown",
   "metadata": {},
   "source": [
    "## Data Cleaning"
   ]
  },
  {
   "cell_type": "markdown",
   "metadata": {},
   "source": [
    "**Progress Report 2 starts here**\n",
    "\n",
    "As I move forward with data cleaning, I will need to first take care of the \"*Song Title* Lyrics\" issue present at the beginning of most (if not all) of the lyrics in the dataset, then strip whitespace from the ends of the lyric text and handle \"\\n\" within the lyric body.  I will also replace all empty strings \"\" with null values, so that they can be excluded from analysis later.  I will then take a closer look at remaining duplicates and try to weed out any non-lyrical entries."
   ]
  },
  {
   "cell_type": "code",
   "execution_count": 10,
   "metadata": {},
   "outputs": [],
   "source": [
    "# cycles through rows, removes the *Song Title* Lyrics from beginning\n",
    "def removeTitle(df):\n",
    "    i = 0\n",
    "    while i != len(df):\n",
    "        row = df.iloc[i]\n",
    "        toRemove = row.title + \" Lyrics\"\n",
    "        row.lyrics = row.lyrics.replace(toRemove, \"\")\n",
    "        i = i+1"
   ]
  },
  {
   "cell_type": "code",
   "execution_count": 11,
   "metadata": {},
   "outputs": [],
   "source": [
    "removeTitle(lyricsdf)"
   ]
  },
  {
   "cell_type": "code",
   "execution_count": 12,
   "metadata": {},
   "outputs": [
    {
     "data": {
      "text/html": [
       "<div>\n",
       "<style scoped>\n",
       "    .dataframe tbody tr th:only-of-type {\n",
       "        vertical-align: middle;\n",
       "    }\n",
       "\n",
       "    .dataframe tbody tr th {\n",
       "        vertical-align: top;\n",
       "    }\n",
       "\n",
       "    .dataframe thead th {\n",
       "        text-align: right;\n",
       "    }\n",
       "</style>\n",
       "<table border=\"1\" class=\"dataframe\">\n",
       "  <thead>\n",
       "    <tr style=\"text-align: right;\">\n",
       "      <th></th>\n",
       "      <th>artist</th>\n",
       "      <th>title</th>\n",
       "      <th>lyrics</th>\n",
       "    </tr>\n",
       "  </thead>\n",
       "  <tbody>\n",
       "    <tr>\n",
       "      <td>0</td>\n",
       "      <td>Abner Jay</td>\n",
       "      <td>Bring It When You Come</td>\n",
       "      <td>\\nTerrible things, always happening\\nJust like...</td>\n",
       "    </tr>\n",
       "    <tr>\n",
       "      <td>1</td>\n",
       "      <td>Abner Jay</td>\n",
       "      <td>Cocaine</td>\n",
       "      <td>\\nFolk music is high-class music. There's a lo...</td>\n",
       "    </tr>\n",
       "    <tr>\n",
       "      <td>2</td>\n",
       "      <td>Abner Jay</td>\n",
       "      <td>Cocaine Blues</td>\n",
       "      <td>Cocaine, Cocaine\\nRunning round my heart\\nAnd ...</td>\n",
       "    </tr>\n",
       "    <tr>\n",
       "      <td>3</td>\n",
       "      <td>Abner Jay</td>\n",
       "      <td>Don’t Mess with Me Baby</td>\n",
       "      <td>\\nTerrible things; that's what's getting all t...</td>\n",
       "    </tr>\n",
       "    <tr>\n",
       "      <td>4</td>\n",
       "      <td>Abner Jay</td>\n",
       "      <td>I cried</td>\n",
       "      <td>I, I cried\\nI cried in the ni-ight\\nOh please ...</td>\n",
       "    </tr>\n",
       "  </tbody>\n",
       "</table>\n",
       "</div>"
      ],
      "text/plain": [
       "      artist                    title  \\\n",
       "0  Abner Jay   Bring It When You Come   \n",
       "1  Abner Jay                  Cocaine   \n",
       "2  Abner Jay            Cocaine Blues   \n",
       "3  Abner Jay  Don’t Mess with Me Baby   \n",
       "4  Abner Jay                  I cried   \n",
       "\n",
       "                                              lyrics  \n",
       "0  \\nTerrible things, always happening\\nJust like...  \n",
       "1  \\nFolk music is high-class music. There's a lo...  \n",
       "2  Cocaine, Cocaine\\nRunning round my heart\\nAnd ...  \n",
       "3  \\nTerrible things; that's what's getting all t...  \n",
       "4  I, I cried\\nI cried in the ni-ight\\nOh please ...  "
      ]
     },
     "execution_count": 12,
     "metadata": {},
     "output_type": "execute_result"
    }
   ],
   "source": [
    "lyricsdf.head()"
   ]
  },
  {
   "cell_type": "markdown",
   "metadata": {},
   "source": [
    "Let's get rid of those 202 empty strings and replace with null vlaues."
   ]
  },
  {
   "cell_type": "code",
   "execution_count": 13,
   "metadata": {},
   "outputs": [],
   "source": [
    "lyricsdf = lyricsdf.replace(\"\", None)"
   ]
  },
  {
   "cell_type": "code",
   "execution_count": 14,
   "metadata": {},
   "outputs": [
    {
     "data": {
      "text/plain": [
       "0"
      ]
     },
     "execution_count": 14,
     "metadata": {},
     "output_type": "execute_result"
    }
   ],
   "source": [
    "len(lyricsdf[lyricsdf.lyrics == \"\"])"
   ]
  },
  {
   "cell_type": "markdown",
   "metadata": {},
   "source": [
    "Note below that there are still duplicates.  After removing the song titles, lyrical entries like \"Transcription in progress\" and \"Embed\" are now identical, in addition to the None values added in.  It is difficult to tell, however, why some of these other entries are appearing as duplicates"
   ]
  },
  {
   "cell_type": "code",
   "execution_count": 15,
   "metadata": {},
   "outputs": [
    {
     "data": {
      "text/html": [
       "<div>\n",
       "<style scoped>\n",
       "    .dataframe tbody tr th:only-of-type {\n",
       "        vertical-align: middle;\n",
       "    }\n",
       "\n",
       "    .dataframe tbody tr th {\n",
       "        vertical-align: top;\n",
       "    }\n",
       "\n",
       "    .dataframe thead th {\n",
       "        text-align: right;\n",
       "    }\n",
       "</style>\n",
       "<table border=\"1\" class=\"dataframe\">\n",
       "  <thead>\n",
       "    <tr style=\"text-align: right;\">\n",
       "      <th></th>\n",
       "      <th>artist</th>\n",
       "      <th>title</th>\n",
       "      <th>lyrics</th>\n",
       "    </tr>\n",
       "  </thead>\n",
       "  <tbody>\n",
       "    <tr>\n",
       "      <td>23</td>\n",
       "      <td>The Red Krayola</td>\n",
       "      <td>Piece for Piano and Guitar</td>\n",
       "      <td>Historic locomotion in\\nSectional activation\\n...</td>\n",
       "    </tr>\n",
       "    <tr>\n",
       "      <td>33</td>\n",
       "      <td>The Red Krayola</td>\n",
       "      <td>The Jewels of thre Madonna</td>\n",
       "      <td>Neevr let it be said that this is swill\\nI'm g...</td>\n",
       "    </tr>\n",
       "    <tr>\n",
       "      <td>36</td>\n",
       "      <td>The Red Krayola</td>\n",
       "      <td>Tina’s Gone to Have a Baby</td>\n",
       "      <td>The master tours the garden in a coach\\nI see ...</td>\n",
       "    </tr>\n",
       "    <tr>\n",
       "      <td>10</td>\n",
       "      <td>The Shaggs</td>\n",
       "      <td>Shaggs’ Own Thing (Musical Version)</td>\n",
       "      <td>\\nOh, the rich people want what the poor peopl...</td>\n",
       "    </tr>\n",
       "    <tr>\n",
       "      <td>17</td>\n",
       "      <td>The Shaggs</td>\n",
       "      <td>Wheels</td>\n",
       "      <td>What should I do?\\nWhat should I do?\\nTell me,...</td>\n",
       "    </tr>\n",
       "    <tr>\n",
       "      <td>1</td>\n",
       "      <td>Tonetta</td>\n",
       "      <td>81 Inch Prime Ass (Tonetta)</td>\n",
       "      <td>I'm going to tickle your ass\\nWith my tongue\\n...</td>\n",
       "    </tr>\n",
       "    <tr>\n",
       "      <td>79</td>\n",
       "      <td>Viper</td>\n",
       "      <td>Hop It, Drop It</td>\n",
       "      <td>\\nHop it, drop it\\nDon't hurt it, work it\\nHop...</td>\n",
       "    </tr>\n",
       "    <tr>\n",
       "      <td>113</td>\n",
       "      <td>Viper</td>\n",
       "      <td>In the Life of the Top-Choice Assassin</td>\n",
       "      <td>\\nIn the life of a baller\\nShot-caller, hater ...</td>\n",
       "    </tr>\n",
       "    <tr>\n",
       "      <td>127</td>\n",
       "      <td>Viper</td>\n",
       "      <td>Jackers Mad</td>\n",
       "      <td>Transcription in progress by Viper Crackpostin...</td>\n",
       "    </tr>\n",
       "    <tr>\n",
       "      <td>156</td>\n",
       "      <td>Viper</td>\n",
       "      <td>No 1 Had A Clue</td>\n",
       "      <td>\\nGirls love me cause I'm so real\\nCause I'm l...</td>\n",
       "    </tr>\n",
       "    <tr>\n",
       "      <td>181</td>\n",
       "      <td>Viper</td>\n",
       "      <td>Shinin’</td>\n",
       "      <td>Transcription in progress by Viper Crackpostin...</td>\n",
       "    </tr>\n",
       "    <tr>\n",
       "      <td>207</td>\n",
       "      <td>Viper</td>\n",
       "      <td>The Paper Man</td>\n",
       "      <td>\\nIf you're looking for me I'll be ballin'\\nCa...</td>\n",
       "    </tr>\n",
       "    <tr>\n",
       "      <td>213</td>\n",
       "      <td>Viper</td>\n",
       "      <td>The World’s Top Enemies</td>\n",
       "      <td>Transcription in progress by Viper Crackpostin...</td>\n",
       "    </tr>\n",
       "    <tr>\n",
       "      <td>217</td>\n",
       "      <td>Viper</td>\n",
       "      <td>Thick Grindin’</td>\n",
       "      <td>\\nStanging licks, hustlin' thick\\nBig grinding...</td>\n",
       "    </tr>\n",
       "    <tr>\n",
       "      <td>231</td>\n",
       "      <td>Viper</td>\n",
       "      <td>Top Money In Our Pocket</td>\n",
       "      <td>Transcription in progress by Viper Crackpostin...</td>\n",
       "    </tr>\n",
       "    <tr>\n",
       "      <td>233</td>\n",
       "      <td>Viper</td>\n",
       "      <td>U a Dime</td>\n",
       "      <td>\\nUp\\nYou a dime, get up\\nYou fine, get up\\nYo...</td>\n",
       "    </tr>\n",
       "    <tr>\n",
       "      <td>242</td>\n",
       "      <td>Viper</td>\n",
       "      <td>We Lit</td>\n",
       "      <td>Transcription in progress by Viper Crackpostin...</td>\n",
       "    </tr>\n",
       "    <tr>\n",
       "      <td>251</td>\n",
       "      <td>Viper</td>\n",
       "      <td>Winnin’ Through Your Best Side</td>\n",
       "      <td>\\nYou probably seen me rolling through your ho...</td>\n",
       "    </tr>\n",
       "    <tr>\n",
       "      <td>255</td>\n",
       "      <td>Viper</td>\n",
       "      <td>You Fine, Get Up</td>\n",
       "      <td>\\nUp\\nYou a dime, get up\\nYou fine, get up\\nYo...</td>\n",
       "    </tr>\n",
       "    <tr>\n",
       "      <td>196</td>\n",
       "      <td>Wesley Willis</td>\n",
       "      <td>I’m Shooting Out Your Lights (New York, New Yo...</td>\n",
       "      <td>\\nLook out as I speak, buddy boy\\nI'm going to...</td>\n",
       "    </tr>\n",
       "  </tbody>\n",
       "</table>\n",
       "</div>"
      ],
      "text/plain": [
       "              artist                                              title  \\\n",
       "23   The Red Krayola                         Piece for Piano and Guitar   \n",
       "33   The Red Krayola                         The Jewels of thre Madonna   \n",
       "36   The Red Krayola                         Tina’s Gone to Have a Baby   \n",
       "10        The Shaggs                Shaggs’ Own Thing (Musical Version)   \n",
       "17        The Shaggs                                             Wheels   \n",
       "1            Tonetta                        81 Inch Prime Ass (Tonetta)   \n",
       "79             Viper                                    Hop It, Drop It   \n",
       "113            Viper             In the Life of the Top-Choice Assassin   \n",
       "127            Viper                                        Jackers Mad   \n",
       "156            Viper                                    No 1 Had A Clue   \n",
       "181            Viper                                            Shinin’   \n",
       "207            Viper                                      The Paper Man   \n",
       "213            Viper                            The World’s Top Enemies   \n",
       "217            Viper                                     Thick Grindin’   \n",
       "231            Viper                            Top Money In Our Pocket   \n",
       "233            Viper                                           U a Dime   \n",
       "242            Viper                                             We Lit   \n",
       "251            Viper                     Winnin’ Through Your Best Side   \n",
       "255            Viper                                   You Fine, Get Up   \n",
       "196    Wesley Willis  I’m Shooting Out Your Lights (New York, New Yo...   \n",
       "\n",
       "                                                lyrics  \n",
       "23   Historic locomotion in\\nSectional activation\\n...  \n",
       "33   Neevr let it be said that this is swill\\nI'm g...  \n",
       "36   The master tours the garden in a coach\\nI see ...  \n",
       "10   \\nOh, the rich people want what the poor peopl...  \n",
       "17   What should I do?\\nWhat should I do?\\nTell me,...  \n",
       "1    I'm going to tickle your ass\\nWith my tongue\\n...  \n",
       "79   \\nHop it, drop it\\nDon't hurt it, work it\\nHop...  \n",
       "113  \\nIn the life of a baller\\nShot-caller, hater ...  \n",
       "127  Transcription in progress by Viper Crackpostin...  \n",
       "156  \\nGirls love me cause I'm so real\\nCause I'm l...  \n",
       "181  Transcription in progress by Viper Crackpostin...  \n",
       "207  \\nIf you're looking for me I'll be ballin'\\nCa...  \n",
       "213  Transcription in progress by Viper Crackpostin...  \n",
       "217  \\nStanging licks, hustlin' thick\\nBig grinding...  \n",
       "231  Transcription in progress by Viper Crackpostin...  \n",
       "233  \\nUp\\nYou a dime, get up\\nYou fine, get up\\nYo...  \n",
       "242  Transcription in progress by Viper Crackpostin...  \n",
       "251  \\nYou probably seen me rolling through your ho...  \n",
       "255  \\nUp\\nYou a dime, get up\\nYou fine, get up\\nYo...  \n",
       "196  \\nLook out as I speak, buddy boy\\nI'm going to...  "
      ]
     },
     "execution_count": 15,
     "metadata": {},
     "output_type": "execute_result"
    }
   ],
   "source": [
    "lyricsdf[lyricsdf.lyrics.duplicated()].tail(20)"
   ]
  },
  {
   "cell_type": "code",
   "execution_count": 16,
   "metadata": {},
   "outputs": [],
   "source": [
    "# strip whitespace from the beginning and end\n",
    "lyricsdf.lyrics = lyricsdf.lyrics.map(lambda x: x.strip(\"\\n\"))"
   ]
  },
  {
   "cell_type": "code",
   "execution_count": 17,
   "metadata": {},
   "outputs": [
    {
     "data": {
      "text/html": [
       "<div>\n",
       "<style scoped>\n",
       "    .dataframe tbody tr th:only-of-type {\n",
       "        vertical-align: middle;\n",
       "    }\n",
       "\n",
       "    .dataframe tbody tr th {\n",
       "        vertical-align: top;\n",
       "    }\n",
       "\n",
       "    .dataframe thead th {\n",
       "        text-align: right;\n",
       "    }\n",
       "</style>\n",
       "<table border=\"1\" class=\"dataframe\">\n",
       "  <thead>\n",
       "    <tr style=\"text-align: right;\">\n",
       "      <th></th>\n",
       "      <th>artist</th>\n",
       "      <th>title</th>\n",
       "      <th>lyrics</th>\n",
       "    </tr>\n",
       "  </thead>\n",
       "  <tbody>\n",
       "    <tr>\n",
       "      <td>0</td>\n",
       "      <td>Abner Jay</td>\n",
       "      <td>Bring It When You Come</td>\n",
       "      <td>Terrible things, always happening\\nJust like y...</td>\n",
       "    </tr>\n",
       "    <tr>\n",
       "      <td>1</td>\n",
       "      <td>Abner Jay</td>\n",
       "      <td>Cocaine</td>\n",
       "      <td>Folk music is high-class music. There's a lott...</td>\n",
       "    </tr>\n",
       "    <tr>\n",
       "      <td>2</td>\n",
       "      <td>Abner Jay</td>\n",
       "      <td>Cocaine Blues</td>\n",
       "      <td>Cocaine, Cocaine\\nRunning round my heart\\nAnd ...</td>\n",
       "    </tr>\n",
       "    <tr>\n",
       "      <td>3</td>\n",
       "      <td>Abner Jay</td>\n",
       "      <td>Don’t Mess with Me Baby</td>\n",
       "      <td>Terrible things; that's what's getting all the...</td>\n",
       "    </tr>\n",
       "    <tr>\n",
       "      <td>4</td>\n",
       "      <td>Abner Jay</td>\n",
       "      <td>I cried</td>\n",
       "      <td>I, I cried\\nI cried in the ni-ight\\nOh please ...</td>\n",
       "    </tr>\n",
       "  </tbody>\n",
       "</table>\n",
       "</div>"
      ],
      "text/plain": [
       "      artist                    title  \\\n",
       "0  Abner Jay   Bring It When You Come   \n",
       "1  Abner Jay                  Cocaine   \n",
       "2  Abner Jay            Cocaine Blues   \n",
       "3  Abner Jay  Don’t Mess with Me Baby   \n",
       "4  Abner Jay                  I cried   \n",
       "\n",
       "                                              lyrics  \n",
       "0  Terrible things, always happening\\nJust like y...  \n",
       "1  Folk music is high-class music. There's a lott...  \n",
       "2  Cocaine, Cocaine\\nRunning round my heart\\nAnd ...  \n",
       "3  Terrible things; that's what's getting all the...  \n",
       "4  I, I cried\\nI cried in the ni-ight\\nOh please ...  "
      ]
     },
     "execution_count": 17,
     "metadata": {},
     "output_type": "execute_result"
    }
   ],
   "source": [
    "lyricsdf.head()"
   ]
  },
  {
   "cell_type": "code",
   "execution_count": 18,
   "metadata": {
    "scrolled": true
   },
   "outputs": [
    {
     "data": {
      "text/html": [
       "<div>\n",
       "<style scoped>\n",
       "    .dataframe tbody tr th:only-of-type {\n",
       "        vertical-align: middle;\n",
       "    }\n",
       "\n",
       "    .dataframe tbody tr th {\n",
       "        vertical-align: top;\n",
       "    }\n",
       "\n",
       "    .dataframe thead th {\n",
       "        text-align: right;\n",
       "    }\n",
       "</style>\n",
       "<table border=\"1\" class=\"dataframe\">\n",
       "  <thead>\n",
       "    <tr style=\"text-align: right;\">\n",
       "      <th></th>\n",
       "      <th>artist</th>\n",
       "      <th>title</th>\n",
       "      <th>lyrics</th>\n",
       "    </tr>\n",
       "  </thead>\n",
       "  <tbody>\n",
       "    <tr>\n",
       "      <td>46</td>\n",
       "      <td>Ariel Pink</td>\n",
       "      <td>Function</td>\n",
       "      <td>What's the function of your soul\\nWhat's the f...</td>\n",
       "    </tr>\n",
       "    <tr>\n",
       "      <td>46</td>\n",
       "      <td>Brian Wilson</td>\n",
       "      <td>Dream Angel</td>\n",
       "      <td>I'm holding you as you sleep\\nI get this feeli...</td>\n",
       "    </tr>\n",
       "    <tr>\n",
       "      <td>46</td>\n",
       "      <td>Daniel Johnston</td>\n",
       "      <td>Despair Came Knocking</td>\n",
       "      <td>Despair came knocking at my door\\nAnd I let he...</td>\n",
       "    </tr>\n",
       "    <tr>\n",
       "      <td>46</td>\n",
       "      <td>Gary Wilson</td>\n",
       "      <td>Lonely Holiday (Intro)</td>\n",
       "      <td>Holiday\\nA holiday\\nIt's a holidayEmbed</td>\n",
       "    </tr>\n",
       "    <tr>\n",
       "      <td>46</td>\n",
       "      <td>Hasil Adkins</td>\n",
       "      <td>Woke Up This Morning</td>\n",
       "      <td>I got up this morning\\nYeah when I woke up thi...</td>\n",
       "    </tr>\n",
       "    <tr>\n",
       "      <td>46</td>\n",
       "      <td>IceJJFish</td>\n",
       "      <td>So Sweet</td>\n",
       "      <td>Baby you look so sweet\\nBaby girl put that bod...</td>\n",
       "    </tr>\n",
       "    <tr>\n",
       "      <td>46</td>\n",
       "      <td>Jandek</td>\n",
       "      <td>Comedy</td>\n",
       "      <td>Here's looking at you kid\\nYou got the German ...</td>\n",
       "    </tr>\n",
       "    <tr>\n",
       "      <td>46</td>\n",
       "      <td>John Frusciante</td>\n",
       "      <td>Dying (I Don’t Mind)</td>\n",
       "      <td>Here's one for the unknown past\\nShooting into...</td>\n",
       "    </tr>\n",
       "    <tr>\n",
       "      <td>46</td>\n",
       "      <td>John Maus</td>\n",
       "      <td>Love Letters From Hell (2007)</td>\n",
       "      <td>Well I'm fillin in for Gracie Roberts tonight,...</td>\n",
       "    </tr>\n",
       "    <tr>\n",
       "      <td>46</td>\n",
       "      <td>Moondog</td>\n",
       "      <td>Oboe Round</td>\n",
       "      <td>No, the wheel was never invented\\nNo, no, no, ...</td>\n",
       "    </tr>\n",
       "    <tr>\n",
       "      <td>46</td>\n",
       "      <td>Philemon Arthur And The Dung</td>\n",
       "      <td>Philemon Arthur</td>\n",
       "      <td>Philemon Arthur\\nPhilemon Arthur\\nPhilemon Art...</td>\n",
       "    </tr>\n",
       "    <tr>\n",
       "      <td>46</td>\n",
       "      <td>R. Stevie Moore</td>\n",
       "      <td>I’ve Begun to Fall in Love</td>\n",
       "      <td>Carolynn will you come?\\nCarolynn will you com...</td>\n",
       "    </tr>\n",
       "    <tr>\n",
       "      <td>46</td>\n",
       "      <td>Roky Erickson</td>\n",
       "      <td>Night of the Vampire</td>\n",
       "      <td>Tonight is the night of the vampire\\nTonight i...</td>\n",
       "    </tr>\n",
       "    <tr>\n",
       "      <td>46</td>\n",
       "      <td>Syd Barrett</td>\n",
       "      <td>Long Gone</td>\n",
       "      <td>She was long gone, long, long gone\\nShe was go...</td>\n",
       "    </tr>\n",
       "    <tr>\n",
       "      <td>46</td>\n",
       "      <td>Viper</td>\n",
       "      <td>Doin’ That Heroin</td>\n",
       "      <td>You work, with, me baby\\nI work, with, ya baby...</td>\n",
       "    </tr>\n",
       "    <tr>\n",
       "      <td>46</td>\n",
       "      <td>Wesley Willis</td>\n",
       "      <td>Bone Face</td>\n",
       "      <td>This band played at the Metro\\nAbout 800 peopl...</td>\n",
       "    </tr>\n",
       "    <tr>\n",
       "      <td>46</td>\n",
       "      <td>Wild Man Fischer</td>\n",
       "      <td>The Wild Man Fischer Story</td>\n",
       "      <td>This song here is called \"The Wild Man Fischer...</td>\n",
       "    </tr>\n",
       "    <tr>\n",
       "      <td>46</td>\n",
       "      <td>William Shatner</td>\n",
       "      <td>Twilight Zone</td>\n",
       "      <td>(Somewhere in a lonely hotel room\\nThere's a g...</td>\n",
       "    </tr>\n",
       "  </tbody>\n",
       "</table>\n",
       "</div>"
      ],
      "text/plain": [
       "                          artist                          title  \\\n",
       "46                    Ariel Pink                       Function   \n",
       "46                  Brian Wilson                    Dream Angel   \n",
       "46               Daniel Johnston          Despair Came Knocking   \n",
       "46                   Gary Wilson         Lonely Holiday (Intro)   \n",
       "46                  Hasil Adkins           Woke Up This Morning   \n",
       "46                     IceJJFish                       So Sweet   \n",
       "46                        Jandek                         Comedy   \n",
       "46               John Frusciante           Dying (I Don’t Mind)   \n",
       "46                     John Maus  Love Letters From Hell (2007)   \n",
       "46                       Moondog                     Oboe Round   \n",
       "46  Philemon Arthur And The Dung                Philemon Arthur   \n",
       "46               R. Stevie Moore     I’ve Begun to Fall in Love   \n",
       "46                 Roky Erickson           Night of the Vampire   \n",
       "46                   Syd Barrett                      Long Gone   \n",
       "46                         Viper              Doin’ That Heroin   \n",
       "46                 Wesley Willis                      Bone Face   \n",
       "46              Wild Man Fischer     The Wild Man Fischer Story   \n",
       "46               William Shatner                  Twilight Zone   \n",
       "\n",
       "                                               lyrics  \n",
       "46  What's the function of your soul\\nWhat's the f...  \n",
       "46  I'm holding you as you sleep\\nI get this feeli...  \n",
       "46  Despair came knocking at my door\\nAnd I let he...  \n",
       "46            Holiday\\nA holiday\\nIt's a holidayEmbed  \n",
       "46  I got up this morning\\nYeah when I woke up thi...  \n",
       "46  Baby you look so sweet\\nBaby girl put that bod...  \n",
       "46  Here's looking at you kid\\nYou got the German ...  \n",
       "46  Here's one for the unknown past\\nShooting into...  \n",
       "46  Well I'm fillin in for Gracie Roberts tonight,...  \n",
       "46  No, the wheel was never invented\\nNo, no, no, ...  \n",
       "46  Philemon Arthur\\nPhilemon Arthur\\nPhilemon Art...  \n",
       "46  Carolynn will you come?\\nCarolynn will you com...  \n",
       "46  Tonight is the night of the vampire\\nTonight i...  \n",
       "46  She was long gone, long, long gone\\nShe was go...  \n",
       "46  You work, with, me baby\\nI work, with, ya baby...  \n",
       "46  This band played at the Metro\\nAbout 800 peopl...  \n",
       "46  This song here is called \"The Wild Man Fischer...  \n",
       "46  (Somewhere in a lonely hotel room\\nThere's a g...  "
      ]
     },
     "execution_count": 18,
     "metadata": {},
     "output_type": "execute_result"
    }
   ],
   "source": [
    "# I noticed that .loc[] worked on indexes the restart for individual artists.  This doesn't seem super useful.\n",
    "lyricsdf.loc[46]"
   ]
  },
  {
   "cell_type": "code",
   "execution_count": 19,
   "metadata": {},
   "outputs": [
    {
     "data": {
      "text/html": [
       "<div>\n",
       "<style scoped>\n",
       "    .dataframe tbody tr th:only-of-type {\n",
       "        vertical-align: middle;\n",
       "    }\n",
       "\n",
       "    .dataframe tbody tr th {\n",
       "        vertical-align: top;\n",
       "    }\n",
       "\n",
       "    .dataframe thead th {\n",
       "        text-align: right;\n",
       "    }\n",
       "</style>\n",
       "<table border=\"1\" class=\"dataframe\">\n",
       "  <thead>\n",
       "    <tr style=\"text-align: right;\">\n",
       "      <th></th>\n",
       "      <th>artist</th>\n",
       "      <th>title</th>\n",
       "      <th>lyrics</th>\n",
       "    </tr>\n",
       "  </thead>\n",
       "  <tbody>\n",
       "    <tr>\n",
       "      <td>0</td>\n",
       "      <td>Abner Jay</td>\n",
       "      <td>Bring It When You Come</td>\n",
       "      <td>Terrible things, always happening\\nJust like y...</td>\n",
       "    </tr>\n",
       "    <tr>\n",
       "      <td>1</td>\n",
       "      <td>Abner Jay</td>\n",
       "      <td>Cocaine</td>\n",
       "      <td>Folk music is high-class music. There's a lott...</td>\n",
       "    </tr>\n",
       "    <tr>\n",
       "      <td>2</td>\n",
       "      <td>Abner Jay</td>\n",
       "      <td>Cocaine Blues</td>\n",
       "      <td>Cocaine, Cocaine\\nRunning round my heart\\nAnd ...</td>\n",
       "    </tr>\n",
       "    <tr>\n",
       "      <td>3</td>\n",
       "      <td>Abner Jay</td>\n",
       "      <td>Don’t Mess with Me Baby</td>\n",
       "      <td>Terrible things; that's what's getting all the...</td>\n",
       "    </tr>\n",
       "    <tr>\n",
       "      <td>4</td>\n",
       "      <td>Abner Jay</td>\n",
       "      <td>I cried</td>\n",
       "      <td>I, I cried\\nI cried in the ni-ight\\nOh please ...</td>\n",
       "    </tr>\n",
       "  </tbody>\n",
       "</table>\n",
       "</div>"
      ],
      "text/plain": [
       "      artist                    title  \\\n",
       "0  Abner Jay   Bring It When You Come   \n",
       "1  Abner Jay                  Cocaine   \n",
       "2  Abner Jay            Cocaine Blues   \n",
       "3  Abner Jay  Don’t Mess with Me Baby   \n",
       "4  Abner Jay                  I cried   \n",
       "\n",
       "                                              lyrics  \n",
       "0  Terrible things, always happening\\nJust like y...  \n",
       "1  Folk music is high-class music. There's a lott...  \n",
       "2  Cocaine, Cocaine\\nRunning round my heart\\nAnd ...  \n",
       "3  Terrible things; that's what's getting all the...  \n",
       "4  I, I cried\\nI cried in the ni-ight\\nOh please ...  "
      ]
     },
     "execution_count": 19,
     "metadata": {},
     "output_type": "execute_result"
    }
   ],
   "source": [
    "# fix the indexing -- it probably won't be super useful to have each individual musician's songs\n",
    "# indexed from 0-n.  This makes sure everything has a unique index\n",
    "lyricsdf = lyricsdf.reset_index()\n",
    "lyricsdf = lyricsdf[['artist', 'title', 'lyrics']]\n",
    "lyricsdf.head()"
   ]
  },
  {
   "cell_type": "code",
   "execution_count": 20,
   "metadata": {},
   "outputs": [
    {
     "data": {
      "text/html": [
       "<div>\n",
       "<style scoped>\n",
       "    .dataframe tbody tr th:only-of-type {\n",
       "        vertical-align: middle;\n",
       "    }\n",
       "\n",
       "    .dataframe tbody tr th {\n",
       "        vertical-align: top;\n",
       "    }\n",
       "\n",
       "    .dataframe thead th {\n",
       "        text-align: right;\n",
       "    }\n",
       "</style>\n",
       "<table border=\"1\" class=\"dataframe\">\n",
       "  <thead>\n",
       "    <tr style=\"text-align: right;\">\n",
       "      <th></th>\n",
       "      <th>artist</th>\n",
       "      <th>title</th>\n",
       "      <th>lyrics</th>\n",
       "    </tr>\n",
       "  </thead>\n",
       "  <tbody>\n",
       "    <tr>\n",
       "      <td>3383</td>\n",
       "      <td>William Shatner</td>\n",
       "      <td>Together</td>\n",
       "      <td>He says Phoenix\\nPegasus\\nGrecian urn\\nMidwest...</td>\n",
       "    </tr>\n",
       "    <tr>\n",
       "      <td>3384</td>\n",
       "      <td>William Shatner</td>\n",
       "      <td>Twilight Zone</td>\n",
       "      <td>(Somewhere in a lonely hotel room\\nThere's a g...</td>\n",
       "    </tr>\n",
       "    <tr>\n",
       "      <td>3385</td>\n",
       "      <td>William Shatner</td>\n",
       "      <td>Walking on the Moon</td>\n",
       "      <td>Giant steps are what you take\\nI hope my legs ...</td>\n",
       "    </tr>\n",
       "    <tr>\n",
       "      <td>3386</td>\n",
       "      <td>William Shatner</td>\n",
       "      <td>What Have You Done</td>\n",
       "      <td>She was underwater\\nIn the shadows\\nWas it the...</td>\n",
       "    </tr>\n",
       "    <tr>\n",
       "      <td>3387</td>\n",
       "      <td>William Shatner</td>\n",
       "      <td>You’ll Have Time</td>\n",
       "      <td>Live life, live life like you're gonna die\\nBe...</td>\n",
       "    </tr>\n",
       "  </tbody>\n",
       "</table>\n",
       "</div>"
      ],
      "text/plain": [
       "               artist                title  \\\n",
       "3383  William Shatner             Together   \n",
       "3384  William Shatner        Twilight Zone   \n",
       "3385  William Shatner  Walking on the Moon   \n",
       "3386  William Shatner   What Have You Done   \n",
       "3387  William Shatner     You’ll Have Time   \n",
       "\n",
       "                                                 lyrics  \n",
       "3383  He says Phoenix\\nPegasus\\nGrecian urn\\nMidwest...  \n",
       "3384  (Somewhere in a lonely hotel room\\nThere's a g...  \n",
       "3385  Giant steps are what you take\\nI hope my legs ...  \n",
       "3386  She was underwater\\nIn the shadows\\nWas it the...  \n",
       "3387  Live life, live life like you're gonna die\\nBe...  "
      ]
     },
     "execution_count": 20,
     "metadata": {},
     "output_type": "execute_result"
    }
   ],
   "source": [
    "lyricsdf.tail()"
   ]
  },
  {
   "cell_type": "code",
   "execution_count": 21,
   "metadata": {},
   "outputs": [
    {
     "data": {
      "text/plain": [
       "' airplane crash\\nCar wreck, a cap in your ass2Embed'"
      ]
     },
     "execution_count": 21,
     "metadata": {},
     "output_type": "execute_result"
    }
   ],
   "source": [
    "# William Shatner \"You'll Have Time\" ends in \"2Embed\"\n",
    "lyricsdf.iloc[-1].lyrics[-50:]"
   ]
  },
  {
   "cell_type": "code",
   "execution_count": 22,
   "metadata": {},
   "outputs": [
    {
     "name": "stdout",
     "output_type": "stream",
     "text": [
      "r min hund Cerberos\n",
      "Inte har han mossa i öratEmbed\n",
      "us back in formation\n",
      "The pack in formation...Embed\n",
      "don, rock on Chicago\n",
      "Raid, it kills bugs deadEmbed\n",
      "the skull sure changes a man\n",
      "Bye, Bye, BarbieEmbed\n",
      " me, i got the safe so im motherfucking sa-feEmbed\n"
     ]
    }
   ],
   "source": [
    "# Randomly samples from lyrics & shows ending, check what \"Embed\"s look like\n",
    "embedtest = lyricsdf.lyrics.sample(5)\n",
    "for lyrics in embedtest:\n",
    "    print(lyrics[-50:])"
   ]
  },
  {
   "cell_type": "markdown",
   "metadata": {},
   "source": [
    "After running the code chunk above multiple times, I've seen a few features of the \"Embed\" issue at the tail of the lyrics:\n",
    "- No space before \"Embed\"\n",
    "- Occasionally (but rarely), there is a digit before (e.g., \"1Embed\")\n",
    "    - After checking some lyrics on the Genius site, I found that this number corresponds to the \"PYONG\"s on the lyrics.  This is sort of like a favoriting/sharing function, but for now, it's sort of unimportant.\n",
    "    \n",
    "Both the \"Embed\" and the preceding digit, if present, should be removed.  There is some risk that removing the digit will delete a digit at the end of the lyrics, but I judge that, in this case, losing a digit is preferable to including extraneous data.\n"
   ]
  },
  {
   "cell_type": "code",
   "execution_count": 23,
   "metadata": {},
   "outputs": [],
   "source": [
    "# Remove the nEmbed using a regex\n",
    "def removeEmbed(df):\n",
    "    i = 0\n",
    "    while i != len(df):\n",
    "        row = df.iloc[i]\n",
    "        embed = row.lyrics\n",
    "        row.lyrics = re.sub(r'\\d*Embed', \"\", embed)\n",
    "        #print(row.lyrics[-50:])\n",
    "        i = i+1"
   ]
  },
  {
   "cell_type": "code",
   "execution_count": 24,
   "metadata": {},
   "outputs": [],
   "source": [
    "removeEmbed(lyricsdf)"
   ]
  },
  {
   "cell_type": "code",
   "execution_count": 25,
   "metadata": {},
   "outputs": [
    {
     "data": {
      "text/html": [
       "<div>\n",
       "<style scoped>\n",
       "    .dataframe tbody tr th:only-of-type {\n",
       "        vertical-align: middle;\n",
       "    }\n",
       "\n",
       "    .dataframe tbody tr th {\n",
       "        vertical-align: top;\n",
       "    }\n",
       "\n",
       "    .dataframe thead th {\n",
       "        text-align: right;\n",
       "    }\n",
       "</style>\n",
       "<table border=\"1\" class=\"dataframe\">\n",
       "  <thead>\n",
       "    <tr style=\"text-align: right;\">\n",
       "      <th></th>\n",
       "      <th>artist</th>\n",
       "      <th>title</th>\n",
       "      <th>lyrics</th>\n",
       "      <th>lyrics_lines</th>\n",
       "    </tr>\n",
       "  </thead>\n",
       "  <tbody>\n",
       "    <tr>\n",
       "      <td>0</td>\n",
       "      <td>Abner Jay</td>\n",
       "      <td>Bring It When You Come</td>\n",
       "      <td>Terrible things, always happening Just like ye...</td>\n",
       "      <td>Terrible things, always happening\\nJust like y...</td>\n",
       "    </tr>\n",
       "    <tr>\n",
       "      <td>1</td>\n",
       "      <td>Abner Jay</td>\n",
       "      <td>Cocaine</td>\n",
       "      <td>Folk music is high-class music. There's a lott...</td>\n",
       "      <td>Folk music is high-class music. There's a lott...</td>\n",
       "    </tr>\n",
       "    <tr>\n",
       "      <td>2</td>\n",
       "      <td>Abner Jay</td>\n",
       "      <td>Cocaine Blues</td>\n",
       "      <td>Cocaine, Cocaine Running round my heart And th...</td>\n",
       "      <td>Cocaine, Cocaine\\nRunning round my heart\\nAnd ...</td>\n",
       "    </tr>\n",
       "    <tr>\n",
       "      <td>3</td>\n",
       "      <td>Abner Jay</td>\n",
       "      <td>Don’t Mess with Me Baby</td>\n",
       "      <td>Terrible things; that's what's getting all the...</td>\n",
       "      <td>Terrible things; that's what's getting all the...</td>\n",
       "    </tr>\n",
       "    <tr>\n",
       "      <td>4</td>\n",
       "      <td>Abner Jay</td>\n",
       "      <td>I cried</td>\n",
       "      <td>I, I cried I cried in the ni-ight Oh please co...</td>\n",
       "      <td>I, I cried\\nI cried in the ni-ight\\nOh please ...</td>\n",
       "    </tr>\n",
       "  </tbody>\n",
       "</table>\n",
       "</div>"
      ],
      "text/plain": [
       "      artist                    title  \\\n",
       "0  Abner Jay   Bring It When You Come   \n",
       "1  Abner Jay                  Cocaine   \n",
       "2  Abner Jay            Cocaine Blues   \n",
       "3  Abner Jay  Don’t Mess with Me Baby   \n",
       "4  Abner Jay                  I cried   \n",
       "\n",
       "                                              lyrics  \\\n",
       "0  Terrible things, always happening Just like ye...   \n",
       "1  Folk music is high-class music. There's a lott...   \n",
       "2  Cocaine, Cocaine Running round my heart And th...   \n",
       "3  Terrible things; that's what's getting all the...   \n",
       "4  I, I cried I cried in the ni-ight Oh please co...   \n",
       "\n",
       "                                        lyrics_lines  \n",
       "0  Terrible things, always happening\\nJust like y...  \n",
       "1  Folk music is high-class music. There's a lott...  \n",
       "2  Cocaine, Cocaine\\nRunning round my heart\\nAnd ...  \n",
       "3  Terrible things; that's what's getting all the...  \n",
       "4  I, I cried\\nI cried in the ni-ight\\nOh please ...  "
      ]
     },
     "execution_count": 25,
     "metadata": {},
     "output_type": "execute_result"
    }
   ],
   "source": [
    "# replaces newlines with spaces, but maintains the line-break data in a separate column\n",
    "lyricsdf[\"lyrics_lines\"] = lyricsdf.lyrics\n",
    "lyricsdf.lyrics = lyricsdf.lyrics.map(lambda x: x.replace(\"\\n\", \" \"))\n",
    "lyricsdf.head()"
   ]
  },
  {
   "cell_type": "code",
   "execution_count": 26,
   "metadata": {},
   "outputs": [
    {
     "name": "stdout",
     "output_type": "stream",
     "text": [
      "it with you, honey Bring it with you when you come\n",
      "heart And it runnin', oh it runnin' Round my brain\n",
      "nd then running Lord, it's running Round my brain \n",
      "with me baby And I declare, I declare I am through\n",
      "back tonight And then I'll kiss and hold you tight\n"
     ]
    }
   ],
   "source": [
    "# The end is looking pretty good, too! No Embed, no newlines\n",
    "for lyrics in lyricsdf.lyrics[:5]:\n",
    "    print(lyrics[-50:])"
   ]
  },
  {
   "cell_type": "markdown",
   "metadata": {},
   "source": [
    "Some lyrics are not in English characters.  While sampling, I saw at least one song written in Japanese characters.  I'll tag these in a separate \"English_char\" column, but won't remove them for now.  There is the possibility that there are foreign language songs written in English characters that won't be recognized by this step.  Given the nature of the data, I sense there may also be some \"non-English\" nonsense songs.  I'll leave these in, as well, and will leave them untagged (for now), under the assumption that they do not make up a good portion of the data."
   ]
  },
  {
   "cell_type": "code",
   "execution_count": 27,
   "metadata": {},
   "outputs": [
    {
     "data": {
      "text/plain": [
       "'En dag när jag gick i en skog Så tappade jag mina byxor Jag märkte det ej Men jag mötte en tjej Och hon tittade så konstigt på mig Men så sa hon hej ... ... Och sen så gick jag hem'"
      ]
     },
     "execution_count": 27,
     "metadata": {},
     "output_type": "execute_result"
    }
   ],
   "source": [
    "# This is not English :)\n",
    "lyricsdf.iloc[1915].lyrics"
   ]
  },
  {
   "cell_type": "markdown",
   "metadata": {},
   "source": [
    "The code below was taken from this [stack overflow page](https://stackoverflow.com/questions/27084617/detect-strings-with-non-english-characters-in-python).  It should identify non-English characters not found in ASCII."
   ]
  },
  {
   "cell_type": "code",
   "execution_count": 28,
   "metadata": {},
   "outputs": [],
   "source": [
    "# [1915] is not English for sure\n",
    "def isEnglish(s):\n",
    "    try:\n",
    "        s.encode(encoding='utf-8').decode('ascii')\n",
    "    except UnicodeDecodeError:\n",
    "        return False\n",
    "    else:\n",
    "        return True"
   ]
  },
  {
   "cell_type": "code",
   "execution_count": 29,
   "metadata": {},
   "outputs": [
    {
     "data": {
      "text/plain": [
       "False"
      ]
     },
     "execution_count": 29,
     "metadata": {},
     "output_type": "execute_result"
    }
   ],
   "source": [
    "# Good job! That was, indeed, not English :)\n",
    "isEnglish(lyricsdf.iloc[1915].lyrics)"
   ]
  },
  {
   "cell_type": "code",
   "execution_count": 30,
   "metadata": {},
   "outputs": [
    {
     "data": {
      "text/html": [
       "<div>\n",
       "<style scoped>\n",
       "    .dataframe tbody tr th:only-of-type {\n",
       "        vertical-align: middle;\n",
       "    }\n",
       "\n",
       "    .dataframe tbody tr th {\n",
       "        vertical-align: top;\n",
       "    }\n",
       "\n",
       "    .dataframe thead th {\n",
       "        text-align: right;\n",
       "    }\n",
       "</style>\n",
       "<table border=\"1\" class=\"dataframe\">\n",
       "  <thead>\n",
       "    <tr style=\"text-align: right;\">\n",
       "      <th></th>\n",
       "      <th>artist</th>\n",
       "      <th>title</th>\n",
       "      <th>lyrics</th>\n",
       "      <th>lyrics_lines</th>\n",
       "      <th>eng_chars_only</th>\n",
       "    </tr>\n",
       "  </thead>\n",
       "  <tbody>\n",
       "    <tr>\n",
       "      <td>0</td>\n",
       "      <td>Abner Jay</td>\n",
       "      <td>Bring It When You Come</td>\n",
       "      <td>Terrible things, always happening Just like ye...</td>\n",
       "      <td>Terrible things, always happening\\nJust like y...</td>\n",
       "      <td>True</td>\n",
       "    </tr>\n",
       "    <tr>\n",
       "      <td>1</td>\n",
       "      <td>Abner Jay</td>\n",
       "      <td>Cocaine</td>\n",
       "      <td>Folk music is high-class music. There's a lott...</td>\n",
       "      <td>Folk music is high-class music. There's a lott...</td>\n",
       "      <td>True</td>\n",
       "    </tr>\n",
       "    <tr>\n",
       "      <td>2</td>\n",
       "      <td>Abner Jay</td>\n",
       "      <td>Cocaine Blues</td>\n",
       "      <td>Cocaine, Cocaine Running round my heart And th...</td>\n",
       "      <td>Cocaine, Cocaine\\nRunning round my heart\\nAnd ...</td>\n",
       "      <td>True</td>\n",
       "    </tr>\n",
       "    <tr>\n",
       "      <td>3</td>\n",
       "      <td>Abner Jay</td>\n",
       "      <td>Don’t Mess with Me Baby</td>\n",
       "      <td>Terrible things; that's what's getting all the...</td>\n",
       "      <td>Terrible things; that's what's getting all the...</td>\n",
       "      <td>True</td>\n",
       "    </tr>\n",
       "    <tr>\n",
       "      <td>4</td>\n",
       "      <td>Abner Jay</td>\n",
       "      <td>I cried</td>\n",
       "      <td>I, I cried I cried in the ni-ight Oh please co...</td>\n",
       "      <td>I, I cried\\nI cried in the ni-ight\\nOh please ...</td>\n",
       "      <td>True</td>\n",
       "    </tr>\n",
       "  </tbody>\n",
       "</table>\n",
       "</div>"
      ],
      "text/plain": [
       "      artist                    title  \\\n",
       "0  Abner Jay   Bring It When You Come   \n",
       "1  Abner Jay                  Cocaine   \n",
       "2  Abner Jay            Cocaine Blues   \n",
       "3  Abner Jay  Don’t Mess with Me Baby   \n",
       "4  Abner Jay                  I cried   \n",
       "\n",
       "                                              lyrics  \\\n",
       "0  Terrible things, always happening Just like ye...   \n",
       "1  Folk music is high-class music. There's a lott...   \n",
       "2  Cocaine, Cocaine Running round my heart And th...   \n",
       "3  Terrible things; that's what's getting all the...   \n",
       "4  I, I cried I cried in the ni-ight Oh please co...   \n",
       "\n",
       "                                        lyrics_lines  eng_chars_only  \n",
       "0  Terrible things, always happening\\nJust like y...            True  \n",
       "1  Folk music is high-class music. There's a lott...            True  \n",
       "2  Cocaine, Cocaine\\nRunning round my heart\\nAnd ...            True  \n",
       "3  Terrible things; that's what's getting all the...            True  \n",
       "4  I, I cried\\nI cried in the ni-ight\\nOh please ...            True  "
      ]
     },
     "execution_count": 30,
     "metadata": {},
     "output_type": "execute_result"
    }
   ],
   "source": [
    "lyricsdf[\"eng_chars_only\"] = lyricsdf.lyrics.map(lambda x: isEnglish(x))\n",
    "lyricsdf.head()"
   ]
  },
  {
   "cell_type": "code",
   "execution_count": 31,
   "metadata": {},
   "outputs": [
    {
     "data": {
      "text/plain": [
       "True     2269\n",
       "False    1119\n",
       "Name: eng_chars_only, dtype: int64"
      ]
     },
     "execution_count": 31,
     "metadata": {},
     "output_type": "execute_result"
    }
   ],
   "source": [
    "# That's a lot of non-English songs. Hmm...\n",
    "lyricsdf.eng_chars_only.value_counts()"
   ]
  },
  {
   "cell_type": "code",
   "execution_count": 32,
   "metadata": {},
   "outputs": [
    {
     "data": {
      "text/plain": [
       "1747    Every night (the dark) passed by Sometimes the...\n",
       "171     Here I am, my love, and I'm just a moment away...\n",
       "2707    This is my favorite record store It is located...\n",
       "539     Who’s that knocking at the door It’s the ghost...\n",
       "454     While walking the streets late one night I saw...\n",
       "298     I got a notion we come from the ocean and God ...\n",
       "2257    The insecurity of crystalline political super-...\n",
       "2706    (phone ringing) Hello, who's this? \"It's your ...\n",
       "3152    This band played at the Congress Theater About...\n",
       "3119    This is a bad bus ride It is no fun at all It ...\n",
       "Name: lyrics, dtype: object"
      ]
     },
     "execution_count": 32,
     "metadata": {},
     "output_type": "execute_result"
    }
   ],
   "source": [
    "# These look pretty English to me.\n",
    "nonEng = lyricsdf[lyricsdf.eng_chars_only == False]\n",
    "nonEng.lyrics.sample(10)"
   ]
  },
  {
   "cell_type": "code",
   "execution_count": 33,
   "metadata": {},
   "outputs": [
    {
     "data": {
      "text/plain": [
       "\"This band rocked the Czar bar About 180 people were at the show The rock show was\\u2005a\\u2005rock 'n roll\\u2005experience It was a great knockout  The Dollrods The\\u2005Dollrods The Dollrods The Dollrods  The band played it on The band got down like a Magikist They can really rock the nation They can really jam the guitar  The Dollrods The Dollrods The Dollrods The Dollrods  The show was a rock 'n roller The jam session was a big rock 'n roll blast The jam session was kick ass show They can really knock it out The Dollrods The Dollrods The Dollrods The Dollrods  Rock over London, rock on Chicago Diet Pepsi, uh-huh!\""
      ]
     },
     "execution_count": 33,
     "metadata": {},
     "output_type": "execute_result"
    }
   ],
   "source": [
    "# it looks like there are \\u2005 characters (they don't appear as anything on the site)\n",
    "lyricsdf.iloc[3175].lyrics"
   ]
  },
  {
   "cell_type": "markdown",
   "metadata": {},
   "source": [
    "It looks like there may be a different kind of space formatting on some of the lyrics.  We'll replace them the same way the newlines were replaced."
   ]
  },
  {
   "cell_type": "code",
   "execution_count": 34,
   "metadata": {},
   "outputs": [
    {
     "data": {
      "text/html": [
       "<div>\n",
       "<style scoped>\n",
       "    .dataframe tbody tr th:only-of-type {\n",
       "        vertical-align: middle;\n",
       "    }\n",
       "\n",
       "    .dataframe tbody tr th {\n",
       "        vertical-align: top;\n",
       "    }\n",
       "\n",
       "    .dataframe thead th {\n",
       "        text-align: right;\n",
       "    }\n",
       "</style>\n",
       "<table border=\"1\" class=\"dataframe\">\n",
       "  <thead>\n",
       "    <tr style=\"text-align: right;\">\n",
       "      <th></th>\n",
       "      <th>artist</th>\n",
       "      <th>title</th>\n",
       "      <th>lyrics</th>\n",
       "      <th>lyrics_lines</th>\n",
       "      <th>eng_chars_only</th>\n",
       "    </tr>\n",
       "  </thead>\n",
       "  <tbody>\n",
       "    <tr>\n",
       "      <td>0</td>\n",
       "      <td>Abner Jay</td>\n",
       "      <td>Bring It When You Come</td>\n",
       "      <td>Terrible things, always happening Just like ye...</td>\n",
       "      <td>Terrible things, always happening\\nJust like y...</td>\n",
       "      <td>True</td>\n",
       "    </tr>\n",
       "    <tr>\n",
       "      <td>1</td>\n",
       "      <td>Abner Jay</td>\n",
       "      <td>Cocaine</td>\n",
       "      <td>Folk music is high-class music. There's a lott...</td>\n",
       "      <td>Folk music is high-class music. There's a lott...</td>\n",
       "      <td>True</td>\n",
       "    </tr>\n",
       "    <tr>\n",
       "      <td>2</td>\n",
       "      <td>Abner Jay</td>\n",
       "      <td>Cocaine Blues</td>\n",
       "      <td>Cocaine, Cocaine Running round my heart And th...</td>\n",
       "      <td>Cocaine, Cocaine\\nRunning round my heart\\nAnd ...</td>\n",
       "      <td>True</td>\n",
       "    </tr>\n",
       "    <tr>\n",
       "      <td>3</td>\n",
       "      <td>Abner Jay</td>\n",
       "      <td>Don’t Mess with Me Baby</td>\n",
       "      <td>Terrible things; that's what's getting all the...</td>\n",
       "      <td>Terrible things; that's what's getting all the...</td>\n",
       "      <td>True</td>\n",
       "    </tr>\n",
       "    <tr>\n",
       "      <td>4</td>\n",
       "      <td>Abner Jay</td>\n",
       "      <td>I cried</td>\n",
       "      <td>I, I cried I cried in the ni-ight Oh please co...</td>\n",
       "      <td>I, I cried\\nI cried in the ni-ight\\nOh please ...</td>\n",
       "      <td>True</td>\n",
       "    </tr>\n",
       "  </tbody>\n",
       "</table>\n",
       "</div>"
      ],
      "text/plain": [
       "      artist                    title  \\\n",
       "0  Abner Jay   Bring It When You Come   \n",
       "1  Abner Jay                  Cocaine   \n",
       "2  Abner Jay            Cocaine Blues   \n",
       "3  Abner Jay  Don’t Mess with Me Baby   \n",
       "4  Abner Jay                  I cried   \n",
       "\n",
       "                                              lyrics  \\\n",
       "0  Terrible things, always happening Just like ye...   \n",
       "1  Folk music is high-class music. There's a lott...   \n",
       "2  Cocaine, Cocaine Running round my heart And th...   \n",
       "3  Terrible things; that's what's getting all the...   \n",
       "4  I, I cried I cried in the ni-ight Oh please co...   \n",
       "\n",
       "                                        lyrics_lines  eng_chars_only  \n",
       "0  Terrible things, always happening\\nJust like y...            True  \n",
       "1  Folk music is high-class music. There's a lott...            True  \n",
       "2  Cocaine, Cocaine\\nRunning round my heart\\nAnd ...            True  \n",
       "3  Terrible things; that's what's getting all the...            True  \n",
       "4  I, I cried\\nI cried in the ni-ight\\nOh please ...            True  "
      ]
     },
     "execution_count": 34,
     "metadata": {},
     "output_type": "execute_result"
    }
   ],
   "source": [
    "lyricsdf.lyrics = lyricsdf.lyrics.map(lambda x: x.replace(\"\\u2005\", \" \"))\n",
    "lyricsdf.lyrics_lines = lyricsdf.lyrics_lines.map(lambda x: x.replace(\"\\u2005\", \" \"))\n",
    "lyricsdf.head()"
   ]
  },
  {
   "cell_type": "code",
   "execution_count": 35,
   "metadata": {},
   "outputs": [
    {
     "data": {
      "text/plain": [
       "True     2581\n",
       "False     807\n",
       "Name: eng_chars_only, dtype: int64"
      ]
     },
     "execution_count": 35,
     "metadata": {},
     "output_type": "execute_result"
    }
   ],
   "source": [
    "# Re-run the eng_chars_only column, see if .value_counts() has changed\n",
    "lyricsdf[\"eng_chars_only\"] = lyricsdf.lyrics.map(lambda x: isEnglish(x))\n",
    "lyricsdf.eng_chars_only.value_counts()"
   ]
  },
  {
   "cell_type": "markdown",
   "metadata": {},
   "source": [
    "The number of songs with non-English characters has gone down significantly, but it's still worth checking to see if there are other whitespace characters (or similar issues) that may be causing over-tagging."
   ]
  },
  {
   "cell_type": "code",
   "execution_count": 36,
   "metadata": {},
   "outputs": [
    {
     "data": {
      "text/plain": [
       "3269    My life is all brand new Ever since I met you ...\n",
       "1496    Everyone's alike you now When it was right I m...\n",
       "2457    Money game crazy My crib game crazy My model g...\n",
       "131     ‏‏thginot nwod teG ‏‏thginot nwod teG ‏‏thgino...\n",
       "1212    Then I came to see the man at the center of th...\n",
       "525     Fly me to the moon I wanna leave here Fly me t...\n",
       "596     Well she was just Well she was just 17 And you...\n",
       "988     I don't feel love anymore I don't do love anym...\n",
       "2982    Kick out the jams Kick them out like a light R...\n",
       "2765    You are a nice friend You are my buddy You are...\n",
       "Name: lyrics, dtype: object"
      ]
     },
     "execution_count": 36,
     "metadata": {},
     "output_type": "execute_result"
    }
   ],
   "source": [
    "# Uh-oh.  Stil pretty English.\n",
    "nonEng = lyricsdf[lyricsdf.eng_chars_only == False]\n",
    "nonEng.lyrics.sample(10)"
   ]
  },
  {
   "cell_type": "code",
   "execution_count": 37,
   "metadata": {},
   "outputs": [
    {
     "data": {
      "text/plain": [
       "'Why don’t you sell me two rhymes I want to tell you two times'"
      ]
     },
     "execution_count": 37,
     "metadata": {},
     "output_type": "execute_result"
    }
   ],
   "source": [
    "# Starting to think maybe tagging non-English songs is a bit fruitless\n",
    "# But that \\u2005 space issue was a good catch, at least!\n",
    "lyricsdf.iloc[1020].lyrics"
   ]
  },
  {
   "cell_type": "code",
   "execution_count": 38,
   "metadata": {},
   "outputs": [
    {
     "data": {
      "text/plain": [
       "\"This band played at the Empty Bottle About two hundred fifty people were at the rock show The jam session was perfect The rock 'n roll burned a monkey up  Brain Kiss Brain Kiss Brain Kiss Brain Kiss  The band played it on The\\u205fband\\u205fgot\\u205fdown like a\\u205fMagikist The crowd roared\\u205flike a lion The jam session whooped a llama's ass  Brain Kiss Brain Kiss Brain Kiss Brain Kiss  The show was over A lot of people met the band The rock 'n roll show was awesome It whipped a pony's ass with a belt Brain Kiss Brain Kiss Brain Kiss Brain Kiss  Rock over London, rock on Chicago Radio Shack, you got questions, we got answers\""
      ]
     },
     "execution_count": 38,
     "metadata": {},
     "output_type": "execute_result"
    }
   ],
   "source": [
    "# Another space formatting issue\n",
    "lyricsdf.iloc[2734].lyrics"
   ]
  },
  {
   "cell_type": "code",
   "execution_count": 39,
   "metadata": {},
   "outputs": [
    {
     "data": {
      "text/html": [
       "<div>\n",
       "<style scoped>\n",
       "    .dataframe tbody tr th:only-of-type {\n",
       "        vertical-align: middle;\n",
       "    }\n",
       "\n",
       "    .dataframe tbody tr th {\n",
       "        vertical-align: top;\n",
       "    }\n",
       "\n",
       "    .dataframe thead th {\n",
       "        text-align: right;\n",
       "    }\n",
       "</style>\n",
       "<table border=\"1\" class=\"dataframe\">\n",
       "  <thead>\n",
       "    <tr style=\"text-align: right;\">\n",
       "      <th></th>\n",
       "      <th>artist</th>\n",
       "      <th>title</th>\n",
       "      <th>lyrics</th>\n",
       "      <th>lyrics_lines</th>\n",
       "      <th>eng_chars_only</th>\n",
       "    </tr>\n",
       "  </thead>\n",
       "  <tbody>\n",
       "    <tr>\n",
       "      <td>0</td>\n",
       "      <td>Abner Jay</td>\n",
       "      <td>Bring It When You Come</td>\n",
       "      <td>Terrible things, always happening Just like ye...</td>\n",
       "      <td>Terrible things, always happening\\nJust like y...</td>\n",
       "      <td>True</td>\n",
       "    </tr>\n",
       "    <tr>\n",
       "      <td>1</td>\n",
       "      <td>Abner Jay</td>\n",
       "      <td>Cocaine</td>\n",
       "      <td>Folk music is high-class music. There's a lott...</td>\n",
       "      <td>Folk music is high-class music. There's a lott...</td>\n",
       "      <td>True</td>\n",
       "    </tr>\n",
       "    <tr>\n",
       "      <td>2</td>\n",
       "      <td>Abner Jay</td>\n",
       "      <td>Cocaine Blues</td>\n",
       "      <td>Cocaine, Cocaine Running round my heart And th...</td>\n",
       "      <td>Cocaine, Cocaine\\nRunning round my heart\\nAnd ...</td>\n",
       "      <td>True</td>\n",
       "    </tr>\n",
       "    <tr>\n",
       "      <td>3</td>\n",
       "      <td>Abner Jay</td>\n",
       "      <td>Don’t Mess with Me Baby</td>\n",
       "      <td>Terrible things; that's what's getting all the...</td>\n",
       "      <td>Terrible things; that's what's getting all the...</td>\n",
       "      <td>True</td>\n",
       "    </tr>\n",
       "    <tr>\n",
       "      <td>4</td>\n",
       "      <td>Abner Jay</td>\n",
       "      <td>I cried</td>\n",
       "      <td>I, I cried I cried in the ni-ight Oh please co...</td>\n",
       "      <td>I, I cried\\nI cried in the ni-ight\\nOh please ...</td>\n",
       "      <td>True</td>\n",
       "    </tr>\n",
       "  </tbody>\n",
       "</table>\n",
       "</div>"
      ],
      "text/plain": [
       "      artist                    title  \\\n",
       "0  Abner Jay   Bring It When You Come   \n",
       "1  Abner Jay                  Cocaine   \n",
       "2  Abner Jay            Cocaine Blues   \n",
       "3  Abner Jay  Don’t Mess with Me Baby   \n",
       "4  Abner Jay                  I cried   \n",
       "\n",
       "                                              lyrics  \\\n",
       "0  Terrible things, always happening Just like ye...   \n",
       "1  Folk music is high-class music. There's a lott...   \n",
       "2  Cocaine, Cocaine Running round my heart And th...   \n",
       "3  Terrible things; that's what's getting all the...   \n",
       "4  I, I cried I cried in the ni-ight Oh please co...   \n",
       "\n",
       "                                        lyrics_lines  eng_chars_only  \n",
       "0  Terrible things, always happening\\nJust like y...            True  \n",
       "1  Folk music is high-class music. There's a lott...            True  \n",
       "2  Cocaine, Cocaine\\nRunning round my heart\\nAnd ...            True  \n",
       "3  Terrible things; that's what's getting all the...            True  \n",
       "4  I, I cried\\nI cried in the ni-ight\\nOh please ...            True  "
      ]
     },
     "execution_count": 39,
     "metadata": {},
     "output_type": "execute_result"
    }
   ],
   "source": [
    "# Fix the \\u205f spacing\n",
    "lyricsdf.lyrics = lyricsdf.lyrics.map(lambda x: x.replace(\"\\u205f\", \" \"))\n",
    "lyricsdf.lyrics_lines = lyricsdf.lyrics_lines.map(lambda x: x.replace(\"\\u205f\", \" \"))\n",
    "lyricsdf.head()"
   ]
  },
  {
   "cell_type": "code",
   "execution_count": 40,
   "metadata": {},
   "outputs": [
    {
     "data": {
      "text/plain": [
       "True     2794\n",
       "False     594\n",
       "Name: eng_chars_only, dtype: int64"
      ]
     },
     "execution_count": 40,
     "metadata": {},
     "output_type": "execute_result"
    }
   ],
   "source": [
    "# count decreases, yet again!\n",
    "lyricsdf[\"eng_chars_only\"] = lyricsdf.lyrics.map(lambda x: isEnglish(x))\n",
    "lyricsdf.eng_chars_only.value_counts()"
   ]
  },
  {
   "cell_type": "code",
   "execution_count": 41,
   "metadata": {},
   "outputs": [
    {
     "data": {
      "text/plain": [
       "42      Turn me on my friend Don't  put your fingers o...\n",
       "490     You might wonder Where I’m coming from But you...\n",
       "130     ‏‏thginot nwod teG ‏‏thginot nwod teG ‏‏thgino...\n",
       "1891    Jag vet en liten stuga där vi kunde bo Jag vet...\n",
       "585     She invited me to a pity party Every hour ever...\n",
       "1013    There's a dance next Friday over at the gym Ar...\n",
       "1874    You white trash hillbilly trick They been into...\n",
       "1886    Du är inte nån att ha till vän För du är en id...\n",
       "1894    Min spargris den är så fed Jag har stoppat den...\n",
       "1004    Where's Rodan? He's on monster island What's h...\n",
       "Name: lyrics, dtype: object"
      ]
     },
     "execution_count": 41,
     "metadata": {},
     "output_type": "execute_result"
    }
   ],
   "source": [
    "# Catching a lot more actual non-English lyrics, so we might be close to catching all of the formatting issues.\n",
    "nonEng = lyricsdf[lyricsdf.eng_chars_only == False]\n",
    "nonEng.lyrics.sample(10)"
   ]
  },
  {
   "cell_type": "code",
   "execution_count": 42,
   "metadata": {},
   "outputs": [
    {
     "data": {
      "text/plain": [
       "'High on a rocky ledge lives a mädel, Edelweiß Shy as a shadow, lovely as lace, and cold as ice High on a rocky ledge, I pledge my love to her Ev\\'ry time I climb up to Paradise How many times I\\'ve been up to see her, goodness knows Huffing and puffing, dressed in the warmest climbing clothes How many chances would be taken in my Hopeless pursuit of the Schnee-Mädel-Edelweiß Then spoke a spirit, \"If you would win your Lady Love There\\'s only one way: fall to your death from high above You will begin to grow in snow beside the one You have waited for to be mated with\" Now, I\\'m an Edel, vice to my Mädel, Edelweiß Dying to be with her wasn\\'t any sacrifice We\\'re so deliriously happy on our ledge Where I pledge my love to my Lady Fair You who are climbing breathless to see me and my love Snow flowers growing fonder on Lover\\'s Ledge above If you\\'ve the yen to pluck, then pluck us both For we who have lived as one wish to die as one'"
      ]
     },
     "execution_count": 42,
     "metadata": {},
     "output_type": "execute_result"
    }
   ],
   "source": [
    "lyricsdf.iloc[1795].lyrics"
   ]
  },
  {
   "cell_type": "markdown",
   "metadata": {},
   "source": [
    "Note that the straight apostrophe (') is being escaped here.  In other lyrics, the apostrophe is formatted as the curly ’.  I will try standardizing the apostrophe to the curly version below."
   ]
  },
  {
   "cell_type": "code",
   "execution_count": 43,
   "metadata": {},
   "outputs": [
    {
     "data": {
      "text/plain": [
       "'High on a rocky ledge lives a mädel, Edelweiß Shy as a shadow, lovely as lace, and cold as ice High on a rocky ledge, I pledge my love to her Ev’ry time I climb up to Paradise How many times I’ve been up to see her, goodness knows Huffing and puffing, dressed in the warmest climbing clothes How many chances would be taken in my Hopeless pursuit of the Schnee-Mädel-Edelweiß Then spoke a spirit, \"If you would win your Lady Love There’s only one way: fall to your death from high above You will begin to grow in snow beside the one You have waited for to be mated with\" Now, I’m an Edel, vice to my Mädel, Edelweiß Dying to be with her wasn’t any sacrifice We’re so deliriously happy on our ledge Where I pledge my love to my Lady Fair You who are climbing breathless to see me and my love Snow flowers growing fonder on Lover’s Ledge above If you’ve the yen to pluck, then pluck us both For we who have lived as one wish to die as one'"
      ]
     },
     "execution_count": 43,
     "metadata": {},
     "output_type": "execute_result"
    }
   ],
   "source": [
    "lyricsdf.lyrics = lyricsdf.lyrics.map(lambda x: x.replace(\"\\'\", \"’\"))\n",
    "lyricsdf.lyrics_lines = lyricsdf.lyrics_lines.map(lambda x: x.replace(\"\\'\", \"’\"))\n",
    "lyricsdf.iloc[1795].lyrics"
   ]
  },
  {
   "cell_type": "code",
   "execution_count": 44,
   "metadata": {},
   "outputs": [
    {
     "data": {
      "text/plain": [
       "'To yo dome with the chrome To yo dome with the chrome To yo dome with the chrome To yo dome with the chrome To yo dome with the chrome To yo dome with the chrome To yo dome with the chrome To yo dome with the chrome To yo dome with the chrome To yo dome with the chrome To yo dome with the chrome To yo dome with the chrome  Don’t get sent home In a body bag for not leaving me alone I don’t care what you got goin on Cuz i already paid and my body is every bone Yea i know, that I’m conceited and arrogant And that can be repeated But that’s just my personality And it’s magnified cuz im a G So i ain’t trying to hear what they gotta say Like they ? for a jack, so i ? the gun spray These marks are fucking up my day Rollin up asking if they may Ask me a question about some bullshit Bitch ass nigga you better get a grip I’m tired of playing with these faggots I’m bout to get my four and let you snitch niggas have it To yo dome with the chrome To yo dome with the chrome To yo dome with the chrome To yo dome with the chrome To yo dome with the chrome To yo dome with the chrome To yo dome with the chrome To yo dome with the chrome To yo dome with the chrome To yo dome with the chrome To yo dome with the chrome To yo dome with the chrome  I roll on my own My homeboys sad they walks and rome Around upset In a rush to get wet Why do you wanna die Don’t you see, living is fly? Don’t make your folk cry And have niggas looking at your frame Closed eyes I ball and mash No room in pockets They full of cash My task Is to make dough Im getting loot from places i ain’t seen before Or knew existed A baller stuck on a mission But wondering when this green gon’ stop coming in I’ll go… To yo dome with the chrome To yo dome with the chrome To yo dome with the chrome To yo dome with the chrome To yo dome with the chrome To yo dome with the chrome To yo dome with the chrome To yo dome with the chrome To yo dome with the chrome To yo dome with the chrome To yo dome with the chrome To yo dome with the chrome'"
      ]
     },
     "execution_count": 44,
     "metadata": {},
     "output_type": "execute_result"
    }
   ],
   "source": [
    "# the ellipsis here is specially formatted as \"…\"\n",
    "lyricsdf.iloc[2522].lyrics"
   ]
  },
  {
   "cell_type": "code",
   "execution_count": 45,
   "metadata": {},
   "outputs": [
    {
     "data": {
      "text/plain": [
       "'ck on a mission But wondering when this green gon’ stop coming in I’ll go... To yo dome with the chrome To yo dome with the chrome To yo dome with the chrome To yo dome with the chrome To yo dome with'"
      ]
     },
     "execution_count": 45,
     "metadata": {},
     "output_type": "execute_result"
    }
   ],
   "source": [
    "# replace special ellipsis with plain \"...\"\n",
    "lyricsdf.lyrics = lyricsdf.lyrics.map(lambda x: x.replace(\"…\", \"...\"))\n",
    "lyricsdf.lyrics_lines = lyricsdf.lyrics_lines.map(lambda x: x.replace(\"…\", \"...\"))\n",
    "lyricsdf.iloc[2522].lyrics[-400:-200]"
   ]
  },
  {
   "cell_type": "markdown",
   "metadata": {},
   "source": [
    "I'm going to search the lyrics for \"\\\\\" to see if there are any other formatting issues present."
   ]
  },
  {
   "cell_type": "code",
   "execution_count": 46,
   "metadata": {},
   "outputs": [],
   "source": [
    "# It look like there are not \"\\\" formatting issues left\n",
    "i=0\n",
    "while i != len(lyricsdf):\n",
    "    x = re.findall(r\"\\\\\", lyricsdf.lyrics[i])\n",
    "    if x: print(x)\n",
    "    i = i+1"
   ]
  },
  {
   "cell_type": "markdown",
   "metadata": {},
   "source": [
    "From earlier, I remember seeing \"Transcription in progress ...\" lyric entries.  I'd like to set these as null."
   ]
  },
  {
   "cell_type": "code",
   "execution_count": 47,
   "metadata": {},
   "outputs": [
    {
     "name": "stdout",
     "output_type": "stream",
     "text": [
      "['Transcription']\n",
      "['Transcription']\n",
      "['Transcription']\n",
      "['Transcription']\n",
      "['Transcription']\n",
      "['Transcription']\n"
     ]
    }
   ],
   "source": [
    "i=0\n",
    "while i != len(lyricsdf):\n",
    "    x = re.findall(r\"Transcription\", lyricsdf.lyrics[i])\n",
    "    if x: print(x)\n",
    "    i = i+1"
   ]
  },
  {
   "cell_type": "code",
   "execution_count": 48,
   "metadata": {},
   "outputs": [],
   "source": [
    "# There are 6!\n",
    "i=0\n",
    "transcript_del = []\n",
    "while i != len(lyricsdf):\n",
    "    if \"Transcription in progress\" in lyricsdf.iloc[i].lyrics:\n",
    "        transcript_del.append(i)\n",
    "    i= i+1"
   ]
  },
  {
   "cell_type": "code",
   "execution_count": 49,
   "metadata": {},
   "outputs": [
    {
     "name": "stdout",
     "output_type": "stream",
     "text": [
      "Transcription in progress by Viper Crackposting admins\n",
      "Transcription in progress by Viper Crackposting admins\n",
      "Transcription in progress by Viper Crackposting admins\n",
      "Transcription in progress by Viper Crackposting admins\n",
      "Transcription in progress by Viper Crackposting admins\n",
      "Transcription in progress by Viper Crackposting admins\n"
     ]
    }
   ],
   "source": [
    "for i in transcript_del:\n",
    "    print(lyricsdf.iloc[i].lyrics)"
   ]
  },
  {
   "cell_type": "code",
   "execution_count": 50,
   "metadata": {},
   "outputs": [],
   "source": [
    "# They're all the same string, so:\n",
    "lyricsdf.lyrics = lyricsdf.lyrics.replace(\"Transcription in progress by Viper Crackposting admins\", None)"
   ]
  },
  {
   "cell_type": "code",
   "execution_count": 51,
   "metadata": {},
   "outputs": [],
   "source": [
    "i=0\n",
    "while i != len(lyricsdf):\n",
    "    x = re.findall(r\"Transcription\", lyricsdf.lyrics[i])\n",
    "    if x: print(x)\n",
    "    i = i+1"
   ]
  },
  {
   "cell_type": "markdown",
   "metadata": {},
   "source": [
    "Because some English songs contain non-English characters, the eng_chars_only column isn't very useful at the moment.  However, it did help significantly with catching other formatting issues that I had not anticipated.  I will consider the data clean for the moment.\n",
    "\n",
    "Note, also, that the data remains very Zipfian in terms of artists.  For now, I will leave it as such.  As a disclaimer, the Wesley Willis skew sort of represents the \"poster child\" of outsider music, so the analysis may feed into the ideology surrounding the genre."
   ]
  },
  {
   "cell_type": "code",
   "execution_count": 52,
   "metadata": {},
   "outputs": [],
   "source": [
    "# returns % of characters that are non-English\n",
    "def nonEngChars(s):\n",
    "    i = 0  # counter for non-Eng chars\n",
    "    for c in s:  # iterate through string\n",
    "        try:\n",
    "            c.encode(encoding='utf-8').decode('ascii')\n",
    "        except UnicodeDecodeError:\n",
    "            i+=1  # increment if char causes error\n",
    "    if len(s) > 0:\n",
    "        return i/len(s)\n",
    "    else:\n",
    "        return np.nan"
   ]
  },
  {
   "cell_type": "code",
   "execution_count": 53,
   "metadata": {},
   "outputs": [
    {
     "data": {
      "text/plain": [
       "0.044444444444444446"
      ]
     },
     "execution_count": 53,
     "metadata": {},
     "output_type": "execute_result"
    }
   ],
   "source": [
    "# [1915] is not English for sure\n",
    "nonEngChars(lyricsdf.iloc[1915].lyrics)"
   ]
  },
  {
   "cell_type": "code",
   "execution_count": 54,
   "metadata": {},
   "outputs": [
    {
     "data": {
      "text/html": [
       "<div>\n",
       "<style scoped>\n",
       "    .dataframe tbody tr th:only-of-type {\n",
       "        vertical-align: middle;\n",
       "    }\n",
       "\n",
       "    .dataframe tbody tr th {\n",
       "        vertical-align: top;\n",
       "    }\n",
       "\n",
       "    .dataframe thead th {\n",
       "        text-align: right;\n",
       "    }\n",
       "</style>\n",
       "<table border=\"1\" class=\"dataframe\">\n",
       "  <thead>\n",
       "    <tr style=\"text-align: right;\">\n",
       "      <th></th>\n",
       "      <th>artist</th>\n",
       "      <th>title</th>\n",
       "      <th>lyrics</th>\n",
       "      <th>lyrics_lines</th>\n",
       "      <th>eng_chars_only</th>\n",
       "      <th>percent_non_english</th>\n",
       "    </tr>\n",
       "  </thead>\n",
       "  <tbody>\n",
       "    <tr>\n",
       "      <td>0</td>\n",
       "      <td>Abner Jay</td>\n",
       "      <td>Bring It When You Come</td>\n",
       "      <td>Terrible things, always happening Just like ye...</td>\n",
       "      <td>Terrible things, always happening\\nJust like y...</td>\n",
       "      <td>True</td>\n",
       "      <td>0.009918</td>\n",
       "    </tr>\n",
       "    <tr>\n",
       "      <td>1</td>\n",
       "      <td>Abner Jay</td>\n",
       "      <td>Cocaine</td>\n",
       "      <td>Folk music is high-class music. There’s a lott...</td>\n",
       "      <td>Folk music is high-class music. There’s a lott...</td>\n",
       "      <td>True</td>\n",
       "      <td>0.023657</td>\n",
       "    </tr>\n",
       "    <tr>\n",
       "      <td>2</td>\n",
       "      <td>Abner Jay</td>\n",
       "      <td>Cocaine Blues</td>\n",
       "      <td>Cocaine, Cocaine Running round my heart And th...</td>\n",
       "      <td>Cocaine, Cocaine\\nRunning round my heart\\nAnd ...</td>\n",
       "      <td>True</td>\n",
       "      <td>0.016551</td>\n",
       "    </tr>\n",
       "    <tr>\n",
       "      <td>3</td>\n",
       "      <td>Abner Jay</td>\n",
       "      <td>Don’t Mess with Me Baby</td>\n",
       "      <td>Terrible things; that’s what’s getting all the...</td>\n",
       "      <td>Terrible things; that’s what’s getting all the...</td>\n",
       "      <td>True</td>\n",
       "      <td>0.010326</td>\n",
       "    </tr>\n",
       "    <tr>\n",
       "      <td>4</td>\n",
       "      <td>Abner Jay</td>\n",
       "      <td>I cried</td>\n",
       "      <td>I, I cried I cried in the ni-ight Oh please co...</td>\n",
       "      <td>I, I cried\\nI cried in the ni-ight\\nOh please ...</td>\n",
       "      <td>True</td>\n",
       "      <td>0.004902</td>\n",
       "    </tr>\n",
       "  </tbody>\n",
       "</table>\n",
       "</div>"
      ],
      "text/plain": [
       "      artist                    title  \\\n",
       "0  Abner Jay   Bring It When You Come   \n",
       "1  Abner Jay                  Cocaine   \n",
       "2  Abner Jay            Cocaine Blues   \n",
       "3  Abner Jay  Don’t Mess with Me Baby   \n",
       "4  Abner Jay                  I cried   \n",
       "\n",
       "                                              lyrics  \\\n",
       "0  Terrible things, always happening Just like ye...   \n",
       "1  Folk music is high-class music. There’s a lott...   \n",
       "2  Cocaine, Cocaine Running round my heart And th...   \n",
       "3  Terrible things; that’s what’s getting all the...   \n",
       "4  I, I cried I cried in the ni-ight Oh please co...   \n",
       "\n",
       "                                        lyrics_lines  eng_chars_only  \\\n",
       "0  Terrible things, always happening\\nJust like y...            True   \n",
       "1  Folk music is high-class music. There’s a lott...            True   \n",
       "2  Cocaine, Cocaine\\nRunning round my heart\\nAnd ...            True   \n",
       "3  Terrible things; that’s what’s getting all the...            True   \n",
       "4  I, I cried\\nI cried in the ni-ight\\nOh please ...            True   \n",
       "\n",
       "   percent_non_english  \n",
       "0             0.009918  \n",
       "1             0.023657  \n",
       "2             0.016551  \n",
       "3             0.010326  \n",
       "4             0.004902  "
      ]
     },
     "execution_count": 54,
     "metadata": {},
     "output_type": "execute_result"
    }
   ],
   "source": [
    "lyricsdf[\"percent_non_english\"] = lyricsdf.lyrics.map(lambda x: nonEngChars(x))\n",
    "lyricsdf.head()"
   ]
  },
  {
   "cell_type": "code",
   "execution_count": 55,
   "metadata": {},
   "outputs": [
    {
     "data": {
      "image/png": "[encoded data removed]",
      "text/plain": [
       "<Figure size 432x288 with 1 Axes>"
      ]
     },
     "metadata": {
      "needs_background": "light"
     },
     "output_type": "display_data"
    }
   ],
   "source": [
    "# Looks like a good number are on the low end, but some are on the higher end.\n",
    "# Potentially missing lyric data!\n",
    "lyricsdf.percent_non_english.plot(kind='box')\n",
    "plt.show()"
   ]
  },
  {
   "cell_type": "code",
   "execution_count": 56,
   "metadata": {},
   "outputs": [
    {
     "data": {
      "text/html": [
       "<div>\n",
       "<style scoped>\n",
       "    .dataframe tbody tr th:only-of-type {\n",
       "        vertical-align: middle;\n",
       "    }\n",
       "\n",
       "    .dataframe tbody tr th {\n",
       "        vertical-align: top;\n",
       "    }\n",
       "\n",
       "    .dataframe thead th {\n",
       "        text-align: right;\n",
       "    }\n",
       "</style>\n",
       "<table border=\"1\" class=\"dataframe\">\n",
       "  <thead>\n",
       "    <tr style=\"text-align: right;\">\n",
       "      <th></th>\n",
       "      <th>artist</th>\n",
       "      <th>title</th>\n",
       "      <th>lyrics</th>\n",
       "      <th>lyrics_lines</th>\n",
       "      <th>eng_chars_only</th>\n",
       "      <th>percent_non_english</th>\n",
       "    </tr>\n",
       "  </thead>\n",
       "  <tbody>\n",
       "    <tr>\n",
       "      <td>12</td>\n",
       "      <td>Ajdar</td>\n",
       "      <td>Şahdamar</td>\n",
       "      <td>Şah şah şah Dam  dam dam Ar  ar ar Şahdamar, ş...</td>\n",
       "      <td>Şah şah şah\\nDam  dam dam\\nAr  ar ar\\nŞahdamar...</td>\n",
       "      <td>False</td>\n",
       "      <td>0.089683</td>\n",
       "    </tr>\n",
       "    <tr>\n",
       "      <td>43</td>\n",
       "      <td>Ariel Pink</td>\n",
       "      <td>Corazon Que</td>\n",
       "      <td>Corazón qué Corazón qué Corazón qué   Corazón ...</td>\n",
       "      <td>Corazón qué\\nCorazón qué\\nCorazón qué \\n\\nCora...</td>\n",
       "      <td>False</td>\n",
       "      <td>0.153846</td>\n",
       "    </tr>\n",
       "    <tr>\n",
       "      <td>130</td>\n",
       "      <td>Ariel Pink</td>\n",
       "      <td>Red Room</td>\n",
       "      <td>‏‏thginot nwod teG ‏‏thginot nwod teG ‏‏thgino...</td>\n",
       "      <td>‏‏thginot nwod teG\\n‏‏thginot nwod teG\\n‏‏thgi...</td>\n",
       "      <td>False</td>\n",
       "      <td>0.110372</td>\n",
       "    </tr>\n",
       "    <tr>\n",
       "      <td>131</td>\n",
       "      <td>Ariel Pink</td>\n",
       "      <td>Red Vinyl</td>\n",
       "      <td>‏‏thginot nwod teG ‏‏thginot nwod teG ‏‏thgino...</td>\n",
       "      <td>‏‏thginot nwod teG\\n‏‏thginot nwod teG\\n‏‏thgi...</td>\n",
       "      <td>False</td>\n",
       "      <td>0.110372</td>\n",
       "    </tr>\n",
       "    <tr>\n",
       "      <td>132</td>\n",
       "      <td>Ariel Pink</td>\n",
       "      <td>Reminiscences</td>\n",
       "      <td>‏‏thginot nwod teG ‏‏thginot nwod teG ‏‏thgino...</td>\n",
       "      <td>‏‏thginot nwod teG\\n‏‏thginot nwod teG\\n‏‏thgi...</td>\n",
       "      <td>False</td>\n",
       "      <td>0.110372</td>\n",
       "    </tr>\n",
       "    <tr>\n",
       "      <td>147</td>\n",
       "      <td>Ariel Pink</td>\n",
       "      <td>Starry Eyes</td>\n",
       "      <td>​raw ot oG</td>\n",
       "      <td>​raw ot oG</td>\n",
       "      <td>False</td>\n",
       "      <td>0.100000</td>\n",
       "    </tr>\n",
       "    <tr>\n",
       "      <td>1746</td>\n",
       "      <td>Les Rallizes Dénudés</td>\n",
       "      <td>Enter the Mirror</td>\n",
       "      <td>あらゆる夜（闇）を通り過ぎてきた 時々ひとりで あらゆる闇（夜）を通り過ぎてきた お前といっ...</td>\n",
       "      <td>あらゆる夜（闇）を通り過ぎてきた\\n時々ひとりで\\nあらゆる闇（夜）を通り過ぎてきた\\nお前...</td>\n",
       "      <td>False</td>\n",
       "      <td>0.928571</td>\n",
       "    </tr>\n",
       "    <tr>\n",
       "      <td>1748</td>\n",
       "      <td>Les Rallizes Dénudés</td>\n",
       "      <td>The Last One</td>\n",
       "      <td>心の裏側で喜びに震え　生きていることさえ忘れてしまった 僕が１人で歩くのは、だれもいない波の...</td>\n",
       "      <td>心の裏側で喜びに震え　生きていることさえ忘れてしまった\\n僕が１人で歩くのは、だれもいない波...</td>\n",
       "      <td>False</td>\n",
       "      <td>0.159120</td>\n",
       "    </tr>\n",
       "    <tr>\n",
       "      <td>1749</td>\n",
       "      <td>Les Rallizes Dénudés</td>\n",
       "      <td>White Awakening</td>\n",
       "      <td>パターンA： ----------- 私の春が始まった時　あなただけしか欲しくなかった 風の...</td>\n",
       "      <td>パターンA：\\n-----------\\n私の春が始まった時　あなただけしか欲しくなかった\\...</td>\n",
       "      <td>False</td>\n",
       "      <td>0.888112</td>\n",
       "    </tr>\n",
       "    <tr>\n",
       "      <td>1751</td>\n",
       "      <td>Les Rallizes Dénudés</td>\n",
       "      <td>夜、暗殺者の夜 (Night of the Assassins)</td>\n",
       "      <td>Japanese (Original) とても深い夜 まるで誰かを殺したみたい 何がお前の飢...</td>\n",
       "      <td>Japanese (Original)\\nとても深い夜 まるで誰かを殺したみたい\\n何がお前...</td>\n",
       "      <td>False</td>\n",
       "      <td>0.158151</td>\n",
       "    </tr>\n",
       "    <tr>\n",
       "      <td>1752</td>\n",
       "      <td>Les Rallizes Dénudés</td>\n",
       "      <td>永遠に今が (Forever is Now)</td>\n",
       "      <td>Japanese (Original) いくつもの永遠を横切って いくつもの望みを後にして ...</td>\n",
       "      <td>Japanese (Original)\\nいくつもの永遠を横切って\\nいくつもの望みを後にし...</td>\n",
       "      <td>False</td>\n",
       "      <td>0.146000</td>\n",
       "    </tr>\n",
       "    <tr>\n",
       "      <td>1753</td>\n",
       "      <td>Les Rallizes Dénudés</td>\n",
       "      <td>記憶は遠い</td>\n",
       "      <td>遠い記憶の中にお前を見る 見知らぬ二つの街が通り過ぎる 僕らの周りで海が血に変わる それしか...</td>\n",
       "      <td>遠い記憶の中にお前を見る\\n見知らぬ二つの街が通り過ぎる\\n僕らの周りで海が血に変わる\\nそ...</td>\n",
       "      <td>False</td>\n",
       "      <td>0.938462</td>\n",
       "    </tr>\n",
       "    <tr>\n",
       "      <td>1800</td>\n",
       "      <td>Moondog</td>\n",
       "      <td>I’m This, I’m That</td>\n",
       "      <td>I’m this, I’m that; I’m sharp, I’m flat; I’m y...</td>\n",
       "      <td>I’m this, I’m that;\\nI’m sharp, I’m flat;\\nI’m...</td>\n",
       "      <td>True</td>\n",
       "      <td>0.099502</td>\n",
       "    </tr>\n",
       "    <tr>\n",
       "      <td>1883</td>\n",
       "      <td>Philemon Arthur And The Dung</td>\n",
       "      <td>Djurvisa</td>\n",
       "      <td>En kossa på ängen Den kommer gående och säger ...</td>\n",
       "      <td>En kossa på ängen\\nDen kommer gående och säger...</td>\n",
       "      <td>False</td>\n",
       "      <td>0.132512</td>\n",
       "    </tr>\n",
       "    <tr>\n",
       "      <td>1884</td>\n",
       "      <td>Philemon Arthur And The Dung</td>\n",
       "      <td>Djurvisa För Barn</td>\n",
       "      <td>En kossa på ängen Den kommer gående och säger ...</td>\n",
       "      <td>En kossa på ängen\\nDen kommer gående och säger...</td>\n",
       "      <td>False</td>\n",
       "      <td>0.132512</td>\n",
       "    </tr>\n",
       "    <tr>\n",
       "      <td>1901</td>\n",
       "      <td>Philemon Arthur And The Dung</td>\n",
       "      <td>In Kommer Gösta</td>\n",
       "      <td>In kommer Gösta In kommer Gösta, Gösta In komm...</td>\n",
       "      <td>In kommer Gösta\\nIn kommer Gösta, Gösta\\nIn ko...</td>\n",
       "      <td>False</td>\n",
       "      <td>0.084871</td>\n",
       "    </tr>\n",
       "    <tr>\n",
       "      <td>1917</td>\n",
       "      <td>Philemon Arthur And The Dung</td>\n",
       "      <td>Ödesvalsen</td>\n",
       "      <td>Jag mötte dig i hamnen Du hade ramlat i Jag to...</td>\n",
       "      <td>Jag mötte dig i hamnen\\nDu hade ramlat i\\nJag ...</td>\n",
       "      <td>False</td>\n",
       "      <td>0.084430</td>\n",
       "    </tr>\n",
       "  </tbody>\n",
       "</table>\n",
       "</div>"
      ],
      "text/plain": [
       "                            artist                             title  \\\n",
       "12                           Ajdar                          Şahdamar   \n",
       "43                      Ariel Pink                       Corazon Que   \n",
       "130                     Ariel Pink                          Red Room   \n",
       "131                     Ariel Pink                         Red Vinyl   \n",
       "132                     Ariel Pink                     Reminiscences   \n",
       "147                     Ariel Pink                       Starry Eyes   \n",
       "1746          Les Rallizes Dénudés                  Enter the Mirror   \n",
       "1748          Les Rallizes Dénudés                      The Last One   \n",
       "1749          Les Rallizes Dénudés                   White Awakening   \n",
       "1751          Les Rallizes Dénudés  夜、暗殺者の夜 (Night of the Assassins)   \n",
       "1752          Les Rallizes Dénudés            永遠に今が (Forever is Now)   \n",
       "1753          Les Rallizes Dénudés                             記憶は遠い   \n",
       "1800                       Moondog                I’m This, I’m That   \n",
       "1883  Philemon Arthur And The Dung                          Djurvisa   \n",
       "1884  Philemon Arthur And The Dung                 Djurvisa För Barn   \n",
       "1901  Philemon Arthur And The Dung                   In Kommer Gösta   \n",
       "1917  Philemon Arthur And The Dung                        Ödesvalsen   \n",
       "\n",
       "                                                 lyrics  \\\n",
       "12    Şah şah şah Dam  dam dam Ar  ar ar Şahdamar, ş...   \n",
       "43    Corazón qué Corazón qué Corazón qué   Corazón ...   \n",
       "130   ‏‏thginot nwod teG ‏‏thginot nwod teG ‏‏thgino...   \n",
       "131   ‏‏thginot nwod teG ‏‏thginot nwod teG ‏‏thgino...   \n",
       "132   ‏‏thginot nwod teG ‏‏thginot nwod teG ‏‏thgino...   \n",
       "147                                          ​raw ot oG   \n",
       "1746  あらゆる夜（闇）を通り過ぎてきた 時々ひとりで あらゆる闇（夜）を通り過ぎてきた お前といっ...   \n",
       "1748  心の裏側で喜びに震え　生きていることさえ忘れてしまった 僕が１人で歩くのは、だれもいない波の...   \n",
       "1749  パターンA： ----------- 私の春が始まった時　あなただけしか欲しくなかった 風の...   \n",
       "1751  Japanese (Original) とても深い夜 まるで誰かを殺したみたい 何がお前の飢...   \n",
       "1752  Japanese (Original) いくつもの永遠を横切って いくつもの望みを後にして ...   \n",
       "1753  遠い記憶の中にお前を見る 見知らぬ二つの街が通り過ぎる 僕らの周りで海が血に変わる それしか...   \n",
       "1800  I’m this, I’m that; I’m sharp, I’m flat; I’m y...   \n",
       "1883  En kossa på ängen Den kommer gående och säger ...   \n",
       "1884  En kossa på ängen Den kommer gående och säger ...   \n",
       "1901  In kommer Gösta In kommer Gösta, Gösta In komm...   \n",
       "1917  Jag mötte dig i hamnen Du hade ramlat i Jag to...   \n",
       "\n",
       "                                           lyrics_lines  eng_chars_only  \\\n",
       "12    Şah şah şah\\nDam  dam dam\\nAr  ar ar\\nŞahdamar...           False   \n",
       "43    Corazón qué\\nCorazón qué\\nCorazón qué \\n\\nCora...           False   \n",
       "130   ‏‏thginot nwod teG\\n‏‏thginot nwod teG\\n‏‏thgi...           False   \n",
       "131   ‏‏thginot nwod teG\\n‏‏thginot nwod teG\\n‏‏thgi...           False   \n",
       "132   ‏‏thginot nwod teG\\n‏‏thginot nwod teG\\n‏‏thgi...           False   \n",
       "147                                          ​raw ot oG           False   \n",
       "1746  あらゆる夜（闇）を通り過ぎてきた\\n時々ひとりで\\nあらゆる闇（夜）を通り過ぎてきた\\nお前...           False   \n",
       "1748  心の裏側で喜びに震え　生きていることさえ忘れてしまった\\n僕が１人で歩くのは、だれもいない波...           False   \n",
       "1749  パターンA：\\n-----------\\n私の春が始まった時　あなただけしか欲しくなかった\\...           False   \n",
       "1751  Japanese (Original)\\nとても深い夜 まるで誰かを殺したみたい\\n何がお前...           False   \n",
       "1752  Japanese (Original)\\nいくつもの永遠を横切って\\nいくつもの望みを後にし...           False   \n",
       "1753  遠い記憶の中にお前を見る\\n見知らぬ二つの街が通り過ぎる\\n僕らの周りで海が血に変わる\\nそ...           False   \n",
       "1800  I’m this, I’m that;\\nI’m sharp, I’m flat;\\nI’m...            True   \n",
       "1883  En kossa på ängen\\nDen kommer gående och säger...           False   \n",
       "1884  En kossa på ängen\\nDen kommer gående och säger...           False   \n",
       "1901  In kommer Gösta\\nIn kommer Gösta, Gösta\\nIn ko...           False   \n",
       "1917  Jag mötte dig i hamnen\\nDu hade ramlat i\\nJag ...           False   \n",
       "\n",
       "      percent_non_english  \n",
       "12               0.089683  \n",
       "43               0.153846  \n",
       "130              0.110372  \n",
       "131              0.110372  \n",
       "132              0.110372  \n",
       "147              0.100000  \n",
       "1746             0.928571  \n",
       "1748             0.159120  \n",
       "1749             0.888112  \n",
       "1751             0.158151  \n",
       "1752             0.146000  \n",
       "1753             0.938462  \n",
       "1800             0.099502  \n",
       "1883             0.132512  \n",
       "1884             0.132512  \n",
       "1901             0.084871  \n",
       "1917             0.084430  "
      ]
     },
     "execution_count": 56,
     "metadata": {},
     "output_type": "execute_result"
    }
   ],
   "source": [
    "# These look pretty English to me.\n",
    "nonEng = lyricsdf[lyricsdf.percent_non_english > 0.08]\n",
    "nonEng"
   ]
  },
  {
   "cell_type": "code",
   "execution_count": 57,
   "metadata": {},
   "outputs": [
    {
     "data": {
      "text/plain": [
       "'Let’s get busy (let’s get busy) Let’s get busy (let’s get busy) Let’s get hot (let’s get hot) Let’s be cool (let’s be cool) Let’s get crooked, let’s get crazy Get it together and let’s get busy  I’m feelin good, let’s have a party I’m on the phone, callin’ my homies Come have some fun, we’ll be jammin’ Bring some food, but don’t bring beer now Bring your pajamas and your boom box We’ll rock the house and dance our socks off  Let’s get busy (let’s get busy) Let’s get busy (let’s get busy) Let’s get hot (let’s get hot) Let’s be cool (let’s be cool) Let’s get crooked, let’s get crazy Get it together and let’s get busy  I’m havin’ fun, eatin’ pizza I see my boyfriend, I see my girlfriend Let’s get up and start dancin’ Make some noise, turn up the music Let’s not stop until we drop Let’s keep goin’ til the break of dawn Let’s get busy (let’s get busy) Let’s get busy (let’s get busy) Let’s get hot (let’s get hot) Let’s be cool (let’s be cool) Let’s get crooked, let’s get crazy Get it together and let’s get busy  I’ve got some tapes, let’s get rockin’ MC Hammer, the Chili Peppers Lollapalooza, el Grupo Niche Let’s have a blast, go barefootin’ We’re gettin’ loose, we’re gettin’ funky We’re feelin’ fresh, we love to party  Let’s get busy (let’s get busy) Let’s get busy (let’s get busy) Let’s get hot (let’s get hot) Let’s be cool (let’s be cool) Let’s get crooked, let’s get crazy Get it together and let’s get busy Let’s get busy (let’s get busy) Let’s get busy (let’s get busy) Let’s get hot (let’s get hot) Let’s be cool (let’s be cool) Let’s get crooked, let’s get crazy Get it together and let’s get busy Let’s get busy right now!'"
      ]
     },
     "execution_count": 57,
     "metadata": {},
     "output_type": "execute_result"
    }
   ],
   "source": [
    "lyricsdf.iloc[2242].lyrics #1800, 1232, 1003, 1989"
   ]
  },
  {
   "cell_type": "code",
   "execution_count": 58,
   "metadata": {},
   "outputs": [],
   "source": [
    "import spacy"
   ]
  },
  {
   "cell_type": "markdown",
   "metadata": {},
   "source": [
    "Using the spaCy documentation and this [stack overflow page](https://stackoverflow.com/questions/66712753/how-to-use-languagedetector-from-spacy-langdetect-package), I'll create a new column to store the language detected and the confidence score."
   ]
  },
  {
   "cell_type": "code",
   "execution_count": 59,
   "metadata": {},
   "outputs": [
    {
     "name": "stdout",
     "output_type": "stream",
     "text": [
      "{'language': 'en', 'score': 0.9999961889626323}\n"
     ]
    }
   ],
   "source": [
    "from spacy_langdetect import LanguageDetector\n",
    "from spacy.language import Language\n",
    "\n",
    "def get_lang_detector(nlp, name):\n",
    "    return LanguageDetector()\n",
    "\n",
    "# This just outputs an example, to show that the detector is working\n",
    "nlp = spacy.load(\"en_core_web_sm\")\n",
    "Language.factory(\"language_detector\", func=get_lang_detector)\n",
    "nlp.add_pipe('language_detector', last=True)\n",
    "text = 'This is an english text.'\n",
    "doc = nlp(text)\n",
    "print(doc._.language)"
   ]
  },
  {
   "cell_type": "code",
   "execution_count": 60,
   "metadata": {},
   "outputs": [],
   "source": [
    "def langDetect(nlp, text):\n",
    "    doc = nlp(text)\n",
    "    return doc._.language\n",
    "\n",
    "lyricsdf[\"lang_detect\"] = lyricsdf.lyrics.map(lambda x: langDetect(nlp, x))"
   ]
  },
  {
   "cell_type": "code",
   "execution_count": 61,
   "metadata": {},
   "outputs": [
    {
     "data": {
      "text/html": [
       "<div>\n",
       "<style scoped>\n",
       "    .dataframe tbody tr th:only-of-type {\n",
       "        vertical-align: middle;\n",
       "    }\n",
       "\n",
       "    .dataframe tbody tr th {\n",
       "        vertical-align: top;\n",
       "    }\n",
       "\n",
       "    .dataframe thead th {\n",
       "        text-align: right;\n",
       "    }\n",
       "</style>\n",
       "<table border=\"1\" class=\"dataframe\">\n",
       "  <thead>\n",
       "    <tr style=\"text-align: right;\">\n",
       "      <th></th>\n",
       "      <th>artist</th>\n",
       "      <th>title</th>\n",
       "      <th>lyrics</th>\n",
       "      <th>lyrics_lines</th>\n",
       "      <th>eng_chars_only</th>\n",
       "      <th>percent_non_english</th>\n",
       "      <th>lang_detect</th>\n",
       "    </tr>\n",
       "  </thead>\n",
       "  <tbody>\n",
       "    <tr>\n",
       "      <td>0</td>\n",
       "      <td>Abner Jay</td>\n",
       "      <td>Bring It When You Come</td>\n",
       "      <td>Terrible things, always happening Just like ye...</td>\n",
       "      <td>Terrible things, always happening\\nJust like y...</td>\n",
       "      <td>True</td>\n",
       "      <td>0.009918</td>\n",
       "      <td>{'language': 'en', 'score': 0.9999969507477495}</td>\n",
       "    </tr>\n",
       "    <tr>\n",
       "      <td>1</td>\n",
       "      <td>Abner Jay</td>\n",
       "      <td>Cocaine</td>\n",
       "      <td>Folk music is high-class music. There’s a lott...</td>\n",
       "      <td>Folk music is high-class music. There’s a lott...</td>\n",
       "      <td>True</td>\n",
       "      <td>0.023657</td>\n",
       "      <td>{'language': 'en', 'score': 0.999994987074969}</td>\n",
       "    </tr>\n",
       "    <tr>\n",
       "      <td>2</td>\n",
       "      <td>Abner Jay</td>\n",
       "      <td>Cocaine Blues</td>\n",
       "      <td>Cocaine, Cocaine Running round my heart And th...</td>\n",
       "      <td>Cocaine, Cocaine\\nRunning round my heart\\nAnd ...</td>\n",
       "      <td>True</td>\n",
       "      <td>0.016551</td>\n",
       "      <td>{'language': 'en', 'score': 0.9999989934171772}</td>\n",
       "    </tr>\n",
       "    <tr>\n",
       "      <td>3</td>\n",
       "      <td>Abner Jay</td>\n",
       "      <td>Don’t Mess with Me Baby</td>\n",
       "      <td>Terrible things; that’s what’s getting all the...</td>\n",
       "      <td>Terrible things; that’s what’s getting all the...</td>\n",
       "      <td>True</td>\n",
       "      <td>0.010326</td>\n",
       "      <td>{'language': 'en', 'score': 0.9999968750669035}</td>\n",
       "    </tr>\n",
       "    <tr>\n",
       "      <td>4</td>\n",
       "      <td>Abner Jay</td>\n",
       "      <td>I cried</td>\n",
       "      <td>I, I cried I cried in the ni-ight Oh please co...</td>\n",
       "      <td>I, I cried\\nI cried in the ni-ight\\nOh please ...</td>\n",
       "      <td>True</td>\n",
       "      <td>0.004902</td>\n",
       "      <td>{'language': 'en', 'score': 0.9999974762058403}</td>\n",
       "    </tr>\n",
       "  </tbody>\n",
       "</table>\n",
       "</div>"
      ],
      "text/plain": [
       "      artist                    title  \\\n",
       "0  Abner Jay   Bring It When You Come   \n",
       "1  Abner Jay                  Cocaine   \n",
       "2  Abner Jay            Cocaine Blues   \n",
       "3  Abner Jay  Don’t Mess with Me Baby   \n",
       "4  Abner Jay                  I cried   \n",
       "\n",
       "                                              lyrics  \\\n",
       "0  Terrible things, always happening Just like ye...   \n",
       "1  Folk music is high-class music. There’s a lott...   \n",
       "2  Cocaine, Cocaine Running round my heart And th...   \n",
       "3  Terrible things; that’s what’s getting all the...   \n",
       "4  I, I cried I cried in the ni-ight Oh please co...   \n",
       "\n",
       "                                        lyrics_lines  eng_chars_only  \\\n",
       "0  Terrible things, always happening\\nJust like y...            True   \n",
       "1  Folk music is high-class music. There’s a lott...            True   \n",
       "2  Cocaine, Cocaine\\nRunning round my heart\\nAnd ...            True   \n",
       "3  Terrible things; that’s what’s getting all the...            True   \n",
       "4  I, I cried\\nI cried in the ni-ight\\nOh please ...            True   \n",
       "\n",
       "   percent_non_english                                      lang_detect  \n",
       "0             0.009918  {'language': 'en', 'score': 0.9999969507477495}  \n",
       "1             0.023657   {'language': 'en', 'score': 0.999994987074969}  \n",
       "2             0.016551  {'language': 'en', 'score': 0.9999989934171772}  \n",
       "3             0.010326  {'language': 'en', 'score': 0.9999968750669035}  \n",
       "4             0.004902  {'language': 'en', 'score': 0.9999974762058403}  "
      ]
     },
     "execution_count": 61,
     "metadata": {},
     "output_type": "execute_result"
    }
   ],
   "source": [
    "lyricsdf.head()"
   ]
  },
  {
   "cell_type": "code",
   "execution_count": 62,
   "metadata": {},
   "outputs": [],
   "source": [
    "# lang_detect is a short dictionary, containing 'language' and 'score' as keys\n",
    "# extract 'language'\n",
    "\n",
    "lyricsdf[\"lang\"] = lyricsdf.lang_detect.map(lambda x: x[\"language\"])"
   ]
  },
  {
   "cell_type": "code",
   "execution_count": 63,
   "metadata": {},
   "outputs": [
    {
     "data": {
      "text/plain": [
       "en         3237\n",
       "sv           59\n",
       "UNKNOWN      29\n",
       "tl            8\n",
       "fr            6\n",
       "so            6\n",
       "id            5\n",
       "cy            5\n",
       "af            5\n",
       "ja            3\n",
       "no            3\n",
       "es            3\n",
       "nl            3\n",
       "tr            3\n",
       "sw            2\n",
       "it            2\n",
       "ca            2\n",
       "pt            2\n",
       "et            1\n",
       "pl            1\n",
       "sl            1\n",
       "sk            1\n",
       "hr            1\n",
       "Name: lang, dtype: int64"
      ]
     },
     "execution_count": 63,
     "metadata": {},
     "output_type": "execute_result"
    }
   ],
   "source": [
    "lyricsdf.lang.value_counts()"
   ]
  },
  {
   "cell_type": "code",
   "execution_count": 86,
   "metadata": {},
   "outputs": [
    {
     "data": {
      "text/html": [
       "<div>\n",
       "<style scoped>\n",
       "    .dataframe tbody tr th:only-of-type {\n",
       "        vertical-align: middle;\n",
       "    }\n",
       "\n",
       "    .dataframe tbody tr th {\n",
       "        vertical-align: top;\n",
       "    }\n",
       "\n",
       "    .dataframe thead th {\n",
       "        text-align: right;\n",
       "    }\n",
       "</style>\n",
       "<table border=\"1\" class=\"dataframe\">\n",
       "  <thead>\n",
       "    <tr style=\"text-align: right;\">\n",
       "      <th></th>\n",
       "      <th>artist</th>\n",
       "      <th>title</th>\n",
       "      <th>lyrics</th>\n",
       "      <th>lyrics_lines</th>\n",
       "      <th>eng_chars_only</th>\n",
       "      <th>percent_non_english</th>\n",
       "      <th>lang_detect</th>\n",
       "      <th>lang</th>\n",
       "      <th>tokens</th>\n",
       "      <th>token_ct</th>\n",
       "      <th>type_ct</th>\n",
       "      <th>TTR</th>\n",
       "    </tr>\n",
       "  </thead>\n",
       "  <tbody>\n",
       "    <tr>\n",
       "      <td>1918</td>\n",
       "      <td>Philemon Arthur And The Dung</td>\n",
       "      <td>Om Jag Hade Pjäxor</td>\n",
       "      <td>Blommorna på ängen växer Och det gör ju även j...</td>\n",
       "      <td>Blommorna på ängen växer\\nOch det gör ju även ...</td>\n",
       "      <td>False</td>\n",
       "      <td>0.079365</td>\n",
       "      <td>{'language': 'sv', 'score': 0.9999960913009038}</td>\n",
       "      <td>sv</td>\n",
       "      <td>[blommorna, på, ängen, växer, och, det, gör, j...</td>\n",
       "      <td>24</td>\n",
       "      <td>21</td>\n",
       "      <td>0.875000</td>\n",
       "    </tr>\n",
       "    <tr>\n",
       "      <td>1304</td>\n",
       "      <td>Jandek</td>\n",
       "      <td>Sung</td>\n",
       "      <td>I’m looking at a blank page Looking at a blank...</td>\n",
       "      <td>I’m looking at a blank page\\nLooking at a blan...</td>\n",
       "      <td>False</td>\n",
       "      <td>0.028037</td>\n",
       "      <td>{'language': 'tl', 'score': 0.7142837600951975}</td>\n",
       "      <td>tl</td>\n",
       "      <td>[i, ’, m, looking, at, a, blank, page, looking...</td>\n",
       "      <td>29</td>\n",
       "      <td>16</td>\n",
       "      <td>0.551724</td>\n",
       "    </tr>\n",
       "    <tr>\n",
       "      <td>1778</td>\n",
       "      <td>Moondog</td>\n",
       "      <td>Chant</td>\n",
       "      <td>Bells are ringing dinga linga linga linga ling...</td>\n",
       "      <td>Bells are ringing dinga linga linga linga ling...</td>\n",
       "      <td>True</td>\n",
       "      <td>0.004762</td>\n",
       "      <td>{'language': 'tl', 'score': 0.9999963715688729}</td>\n",
       "      <td>tl</td>\n",
       "      <td>[bells, are, ringing, dinga, linga, linga, lin...</td>\n",
       "      <td>42</td>\n",
       "      <td>21</td>\n",
       "      <td>0.500000</td>\n",
       "    </tr>\n",
       "    <tr>\n",
       "      <td>223</td>\n",
       "      <td>Brian Wilson</td>\n",
       "      <td>Deck The Halls</td>\n",
       "      <td>Deck the halls with boughs of holly Fa, la, la...</td>\n",
       "      <td>Deck the halls with boughs of holly\\nFa, la, l...</td>\n",
       "      <td>True</td>\n",
       "      <td>0.001616</td>\n",
       "      <td>{'language': 'es', 'score': 0.8571186731985584}</td>\n",
       "      <td>es</td>\n",
       "      <td>[deck, the, halls, with, boughs, of, holly, fa...</td>\n",
       "      <td>460</td>\n",
       "      <td>62</td>\n",
       "      <td>0.134783</td>\n",
       "    </tr>\n",
       "    <tr>\n",
       "      <td>2399</td>\n",
       "      <td>Tonetta</td>\n",
       "      <td>My 10$ Axe</td>\n",
       "      <td>Yeah Yeah Yeah ... Jump Jump Jump ...</td>\n",
       "      <td>Yeah\\nYeah\\nYeah\\n...\\nJump\\nJump\\nJump\\n...</td>\n",
       "      <td>True</td>\n",
       "      <td>0.000000</td>\n",
       "      <td>{'language': 'id', 'score': 0.9999969969495115}</td>\n",
       "      <td>id</td>\n",
       "      <td>[yeah, yeah, yeah, ..., jump, jump, jump, ...]</td>\n",
       "      <td>8</td>\n",
       "      <td>3</td>\n",
       "      <td>0.375000</td>\n",
       "    </tr>\n",
       "  </tbody>\n",
       "</table>\n",
       "</div>"
      ],
      "text/plain": [
       "                            artist               title  \\\n",
       "1918  Philemon Arthur And The Dung  Om Jag Hade Pjäxor   \n",
       "1304                        Jandek                Sung   \n",
       "1778                       Moondog               Chant   \n",
       "223                   Brian Wilson      Deck The Halls   \n",
       "2399                       Tonetta          My 10$ Axe   \n",
       "\n",
       "                                                 lyrics  \\\n",
       "1918  Blommorna på ängen växer Och det gör ju även j...   \n",
       "1304  I’m looking at a blank page Looking at a blank...   \n",
       "1778  Bells are ringing dinga linga linga linga ling...   \n",
       "223   Deck the halls with boughs of holly Fa, la, la...   \n",
       "2399              Yeah Yeah Yeah ... Jump Jump Jump ...   \n",
       "\n",
       "                                           lyrics_lines  eng_chars_only  \\\n",
       "1918  Blommorna på ängen växer\\nOch det gör ju även ...           False   \n",
       "1304  I’m looking at a blank page\\nLooking at a blan...           False   \n",
       "1778  Bells are ringing dinga linga linga linga ling...            True   \n",
       "223   Deck the halls with boughs of holly\\nFa, la, l...            True   \n",
       "2399       Yeah\\nYeah\\nYeah\\n...\\nJump\\nJump\\nJump\\n...            True   \n",
       "\n",
       "      percent_non_english                                      lang_detect  \\\n",
       "1918             0.079365  {'language': 'sv', 'score': 0.9999960913009038}   \n",
       "1304             0.028037  {'language': 'tl', 'score': 0.7142837600951975}   \n",
       "1778             0.004762  {'language': 'tl', 'score': 0.9999963715688729}   \n",
       "223              0.001616  {'language': 'es', 'score': 0.8571186731985584}   \n",
       "2399             0.000000  {'language': 'id', 'score': 0.9999969969495115}   \n",
       "\n",
       "     lang                                             tokens  token_ct  \\\n",
       "1918   sv  [blommorna, på, ängen, växer, och, det, gör, j...        24   \n",
       "1304   tl  [i, ’, m, looking, at, a, blank, page, looking...        29   \n",
       "1778   tl  [bells, are, ringing, dinga, linga, linga, lin...        42   \n",
       "223    es  [deck, the, halls, with, boughs, of, holly, fa...       460   \n",
       "2399   id     [yeah, yeah, yeah, ..., jump, jump, jump, ...]         8   \n",
       "\n",
       "      type_ct       TTR  \n",
       "1918       21  0.875000  \n",
       "1304       16  0.551724  \n",
       "1778       21  0.500000  \n",
       "223        62  0.134783  \n",
       "2399        3  0.375000  "
      ]
     },
     "execution_count": 86,
     "metadata": {},
     "output_type": "execute_result"
    }
   ],
   "source": [
    "non_eng = lyricsdf[lyricsdf.lang != \"en\"]\n",
    "non_eng.sample(5)"
   ]
  },
  {
   "cell_type": "code",
   "execution_count": 99,
   "metadata": {},
   "outputs": [
    {
     "data": {
      "text/html": [
       "<div>\n",
       "<style scoped>\n",
       "    .dataframe tbody tr th:only-of-type {\n",
       "        vertical-align: middle;\n",
       "    }\n",
       "\n",
       "    .dataframe tbody tr th {\n",
       "        vertical-align: top;\n",
       "    }\n",
       "\n",
       "    .dataframe thead th {\n",
       "        text-align: right;\n",
       "    }\n",
       "</style>\n",
       "<table border=\"1\" class=\"dataframe\">\n",
       "  <thead>\n",
       "    <tr style=\"text-align: right;\">\n",
       "      <th></th>\n",
       "      <th>artist</th>\n",
       "      <th>title</th>\n",
       "      <th>lyrics</th>\n",
       "      <th>lyrics_lines</th>\n",
       "      <th>eng_chars_only</th>\n",
       "      <th>percent_non_english</th>\n",
       "      <th>lang_detect</th>\n",
       "      <th>lang</th>\n",
       "      <th>tokens</th>\n",
       "      <th>token_ct</th>\n",
       "      <th>type_ct</th>\n",
       "      <th>TTR</th>\n",
       "    </tr>\n",
       "  </thead>\n",
       "  <tbody>\n",
       "    <tr>\n",
       "      <td>480</td>\n",
       "      <td>Daniel Johnston</td>\n",
       "      <td>Casper the Friendly Ghost</td>\n",
       "      <td>The coyote goes: Ah-ha-ha-ha-ha-ha-ha-ha!  He ...</td>\n",
       "      <td>The coyote goes:\\nAh-ha-ha-ha-ha-ha-ha-ha!\\n\\n...</td>\n",
       "      <td>False</td>\n",
       "      <td>0.005959</td>\n",
       "      <td>{'language': 'en', 'score': 0.9999960606697877}</td>\n",
       "      <td>en</td>\n",
       "      <td>[the, coyote, goes, :, ah-ha-ha-ha-ha-ha-ha-ha...</td>\n",
       "      <td>177</td>\n",
       "      <td>96</td>\n",
       "      <td>0.542373</td>\n",
       "    </tr>\n",
       "    <tr>\n",
       "      <td>2596</td>\n",
       "      <td>Viper</td>\n",
       "      <td>Secret Keepa</td>\n",
       "      <td>Days are warm, nights are cold But wit this mo...</td>\n",
       "      <td>Days are warm, nights are cold\\nBut wit this m...</td>\n",
       "      <td>True</td>\n",
       "      <td>0.018118</td>\n",
       "      <td>{'language': 'en', 'score': 0.9999974939108913}</td>\n",
       "      <td>en</td>\n",
       "      <td>[days, are, warm, ,, nights, are, cold, but, w...</td>\n",
       "      <td>433</td>\n",
       "      <td>157</td>\n",
       "      <td>0.362587</td>\n",
       "    </tr>\n",
       "    <tr>\n",
       "      <td>667</td>\n",
       "      <td>Daniel Johnston</td>\n",
       "      <td>Party</td>\n",
       "      <td>Don’t wanna scare you Don’t wanna waste you Ju...</td>\n",
       "      <td>Don’t wanna scare you\\nDon’t wanna waste you\\n...</td>\n",
       "      <td>True</td>\n",
       "      <td>0.013793</td>\n",
       "      <td>{'language': 'en', 'score': 0.9999962816777087}</td>\n",
       "      <td>en</td>\n",
       "      <td>[don, ’, t, wan, na, scare, you, don, ’, t, wa...</td>\n",
       "      <td>371</td>\n",
       "      <td>138</td>\n",
       "      <td>0.371968</td>\n",
       "    </tr>\n",
       "    <tr>\n",
       "      <td>2285</td>\n",
       "      <td>The Red Krayola</td>\n",
       "      <td>Seven Compartments</td>\n",
       "      <td>Seven compartments exactly As a series of logi...</td>\n",
       "      <td>Seven compartments exactly\\nAs a series of log...</td>\n",
       "      <td>False</td>\n",
       "      <td>0.011494</td>\n",
       "      <td>{'language': 'en', 'score': 0.999998829146396}</td>\n",
       "      <td>en</td>\n",
       "      <td>[seven, compartments, exactly, as, a, series, ...</td>\n",
       "      <td>101</td>\n",
       "      <td>70</td>\n",
       "      <td>0.693069</td>\n",
       "    </tr>\n",
       "    <tr>\n",
       "      <td>535</td>\n",
       "      <td>Daniel Johnston</td>\n",
       "      <td>Funeral Girl</td>\n",
       "      <td>I knew a girl at the funeral She said she was ...</td>\n",
       "      <td>I knew a girl at the funeral\\nShe said she was...</td>\n",
       "      <td>False</td>\n",
       "      <td>0.006691</td>\n",
       "      <td>{'language': 'en', 'score': 0.9999965157845268}</td>\n",
       "      <td>en</td>\n",
       "      <td>[i, knew, a, girl, at, the, funeral, she, said...</td>\n",
       "      <td>297</td>\n",
       "      <td>115</td>\n",
       "      <td>0.387205</td>\n",
       "    </tr>\n",
       "  </tbody>\n",
       "</table>\n",
       "</div>"
      ],
      "text/plain": [
       "               artist                      title  \\\n",
       "480   Daniel Johnston  Casper the Friendly Ghost   \n",
       "2596            Viper               Secret Keepa   \n",
       "667   Daniel Johnston                      Party   \n",
       "2285  The Red Krayola         Seven Compartments   \n",
       "535   Daniel Johnston               Funeral Girl   \n",
       "\n",
       "                                                 lyrics  \\\n",
       "480   The coyote goes: Ah-ha-ha-ha-ha-ha-ha-ha!  He ...   \n",
       "2596  Days are warm, nights are cold But wit this mo...   \n",
       "667   Don’t wanna scare you Don’t wanna waste you Ju...   \n",
       "2285  Seven compartments exactly As a series of logi...   \n",
       "535   I knew a girl at the funeral She said she was ...   \n",
       "\n",
       "                                           lyrics_lines  eng_chars_only  \\\n",
       "480   The coyote goes:\\nAh-ha-ha-ha-ha-ha-ha-ha!\\n\\n...           False   \n",
       "2596  Days are warm, nights are cold\\nBut wit this m...            True   \n",
       "667   Don’t wanna scare you\\nDon’t wanna waste you\\n...            True   \n",
       "2285  Seven compartments exactly\\nAs a series of log...           False   \n",
       "535   I knew a girl at the funeral\\nShe said she was...           False   \n",
       "\n",
       "      percent_non_english                                      lang_detect  \\\n",
       "480              0.005959  {'language': 'en', 'score': 0.9999960606697877}   \n",
       "2596             0.018118  {'language': 'en', 'score': 0.9999974939108913}   \n",
       "667              0.013793  {'language': 'en', 'score': 0.9999962816777087}   \n",
       "2285             0.011494   {'language': 'en', 'score': 0.999998829146396}   \n",
       "535              0.006691  {'language': 'en', 'score': 0.9999965157845268}   \n",
       "\n",
       "     lang                                             tokens  token_ct  \\\n",
       "480    en  [the, coyote, goes, :, ah-ha-ha-ha-ha-ha-ha-ha...       177   \n",
       "2596   en  [days, are, warm, ,, nights, are, cold, but, w...       433   \n",
       "667    en  [don, ’, t, wan, na, scare, you, don, ’, t, wa...       371   \n",
       "2285   en  [seven, compartments, exactly, as, a, series, ...       101   \n",
       "535    en  [i, knew, a, girl, at, the, funeral, she, said...       297   \n",
       "\n",
       "      type_ct       TTR  \n",
       "480        96  0.542373  \n",
       "2596      157  0.362587  \n",
       "667       138  0.371968  \n",
       "2285       70  0.693069  \n",
       "535       115  0.387205  "
      ]
     },
     "execution_count": 99,
     "metadata": {},
     "output_type": "execute_result"
    }
   ],
   "source": [
    "lyricsdf[lyricsdf.lang == \"en\"].sample(5)"
   ]
  },
  {
   "cell_type": "code",
   "execution_count": 109,
   "metadata": {},
   "outputs": [
    {
     "data": {
      "text/html": [
       "<div>\n",
       "<style scoped>\n",
       "    .dataframe tbody tr th:only-of-type {\n",
       "        vertical-align: middle;\n",
       "    }\n",
       "\n",
       "    .dataframe tbody tr th {\n",
       "        vertical-align: top;\n",
       "    }\n",
       "\n",
       "    .dataframe thead th {\n",
       "        text-align: right;\n",
       "    }\n",
       "</style>\n",
       "<table border=\"1\" class=\"dataframe\">\n",
       "  <thead>\n",
       "    <tr style=\"text-align: right;\">\n",
       "      <th></th>\n",
       "      <th>artist</th>\n",
       "      <th>title</th>\n",
       "      <th>lyrics</th>\n",
       "      <th>lyrics_lines</th>\n",
       "      <th>eng_chars_only</th>\n",
       "      <th>percent_non_english</th>\n",
       "      <th>lang_detect</th>\n",
       "      <th>lang</th>\n",
       "      <th>tokens</th>\n",
       "      <th>token_ct</th>\n",
       "      <th>type_ct</th>\n",
       "      <th>TTR</th>\n",
       "    </tr>\n",
       "  </thead>\n",
       "  <tbody>\n",
       "    <tr>\n",
       "      <td>1749</td>\n",
       "      <td>Les Rallizes Dénudés</td>\n",
       "      <td>White Awakening</td>\n",
       "      <td>パターンA： ----------- 私の春が始まった時　あなただけしか欲しくなかった 風の...</td>\n",
       "      <td>パターンA：\\n-----------\\n私の春が始まった時　あなただけしか欲しくなかった\\...</td>\n",
       "      <td>False</td>\n",
       "      <td>0.888112</td>\n",
       "      <td>{'language': 'ja', 'score': 0.9999999839489948}</td>\n",
       "      <td>ja</td>\n",
       "      <td>[パターンa：, --, --, --, --, --, -, 私の春が始まった時, あなた...</td>\n",
       "      <td>45</td>\n",
       "      <td>31</td>\n",
       "      <td>0.688889</td>\n",
       "    </tr>\n",
       "    <tr>\n",
       "      <td>93</td>\n",
       "      <td>Ariel Pink</td>\n",
       "      <td>Leggos</td>\n",
       "      <td>Legos Legos Legos Legos Toys for boys Cars and...</td>\n",
       "      <td>Legos\\nLegos\\nLegos\\nLegos\\nToys for boys\\nCar...</td>\n",
       "      <td>False</td>\n",
       "      <td>0.014634</td>\n",
       "      <td>{'language': 'ca', 'score': 0.857140641537839}</td>\n",
       "      <td>ca</td>\n",
       "      <td>[legos, legos, legos, legos, toys, for, boys, ...</td>\n",
       "      <td>41</td>\n",
       "      <td>14</td>\n",
       "      <td>0.341463</td>\n",
       "    </tr>\n",
       "    <tr>\n",
       "      <td>452</td>\n",
       "      <td>Damião Experiença</td>\n",
       "      <td>Que Dor Que Eu Sinto</td>\n",
       "      <td>- Tá gravando. Título: - Praneta lamma no univ...</td>\n",
       "      <td>- Tá gravando. Título:\\n- Praneta lamma no uni...</td>\n",
       "      <td>False</td>\n",
       "      <td>0.024928</td>\n",
       "      <td>{'language': 'pt', 'score': 0.5714273597075984}</td>\n",
       "      <td>pt</td>\n",
       "      <td>[-, tá, gravando, ., título, :, -, praneta, la...</td>\n",
       "      <td>148</td>\n",
       "      <td>107</td>\n",
       "      <td>0.722973</td>\n",
       "    </tr>\n",
       "    <tr>\n",
       "      <td>1260</td>\n",
       "      <td>Jandek</td>\n",
       "      <td>Plenty</td>\n",
       "      <td>You must you must keep listening I don’t know ...</td>\n",
       "      <td>You must you must keep listening\\nI don’t know...</td>\n",
       "      <td>True</td>\n",
       "      <td>0.012658</td>\n",
       "      <td>{'language': 'et', 'score': 0.4285710840595563}</td>\n",
       "      <td>et</td>\n",
       "      <td>[you, must, you, must, keep, listening, i, don...</td>\n",
       "      <td>36</td>\n",
       "      <td>11</td>\n",
       "      <td>0.305556</td>\n",
       "    </tr>\n",
       "    <tr>\n",
       "      <td>106</td>\n",
       "      <td>Ariel Pink</td>\n",
       "      <td>Nazi Love</td>\n",
       "      <td>Nazi Nazi Nazi Nazi love Nazi Nazi Nazi (Not N...</td>\n",
       "      <td>Nazi\\nNazi\\nNazi\\nNazi love\\nNazi\\nNazi\\nNazi\\...</td>\n",
       "      <td>False</td>\n",
       "      <td>0.037037</td>\n",
       "      <td>{'language': 'hr', 'score': 0.9999951319580163}</td>\n",
       "      <td>hr</td>\n",
       "      <td>[nazi, nazi, nazi, nazi, love, nazi, nazi, naz...</td>\n",
       "      <td>42</td>\n",
       "      <td>20</td>\n",
       "      <td>0.476190</td>\n",
       "    </tr>\n",
       "  </tbody>\n",
       "</table>\n",
       "</div>"
      ],
      "text/plain": [
       "                    artist                 title  \\\n",
       "1749  Les Rallizes Dénudés       White Awakening   \n",
       "93              Ariel Pink                Leggos   \n",
       "452      Damião Experiença  Que Dor Que Eu Sinto   \n",
       "1260                Jandek                Plenty   \n",
       "106             Ariel Pink             Nazi Love   \n",
       "\n",
       "                                                 lyrics  \\\n",
       "1749  パターンA： ----------- 私の春が始まった時　あなただけしか欲しくなかった 風の...   \n",
       "93    Legos Legos Legos Legos Toys for boys Cars and...   \n",
       "452   - Tá gravando. Título: - Praneta lamma no univ...   \n",
       "1260  You must you must keep listening I don’t know ...   \n",
       "106   Nazi Nazi Nazi Nazi love Nazi Nazi Nazi (Not N...   \n",
       "\n",
       "                                           lyrics_lines  eng_chars_only  \\\n",
       "1749  パターンA：\\n-----------\\n私の春が始まった時　あなただけしか欲しくなかった\\...           False   \n",
       "93    Legos\\nLegos\\nLegos\\nLegos\\nToys for boys\\nCar...           False   \n",
       "452   - Tá gravando. Título:\\n- Praneta lamma no uni...           False   \n",
       "1260  You must you must keep listening\\nI don’t know...            True   \n",
       "106   Nazi\\nNazi\\nNazi\\nNazi love\\nNazi\\nNazi\\nNazi\\...           False   \n",
       "\n",
       "      percent_non_english                                      lang_detect  \\\n",
       "1749             0.888112  {'language': 'ja', 'score': 0.9999999839489948}   \n",
       "93               0.014634   {'language': 'ca', 'score': 0.857140641537839}   \n",
       "452              0.024928  {'language': 'pt', 'score': 0.5714273597075984}   \n",
       "1260             0.012658  {'language': 'et', 'score': 0.4285710840595563}   \n",
       "106              0.037037  {'language': 'hr', 'score': 0.9999951319580163}   \n",
       "\n",
       "     lang                                             tokens  token_ct  \\\n",
       "1749   ja  [パターンa：, --, --, --, --, --, -, 私の春が始まった時, あなた...        45   \n",
       "93     ca  [legos, legos, legos, legos, toys, for, boys, ...        41   \n",
       "452    pt  [-, tá, gravando, ., título, :, -, praneta, la...       148   \n",
       "1260   et  [you, must, you, must, keep, listening, i, don...        36   \n",
       "106    hr  [nazi, nazi, nazi, nazi, love, nazi, nazi, naz...        42   \n",
       "\n",
       "      type_ct       TTR  \n",
       "1749       31  0.688889  \n",
       "93         14  0.341463  \n",
       "452       107  0.722973  \n",
       "1260       11  0.305556  \n",
       "106        20  0.476190  "
      ]
     },
     "execution_count": 109,
     "metadata": {},
     "output_type": "execute_result"
    }
   ],
   "source": [
    "# Check some of the less frequent languages\n",
    "lyricsdf[lyricsdf.lang.isin(['ja', 'no', 'es', 'nl', 'tr', 'sw', 'it', 'ca', 'et', 'pt', 'pl', 'sl', 'sk', 'hr'])].sample(5)"
   ]
  },
  {
   "cell_type": "code",
   "execution_count": 110,
   "metadata": {},
   "outputs": [
    {
     "data": {
      "text/html": [
       "<div>\n",
       "<style scoped>\n",
       "    .dataframe tbody tr th:only-of-type {\n",
       "        vertical-align: middle;\n",
       "    }\n",
       "\n",
       "    .dataframe tbody tr th {\n",
       "        vertical-align: top;\n",
       "    }\n",
       "\n",
       "    .dataframe thead th {\n",
       "        text-align: right;\n",
       "    }\n",
       "</style>\n",
       "<table border=\"1\" class=\"dataframe\">\n",
       "  <thead>\n",
       "    <tr style=\"text-align: right;\">\n",
       "      <th></th>\n",
       "      <th>artist</th>\n",
       "      <th>title</th>\n",
       "      <th>lyrics</th>\n",
       "      <th>lyrics_lines</th>\n",
       "      <th>eng_chars_only</th>\n",
       "      <th>percent_non_english</th>\n",
       "      <th>lang_detect</th>\n",
       "      <th>lang</th>\n",
       "      <th>tokens</th>\n",
       "      <th>token_ct</th>\n",
       "      <th>type_ct</th>\n",
       "      <th>TTR</th>\n",
       "    </tr>\n",
       "  </thead>\n",
       "  <tbody>\n",
       "    <tr>\n",
       "      <td>1304</td>\n",
       "      <td>Jandek</td>\n",
       "      <td>Sung</td>\n",
       "      <td>I’m looking at a blank page Looking at a blank...</td>\n",
       "      <td>I’m looking at a blank page\\nLooking at a blan...</td>\n",
       "      <td>False</td>\n",
       "      <td>0.028037</td>\n",
       "      <td>{'language': 'tl', 'score': 0.7142837600951975}</td>\n",
       "      <td>tl</td>\n",
       "      <td>[i, ’, m, looking, at, a, blank, page, looking...</td>\n",
       "      <td>29</td>\n",
       "      <td>16</td>\n",
       "      <td>0.551724</td>\n",
       "    </tr>\n",
       "    <tr>\n",
       "      <td>2399</td>\n",
       "      <td>Tonetta</td>\n",
       "      <td>My 10$ Axe</td>\n",
       "      <td>Yeah Yeah Yeah ... Jump Jump Jump ...</td>\n",
       "      <td>Yeah\\nYeah\\nYeah\\n...\\nJump\\nJump\\nJump\\n...</td>\n",
       "      <td>True</td>\n",
       "      <td>0.000000</td>\n",
       "      <td>{'language': 'id', 'score': 0.9999969969495115}</td>\n",
       "      <td>id</td>\n",
       "      <td>[yeah, yeah, yeah, ..., jump, jump, jump, ...]</td>\n",
       "      <td>8</td>\n",
       "      <td>3</td>\n",
       "      <td>0.375000</td>\n",
       "    </tr>\n",
       "    <tr>\n",
       "      <td>130</td>\n",
       "      <td>Ariel Pink</td>\n",
       "      <td>Red Room</td>\n",
       "      <td>‏‏thginot nwod teG ‏‏thginot nwod teG ‏‏thgino...</td>\n",
       "      <td>‏‏thginot nwod teG\\n‏‏thginot nwod teG\\n‏‏thgi...</td>\n",
       "      <td>False</td>\n",
       "      <td>0.110372</td>\n",
       "      <td>{'language': 'cy', 'score': 0.9999988646748498}</td>\n",
       "      <td>cy</td>\n",
       "      <td>[‏‏thginot, nwod, teg, ‏‏thginot, nwod, teg, ‏...</td>\n",
       "      <td>167</td>\n",
       "      <td>44</td>\n",
       "      <td>0.263473</td>\n",
       "    </tr>\n",
       "    <tr>\n",
       "      <td>1923</td>\n",
       "      <td>Philemon Arthur And The Dung</td>\n",
       "      <td>Polismannen</td>\n",
       "      <td>En polisman i gatan står En törn av en bil han...</td>\n",
       "      <td>En polisman i gatan står\\nEn törn av en bil ha...</td>\n",
       "      <td>False</td>\n",
       "      <td>0.027132</td>\n",
       "      <td>{'language': 'id', 'score': 0.8571412483283323}</td>\n",
       "      <td>id</td>\n",
       "      <td>[en, polisman, i, gatan, står, en, törn, av, e...</td>\n",
       "      <td>60</td>\n",
       "      <td>21</td>\n",
       "      <td>0.350000</td>\n",
       "    </tr>\n",
       "    <tr>\n",
       "      <td>823</td>\n",
       "      <td>Gary Wilson</td>\n",
       "      <td>Lonely Holiday (Intro)</td>\n",
       "      <td>Holiday A holiday It’s a holiday</td>\n",
       "      <td>Holiday\\nA holiday\\nIt’s a holiday</td>\n",
       "      <td>True</td>\n",
       "      <td>0.031250</td>\n",
       "      <td>{'language': 'so', 'score': 0.8571378739725903}</td>\n",
       "      <td>so</td>\n",
       "      <td>[holiday, a, holiday, it, ’, s, a, holiday]</td>\n",
       "      <td>8</td>\n",
       "      <td>5</td>\n",
       "      <td>0.625000</td>\n",
       "    </tr>\n",
       "  </tbody>\n",
       "</table>\n",
       "</div>"
      ],
      "text/plain": [
       "                            artist                   title  \\\n",
       "1304                        Jandek                    Sung   \n",
       "2399                       Tonetta              My 10$ Axe   \n",
       "130                     Ariel Pink                Red Room   \n",
       "1923  Philemon Arthur And The Dung             Polismannen   \n",
       "823                    Gary Wilson  Lonely Holiday (Intro)   \n",
       "\n",
       "                                                 lyrics  \\\n",
       "1304  I’m looking at a blank page Looking at a blank...   \n",
       "2399              Yeah Yeah Yeah ... Jump Jump Jump ...   \n",
       "130   ‏‏thginot nwod teG ‏‏thginot nwod teG ‏‏thgino...   \n",
       "1923  En polisman i gatan står En törn av en bil han...   \n",
       "823                    Holiday A holiday It’s a holiday   \n",
       "\n",
       "                                           lyrics_lines  eng_chars_only  \\\n",
       "1304  I’m looking at a blank page\\nLooking at a blan...           False   \n",
       "2399       Yeah\\nYeah\\nYeah\\n...\\nJump\\nJump\\nJump\\n...            True   \n",
       "130   ‏‏thginot nwod teG\\n‏‏thginot nwod teG\\n‏‏thgi...           False   \n",
       "1923  En polisman i gatan står\\nEn törn av en bil ha...           False   \n",
       "823                  Holiday\\nA holiday\\nIt’s a holiday            True   \n",
       "\n",
       "      percent_non_english                                      lang_detect  \\\n",
       "1304             0.028037  {'language': 'tl', 'score': 0.7142837600951975}   \n",
       "2399             0.000000  {'language': 'id', 'score': 0.9999969969495115}   \n",
       "130              0.110372  {'language': 'cy', 'score': 0.9999988646748498}   \n",
       "1923             0.027132  {'language': 'id', 'score': 0.8571412483283323}   \n",
       "823              0.031250  {'language': 'so', 'score': 0.8571378739725903}   \n",
       "\n",
       "     lang                                             tokens  token_ct  \\\n",
       "1304   tl  [i, ’, m, looking, at, a, blank, page, looking...        29   \n",
       "2399   id     [yeah, yeah, yeah, ..., jump, jump, jump, ...]         8   \n",
       "130    cy  [‏‏thginot, nwod, teg, ‏‏thginot, nwod, teg, ‏...       167   \n",
       "1923   id  [en, polisman, i, gatan, står, en, törn, av, e...        60   \n",
       "823    so        [holiday, a, holiday, it, ’, s, a, holiday]         8   \n",
       "\n",
       "      type_ct       TTR  \n",
       "1304       16  0.551724  \n",
       "2399        3  0.375000  \n",
       "130        44  0.263473  \n",
       "1923       21  0.350000  \n",
       "823         5  0.625000  "
      ]
     },
     "execution_count": 110,
     "metadata": {},
     "output_type": "execute_result"
    }
   ],
   "source": [
    "# Check out some of the more frequent languages:\n",
    "lyricsdf[lyricsdf.lang.isin(['fr', 'so', 'tl', 'id', 'cy', 'af'])].sample(5)"
   ]
  },
  {
   "cell_type": "markdown",
   "metadata": {},
   "source": [
    "The above lists are samples, but I've skimmed through the full non-English lists. Note that this isn't a perfect solution.  Many English lyrics have been misidentified as foreign languages, as shown below with \"Deck the Halls.\"  It appears that too many \"la\"s has classified this one as Spanish.  However, it's easier to trust that the remaining data is, indeed, English, which could be worth the loss of some data."
   ]
  },
  {
   "cell_type": "code",
   "execution_count": 66,
   "metadata": {},
   "outputs": [
    {
     "name": "stdout",
     "output_type": "stream",
     "text": [
      "language: es \n",
      " Deck the halls with boughs of holly Fa, la, la, la, la, la, la, la, la ’Tis the season to be jolly Fa, la, la, la, la, la, la, la, la Don we now our gay apparel Fa, la, la, la, la, la, la, la, la Troll the ancient Yule tide carol Fa, la, la, la, la, la, la, la, la See the blazing Yule before us Fa, la, la, la, la, la, la, la, la Strike the harp and join the chorus Fa, la, la, la, la, la, la, la, la Follow me in merry measure Fa, la, la, la, la, la, la, la, la While I tell of Yule tide treasure Fa, la, la, la, la, la, la, la, la Fast away the old year passes Fa, la, la, la, la, la, la, la, la Hail the new, ye lads and lasses Fa, la, la, la, la, la, la, la, la Sing we joyous, all together Fa, la, la, la, la, la, la, la, la Heedless of the wind and weather Fa, la, la, la, la, la, la, la, la Deck the halls with boughs of holly Fa, la, la, la, la, la, la, la, la ’Tis the season to be jolly Fa, la, la, la, la, la, la, la, la Don we now our gay apparel Fa, la, la, la, la, la, la, la, la Troll the ancient Yule tide carol Fa, la, la, la, la, la, la, la, la Fa, la, la, la, la, la, la, la, la Fa, la, la, la, la, la, la, la, la Fa, la, la, la, la, la, la, la, la Fa, la, la, la, la, la, la, la, la Fa, la, la, la, la, la, la, la, la\n"
     ]
    }
   ],
   "source": [
    "print(\"language:\", lyricsdf.iloc[223].lang, \"\\n\", lyricsdf.iloc[223].lyrics)"
   ]
  },
  {
   "cell_type": "code",
   "execution_count": 84,
   "metadata": {},
   "outputs": [
    {
     "data": {
      "text/plain": [
       "{'language': 'es', 'score': 0.8571186731985584}"
      ]
     },
     "execution_count": 84,
     "metadata": {},
     "output_type": "execute_result"
    }
   ],
   "source": [
    "lyricsdf.iloc[223].lang_detect"
   ]
  },
  {
   "cell_type": "code",
   "execution_count": 107,
   "metadata": {},
   "outputs": [
    {
     "data": {
      "text/html": [
       "<div>\n",
       "<style scoped>\n",
       "    .dataframe tbody tr th:only-of-type {\n",
       "        vertical-align: middle;\n",
       "    }\n",
       "\n",
       "    .dataframe tbody tr th {\n",
       "        vertical-align: top;\n",
       "    }\n",
       "\n",
       "    .dataframe thead th {\n",
       "        text-align: right;\n",
       "    }\n",
       "</style>\n",
       "<table border=\"1\" class=\"dataframe\">\n",
       "  <thead>\n",
       "    <tr style=\"text-align: right;\">\n",
       "      <th></th>\n",
       "      <th>artist</th>\n",
       "      <th>title</th>\n",
       "      <th>lyrics</th>\n",
       "      <th>lyrics_lines</th>\n",
       "      <th>eng_chars_only</th>\n",
       "      <th>percent_non_english</th>\n",
       "      <th>lang_detect</th>\n",
       "      <th>lang</th>\n",
       "      <th>tokens</th>\n",
       "      <th>token_ct</th>\n",
       "      <th>type_ct</th>\n",
       "      <th>TTR</th>\n",
       "    </tr>\n",
       "  </thead>\n",
       "  <tbody>\n",
       "    <tr>\n",
       "      <td>1914</td>\n",
       "      <td>Philemon Arthur And The Dung</td>\n",
       "      <td>Mor Anka</td>\n",
       "      <td>Mor Anka är lite konstig Hon skjuter hästar tr...</td>\n",
       "      <td>Mor Anka är lite konstig\\nHon skjuter hästar t...</td>\n",
       "      <td>False</td>\n",
       "      <td>0.030997</td>\n",
       "      <td>{'language': 'sv', 'score': 0.9999961600886023}</td>\n",
       "      <td>sv</td>\n",
       "      <td>[mor, anka, är, lite, konstig, hon, skjuter, h...</td>\n",
       "      <td>153</td>\n",
       "      <td>107</td>\n",
       "      <td>0.699346</td>\n",
       "    </tr>\n",
       "    <tr>\n",
       "      <td>1878</td>\n",
       "      <td>Philemon Arthur And The Dung</td>\n",
       "      <td>Blomman</td>\n",
       "      <td>-Oj oj oj, det är söndagmorgon och klockan är ...</td>\n",
       "      <td>-Oj oj oj, det är söndagmorgon och klockan är ...</td>\n",
       "      <td>False</td>\n",
       "      <td>0.048348</td>\n",
       "      <td>{'language': 'sv', 'score': 0.9999974823074814}</td>\n",
       "      <td>sv</td>\n",
       "      <td>[-oj, oj, oj, ,, det, är, söndagmorgon, och, k...</td>\n",
       "      <td>277</td>\n",
       "      <td>86</td>\n",
       "      <td>0.310469</td>\n",
       "    </tr>\n",
       "    <tr>\n",
       "      <td>1926</td>\n",
       "      <td>Philemon Arthur And The Dung</td>\n",
       "      <td>Skolsången</td>\n",
       "      <td>En vacker sång jag lärde mig i skola Den var s...</td>\n",
       "      <td>En vacker sång jag lärde mig i skola\\nDen var ...</td>\n",
       "      <td>False</td>\n",
       "      <td>0.057377</td>\n",
       "      <td>{'language': 'sv', 'score': 0.9999982786372654}</td>\n",
       "      <td>sv</td>\n",
       "      <td>[en, vacker, sång, jag, lärde, mig, i, skola, ...</td>\n",
       "      <td>229</td>\n",
       "      <td>96</td>\n",
       "      <td>0.419214</td>\n",
       "    </tr>\n",
       "    <tr>\n",
       "      <td>1916</td>\n",
       "      <td>Philemon Arthur And The Dung</td>\n",
       "      <td>Naturen</td>\n",
       "      <td>Idag är den 13e mars och vi har just skrivit e...</td>\n",
       "      <td>Idag är den 13e mars och vi har just skrivit e...</td>\n",
       "      <td>False</td>\n",
       "      <td>0.065860</td>\n",
       "      <td>{'language': 'sv', 'score': 0.9999979196683842}</td>\n",
       "      <td>sv</td>\n",
       "      <td>[idag, är, den, 13e, mars, och, vi, har, just,...</td>\n",
       "      <td>143</td>\n",
       "      <td>55</td>\n",
       "      <td>0.384615</td>\n",
       "    </tr>\n",
       "    <tr>\n",
       "      <td>1883</td>\n",
       "      <td>Philemon Arthur And The Dung</td>\n",
       "      <td>Djurvisa</td>\n",
       "      <td>En kossa på ängen Den kommer gående och säger ...</td>\n",
       "      <td>En kossa på ängen\\nDen kommer gående och säger...</td>\n",
       "      <td>False</td>\n",
       "      <td>0.132512</td>\n",
       "      <td>{'language': 'sv', 'score': 0.9999982257280964}</td>\n",
       "      <td>sv</td>\n",
       "      <td>[en, kossa, på, ängen, den, kommer, gående, oc...</td>\n",
       "      <td>165</td>\n",
       "      <td>23</td>\n",
       "      <td>0.139394</td>\n",
       "    </tr>\n",
       "  </tbody>\n",
       "</table>\n",
       "</div>"
      ],
      "text/plain": [
       "                            artist       title  \\\n",
       "1914  Philemon Arthur And The Dung    Mor Anka   \n",
       "1878  Philemon Arthur And The Dung     Blomman   \n",
       "1926  Philemon Arthur And The Dung  Skolsången   \n",
       "1916  Philemon Arthur And The Dung     Naturen   \n",
       "1883  Philemon Arthur And The Dung    Djurvisa   \n",
       "\n",
       "                                                 lyrics  \\\n",
       "1914  Mor Anka är lite konstig Hon skjuter hästar tr...   \n",
       "1878  -Oj oj oj, det är söndagmorgon och klockan är ...   \n",
       "1926  En vacker sång jag lärde mig i skola Den var s...   \n",
       "1916  Idag är den 13e mars och vi har just skrivit e...   \n",
       "1883  En kossa på ängen Den kommer gående och säger ...   \n",
       "\n",
       "                                           lyrics_lines  eng_chars_only  \\\n",
       "1914  Mor Anka är lite konstig\\nHon skjuter hästar t...           False   \n",
       "1878  -Oj oj oj, det är söndagmorgon och klockan är ...           False   \n",
       "1926  En vacker sång jag lärde mig i skola\\nDen var ...           False   \n",
       "1916  Idag är den 13e mars och vi har just skrivit e...           False   \n",
       "1883  En kossa på ängen\\nDen kommer gående och säger...           False   \n",
       "\n",
       "      percent_non_english                                      lang_detect  \\\n",
       "1914             0.030997  {'language': 'sv', 'score': 0.9999961600886023}   \n",
       "1878             0.048348  {'language': 'sv', 'score': 0.9999974823074814}   \n",
       "1926             0.057377  {'language': 'sv', 'score': 0.9999982786372654}   \n",
       "1916             0.065860  {'language': 'sv', 'score': 0.9999979196683842}   \n",
       "1883             0.132512  {'language': 'sv', 'score': 0.9999982257280964}   \n",
       "\n",
       "     lang                                             tokens  token_ct  \\\n",
       "1914   sv  [mor, anka, är, lite, konstig, hon, skjuter, h...       153   \n",
       "1878   sv  [-oj, oj, oj, ,, det, är, söndagmorgon, och, k...       277   \n",
       "1926   sv  [en, vacker, sång, jag, lärde, mig, i, skola, ...       229   \n",
       "1916   sv  [idag, är, den, 13e, mars, och, vi, har, just,...       143   \n",
       "1883   sv  [en, kossa, på, ängen, den, kommer, gående, oc...       165   \n",
       "\n",
       "      type_ct       TTR  \n",
       "1914      107  0.699346  \n",
       "1878       86  0.310469  \n",
       "1926       96  0.419214  \n",
       "1916       55  0.384615  \n",
       "1883       23  0.139394  "
      ]
     },
     "execution_count": 107,
     "metadata": {},
     "output_type": "execute_result"
    }
   ],
   "source": [
    "# Note that all 59 of these lyrics are Swedish\n",
    "# Only a sample shown below\n",
    "lyricsdf[lyricsdf.lang == \"sv\"].sample(5)"
   ]
  },
  {
   "cell_type": "markdown",
   "metadata": {},
   "source": [
    "For the analysis, I will remove those languages which I know are entirely non-English lyrics, including Swedish ('sv') and Japanese ('ja').  The other languages identified are not so definitively English or non-English, so I will leave them in the dataset for analysis.  Given that there were 59 Swedish songs identified, it seems worthwhile to remove them.\n",
    "\n",
    "If it seems as if the non-English data may be confounding the analysis, the songs identified as English ('en') appear to be identified as such reliably and can be used for a smaller analysis.  However, I would like to avoid doing this, since many of the stranger, non-sense lyrics that could characterize outsider music have been identified as non-English."
   ]
  },
  {
   "cell_type": "code",
   "execution_count": 123,
   "metadata": {},
   "outputs": [
    {
     "data": {
      "text/html": [
       "<div>\n",
       "<style scoped>\n",
       "    .dataframe tbody tr th:only-of-type {\n",
       "        vertical-align: middle;\n",
       "    }\n",
       "\n",
       "    .dataframe tbody tr th {\n",
       "        vertical-align: top;\n",
       "    }\n",
       "\n",
       "    .dataframe thead th {\n",
       "        text-align: right;\n",
       "    }\n",
       "</style>\n",
       "<table border=\"1\" class=\"dataframe\">\n",
       "  <thead>\n",
       "    <tr style=\"text-align: right;\">\n",
       "      <th></th>\n",
       "      <th>artist</th>\n",
       "      <th>title</th>\n",
       "      <th>lyrics</th>\n",
       "      <th>lyrics_lines</th>\n",
       "      <th>eng_chars_only</th>\n",
       "      <th>percent_non_english</th>\n",
       "      <th>lang_detect</th>\n",
       "      <th>lang</th>\n",
       "      <th>tokens</th>\n",
       "      <th>token_ct</th>\n",
       "      <th>type_ct</th>\n",
       "      <th>TTR</th>\n",
       "    </tr>\n",
       "  </thead>\n",
       "  <tbody>\n",
       "    <tr>\n",
       "      <td>855</td>\n",
       "      <td>Gary Wilson</td>\n",
       "      <td>The Snow</td>\n",
       "      <td></td>\n",
       "      <td></td>\n",
       "      <td>True</td>\n",
       "      <td>NaN</td>\n",
       "      <td>{'language': 'UNKNOWN', 'score': 0.0}</td>\n",
       "      <td>UNKNOWN</td>\n",
       "      <td>[]</td>\n",
       "      <td>0</td>\n",
       "      <td>0</td>\n",
       "      <td>NaN</td>\n",
       "    </tr>\n",
       "    <tr>\n",
       "      <td>1444</td>\n",
       "      <td>John Frusciante</td>\n",
       "      <td>Hew Branderson</td>\n",
       "      <td></td>\n",
       "      <td></td>\n",
       "      <td>True</td>\n",
       "      <td>NaN</td>\n",
       "      <td>{'language': 'UNKNOWN', 'score': 0.0}</td>\n",
       "      <td>UNKNOWN</td>\n",
       "      <td>[]</td>\n",
       "      <td>0</td>\n",
       "      <td>0</td>\n",
       "      <td>NaN</td>\n",
       "    </tr>\n",
       "    <tr>\n",
       "      <td>1554</td>\n",
       "      <td>John Frusciante</td>\n",
       "      <td>Untitled #13</td>\n",
       "      <td></td>\n",
       "      <td></td>\n",
       "      <td>True</td>\n",
       "      <td>NaN</td>\n",
       "      <td>{'language': 'UNKNOWN', 'score': 0.0}</td>\n",
       "      <td>UNKNOWN</td>\n",
       "      <td>[]</td>\n",
       "      <td>0</td>\n",
       "      <td>0</td>\n",
       "      <td>NaN</td>\n",
       "    </tr>\n",
       "    <tr>\n",
       "      <td>1377</td>\n",
       "      <td>John Frusciante</td>\n",
       "      <td>Anea 18</td>\n",
       "      <td></td>\n",
       "      <td></td>\n",
       "      <td>True</td>\n",
       "      <td>NaN</td>\n",
       "      <td>{'language': 'UNKNOWN', 'score': 0.0}</td>\n",
       "      <td>UNKNOWN</td>\n",
       "      <td>[]</td>\n",
       "      <td>0</td>\n",
       "      <td>0</td>\n",
       "      <td>NaN</td>\n",
       "    </tr>\n",
       "    <tr>\n",
       "      <td>839</td>\n",
       "      <td>Gary Wilson</td>\n",
       "      <td>Shauna Made Me Cry</td>\n",
       "      <td></td>\n",
       "      <td></td>\n",
       "      <td>True</td>\n",
       "      <td>NaN</td>\n",
       "      <td>{'language': 'UNKNOWN', 'score': 0.0}</td>\n",
       "      <td>UNKNOWN</td>\n",
       "      <td>[]</td>\n",
       "      <td>0</td>\n",
       "      <td>0</td>\n",
       "      <td>NaN</td>\n",
       "    </tr>\n",
       "  </tbody>\n",
       "</table>\n",
       "</div>"
      ],
      "text/plain": [
       "               artist               title lyrics lyrics_lines  eng_chars_only  \\\n",
       "855       Gary Wilson            The Snow                                True   \n",
       "1444  John Frusciante      Hew Branderson                                True   \n",
       "1554  John Frusciante        Untitled #13                                True   \n",
       "1377  John Frusciante             Anea 18                                True   \n",
       "839       Gary Wilson  Shauna Made Me Cry                                True   \n",
       "\n",
       "      percent_non_english                            lang_detect     lang  \\\n",
       "855                   NaN  {'language': 'UNKNOWN', 'score': 0.0}  UNKNOWN   \n",
       "1444                  NaN  {'language': 'UNKNOWN', 'score': 0.0}  UNKNOWN   \n",
       "1554                  NaN  {'language': 'UNKNOWN', 'score': 0.0}  UNKNOWN   \n",
       "1377                  NaN  {'language': 'UNKNOWN', 'score': 0.0}  UNKNOWN   \n",
       "839                   NaN  {'language': 'UNKNOWN', 'score': 0.0}  UNKNOWN   \n",
       "\n",
       "     tokens  token_ct  type_ct  TTR  \n",
       "855      []         0        0  NaN  \n",
       "1444     []         0        0  NaN  \n",
       "1554     []         0        0  NaN  \n",
       "1377     []         0        0  NaN  \n",
       "839      []         0        0  NaN  "
      ]
     },
     "execution_count": 123,
     "metadata": {},
     "output_type": "execute_result"
    }
   ],
   "source": [
    "# And UNKNOWN language is just the empty string lyrics!\n",
    "lyricsdf[lyricsdf.lang == \"UNKNOWN\"].sample(5)"
   ]
  },
  {
   "cell_type": "code",
   "execution_count": 124,
   "metadata": {},
   "outputs": [],
   "source": [
    "lyricsdf = lyricsdf[~lyricsdf.lang.isin(['sv', 'ja', 'UNKNOWN'])]"
   ]
  },
  {
   "cell_type": "markdown",
   "metadata": {},
   "source": [
    "## Beginning Analysis\n",
    "The lyrics need to be tokenized so that they can be analyzed at the word-level."
   ]
  },
  {
   "cell_type": "code",
   "execution_count": 125,
   "metadata": {},
   "outputs": [
    {
     "data": {
      "text/html": [
       "<div>\n",
       "<style scoped>\n",
       "    .dataframe tbody tr th:only-of-type {\n",
       "        vertical-align: middle;\n",
       "    }\n",
       "\n",
       "    .dataframe tbody tr th {\n",
       "        vertical-align: top;\n",
       "    }\n",
       "\n",
       "    .dataframe thead th {\n",
       "        text-align: right;\n",
       "    }\n",
       "</style>\n",
       "<table border=\"1\" class=\"dataframe\">\n",
       "  <thead>\n",
       "    <tr style=\"text-align: right;\">\n",
       "      <th></th>\n",
       "      <th>artist</th>\n",
       "      <th>title</th>\n",
       "      <th>lyrics</th>\n",
       "      <th>lyrics_lines</th>\n",
       "      <th>eng_chars_only</th>\n",
       "      <th>percent_non_english</th>\n",
       "      <th>lang_detect</th>\n",
       "      <th>lang</th>\n",
       "      <th>tokens</th>\n",
       "      <th>token_ct</th>\n",
       "      <th>type_ct</th>\n",
       "      <th>TTR</th>\n",
       "    </tr>\n",
       "  </thead>\n",
       "  <tbody>\n",
       "    <tr>\n",
       "      <td>0</td>\n",
       "      <td>Abner Jay</td>\n",
       "      <td>Bring It When You Come</td>\n",
       "      <td>Terrible things, always happening Just like ye...</td>\n",
       "      <td>Terrible things, always happening\\nJust like y...</td>\n",
       "      <td>True</td>\n",
       "      <td>0.009918</td>\n",
       "      <td>{'language': 'en', 'score': 0.9999969507477495}</td>\n",
       "      <td>en</td>\n",
       "      <td>[terrible, things, ,, always, happening, just,...</td>\n",
       "      <td>429</td>\n",
       "      <td>143</td>\n",
       "      <td>0.333333</td>\n",
       "    </tr>\n",
       "    <tr>\n",
       "      <td>1</td>\n",
       "      <td>Abner Jay</td>\n",
       "      <td>Cocaine</td>\n",
       "      <td>Folk music is high-class music. There’s a lott...</td>\n",
       "      <td>Folk music is high-class music. There’s a lott...</td>\n",
       "      <td>True</td>\n",
       "      <td>0.023657</td>\n",
       "      <td>{'language': 'en', 'score': 0.999994987074969}</td>\n",
       "      <td>en</td>\n",
       "      <td>[folk, music, is, high-class, music, ., there,...</td>\n",
       "      <td>501</td>\n",
       "      <td>195</td>\n",
       "      <td>0.389222</td>\n",
       "    </tr>\n",
       "    <tr>\n",
       "      <td>2</td>\n",
       "      <td>Abner Jay</td>\n",
       "      <td>Cocaine Blues</td>\n",
       "      <td>Cocaine, Cocaine Running round my heart And th...</td>\n",
       "      <td>Cocaine, Cocaine\\nRunning round my heart\\nAnd ...</td>\n",
       "      <td>True</td>\n",
       "      <td>0.016551</td>\n",
       "      <td>{'language': 'en', 'score': 0.9999989934171772}</td>\n",
       "      <td>en</td>\n",
       "      <td>[cocaine, ,, cocaine, running, round, my, hear...</td>\n",
       "      <td>443</td>\n",
       "      <td>169</td>\n",
       "      <td>0.381490</td>\n",
       "    </tr>\n",
       "    <tr>\n",
       "      <td>3</td>\n",
       "      <td>Abner Jay</td>\n",
       "      <td>Don’t Mess with Me Baby</td>\n",
       "      <td>Terrible things; that’s what’s getting all the...</td>\n",
       "      <td>Terrible things; that’s what’s getting all the...</td>\n",
       "      <td>True</td>\n",
       "      <td>0.010326</td>\n",
       "      <td>{'language': 'en', 'score': 0.9999968750669035}</td>\n",
       "      <td>en</td>\n",
       "      <td>[terrible, things, ;, that, ’, s, what, ’, s, ...</td>\n",
       "      <td>733</td>\n",
       "      <td>265</td>\n",
       "      <td>0.361528</td>\n",
       "    </tr>\n",
       "    <tr>\n",
       "      <td>4</td>\n",
       "      <td>Abner Jay</td>\n",
       "      <td>I cried</td>\n",
       "      <td>I, I cried I cried in the ni-ight Oh please co...</td>\n",
       "      <td>I, I cried\\nI cried in the ni-ight\\nOh please ...</td>\n",
       "      <td>True</td>\n",
       "      <td>0.004902</td>\n",
       "      <td>{'language': 'en', 'score': 0.9999974762058403}</td>\n",
       "      <td>en</td>\n",
       "      <td>[i, ,, i, cried, i, cried, in, the, ni-ight, o...</td>\n",
       "      <td>152</td>\n",
       "      <td>51</td>\n",
       "      <td>0.335526</td>\n",
       "    </tr>\n",
       "  </tbody>\n",
       "</table>\n",
       "</div>"
      ],
      "text/plain": [
       "      artist                    title  \\\n",
       "0  Abner Jay   Bring It When You Come   \n",
       "1  Abner Jay                  Cocaine   \n",
       "2  Abner Jay            Cocaine Blues   \n",
       "3  Abner Jay  Don’t Mess with Me Baby   \n",
       "4  Abner Jay                  I cried   \n",
       "\n",
       "                                              lyrics  \\\n",
       "0  Terrible things, always happening Just like ye...   \n",
       "1  Folk music is high-class music. There’s a lott...   \n",
       "2  Cocaine, Cocaine Running round my heart And th...   \n",
       "3  Terrible things; that’s what’s getting all the...   \n",
       "4  I, I cried I cried in the ni-ight Oh please co...   \n",
       "\n",
       "                                        lyrics_lines  eng_chars_only  \\\n",
       "0  Terrible things, always happening\\nJust like y...            True   \n",
       "1  Folk music is high-class music. There’s a lott...            True   \n",
       "2  Cocaine, Cocaine\\nRunning round my heart\\nAnd ...            True   \n",
       "3  Terrible things; that’s what’s getting all the...            True   \n",
       "4  I, I cried\\nI cried in the ni-ight\\nOh please ...            True   \n",
       "\n",
       "   percent_non_english                                      lang_detect lang  \\\n",
       "0             0.009918  {'language': 'en', 'score': 0.9999969507477495}   en   \n",
       "1             0.023657   {'language': 'en', 'score': 0.999994987074969}   en   \n",
       "2             0.016551  {'language': 'en', 'score': 0.9999989934171772}   en   \n",
       "3             0.010326  {'language': 'en', 'score': 0.9999968750669035}   en   \n",
       "4             0.004902  {'language': 'en', 'score': 0.9999974762058403}   en   \n",
       "\n",
       "                                              tokens  token_ct  type_ct  \\\n",
       "0  [terrible, things, ,, always, happening, just,...       429      143   \n",
       "1  [folk, music, is, high-class, music, ., there,...       501      195   \n",
       "2  [cocaine, ,, cocaine, running, round, my, hear...       443      169   \n",
       "3  [terrible, things, ;, that, ’, s, what, ’, s, ...       733      265   \n",
       "4  [i, ,, i, cried, i, cried, in, the, ni-ight, o...       152       51   \n",
       "\n",
       "        TTR  \n",
       "0  0.333333  \n",
       "1  0.389222  \n",
       "2  0.381490  \n",
       "3  0.361528  \n",
       "4  0.335526  "
      ]
     },
     "execution_count": 125,
     "metadata": {},
     "output_type": "execute_result"
    }
   ],
   "source": [
    "# tokenize, then lowercase tokens\n",
    "lyricsdf[\"tokens\"] = lyricsdf.lyrics.map(lambda x: nltk.word_tokenize(x))\n",
    "lyricsdf.tokens = lyricsdf.tokens.map(lambda x: [word.lower() for word in x])\n",
    "lyricsdf.head()"
   ]
  },
  {
   "cell_type": "code",
   "execution_count": 126,
   "metadata": {},
   "outputs": [
    {
     "data": {
      "text/html": [
       "<div>\n",
       "<style scoped>\n",
       "    .dataframe tbody tr th:only-of-type {\n",
       "        vertical-align: middle;\n",
       "    }\n",
       "\n",
       "    .dataframe tbody tr th {\n",
       "        vertical-align: top;\n",
       "    }\n",
       "\n",
       "    .dataframe thead th {\n",
       "        text-align: right;\n",
       "    }\n",
       "</style>\n",
       "<table border=\"1\" class=\"dataframe\">\n",
       "  <thead>\n",
       "    <tr style=\"text-align: right;\">\n",
       "      <th></th>\n",
       "      <th>artist</th>\n",
       "      <th>title</th>\n",
       "      <th>lyrics</th>\n",
       "      <th>lyrics_lines</th>\n",
       "      <th>eng_chars_only</th>\n",
       "      <th>percent_non_english</th>\n",
       "      <th>lang_detect</th>\n",
       "      <th>lang</th>\n",
       "      <th>tokens</th>\n",
       "      <th>token_ct</th>\n",
       "      <th>type_ct</th>\n",
       "      <th>TTR</th>\n",
       "    </tr>\n",
       "  </thead>\n",
       "  <tbody>\n",
       "    <tr>\n",
       "      <td>0</td>\n",
       "      <td>Abner Jay</td>\n",
       "      <td>Bring It When You Come</td>\n",
       "      <td>Terrible things, always happening Just like ye...</td>\n",
       "      <td>Terrible things, always happening\\nJust like y...</td>\n",
       "      <td>True</td>\n",
       "      <td>0.009918</td>\n",
       "      <td>{'language': 'en', 'score': 0.9999969507477495}</td>\n",
       "      <td>en</td>\n",
       "      <td>[terrible, things, ,, always, happening, just,...</td>\n",
       "      <td>429</td>\n",
       "      <td>143</td>\n",
       "      <td>0.333333</td>\n",
       "    </tr>\n",
       "    <tr>\n",
       "      <td>1</td>\n",
       "      <td>Abner Jay</td>\n",
       "      <td>Cocaine</td>\n",
       "      <td>Folk music is high-class music. There’s a lott...</td>\n",
       "      <td>Folk music is high-class music. There’s a lott...</td>\n",
       "      <td>True</td>\n",
       "      <td>0.023657</td>\n",
       "      <td>{'language': 'en', 'score': 0.999994987074969}</td>\n",
       "      <td>en</td>\n",
       "      <td>[folk, music, is, high-class, music, ., there,...</td>\n",
       "      <td>501</td>\n",
       "      <td>195</td>\n",
       "      <td>0.389222</td>\n",
       "    </tr>\n",
       "    <tr>\n",
       "      <td>2</td>\n",
       "      <td>Abner Jay</td>\n",
       "      <td>Cocaine Blues</td>\n",
       "      <td>Cocaine, Cocaine Running round my heart And th...</td>\n",
       "      <td>Cocaine, Cocaine\\nRunning round my heart\\nAnd ...</td>\n",
       "      <td>True</td>\n",
       "      <td>0.016551</td>\n",
       "      <td>{'language': 'en', 'score': 0.9999989934171772}</td>\n",
       "      <td>en</td>\n",
       "      <td>[cocaine, ,, cocaine, running, round, my, hear...</td>\n",
       "      <td>443</td>\n",
       "      <td>169</td>\n",
       "      <td>0.381490</td>\n",
       "    </tr>\n",
       "    <tr>\n",
       "      <td>3</td>\n",
       "      <td>Abner Jay</td>\n",
       "      <td>Don’t Mess with Me Baby</td>\n",
       "      <td>Terrible things; that’s what’s getting all the...</td>\n",
       "      <td>Terrible things; that’s what’s getting all the...</td>\n",
       "      <td>True</td>\n",
       "      <td>0.010326</td>\n",
       "      <td>{'language': 'en', 'score': 0.9999968750669035}</td>\n",
       "      <td>en</td>\n",
       "      <td>[terrible, things, ;, that, ’, s, what, ’, s, ...</td>\n",
       "      <td>733</td>\n",
       "      <td>265</td>\n",
       "      <td>0.361528</td>\n",
       "    </tr>\n",
       "    <tr>\n",
       "      <td>4</td>\n",
       "      <td>Abner Jay</td>\n",
       "      <td>I cried</td>\n",
       "      <td>I, I cried I cried in the ni-ight Oh please co...</td>\n",
       "      <td>I, I cried\\nI cried in the ni-ight\\nOh please ...</td>\n",
       "      <td>True</td>\n",
       "      <td>0.004902</td>\n",
       "      <td>{'language': 'en', 'score': 0.9999974762058403}</td>\n",
       "      <td>en</td>\n",
       "      <td>[i, ,, i, cried, i, cried, in, the, ni-ight, o...</td>\n",
       "      <td>152</td>\n",
       "      <td>51</td>\n",
       "      <td>0.335526</td>\n",
       "    </tr>\n",
       "  </tbody>\n",
       "</table>\n",
       "</div>"
      ],
      "text/plain": [
       "      artist                    title  \\\n",
       "0  Abner Jay   Bring It When You Come   \n",
       "1  Abner Jay                  Cocaine   \n",
       "2  Abner Jay            Cocaine Blues   \n",
       "3  Abner Jay  Don’t Mess with Me Baby   \n",
       "4  Abner Jay                  I cried   \n",
       "\n",
       "                                              lyrics  \\\n",
       "0  Terrible things, always happening Just like ye...   \n",
       "1  Folk music is high-class music. There’s a lott...   \n",
       "2  Cocaine, Cocaine Running round my heart And th...   \n",
       "3  Terrible things; that’s what’s getting all the...   \n",
       "4  I, I cried I cried in the ni-ight Oh please co...   \n",
       "\n",
       "                                        lyrics_lines  eng_chars_only  \\\n",
       "0  Terrible things, always happening\\nJust like y...            True   \n",
       "1  Folk music is high-class music. There’s a lott...            True   \n",
       "2  Cocaine, Cocaine\\nRunning round my heart\\nAnd ...            True   \n",
       "3  Terrible things; that’s what’s getting all the...            True   \n",
       "4  I, I cried\\nI cried in the ni-ight\\nOh please ...            True   \n",
       "\n",
       "   percent_non_english                                      lang_detect lang  \\\n",
       "0             0.009918  {'language': 'en', 'score': 0.9999969507477495}   en   \n",
       "1             0.023657   {'language': 'en', 'score': 0.999994987074969}   en   \n",
       "2             0.016551  {'language': 'en', 'score': 0.9999989934171772}   en   \n",
       "3             0.010326  {'language': 'en', 'score': 0.9999968750669035}   en   \n",
       "4             0.004902  {'language': 'en', 'score': 0.9999974762058403}   en   \n",
       "\n",
       "                                              tokens  token_ct  type_ct  \\\n",
       "0  [terrible, things, ,, always, happening, just,...       429      143   \n",
       "1  [folk, music, is, high-class, music, ., there,...       501      195   \n",
       "2  [cocaine, ,, cocaine, running, round, my, hear...       443      169   \n",
       "3  [terrible, things, ;, that, ’, s, what, ’, s, ...       733      265   \n",
       "4  [i, ,, i, cried, i, cried, in, the, ni-ight, o...       152       51   \n",
       "\n",
       "        TTR  \n",
       "0  0.333333  \n",
       "1  0.389222  \n",
       "2  0.381490  \n",
       "3  0.361528  \n",
       "4  0.335526  "
      ]
     },
     "execution_count": 126,
     "metadata": {},
     "output_type": "execute_result"
    }
   ],
   "source": [
    "lyricsdf[\"token_ct\"] = lyricsdf.tokens.map(len)\n",
    "lyricsdf[\"type_ct\"] = lyricsdf.tokens.map(lambda x: len(set(x)))\n",
    "lyricsdf[\"TTR\"] = lyricsdf.type_ct / lyricsdf.token_ct\n",
    "lyricsdf.head()"
   ]
  },
  {
   "cell_type": "code",
   "execution_count": 127,
   "metadata": {},
   "outputs": [
    {
     "data": {
      "text/plain": [
       "count    3297.000000\n",
       "mean      212.114346\n",
       "std       160.853562\n",
       "min         1.000000\n",
       "25%       117.000000\n",
       "50%       172.000000\n",
       "75%       262.000000\n",
       "max      2155.000000\n",
       "Name: token_ct, dtype: float64"
      ]
     },
     "execution_count": 127,
     "metadata": {},
     "output_type": "execute_result"
    }
   ],
   "source": [
    "lyricsdf.token_ct.describe()"
   ]
  },
  {
   "cell_type": "code",
   "execution_count": 119,
   "metadata": {},
   "outputs": [
    {
     "data": {
      "text/plain": [
       "<matplotlib.axes._subplots.AxesSubplot at 0x200e0ef2688>"
      ]
     },
     "execution_count": 119,
     "metadata": {},
     "output_type": "execute_result"
    },
    {
     "data": {
      "image/png": "[encoded data removed]",
      "text/plain": [
       "<Figure size 432x288 with 1 Axes>"
      ]
     },
     "metadata": {
      "needs_background": "light"
     },
     "output_type": "display_data"
    }
   ],
   "source": [
    "# Let's take a quick look at the token_ct distribution\n",
    "# NOTE: This still includes non-English data\n",
    "lyricsdf.token_ct.plot(kind = \"box\", rot=0, title = \"Artist Distribution\")"
   ]
  },
  {
   "cell_type": "markdown",
   "metadata": {},
   "source": [
    "There are some lyrics with around 2,000 tokens!  This seems unusual.  Let's investigate... could this be a tokenization issue?  Note that, on average, most songs are about 200 tokens long, which seems a bit more reasonable."
   ]
  },
  {
   "cell_type": "code",
   "execution_count": 120,
   "metadata": {},
   "outputs": [
    {
     "data": {
      "text/html": [
       "<div>\n",
       "<style scoped>\n",
       "    .dataframe tbody tr th:only-of-type {\n",
       "        vertical-align: middle;\n",
       "    }\n",
       "\n",
       "    .dataframe tbody tr th {\n",
       "        vertical-align: top;\n",
       "    }\n",
       "\n",
       "    .dataframe thead th {\n",
       "        text-align: right;\n",
       "    }\n",
       "</style>\n",
       "<table border=\"1\" class=\"dataframe\">\n",
       "  <thead>\n",
       "    <tr style=\"text-align: right;\">\n",
       "      <th></th>\n",
       "      <th>artist</th>\n",
       "      <th>title</th>\n",
       "      <th>lyrics</th>\n",
       "      <th>lyrics_lines</th>\n",
       "      <th>eng_chars_only</th>\n",
       "      <th>percent_non_english</th>\n",
       "      <th>lang_detect</th>\n",
       "      <th>lang</th>\n",
       "      <th>tokens</th>\n",
       "      <th>token_ct</th>\n",
       "      <th>type_ct</th>\n",
       "      <th>TTR</th>\n",
       "    </tr>\n",
       "  </thead>\n",
       "  <tbody>\n",
       "    <tr>\n",
       "      <td>1242</td>\n",
       "      <td>Jandek</td>\n",
       "      <td>One Last Chance</td>\n",
       "      <td>I need another chance I need one last chance I...</td>\n",
       "      <td>I need another chance\\nI need one last chance\\...</td>\n",
       "      <td>True</td>\n",
       "      <td>0.012782</td>\n",
       "      <td>{'language': 'en', 'score': 0.9999952910114128}</td>\n",
       "      <td>en</td>\n",
       "      <td>[i, need, another, chance, i, need, one, last,...</td>\n",
       "      <td>2155</td>\n",
       "      <td>325</td>\n",
       "      <td>0.150812</td>\n",
       "    </tr>\n",
       "  </tbody>\n",
       "</table>\n",
       "</div>"
      ],
      "text/plain": [
       "      artist            title  \\\n",
       "1242  Jandek  One Last Chance   \n",
       "\n",
       "                                                 lyrics  \\\n",
       "1242  I need another chance I need one last chance I...   \n",
       "\n",
       "                                           lyrics_lines  eng_chars_only  \\\n",
       "1242  I need another chance\\nI need one last chance\\...            True   \n",
       "\n",
       "      percent_non_english                                      lang_detect  \\\n",
       "1242             0.012782  {'language': 'en', 'score': 0.9999952910114128}   \n",
       "\n",
       "     lang                                             tokens  token_ct  \\\n",
       "1242   en  [i, need, another, chance, i, need, one, last,...      2155   \n",
       "\n",
       "      type_ct       TTR  \n",
       "1242      325  0.150812  "
      ]
     },
     "execution_count": 120,
     "metadata": {},
     "output_type": "execute_result"
    }
   ],
   "source": [
    "lyricsdf[lyricsdf.token_ct >= 2000]"
   ]
  },
  {
   "cell_type": "code",
   "execution_count": 121,
   "metadata": {},
   "outputs": [
    {
     "data": {
      "text/plain": [
       "'I need another chance I need one last chance I’ve looked at myself I don’t like what I see I need another chance To try to do it right I can do it right If I have the strength If I keep my will If I direct my body I can do it right I need another chance Because I looked at myself And I’m goin wrong But I can do it right You can show me how Like you did before When I really needed to do it right I was in a fix before I was really in trouble It was sharp and quick It took me by surprise And you helped me then It was a matter of time But this time it’s different It’s been a growing thing It wasn’t sharp and quick No no no no It didn’t take me by surprise It came along slow and soft It crept and I saw it all along the way It came on bit by bit And I knew it all along The only difference is now It’s gone too far It’s gone too far It almost seems irreversible I need another chance I wanna do it right Cause when I looked at myself It was going all wrong I’ve got to change my style I’ve got to do something different I’ve got to be in my world I’ve got to see what I see I’ve got to hear what I hear I’ve got to move through time With me on my mind You can forget the rest Because if I think about it I’m gonna lose myself And it’ll be too late Don’t let it be too late now Don’t let it be too late now I need another chance Cause it’s gone too far I hope it’s not irreversible Let me stem the tide Let me reverse this thing Let me put my hand up and say \"Stop\" Even \"Turn around, go back where you came\" Give me another chance Because I can do it right I can do it right I’ve got to do it right Because if I don’t I’m gone I’m real gone And I don’t want to lose All of my control I wanna be the driver The one ridin’ in the trunk With the rope around my feet and my hand And a gag in my mouth Don’t wanna be kidnapped by What? Who? Where? I wanna move through time With me on my mind I wanna be the driver I wanna say to my selves \"Move like you should, assemble yourselves And do right for this body, this mind This soul, this spirit, this being\" I wanna live right I wanna live so right I don’t wanna go wrong And I see myself goin wrong So I’ve got to stop I’ve got to summon my powers I’ve got to drop off all the dead and dying I got to cauterize my wounds I got to stem the tide of the bad I got to say \"Stop, turn around Go back to from where you came\" I wanna be right, you bad go back Go back to from where you came Bad bad, go back, bad bad, go back I wanna be right I wanna be right I wanna control my body my soul my mind my spirit I wanna be in charge I wanna say it’s like this I wanna say it’s like that I don’t wanna be told Don’t wanna be told \"You gotta be like that You gotta be like this\" Cause it don’t help none I know why I know where I know how I know when I wanna be I know what I wanna be I know how I wanna be I know when I wanna be I know where I wanna be I wanna be right in my own mind If I can’t be right I’m gonna be gone I don’t wanna be gone I just wanna be, me, here, now Give me another chance Give one more chance And let me do right Once and for all All time eternally I wanna be right eternally I don’t have to be alone I can be alone I don’t have to be alone But I can be alone But I don’t have to be alone It doesn’t matter Right is right It comes from outside, not from the outside I wanna be right from the inside out I want you to see I want them to see I want to be right for everyone to see I wanna be right For me, for you, for them, for the elements For space, for time Please give me another chance Don’t let it be gone Don’t it be the end of being right I saw myself right I let it go, give it back Give me another chance, give it back I let it go, give it back Give me another chance I wanna live right I wanna live right I wanna be in charge of my life My death, my eternity I wanna be right And I’ll do anything I gotta summon my powers I gotta be myself I gotta have my will I gotta be myself I gotta get my strength I gotta conquer these foes I gotta beat up on bad I gotta elevate the good It’s so easy to see Bad and good, I can see I can see what’s bad and good I can look I can tell I can judge I can point my finger And say \"That’s bad, that’s good\" And deep inside I know I can’t be wrong If I’m right, give me another chance I wanna be right I wanna be right I wanna be right Give me another chance Give me another chance Give me another chance Cause I looked at myself And I saw bad I looked at myself and I said \"Oh, is it too late?\" Is it too late? Oh, please don’t let it be too late Don’t let it be too late Help me reverse this trend Help me stem this tide Help me put my hand down and say \"Stop, turn around Go back to from where you came\" Let me take the good Let me put it in myself Let me digest the good Let me emanate the good Let me be in control Don’t let this sickness take me over Don’t let these things get me down Don’t let these things take effect Don’t let em change me And I don’t mind if I change But let it be good Let me change to the good Every time I change Every second I move Every time I turn around Kill the bad, kill em Kill the bad Kill the bad Generate the good in me Kill the bad things I got inside me Let them die They don’t deserve, let em die Just kill em It ain’t like killin’ no It’s annihilation, extermination Elimination elimination Eliminate the bad Cast the bad Eliminate the bad I want to be good I wanna be right There’s only one judge of that I know I wanna be right I gotta see myself right I got to see myself If I’m not right, why not? Cause I did bad Yeah, I did bad And I’ll tell you this Bad is different for everyone that is different And that’s everyone and everything So your bad’s not my bad But I got bad and you bad Unless I don’t know you like I know me But I know me, and I got bad, and I got wrong And I don’t like it And I want to eliminate it I want it gone before I’m gone I want bad to be gone before I’m gone I don’t want to be gone I want bad to be gone so I can be I don’t be right I wanna be right Give me another chance Give me another chance I won’t let you down, not this time Three strikes and you’re out And I had one And I hit a home run But I stopped after first base And hey, they They pushed me, they They pushed and pulled But they couldn’t pull me any farther than that Must of been fear I think it was fear Cause I had it made I had the whole home run But I missed it Second time up I hardly even swung I didn’t even try I quit trying I knew what I should be doin Every once in a while I’d touch my little toe in the water But I never did jump in I never did dive in to that water And that’s what I know I gotta do now Cause if I don’t do it now I’m gone Because wrong is at the point It’s at the point of smothering me Smoldering me, drowning me Putting me out And I need to burn my flame I need to ignite I need to spark I need to beam I need to shine my light Give me another chance to shine my light I don’t want to go down I don’t have to go down Not if I got some will And I got some power And I got some strength And I got some control And I’m the driver And I’m in charge I can do it I can do it Hey, I got to do it If I don’t do it, I’m done It’s either do or be done I’m not over yet I’m not over I’m never gonna be over I’m never gonna end I shall not end I’m not gonna be gone I’m gonna be forever Eternally I shall be And I’m not saying That I always was I’m saying I shall always be And I make this decision now I shall be I want to do right And there is no eye in this universe That can tell me What right is, because I know what right is And I know what wrong is By this time I know Give me another chance Give me another chance I surely need your help I surely need your help To conquer death To conquer evil To conquer bad I wanna be in charge I wanna control my destiny I wanna live up to my standards I know it can be done It came sharp and quick And you helped me And I conquered all Now it’s come slow and soft And I need your help For the last time Cause if it’s not this time I believe it’s never And I can’t face that I don’t have to face that I demand your assistance It only takes one word And that word is yes Give me your yes And I’ll give you mine I gave you mine I forgot it, and I’m sorry But you hit me hard'"
      ]
     },
     "execution_count": 121,
     "metadata": {},
     "output_type": "execute_result"
    }
   ],
   "source": [
    "lyricsdf.iloc[1242].lyrics"
   ]
  },
  {
   "cell_type": "markdown",
   "metadata": {},
   "source": [
    "This is actually pretty long.  (It's a 30-minute video on [YouTube](https://www.youtube.com/watch?v=nbn1Ei7Jfkc)!"
   ]
  },
  {
   "cell_type": "code",
   "execution_count": 128,
   "metadata": {},
   "outputs": [
    {
     "data": {
      "text/html": [
       "<div>\n",
       "<style scoped>\n",
       "    .dataframe tbody tr th:only-of-type {\n",
       "        vertical-align: middle;\n",
       "    }\n",
       "\n",
       "    .dataframe tbody tr th {\n",
       "        vertical-align: top;\n",
       "    }\n",
       "\n",
       "    .dataframe thead th {\n",
       "        text-align: right;\n",
       "    }\n",
       "</style>\n",
       "<table border=\"1\" class=\"dataframe\">\n",
       "  <thead>\n",
       "    <tr style=\"text-align: right;\">\n",
       "      <th></th>\n",
       "      <th>percent_non_english</th>\n",
       "      <th>token_ct</th>\n",
       "      <th>type_ct</th>\n",
       "      <th>TTR</th>\n",
       "    </tr>\n",
       "  </thead>\n",
       "  <tbody>\n",
       "    <tr>\n",
       "      <td>count</td>\n",
       "      <td>3297.000000</td>\n",
       "      <td>3297.000000</td>\n",
       "      <td>3297.000000</td>\n",
       "      <td>3297.000000</td>\n",
       "    </tr>\n",
       "    <tr>\n",
       "      <td>mean</td>\n",
       "      <td>0.011493</td>\n",
       "      <td>212.114346</td>\n",
       "      <td>79.261753</td>\n",
       "      <td>0.430361</td>\n",
       "    </tr>\n",
       "    <tr>\n",
       "      <td>std</td>\n",
       "      <td>0.011190</td>\n",
       "      <td>160.853562</td>\n",
       "      <td>48.009737</td>\n",
       "      <td>0.157703</td>\n",
       "    </tr>\n",
       "    <tr>\n",
       "      <td>min</td>\n",
       "      <td>0.000000</td>\n",
       "      <td>1.000000</td>\n",
       "      <td>1.000000</td>\n",
       "      <td>0.033708</td>\n",
       "    </tr>\n",
       "    <tr>\n",
       "      <td>25%</td>\n",
       "      <td>0.004184</td>\n",
       "      <td>117.000000</td>\n",
       "      <td>50.000000</td>\n",
       "      <td>0.321121</td>\n",
       "    </tr>\n",
       "    <tr>\n",
       "      <td>50%</td>\n",
       "      <td>0.009524</td>\n",
       "      <td>172.000000</td>\n",
       "      <td>70.000000</td>\n",
       "      <td>0.414474</td>\n",
       "    </tr>\n",
       "    <tr>\n",
       "      <td>75%</td>\n",
       "      <td>0.016083</td>\n",
       "      <td>262.000000</td>\n",
       "      <td>98.000000</td>\n",
       "      <td>0.512821</td>\n",
       "    </tr>\n",
       "    <tr>\n",
       "      <td>max</td>\n",
       "      <td>0.159120</td>\n",
       "      <td>2155.000000</td>\n",
       "      <td>464.000000</td>\n",
       "      <td>1.000000</td>\n",
       "    </tr>\n",
       "  </tbody>\n",
       "</table>\n",
       "</div>"
      ],
      "text/plain": [
       "       percent_non_english     token_ct      type_ct          TTR\n",
       "count          3297.000000  3297.000000  3297.000000  3297.000000\n",
       "mean              0.011493   212.114346    79.261753     0.430361\n",
       "std               0.011190   160.853562    48.009737     0.157703\n",
       "min               0.000000     1.000000     1.000000     0.033708\n",
       "25%               0.004184   117.000000    50.000000     0.321121\n",
       "50%               0.009524   172.000000    70.000000     0.414474\n",
       "75%               0.016083   262.000000    98.000000     0.512821\n",
       "max               0.159120  2155.000000   464.000000     1.000000"
      ]
     },
     "execution_count": 128,
     "metadata": {},
     "output_type": "execute_result"
    }
   ],
   "source": [
    "lyricsdf.describe()"
   ]
  },
  {
   "cell_type": "code",
   "execution_count": 134,
   "metadata": {},
   "outputs": [
    {
     "data": {
      "text/plain": [
       "Wesley Willis       561\n",
       "Jandek              351\n",
       "Daniel Johnston     315\n",
       "Viper               261\n",
       "Brian Wilson        237\n",
       "John Frusciante     212\n",
       "Ariel Pink          145\n",
       "R. Stevie Moore     109\n",
       "John Maus            97\n",
       "Syd Barrett          92\n",
       "Moondog              86\n",
       "Gary Wilson          85\n",
       "Roky Erickson        81\n",
       "IceJJFish            57\n",
       "Wild Man Fischer     54\n",
       "William Shatner      50\n",
       "Hasil Adkins         47\n",
       "The Red Krayola      41\n",
       "William Hung         40\n",
       "Tonetta              31\n",
       "Name: artist, dtype: int64"
      ]
     },
     "execution_count": 134,
     "metadata": {},
     "output_type": "execute_result"
    }
   ],
   "source": [
    "lyricsdf.artist.value_counts()[:20]"
   ]
  },
  {
   "cell_type": "code",
   "execution_count": 156,
   "metadata": {},
   "outputs": [
    {
     "ename": "AttributeError",
     "evalue": "'Series' object has no attribute 'concat'",
     "output_type": "error",
     "traceback": [
      "\u001b[1;31m---------------------------------------------------------------------------\u001b[0m",
      "\u001b[1;31mAttributeError\u001b[0m                            Traceback (most recent call last)",
      "\u001b[1;32m<ipython-input-156-6d6b55731e95>\u001b[0m in \u001b[0;36m<module>\u001b[1;34m\u001b[0m\n\u001b[0;32m      6\u001b[0m     \u001b[0msum\u001b[0m \u001b[1;33m=\u001b[0m \u001b[0msum\u001b[0m \u001b[1;33m+\u001b[0m\u001b[0my\u001b[0m\u001b[1;33m\u001b[0m\u001b[1;33m\u001b[0m\u001b[0m\n\u001b[0;32m      7\u001b[0m \u001b[0msum\u001b[0m\u001b[1;33m\u001b[0m\u001b[1;33m\u001b[0m\u001b[0m\n\u001b[1;32m----> 8\u001b[1;33m \u001b[0martists_to_plot\u001b[0m\u001b[1;33m.\u001b[0m\u001b[0mconcat\u001b[0m\u001b[1;33m(\u001b[0m\u001b[0mpandas\u001b[0m\u001b[1;33m.\u001b[0m\u001b[0mSeries\u001b[0m\u001b[1;33m(\u001b[0m\u001b[0msum\u001b[0m\u001b[1;33m)\u001b[0m\u001b[1;33m)\u001b[0m\u001b[1;33m\u001b[0m\u001b[1;33m\u001b[0m\u001b[0m\n\u001b[0m",
      "\u001b[1;32m~\\Anaconda3\\lib\\site-packages\\pandas\\core\\generic.py\u001b[0m in \u001b[0;36m__getattr__\u001b[1;34m(self, name)\u001b[0m\n\u001b[0;32m   5177\u001b[0m             \u001b[1;32mif\u001b[0m \u001b[0mself\u001b[0m\u001b[1;33m.\u001b[0m\u001b[0m_info_axis\u001b[0m\u001b[1;33m.\u001b[0m\u001b[0m_can_hold_identifiers_and_holds_name\u001b[0m\u001b[1;33m(\u001b[0m\u001b[0mname\u001b[0m\u001b[1;33m)\u001b[0m\u001b[1;33m:\u001b[0m\u001b[1;33m\u001b[0m\u001b[1;33m\u001b[0m\u001b[0m\n\u001b[0;32m   5178\u001b[0m                 \u001b[1;32mreturn\u001b[0m \u001b[0mself\u001b[0m\u001b[1;33m[\u001b[0m\u001b[0mname\u001b[0m\u001b[1;33m]\u001b[0m\u001b[1;33m\u001b[0m\u001b[1;33m\u001b[0m\u001b[0m\n\u001b[1;32m-> 5179\u001b[1;33m             \u001b[1;32mreturn\u001b[0m \u001b[0mobject\u001b[0m\u001b[1;33m.\u001b[0m\u001b[0m__getattribute__\u001b[0m\u001b[1;33m(\u001b[0m\u001b[0mself\u001b[0m\u001b[1;33m,\u001b[0m \u001b[0mname\u001b[0m\u001b[1;33m)\u001b[0m\u001b[1;33m\u001b[0m\u001b[1;33m\u001b[0m\u001b[0m\n\u001b[0m\u001b[0;32m   5180\u001b[0m \u001b[1;33m\u001b[0m\u001b[0m\n\u001b[0;32m   5181\u001b[0m     \u001b[1;32mdef\u001b[0m \u001b[0m__setattr__\u001b[0m\u001b[1;33m(\u001b[0m\u001b[0mself\u001b[0m\u001b[1;33m,\u001b[0m \u001b[0mname\u001b[0m\u001b[1;33m,\u001b[0m \u001b[0mvalue\u001b[0m\u001b[1;33m)\u001b[0m\u001b[1;33m:\u001b[0m\u001b[1;33m\u001b[0m\u001b[1;33m\u001b[0m\u001b[0m\n",
      "\u001b[1;31mAttributeError\u001b[0m: 'Series' object has no attribute 'concat'"
     ]
    }
   ],
   "source": [
    "artists_to_plot = lyricsdf.artist.value_counts()[:35]\n",
    "few_artist = lyricsdf.artist.value_counts()[35:]\n",
    "\n",
    "sum = 0\n",
    "for y in few_artist:\n",
    "    sum = sum +y\n",
    "sum\n",
    "artists_to_plot.concat(pandas.Series(sum))"
   ]
  },
  {
   "cell_type": "markdown",
   "metadata": {},
   "source": [
    "After cleaning up the data, Wesley Willis is still at the top of the artist-count list, followed by 7 artists with song volumes of the same magnitude (in the 100s)."
   ]
  }
 ],
 "metadata": {
  "kernelspec": {
   "display_name": "Python 3",
   "language": "python",
   "name": "python3"
  },
  "language_info": {
   "codemirror_mode": {
    "name": "ipython",
    "version": 3
   },
   "file_extension": ".py",
   "mimetype": "text/x-python",
   "name": "python",
   "nbconvert_exporter": "python",
   "pygments_lexer": "ipython3",
   "version": "3.7.4"
  }
 },
 "nbformat": 4,
 "nbformat_minor": 2
}
