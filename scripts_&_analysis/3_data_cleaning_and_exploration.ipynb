{
 "cells": [
  {
   "cell_type": "markdown",
   "metadata": {},
   "source": [
    "# Data Cleaning and Exploration\n",
    "Emma McKibbin | ECM68@pitt.edu    \n",
    "Spring 2022"
   ]
  },
  {
   "cell_type": "markdown",
   "metadata": {},
   "source": [
    "## Table of Contents:\n",
    "1. [Important Information](https://nbviewer.org/github/Data-Science-for-Linguists-2022/Outsider-Music-Linguistic-Analysis/blob/main/scripts_%26_analysis/3_data_cleaning_and_exploration.ipynb#Important-Information)\n",
    "2. [Unpickle the Data](https://nbviewer.org/github/Data-Science-for-Linguists-2022/Outsider-Music-Linguistic-Analysis/blob/main/scripts_%26_analysis/3_data_cleaning_and_exploration.ipynb#Unpickle-the-Data)    \n",
    "3. [Initial Data Exploration](https://nbviewer.org/github/Data-Science-for-Linguists-2022/Outsider-Music-Linguistic-Analysis/blob/main/scripts_%26_analysis/3_data_cleaning_and_exploration.ipynb#Initial-Data-Exploration)    \n",
    "4. [Data Cleaning](https://nbviewer.org/github/Data-Science-for-Linguists-2022/Outsider-Music-Linguistic-Analysis/blob/main/scripts_%26_analysis/3_data_cleaning_and_exploration.ipynb#Data-Cleaning)\n",
    "5. [Analysis of Outsider Music](https://nbviewer.org/github/Data-Science-for-Linguists-2022/Outsider-Music-Linguistic-Analysis/blob/main/scripts_%26_analysis/3_data_cleaning_and_exploration.ipynb#Analysis-of-Outsider-Music)\n",
    "6. [Analysis of Popular Music](https://nbviewer.org/github/Data-Science-for-Linguists-2022/Outsider-Music-Linguistic-Analysis/blob/main/scripts_%26_analysis/3_data_cleaning_and_exploration.ipynb#Analysis-of-Popular-Music)\n",
    "7. [Breakdown by Most Represented Outsider Musicians](https://nbviewer.org/github/Data-Science-for-Linguists-2022/Outsider-Music-Linguistic-Analysis/blob/main/scripts_%26_analysis/3_data_cleaning_and_exploration.ipynb#Breakdown-by-Most-Represented-Outsider-Musicians)\n",
    "\n",
    "If some output in this Jupyter notebook doesn't appear, check it out in this [nbviewer](https://nbviewer.org/github/Data-Science-for-Linguists-2022/Outsider-Music-Linguistic-Analysis/blob/main/scripts_%26_analysis/3_data_cleaning_and_exploration.ipynb)."
   ]
  },
  {
   "cell_type": "markdown",
   "metadata": {},
   "source": [
    "## Important Information\n",
    "### Prior to the Creation of this Script:\n",
    "I have scraped the list of musicians from Wikipedia using [0_wiki_musicians.py](https://github.com/Data-Science-for-Linguists-2022/Outsider-Music-Linguistic-Analysis/blob/main/scripts_%26_analysis/0_wiki_musicians.py).  I manually cleaned the text file ([0_wiki_musicians.txt](https://github.com/Data-Science-for-Linguists-2022/Outsider-Music-Linguistic-Analysis/blob/main/scripts_%26_analysis/0_wiki_musicians.txt)) to remove double quotations (\"\") and parentheticals like \"(performer),\" \"(musician),\" and \"(singer),\" since it was manageable with just 111 artists.\n",
    "\n",
    "I then retrieved lyrics from these artists from Genius.com using [1_lyricsgenius_requests.ipynb](https://github.com/Data-Science-for-Linguists-2022/Outsider-Music-Linguistic-Analysis/blob/main/scripts_%26_analysis/1_lyricsgenius_requests.ipynb), where 70+ artist-queries successfully returned JSON files.\n",
    "\n",
    "Lastly, I created and pickled the lyrics data frame (or rough_df.pkl, not uploaded in the repo) in the [2_load_json_to_df.ipynb](https://github.com/Data-Science-for-Linguists-2022/Outsider-Music-Linguistic-Analysis/blob/main/scripts_%26_analysis/2_load_json_to_df.ipynb) script, where an additional 8 artists could not be successfully loaded, due to entirely null lyrical entries.  This pickled data frame remains in my local repository.\n",
    "\n",
    "The steps above were broken into multiple scripts to avoid re-running time-intensive queries.\n",
    "\n",
    "Anyone interested in recreating the dataset should start with the `lyricsgenius` requests using the musician list.\n",
    "\n",
    "### Progress Report Info:\n",
    "This script corresponds to the end of [Progress Report 1](https://github.com/Data-Science-for-Linguists-2022/Outsider-Music-Linguistic-Analysis/blob/main/progress_report.md#1st-progress-report) onward."
   ]
  },
  {
   "cell_type": "markdown",
   "metadata": {},
   "source": [
    "## Unpickle the Data\n",
    "The JSON files were loaded into a dataframe in [2_load_json_to_df.ipynb](https://github.com/Data-Science-for-Linguists-2022/Outsider-Music-Linguistic-Analysis/blob/main/scripts_%26_analysis/2_load_json_to_df.ipynb).  Let's load up the pickled dataframe:"
   ]
  },
  {
   "cell_type": "code",
   "execution_count": 1,
   "metadata": {},
   "outputs": [],
   "source": [
    "import pickle\n",
    "f = open('../data/rough_df.pkl', 'rb')\n",
    "lyricsdf = pickle.load(f)\n",
    "f.close()"
   ]
  },
  {
   "cell_type": "code",
   "execution_count": 2,
   "metadata": {},
   "outputs": [
    {
     "data": {
      "text/html": [
       "<div>\n",
       "<style scoped>\n",
       "    .dataframe tbody tr th:only-of-type {\n",
       "        vertical-align: middle;\n",
       "    }\n",
       "\n",
       "    .dataframe tbody tr th {\n",
       "        vertical-align: top;\n",
       "    }\n",
       "\n",
       "    .dataframe thead th {\n",
       "        text-align: right;\n",
       "    }\n",
       "</style>\n",
       "<table border=\"1\" class=\"dataframe\">\n",
       "  <thead>\n",
       "    <tr style=\"text-align: right;\">\n",
       "      <th></th>\n",
       "      <th>artist</th>\n",
       "      <th>title</th>\n",
       "      <th>lyrics</th>\n",
       "    </tr>\n",
       "  </thead>\n",
       "  <tbody>\n",
       "    <tr>\n",
       "      <td>0</td>\n",
       "      <td>Abner Jay</td>\n",
       "      <td>Bring It When You Come</td>\n",
       "      <td>Bring It When You Come Lyrics\\nTerrible things...</td>\n",
       "    </tr>\n",
       "    <tr>\n",
       "      <td>1</td>\n",
       "      <td>Abner Jay</td>\n",
       "      <td>Cocaine</td>\n",
       "      <td>Cocaine Lyrics\\nFolk music is high-class music...</td>\n",
       "    </tr>\n",
       "    <tr>\n",
       "      <td>2</td>\n",
       "      <td>Abner Jay</td>\n",
       "      <td>Cocaine Blues</td>\n",
       "      <td>Cocaine Blues LyricsCocaine, Cocaine\\nRunning ...</td>\n",
       "    </tr>\n",
       "    <tr>\n",
       "      <td>3</td>\n",
       "      <td>Abner Jay</td>\n",
       "      <td>Don’t Mess with Me Baby</td>\n",
       "      <td>Don’t Mess with Me Baby Lyrics\\nTerrible thing...</td>\n",
       "    </tr>\n",
       "    <tr>\n",
       "      <td>4</td>\n",
       "      <td>Abner Jay</td>\n",
       "      <td>I cried</td>\n",
       "      <td>I cried LyricsI, I cried\\nI cried in the ni-ig...</td>\n",
       "    </tr>\n",
       "  </tbody>\n",
       "</table>\n",
       "</div>"
      ],
      "text/plain": [
       "      artist                    title  \\\n",
       "0  Abner Jay   Bring It When You Come   \n",
       "1  Abner Jay                  Cocaine   \n",
       "2  Abner Jay            Cocaine Blues   \n",
       "3  Abner Jay  Don’t Mess with Me Baby   \n",
       "4  Abner Jay                  I cried   \n",
       "\n",
       "                                              lyrics  \n",
       "0  Bring It When You Come Lyrics\\nTerrible things...  \n",
       "1  Cocaine Lyrics\\nFolk music is high-class music...  \n",
       "2  Cocaine Blues LyricsCocaine, Cocaine\\nRunning ...  \n",
       "3  Don’t Mess with Me Baby Lyrics\\nTerrible thing...  \n",
       "4  I cried LyricsI, I cried\\nI cried in the ni-ig...  "
      ]
     },
     "execution_count": 2,
     "metadata": {},
     "output_type": "execute_result"
    }
   ],
   "source": [
    "lyricsdf.head()"
   ]
  },
  {
   "cell_type": "markdown",
   "metadata": {},
   "source": [
    "## Initial Data Exploration\n",
    "**Before cleaning**, I'd like to see the status of the data: \n",
    "- how many artists are there,\n",
    "- how many songs,\n",
    "- how many lyrics are empty strings,\n",
    "- how many are duplicates,\n",
    "- and what is the artist distribution like?"
   ]
  },
  {
   "cell_type": "code",
   "execution_count": 3,
   "metadata": {},
   "outputs": [],
   "source": [
    "import nltk\n",
    "import pandas as pd\n",
    "import numpy as np\n",
    "import matplotlib.pyplot as plt\n",
    "import re"
   ]
  },
  {
   "cell_type": "code",
   "execution_count": 4,
   "metadata": {},
   "outputs": [
    {
     "data": {
      "text/html": [
       "<div>\n",
       "<style scoped>\n",
       "    .dataframe tbody tr th:only-of-type {\n",
       "        vertical-align: middle;\n",
       "    }\n",
       "\n",
       "    .dataframe tbody tr th {\n",
       "        vertical-align: top;\n",
       "    }\n",
       "\n",
       "    .dataframe thead th {\n",
       "        text-align: right;\n",
       "    }\n",
       "</style>\n",
       "<table border=\"1\" class=\"dataframe\">\n",
       "  <thead>\n",
       "    <tr style=\"text-align: right;\">\n",
       "      <th></th>\n",
       "      <th>artist</th>\n",
       "      <th>title</th>\n",
       "      <th>lyrics</th>\n",
       "    </tr>\n",
       "  </thead>\n",
       "  <tbody>\n",
       "    <tr>\n",
       "      <td>count</td>\n",
       "      <td>3388</td>\n",
       "      <td>3388</td>\n",
       "      <td>3388</td>\n",
       "    </tr>\n",
       "    <tr>\n",
       "      <td>unique</td>\n",
       "      <td>63</td>\n",
       "      <td>3359</td>\n",
       "      <td>3187</td>\n",
       "    </tr>\n",
       "    <tr>\n",
       "      <td>top</td>\n",
       "      <td>Wesley Willis</td>\n",
       "      <td>Lullaby</td>\n",
       "      <td></td>\n",
       "    </tr>\n",
       "    <tr>\n",
       "      <td>freq</td>\n",
       "      <td>561</td>\n",
       "      <td>3</td>\n",
       "      <td>202</td>\n",
       "    </tr>\n",
       "  </tbody>\n",
       "</table>\n",
       "</div>"
      ],
      "text/plain": [
       "               artist    title lyrics\n",
       "count            3388     3388   3388\n",
       "unique             63     3359   3187\n",
       "top     Wesley Willis  Lullaby       \n",
       "freq              561        3    202"
      ]
     },
     "execution_count": 4,
     "metadata": {},
     "output_type": "execute_result"
    }
   ],
   "source": [
    "lyricsdf.describe()"
   ]
  },
  {
   "cell_type": "markdown",
   "metadata": {},
   "source": [
    "It looks like there are 3,388 lyric entries, with 63 unique artists.\n",
    "\n",
    "201 lyric entries are not unique.  It's very likely that these represent missing lyrics, which should be excluded from the dataset."
   ]
  },
  {
   "cell_type": "code",
   "execution_count": 5,
   "metadata": {},
   "outputs": [
    {
     "data": {
      "text/plain": [
       "False    3186\n",
       "True      202\n",
       "Name: lyrics, dtype: int64"
      ]
     },
     "execution_count": 5,
     "metadata": {},
     "output_type": "execute_result"
    }
   ],
   "source": [
    "# Find duplicates\n",
    "lyricsdf.lyrics.duplicated(keep=False).value_counts()"
   ]
  },
  {
   "cell_type": "code",
   "execution_count": 6,
   "metadata": {},
   "outputs": [
    {
     "data": {
      "text/plain": [
       "202"
      ]
     },
     "execution_count": 6,
     "metadata": {},
     "output_type": "execute_result"
    }
   ],
   "source": [
    "# How many are empty strings?\n",
    "len(lyricsdf[lyricsdf.lyrics == \"\"])"
   ]
  },
  {
   "cell_type": "markdown",
   "metadata": {},
   "source": [
    "All of the duplicate lyrics entries (202 of them) are empty strings."
   ]
  },
  {
   "cell_type": "code",
   "execution_count": 7,
   "metadata": {},
   "outputs": [
    {
     "data": {
      "text/html": [
       "<div>\n",
       "<style scoped>\n",
       "    .dataframe tbody tr th:only-of-type {\n",
       "        vertical-align: middle;\n",
       "    }\n",
       "\n",
       "    .dataframe tbody tr th {\n",
       "        vertical-align: top;\n",
       "    }\n",
       "\n",
       "    .dataframe thead th {\n",
       "        text-align: right;\n",
       "    }\n",
       "</style>\n",
       "<table border=\"1\" class=\"dataframe\">\n",
       "  <thead>\n",
       "    <tr style=\"text-align: right;\">\n",
       "      <th></th>\n",
       "      <th>artist</th>\n",
       "      <th>title</th>\n",
       "      <th>lyrics</th>\n",
       "    </tr>\n",
       "  </thead>\n",
       "  <tbody>\n",
       "    <tr>\n",
       "      <td>count</td>\n",
       "      <td>3388</td>\n",
       "      <td>3388</td>\n",
       "      <td>3388</td>\n",
       "    </tr>\n",
       "    <tr>\n",
       "      <td>unique</td>\n",
       "      <td>63</td>\n",
       "      <td>3359</td>\n",
       "      <td>3187</td>\n",
       "    </tr>\n",
       "    <tr>\n",
       "      <td>top</td>\n",
       "      <td>Wesley Willis</td>\n",
       "      <td>Lullaby</td>\n",
       "      <td></td>\n",
       "    </tr>\n",
       "    <tr>\n",
       "      <td>freq</td>\n",
       "      <td>561</td>\n",
       "      <td>3</td>\n",
       "      <td>202</td>\n",
       "    </tr>\n",
       "  </tbody>\n",
       "</table>\n",
       "</div>"
      ],
      "text/plain": [
       "               artist    title lyrics\n",
       "count            3388     3388   3388\n",
       "unique             63     3359   3187\n",
       "top     Wesley Willis  Lullaby       \n",
       "freq              561        3    202"
      ]
     },
     "execution_count": 7,
     "metadata": {},
     "output_type": "execute_result"
    }
   ],
   "source": [
    "lyricsdf.describe()"
   ]
  },
  {
   "cell_type": "code",
   "execution_count": 8,
   "metadata": {},
   "outputs": [
    {
     "data": {
      "text/plain": [
       "Wesley Willis        561\n",
       "Jandek               351\n",
       "Daniel Johnston      316\n",
       "Viper                261\n",
       "Brian Wilson         237\n",
       "                    ... \n",
       "Paul Hawkins           1\n",
       "Dr. Demento            1\n",
       "Mrs. Miller            1\n",
       "Lucia Pamela           1\n",
       "Damião Experiença      1\n",
       "Name: artist, Length: 63, dtype: int64"
      ]
     },
     "execution_count": 8,
     "metadata": {},
     "output_type": "execute_result"
    }
   ],
   "source": [
    "lyricsdf.artist.value_counts()"
   ]
  },
  {
   "cell_type": "markdown",
   "metadata": {},
   "source": [
    "A good portion of the data is made up of Wesley Willis music (561 songs), while it appears that many artists may only have 1 or 2 songs in the list.  This skew may prove problematic for the ensuing analysis.  Note that the first 6-7 artists have similar magnitudes of lyrics represented in the dataset (in the 100s), so there is a chance the analysis will be equally representative of those musicians, while leaving less represented musicians largely unrepresented in the final results.\n",
    "\n",
    "SPOILER: This distribution is, indeed, problematic.  Wesley Willis's idiosyncracies only exacerbate the distribution issue, since most of his lyrics follow the same format, include a lot of repetition, and use a few less common words extremely frequently."
   ]
  },
  {
   "cell_type": "code",
   "execution_count": 9,
   "metadata": {},
   "outputs": [
    {
     "data": {
      "image/png": "[encoded data removed]",
      "text/plain": [
       "<Figure size 432x288 with 1 Axes>"
      ]
     },
     "metadata": {
      "needs_background": "light"
     },
     "output_type": "display_data"
    }
   ],
   "source": [
    "lyricsdf.artist.value_counts().plot(kind = \"box\", rot=0, title = \"Outsider Music Artist Distribution Before Cleaning\")\n",
    "plt.savefig('../images/outsider_artist_boxplt_dist.png')"
   ]
  },
  {
   "cell_type": "markdown",
   "metadata": {},
   "source": [
    "This box plot visualizes the current artist distribution. There are many artists with only 1 or so songs in the data, as shown by the incredibly cramped 2nd quartile.  But there are also a handful of outliers with hundreds of songs present in the data."
   ]
  },
  {
   "cell_type": "markdown",
   "metadata": {},
   "source": [
    "## Data Cleaning"
   ]
  },
  {
   "cell_type": "markdown",
   "metadata": {},
   "source": [
    "To begin, there are many artifacts remaining from the Genius lyrics website.\n",
    "- \"*Song Title* Lyrics\" at the beginning of all lyric data\n",
    "- Any number of digits followed by \"Embed\" at the end of all lyric data\n",
    "- \"Transcription in progress...\" instead of lyrics\n",
    "\n",
    "Indexing will be fixed, and formatting will also be cleaned.  \"\\n\" will be stripped from the ends of the lyric text, only after removing \"*Song Title* Lyrics\" since the number of \"\\n\" after this artifact is not consistent.  \"\\n\" within the lyric body will be replaced with spaces (\" \").\n",
    "\n",
    "First, we'll remove \"*Song Title* Lyrics\":"
   ]
  },
  {
   "cell_type": "code",
   "execution_count": 10,
   "metadata": {},
   "outputs": [
    {
     "data": {
      "text/html": [
       "<div>\n",
       "<style scoped>\n",
       "    .dataframe tbody tr th:only-of-type {\n",
       "        vertical-align: middle;\n",
       "    }\n",
       "\n",
       "    .dataframe tbody tr th {\n",
       "        vertical-align: top;\n",
       "    }\n",
       "\n",
       "    .dataframe thead th {\n",
       "        text-align: right;\n",
       "    }\n",
       "</style>\n",
       "<table border=\"1\" class=\"dataframe\">\n",
       "  <thead>\n",
       "    <tr style=\"text-align: right;\">\n",
       "      <th></th>\n",
       "      <th>artist</th>\n",
       "      <th>title</th>\n",
       "      <th>lyrics</th>\n",
       "    </tr>\n",
       "  </thead>\n",
       "  <tbody>\n",
       "    <tr>\n",
       "      <td>0</td>\n",
       "      <td>Abner Jay</td>\n",
       "      <td>Bring It When You Come</td>\n",
       "      <td>Bring It When You Come Lyrics\\nTerrible things...</td>\n",
       "    </tr>\n",
       "    <tr>\n",
       "      <td>1</td>\n",
       "      <td>Abner Jay</td>\n",
       "      <td>Cocaine</td>\n",
       "      <td>Cocaine Lyrics\\nFolk music is high-class music...</td>\n",
       "    </tr>\n",
       "    <tr>\n",
       "      <td>2</td>\n",
       "      <td>Abner Jay</td>\n",
       "      <td>Cocaine Blues</td>\n",
       "      <td>Cocaine Blues LyricsCocaine, Cocaine\\nRunning ...</td>\n",
       "    </tr>\n",
       "    <tr>\n",
       "      <td>3</td>\n",
       "      <td>Abner Jay</td>\n",
       "      <td>Don’t Mess with Me Baby</td>\n",
       "      <td>Don’t Mess with Me Baby Lyrics\\nTerrible thing...</td>\n",
       "    </tr>\n",
       "    <tr>\n",
       "      <td>4</td>\n",
       "      <td>Abner Jay</td>\n",
       "      <td>I cried</td>\n",
       "      <td>I cried LyricsI, I cried\\nI cried in the ni-ig...</td>\n",
       "    </tr>\n",
       "  </tbody>\n",
       "</table>\n",
       "</div>"
      ],
      "text/plain": [
       "      artist                    title  \\\n",
       "0  Abner Jay   Bring It When You Come   \n",
       "1  Abner Jay                  Cocaine   \n",
       "2  Abner Jay            Cocaine Blues   \n",
       "3  Abner Jay  Don’t Mess with Me Baby   \n",
       "4  Abner Jay                  I cried   \n",
       "\n",
       "                                              lyrics  \n",
       "0  Bring It When You Come Lyrics\\nTerrible things...  \n",
       "1  Cocaine Lyrics\\nFolk music is high-class music...  \n",
       "2  Cocaine Blues LyricsCocaine, Cocaine\\nRunning ...  \n",
       "3  Don’t Mess with Me Baby Lyrics\\nTerrible thing...  \n",
       "4  I cried LyricsI, I cried\\nI cried in the ni-ig...  "
      ]
     },
     "execution_count": 10,
     "metadata": {},
     "output_type": "execute_result"
    }
   ],
   "source": [
    "# see the lyrics column\n",
    "lyricsdf.head()"
   ]
  },
  {
   "cell_type": "code",
   "execution_count": 11,
   "metadata": {},
   "outputs": [],
   "source": [
    "# cycles through rows, removes the *Song Title* Lyrics from beginning\n",
    "def removeTitle(df):\n",
    "    i = 0\n",
    "    while i != len(df):\n",
    "        row = df.iloc[i]\n",
    "        toRemove = row.title + \" Lyrics\"\n",
    "        row.lyrics = row.lyrics.replace(toRemove, \"\")\n",
    "        i = i+1"
   ]
  },
  {
   "cell_type": "code",
   "execution_count": 12,
   "metadata": {},
   "outputs": [
    {
     "data": {
      "text/html": [
       "<div>\n",
       "<style scoped>\n",
       "    .dataframe tbody tr th:only-of-type {\n",
       "        vertical-align: middle;\n",
       "    }\n",
       "\n",
       "    .dataframe tbody tr th {\n",
       "        vertical-align: top;\n",
       "    }\n",
       "\n",
       "    .dataframe thead th {\n",
       "        text-align: right;\n",
       "    }\n",
       "</style>\n",
       "<table border=\"1\" class=\"dataframe\">\n",
       "  <thead>\n",
       "    <tr style=\"text-align: right;\">\n",
       "      <th></th>\n",
       "      <th>artist</th>\n",
       "      <th>title</th>\n",
       "      <th>lyrics</th>\n",
       "    </tr>\n",
       "  </thead>\n",
       "  <tbody>\n",
       "    <tr>\n",
       "      <td>0</td>\n",
       "      <td>Abner Jay</td>\n",
       "      <td>Bring It When You Come</td>\n",
       "      <td>\\nTerrible things, always happening\\nJust like...</td>\n",
       "    </tr>\n",
       "    <tr>\n",
       "      <td>1</td>\n",
       "      <td>Abner Jay</td>\n",
       "      <td>Cocaine</td>\n",
       "      <td>\\nFolk music is high-class music. There's a lo...</td>\n",
       "    </tr>\n",
       "    <tr>\n",
       "      <td>2</td>\n",
       "      <td>Abner Jay</td>\n",
       "      <td>Cocaine Blues</td>\n",
       "      <td>Cocaine, Cocaine\\nRunning round my heart\\nAnd ...</td>\n",
       "    </tr>\n",
       "    <tr>\n",
       "      <td>3</td>\n",
       "      <td>Abner Jay</td>\n",
       "      <td>Don’t Mess with Me Baby</td>\n",
       "      <td>\\nTerrible things; that's what's getting all t...</td>\n",
       "    </tr>\n",
       "    <tr>\n",
       "      <td>4</td>\n",
       "      <td>Abner Jay</td>\n",
       "      <td>I cried</td>\n",
       "      <td>I, I cried\\nI cried in the ni-ight\\nOh please ...</td>\n",
       "    </tr>\n",
       "  </tbody>\n",
       "</table>\n",
       "</div>"
      ],
      "text/plain": [
       "      artist                    title  \\\n",
       "0  Abner Jay   Bring It When You Come   \n",
       "1  Abner Jay                  Cocaine   \n",
       "2  Abner Jay            Cocaine Blues   \n",
       "3  Abner Jay  Don’t Mess with Me Baby   \n",
       "4  Abner Jay                  I cried   \n",
       "\n",
       "                                              lyrics  \n",
       "0  \\nTerrible things, always happening\\nJust like...  \n",
       "1  \\nFolk music is high-class music. There's a lo...  \n",
       "2  Cocaine, Cocaine\\nRunning round my heart\\nAnd ...  \n",
       "3  \\nTerrible things; that's what's getting all t...  \n",
       "4  I, I cried\\nI cried in the ni-ight\\nOh please ...  "
      ]
     },
     "execution_count": 12,
     "metadata": {},
     "output_type": "execute_result"
    }
   ],
   "source": [
    "removeTitle(lyricsdf)\n",
    "lyricsdf.head()"
   ]
  },
  {
   "cell_type": "markdown",
   "metadata": {},
   "source": [
    "Then we'll strip whitespace from the beginning and end of the lyric data."
   ]
  },
  {
   "cell_type": "code",
   "execution_count": 19,
   "metadata": {},
   "outputs": [],
   "source": [
    "# strip whitespace from the beginning and end\n",
    "lyricsdf.lyrics = lyricsdf.lyrics.map(lambda x: x.strip(\"\\n\"))"
   ]
  },
  {
   "cell_type": "code",
   "execution_count": 20,
   "metadata": {},
   "outputs": [
    {
     "data": {
      "text/html": [
       "<div>\n",
       "<style scoped>\n",
       "    .dataframe tbody tr th:only-of-type {\n",
       "        vertical-align: middle;\n",
       "    }\n",
       "\n",
       "    .dataframe tbody tr th {\n",
       "        vertical-align: top;\n",
       "    }\n",
       "\n",
       "    .dataframe thead th {\n",
       "        text-align: right;\n",
       "    }\n",
       "</style>\n",
       "<table border=\"1\" class=\"dataframe\">\n",
       "  <thead>\n",
       "    <tr style=\"text-align: right;\">\n",
       "      <th></th>\n",
       "      <th>artist</th>\n",
       "      <th>title</th>\n",
       "      <th>lyrics</th>\n",
       "    </tr>\n",
       "  </thead>\n",
       "  <tbody>\n",
       "    <tr>\n",
       "      <td>0</td>\n",
       "      <td>Abner Jay</td>\n",
       "      <td>Bring It When You Come</td>\n",
       "      <td>Terrible things, always happening\\nJust like y...</td>\n",
       "    </tr>\n",
       "    <tr>\n",
       "      <td>1</td>\n",
       "      <td>Abner Jay</td>\n",
       "      <td>Cocaine</td>\n",
       "      <td>Folk music is high-class music. There's a lott...</td>\n",
       "    </tr>\n",
       "    <tr>\n",
       "      <td>2</td>\n",
       "      <td>Abner Jay</td>\n",
       "      <td>Cocaine Blues</td>\n",
       "      <td>Cocaine, Cocaine\\nRunning round my heart\\nAnd ...</td>\n",
       "    </tr>\n",
       "    <tr>\n",
       "      <td>3</td>\n",
       "      <td>Abner Jay</td>\n",
       "      <td>Don’t Mess with Me Baby</td>\n",
       "      <td>Terrible things; that's what's getting all the...</td>\n",
       "    </tr>\n",
       "    <tr>\n",
       "      <td>4</td>\n",
       "      <td>Abner Jay</td>\n",
       "      <td>I cried</td>\n",
       "      <td>I, I cried\\nI cried in the ni-ight\\nOh please ...</td>\n",
       "    </tr>\n",
       "  </tbody>\n",
       "</table>\n",
       "</div>"
      ],
      "text/plain": [
       "      artist                    title  \\\n",
       "0  Abner Jay   Bring It When You Come   \n",
       "1  Abner Jay                  Cocaine   \n",
       "2  Abner Jay            Cocaine Blues   \n",
       "3  Abner Jay  Don’t Mess with Me Baby   \n",
       "4  Abner Jay                  I cried   \n",
       "\n",
       "                                              lyrics  \n",
       "0  Terrible things, always happening\\nJust like y...  \n",
       "1  Folk music is high-class music. There's a lott...  \n",
       "2  Cocaine, Cocaine\\nRunning round my heart\\nAnd ...  \n",
       "3  Terrible things; that's what's getting all the...  \n",
       "4  I, I cried\\nI cried in the ni-ight\\nOh please ...  "
      ]
     },
     "execution_count": 20,
     "metadata": {},
     "output_type": "execute_result"
    }
   ],
   "source": [
    "lyricsdf.head()"
   ]
  },
  {
   "cell_type": "markdown",
   "metadata": {},
   "source": [
    ".loc[] appears to use indexes that reset for individual artists.  As shown below, .loc[46] will bring of the 46th song of **all artists** with 46 songs or more.  This feature probably won't be more useful than it will be confusing, so to simplify the indexing, we'll reset the indexes."
   ]
  },
  {
   "cell_type": "code",
   "execution_count": 43,
   "metadata": {
    "scrolled": true
   },
   "outputs": [
    {
     "data": {
      "text/plain": [
       "artist                                                 Ariel Pink\n",
       "title                                                Death Patrol\n",
       "lyrics          Come on the streets the death patrol Taking di...\n",
       "lyrics_lines    Come on the streets the death patrol Taking di...\n",
       "Name: 46, dtype: object"
      ]
     },
     "execution_count": 43,
     "metadata": {},
     "output_type": "execute_result"
    }
   ],
   "source": [
    "lyricsdf.loc[46].head()"
   ]
  },
  {
   "cell_type": "code",
   "execution_count": 22,
   "metadata": {},
   "outputs": [
    {
     "data": {
      "text/html": [
       "<div>\n",
       "<style scoped>\n",
       "    .dataframe tbody tr th:only-of-type {\n",
       "        vertical-align: middle;\n",
       "    }\n",
       "\n",
       "    .dataframe tbody tr th {\n",
       "        vertical-align: top;\n",
       "    }\n",
       "\n",
       "    .dataframe thead th {\n",
       "        text-align: right;\n",
       "    }\n",
       "</style>\n",
       "<table border=\"1\" class=\"dataframe\">\n",
       "  <thead>\n",
       "    <tr style=\"text-align: right;\">\n",
       "      <th></th>\n",
       "      <th>artist</th>\n",
       "      <th>title</th>\n",
       "      <th>lyrics</th>\n",
       "    </tr>\n",
       "  </thead>\n",
       "  <tbody>\n",
       "    <tr>\n",
       "      <td>0</td>\n",
       "      <td>Abner Jay</td>\n",
       "      <td>Bring It When You Come</td>\n",
       "      <td>Terrible things, always happening\\nJust like y...</td>\n",
       "    </tr>\n",
       "    <tr>\n",
       "      <td>1</td>\n",
       "      <td>Abner Jay</td>\n",
       "      <td>Cocaine</td>\n",
       "      <td>Folk music is high-class music. There's a lott...</td>\n",
       "    </tr>\n",
       "    <tr>\n",
       "      <td>2</td>\n",
       "      <td>Abner Jay</td>\n",
       "      <td>Cocaine Blues</td>\n",
       "      <td>Cocaine, Cocaine\\nRunning round my heart\\nAnd ...</td>\n",
       "    </tr>\n",
       "    <tr>\n",
       "      <td>3</td>\n",
       "      <td>Abner Jay</td>\n",
       "      <td>Don’t Mess with Me Baby</td>\n",
       "      <td>Terrible things; that's what's getting all the...</td>\n",
       "    </tr>\n",
       "    <tr>\n",
       "      <td>4</td>\n",
       "      <td>Abner Jay</td>\n",
       "      <td>I cried</td>\n",
       "      <td>I, I cried\\nI cried in the ni-ight\\nOh please ...</td>\n",
       "    </tr>\n",
       "  </tbody>\n",
       "</table>\n",
       "</div>"
      ],
      "text/plain": [
       "      artist                    title  \\\n",
       "0  Abner Jay   Bring It When You Come   \n",
       "1  Abner Jay                  Cocaine   \n",
       "2  Abner Jay            Cocaine Blues   \n",
       "3  Abner Jay  Don’t Mess with Me Baby   \n",
       "4  Abner Jay                  I cried   \n",
       "\n",
       "                                              lyrics  \n",
       "0  Terrible things, always happening\\nJust like y...  \n",
       "1  Folk music is high-class music. There's a lott...  \n",
       "2  Cocaine, Cocaine\\nRunning round my heart\\nAnd ...  \n",
       "3  Terrible things; that's what's getting all the...  \n",
       "4  I, I cried\\nI cried in the ni-ight\\nOh please ...  "
      ]
     },
     "execution_count": 22,
     "metadata": {},
     "output_type": "execute_result"
    }
   ],
   "source": [
    "# This makes sure everything has a unique index\n",
    "lyricsdf = lyricsdf.reset_index()\n",
    "lyricsdf = lyricsdf[['artist', 'title', 'lyrics']]\n",
    "lyricsdf.head()"
   ]
  },
  {
   "cell_type": "code",
   "execution_count": 23,
   "metadata": {},
   "outputs": [
    {
     "data": {
      "text/html": [
       "<div>\n",
       "<style scoped>\n",
       "    .dataframe tbody tr th:only-of-type {\n",
       "        vertical-align: middle;\n",
       "    }\n",
       "\n",
       "    .dataframe tbody tr th {\n",
       "        vertical-align: top;\n",
       "    }\n",
       "\n",
       "    .dataframe thead th {\n",
       "        text-align: right;\n",
       "    }\n",
       "</style>\n",
       "<table border=\"1\" class=\"dataframe\">\n",
       "  <thead>\n",
       "    <tr style=\"text-align: right;\">\n",
       "      <th></th>\n",
       "      <th>artist</th>\n",
       "      <th>title</th>\n",
       "      <th>lyrics</th>\n",
       "    </tr>\n",
       "  </thead>\n",
       "  <tbody>\n",
       "    <tr>\n",
       "      <td>3383</td>\n",
       "      <td>William Shatner</td>\n",
       "      <td>Together</td>\n",
       "      <td>He says Phoenix\\nPegasus\\nGrecian urn\\nMidwest...</td>\n",
       "    </tr>\n",
       "    <tr>\n",
       "      <td>3384</td>\n",
       "      <td>William Shatner</td>\n",
       "      <td>Twilight Zone</td>\n",
       "      <td>(Somewhere in a lonely hotel room\\nThere's a g...</td>\n",
       "    </tr>\n",
       "    <tr>\n",
       "      <td>3385</td>\n",
       "      <td>William Shatner</td>\n",
       "      <td>Walking on the Moon</td>\n",
       "      <td>Giant steps are what you take\\nI hope my legs ...</td>\n",
       "    </tr>\n",
       "    <tr>\n",
       "      <td>3386</td>\n",
       "      <td>William Shatner</td>\n",
       "      <td>What Have You Done</td>\n",
       "      <td>She was underwater\\nIn the shadows\\nWas it the...</td>\n",
       "    </tr>\n",
       "    <tr>\n",
       "      <td>3387</td>\n",
       "      <td>William Shatner</td>\n",
       "      <td>You’ll Have Time</td>\n",
       "      <td>Live life, live life like you're gonna die\\nBe...</td>\n",
       "    </tr>\n",
       "  </tbody>\n",
       "</table>\n",
       "</div>"
      ],
      "text/plain": [
       "               artist                title  \\\n",
       "3383  William Shatner             Together   \n",
       "3384  William Shatner        Twilight Zone   \n",
       "3385  William Shatner  Walking on the Moon   \n",
       "3386  William Shatner   What Have You Done   \n",
       "3387  William Shatner     You’ll Have Time   \n",
       "\n",
       "                                                 lyrics  \n",
       "3383  He says Phoenix\\nPegasus\\nGrecian urn\\nMidwest...  \n",
       "3384  (Somewhere in a lonely hotel room\\nThere's a g...  \n",
       "3385  Giant steps are what you take\\nI hope my legs ...  \n",
       "3386  She was underwater\\nIn the shadows\\nWas it the...  \n",
       "3387  Live life, live life like you're gonna die\\nBe...  "
      ]
     },
     "execution_count": 23,
     "metadata": {},
     "output_type": "execute_result"
    }
   ],
   "source": [
    "lyricsdf.tail()"
   ]
  },
  {
   "cell_type": "markdown",
   "metadata": {},
   "source": [
    "Next, we need to fix the \"Embed\" issue:"
   ]
  },
  {
   "cell_type": "code",
   "execution_count": 24,
   "metadata": {},
   "outputs": [
    {
     "data": {
      "text/plain": [
       "' airplane crash\\nCar wreck, a cap in your ass2Embed'"
      ]
     },
     "execution_count": 24,
     "metadata": {},
     "output_type": "execute_result"
    }
   ],
   "source": [
    "# William Shatner \"You'll Have Time\" ends in \"2Embed\"\n",
    "lyricsdf.iloc[-1].lyrics[-50:]"
   ]
  },
  {
   "cell_type": "code",
   "execution_count": 27,
   "metadata": {},
   "outputs": [
    {
     "name": "stdout",
     "output_type": "stream",
     "text": [
      "no dreams2Embed\n",
      " and  and Embed\n",
      "nd Let DieEmbed\n",
      "\n",
      "I like itEmbed\n",
      "I love youEmbed\n"
     ]
    }
   ],
   "source": [
    "# Randomly sample 5 song endings, check what \"Embed\"s look like\n",
    "embedtest = lyricsdf.lyrics.sample(5)\n",
    "for lyrics in embedtest:\n",
    "    print(lyrics[-15:])"
   ]
  },
  {
   "cell_type": "markdown",
   "metadata": {},
   "source": [
    "A few features of the \"Embed\" issue at the tail of the lyrics encountered through sampling:\n",
    "- No space before \"Embed\"\n",
    "- Occasionally (but rarely), there is a digit before (e.g., \"1Embed\")\n",
    "    - After checking some lyrics on the Genius site, I found that this number corresponds to the \"PYONG\"s on the lyrics.  This is sort of like a favoriting/sharing function, but for now, it's sort of unimportant.\n",
    "    \n",
    "Both the \"Embed\" and the preceding digit, if present, should be removed.  There is some risk that removing the digit will delete a digit at the end of the lyrics, but I judge that, in this case, losing a digit is preferable to including extraneous data.\n"
   ]
  },
  {
   "cell_type": "code",
   "execution_count": 28,
   "metadata": {},
   "outputs": [],
   "source": [
    "# Remove the nEmbed using a regex\n",
    "def removeEmbed(df):\n",
    "    i = 0\n",
    "    while i != len(df):\n",
    "        row = df.iloc[i]\n",
    "        embed = row.lyrics\n",
    "        row.lyrics = re.sub(r'\\d*Embed', \"\", embed)\n",
    "        #print(row.lyrics[-50:])\n",
    "        i = i+1"
   ]
  },
  {
   "cell_type": "code",
   "execution_count": 29,
   "metadata": {},
   "outputs": [],
   "source": [
    "removeEmbed(lyricsdf)"
   ]
  },
  {
   "cell_type": "code",
   "execution_count": 30,
   "metadata": {},
   "outputs": [
    {
     "name": "stdout",
     "output_type": "stream",
     "text": [
      "ak through this\n",
      "ve to hold you)\n",
      "e up here alone\n",
      " what do you do\n",
      "replace my soul\n"
     ]
    }
   ],
   "source": [
    "# Randomly sample 5 song endings, check that \"Embed\"s are gone\n",
    "embedtest = lyricsdf.lyrics.sample(5)\n",
    "for lyrics in embedtest:\n",
    "    print(lyrics[-15:])"
   ]
  },
  {
   "cell_type": "markdown",
   "metadata": {},
   "source": [
    "Let's set \"Transcription in progress ...\" lyric entries to empty strings so that they may be excluded from the final dataset in its cleaned form."
   ]
  },
  {
   "cell_type": "code",
   "execution_count": 32,
   "metadata": {},
   "outputs": [
    {
     "name": "stdout",
     "output_type": "stream",
     "text": [
      "['Transcription']\n",
      "['Transcription']\n",
      "['Transcription']\n",
      "['Transcription']\n",
      "['Transcription']\n",
      "['Transcription']\n"
     ]
    }
   ],
   "source": [
    "i=0\n",
    "while i != len(lyricsdf):\n",
    "    x = re.findall(r\"transcription\", lyricsdf.lyrics[i], re.IGNORECASE)\n",
    "    if x: print(x)\n",
    "    i = i+1"
   ]
  },
  {
   "cell_type": "code",
   "execution_count": 33,
   "metadata": {},
   "outputs": [],
   "source": [
    "# There are 6! and they all appear to say \"Transcription in progress\"\n",
    "i=0\n",
    "transcript_del = []\n",
    "while i != len(lyricsdf):\n",
    "    if \"Transcription in progress\" in lyricsdf.iloc[i].lyrics:\n",
    "        transcript_del.append(i)\n",
    "    i= i+1"
   ]
  },
  {
   "cell_type": "code",
   "execution_count": 34,
   "metadata": {},
   "outputs": [
    {
     "name": "stdout",
     "output_type": "stream",
     "text": [
      "Transcription in progress by Viper Crackposting admins\n",
      "Transcription in progress by Viper Crackposting admins\n",
      "Transcription in progress by Viper Crackposting admins\n",
      "Transcription in progress by Viper Crackposting admins\n",
      "Transcription in progress by Viper Crackposting admins\n",
      "Transcription in progress by Viper Crackposting admins\n"
     ]
    }
   ],
   "source": [
    "for i in transcript_del:\n",
    "    print(lyricsdf.iloc[i].lyrics)"
   ]
  },
  {
   "cell_type": "code",
   "execution_count": 35,
   "metadata": {},
   "outputs": [],
   "source": [
    "# They're all the same string, so:\n",
    "lyricsdf.lyrics = lyricsdf.lyrics.replace(\"Transcription in progress by Viper Crackposting admins\", None)"
   ]
  },
  {
   "cell_type": "code",
   "execution_count": 36,
   "metadata": {},
   "outputs": [],
   "source": [
    "i=0\n",
    "while i != len(lyricsdf):\n",
    "    x = re.findall(r\"Transcription\", lyricsdf.lyrics[i])\n",
    "    if x: print(x)\n",
    "    i = i+1"
   ]
  },
  {
   "cell_type": "code",
   "execution_count": 37,
   "metadata": {},
   "outputs": [
    {
     "data": {
      "text/html": [
       "<div>\n",
       "<style scoped>\n",
       "    .dataframe tbody tr th:only-of-type {\n",
       "        vertical-align: middle;\n",
       "    }\n",
       "\n",
       "    .dataframe tbody tr th {\n",
       "        vertical-align: top;\n",
       "    }\n",
       "\n",
       "    .dataframe thead th {\n",
       "        text-align: right;\n",
       "    }\n",
       "</style>\n",
       "<table border=\"1\" class=\"dataframe\">\n",
       "  <thead>\n",
       "    <tr style=\"text-align: right;\">\n",
       "      <th></th>\n",
       "      <th>artist</th>\n",
       "      <th>title</th>\n",
       "      <th>lyrics</th>\n",
       "      <th>lyrics_lines</th>\n",
       "    </tr>\n",
       "  </thead>\n",
       "  <tbody>\n",
       "    <tr>\n",
       "      <td>0</td>\n",
       "      <td>Abner Jay</td>\n",
       "      <td>Bring It When You Come</td>\n",
       "      <td>Terrible things, always happening Just like ye...</td>\n",
       "      <td>Terrible things, always happening Just like ye...</td>\n",
       "    </tr>\n",
       "    <tr>\n",
       "      <td>1</td>\n",
       "      <td>Abner Jay</td>\n",
       "      <td>Cocaine</td>\n",
       "      <td>Folk music is high-class music. There's a lott...</td>\n",
       "      <td>Folk music is high-class music. There's a lott...</td>\n",
       "    </tr>\n",
       "    <tr>\n",
       "      <td>2</td>\n",
       "      <td>Abner Jay</td>\n",
       "      <td>Cocaine Blues</td>\n",
       "      <td>Cocaine, Cocaine Running round my heart And th...</td>\n",
       "      <td>Cocaine, Cocaine Running round my heart And th...</td>\n",
       "    </tr>\n",
       "    <tr>\n",
       "      <td>3</td>\n",
       "      <td>Abner Jay</td>\n",
       "      <td>Don’t Mess with Me Baby</td>\n",
       "      <td>Terrible things; that's what's getting all the...</td>\n",
       "      <td>Terrible things; that's what's getting all the...</td>\n",
       "    </tr>\n",
       "    <tr>\n",
       "      <td>4</td>\n",
       "      <td>Abner Jay</td>\n",
       "      <td>I cried</td>\n",
       "      <td>I, I cried I cried in the ni-ight Oh please co...</td>\n",
       "      <td>I, I cried I cried in the ni-ight Oh please co...</td>\n",
       "    </tr>\n",
       "  </tbody>\n",
       "</table>\n",
       "</div>"
      ],
      "text/plain": [
       "      artist                    title  \\\n",
       "0  Abner Jay   Bring It When You Come   \n",
       "1  Abner Jay                  Cocaine   \n",
       "2  Abner Jay            Cocaine Blues   \n",
       "3  Abner Jay  Don’t Mess with Me Baby   \n",
       "4  Abner Jay                  I cried   \n",
       "\n",
       "                                              lyrics  \\\n",
       "0  Terrible things, always happening Just like ye...   \n",
       "1  Folk music is high-class music. There's a lott...   \n",
       "2  Cocaine, Cocaine Running round my heart And th...   \n",
       "3  Terrible things; that's what's getting all the...   \n",
       "4  I, I cried I cried in the ni-ight Oh please co...   \n",
       "\n",
       "                                        lyrics_lines  \n",
       "0  Terrible things, always happening Just like ye...  \n",
       "1  Folk music is high-class music. There's a lott...  \n",
       "2  Cocaine, Cocaine Running round my heart And th...  \n",
       "3  Terrible things; that's what's getting all the...  \n",
       "4  I, I cried I cried in the ni-ight Oh please co...  "
      ]
     },
     "execution_count": 37,
     "metadata": {},
     "output_type": "execute_result"
    }
   ],
   "source": [
    "# replaces newlines with spaces, but maintains the line-break data in a separate column\n",
    "lyricsdf[\"lyrics_lines\"] = lyricsdf.lyrics\n",
    "lyricsdf.lyrics = lyricsdf.lyrics.map(lambda x: x.replace(\"\\n\", \" \"))\n",
    "lyricsdf.head()"
   ]
  },
  {
   "cell_type": "code",
   "execution_count": 38,
   "metadata": {},
   "outputs": [
    {
     "name": "stdout",
     "output_type": "stream",
     "text": [
      "it with you, honey Bring it with you when you come\n",
      "heart And it runnin', oh it runnin' Round my brain\n",
      "nd then running Lord, it's running Round my brain \n",
      "with me baby And I declare, I declare I am through\n",
      "back tonight And then I'll kiss and hold you tight\n"
     ]
    }
   ],
   "source": [
    "# The end is looking pretty good, too! No Embed, no newlines\n",
    "for lyrics in lyricsdf.lyrics[:5]:\n",
    "    print(lyrics[-50:])"
   ]
  },
  {
   "cell_type": "markdown",
   "metadata": {},
   "source": [
    "### Language Detection\n",
    "I attempted 2 kinds of language detection, both of which had some influence on the final dataset but didn't quite achieve what I had anticipated.\n",
    "1. **Character Encoding-based Detection**    \n",
    "    If a character wasn't able to be decoded in ASCII, the song lyrics would be considered non-English.  This was attempted both categorically (any non-English character would identify the lyrics as non-English) and continuously (a certain percentage of characters would identify the lyrics as non-English), but neither was very conclusive in terms of language detection.    \n",
    "    However, this method was **useful for identifying formatting errors** that wouldn't have otherwise gone unnoticed, so this section remains in this final document.\n",
    "2. **SpaCy Language Detector**    \n",
    "    Since character-based detection wasn't effective, I tried using the pre-packaged detector models from spaCy.  Though this was able to guarantee a fully English dataset, it also tags many English lyrics as non-English languages, especially for very short, repetitive, or nonsense lyrics.  In the end, I was able to use this to definitively remove the Swedish and Japanese data, but any other non-English lyrics will remain in the dataset."
   ]
  },
  {
   "cell_type": "code",
   "execution_count": 44,
   "metadata": {},
   "outputs": [
    {
     "data": {
      "text/plain": [
       "'En dag när jag gick i en skog Så tappade jag mina byxor Jag märkte det ej Men jag mötte en tjej Och hon tittade så konstigt på mig Men så sa hon hej ... ... Och sen så gick jag hem'"
      ]
     },
     "execution_count": 44,
     "metadata": {},
     "output_type": "execute_result"
    }
   ],
   "source": [
    "# This is not English :)\n",
    "lyricsdf.iloc[1915].lyrics"
   ]
  },
  {
   "cell_type": "markdown",
   "metadata": {},
   "source": [
    "**Character Encoding-based Detection**    \n",
    "The code below was taken from this [stack overflow page](https://stackoverflow.com/questions/27084617/detect-strings-with-non-english-characters-in-python).  It should identify non-English characters not found in ASCII."
   ]
  },
  {
   "cell_type": "code",
   "execution_count": 46,
   "metadata": {},
   "outputs": [],
   "source": [
    "# Returns a boolean: False if the lyrics contain \"non-English\" characters\n",
    "def isEnglish(s):\n",
    "    try:\n",
    "        s.encode(encoding='utf-8').decode('ascii')\n",
    "    except UnicodeDecodeError:\n",
    "        return False\n",
    "    else:\n",
    "        return True"
   ]
  },
  {
   "cell_type": "code",
   "execution_count": 49,
   "metadata": {},
   "outputs": [
    {
     "data": {
      "text/plain": [
       "False"
      ]
     },
     "execution_count": 49,
     "metadata": {},
     "output_type": "execute_result"
    }
   ],
   "source": [
    "# Test on the Swedish lyrics (and it works!)\n",
    "isEnglish(lyricsdf.iloc[1915].lyrics)"
   ]
  },
  {
   "cell_type": "code",
   "execution_count": 50,
   "metadata": {},
   "outputs": [
    {
     "data": {
      "text/html": [
       "<div>\n",
       "<style scoped>\n",
       "    .dataframe tbody tr th:only-of-type {\n",
       "        vertical-align: middle;\n",
       "    }\n",
       "\n",
       "    .dataframe tbody tr th {\n",
       "        vertical-align: top;\n",
       "    }\n",
       "\n",
       "    .dataframe thead th {\n",
       "        text-align: right;\n",
       "    }\n",
       "</style>\n",
       "<table border=\"1\" class=\"dataframe\">\n",
       "  <thead>\n",
       "    <tr style=\"text-align: right;\">\n",
       "      <th></th>\n",
       "      <th>artist</th>\n",
       "      <th>title</th>\n",
       "      <th>lyrics</th>\n",
       "      <th>lyrics_lines</th>\n",
       "      <th>eng_chars_only</th>\n",
       "    </tr>\n",
       "  </thead>\n",
       "  <tbody>\n",
       "    <tr>\n",
       "      <td>0</td>\n",
       "      <td>Abner Jay</td>\n",
       "      <td>Bring It When You Come</td>\n",
       "      <td>Terrible things, always happening Just like ye...</td>\n",
       "      <td>Terrible things, always happening Just like ye...</td>\n",
       "      <td>True</td>\n",
       "    </tr>\n",
       "    <tr>\n",
       "      <td>1</td>\n",
       "      <td>Abner Jay</td>\n",
       "      <td>Cocaine</td>\n",
       "      <td>Folk music is high-class music. There's a lott...</td>\n",
       "      <td>Folk music is high-class music. There's a lott...</td>\n",
       "      <td>True</td>\n",
       "    </tr>\n",
       "    <tr>\n",
       "      <td>2</td>\n",
       "      <td>Abner Jay</td>\n",
       "      <td>Cocaine Blues</td>\n",
       "      <td>Cocaine, Cocaine Running round my heart And th...</td>\n",
       "      <td>Cocaine, Cocaine Running round my heart And th...</td>\n",
       "      <td>True</td>\n",
       "    </tr>\n",
       "    <tr>\n",
       "      <td>3</td>\n",
       "      <td>Abner Jay</td>\n",
       "      <td>Don’t Mess with Me Baby</td>\n",
       "      <td>Terrible things; that's what's getting all the...</td>\n",
       "      <td>Terrible things; that's what's getting all the...</td>\n",
       "      <td>True</td>\n",
       "    </tr>\n",
       "    <tr>\n",
       "      <td>4</td>\n",
       "      <td>Abner Jay</td>\n",
       "      <td>I cried</td>\n",
       "      <td>I, I cried I cried in the ni-ight Oh please co...</td>\n",
       "      <td>I, I cried I cried in the ni-ight Oh please co...</td>\n",
       "      <td>True</td>\n",
       "    </tr>\n",
       "  </tbody>\n",
       "</table>\n",
       "</div>"
      ],
      "text/plain": [
       "      artist                    title  \\\n",
       "0  Abner Jay   Bring It When You Come   \n",
       "1  Abner Jay                  Cocaine   \n",
       "2  Abner Jay            Cocaine Blues   \n",
       "3  Abner Jay  Don’t Mess with Me Baby   \n",
       "4  Abner Jay                  I cried   \n",
       "\n",
       "                                              lyrics  \\\n",
       "0  Terrible things, always happening Just like ye...   \n",
       "1  Folk music is high-class music. There's a lott...   \n",
       "2  Cocaine, Cocaine Running round my heart And th...   \n",
       "3  Terrible things; that's what's getting all the...   \n",
       "4  I, I cried I cried in the ni-ight Oh please co...   \n",
       "\n",
       "                                        lyrics_lines  eng_chars_only  \n",
       "0  Terrible things, always happening Just like ye...            True  \n",
       "1  Folk music is high-class music. There's a lott...            True  \n",
       "2  Cocaine, Cocaine Running round my heart And th...            True  \n",
       "3  Terrible things; that's what's getting all the...            True  \n",
       "4  I, I cried I cried in the ni-ight Oh please co...            True  "
      ]
     },
     "execution_count": 50,
     "metadata": {},
     "output_type": "execute_result"
    }
   ],
   "source": [
    "lyricsdf[\"eng_chars_only\"] = lyricsdf.lyrics.map(lambda x: isEnglish(x))\n",
    "lyricsdf.head()"
   ]
  },
  {
   "cell_type": "code",
   "execution_count": 51,
   "metadata": {},
   "outputs": [
    {
     "data": {
      "text/plain": [
       "True     2337\n",
       "False    1051\n",
       "Name: eng_chars_only, dtype: int64"
      ]
     },
     "execution_count": 51,
     "metadata": {},
     "output_type": "execute_result"
    }
   ],
   "source": [
    "# That's a lot of non-English songs. Hmm...\n",
    "lyricsdf.eng_chars_only.value_counts()"
   ]
  },
  {
   "cell_type": "markdown",
   "metadata": {},
   "source": [
    "Character-encoding based detection is very useful for finding formatting issues caused by unexpected characters.  Note that the list of \"non-English\" lyrics below actually includes many English lyrics.  As shown in the next few code blocks, this is due to characters like \"\\u2005\", \"\\u205f\", formatted ellipses \"…\", and escaped apostrophes \"\\\\'\".  The punctuation will be standardized, and whitespace characters will be replaced with spaces (\" \")."
   ]
  },
  {
   "cell_type": "code",
   "execution_count": 52,
   "metadata": {},
   "outputs": [
    {
     "data": {
      "text/plain": [
       "3261    WMF: Are ya ROLLIN'?? ARE YA ROLLIN'??!!!  . ....\n",
       "1912    En morgon när jag skulle cykla Tappa' jag mina...\n",
       "11      Şurup gibiyim şurup Turp gibiyim turp turp Ben...\n",
       "2457    Money game crazy My crib game crazy My model g...\n",
       "2803    Doug Mowley was a train robbery suspect He rob...\n",
       "2641    'Cause this Is how we ride Forever we gon' gli...\n",
       "3297    Fairy tales can come true, it can happen to yo...\n",
       "3043    This is a penitentiary for criminals It is a m...\n",
       "3364    Friends, Romans, countrymen, lend me your ears...\n",
       "1876    Ur Ugges gröna hjärna Det värker en fasan Som ...\n",
       "Name: lyrics, dtype: object"
      ]
     },
     "execution_count": 52,
     "metadata": {},
     "output_type": "execute_result"
    }
   ],
   "source": [
    "nonEng = lyricsdf[lyricsdf.eng_chars_only == False]\n",
    "nonEng.lyrics.sample(10)"
   ]
  },
  {
   "cell_type": "code",
   "execution_count": 53,
   "metadata": {},
   "outputs": [
    {
     "data": {
      "text/plain": [
       "\"This band rocked the Czar bar About 180 people were at the show The rock show was\\u2005a\\u2005rock 'n roll\\u2005experience It was a great knockout  The Dollrods The\\u2005Dollrods The Dollrods The Dollrods  The band played it on The band got down like a Magikist They can really rock the nation They can really jam the guitar  The Dollrods The Dollrods The Dollrods The Dollrods  The show was a rock 'n roller The jam session was a big rock 'n roll blast The jam session was kick ass show They can really knock it out The Dollrods The Dollrods The Dollrods The Dollrods  Rock over London, rock on Chicago Diet Pepsi, uh-huh!\""
      ]
     },
     "execution_count": 53,
     "metadata": {},
     "output_type": "execute_result"
    }
   ],
   "source": [
    "# Example of \\u2005\n",
    "lyricsdf.iloc[3175].lyrics"
   ]
  },
  {
   "cell_type": "code",
   "execution_count": 64,
   "metadata": {},
   "outputs": [],
   "source": [
    "# Replace the whitespace character \\u2005 with a space\n",
    "lyricsdf.lyrics = lyricsdf.lyrics.map(lambda x: x.replace(\"\\u2005\", \" \"))\n",
    "lyricsdf.lyrics_lines = lyricsdf.lyrics_lines.map(lambda x: x.replace(\"\\u2005\", \" \"))"
   ]
  },
  {
   "cell_type": "code",
   "execution_count": 59,
   "metadata": {},
   "outputs": [
    {
     "data": {
      "text/plain": [
       "\"This band played at the Empty Bottle About two hundred fifty people were at the rock show The jam session was perfect The rock 'n roll burned a monkey up  Brain Kiss Brain Kiss Brain Kiss Brain Kiss  The band played it on The\\u205fband\\u205fgot\\u205fdown like a\\u205fMagikist The crowd roared\\u205flike a lion The jam session whooped a llama's ass  Brain Kiss Brain Kiss Brain Kiss Brain Kiss  The show was over A lot of people met the band The rock 'n roll show was awesome It whipped a pony's ass with a belt Brain Kiss Brain Kiss Brain Kiss Brain Kiss  Rock over London, rock on Chicago Radio Shack, you got questions, we got answers\""
      ]
     },
     "execution_count": 59,
     "metadata": {},
     "output_type": "execute_result"
    }
   ],
   "source": [
    "# Example of \\u205f\n",
    "lyricsdf.iloc[2734].lyrics"
   ]
  },
  {
   "cell_type": "code",
   "execution_count": 65,
   "metadata": {},
   "outputs": [],
   "source": [
    "# Replace the whitespace character \\u205f with a space\n",
    "lyricsdf.lyrics = lyricsdf.lyrics.map(lambda x: x.replace(\"\\u205f\", \" \"))\n",
    "lyricsdf.lyrics_lines = lyricsdf.lyrics_lines.map(lambda x: x.replace(\"\\u205f\", \" \"))"
   ]
  },
  {
   "cell_type": "code",
   "execution_count": 62,
   "metadata": {},
   "outputs": [
    {
     "data": {
      "text/plain": [
       "'High on a rocky ledge lives a mädel, Edelweiß Shy as a shadow, lovely as lace, and cold as ice High on a rocky ledge, I pledge my love to her Ev\\'ry time I climb up to Paradise How many times I\\'ve been up to see her, goodness knows Huffing and puffing, dressed in the warmest climbing clothes How many chances would be taken in my Hopeless pursuit of the Schnee-Mädel-Edelweiß Then spoke a spirit, \"If you would win your Lady Love There\\'s only one way: fall to your death from high above You will begin to grow in snow beside the one You have waited for to be mated with\" Now, I\\'m an Edel, vice to my Mädel, Edelweiß Dying to be with her wasn\\'t any sacrifice We\\'re so deliriously happy on our ledge Where I pledge my love to my Lady Fair You who are climbing breathless to see me and my love Snow flowers growing fonder on Lover\\'s Ledge above If you\\'ve the yen to pluck, then pluck us both For we who have lived as one wish to die as one'"
      ]
     },
     "execution_count": 62,
     "metadata": {},
     "output_type": "execute_result"
    }
   ],
   "source": [
    "# Example of escaped apostrophe \\'\n",
    "lyricsdf.iloc[1795].lyrics"
   ]
  },
  {
   "cell_type": "code",
   "execution_count": 66,
   "metadata": {},
   "outputs": [],
   "source": [
    "# Replace escaped apostrophe with curly apostrophe, since other lyrics use that format\n",
    "lyricsdf.lyrics = lyricsdf.lyrics.map(lambda x: x.replace(\"\\'\", \"’\"))\n",
    "lyricsdf.lyrics_lines = lyricsdf.lyrics_lines.map(lambda x: x.replace(\"\\'\", \"’\"))\n"
   ]
  },
  {
   "cell_type": "code",
   "execution_count": 67,
   "metadata": {},
   "outputs": [
    {
     "data": {
      "text/plain": [
       "'To yo dome with the chrome To yo dome with the chrome To yo dome with the chrome To yo dome with the chrome To yo dome with the chrome To yo dome with the chrome To yo dome with the chrome To yo dome with the chrome To yo dome with the chrome To yo dome with the chrome To yo dome with the chrome To yo dome with the chrome  Don’t get sent home In a body bag for not leaving me alone I don’t care what you got goin on Cuz i already paid and my body is every bone Yea i know, that I’m conceited and arrogant And that can be repeated But that’s just my personality And it’s magnified cuz im a G So i ain’t trying to hear what they gotta say Like they ? for a jack, so i ? the gun spray These marks are fucking up my day Rollin up asking if they may Ask me a question about some bullshit Bitch ass nigga you better get a grip I’m tired of playing with these faggots I’m bout to get my four and let you snitch niggas have it To yo dome with the chrome To yo dome with the chrome To yo dome with the chrome To yo dome with the chrome To yo dome with the chrome To yo dome with the chrome To yo dome with the chrome To yo dome with the chrome To yo dome with the chrome To yo dome with the chrome To yo dome with the chrome To yo dome with the chrome  I roll on my own My homeboys sad they walks and rome Around upset In a rush to get wet Why do you wanna die Don’t you see, living is fly? Don’t make your folk cry And have niggas looking at your frame Closed eyes I ball and mash No room in pockets They full of cash My task Is to make dough Im getting loot from places i ain’t seen before Or knew existed A baller stuck on a mission But wondering when this green gon’ stop coming in I’ll go… To yo dome with the chrome To yo dome with the chrome To yo dome with the chrome To yo dome with the chrome To yo dome with the chrome To yo dome with the chrome To yo dome with the chrome To yo dome with the chrome To yo dome with the chrome To yo dome with the chrome To yo dome with the chrome To yo dome with the chrome'"
      ]
     },
     "execution_count": 67,
     "metadata": {},
     "output_type": "execute_result"
    }
   ],
   "source": [
    "# Example of specially formatted ellipsis \"…\"\n",
    "lyricsdf.iloc[2522].lyrics"
   ]
  },
  {
   "cell_type": "code",
   "execution_count": 68,
   "metadata": {},
   "outputs": [
    {
     "data": {
      "text/plain": [
       "'ck on a mission But wondering when this green gon’ stop coming in I’ll go... To yo dome with the chrome To yo dome with the chrome To yo dome with the chrome To yo dome with the chrome To yo dome with'"
      ]
     },
     "execution_count": 68,
     "metadata": {},
     "output_type": "execute_result"
    }
   ],
   "source": [
    "# Replace special ellipsis with plain \"...\"\n",
    "lyricsdf.lyrics = lyricsdf.lyrics.map(lambda x: x.replace(\"…\", \"...\"))\n",
    "lyricsdf.lyrics_lines = lyricsdf.lyrics_lines.map(lambda x: x.replace(\"…\", \"...\"))\n",
    "lyricsdf.iloc[2522].lyrics[-400:-200]"
   ]
  },
  {
   "cell_type": "markdown",
   "metadata": {},
   "source": [
    "Quick double-check to see if there are any more formatting issues:"
   ]
  },
  {
   "cell_type": "code",
   "execution_count": 71,
   "metadata": {},
   "outputs": [],
   "source": [
    "# It looks like there are not \"\\\" formatting issues left\n",
    "for i in range(len(lyricsdf)):\n",
    "    x = re.findall(r\"\\\\\", lyricsdf.lyrics[i])\n",
    "    if x: print(x)"
   ]
  },
  {
   "cell_type": "markdown",
   "metadata": {},
   "source": [
    "The eng_chars_only column isn't very useful at the moment.  Because it's a boolean, many of the lyrics marked as \"non-English\" are actually English but contain special characters or accented letters.\n",
    "\n",
    "I attempted a continuous approach by separating English from non-English using a cutoff % of non-English characters.  I scrapped this, as it was not any more effective than the categorical approach and did not give additional insight into the data cleaning."
   ]
  },
  {
   "cell_type": "markdown",
   "metadata": {},
   "source": [
    "**SpaCy Language Detection**    \n",
    "To weed out the non-English lyrics more definitively, I'll try the spaCy LanguageDetector package, using the small English model."
   ]
  },
  {
   "cell_type": "code",
   "execution_count": 72,
   "metadata": {},
   "outputs": [],
   "source": [
    "import spacy"
   ]
  },
  {
   "cell_type": "markdown",
   "metadata": {},
   "source": [
    "Using the spaCy documentation and this [stack overflow page](https://stackoverflow.com/questions/66712753/how-to-use-languagedetector-from-spacy-langdetect-package), I'll create a new column to store the language detected and the confidence score."
   ]
  },
  {
   "cell_type": "code",
   "execution_count": 73,
   "metadata": {},
   "outputs": [
    {
     "name": "stdout",
     "output_type": "stream",
     "text": [
      "{'language': 'en', 'score': 0.9999975645287333}\n"
     ]
    }
   ],
   "source": [
    "from spacy_langdetect import LanguageDetector\n",
    "from spacy.language import Language\n",
    "\n",
    "def get_lang_detector(nlp, name):\n",
    "    return LanguageDetector()\n",
    "\n",
    "# create the `nlp` language detector with the English model and test\n",
    "nlp = spacy.load(\"en_core_web_sm\")\n",
    "Language.factory(\"language_detector\", func=get_lang_detector)\n",
    "nlp.add_pipe('language_detector', last=True)\n",
    "text = 'This is an english text.'\n",
    "doc = nlp(text)\n",
    "print(doc._.language)"
   ]
  },
  {
   "cell_type": "code",
   "execution_count": 74,
   "metadata": {},
   "outputs": [],
   "source": [
    "# Save the detector output to a column 'lang_detect'\n",
    "def langDetect(nlp, text):\n",
    "    doc = nlp(text)\n",
    "    return doc._.language\n",
    "\n",
    "lyricsdf[\"lang_detect\"] = lyricsdf.lyrics.map(lambda x: langDetect(nlp, x))"
   ]
  },
  {
   "cell_type": "code",
   "execution_count": 75,
   "metadata": {},
   "outputs": [
    {
     "data": {
      "text/html": [
       "<div>\n",
       "<style scoped>\n",
       "    .dataframe tbody tr th:only-of-type {\n",
       "        vertical-align: middle;\n",
       "    }\n",
       "\n",
       "    .dataframe tbody tr th {\n",
       "        vertical-align: top;\n",
       "    }\n",
       "\n",
       "    .dataframe thead th {\n",
       "        text-align: right;\n",
       "    }\n",
       "</style>\n",
       "<table border=\"1\" class=\"dataframe\">\n",
       "  <thead>\n",
       "    <tr style=\"text-align: right;\">\n",
       "      <th></th>\n",
       "      <th>artist</th>\n",
       "      <th>title</th>\n",
       "      <th>lyrics</th>\n",
       "      <th>lyrics_lines</th>\n",
       "      <th>eng_chars_only</th>\n",
       "      <th>lang_detect</th>\n",
       "    </tr>\n",
       "  </thead>\n",
       "  <tbody>\n",
       "    <tr>\n",
       "      <td>0</td>\n",
       "      <td>Abner Jay</td>\n",
       "      <td>Bring It When You Come</td>\n",
       "      <td>Terrible things, always happening Just like ye...</td>\n",
       "      <td>Terrible things, always happening Just like ye...</td>\n",
       "      <td>True</td>\n",
       "      <td>{'language': 'en', 'score': 0.9999968176108587}</td>\n",
       "    </tr>\n",
       "    <tr>\n",
       "      <td>1</td>\n",
       "      <td>Abner Jay</td>\n",
       "      <td>Cocaine</td>\n",
       "      <td>Folk music is high-class music. There’s a lott...</td>\n",
       "      <td>Folk music is high-class music. There’s a lott...</td>\n",
       "      <td>True</td>\n",
       "      <td>{'language': 'en', 'score': 0.9999957870727334}</td>\n",
       "    </tr>\n",
       "    <tr>\n",
       "      <td>2</td>\n",
       "      <td>Abner Jay</td>\n",
       "      <td>Cocaine Blues</td>\n",
       "      <td>Cocaine, Cocaine Running round my heart And th...</td>\n",
       "      <td>Cocaine, Cocaine Running round my heart And th...</td>\n",
       "      <td>True</td>\n",
       "      <td>{'language': 'en', 'score': 0.9999948253358504}</td>\n",
       "    </tr>\n",
       "    <tr>\n",
       "      <td>3</td>\n",
       "      <td>Abner Jay</td>\n",
       "      <td>Don’t Mess with Me Baby</td>\n",
       "      <td>Terrible things; that’s what’s getting all the...</td>\n",
       "      <td>Terrible things; that’s what’s getting all the...</td>\n",
       "      <td>True</td>\n",
       "      <td>{'language': 'en', 'score': 0.9999987996976376}</td>\n",
       "    </tr>\n",
       "    <tr>\n",
       "      <td>4</td>\n",
       "      <td>Abner Jay</td>\n",
       "      <td>I cried</td>\n",
       "      <td>I, I cried I cried in the ni-ight Oh please co...</td>\n",
       "      <td>I, I cried I cried in the ni-ight Oh please co...</td>\n",
       "      <td>True</td>\n",
       "      <td>{'language': 'en', 'score': 0.9999957025525114}</td>\n",
       "    </tr>\n",
       "  </tbody>\n",
       "</table>\n",
       "</div>"
      ],
      "text/plain": [
       "      artist                    title  \\\n",
       "0  Abner Jay   Bring It When You Come   \n",
       "1  Abner Jay                  Cocaine   \n",
       "2  Abner Jay            Cocaine Blues   \n",
       "3  Abner Jay  Don’t Mess with Me Baby   \n",
       "4  Abner Jay                  I cried   \n",
       "\n",
       "                                              lyrics  \\\n",
       "0  Terrible things, always happening Just like ye...   \n",
       "1  Folk music is high-class music. There’s a lott...   \n",
       "2  Cocaine, Cocaine Running round my heart And th...   \n",
       "3  Terrible things; that’s what’s getting all the...   \n",
       "4  I, I cried I cried in the ni-ight Oh please co...   \n",
       "\n",
       "                                        lyrics_lines  eng_chars_only  \\\n",
       "0  Terrible things, always happening Just like ye...            True   \n",
       "1  Folk music is high-class music. There’s a lott...            True   \n",
       "2  Cocaine, Cocaine Running round my heart And th...            True   \n",
       "3  Terrible things; that’s what’s getting all the...            True   \n",
       "4  I, I cried I cried in the ni-ight Oh please co...            True   \n",
       "\n",
       "                                       lang_detect  \n",
       "0  {'language': 'en', 'score': 0.9999968176108587}  \n",
       "1  {'language': 'en', 'score': 0.9999957870727334}  \n",
       "2  {'language': 'en', 'score': 0.9999948253358504}  \n",
       "3  {'language': 'en', 'score': 0.9999987996976376}  \n",
       "4  {'language': 'en', 'score': 0.9999957025525114}  "
      ]
     },
     "execution_count": 75,
     "metadata": {},
     "output_type": "execute_result"
    }
   ],
   "source": [
    "lyricsdf.head()"
   ]
  },
  {
   "cell_type": "code",
   "execution_count": 76,
   "metadata": {},
   "outputs": [],
   "source": [
    "# lang_detect is a short dictionary, containing 'language' and 'score' as keys\n",
    "\n",
    "# extract 'language' into a separate column\n",
    "lyricsdf[\"lang\"] = lyricsdf.lang_detect.map(lambda x: x[\"language\"])"
   ]
  },
  {
   "cell_type": "code",
   "execution_count": 77,
   "metadata": {},
   "outputs": [
    {
     "data": {
      "text/plain": [
       "en         3049\n",
       "UNKNOWN     224\n",
       "sv           59\n",
       "fr            7\n",
       "tl            6\n",
       "so            6\n",
       "id            6\n",
       "es            3\n",
       "ja            3\n",
       "no            3\n",
       "sw            2\n",
       "ca            2\n",
       "cy            2\n",
       "af            2\n",
       "nl            2\n",
       "it            2\n",
       "tr            2\n",
       "pt            1\n",
       "et            1\n",
       "sk            1\n",
       "pl            1\n",
       "hr            1\n",
       "lt            1\n",
       "de            1\n",
       "sl            1\n",
       "Name: lang, dtype: int64"
      ]
     },
     "execution_count": 77,
     "metadata": {},
     "output_type": "execute_result"
    }
   ],
   "source": [
    "lyricsdf.lang.value_counts()"
   ]
  },
  {
   "cell_type": "code",
   "execution_count": 79,
   "metadata": {},
   "outputs": [
    {
     "data": {
      "text/html": [
       "<div>\n",
       "<style scoped>\n",
       "    .dataframe tbody tr th:only-of-type {\n",
       "        vertical-align: middle;\n",
       "    }\n",
       "\n",
       "    .dataframe tbody tr th {\n",
       "        vertical-align: top;\n",
       "    }\n",
       "\n",
       "    .dataframe thead th {\n",
       "        text-align: right;\n",
       "    }\n",
       "</style>\n",
       "<table border=\"1\" class=\"dataframe\">\n",
       "  <thead>\n",
       "    <tr style=\"text-align: right;\">\n",
       "      <th></th>\n",
       "      <th>artist</th>\n",
       "      <th>title</th>\n",
       "      <th>lyrics</th>\n",
       "      <th>lyrics_lines</th>\n",
       "      <th>eng_chars_only</th>\n",
       "      <th>lang_detect</th>\n",
       "      <th>lang</th>\n",
       "    </tr>\n",
       "  </thead>\n",
       "  <tbody>\n",
       "    <tr>\n",
       "      <td>859</td>\n",
       "      <td>Gary Wilson</td>\n",
       "      <td>Weird World, Pt. 2</td>\n",
       "      <td></td>\n",
       "      <td></td>\n",
       "      <td>True</td>\n",
       "      <td>{'language': 'UNKNOWN', 'score': 0.0}</td>\n",
       "      <td>UNKNOWN</td>\n",
       "    </tr>\n",
       "    <tr>\n",
       "      <td>2307</td>\n",
       "      <td>The Shaggs</td>\n",
       "      <td>Shaggs’ Own Thing (Musical Version)</td>\n",
       "      <td></td>\n",
       "      <td></td>\n",
       "      <td>True</td>\n",
       "      <td>{'language': 'UNKNOWN', 'score': 0.0}</td>\n",
       "      <td>UNKNOWN</td>\n",
       "    </tr>\n",
       "    <tr>\n",
       "      <td>131</td>\n",
       "      <td>Ariel Pink</td>\n",
       "      <td>Red Vinyl</td>\n",
       "      <td></td>\n",
       "      <td></td>\n",
       "      <td>True</td>\n",
       "      <td>{'language': 'UNKNOWN', 'score': 0.0}</td>\n",
       "      <td>UNKNOWN</td>\n",
       "    </tr>\n",
       "    <tr>\n",
       "      <td>1834</td>\n",
       "      <td>Moondog</td>\n",
       "      <td>Suit No.1</td>\n",
       "      <td></td>\n",
       "      <td></td>\n",
       "      <td>True</td>\n",
       "      <td>{'language': 'UNKNOWN', 'score': 0.0}</td>\n",
       "      <td>UNKNOWN</td>\n",
       "    </tr>\n",
       "    <tr>\n",
       "      <td>2410</td>\n",
       "      <td>Vennu Mallesh</td>\n",
       "      <td>12 Angry Men</td>\n",
       "      <td>1 vote 2 vote 3 vote, for guilty 4 vote 5 vote...</td>\n",
       "      <td>1 vote 2 vote 3 vote, for guilty 4 vote 5 vote...</td>\n",
       "      <td>True</td>\n",
       "      <td>{'language': 'nl', 'score': 0.9571958086093986}</td>\n",
       "      <td>nl</td>\n",
       "    </tr>\n",
       "  </tbody>\n",
       "</table>\n",
       "</div>"
      ],
      "text/plain": [
       "             artist                                title  \\\n",
       "859     Gary Wilson                   Weird World, Pt. 2   \n",
       "2307     The Shaggs  Shaggs’ Own Thing (Musical Version)   \n",
       "131      Ariel Pink                            Red Vinyl   \n",
       "1834        Moondog                            Suit No.1   \n",
       "2410  Vennu Mallesh                         12 Angry Men   \n",
       "\n",
       "                                                 lyrics  \\\n",
       "859                                                       \n",
       "2307                                                      \n",
       "131                                                       \n",
       "1834                                                      \n",
       "2410  1 vote 2 vote 3 vote, for guilty 4 vote 5 vote...   \n",
       "\n",
       "                                           lyrics_lines  eng_chars_only  \\\n",
       "859                                                                True   \n",
       "2307                                                               True   \n",
       "131                                                                True   \n",
       "1834                                                               True   \n",
       "2410  1 vote 2 vote 3 vote, for guilty 4 vote 5 vote...            True   \n",
       "\n",
       "                                          lang_detect     lang  \n",
       "859             {'language': 'UNKNOWN', 'score': 0.0}  UNKNOWN  \n",
       "2307            {'language': 'UNKNOWN', 'score': 0.0}  UNKNOWN  \n",
       "131             {'language': 'UNKNOWN', 'score': 0.0}  UNKNOWN  \n",
       "1834            {'language': 'UNKNOWN', 'score': 0.0}  UNKNOWN  \n",
       "2410  {'language': 'nl', 'score': 0.9571958086093986}       nl  "
      ]
     },
     "execution_count": 79,
     "metadata": {},
     "output_type": "execute_result"
    }
   ],
   "source": [
    "non_eng = lyricsdf[lyricsdf.lang != \"en\"]\n",
    "non_eng.sample(5)"
   ]
  },
  {
   "cell_type": "markdown",
   "metadata": {},
   "source": [
    "'UNKNOWN' language is detected when the lyric entry is empty ('').  Some languages appear to be detected correctly, but many English lyrics are identified as non-English.  As demonstrated in the code block below, all lyrics identified as English seem to be correct."
   ]
  },
  {
   "cell_type": "code",
   "execution_count": 93,
   "metadata": {},
   "outputs": [
    {
     "data": {
      "text/html": [
       "<div>\n",
       "<style scoped>\n",
       "    .dataframe tbody tr th:only-of-type {\n",
       "        vertical-align: middle;\n",
       "    }\n",
       "\n",
       "    .dataframe tbody tr th {\n",
       "        vertical-align: top;\n",
       "    }\n",
       "\n",
       "    .dataframe thead th {\n",
       "        text-align: right;\n",
       "    }\n",
       "</style>\n",
       "<table border=\"1\" class=\"dataframe\">\n",
       "  <thead>\n",
       "    <tr style=\"text-align: right;\">\n",
       "      <th></th>\n",
       "      <th>artist</th>\n",
       "      <th>title</th>\n",
       "      <th>lyrics</th>\n",
       "      <th>lyrics_lines</th>\n",
       "      <th>eng_chars_only</th>\n",
       "      <th>lang_detect</th>\n",
       "      <th>lang</th>\n",
       "    </tr>\n",
       "  </thead>\n",
       "  <tbody>\n",
       "    <tr>\n",
       "      <td>405</td>\n",
       "      <td>Brian Wilson</td>\n",
       "      <td>Venice Beach (Narrative)</td>\n",
       "      <td>Venice Beach is poppin’ Like live shrimp dropp...</td>\n",
       "      <td>Venice Beach is poppin’ Like live shrimp dropp...</td>\n",
       "      <td>True</td>\n",
       "      <td>{'language': 'en', 'score': 0.9999975851858068}</td>\n",
       "      <td>en</td>\n",
       "    </tr>\n",
       "    <tr>\n",
       "      <td>456</td>\n",
       "      <td>Daniel Johnston</td>\n",
       "      <td>A Little Bit Of Soap</td>\n",
       "      <td>A little bit of soap Will wash away your lipst...</td>\n",
       "      <td>A little bit of soap Will wash away your lipst...</td>\n",
       "      <td>True</td>\n",
       "      <td>{'language': 'en', 'score': 0.9999970751142965}</td>\n",
       "      <td>en</td>\n",
       "    </tr>\n",
       "    <tr>\n",
       "      <td>1060</td>\n",
       "      <td>Jandek</td>\n",
       "      <td>Comedy</td>\n",
       "      <td>Here’s looking at you kid You got the German m...</td>\n",
       "      <td>Here’s looking at you kid You got the German m...</td>\n",
       "      <td>True</td>\n",
       "      <td>{'language': 'en', 'score': 0.9999948271970671}</td>\n",
       "      <td>en</td>\n",
       "    </tr>\n",
       "    <tr>\n",
       "      <td>1991</td>\n",
       "      <td>R. Stevie Moore</td>\n",
       "      <td>Love Has Doubt</td>\n",
       "      <td>Love has doubt when you’re out Love has what w...</td>\n",
       "      <td>Love has doubt when you’re out Love has what w...</td>\n",
       "      <td>True</td>\n",
       "      <td>{'language': 'en', 'score': 0.9999980646581537}</td>\n",
       "      <td>en</td>\n",
       "    </tr>\n",
       "    <tr>\n",
       "      <td>532</td>\n",
       "      <td>Daniel Johnston</td>\n",
       "      <td>Frankenstein Love</td>\n",
       "      <td>There was a time When I was Frankenstein Dress...</td>\n",
       "      <td>There was a time When I was Frankenstein Dress...</td>\n",
       "      <td>True</td>\n",
       "      <td>{'language': 'en', 'score': 0.9999963451176974}</td>\n",
       "      <td>en</td>\n",
       "    </tr>\n",
       "  </tbody>\n",
       "</table>\n",
       "</div>"
      ],
      "text/plain": [
       "               artist                     title  \\\n",
       "405      Brian Wilson  Venice Beach (Narrative)   \n",
       "456   Daniel Johnston      A Little Bit Of Soap   \n",
       "1060           Jandek                    Comedy   \n",
       "1991  R. Stevie Moore            Love Has Doubt   \n",
       "532   Daniel Johnston         Frankenstein Love   \n",
       "\n",
       "                                                 lyrics  \\\n",
       "405   Venice Beach is poppin’ Like live shrimp dropp...   \n",
       "456   A little bit of soap Will wash away your lipst...   \n",
       "1060  Here’s looking at you kid You got the German m...   \n",
       "1991  Love has doubt when you’re out Love has what w...   \n",
       "532   There was a time When I was Frankenstein Dress...   \n",
       "\n",
       "                                           lyrics_lines  eng_chars_only  \\\n",
       "405   Venice Beach is poppin’ Like live shrimp dropp...            True   \n",
       "456   A little bit of soap Will wash away your lipst...            True   \n",
       "1060  Here’s looking at you kid You got the German m...            True   \n",
       "1991  Love has doubt when you’re out Love has what w...            True   \n",
       "532   There was a time When I was Frankenstein Dress...            True   \n",
       "\n",
       "                                          lang_detect lang  \n",
       "405   {'language': 'en', 'score': 0.9999975851858068}   en  \n",
       "456   {'language': 'en', 'score': 0.9999970751142965}   en  \n",
       "1060  {'language': 'en', 'score': 0.9999948271970671}   en  \n",
       "1991  {'language': 'en', 'score': 0.9999980646581537}   en  \n",
       "532   {'language': 'en', 'score': 0.9999963451176974}   en  "
      ]
     },
     "execution_count": 93,
     "metadata": {},
     "output_type": "execute_result"
    }
   ],
   "source": [
    "lyricsdf[lyricsdf.lang == \"en\"].sample(5)"
   ]
  },
  {
   "cell_type": "code",
   "execution_count": 94,
   "metadata": {},
   "outputs": [
    {
     "data": {
      "text/html": [
       "<div>\n",
       "<style scoped>\n",
       "    .dataframe tbody tr th:only-of-type {\n",
       "        vertical-align: middle;\n",
       "    }\n",
       "\n",
       "    .dataframe tbody tr th {\n",
       "        vertical-align: top;\n",
       "    }\n",
       "\n",
       "    .dataframe thead th {\n",
       "        text-align: right;\n",
       "    }\n",
       "</style>\n",
       "<table border=\"1\" class=\"dataframe\">\n",
       "  <thead>\n",
       "    <tr style=\"text-align: right;\">\n",
       "      <th></th>\n",
       "      <th>artist</th>\n",
       "      <th>title</th>\n",
       "      <th>lyrics</th>\n",
       "      <th>lyrics_lines</th>\n",
       "      <th>eng_chars_only</th>\n",
       "      <th>lang_detect</th>\n",
       "      <th>lang</th>\n",
       "    </tr>\n",
       "  </thead>\n",
       "  <tbody>\n",
       "    <tr>\n",
       "      <td>129</td>\n",
       "      <td>Ariel Pink</td>\n",
       "      <td>Ramaya</td>\n",
       "      <td>Right!  (Woo!)  Bokuko ramaya, bokuko  (Woo!) ...</td>\n",
       "      <td>Right!  (Woo!)  Bokuko ramaya, bokuko  (Woo!) ...</td>\n",
       "      <td>True</td>\n",
       "      <td>{'language': 'sw', 'score': 0.7142825074644872}</td>\n",
       "      <td>sw</td>\n",
       "    </tr>\n",
       "    <tr>\n",
       "      <td>1754</td>\n",
       "      <td>Les Rallizes Dénudés</td>\n",
       "      <td>記憶は遠い (A Memory Is Far)</td>\n",
       "      <td>Tooi kioku no nakani omae wo miru Mishiranu fu...</td>\n",
       "      <td>Tooi kioku no nakani omae wo miru Mishiranu fu...</td>\n",
       "      <td>True</td>\n",
       "      <td>{'language': 'sw', 'score': 0.9999977337924266}</td>\n",
       "      <td>sw</td>\n",
       "    </tr>\n",
       "    <tr>\n",
       "      <td>223</td>\n",
       "      <td>Brian Wilson</td>\n",
       "      <td>Deck The Halls</td>\n",
       "      <td>Deck the halls with boughs of holly Fa, la, la...</td>\n",
       "      <td>Deck the halls with boughs of holly Fa, la, la...</td>\n",
       "      <td>True</td>\n",
       "      <td>{'language': 'es', 'score': 0.9999749222158598}</td>\n",
       "      <td>es</td>\n",
       "    </tr>\n",
       "    <tr>\n",
       "      <td>2409</td>\n",
       "      <td>Varg Vikernes</td>\n",
       "      <td>Den Store Søvn</td>\n",
       "      <td>Det blir godt å sove Sove hele natten Helt til...</td>\n",
       "      <td>Det blir godt å sove Sove hele natten Helt til...</td>\n",
       "      <td>False</td>\n",
       "      <td>{'language': 'no', 'score': 0.9999939980339456}</td>\n",
       "      <td>no</td>\n",
       "    </tr>\n",
       "    <tr>\n",
       "      <td>1437</td>\n",
       "      <td>John Frusciante</td>\n",
       "      <td>Guitar</td>\n",
       "      <td>Uh, uh Move your body like Uh Like Uh, uh Move...</td>\n",
       "      <td>Uh, uh Move your body like Uh Like Uh, uh Move...</td>\n",
       "      <td>True</td>\n",
       "      <td>{'language': 'sk', 'score': 0.8571399071978751}</td>\n",
       "      <td>sk</td>\n",
       "    </tr>\n",
       "  </tbody>\n",
       "</table>\n",
       "</div>"
      ],
      "text/plain": [
       "                    artist                    title  \\\n",
       "129             Ariel Pink                   Ramaya   \n",
       "1754  Les Rallizes Dénudés  記憶は遠い (A Memory Is Far)   \n",
       "223           Brian Wilson           Deck The Halls   \n",
       "2409         Varg Vikernes           Den Store Søvn   \n",
       "1437       John Frusciante                   Guitar   \n",
       "\n",
       "                                                 lyrics  \\\n",
       "129   Right!  (Woo!)  Bokuko ramaya, bokuko  (Woo!) ...   \n",
       "1754  Tooi kioku no nakani omae wo miru Mishiranu fu...   \n",
       "223   Deck the halls with boughs of holly Fa, la, la...   \n",
       "2409  Det blir godt å sove Sove hele natten Helt til...   \n",
       "1437  Uh, uh Move your body like Uh Like Uh, uh Move...   \n",
       "\n",
       "                                           lyrics_lines  eng_chars_only  \\\n",
       "129   Right!  (Woo!)  Bokuko ramaya, bokuko  (Woo!) ...            True   \n",
       "1754  Tooi kioku no nakani omae wo miru Mishiranu fu...            True   \n",
       "223   Deck the halls with boughs of holly Fa, la, la...            True   \n",
       "2409  Det blir godt å sove Sove hele natten Helt til...           False   \n",
       "1437  Uh, uh Move your body like Uh Like Uh, uh Move...            True   \n",
       "\n",
       "                                          lang_detect lang  \n",
       "129   {'language': 'sw', 'score': 0.7142825074644872}   sw  \n",
       "1754  {'language': 'sw', 'score': 0.9999977337924266}   sw  \n",
       "223   {'language': 'es', 'score': 0.9999749222158598}   es  \n",
       "2409  {'language': 'no', 'score': 0.9999939980339456}   no  \n",
       "1437  {'language': 'sk', 'score': 0.8571399071978751}   sk  "
      ]
     },
     "execution_count": 94,
     "metadata": {},
     "output_type": "execute_result"
    }
   ],
   "source": [
    "# Check some of the less frequent languages\n",
    "lyricsdf[lyricsdf.lang.isin(['ja', 'no', 'es', 'nl', 'tr', 'sw', 'it', 'ca', 'et', 'pt', 'pl', 'sl', 'sk', 'hr'])].sample(5)"
   ]
  },
  {
   "cell_type": "code",
   "execution_count": 95,
   "metadata": {},
   "outputs": [
    {
     "data": {
      "text/html": [
       "<div>\n",
       "<style scoped>\n",
       "    .dataframe tbody tr th:only-of-type {\n",
       "        vertical-align: middle;\n",
       "    }\n",
       "\n",
       "    .dataframe tbody tr th {\n",
       "        vertical-align: top;\n",
       "    }\n",
       "\n",
       "    .dataframe thead th {\n",
       "        text-align: right;\n",
       "    }\n",
       "</style>\n",
       "<table border=\"1\" class=\"dataframe\">\n",
       "  <thead>\n",
       "    <tr style=\"text-align: right;\">\n",
       "      <th></th>\n",
       "      <th>artist</th>\n",
       "      <th>title</th>\n",
       "      <th>lyrics</th>\n",
       "      <th>lyrics_lines</th>\n",
       "      <th>eng_chars_only</th>\n",
       "      <th>lang_detect</th>\n",
       "      <th>lang</th>\n",
       "    </tr>\n",
       "  </thead>\n",
       "  <tbody>\n",
       "    <tr>\n",
       "      <td>57</td>\n",
       "      <td>Ariel Pink</td>\n",
       "      <td>El Fantastic Summer Part</td>\n",
       "      <td>Yeah</td>\n",
       "      <td>Yeah</td>\n",
       "      <td>True</td>\n",
       "      <td>{'language': 'id', 'score': 0.5714264813325274}</td>\n",
       "      <td>id</td>\n",
       "    </tr>\n",
       "    <tr>\n",
       "      <td>1776</td>\n",
       "      <td>Moondog</td>\n",
       "      <td>Bells Are Ringing</td>\n",
       "      <td>Bells are ringing dinga linga linga linga ling...</td>\n",
       "      <td>Bells are ringing dinga linga linga linga ling...</td>\n",
       "      <td>True</td>\n",
       "      <td>{'language': 'tl', 'score': 0.7142819743675705}</td>\n",
       "      <td>tl</td>\n",
       "    </tr>\n",
       "    <tr>\n",
       "      <td>105</td>\n",
       "      <td>Ariel Pink</td>\n",
       "      <td>Nana Reprise</td>\n",
       "      <td>Nana, nana she’s looking out for us Nana, nana...</td>\n",
       "      <td>Nana, nana she’s looking out for us Nana, nana...</td>\n",
       "      <td>True</td>\n",
       "      <td>{'language': 'tl', 'score': 0.5714260370193606}</td>\n",
       "      <td>tl</td>\n",
       "    </tr>\n",
       "    <tr>\n",
       "      <td>82</td>\n",
       "      <td>Ariel Pink</td>\n",
       "      <td>I Disguise You</td>\n",
       "      <td>I disguise you I disguise you I disguise you I...</td>\n",
       "      <td>I disguise you I disguise you I disguise you I...</td>\n",
       "      <td>True</td>\n",
       "      <td>{'language': 'fr', 'score': 0.5714271186988191}</td>\n",
       "      <td>fr</td>\n",
       "    </tr>\n",
       "    <tr>\n",
       "      <td>72</td>\n",
       "      <td>Ariel Pink</td>\n",
       "      <td>Gone</td>\n",
       "      <td>Gone, picture me gone Gone, gone, gone Picture...</td>\n",
       "      <td>Gone, picture me gone Gone, gone, gone Picture...</td>\n",
       "      <td>True</td>\n",
       "      <td>{'language': 'fr', 'score': 0.7142837783133478}</td>\n",
       "      <td>fr</td>\n",
       "    </tr>\n",
       "  </tbody>\n",
       "</table>\n",
       "</div>"
      ],
      "text/plain": [
       "          artist                     title  \\\n",
       "57    Ariel Pink  El Fantastic Summer Part   \n",
       "1776     Moondog         Bells Are Ringing   \n",
       "105   Ariel Pink              Nana Reprise   \n",
       "82    Ariel Pink            I Disguise You   \n",
       "72    Ariel Pink                      Gone   \n",
       "\n",
       "                                                 lyrics  \\\n",
       "57                                                 Yeah   \n",
       "1776  Bells are ringing dinga linga linga linga ling...   \n",
       "105   Nana, nana she’s looking out for us Nana, nana...   \n",
       "82    I disguise you I disguise you I disguise you I...   \n",
       "72    Gone, picture me gone Gone, gone, gone Picture...   \n",
       "\n",
       "                                           lyrics_lines  eng_chars_only  \\\n",
       "57                                                 Yeah            True   \n",
       "1776  Bells are ringing dinga linga linga linga ling...            True   \n",
       "105   Nana, nana she’s looking out for us Nana, nana...            True   \n",
       "82    I disguise you I disguise you I disguise you I...            True   \n",
       "72    Gone, picture me gone Gone, gone, gone Picture...            True   \n",
       "\n",
       "                                          lang_detect lang  \n",
       "57    {'language': 'id', 'score': 0.5714264813325274}   id  \n",
       "1776  {'language': 'tl', 'score': 0.7142819743675705}   tl  \n",
       "105   {'language': 'tl', 'score': 0.5714260370193606}   tl  \n",
       "82    {'language': 'fr', 'score': 0.5714271186988191}   fr  \n",
       "72    {'language': 'fr', 'score': 0.7142837783133478}   fr  "
      ]
     },
     "execution_count": 95,
     "metadata": {},
     "output_type": "execute_result"
    }
   ],
   "source": [
    "# Check out some of the more frequent languages:\n",
    "lyricsdf[lyricsdf.lang.isin(['fr', 'so', 'tl', 'id', 'cy', 'af'])].sample(5)"
   ]
  },
  {
   "cell_type": "markdown",
   "metadata": {},
   "source": [
    "The above lists are samples, but I've skimmed through the full non-English lists. SpaCy's language detector using the small English model isn't a perfect solution.  Many English lyrics have been misidentified as foreign languages, as shown below with \"Deck the Halls,\" where too many \"la\"s have caused a very confident 'Spanish' classification."
   ]
  },
  {
   "cell_type": "code",
   "execution_count": 96,
   "metadata": {},
   "outputs": [
    {
     "name": "stdout",
     "output_type": "stream",
     "text": [
      "language: es \n",
      " Deck the halls with boughs of holly Fa, la, la, la, la, la, la, la, la ’Tis the season to be jolly Fa, la, la, la, la, la, la, la, la Don we now our gay apparel Fa, la, la, la, la, la, la, la, la Troll the ancient Yule tide carol Fa, la, la, la, la, la, la, la, la See the blazing Yule before us Fa, la, la, la, la, la, la, la, la Strike the harp and join the chorus Fa, la, la, la, la, la, la, la, la Follow me in merry measure Fa, la, la, la, la, la, la, la, la While I tell of Yule tide treasure Fa, la, la, la, la, la, la, la, la Fast away the old year passes Fa, la, la, la, la, la, la, la, la Hail the new, ye lads and lasses Fa, la, la, la, la, la, la, la, la Sing we joyous, all together Fa, la, la, la, la, la, la, la, la Heedless of the wind and weather Fa, la, la, la, la, la, la, la, la Deck the halls with boughs of holly Fa, la, la, la, la, la, la, la, la ’Tis the season to be jolly Fa, la, la, la, la, la, la, la, la Don we now our gay apparel Fa, la, la, la, la, la, la, la, la Troll the ancient Yule tide carol Fa, la, la, la, la, la, la, la, la Fa, la, la, la, la, la, la, la, la Fa, la, la, la, la, la, la, la, la Fa, la, la, la, la, la, la, la, la Fa, la, la, la, la, la, la, la, la Fa, la, la, la, la, la, la, la, la\n"
     ]
    }
   ],
   "source": [
    "print(\"language:\", lyricsdf.iloc[223].lang, \"\\n\", lyricsdf.iloc[223].lyrics)"
   ]
  },
  {
   "cell_type": "code",
   "execution_count": 97,
   "metadata": {},
   "outputs": [
    {
     "data": {
      "text/plain": [
       "{'language': 'es', 'score': 0.9999749222158598}"
      ]
     },
     "execution_count": 97,
     "metadata": {},
     "output_type": "execute_result"
    }
   ],
   "source": [
    "lyricsdf.iloc[223].lang_detect"
   ]
  },
  {
   "cell_type": "code",
   "execution_count": 99,
   "metadata": {},
   "outputs": [
    {
     "data": {
      "text/html": [
       "<div>\n",
       "<style scoped>\n",
       "    .dataframe tbody tr th:only-of-type {\n",
       "        vertical-align: middle;\n",
       "    }\n",
       "\n",
       "    .dataframe tbody tr th {\n",
       "        vertical-align: top;\n",
       "    }\n",
       "\n",
       "    .dataframe thead th {\n",
       "        text-align: right;\n",
       "    }\n",
       "</style>\n",
       "<table border=\"1\" class=\"dataframe\">\n",
       "  <thead>\n",
       "    <tr style=\"text-align: right;\">\n",
       "      <th></th>\n",
       "      <th>artist</th>\n",
       "      <th>title</th>\n",
       "      <th>lyrics</th>\n",
       "      <th>lyrics_lines</th>\n",
       "      <th>eng_chars_only</th>\n",
       "      <th>lang_detect</th>\n",
       "      <th>lang</th>\n",
       "    </tr>\n",
       "  </thead>\n",
       "  <tbody>\n",
       "    <tr>\n",
       "      <td>1888</td>\n",
       "      <td>Philemon Arthur And The Dung</td>\n",
       "      <td>Du är min ende vän</td>\n",
       "      <td>Du är min enda vän, jag tänker på dig varje da...</td>\n",
       "      <td>Du är min enda vän, jag tänker på dig varje da...</td>\n",
       "      <td>False</td>\n",
       "      <td>{'language': 'sv', 'score': 0.9999980028357259}</td>\n",
       "      <td>sv</td>\n",
       "    </tr>\n",
       "    <tr>\n",
       "      <td>1932</td>\n",
       "      <td>Philemon Arthur And The Dung</td>\n",
       "      <td>Vals I Fel Dur</td>\n",
       "      <td>Jag sitter här ensam på min stol Och tänker på...</td>\n",
       "      <td>Jag sitter här ensam på min stol Och tänker på...</td>\n",
       "      <td>False</td>\n",
       "      <td>{'language': 'sv', 'score': 0.9999969947017405}</td>\n",
       "      <td>sv</td>\n",
       "    </tr>\n",
       "    <tr>\n",
       "      <td>1925</td>\n",
       "      <td>Philemon Arthur And The Dung</td>\n",
       "      <td>Scoutvisan</td>\n",
       "      <td>Kom här allihopa så ska vi ut och gå Jag komme...</td>\n",
       "      <td>Kom här allihopa så ska vi ut och gå Jag komme...</td>\n",
       "      <td>False</td>\n",
       "      <td>{'language': 'sv', 'score': 0.9999960989227313}</td>\n",
       "      <td>sv</td>\n",
       "    </tr>\n",
       "    <tr>\n",
       "      <td>1918</td>\n",
       "      <td>Philemon Arthur And The Dung</td>\n",
       "      <td>Om Jag Hade Pjäxor</td>\n",
       "      <td>Blommorna på ängen växer Och det gör ju även j...</td>\n",
       "      <td>Blommorna på ängen växer Och det gör ju även j...</td>\n",
       "      <td>False</td>\n",
       "      <td>{'language': 'sv', 'score': 0.9999970064844665}</td>\n",
       "      <td>sv</td>\n",
       "    </tr>\n",
       "    <tr>\n",
       "      <td>1902</td>\n",
       "      <td>Philemon Arthur And The Dung</td>\n",
       "      <td>Jag Mår Så Illa</td>\n",
       "      <td>Jag mår så illa! Jag mår så illa så jag måste ...</td>\n",
       "      <td>Jag mår så illa! Jag mår så illa så jag måste ...</td>\n",
       "      <td>False</td>\n",
       "      <td>{'language': 'sv', 'score': 0.9999960092006496}</td>\n",
       "      <td>sv</td>\n",
       "    </tr>\n",
       "  </tbody>\n",
       "</table>\n",
       "</div>"
      ],
      "text/plain": [
       "                            artist               title  \\\n",
       "1888  Philemon Arthur And The Dung  Du är min ende vän   \n",
       "1932  Philemon Arthur And The Dung      Vals I Fel Dur   \n",
       "1925  Philemon Arthur And The Dung          Scoutvisan   \n",
       "1918  Philemon Arthur And The Dung  Om Jag Hade Pjäxor   \n",
       "1902  Philemon Arthur And The Dung     Jag Mår Så Illa   \n",
       "\n",
       "                                                 lyrics  \\\n",
       "1888  Du är min enda vän, jag tänker på dig varje da...   \n",
       "1932  Jag sitter här ensam på min stol Och tänker på...   \n",
       "1925  Kom här allihopa så ska vi ut och gå Jag komme...   \n",
       "1918  Blommorna på ängen växer Och det gör ju även j...   \n",
       "1902  Jag mår så illa! Jag mår så illa så jag måste ...   \n",
       "\n",
       "                                           lyrics_lines  eng_chars_only  \\\n",
       "1888  Du är min enda vän, jag tänker på dig varje da...           False   \n",
       "1932  Jag sitter här ensam på min stol Och tänker på...           False   \n",
       "1925  Kom här allihopa så ska vi ut och gå Jag komme...           False   \n",
       "1918  Blommorna på ängen växer Och det gör ju även j...           False   \n",
       "1902  Jag mår så illa! Jag mår så illa så jag måste ...           False   \n",
       "\n",
       "                                          lang_detect lang  \n",
       "1888  {'language': 'sv', 'score': 0.9999980028357259}   sv  \n",
       "1932  {'language': 'sv', 'score': 0.9999969947017405}   sv  \n",
       "1925  {'language': 'sv', 'score': 0.9999960989227313}   sv  \n",
       "1918  {'language': 'sv', 'score': 0.9999970064844665}   sv  \n",
       "1902  {'language': 'sv', 'score': 0.9999960092006496}   sv  "
      ]
     },
     "execution_count": 99,
     "metadata": {},
     "output_type": "execute_result"
    }
   ],
   "source": [
    "# All 59 of the Swedish tagged lyrics are Swedish (or, at the very least, not English)\n",
    "# Only a sample shown below\n",
    "lyricsdf[lyricsdf.lang == \"sv\"].sample(5)"
   ]
  },
  {
   "cell_type": "code",
   "execution_count": 101,
   "metadata": {},
   "outputs": [
    {
     "data": {
      "text/html": [
       "<div>\n",
       "<style scoped>\n",
       "    .dataframe tbody tr th:only-of-type {\n",
       "        vertical-align: middle;\n",
       "    }\n",
       "\n",
       "    .dataframe tbody tr th {\n",
       "        vertical-align: top;\n",
       "    }\n",
       "\n",
       "    .dataframe thead th {\n",
       "        text-align: right;\n",
       "    }\n",
       "</style>\n",
       "<table border=\"1\" class=\"dataframe\">\n",
       "  <thead>\n",
       "    <tr style=\"text-align: right;\">\n",
       "      <th></th>\n",
       "      <th>artist</th>\n",
       "      <th>title</th>\n",
       "      <th>lyrics</th>\n",
       "      <th>lyrics_lines</th>\n",
       "      <th>eng_chars_only</th>\n",
       "      <th>lang_detect</th>\n",
       "      <th>lang</th>\n",
       "    </tr>\n",
       "  </thead>\n",
       "  <tbody>\n",
       "    <tr>\n",
       "      <td>1746</td>\n",
       "      <td>Les Rallizes Dénudés</td>\n",
       "      <td>Enter the Mirror</td>\n",
       "      <td>あらゆる夜（闇）を通り過ぎてきた 時々ひとりで あらゆる闇（夜）を通り過ぎてきた お前といっ...</td>\n",
       "      <td>あらゆる夜（闇）を通り過ぎてきた 時々ひとりで あらゆる闇（夜）を通り過ぎてきた お前といっ...</td>\n",
       "      <td>False</td>\n",
       "      <td>{'language': 'ja', 'score': 0.9999999984870188}</td>\n",
       "      <td>ja</td>\n",
       "    </tr>\n",
       "    <tr>\n",
       "      <td>1749</td>\n",
       "      <td>Les Rallizes Dénudés</td>\n",
       "      <td>White Awakening</td>\n",
       "      <td>パターンA： ----------- 私の春が始まった時　あなただけしか欲しくなかった 風の...</td>\n",
       "      <td>パターンA： ----------- 私の春が始まった時　あなただけしか欲しくなかった 風の...</td>\n",
       "      <td>False</td>\n",
       "      <td>{'language': 'ja', 'score': 0.999999999876712}</td>\n",
       "      <td>ja</td>\n",
       "    </tr>\n",
       "    <tr>\n",
       "      <td>1753</td>\n",
       "      <td>Les Rallizes Dénudés</td>\n",
       "      <td>記憶は遠い</td>\n",
       "      <td>遠い記憶の中にお前を見る 見知らぬ二つの街が通り過ぎる 僕らの周りで海が血に変わる それしか...</td>\n",
       "      <td>遠い記憶の中にお前を見る 見知らぬ二つの街が通り過ぎる 僕らの周りで海が血に変わる それしか...</td>\n",
       "      <td>False</td>\n",
       "      <td>{'language': 'ja', 'score': 0.9999999948967324}</td>\n",
       "      <td>ja</td>\n",
       "    </tr>\n",
       "  </tbody>\n",
       "</table>\n",
       "</div>"
      ],
      "text/plain": [
       "                    artist             title  \\\n",
       "1746  Les Rallizes Dénudés  Enter the Mirror   \n",
       "1749  Les Rallizes Dénudés   White Awakening   \n",
       "1753  Les Rallizes Dénudés             記憶は遠い   \n",
       "\n",
       "                                                 lyrics  \\\n",
       "1746  あらゆる夜（闇）を通り過ぎてきた 時々ひとりで あらゆる闇（夜）を通り過ぎてきた お前といっ...   \n",
       "1749  パターンA： ----------- 私の春が始まった時　あなただけしか欲しくなかった 風の...   \n",
       "1753  遠い記憶の中にお前を見る 見知らぬ二つの街が通り過ぎる 僕らの周りで海が血に変わる それしか...   \n",
       "\n",
       "                                           lyrics_lines  eng_chars_only  \\\n",
       "1746  あらゆる夜（闇）を通り過ぎてきた 時々ひとりで あらゆる闇（夜）を通り過ぎてきた お前といっ...           False   \n",
       "1749  パターンA： ----------- 私の春が始まった時　あなただけしか欲しくなかった 風の...           False   \n",
       "1753  遠い記憶の中にお前を見る 見知らぬ二つの街が通り過ぎる 僕らの周りで海が血に変わる それしか...           False   \n",
       "\n",
       "                                          lang_detect lang  \n",
       "1746  {'language': 'ja', 'score': 0.9999999984870188}   ja  \n",
       "1749   {'language': 'ja', 'score': 0.999999999876712}   ja  \n",
       "1753  {'language': 'ja', 'score': 0.9999999948967324}   ja  "
      ]
     },
     "execution_count": 101,
     "metadata": {},
     "output_type": "execute_result"
    }
   ],
   "source": [
    "# All lyrics tagged as Japanese are Japanese\n",
    "lyricsdf[lyricsdf.lang == \"ja\"]"
   ]
  },
  {
   "cell_type": "markdown",
   "metadata": {},
   "source": [
    "For the analysis, I will remove those languages which I know are entirely non-English lyrics, including Swedish ('sv') and Japanese ('ja').  The other languages identified are not so definitively English or non-English, so I will leave them in the dataset for analysis.  Given that there were 59 Swedish songs identified, it seems worthwhile to remove them.\n",
    "\n",
    "If it seems as if the non-English data may be confounding the analysis, the songs identified as English ('en') appear to be identified as such reliably and can be used for a smaller analysis.  However, I would like to avoid doing this, since many of the stranger, non-sense lyrics that could characterize outsider music have been identified as non-English."
   ]
  },
  {
   "cell_type": "code",
   "execution_count": 102,
   "metadata": {},
   "outputs": [
    {
     "data": {
      "text/html": [
       "<div>\n",
       "<style scoped>\n",
       "    .dataframe tbody tr th:only-of-type {\n",
       "        vertical-align: middle;\n",
       "    }\n",
       "\n",
       "    .dataframe tbody tr th {\n",
       "        vertical-align: top;\n",
       "    }\n",
       "\n",
       "    .dataframe thead th {\n",
       "        text-align: right;\n",
       "    }\n",
       "</style>\n",
       "<table border=\"1\" class=\"dataframe\">\n",
       "  <thead>\n",
       "    <tr style=\"text-align: right;\">\n",
       "      <th></th>\n",
       "      <th>artist</th>\n",
       "      <th>title</th>\n",
       "      <th>lyrics</th>\n",
       "      <th>lyrics_lines</th>\n",
       "      <th>eng_chars_only</th>\n",
       "      <th>lang_detect</th>\n",
       "      <th>lang</th>\n",
       "    </tr>\n",
       "  </thead>\n",
       "  <tbody>\n",
       "    <tr>\n",
       "      <td>1310</td>\n",
       "      <td>Jandek</td>\n",
       "      <td>The Beginning</td>\n",
       "      <td></td>\n",
       "      <td></td>\n",
       "      <td>True</td>\n",
       "      <td>{'language': 'UNKNOWN', 'score': 0.0}</td>\n",
       "      <td>UNKNOWN</td>\n",
       "    </tr>\n",
       "    <tr>\n",
       "      <td>516</td>\n",
       "      <td>Daniel Johnston</td>\n",
       "      <td>Excuse Me</td>\n",
       "      <td></td>\n",
       "      <td></td>\n",
       "      <td>True</td>\n",
       "      <td>{'language': 'UNKNOWN', 'score': 0.0}</td>\n",
       "      <td>UNKNOWN</td>\n",
       "    </tr>\n",
       "    <tr>\n",
       "      <td>169</td>\n",
       "      <td>Ariel Pink</td>\n",
       "      <td>Zip Drive</td>\n",
       "      <td></td>\n",
       "      <td></td>\n",
       "      <td>True</td>\n",
       "      <td>{'language': 'UNKNOWN', 'score': 0.0}</td>\n",
       "      <td>UNKNOWN</td>\n",
       "    </tr>\n",
       "    <tr>\n",
       "      <td>1005</td>\n",
       "      <td>Jad Fair</td>\n",
       "      <td>Oh</td>\n",
       "      <td></td>\n",
       "      <td></td>\n",
       "      <td>True</td>\n",
       "      <td>{'language': 'UNKNOWN', 'score': 0.0}</td>\n",
       "      <td>UNKNOWN</td>\n",
       "    </tr>\n",
       "    <tr>\n",
       "      <td>2090</td>\n",
       "      <td>Roky Erickson</td>\n",
       "      <td>May the Circle Remain Unbroken</td>\n",
       "      <td></td>\n",
       "      <td></td>\n",
       "      <td>True</td>\n",
       "      <td>{'language': 'UNKNOWN', 'score': 0.0}</td>\n",
       "      <td>UNKNOWN</td>\n",
       "    </tr>\n",
       "  </tbody>\n",
       "</table>\n",
       "</div>"
      ],
      "text/plain": [
       "               artist                           title lyrics lyrics_lines  \\\n",
       "1310           Jandek                   The Beginning                       \n",
       "516   Daniel Johnston                       Excuse Me                       \n",
       "169        Ariel Pink                       Zip Drive                       \n",
       "1005         Jad Fair                              Oh                       \n",
       "2090    Roky Erickson  May the Circle Remain Unbroken                       \n",
       "\n",
       "      eng_chars_only                            lang_detect     lang  \n",
       "1310            True  {'language': 'UNKNOWN', 'score': 0.0}  UNKNOWN  \n",
       "516             True  {'language': 'UNKNOWN', 'score': 0.0}  UNKNOWN  \n",
       "169             True  {'language': 'UNKNOWN', 'score': 0.0}  UNKNOWN  \n",
       "1005            True  {'language': 'UNKNOWN', 'score': 0.0}  UNKNOWN  \n",
       "2090            True  {'language': 'UNKNOWN', 'score': 0.0}  UNKNOWN  "
      ]
     },
     "execution_count": 102,
     "metadata": {},
     "output_type": "execute_result"
    }
   ],
   "source": [
    "# And UNKNOWN language is just the empty string lyrics!\n",
    "lyricsdf[lyricsdf.lang == \"UNKNOWN\"].sample(5)"
   ]
  },
  {
   "cell_type": "code",
   "execution_count": 103,
   "metadata": {},
   "outputs": [],
   "source": [
    "# save the data into a different data frame\n",
    "lyricsdf_orig = lyricsdf\n",
    "\n",
    "# update the lyricsdf to remove Swedish, Japanese, and empty string lyric entries\n",
    "lyricsdf = lyricsdf[~lyricsdf.lang.isin(['sv', 'ja', 'UNKNOWN'])]"
   ]
  },
  {
   "cell_type": "markdown",
   "metadata": {},
   "source": [
    "## Analysis of Outsider Music\n",
    "The analysis here is fairly simple.  We'll look at the:\n",
    "- token count distribution\n",
    "- artist distribution\n",
    "- most common word tokens, with and without stopwords\n",
    "\n",
    "**Token Count Distribution**    \n",
    "The lyrics need to be tokenized so that they can be analyzed at the word-level."
   ]
  },
  {
   "cell_type": "code",
   "execution_count": 105,
   "metadata": {},
   "outputs": [],
   "source": [
    "import warnings\n",
    "from pandas.core.common import SettingWithCopyWarning\n",
    "warnings.simplefilter(action=\"ignore\", category=SettingWithCopyWarning)"
   ]
  },
  {
   "cell_type": "code",
   "execution_count": 108,
   "metadata": {},
   "outputs": [
    {
     "data": {
      "text/html": [
       "<div>\n",
       "<style scoped>\n",
       "    .dataframe tbody tr th:only-of-type {\n",
       "        vertical-align: middle;\n",
       "    }\n",
       "\n",
       "    .dataframe tbody tr th {\n",
       "        vertical-align: top;\n",
       "    }\n",
       "\n",
       "    .dataframe thead th {\n",
       "        text-align: right;\n",
       "    }\n",
       "</style>\n",
       "<table border=\"1\" class=\"dataframe\">\n",
       "  <thead>\n",
       "    <tr style=\"text-align: right;\">\n",
       "      <th></th>\n",
       "      <th>artist</th>\n",
       "      <th>title</th>\n",
       "      <th>lyrics</th>\n",
       "      <th>lyrics_lines</th>\n",
       "      <th>eng_chars_only</th>\n",
       "      <th>lang_detect</th>\n",
       "      <th>lang</th>\n",
       "      <th>tokens</th>\n",
       "      <th>token_ct</th>\n",
       "    </tr>\n",
       "  </thead>\n",
       "  <tbody>\n",
       "    <tr>\n",
       "      <td>0</td>\n",
       "      <td>Abner Jay</td>\n",
       "      <td>Bring It When You Come</td>\n",
       "      <td>Terrible things, always happening Just like ye...</td>\n",
       "      <td>Terrible things, always happening Just like ye...</td>\n",
       "      <td>True</td>\n",
       "      <td>{'language': 'en', 'score': 0.9999968176108587}</td>\n",
       "      <td>en</td>\n",
       "      <td>[terrible, things, ,, always, happening, just,...</td>\n",
       "      <td>429</td>\n",
       "    </tr>\n",
       "    <tr>\n",
       "      <td>1</td>\n",
       "      <td>Abner Jay</td>\n",
       "      <td>Cocaine</td>\n",
       "      <td>Folk music is high-class music. There’s a lott...</td>\n",
       "      <td>Folk music is high-class music. There’s a lott...</td>\n",
       "      <td>True</td>\n",
       "      <td>{'language': 'en', 'score': 0.9999957870727334}</td>\n",
       "      <td>en</td>\n",
       "      <td>[folk, music, is, high-class, music, ., there,...</td>\n",
       "      <td>501</td>\n",
       "    </tr>\n",
       "    <tr>\n",
       "      <td>2</td>\n",
       "      <td>Abner Jay</td>\n",
       "      <td>Cocaine Blues</td>\n",
       "      <td>Cocaine, Cocaine Running round my heart And th...</td>\n",
       "      <td>Cocaine, Cocaine Running round my heart And th...</td>\n",
       "      <td>True</td>\n",
       "      <td>{'language': 'en', 'score': 0.9999948253358504}</td>\n",
       "      <td>en</td>\n",
       "      <td>[cocaine, ,, cocaine, running, round, my, hear...</td>\n",
       "      <td>443</td>\n",
       "    </tr>\n",
       "    <tr>\n",
       "      <td>3</td>\n",
       "      <td>Abner Jay</td>\n",
       "      <td>Don’t Mess with Me Baby</td>\n",
       "      <td>Terrible things; that’s what’s getting all the...</td>\n",
       "      <td>Terrible things; that’s what’s getting all the...</td>\n",
       "      <td>True</td>\n",
       "      <td>{'language': 'en', 'score': 0.9999987996976376}</td>\n",
       "      <td>en</td>\n",
       "      <td>[terrible, things, ;, that, ’, s, what, ’, s, ...</td>\n",
       "      <td>733</td>\n",
       "    </tr>\n",
       "    <tr>\n",
       "      <td>4</td>\n",
       "      <td>Abner Jay</td>\n",
       "      <td>I cried</td>\n",
       "      <td>I, I cried I cried in the ni-ight Oh please co...</td>\n",
       "      <td>I, I cried I cried in the ni-ight Oh please co...</td>\n",
       "      <td>True</td>\n",
       "      <td>{'language': 'en', 'score': 0.9999957025525114}</td>\n",
       "      <td>en</td>\n",
       "      <td>[i, ,, i, cried, i, cried, in, the, ni-ight, o...</td>\n",
       "      <td>152</td>\n",
       "    </tr>\n",
       "  </tbody>\n",
       "</table>\n",
       "</div>"
      ],
      "text/plain": [
       "      artist                    title  \\\n",
       "0  Abner Jay   Bring It When You Come   \n",
       "1  Abner Jay                  Cocaine   \n",
       "2  Abner Jay            Cocaine Blues   \n",
       "3  Abner Jay  Don’t Mess with Me Baby   \n",
       "4  Abner Jay                  I cried   \n",
       "\n",
       "                                              lyrics  \\\n",
       "0  Terrible things, always happening Just like ye...   \n",
       "1  Folk music is high-class music. There’s a lott...   \n",
       "2  Cocaine, Cocaine Running round my heart And th...   \n",
       "3  Terrible things; that’s what’s getting all the...   \n",
       "4  I, I cried I cried in the ni-ight Oh please co...   \n",
       "\n",
       "                                        lyrics_lines  eng_chars_only  \\\n",
       "0  Terrible things, always happening Just like ye...            True   \n",
       "1  Folk music is high-class music. There’s a lott...            True   \n",
       "2  Cocaine, Cocaine Running round my heart And th...            True   \n",
       "3  Terrible things; that’s what’s getting all the...            True   \n",
       "4  I, I cried I cried in the ni-ight Oh please co...            True   \n",
       "\n",
       "                                       lang_detect lang  \\\n",
       "0  {'language': 'en', 'score': 0.9999968176108587}   en   \n",
       "1  {'language': 'en', 'score': 0.9999957870727334}   en   \n",
       "2  {'language': 'en', 'score': 0.9999948253358504}   en   \n",
       "3  {'language': 'en', 'score': 0.9999987996976376}   en   \n",
       "4  {'language': 'en', 'score': 0.9999957025525114}   en   \n",
       "\n",
       "                                              tokens  token_ct  \n",
       "0  [terrible, things, ,, always, happening, just,...       429  \n",
       "1  [folk, music, is, high-class, music, ., there,...       501  \n",
       "2  [cocaine, ,, cocaine, running, round, my, hear...       443  \n",
       "3  [terrible, things, ;, that, ’, s, what, ’, s, ...       733  \n",
       "4  [i, ,, i, cried, i, cried, in, the, ni-ight, o...       152  "
      ]
     },
     "execution_count": 108,
     "metadata": {},
     "output_type": "execute_result"
    }
   ],
   "source": [
    "# tokenize, then lowercase tokens\n",
    "lyricsdf[\"tokens\"] = lyricsdf.lyrics.map(lambda x: nltk.word_tokenize(x))\n",
    "lyricsdf.tokens = lyricsdf.tokens.map(lambda x: [word.lower() for word in x])\n",
    "\n",
    "# create token count column\n",
    "lyricsdf[\"token_ct\"] = lyricsdf.tokens.map(len)\n",
    "lyricsdf.head()"
   ]
  },
  {
   "cell_type": "code",
   "execution_count": 109,
   "metadata": {},
   "outputs": [],
   "source": [
    "# lyricsdf[\"type_ct\"] = lyricsdf.tokens.map(lambda x: len(set(x)))    # type was not used in the present analysis\n",
    "# lyricsdf[\"TTR\"] = lyricsdf.type_ct / lyricsdf.token_ct              # TTR was not used in the present analysis"
   ]
  },
  {
   "cell_type": "code",
   "execution_count": 110,
   "metadata": {},
   "outputs": [
    {
     "data": {
      "text/plain": [
       "count    3102.000000\n",
       "mean      215.177950\n",
       "std       162.026948\n",
       "min         1.000000\n",
       "25%       119.000000\n",
       "50%       173.000000\n",
       "75%       267.000000\n",
       "max      2155.000000\n",
       "Name: token_ct, dtype: float64"
      ]
     },
     "execution_count": 110,
     "metadata": {},
     "output_type": "execute_result"
    }
   ],
   "source": [
    "lyricsdf.token_ct.describe()"
   ]
  },
  {
   "cell_type": "code",
   "execution_count": 111,
   "metadata": {},
   "outputs": [
    {
     "data": {
      "image/png": "[encoded data removed]",
      "text/plain": [
       "<Figure size 432x288 with 1 Axes>"
      ]
     },
     "metadata": {
      "needs_background": "light"
     },
     "output_type": "display_data"
    }
   ],
   "source": [
    "# Token count distribution\n",
    "lyricsdf.token_ct.plot(kind = \"box\", rot=0, title = \"Outsider Music Token Count Distribution\")\n",
    "plt.savefig('../images/outsider_token_count_dist.png')"
   ]
  },
  {
   "cell_type": "markdown",
   "metadata": {},
   "source": [
    "There are some lyrics with around 2,000 tokens!  This seems unusual.  Let's investigate... could this be a tokenization issue?  Note that, on average, most songs are about 200 tokens long, which seems a bit more reasonable."
   ]
  },
  {
   "cell_type": "code",
   "execution_count": 112,
   "metadata": {},
   "outputs": [
    {
     "data": {
      "text/html": [
       "<div>\n",
       "<style scoped>\n",
       "    .dataframe tbody tr th:only-of-type {\n",
       "        vertical-align: middle;\n",
       "    }\n",
       "\n",
       "    .dataframe tbody tr th {\n",
       "        vertical-align: top;\n",
       "    }\n",
       "\n",
       "    .dataframe thead th {\n",
       "        text-align: right;\n",
       "    }\n",
       "</style>\n",
       "<table border=\"1\" class=\"dataframe\">\n",
       "  <thead>\n",
       "    <tr style=\"text-align: right;\">\n",
       "      <th></th>\n",
       "      <th>artist</th>\n",
       "      <th>title</th>\n",
       "      <th>lyrics</th>\n",
       "      <th>lyrics_lines</th>\n",
       "      <th>eng_chars_only</th>\n",
       "      <th>lang_detect</th>\n",
       "      <th>lang</th>\n",
       "      <th>tokens</th>\n",
       "      <th>token_ct</th>\n",
       "    </tr>\n",
       "  </thead>\n",
       "  <tbody>\n",
       "    <tr>\n",
       "      <td>1242</td>\n",
       "      <td>Jandek</td>\n",
       "      <td>One Last Chance</td>\n",
       "      <td>I need another chance I need one last chance I...</td>\n",
       "      <td>I need another chance I need one last chance I...</td>\n",
       "      <td>True</td>\n",
       "      <td>{'language': 'en', 'score': 0.9999954495905741}</td>\n",
       "      <td>en</td>\n",
       "      <td>[i, need, another, chance, i, need, one, last,...</td>\n",
       "      <td>2155</td>\n",
       "    </tr>\n",
       "  </tbody>\n",
       "</table>\n",
       "</div>"
      ],
      "text/plain": [
       "      artist            title  \\\n",
       "1242  Jandek  One Last Chance   \n",
       "\n",
       "                                                 lyrics  \\\n",
       "1242  I need another chance I need one last chance I...   \n",
       "\n",
       "                                           lyrics_lines  eng_chars_only  \\\n",
       "1242  I need another chance I need one last chance I...            True   \n",
       "\n",
       "                                          lang_detect lang  \\\n",
       "1242  {'language': 'en', 'score': 0.9999954495905741}   en   \n",
       "\n",
       "                                                 tokens  token_ct  \n",
       "1242  [i, need, another, chance, i, need, one, last,...      2155  "
      ]
     },
     "execution_count": 112,
     "metadata": {},
     "output_type": "execute_result"
    }
   ],
   "source": [
    "lyricsdf[lyricsdf.token_ct >= 2000]"
   ]
  },
  {
   "cell_type": "code",
   "execution_count": 113,
   "metadata": {},
   "outputs": [
    {
     "data": {
      "text/plain": [
       "'I need another chance I need one last chance I’ve looked at myself I don’t like what I see I need another chance To try to do it right I can do it right If I have the strength If I keep my will If I direct my body I can do it right I need another chance Because I looked at myself And I’m goin wrong But I can do it right You can show me how Like you did before When I really needed to do it right I was in a fix before I was really in trouble It was sharp and quick It took me by surprise And you helped me then It was a matter of time But this time it’s different It’s been a growing thing It wasn’t sharp and quick No no no no It didn’t take me by surprise It came along slow and soft It crept and I saw it all along the way It came on bit by bit And I knew it all along The only difference is now It’s gone too far It’s gone too far It almost seems irreversible I need another chance I wanna do it right Cause when I looked at myself It was going all wrong I’ve got to change my style I’ve got to do something different I’ve got to be in my world I’ve got to see what I see I’ve got to hear what I hear I’ve got to move through time With me on my mind You can forget the rest Because if I think about it I’m gonna lose myself And it’ll be too late Don’t let it be too late now Don’t let it be too late now I need another chance Cause it’s gone too far I hope it’s not irreversible Let me stem the tide Let me reverse this thing Let me put my hand up and say \"Stop\" Even \"Turn around, go back where you came\" Give me another chance Because I can do it right I can do it right I’ve got to do it right Because if I don’t I’m gone I’m real gone And I don’t want to lose All of my control I wanna be the driver The one ridin’ in the trunk With the rope around my feet and my hand And a gag in my mouth Don’t wanna be kidnapped by What? Who? Where? I wanna move through time With me on my mind I wanna be the driver I wanna say to my selves \"Move like you should, assemble yourselves And do right for this body, this mind This soul, this spirit, this being\" I wanna live right I wanna live so right I don’t wanna go wrong And I see myself goin wrong So I’ve got to stop I’ve got to summon my powers I’ve got to drop off all the dead and dying I got to cauterize my wounds I got to stem the tide of the bad I got to say \"Stop, turn around Go back to from where you came\" I wanna be right, you bad go back Go back to from where you came Bad bad, go back, bad bad, go back I wanna be right I wanna be right I wanna control my body my soul my mind my spirit I wanna be in charge I wanna say it’s like this I wanna say it’s like that I don’t wanna be told Don’t wanna be told \"You gotta be like that You gotta be like this\" Cause it don’t help none I know why I know where I know how I know when I wanna be I know what I wanna be I know how I wanna be I know when I wanna be I know where I wanna be I wanna be right in my own mind If I can’t be right I’m gonna be gone I don’t wanna be gone I just wanna be, me, here, now Give me another chance Give one more chance And let me do right Once and for all All time eternally I wanna be right eternally I don’t have to be alone I can be alone I don’t have to be alone But I can be alone But I don’t have to be alone It doesn’t matter Right is right It comes from outside, not from the outside I wanna be right from the inside out I want you to see I want them to see I want to be right for everyone to see I wanna be right For me, for you, for them, for the elements For space, for time Please give me another chance Don’t let it be gone Don’t it be the end of being right I saw myself right I let it go, give it back Give me another chance, give it back I let it go, give it back Give me another chance I wanna live right I wanna live right I wanna be in charge of my life My death, my eternity I wanna be right And I’ll do anything I gotta summon my powers I gotta be myself I gotta have my will I gotta be myself I gotta get my strength I gotta conquer these foes I gotta beat up on bad I gotta elevate the good It’s so easy to see Bad and good, I can see I can see what’s bad and good I can look I can tell I can judge I can point my finger And say \"That’s bad, that’s good\" And deep inside I know I can’t be wrong If I’m right, give me another chance I wanna be right I wanna be right I wanna be right Give me another chance Give me another chance Give me another chance Cause I looked at myself And I saw bad I looked at myself and I said \"Oh, is it too late?\" Is it too late? Oh, please don’t let it be too late Don’t let it be too late Help me reverse this trend Help me stem this tide Help me put my hand down and say \"Stop, turn around Go back to from where you came\" Let me take the good Let me put it in myself Let me digest the good Let me emanate the good Let me be in control Don’t let this sickness take me over Don’t let these things get me down Don’t let these things take effect Don’t let em change me And I don’t mind if I change But let it be good Let me change to the good Every time I change Every second I move Every time I turn around Kill the bad, kill em Kill the bad Kill the bad Generate the good in me Kill the bad things I got inside me Let them die They don’t deserve, let em die Just kill em It ain’t like killin’ no It’s annihilation, extermination Elimination elimination Eliminate the bad Cast the bad Eliminate the bad I want to be good I wanna be right There’s only one judge of that I know I wanna be right I gotta see myself right I got to see myself If I’m not right, why not? Cause I did bad Yeah, I did bad And I’ll tell you this Bad is different for everyone that is different And that’s everyone and everything So your bad’s not my bad But I got bad and you bad Unless I don’t know you like I know me But I know me, and I got bad, and I got wrong And I don’t like it And I want to eliminate it I want it gone before I’m gone I want bad to be gone before I’m gone I don’t want to be gone I want bad to be gone so I can be I don’t be right I wanna be right Give me another chance Give me another chance I won’t let you down, not this time Three strikes and you’re out And I had one And I hit a home run But I stopped after first base And hey, they They pushed me, they They pushed and pulled But they couldn’t pull me any farther than that Must of been fear I think it was fear Cause I had it made I had the whole home run But I missed it Second time up I hardly even swung I didn’t even try I quit trying I knew what I should be doin Every once in a while I’d touch my little toe in the water But I never did jump in I never did dive in to that water And that’s what I know I gotta do now Cause if I don’t do it now I’m gone Because wrong is at the point It’s at the point of smothering me Smoldering me, drowning me Putting me out And I need to burn my flame I need to ignite I need to spark I need to beam I need to shine my light Give me another chance to shine my light I don’t want to go down I don’t have to go down Not if I got some will And I got some power And I got some strength And I got some control And I’m the driver And I’m in charge I can do it I can do it Hey, I got to do it If I don’t do it, I’m done It’s either do or be done I’m not over yet I’m not over I’m never gonna be over I’m never gonna end I shall not end I’m not gonna be gone I’m gonna be forever Eternally I shall be And I’m not saying That I always was I’m saying I shall always be And I make this decision now I shall be I want to do right And there is no eye in this universe That can tell me What right is, because I know what right is And I know what wrong is By this time I know Give me another chance Give me another chance I surely need your help I surely need your help To conquer death To conquer evil To conquer bad I wanna be in charge I wanna control my destiny I wanna live up to my standards I know it can be done It came sharp and quick And you helped me And I conquered all Now it’s come slow and soft And I need your help For the last time Cause if it’s not this time I believe it’s never And I can’t face that I don’t have to face that I demand your assistance It only takes one word And that word is yes Give me your yes And I’ll give you mine I gave you mine I forgot it, and I’m sorry But you hit me hard'"
      ]
     },
     "execution_count": 113,
     "metadata": {},
     "output_type": "execute_result"
    }
   ],
   "source": [
    "lyricsdf.loc[1242].lyrics"
   ]
  },
  {
   "cell_type": "markdown",
   "metadata": {},
   "source": [
    "This is actually pretty long.  (It's a 30-minute video on [YouTube](https://www.youtube.com/watch?v=nbn1Ei7Jfkc)!    \n",
    "\n",
    "What are the songs with the shortest lyrics?"
   ]
  },
  {
   "cell_type": "code",
   "execution_count": 124,
   "metadata": {},
   "outputs": [
    {
     "data": {
      "text/html": [
       "<div>\n",
       "<style scoped>\n",
       "    .dataframe tbody tr th:only-of-type {\n",
       "        vertical-align: middle;\n",
       "    }\n",
       "\n",
       "    .dataframe tbody tr th {\n",
       "        vertical-align: top;\n",
       "    }\n",
       "\n",
       "    .dataframe thead th {\n",
       "        text-align: right;\n",
       "    }\n",
       "</style>\n",
       "<table border=\"1\" class=\"dataframe\">\n",
       "  <thead>\n",
       "    <tr style=\"text-align: right;\">\n",
       "      <th></th>\n",
       "      <th>artist</th>\n",
       "      <th>title</th>\n",
       "      <th>lyrics</th>\n",
       "      <th>lyrics_lines</th>\n",
       "      <th>eng_chars_only</th>\n",
       "      <th>lang_detect</th>\n",
       "      <th>lang</th>\n",
       "      <th>tokens</th>\n",
       "      <th>token_ct</th>\n",
       "    </tr>\n",
       "  </thead>\n",
       "  <tbody>\n",
       "    <tr>\n",
       "      <td>57</td>\n",
       "      <td>Ariel Pink</td>\n",
       "      <td>El Fantastic Summer Part</td>\n",
       "      <td>Yeah</td>\n",
       "      <td>Yeah</td>\n",
       "      <td>True</td>\n",
       "      <td>{'language': 'id', 'score': 0.5714264813325274}</td>\n",
       "      <td>id</td>\n",
       "      <td>[yeah]</td>\n",
       "      <td>1</td>\n",
       "    </tr>\n",
       "    <tr>\n",
       "      <td>2452</td>\n",
       "      <td>Viper</td>\n",
       "      <td>Cocaine</td>\n",
       "      <td>Cocaine</td>\n",
       "      <td>Cocaine</td>\n",
       "      <td>True</td>\n",
       "      <td>{'language': 'fr', 'score': 0.8571403600244323}</td>\n",
       "      <td>fr</td>\n",
       "      <td>[cocaine]</td>\n",
       "      <td>1</td>\n",
       "    </tr>\n",
       "    <tr>\n",
       "      <td>314</td>\n",
       "      <td>Brian Wilson</td>\n",
       "      <td>Metal Beach</td>\n",
       "      <td>Metal beach</td>\n",
       "      <td>Metal beach</td>\n",
       "      <td>True</td>\n",
       "      <td>{'language': 'de', 'score': 0.7142843919019733}</td>\n",
       "      <td>de</td>\n",
       "      <td>[metal, beach]</td>\n",
       "      <td>2</td>\n",
       "    </tr>\n",
       "    <tr>\n",
       "      <td>147</td>\n",
       "      <td>Ariel Pink</td>\n",
       "      <td>Starry Eyes</td>\n",
       "      <td>​raw ot oG</td>\n",
       "      <td>​raw ot oG</td>\n",
       "      <td>False</td>\n",
       "      <td>{'language': 'pl', 'score': 0.9999968888619828}</td>\n",
       "      <td>pl</td>\n",
       "      <td>[​raw, ot, og]</td>\n",
       "      <td>3</td>\n",
       "    </tr>\n",
       "    <tr>\n",
       "      <td>1353</td>\n",
       "      <td>Jandek</td>\n",
       "      <td>You</td>\n",
       "      <td>You can feel...</td>\n",
       "      <td>You can feel...</td>\n",
       "      <td>True</td>\n",
       "      <td>{'language': 'ca', 'score': 0.714284365273152}</td>\n",
       "      <td>ca</td>\n",
       "      <td>[you, can, feel, ...]</td>\n",
       "      <td>4</td>\n",
       "    </tr>\n",
       "    <tr>\n",
       "      <td>2272</td>\n",
       "      <td>The Red Krayola</td>\n",
       "      <td>Listen to This</td>\n",
       "      <td>Listen to this!</td>\n",
       "      <td>Listen to this!</td>\n",
       "      <td>True</td>\n",
       "      <td>{'language': 'en', 'score': 0.9999976551328702}</td>\n",
       "      <td>en</td>\n",
       "      <td>[listen, to, this, !]</td>\n",
       "      <td>4</td>\n",
       "    </tr>\n",
       "    <tr>\n",
       "      <td>2528</td>\n",
       "      <td>Viper</td>\n",
       "      <td>InTheBack</td>\n",
       "      <td>Needs to be transcribed</td>\n",
       "      <td>Needs to be transcribed</td>\n",
       "      <td>True</td>\n",
       "      <td>{'language': 'en', 'score': 0.9999955365033223}</td>\n",
       "      <td>en</td>\n",
       "      <td>[needs, to, be, transcribed]</td>\n",
       "      <td>4</td>\n",
       "    </tr>\n",
       "    <tr>\n",
       "      <td>2456</td>\n",
       "      <td>Viper</td>\n",
       "      <td>Crakkkk</td>\n",
       "      <td>Ahahhaah u dunevn smoke crakk</td>\n",
       "      <td>Ahahhaah u dunevn smoke crakk</td>\n",
       "      <td>True</td>\n",
       "      <td>{'language': 'id', 'score': 0.5714278131912996}</td>\n",
       "      <td>id</td>\n",
       "      <td>[ahahhaah, u, dunevn, smoke, crakk]</td>\n",
       "      <td>5</td>\n",
       "    </tr>\n",
       "    <tr>\n",
       "      <td>1241</td>\n",
       "      <td>Jandek</td>\n",
       "      <td>Oh No</td>\n",
       "      <td>Ooh Oh no, oh no</td>\n",
       "      <td>Ooh Oh no, oh no</td>\n",
       "      <td>True</td>\n",
       "      <td>{'language': 'sl', 'score': 0.5714268484935234}</td>\n",
       "      <td>sl</td>\n",
       "      <td>[ooh, oh, no, ,, oh, no]</td>\n",
       "      <td>6</td>\n",
       "    </tr>\n",
       "    <tr>\n",
       "      <td>208</td>\n",
       "      <td>Brian Wilson</td>\n",
       "      <td>Can’t Wait Too Long</td>\n",
       "      <td>Been too long Been too long</td>\n",
       "      <td>Been too long Been too long</td>\n",
       "      <td>True</td>\n",
       "      <td>{'language': 'nl', 'score': 0.7142832156187705}</td>\n",
       "      <td>nl</td>\n",
       "      <td>[been, too, long, been, too, long]</td>\n",
       "      <td>6</td>\n",
       "    </tr>\n",
       "  </tbody>\n",
       "</table>\n",
       "</div>"
      ],
      "text/plain": [
       "               artist                     title  \\\n",
       "57         Ariel Pink  El Fantastic Summer Part   \n",
       "2452            Viper                   Cocaine   \n",
       "314      Brian Wilson               Metal Beach   \n",
       "147        Ariel Pink               Starry Eyes   \n",
       "1353           Jandek                       You   \n",
       "2272  The Red Krayola            Listen to This   \n",
       "2528            Viper                 InTheBack   \n",
       "2456            Viper                   Crakkkk   \n",
       "1241           Jandek                     Oh No   \n",
       "208      Brian Wilson       Can’t Wait Too Long   \n",
       "\n",
       "                             lyrics                   lyrics_lines  \\\n",
       "57                             Yeah                           Yeah   \n",
       "2452                        Cocaine                        Cocaine   \n",
       "314                     Metal beach                    Metal beach   \n",
       "147                      ​raw ot oG                     ​raw ot oG   \n",
       "1353                You can feel...                You can feel...   \n",
       "2272               Listen to this!                Listen to this!    \n",
       "2528        Needs to be transcribed        Needs to be transcribed   \n",
       "2456  Ahahhaah u dunevn smoke crakk  Ahahhaah u dunevn smoke crakk   \n",
       "1241               Ooh Oh no, oh no               Ooh Oh no, oh no   \n",
       "208     Been too long Been too long    Been too long Been too long   \n",
       "\n",
       "      eng_chars_only                                      lang_detect lang  \\\n",
       "57              True  {'language': 'id', 'score': 0.5714264813325274}   id   \n",
       "2452            True  {'language': 'fr', 'score': 0.8571403600244323}   fr   \n",
       "314             True  {'language': 'de', 'score': 0.7142843919019733}   de   \n",
       "147            False  {'language': 'pl', 'score': 0.9999968888619828}   pl   \n",
       "1353            True   {'language': 'ca', 'score': 0.714284365273152}   ca   \n",
       "2272            True  {'language': 'en', 'score': 0.9999976551328702}   en   \n",
       "2528            True  {'language': 'en', 'score': 0.9999955365033223}   en   \n",
       "2456            True  {'language': 'id', 'score': 0.5714278131912996}   id   \n",
       "1241            True  {'language': 'sl', 'score': 0.5714268484935234}   sl   \n",
       "208             True  {'language': 'nl', 'score': 0.7142832156187705}   nl   \n",
       "\n",
       "                                   tokens  token_ct  \n",
       "57                                 [yeah]         1  \n",
       "2452                            [cocaine]         1  \n",
       "314                        [metal, beach]         2  \n",
       "147                        [​raw, ot, og]         3  \n",
       "1353                [you, can, feel, ...]         4  \n",
       "2272                [listen, to, this, !]         4  \n",
       "2528         [needs, to, be, transcribed]         4  \n",
       "2456  [ahahhaah, u, dunevn, smoke, crakk]         5  \n",
       "1241             [ooh, oh, no, ,, oh, no]         6  \n",
       "208    [been, too, long, been, too, long]         6  "
      ]
     },
     "execution_count": 124,
     "metadata": {},
     "output_type": "execute_result"
    }
   ],
   "source": [
    "shortest = lyricsdf[lyricsdf.token_ct < 20]\n",
    "shortest.sort_values('token_ct').head(10)"
   ]
  },
  {
   "cell_type": "markdown",
   "metadata": {},
   "source": [
    "\"Needs to be transcribed\" is likely not a lyric and was missed during data cleaning.  As a disclaimer, much of this data isn't perfectly cleaned.  Unlike some more popular music, a lot of this data is very idiosyncratic and non-English-like (as seems to be the pattern until now).  This \"Needs to be transcribed\" example and a few others I have encountered through data sampling do not follow the exact format as previous \"transcription\"-centered comments.  Because of this, it will be difficult to identify and remove all comments like this.\n",
    "\n",
    "Furthermore, note that spaCy's language detector identified many of these shorter lyrical entries as non-English languages.  It's additionally interesting to note that many of these lyrics are identical to the titles, bringing up a question: are these mistakes from the Genius API pulling titles from empty lyric pages, or are these really just the lyrics of the song?  These can't be answered by further linguistic analysis but are rather just questions about the dataset.  In the case that anyone would like to replicate my methods of pulling and cleaning the data, this is something to keep in mind."
   ]
  },
  {
   "cell_type": "markdown",
   "metadata": {},
   "source": [
    "**Artist Distribution**    "
   ]
  },
  {
   "cell_type": "code",
   "execution_count": 115,
   "metadata": {},
   "outputs": [
    {
     "data": {
      "text/plain": [
       "count              3102\n",
       "unique               62\n",
       "top       Wesley Willis\n",
       "freq                561\n",
       "Name: artist, dtype: object"
      ]
     },
     "execution_count": 115,
     "metadata": {},
     "output_type": "execute_result"
    }
   ],
   "source": [
    "lyricsdf.artist.describe()"
   ]
  },
  {
   "cell_type": "code",
   "execution_count": 116,
   "metadata": {},
   "outputs": [
    {
     "data": {
      "text/plain": [
       "Wesley Willis       561\n",
       "Jandek              339\n",
       "Daniel Johnston     313\n",
       "Viper               261\n",
       "Brian Wilson        223\n",
       "John Frusciante     177\n",
       "Ariel Pink          121\n",
       "R. Stevie Moore     102\n",
       "John Maus            93\n",
       "Syd Barrett          91\n",
       "Roky Erickson        80\n",
       "IceJJFish            57\n",
       "Gary Wilson          56\n",
       "Wild Man Fischer     54\n",
       "William Shatner      50\n",
       "Name: artist, dtype: int64"
      ]
     },
     "execution_count": 116,
     "metadata": {},
     "output_type": "execute_result"
    }
   ],
   "source": [
    "# 15 most frequent artists\n",
    "lyricsdf.artist.value_counts()[:15]"
   ]
  },
  {
   "cell_type": "code",
   "execution_count": 117,
   "metadata": {
    "scrolled": true
   },
   "outputs": [
    {
     "data": {
      "text/plain": [
       "Legendary Stardust Cowboy    2\n",
       "Eilert pilarm                2\n",
       "Nervous Norvus               2\n",
       "Craig Smith                  2\n",
       "Leona Anderson               2\n",
       "Ajdar                        2\n",
       "Bobby Jameson                2\n",
       "Varg Vikernes                1\n",
       "Harry Partch                 1\n",
       "Sky Saxon                    1\n",
       "Paul Hawkins                 1\n",
       "Dr. Demento                  1\n",
       "Damião Experiença            1\n",
       "Mrs. Miller                  1\n",
       "Lucia Pamela                 1\n",
       "Name: artist, dtype: int64"
      ]
     },
     "execution_count": 117,
     "metadata": {},
     "output_type": "execute_result"
    }
   ],
   "source": [
    "# 15 least frequent artists\n",
    "lyricsdf.artist.value_counts()[-15:]"
   ]
  },
  {
   "cell_type": "code",
   "execution_count": 118,
   "metadata": {},
   "outputs": [],
   "source": [
    "# Separate top 15 artists\n",
    "artists_to_plot = lyricsdf.artist.value_counts()[:15]\n",
    "few_artist = lyricsdf.artist.value_counts()[15:]\n",
    "\n",
    "# Create an \"other\" group, which sums together the bottom 48 artist counts\n",
    "sum = 0\n",
    "for y in few_artist:\n",
    "    sum = sum +y\n",
    "artists_to_plot = artists_to_plot.append(pd.Series(sum))\n",
    "artists_to_plot.rename(index={0:'Other'},inplace=True)"
   ]
  },
  {
   "cell_type": "code",
   "execution_count": 121,
   "metadata": {},
   "outputs": [
    {
     "data": {
      "image/png": "[encoded data removed]",
      "text/plain": [
       "<Figure size 432x288 with 1 Axes>"
      ]
     },
     "metadata": {},
     "output_type": "display_data"
    }
   ],
   "source": [
    "# Only shows the top 15 artists, as well as 48 \"Other\" artists grouped together\n",
    "\n",
    "# Pie plot of top 15 artists & other\n",
    "plt.pie(artists_to_plot, autopct='%1.1f%%', pctdistance = 1.2, labeldistance = 1.4)\n",
    "plt.legend(artists_to_plot.index, bbox_to_anchor=(-0.1, 1.),\n",
    "           fontsize=8)\n",
    "plt.title(\"Outsider Artist Distribution\")\n",
    "plt.savefig('../images/outsider_artist_dist_fig.png')\n",
    "plt.tight_layout()\n",
    "plt.show()\n",
    "\n",
    "# NOTE: I couldn't get the percentages to not overlap.  Ideally, the smaller percentages wouldn't be displayed."
   ]
  },
  {
   "cell_type": "code",
   "execution_count": 120,
   "metadata": {},
   "outputs": [
    {
     "data": {
      "text/plain": [
       "Wesley Willis       561\n",
       "Jandek              339\n",
       "Daniel Johnston     313\n",
       "Viper               261\n",
       "Brian Wilson        223\n",
       "John Frusciante     177\n",
       "Ariel Pink          121\n",
       "R. Stevie Moore     102\n",
       "John Maus            93\n",
       "Syd Barrett          91\n",
       "Roky Erickson        80\n",
       "IceJJFish            57\n",
       "Gary Wilson          56\n",
       "Wild Man Fischer     54\n",
       "William Shatner      50\n",
       "Other               524\n",
       "dtype: int64"
      ]
     },
     "execution_count": 120,
     "metadata": {},
     "output_type": "execute_result"
    }
   ],
   "source": [
    "artists_to_plot"
   ]
  },
  {
   "cell_type": "code",
   "execution_count": 122,
   "metadata": {},
   "outputs": [
    {
     "data": {
      "text/plain": [
       "count              3102\n",
       "unique               62\n",
       "top       Wesley Willis\n",
       "freq                561\n",
       "Name: artist, dtype: object"
      ]
     },
     "execution_count": 122,
     "metadata": {},
     "output_type": "execute_result"
    }
   ],
   "source": [
    "lyricsdf.artist.describe()"
   ]
  },
  {
   "cell_type": "code",
   "execution_count": 123,
   "metadata": {},
   "outputs": [
    {
     "data": {
      "text/plain": [
       "count                                                  3102\n",
       "unique                                                 3036\n",
       "top       I knew a girl and I like her still She said sh...\n",
       "freq                                                      3\n",
       "Name: lyrics, dtype: object"
      ]
     },
     "execution_count": 123,
     "metadata": {},
     "output_type": "execute_result"
    }
   ],
   "source": [
    "lyricsdf.lyrics.describe()"
   ]
  },
  {
   "cell_type": "markdown",
   "metadata": {},
   "source": [
    "After cleaning up the data, Wesley Willis is still at the top of the artist-count list, followed by 7 artists with song volumes of the same magnitude (in the 100s).  Note that Willis has more representation in this dataset (18.1%) than 47 of the least frequent artists (16.9%).\n",
    "\n",
    "In total, there are 3,102 viable lyric entries left in the dataset after cleaning.  Of this, there are 62 unique artists, and 3,036 unique entries.  Fewer unique entries than total entries implies that there are duplicates.  After investigation, these are lyrics that do NOT share the same title, but share the same lyrics.  In the future, I would need to investigate these items a bit more deeply to understand why this is happening; is it a phenomenon of the lyrics, or is it an issue with pulling from the Genius API?"
   ]
  },
  {
   "cell_type": "markdown",
   "metadata": {},
   "source": [
    "**Most Common Words**"
   ]
  },
  {
   "cell_type": "code",
   "execution_count": 125,
   "metadata": {},
   "outputs": [
    {
     "name": "stdout",
     "output_type": "stream",
     "text": [
      "[('’', 33748), ('i', 25506), (',', 24260), ('the', 23883), ('you', 18573), ('a', 13452), ('and', 11878), ('to', 11611), ('s', 9768), ('it', 9523), ('me', 8931), ('my', 8541), ('in', 7396), ('t', 6646), ('of', 5641), ('that', 5491), ('on', 5125), ('m', 4951), ('your', 4242), ('is', 4035)]\n"
     ]
    }
   ],
   "source": [
    "# The most common words in this dataset\n",
    "from collections import Counter\n",
    "outtoks = []\n",
    "\n",
    "for toks in lyricsdf.tokens:\n",
    "    outtoks.extend(toks)\n",
    "\n",
    "outfreq = Counter(outtoks)\n",
    "print(outfreq.most_common(20))"
   ]
  },
  {
   "cell_type": "code",
   "execution_count": 221,
   "metadata": {},
   "outputs": [
    {
     "data": {
      "image/png": "[encoded data removed]",
      "text/plain": [
       "<Figure size 432x288 with 1 Axes>"
      ]
     },
     "metadata": {
      "needs_background": "light"
     },
     "output_type": "display_data"
    }
   ],
   "source": [
    "# Create bar plot with most common words and their counts\n",
    "word = []\n",
    "count = []\n",
    "for (w, c) in outfreq.most_common(20):\n",
    "    word.append(w)\n",
    "    count.append(c)\n",
    "plt.bar(word, count)\n",
    "plt.xticks(rotation = 90)\n",
    "plt.title(\"Most Common Words in Outsider Music\")\n",
    "plt.savefig(\"../images/out_most_common_words\")\n",
    "plt.show()"
   ]
  },
  {
   "cell_type": "markdown",
   "metadata": {},
   "source": [
    "Unsurprisingly (or maybe surprisingly, given the nature of the data so far), the most common words in the dataset are pronouns, contractions, and other functional items or punctuation.  Let's try to look at the most common words that aren't stopwords ([source](https://stackoverflow.com/questions/31826950/dropping-specific-words-out-of-an-nltk-distribution-beyond-stopwords))."
   ]
  },
  {
   "cell_type": "code",
   "execution_count": 127,
   "metadata": {},
   "outputs": [
    {
     "name": "stdout",
     "output_type": "stream",
     "text": [
      "[('got', 3048), ('like', 2832), ('know', 2748), ('love', 2713), ('rock', 2396), ('go', 1964), ('na', 1960), ('time', 1870), ('get', 1856), ('oh', 1809), ('see', 1773), ('one', 1647), ('let', 1495), ('never', 1411), ('cause', 1335), ('ass', 1314), ('way', 1302), ('yeah', 1240), ('life', 1196), ('baby', 1195)]\n"
     ]
    }
   ],
   "source": [
    "# If we remove stopwords and punctuation, what do we get?\n",
    "stopwords = nltk.corpus.stopwords.words('english')\n",
    "stopwords.extend(['’', ',', '?', '!', '(', ')', '[', ']', '.', \"'\", '\"',])   # also remove punctuation\n",
    "filtered_outfreq = dict((word, freq) for word, freq in outfreq.items() if word not in (stopwords))\n",
    "lyricsdf_fd = nltk.FreqDist(filtered_outfreq)\n",
    "print(lyricsdf_fd.most_common(20))"
   ]
  },
  {
   "cell_type": "code",
   "execution_count": 223,
   "metadata": {},
   "outputs": [
    {
     "data": {
      "image/png": "[encoded data removed]",
      "text/plain": [
       "<Figure size 432x288 with 1 Axes>"
      ]
     },
     "metadata": {
      "needs_background": "light"
     },
     "output_type": "display_data"
    }
   ],
   "source": [
    "# Create bar plot with most common words and their counts (NOT including stopwords)\n",
    "word = []\n",
    "count = []\n",
    "for (w, c) in lyricsdf_fd.most_common(20):\n",
    "    word.append(w)\n",
    "    count.append(c)\n",
    "plt.bar(word, count)\n",
    "plt.xticks(rotation = 90)\n",
    "plt.title(\"Most Common Words in Outsider Music (Without Stopwords)\")\n",
    "plt.savefig(\"../images/out_most_common_words_nostops\")\n",
    "plt.show()"
   ]
  },
  {
   "cell_type": "code",
   "execution_count": 129,
   "metadata": {},
   "outputs": [
    {
     "name": "stdout",
     "output_type": "stream",
     "text": [
      "In Outsider Music:\n",
      " 'rock' count = 2396 \n",
      " 'ass' count = 1314 \n",
      " 'rock' % = 0.0035896099070836366 \n",
      " 'ass' % = 0.001968592411480759 \n",
      "\n"
     ]
    }
   ],
   "source": [
    "# \"Rock\" and \"ass\" are interesting... in the most common words\n",
    "# What's their distribution overall? \n",
    "\n",
    "rock = lyricsdf_fd[\"rock\"]\n",
    "ass = lyricsdf_fd[\"ass\"]\n",
    "rockpct = lyricsdf_fd[\"rock\"] / lyricsdf.token_ct.sum()\n",
    "asspct = lyricsdf_fd[\"ass\"] / lyricsdf.token_ct.sum()\n",
    "\n",
    "print(\"In Outsider Music:\\n\",\n",
    "    \"'rock' count =\", rock, \"\\n\",\n",
    "     \"'ass' count =\", ass, \"\\n\",\n",
    "     \"'rock' % =\", rockpct, \"\\n\",\n",
    "     \"'ass' % =\", asspct, \"\\n\")"
   ]
  },
  {
   "cell_type": "markdown",
   "metadata": {},
   "source": [
    "Now these are some more interesting words!  I wonder how they'll play out against the \"insider\" music dataset--the Billboard Hot 100 corpus."
   ]
  },
  {
   "cell_type": "markdown",
   "metadata": {},
   "source": [
    "## Analysis of Popular Music\n",
    "### Billboard Hot 100 Corpus\n",
    "I'll be using Kaylin Pavlik's dataset from her [\"50 Years of Pop Music\"](https://www.kaylinpavlik.com/50-years-of-pop-music/) project as a means of comparison for the present outsider music dataset.  It should be noted that Pavlik's dataset contains the most popular music over a span of 5 decades, and so it is not perfectly comparable to the outsider music dataset, which does not contain information on temporal stratification or genre.\n",
    "\n",
    "After some mild cleaning, we'll repeat the same analysis:\n",
    "- token count distribution\n",
    "- artist distribution\n",
    "- most common word tokens, with and without stopwords"
   ]
  },
  {
   "cell_type": "code",
   "execution_count": 130,
   "metadata": {},
   "outputs": [
    {
     "data": {
      "text/html": [
       "<div>\n",
       "<style scoped>\n",
       "    .dataframe tbody tr th:only-of-type {\n",
       "        vertical-align: middle;\n",
       "    }\n",
       "\n",
       "    .dataframe tbody tr th {\n",
       "        vertical-align: top;\n",
       "    }\n",
       "\n",
       "    .dataframe thead th {\n",
       "        text-align: right;\n",
       "    }\n",
       "</style>\n",
       "<table border=\"1\" class=\"dataframe\">\n",
       "  <thead>\n",
       "    <tr style=\"text-align: right;\">\n",
       "      <th></th>\n",
       "      <th>Rank</th>\n",
       "      <th>Song</th>\n",
       "      <th>Artist</th>\n",
       "      <th>Year</th>\n",
       "      <th>Lyrics</th>\n",
       "      <th>Source</th>\n",
       "    </tr>\n",
       "  </thead>\n",
       "  <tbody>\n",
       "    <tr>\n",
       "      <td>0</td>\n",
       "      <td>1</td>\n",
       "      <td>wooly bully</td>\n",
       "      <td>sam the sham and the pharaohs</td>\n",
       "      <td>1965</td>\n",
       "      <td>sam the sham miscellaneous wooly bully wooly b...</td>\n",
       "      <td>3.0</td>\n",
       "    </tr>\n",
       "    <tr>\n",
       "      <td>1</td>\n",
       "      <td>2</td>\n",
       "      <td>i cant help myself sugar pie honey bunch</td>\n",
       "      <td>four tops</td>\n",
       "      <td>1965</td>\n",
       "      <td>sugar pie honey bunch you know that i love yo...</td>\n",
       "      <td>1.0</td>\n",
       "    </tr>\n",
       "    <tr>\n",
       "      <td>2</td>\n",
       "      <td>3</td>\n",
       "      <td>i cant get no satisfaction</td>\n",
       "      <td>the rolling stones</td>\n",
       "      <td>1965</td>\n",
       "      <td></td>\n",
       "      <td>1.0</td>\n",
       "    </tr>\n",
       "    <tr>\n",
       "      <td>3</td>\n",
       "      <td>4</td>\n",
       "      <td>you were on my mind</td>\n",
       "      <td>we five</td>\n",
       "      <td>1965</td>\n",
       "      <td>when i woke up this morning you were on my mi...</td>\n",
       "      <td>1.0</td>\n",
       "    </tr>\n",
       "    <tr>\n",
       "      <td>4</td>\n",
       "      <td>5</td>\n",
       "      <td>youve lost that lovin feelin</td>\n",
       "      <td>the righteous brothers</td>\n",
       "      <td>1965</td>\n",
       "      <td>you never close your eyes anymore when i kiss...</td>\n",
       "      <td>1.0</td>\n",
       "    </tr>\n",
       "  </tbody>\n",
       "</table>\n",
       "</div>"
      ],
      "text/plain": [
       "   Rank                                      Song  \\\n",
       "0     1                               wooly bully   \n",
       "1     2  i cant help myself sugar pie honey bunch   \n",
       "2     3                i cant get no satisfaction   \n",
       "3     4                       you were on my mind   \n",
       "4     5              youve lost that lovin feelin   \n",
       "\n",
       "                          Artist  Year  \\\n",
       "0  sam the sham and the pharaohs  1965   \n",
       "1                      four tops  1965   \n",
       "2             the rolling stones  1965   \n",
       "3                        we five  1965   \n",
       "4         the righteous brothers  1965   \n",
       "\n",
       "                                              Lyrics  Source  \n",
       "0  sam the sham miscellaneous wooly bully wooly b...     3.0  \n",
       "1   sugar pie honey bunch you know that i love yo...     1.0  \n",
       "2                                                        1.0  \n",
       "3   when i woke up this morning you were on my mi...     1.0  \n",
       "4   you never close your eyes anymore when i kiss...     1.0  "
      ]
     },
     "execution_count": 130,
     "metadata": {},
     "output_type": "execute_result"
    }
   ],
   "source": [
    "# load in the lyrics dataset\n",
    "popdf = pd.read_csv(\"../data/billboard_lyrics_1964-2015.csv\", encoding = \"ISO-8859-1\")\n",
    "popdf.head()"
   ]
  },
  {
   "cell_type": "code",
   "execution_count": 131,
   "metadata": {},
   "outputs": [
    {
     "data": {
      "text/plain": [
       "(5100, 6)"
      ]
     },
     "execution_count": 131,
     "metadata": {},
     "output_type": "execute_result"
    }
   ],
   "source": [
    "popdf.shape"
   ]
  },
  {
   "cell_type": "markdown",
   "metadata": {},
   "source": [
    "Note that there are also about 2000 more data points in Pavlik's dataset. This dataset labels instrumental songs as such in the lyrics, but the outsider music dataset showed no lyrics for songs like this.  For consistency, I will remove the \"instrumental\" strings from the Lyrics column, along with the float `np.nan` values."
   ]
  },
  {
   "cell_type": "code",
   "execution_count": 132,
   "metadata": {},
   "outputs": [
    {
     "data": {
      "text/plain": [
       "'  '"
      ]
     },
     "execution_count": 132,
     "metadata": {},
     "output_type": "execute_result"
    }
   ],
   "source": [
    "popdf.Lyrics = popdf.Lyrics.replace({np.nan: \"\", \"instrumental\":\"\", None:\"\"})\n",
    "popdf.Lyrics = popdf.Lyrics.astype(str)\n",
    "\n",
    "popdf.iloc[2].Lyrics  # note that this is multiple spaces"
   ]
  },
  {
   "cell_type": "code",
   "execution_count": 133,
   "metadata": {},
   "outputs": [],
   "source": [
    "# Reduce multiple spaces to an empty string\n",
    "popdf.Lyrics = popdf.Lyrics.map(lambda x: x.strip())"
   ]
  },
  {
   "cell_type": "code",
   "execution_count": 134,
   "metadata": {},
   "outputs": [
    {
     "data": {
      "text/plain": [
       "''"
      ]
     },
     "execution_count": 134,
     "metadata": {},
     "output_type": "execute_result"
    }
   ],
   "source": [
    "# Now it's just an empty string instead of 2 spaces!\n",
    "popdf.iloc[2].Lyrics"
   ]
  },
  {
   "cell_type": "code",
   "execution_count": 135,
   "metadata": {},
   "outputs": [
    {
     "data": {
      "text/html": [
       "<div>\n",
       "<style scoped>\n",
       "    .dataframe tbody tr th:only-of-type {\n",
       "        vertical-align: middle;\n",
       "    }\n",
       "\n",
       "    .dataframe tbody tr th {\n",
       "        vertical-align: top;\n",
       "    }\n",
       "\n",
       "    .dataframe thead th {\n",
       "        text-align: right;\n",
       "    }\n",
       "</style>\n",
       "<table border=\"1\" class=\"dataframe\">\n",
       "  <thead>\n",
       "    <tr style=\"text-align: right;\">\n",
       "      <th></th>\n",
       "      <th>title</th>\n",
       "      <th>artist</th>\n",
       "      <th>lyrics</th>\n",
       "    </tr>\n",
       "  </thead>\n",
       "  <tbody>\n",
       "    <tr>\n",
       "      <td>0</td>\n",
       "      <td>wooly bully</td>\n",
       "      <td>sam the sham and the pharaohs</td>\n",
       "      <td>sam the sham miscellaneous wooly bully wooly b...</td>\n",
       "    </tr>\n",
       "    <tr>\n",
       "      <td>1</td>\n",
       "      <td>i cant help myself sugar pie honey bunch</td>\n",
       "      <td>four tops</td>\n",
       "      <td>sugar pie honey bunch you know that i love you...</td>\n",
       "    </tr>\n",
       "    <tr>\n",
       "      <td>2</td>\n",
       "      <td>i cant get no satisfaction</td>\n",
       "      <td>the rolling stones</td>\n",
       "      <td></td>\n",
       "    </tr>\n",
       "    <tr>\n",
       "      <td>3</td>\n",
       "      <td>you were on my mind</td>\n",
       "      <td>we five</td>\n",
       "      <td>when i woke up this morning you were on my min...</td>\n",
       "    </tr>\n",
       "    <tr>\n",
       "      <td>4</td>\n",
       "      <td>youve lost that lovin feelin</td>\n",
       "      <td>the righteous brothers</td>\n",
       "      <td>you never close your eyes anymore when i kiss ...</td>\n",
       "    </tr>\n",
       "  </tbody>\n",
       "</table>\n",
       "</div>"
      ],
      "text/plain": [
       "                                      title                         artist  \\\n",
       "0                               wooly bully  sam the sham and the pharaohs   \n",
       "1  i cant help myself sugar pie honey bunch                      four tops   \n",
       "2                i cant get no satisfaction             the rolling stones   \n",
       "3                       you were on my mind                        we five   \n",
       "4              youve lost that lovin feelin         the righteous brothers   \n",
       "\n",
       "                                              lyrics  \n",
       "0  sam the sham miscellaneous wooly bully wooly b...  \n",
       "1  sugar pie honey bunch you know that i love you...  \n",
       "2                                                     \n",
       "3  when i woke up this morning you were on my min...  \n",
       "4  you never close your eyes anymore when i kiss ...  "
      ]
     },
     "execution_count": 135,
     "metadata": {},
     "output_type": "execute_result"
    }
   ],
   "source": [
    "# slim down dataframe to only the necessary columns\n",
    "popdf.rename(columns={\"Song\":\"title\", \"Artist\":\"artist\", \"Lyrics\":\"lyrics\"}, inplace=True)\n",
    "popdf = popdf[[\"title\", \"artist\", \"lyrics\"]]\n",
    "popdf.head()"
   ]
  },
  {
   "cell_type": "code",
   "execution_count": 136,
   "metadata": {},
   "outputs": [
    {
     "data": {
      "text/plain": [
       "'i dont know much about my history now dont know much about biology dont know much about the science book now dont know much about the french i tookall i do know is i love you now and i wonder if you love me too ooh what a wonderful world this could beooh i dont know much about geography now dont know much about trigonometry now dont know much about the algebra dont know what a slide rule is forbut i do know one and one is two now and i wonder if you love me too ooh what a wonderful world this could bei dont claim to be an a student but thats what im trying to be but by being an a student baby look like i could win your love for medont know much about the history now oh now dont know much about biology i dont know much about the science book now dont know much about the good french i took ohall i do know is i love you now oh now and i wonder if you love me too ooh what a wonderful world this could begood lord i dont claim to be an a student but thats what im trying to be oh now but if i have to be an a student baby im gonna win your love for mei dont know much about geography now oh now dont know much about trigonometry dont know much about the algebra now dont know what a good slide rule is forbut i do know one and one is two now oh now and i wonder if you love me too ooh what a wonderful world this could beoh my my good lord ive been trying ive been trying ive been trying oh lord to understand the thing that ive been looking for'"
      ]
     },
     "execution_count": 136,
     "metadata": {},
     "output_type": "execute_result"
    }
   ],
   "source": [
    "# Let's take a peek at an sample from this dataset\n",
    "popdf.iloc[66].lyrics"
   ]
  },
  {
   "cell_type": "markdown",
   "metadata": {},
   "source": [
    "Note that this dataset isn't perfect either -- many words have been concatenated, likely because newlines were cut out, rather than replaced with spaces.  Because of this, words like \"beooh,\" \"tookall,\" \"forbut,\" \"bei,\" and \"begood\" will each be considered as single tokens.  However, in the interest of saving time and using existing resources, we'll assume that the frequencies of these words will be low enough to effect the ensuing analysis only minimally!\n",
    "\n",
    "As done with the outsider dataset, we'll tokenize this dataset for word-level analysis."
   ]
  },
  {
   "cell_type": "code",
   "execution_count": 137,
   "metadata": {},
   "outputs": [
    {
     "data": {
      "text/html": [
       "<div>\n",
       "<style scoped>\n",
       "    .dataframe tbody tr th:only-of-type {\n",
       "        vertical-align: middle;\n",
       "    }\n",
       "\n",
       "    .dataframe tbody tr th {\n",
       "        vertical-align: top;\n",
       "    }\n",
       "\n",
       "    .dataframe thead th {\n",
       "        text-align: right;\n",
       "    }\n",
       "</style>\n",
       "<table border=\"1\" class=\"dataframe\">\n",
       "  <thead>\n",
       "    <tr style=\"text-align: right;\">\n",
       "      <th></th>\n",
       "      <th>title</th>\n",
       "      <th>artist</th>\n",
       "      <th>lyrics</th>\n",
       "      <th>tokens</th>\n",
       "    </tr>\n",
       "  </thead>\n",
       "  <tbody>\n",
       "    <tr>\n",
       "      <td>0</td>\n",
       "      <td>wooly bully</td>\n",
       "      <td>sam the sham and the pharaohs</td>\n",
       "      <td>sam the sham miscellaneous wooly bully wooly b...</td>\n",
       "      <td>[sam, the, sham, miscellaneous, wooly, bully, ...</td>\n",
       "    </tr>\n",
       "    <tr>\n",
       "      <td>1</td>\n",
       "      <td>i cant help myself sugar pie honey bunch</td>\n",
       "      <td>four tops</td>\n",
       "      <td>sugar pie honey bunch you know that i love you...</td>\n",
       "      <td>[sugar, pie, honey, bunch, you, know, that, i,...</td>\n",
       "    </tr>\n",
       "    <tr>\n",
       "      <td>2</td>\n",
       "      <td>i cant get no satisfaction</td>\n",
       "      <td>the rolling stones</td>\n",
       "      <td></td>\n",
       "      <td>[]</td>\n",
       "    </tr>\n",
       "    <tr>\n",
       "      <td>3</td>\n",
       "      <td>you were on my mind</td>\n",
       "      <td>we five</td>\n",
       "      <td>when i woke up this morning you were on my min...</td>\n",
       "      <td>[when, i, woke, up, this, morning, you, were, ...</td>\n",
       "    </tr>\n",
       "    <tr>\n",
       "      <td>4</td>\n",
       "      <td>youve lost that lovin feelin</td>\n",
       "      <td>the righteous brothers</td>\n",
       "      <td>you never close your eyes anymore when i kiss ...</td>\n",
       "      <td>[you, never, close, your, eyes, anymore, when,...</td>\n",
       "    </tr>\n",
       "  </tbody>\n",
       "</table>\n",
       "</div>"
      ],
      "text/plain": [
       "                                      title                         artist  \\\n",
       "0                               wooly bully  sam the sham and the pharaohs   \n",
       "1  i cant help myself sugar pie honey bunch                      four tops   \n",
       "2                i cant get no satisfaction             the rolling stones   \n",
       "3                       you were on my mind                        we five   \n",
       "4              youve lost that lovin feelin         the righteous brothers   \n",
       "\n",
       "                                              lyrics  \\\n",
       "0  sam the sham miscellaneous wooly bully wooly b...   \n",
       "1  sugar pie honey bunch you know that i love you...   \n",
       "2                                                      \n",
       "3  when i woke up this morning you were on my min...   \n",
       "4  you never close your eyes anymore when i kiss ...   \n",
       "\n",
       "                                              tokens  \n",
       "0  [sam, the, sham, miscellaneous, wooly, bully, ...  \n",
       "1  [sugar, pie, honey, bunch, you, know, that, i,...  \n",
       "2                                                 []  \n",
       "3  [when, i, woke, up, this, morning, you, were, ...  \n",
       "4  [you, never, close, your, eyes, anymore, when,...  "
      ]
     },
     "execution_count": 137,
     "metadata": {},
     "output_type": "execute_result"
    }
   ],
   "source": [
    "# tokenize & lowercase, in case any remaining capitals are in the data\n",
    "popdf[\"tokens\"] = popdf.lyrics.map(lambda x: nltk.word_tokenize(x))\n",
    "popdf.tokens = popdf.tokens.map(lambda x: [word.lower() for word in x])\n",
    "\n",
    "# create token count column\n",
    "popdf[\"token_ct\"] = popdf.tokens.map(len)\n",
    "popdf.head()"
   ]
  },
  {
   "cell_type": "code",
   "execution_count": 139,
   "metadata": {},
   "outputs": [],
   "source": [
    "# popdf[\"type_ct\"] = popdf.tokens.map(lambda x: len(set(x)))    # type not used in present analysis\n",
    "# popdf[\"TTR\"] = popdf.type_ct / popdf.token_ct                 # TTR not used in present analysis"
   ]
  },
  {
   "cell_type": "code",
   "execution_count": 140,
   "metadata": {},
   "outputs": [
    {
     "data": {
      "text/html": [
       "<div>\n",
       "<style scoped>\n",
       "    .dataframe tbody tr th:only-of-type {\n",
       "        vertical-align: middle;\n",
       "    }\n",
       "\n",
       "    .dataframe tbody tr th {\n",
       "        vertical-align: top;\n",
       "    }\n",
       "\n",
       "    .dataframe thead th {\n",
       "        text-align: right;\n",
       "    }\n",
       "</style>\n",
       "<table border=\"1\" class=\"dataframe\">\n",
       "  <thead>\n",
       "    <tr style=\"text-align: right;\">\n",
       "      <th></th>\n",
       "      <th>token_ct</th>\n",
       "      <th>type_ct</th>\n",
       "      <th>TTR</th>\n",
       "    </tr>\n",
       "  </thead>\n",
       "  <tbody>\n",
       "    <tr>\n",
       "      <td>count</td>\n",
       "      <td>5100.000000</td>\n",
       "      <td>5100.000000</td>\n",
       "      <td>4851.000000</td>\n",
       "    </tr>\n",
       "    <tr>\n",
       "      <td>mean</td>\n",
       "      <td>316.646471</td>\n",
       "      <td>107.972353</td>\n",
       "      <td>0.367281</td>\n",
       "    </tr>\n",
       "    <tr>\n",
       "      <td>std</td>\n",
       "      <td>181.255214</td>\n",
       "      <td>58.376938</td>\n",
       "      <td>0.112131</td>\n",
       "    </tr>\n",
       "    <tr>\n",
       "      <td>min</td>\n",
       "      <td>0.000000</td>\n",
       "      <td>0.000000</td>\n",
       "      <td>0.053571</td>\n",
       "    </tr>\n",
       "    <tr>\n",
       "      <td>25%</td>\n",
       "      <td>204.000000</td>\n",
       "      <td>77.000000</td>\n",
       "      <td>0.293406</td>\n",
       "    </tr>\n",
       "    <tr>\n",
       "      <td>50%</td>\n",
       "      <td>285.000000</td>\n",
       "      <td>98.000000</td>\n",
       "      <td>0.353791</td>\n",
       "    </tr>\n",
       "    <tr>\n",
       "      <td>75%</td>\n",
       "      <td>399.000000</td>\n",
       "      <td>127.000000</td>\n",
       "      <td>0.427735</td>\n",
       "    </tr>\n",
       "    <tr>\n",
       "      <td>max</td>\n",
       "      <td>1158.000000</td>\n",
       "      <td>434.000000</td>\n",
       "      <td>1.000000</td>\n",
       "    </tr>\n",
       "  </tbody>\n",
       "</table>\n",
       "</div>"
      ],
      "text/plain": [
       "          token_ct      type_ct          TTR\n",
       "count  5100.000000  5100.000000  4851.000000\n",
       "mean    316.646471   107.972353     0.367281\n",
       "std     181.255214    58.376938     0.112131\n",
       "min       0.000000     0.000000     0.053571\n",
       "25%     204.000000    77.000000     0.293406\n",
       "50%     285.000000    98.000000     0.353791\n",
       "75%     399.000000   127.000000     0.427735\n",
       "max    1158.000000   434.000000     1.000000"
      ]
     },
     "execution_count": 140,
     "metadata": {},
     "output_type": "execute_result"
    }
   ],
   "source": [
    "popdf.describe()"
   ]
  },
  {
   "cell_type": "markdown",
   "metadata": {},
   "source": [
    "The token count minimum is 0, meaning there are empty strings still left in the data.  Time to remove those!  We'll also get rid of 'instrumental' lyrics and songs with string 'NA' as their lyric entries."
   ]
  },
  {
   "cell_type": "code",
   "execution_count": 141,
   "metadata": {},
   "outputs": [
    {
     "data": {
      "text/html": [
       "<div>\n",
       "<style scoped>\n",
       "    .dataframe tbody tr th:only-of-type {\n",
       "        vertical-align: middle;\n",
       "    }\n",
       "\n",
       "    .dataframe tbody tr th {\n",
       "        vertical-align: top;\n",
       "    }\n",
       "\n",
       "    .dataframe thead th {\n",
       "        text-align: right;\n",
       "    }\n",
       "</style>\n",
       "<table border=\"1\" class=\"dataframe\">\n",
       "  <thead>\n",
       "    <tr style=\"text-align: right;\">\n",
       "      <th></th>\n",
       "      <th>token_ct</th>\n",
       "      <th>type_ct</th>\n",
       "      <th>TTR</th>\n",
       "    </tr>\n",
       "  </thead>\n",
       "  <tbody>\n",
       "    <tr>\n",
       "      <td>count</td>\n",
       "      <td>4831.000000</td>\n",
       "      <td>4831.000000</td>\n",
       "      <td>4831.000000</td>\n",
       "    </tr>\n",
       "    <tr>\n",
       "      <td>mean</td>\n",
       "      <td>334.273856</td>\n",
       "      <td>113.980335</td>\n",
       "      <td>0.364661</td>\n",
       "    </tr>\n",
       "    <tr>\n",
       "      <td>std</td>\n",
       "      <td>169.678791</td>\n",
       "      <td>53.973813</td>\n",
       "      <td>0.104694</td>\n",
       "    </tr>\n",
       "    <tr>\n",
       "      <td>min</td>\n",
       "      <td>5.000000</td>\n",
       "      <td>3.000000</td>\n",
       "      <td>0.053571</td>\n",
       "    </tr>\n",
       "    <tr>\n",
       "      <td>25%</td>\n",
       "      <td>217.000000</td>\n",
       "      <td>81.000000</td>\n",
       "      <td>0.293062</td>\n",
       "    </tr>\n",
       "    <tr>\n",
       "      <td>50%</td>\n",
       "      <td>294.000000</td>\n",
       "      <td>101.000000</td>\n",
       "      <td>0.353135</td>\n",
       "    </tr>\n",
       "    <tr>\n",
       "      <td>75%</td>\n",
       "      <td>408.000000</td>\n",
       "      <td>130.000000</td>\n",
       "      <td>0.426829</td>\n",
       "    </tr>\n",
       "    <tr>\n",
       "      <td>max</td>\n",
       "      <td>1158.000000</td>\n",
       "      <td>434.000000</td>\n",
       "      <td>1.000000</td>\n",
       "    </tr>\n",
       "  </tbody>\n",
       "</table>\n",
       "</div>"
      ],
      "text/plain": [
       "          token_ct      type_ct          TTR\n",
       "count  4831.000000  4831.000000  4831.000000\n",
       "mean    334.273856   113.980335     0.364661\n",
       "std     169.678791    53.973813     0.104694\n",
       "min       5.000000     3.000000     0.053571\n",
       "25%     217.000000    81.000000     0.293062\n",
       "50%     294.000000   101.000000     0.353135\n",
       "75%     408.000000   130.000000     0.426829\n",
       "max    1158.000000   434.000000     1.000000"
      ]
     },
     "execution_count": 141,
     "metadata": {},
     "output_type": "execute_result"
    }
   ],
   "source": [
    "# save full dataset to different object in case it's needed later\n",
    "popdf_orig = popdf\n",
    "\n",
    "# drop empty/null lyrics, and instrumental lyrics\n",
    "popdf = popdf[~popdf.lyrics.isin(['', 'instrumental', 'NA'])]\n",
    "popdf.describe()"
   ]
  },
  {
   "cell_type": "markdown",
   "metadata": {},
   "source": [
    "Since this dataset contains the most popular music *each year*, there's a potential for some songs to be listed for multiple years.  Therefore, we need to make sure we remove duplicates."
   ]
  },
  {
   "cell_type": "code",
   "execution_count": 144,
   "metadata": {},
   "outputs": [],
   "source": [
    "# Remove lyric duplicates\n",
    "popdf = popdf[~popdf.lyrics.duplicated()]"
   ]
  },
  {
   "cell_type": "code",
   "execution_count": 145,
   "metadata": {},
   "outputs": [
    {
     "data": {
      "text/html": [
       "<div>\n",
       "<style scoped>\n",
       "    .dataframe tbody tr th:only-of-type {\n",
       "        vertical-align: middle;\n",
       "    }\n",
       "\n",
       "    .dataframe tbody tr th {\n",
       "        vertical-align: top;\n",
       "    }\n",
       "\n",
       "    .dataframe thead th {\n",
       "        text-align: right;\n",
       "    }\n",
       "</style>\n",
       "<table border=\"1\" class=\"dataframe\">\n",
       "  <thead>\n",
       "    <tr style=\"text-align: right;\">\n",
       "      <th></th>\n",
       "      <th>token_ct</th>\n",
       "      <th>type_ct</th>\n",
       "      <th>TTR</th>\n",
       "    </tr>\n",
       "  </thead>\n",
       "  <tbody>\n",
       "    <tr>\n",
       "      <td>count</td>\n",
       "      <td>4627.000000</td>\n",
       "      <td>4627.000000</td>\n",
       "      <td>4627.000000</td>\n",
       "    </tr>\n",
       "    <tr>\n",
       "      <td>mean</td>\n",
       "      <td>330.694402</td>\n",
       "      <td>113.308839</td>\n",
       "      <td>0.366537</td>\n",
       "    </tr>\n",
       "    <tr>\n",
       "      <td>std</td>\n",
       "      <td>168.976506</td>\n",
       "      <td>53.851214</td>\n",
       "      <td>0.105183</td>\n",
       "    </tr>\n",
       "    <tr>\n",
       "      <td>min</td>\n",
       "      <td>5.000000</td>\n",
       "      <td>3.000000</td>\n",
       "      <td>0.053571</td>\n",
       "    </tr>\n",
       "    <tr>\n",
       "      <td>25%</td>\n",
       "      <td>214.000000</td>\n",
       "      <td>80.000000</td>\n",
       "      <td>0.294569</td>\n",
       "    </tr>\n",
       "    <tr>\n",
       "      <td>50%</td>\n",
       "      <td>291.000000</td>\n",
       "      <td>100.000000</td>\n",
       "      <td>0.354949</td>\n",
       "    </tr>\n",
       "    <tr>\n",
       "      <td>75%</td>\n",
       "      <td>403.000000</td>\n",
       "      <td>129.000000</td>\n",
       "      <td>0.429320</td>\n",
       "    </tr>\n",
       "    <tr>\n",
       "      <td>max</td>\n",
       "      <td>1158.000000</td>\n",
       "      <td>434.000000</td>\n",
       "      <td>1.000000</td>\n",
       "    </tr>\n",
       "  </tbody>\n",
       "</table>\n",
       "</div>"
      ],
      "text/plain": [
       "          token_ct      type_ct          TTR\n",
       "count  4627.000000  4627.000000  4627.000000\n",
       "mean    330.694402   113.308839     0.366537\n",
       "std     168.976506    53.851214     0.105183\n",
       "min       5.000000     3.000000     0.053571\n",
       "25%     214.000000    80.000000     0.294569\n",
       "50%     291.000000   100.000000     0.354949\n",
       "75%     403.000000   129.000000     0.429320\n",
       "max    1158.000000   434.000000     1.000000"
      ]
     },
     "execution_count": 145,
     "metadata": {},
     "output_type": "execute_result"
    }
   ],
   "source": [
    "popdf.describe()"
   ]
  },
  {
   "cell_type": "code",
   "execution_count": 147,
   "metadata": {
    "scrolled": true
   },
   "outputs": [
    {
     "data": {
      "image/png": "[encoded data removed]",
      "text/plain": [
       "<Figure size 432x288 with 1 Axes>"
      ]
     },
     "metadata": {
      "needs_background": "light"
     },
     "output_type": "display_data"
    }
   ],
   "source": [
    "popdf.token_ct.plot(kind = \"box\", rot=0, title = \"Pop Music Token Count Distribution\")\n",
    "plt.savefig('../images/pop_token_count_dist.png')"
   ]
  },
  {
   "cell_type": "markdown",
   "metadata": {},
   "source": [
    "There are still some pretty long lyrics here, but the maximum token count is still nearly half that of the outsider music.  The distribution here seems to be a little more normal.  While the outside music had a great wealth of data crammed around the mean token count of 215.  Here, the mean is a little higher, at about 330 tokens per song (and potentially more, given that some words are concatenated mistakenly) and the spread is more consistent."
   ]
  },
  {
   "cell_type": "markdown",
   "metadata": {},
   "source": [
    "**Artist Distribution**"
   ]
  },
  {
   "cell_type": "code",
   "execution_count": 148,
   "metadata": {},
   "outputs": [
    {
     "data": {
      "text/plain": [
       "count        4627\n",
       "unique       2335\n",
       "top       madonna\n",
       "freq           33\n",
       "Name: artist, dtype: object"
      ]
     },
     "execution_count": 148,
     "metadata": {},
     "output_type": "execute_result"
    }
   ],
   "source": [
    "popdf.artist.describe()"
   ]
  },
  {
   "cell_type": "markdown",
   "metadata": {},
   "source": [
    "This dataset has 2,335 unique artists (compared to our measly 62 artists in the outsider dataset)."
   ]
  },
  {
   "cell_type": "code",
   "execution_count": 149,
   "metadata": {},
   "outputs": [
    {
     "data": {
      "text/plain": [
       "madonna                                33\n",
       "elton john                             25\n",
       "michael jackson                        22\n",
       "mariah carey                           21\n",
       "stevie wonder                          20\n",
       "                                       ..\n",
       "little anthony and the imperials        1\n",
       "manfred mann                            1\n",
       "eddy grant                              1\n",
       "pussycat dolls featuring snoop dogg     1\n",
       "the j geils band                        1\n",
       "Name: artist, Length: 2335, dtype: int64"
      ]
     },
     "execution_count": 149,
     "metadata": {},
     "output_type": "execute_result"
    }
   ],
   "source": [
    "popdf.artist.value_counts()"
   ]
  },
  {
   "cell_type": "markdown",
   "metadata": {},
   "source": [
    "This dataset is much less skewed toward any particular artist. Madonna, who is most represented in Pavlik's Billboard data, only has 33 songs total."
   ]
  },
  {
   "cell_type": "code",
   "execution_count": 153,
   "metadata": {},
   "outputs": [],
   "source": [
    "# Separate the top 15 artists\n",
    "pop_artists_to_plot = popdf.artist.value_counts()[:15]\n",
    "pop_few_artist = popdf.artist.value_counts()[15:]\n",
    "\n",
    "# Create an \"other\" group, which sums together the bottom artist counts\n",
    "sum = 0\n",
    "for y in pop_few_artist:\n",
    "    sum = sum +y\n",
    "pop_artists_to_plot = pop_artists_to_plot.append(pd.Series(sum))\n",
    "pop_artists_to_plot.rename(index={0:'Other'},inplace=True)"
   ]
  },
  {
   "cell_type": "code",
   "execution_count": 156,
   "metadata": {},
   "outputs": [
    {
     "data": {
      "text/plain": [
       "0.060082126647935996"
      ]
     },
     "execution_count": 156,
     "metadata": {},
     "output_type": "execute_result"
    }
   ],
   "source": [
    "# How much of the data do the top 15 artists represent?\n",
    "1 - sum / len(popdf)"
   ]
  },
  {
   "cell_type": "code",
   "execution_count": 154,
   "metadata": {
    "scrolled": true
   },
   "outputs": [
    {
     "data": {
      "image/png": "[encoded data removed]",
      "text/plain": [
       "<Figure size 432x288 with 1 Axes>"
      ]
     },
     "metadata": {},
     "output_type": "display_data"
    }
   ],
   "source": [
    "# Only shows the top 15 artists to be comparable to the outsider music chart\n",
    "plt.pie(pop_artists_to_plot)\n",
    "plt.title(\"Top 15 Pop Artists Distribution\")\n",
    "plt.legend(pop_artists_to_plot.index, bbox_to_anchor=(-0.1, 1.),\n",
    "           fontsize=8)\n",
    "plt.tight_layout()\n",
    "plt.savefig('../images/pop_artist_dist_fig.png')\n",
    "plt.show()"
   ]
  },
  {
   "cell_type": "markdown",
   "metadata": {},
   "source": [
    "This chart isn't a wonderfully informative visualization on its own, but in contrast to the outsider music dataset, you can see that the distribution is much less skewed toward any one artist.  The brown section, representing artists beyond the top-15, is 94% of the data.  Below, I will visualize again, but using a number of top artists proportional to the number of artists in Pavlik's dataset."
   ]
  },
  {
   "cell_type": "code",
   "execution_count": 157,
   "metadata": {},
   "outputs": [
    {
     "data": {
      "text/plain": [
       "564.9193548387098"
      ]
     },
     "execution_count": 157,
     "metadata": {},
     "output_type": "execute_result"
    }
   ],
   "source": [
    "# Instead, use the top 24% of artists\n",
    "proportion = 15/len(lyricsdf.artist.unique())\n",
    "size = proportion * len(popdf.artist.unique())\n",
    "size"
   ]
  },
  {
   "cell_type": "code",
   "execution_count": 158,
   "metadata": {},
   "outputs": [],
   "source": [
    "# Separate top 565 artists\n",
    "pop_artists_to_plot = popdf.artist.value_counts()[:566]\n",
    "pop_few_artist = popdf.artist.value_counts()[566:]\n",
    "\n",
    "# Create an \"other\" group, which sums together the bottom artist counts\n",
    "sum = 0\n",
    "for y in pop_few_artist:\n",
    "    sum = sum +y\n",
    "pop_artists_to_plot = pop_artists_to_plot.append(pd.Series(sum))\n",
    "pop_artists_to_plot.rename(index={0:'Other'},inplace=True)"
   ]
  },
  {
   "cell_type": "code",
   "execution_count": 162,
   "metadata": {},
   "outputs": [
    {
     "data": {
      "text/plain": [
       "0.41711692241193"
      ]
     },
     "execution_count": 162,
     "metadata": {},
     "output_type": "execute_result"
    }
   ],
   "source": [
    "# How much of the data do the top 565 artists represent?\n",
    "sum / len(popdf)"
   ]
  },
  {
   "cell_type": "code",
   "execution_count": 161,
   "metadata": {},
   "outputs": [
    {
     "data": {
      "image/png": "[encoded data removed]",
      "text/plain": [
       "<Figure size 432x288 with 1 Axes>"
      ]
     },
     "metadata": {},
     "output_type": "display_data"
    }
   ],
   "source": [
    "# Shows the top 556 artists to be comparable *proportionally* to the outsider music chart\n",
    "plt.pie(pop_artists_to_plot)\n",
    "plt.title(\"Top 556 Pop Artists - Proportional Pie Chart\")\n",
    "plt.savefig('../images/pop_proportional_artist_dist_fig.png')\n",
    "plt.show()"
   ]
  },
  {
   "cell_type": "markdown",
   "metadata": {},
   "source": [
    "Once again, alone, this chart is extremely unreadable, but it should be viewed contrastively to understand that, while the outsider music's \"Other\" artist category (about 76% of the artists) took up only 16.9% of the total lyrics dataset, the Billboard Pop Music dataset has 41.7% of its data in this \"Other\" category.\n",
    "\n",
    "It should be clear by now, then, that a major issue with the outsider music dataset will be its representativeness, or generalizability.  Given the nature of the outsider music dataset (and given enough time), it would be interesting to analyze the outsider music dataset split between Wesley Willis songs alone and the full dataset without Willis's music. This could give some insight into how much Wesley Willis influences the overall dataset, as well as show whether the conventional understanding of outsider music is attrubutable mostly to Wesley Willis, if it does not hold true for both parts of the full dataset.\n",
    "\n",
    "**Most Common Words**"
   ]
  },
  {
   "cell_type": "code",
   "execution_count": 167,
   "metadata": {},
   "outputs": [
    {
     "name": "stdout",
     "output_type": "stream",
     "text": [
      "[('you', 61169), ('i', 53492), ('the', 50769), ('to', 33997), ('and', 30831), ('me', 30105), ('a', 27758), ('it', 24194), ('my', 21436), ('in', 17595), ('that', 15130), ('on', 15084), ('your', 14731), ('love', 14478), ('im', 13585), ('be', 12296), ('of', 12241), ('all', 11256), ('dont', 11031), ('know', 10643)]\n"
     ]
    }
   ],
   "source": [
    "# most common words in the pop dataset\n",
    "poptoks = []\n",
    "\n",
    "for toks in popdf.tokens:\n",
    "    poptoks.extend(toks)\n",
    "\n",
    "popfreq = Counter(poptoks)\n",
    "print(popfreq.most_common(20))"
   ]
  },
  {
   "cell_type": "code",
   "execution_count": 224,
   "metadata": {},
   "outputs": [
    {
     "data": {
      "image/png": "[encoded data removed]",
      "text/plain": [
       "<Figure size 432x288 with 1 Axes>"
      ]
     },
     "metadata": {
      "needs_background": "light"
     },
     "output_type": "display_data"
    }
   ],
   "source": [
    "# Create bar plot with most common words and their counts\n",
    "word = []\n",
    "count = []\n",
    "for (w, c) in popfreq.most_common(20):\n",
    "    word.append(w)\n",
    "    count.append(c)\n",
    "plt.bar(word, count)\n",
    "plt.xticks(rotation = 90)\n",
    "plt.title(\"Most Common Words in Popular Music\")\n",
    "plt.savefig(\"../images/pop_most_common_words\")\n",
    "plt.show()"
   ]
  },
  {
   "cell_type": "code",
   "execution_count": 169,
   "metadata": {},
   "outputs": [
    {
     "name": "stdout",
     "output_type": "stream",
     "text": [
      "[('love', 14478), ('im', 13585), ('know', 10643), ('na', 10456), ('like', 10185), ('got', 9653), ('oh', 9093), ('baby', 8647), ('get', 7748), ('yeah', 5957), ('want', 5859), ('go', 5769), ('make', 5162), ('one', 5125), ('cant', 5096), ('see', 4964), ('gon', 4960), ('time', 4958), ('come', 4673), ('let', 4632)]\n"
     ]
    }
   ],
   "source": [
    "# If we remove stopwords and punctuation, what do we get?\n",
    "stopwords = nltk.corpus.stopwords.words('english')\n",
    "# alter  stopwords so that it will catch \"dont\", \"cant\", etc.\n",
    "stopwords = [x.replace(\"'\", \"\") for x in stopwords]\n",
    "filtered_popfreq = dict((word, freq) for word, freq in popfreq.items() if word not in (stopwords))\n",
    "popdf_fd = nltk.FreqDist(filtered_popfreq)\n",
    "print(popdf_fd.most_common(20))"
   ]
  },
  {
   "cell_type": "code",
   "execution_count": 225,
   "metadata": {},
   "outputs": [
    {
     "data": {
      "image/png": "[encoded data removed]",
      "text/plain": [
       "<Figure size 432x288 with 1 Axes>"
      ]
     },
     "metadata": {
      "needs_background": "light"
     },
     "output_type": "display_data"
    }
   ],
   "source": [
    "# Create bar plot with most common words and their counts (NOT including stopwords)\n",
    "word = []\n",
    "count = []\n",
    "for (w, c) in popdf_fd.most_common(20):\n",
    "    word.append(w)\n",
    "    count.append(c)\n",
    "plt.bar(word, count)\n",
    "plt.xticks(rotation = 90)\n",
    "plt.title(\"Most Common Words in Popular Music (Without Stopwords)\")\n",
    "plt.savefig(\"../images/pop_most_common_words_nostops\")\n",
    "plt.show()"
   ]
  },
  {
   "cell_type": "code",
   "execution_count": 171,
   "metadata": {},
   "outputs": [
    {
     "name": "stdout",
     "output_type": "stream",
     "text": [
      "In Popular Music:\n",
      " 'rock' count = 1238 \n",
      " 'ass' count = 577 \n",
      " 'rock' % = 0.0008090852826864246 \n",
      " 'ass' % = 0.00037709386761717846 \n",
      "\n"
     ]
    }
   ],
   "source": [
    "# Check up on \"rock\" and \"ass\" in the popular music dataset\n",
    "rock = popdf_fd[\"rock\"]\n",
    "ass = popdf_fd[\"ass\"]\n",
    "rockpct = popdf_fd[\"rock\"] / popdf.token_ct.sum()\n",
    "asspct = popdf_fd[\"ass\"] / popdf.token_ct.sum()\n",
    "print(\"In Popular Music:\\n\",\n",
    "    \"'rock' count =\", rock, \"\\n\",\n",
    "     \"'ass' count =\", ass, \"\\n\",\n",
    "     \"'rock' % =\", rockpct, \"\\n\",\n",
    "     \"'ass' % =\", asspct, \"\\n\")"
   ]
  },
  {
   "cell_type": "markdown",
   "metadata": {},
   "source": [
    "Seeing words like \"im,\" \"dont,\" \"youre,\" and \"cant\" pop up in the first non-stopwords analysis is a bit tell-tale that Pavlik's dataset has been cleaned very differently from the outsider music dataset.  Just removing the apostrophes in the stopwords list isn't enough either, since stopwords expects that the data is tokenized to split contractions (e.g., \"i\", \"'\", \"m\", for \"I'm\")"
   ]
  },
  {
   "cell_type": "markdown",
   "metadata": {
    "scrolled": false
   },
   "source": [
    "## Breakdown by Most Represented Outsider Musicians\n",
    "### The Big 3:\n",
    "**Wesley Willis, Jandek, and Daniel Johnston**    \n",
    "These are the top 3 artists in the Outsider Music dataset.  They make up nearly 40% of the data, meaning the other remaining 59 artists comprise only a little over 60% of the data."
   ]
  },
  {
   "cell_type": "code",
   "execution_count": 172,
   "metadata": {},
   "outputs": [],
   "source": [
    "def top3(x):\n",
    "    if x in [\"Wesley Willis\", \"Jandek\", \"Daniel Johnston\"]:\n",
    "        return \"top 3\"\n",
    "    else:\n",
    "        return \"other\"\n",
    "    \n",
    "lyricsdf[\"top3\"] = lyricsdf.artist.map(lambda x: top3(x))"
   ]
  },
  {
   "cell_type": "code",
   "execution_count": 173,
   "metadata": {},
   "outputs": [
    {
     "data": {
      "image/png": "[encoded data removed]",
      "text/plain": [
       "<Figure size 432x288 with 1 Axes>"
      ]
     },
     "metadata": {
      "needs_background": "light"
     },
     "output_type": "display_data"
    }
   ],
   "source": [
    "# Plot the top 3 artists' song counts against all other songs in the Outsider dataset\n",
    "plt.barh(lyricsdf.top3.unique(), lyricsdf.top3.value_counts(), color = \"olivedrab\")\n",
    "plt.title(\"Wesley Willis, Jandek, and Daniel Johnston Songs vs. Other Artists\")\n",
    "plt.savefig(\"../images/top3_vs_other_artists_distribution\")\n",
    "plt.show()"
   ]
  },
  {
   "cell_type": "markdown",
   "metadata": {},
   "source": [
    "### Now What?\n",
    "The data is clearly skewed, so further investigation of the outsider music dataset vs. the popular music dataset seems a bit futile.  Any information gleaned from further analysis will be indeterminate, not fully representative of all outsider musicians and not fully representative of artists like Wesley Willis, Jandek, or Daniel Johnston.\n",
    "\n",
    "To conclude, we'll separate out the top 3 artists' music into 3 datasets and visualize the trends in their data against trends in the remaining musicians' lyrics.  This should give some insight into the skew of the data!\n",
    "\n",
    "Deeper analysis for this section can be found in the final_report.md."
   ]
  },
  {
   "cell_type": "code",
   "execution_count": 175,
   "metadata": {},
   "outputs": [],
   "source": [
    "# separate Outsider Musicians into 4 datasets:\n",
    "willis = lyricsdf[lyricsdf.artist == \"Wesley Willis\"]\n",
    "jandek = lyricsdf[lyricsdf.artist == \"Jandek\"]\n",
    "danjohn = lyricsdf[lyricsdf.artist == \"Daniel Johnston\"]\n",
    "\n",
    "# Currently just looking at not Wesley Willis's Music!\n",
    "otherout = lyricsdf[lyricsdf.artist != \"Wesley Willis\"]"
   ]
  },
  {
   "cell_type": "code",
   "execution_count": 176,
   "metadata": {},
   "outputs": [
    {
     "data": {
      "text/html": [
       "<div>\n",
       "<style scoped>\n",
       "    .dataframe tbody tr th:only-of-type {\n",
       "        vertical-align: middle;\n",
       "    }\n",
       "\n",
       "    .dataframe tbody tr th {\n",
       "        vertical-align: top;\n",
       "    }\n",
       "\n",
       "    .dataframe thead th {\n",
       "        text-align: right;\n",
       "    }\n",
       "</style>\n",
       "<table border=\"1\" class=\"dataframe\">\n",
       "  <thead>\n",
       "    <tr style=\"text-align: right;\">\n",
       "      <th></th>\n",
       "      <th>token_ct</th>\n",
       "    </tr>\n",
       "  </thead>\n",
       "  <tbody>\n",
       "    <tr>\n",
       "      <td>count</td>\n",
       "      <td>561.00000</td>\n",
       "    </tr>\n",
       "    <tr>\n",
       "      <td>mean</td>\n",
       "      <td>146.29590</td>\n",
       "    </tr>\n",
       "    <tr>\n",
       "      <td>std</td>\n",
       "      <td>37.97868</td>\n",
       "    </tr>\n",
       "    <tr>\n",
       "      <td>min</td>\n",
       "      <td>72.00000</td>\n",
       "    </tr>\n",
       "    <tr>\n",
       "      <td>25%</td>\n",
       "      <td>122.00000</td>\n",
       "    </tr>\n",
       "    <tr>\n",
       "      <td>50%</td>\n",
       "      <td>135.00000</td>\n",
       "    </tr>\n",
       "    <tr>\n",
       "      <td>75%</td>\n",
       "      <td>167.00000</td>\n",
       "    </tr>\n",
       "    <tr>\n",
       "      <td>max</td>\n",
       "      <td>507.00000</td>\n",
       "    </tr>\n",
       "  </tbody>\n",
       "</table>\n",
       "</div>"
      ],
      "text/plain": [
       "        token_ct\n",
       "count  561.00000\n",
       "mean   146.29590\n",
       "std     37.97868\n",
       "min     72.00000\n",
       "25%    122.00000\n",
       "50%    135.00000\n",
       "75%    167.00000\n",
       "max    507.00000"
      ]
     },
     "execution_count": 176,
     "metadata": {},
     "output_type": "execute_result"
    }
   ],
   "source": [
    "willis.describe()"
   ]
  },
  {
   "cell_type": "code",
   "execution_count": 177,
   "metadata": {},
   "outputs": [
    {
     "data": {
      "text/html": [
       "<div>\n",
       "<style scoped>\n",
       "    .dataframe tbody tr th:only-of-type {\n",
       "        vertical-align: middle;\n",
       "    }\n",
       "\n",
       "    .dataframe tbody tr th {\n",
       "        vertical-align: top;\n",
       "    }\n",
       "\n",
       "    .dataframe thead th {\n",
       "        text-align: right;\n",
       "    }\n",
       "</style>\n",
       "<table border=\"1\" class=\"dataframe\">\n",
       "  <thead>\n",
       "    <tr style=\"text-align: right;\">\n",
       "      <th></th>\n",
       "      <th>token_ct</th>\n",
       "    </tr>\n",
       "  </thead>\n",
       "  <tbody>\n",
       "    <tr>\n",
       "      <td>count</td>\n",
       "      <td>339.000000</td>\n",
       "    </tr>\n",
       "    <tr>\n",
       "      <td>mean</td>\n",
       "      <td>125.589971</td>\n",
       "    </tr>\n",
       "    <tr>\n",
       "      <td>std</td>\n",
       "      <td>191.103275</td>\n",
       "    </tr>\n",
       "    <tr>\n",
       "      <td>min</td>\n",
       "      <td>4.000000</td>\n",
       "    </tr>\n",
       "    <tr>\n",
       "      <td>25%</td>\n",
       "      <td>56.000000</td>\n",
       "    </tr>\n",
       "    <tr>\n",
       "      <td>50%</td>\n",
       "      <td>93.000000</td>\n",
       "    </tr>\n",
       "    <tr>\n",
       "      <td>75%</td>\n",
       "      <td>135.500000</td>\n",
       "    </tr>\n",
       "    <tr>\n",
       "      <td>max</td>\n",
       "      <td>2155.000000</td>\n",
       "    </tr>\n",
       "  </tbody>\n",
       "</table>\n",
       "</div>"
      ],
      "text/plain": [
       "          token_ct\n",
       "count   339.000000\n",
       "mean    125.589971\n",
       "std     191.103275\n",
       "min       4.000000\n",
       "25%      56.000000\n",
       "50%      93.000000\n",
       "75%     135.500000\n",
       "max    2155.000000"
      ]
     },
     "execution_count": 177,
     "metadata": {},
     "output_type": "execute_result"
    }
   ],
   "source": [
    "jandek.describe()"
   ]
  },
  {
   "cell_type": "code",
   "execution_count": 178,
   "metadata": {},
   "outputs": [
    {
     "data": {
      "text/html": [
       "<div>\n",
       "<style scoped>\n",
       "    .dataframe tbody tr th:only-of-type {\n",
       "        vertical-align: middle;\n",
       "    }\n",
       "\n",
       "    .dataframe tbody tr th {\n",
       "        vertical-align: top;\n",
       "    }\n",
       "\n",
       "    .dataframe thead th {\n",
       "        text-align: right;\n",
       "    }\n",
       "</style>\n",
       "<table border=\"1\" class=\"dataframe\">\n",
       "  <thead>\n",
       "    <tr style=\"text-align: right;\">\n",
       "      <th></th>\n",
       "      <th>token_ct</th>\n",
       "    </tr>\n",
       "  </thead>\n",
       "  <tbody>\n",
       "    <tr>\n",
       "      <td>count</td>\n",
       "      <td>313.000000</td>\n",
       "    </tr>\n",
       "    <tr>\n",
       "      <td>mean</td>\n",
       "      <td>187.821086</td>\n",
       "    </tr>\n",
       "    <tr>\n",
       "      <td>std</td>\n",
       "      <td>98.124528</td>\n",
       "    </tr>\n",
       "    <tr>\n",
       "      <td>min</td>\n",
       "      <td>16.000000</td>\n",
       "    </tr>\n",
       "    <tr>\n",
       "      <td>25%</td>\n",
       "      <td>120.000000</td>\n",
       "    </tr>\n",
       "    <tr>\n",
       "      <td>50%</td>\n",
       "      <td>181.000000</td>\n",
       "    </tr>\n",
       "    <tr>\n",
       "      <td>75%</td>\n",
       "      <td>250.000000</td>\n",
       "    </tr>\n",
       "    <tr>\n",
       "      <td>max</td>\n",
       "      <td>593.000000</td>\n",
       "    </tr>\n",
       "  </tbody>\n",
       "</table>\n",
       "</div>"
      ],
      "text/plain": [
       "         token_ct\n",
       "count  313.000000\n",
       "mean   187.821086\n",
       "std     98.124528\n",
       "min     16.000000\n",
       "25%    120.000000\n",
       "50%    181.000000\n",
       "75%    250.000000\n",
       "max    593.000000"
      ]
     },
     "execution_count": 178,
     "metadata": {},
     "output_type": "execute_result"
    }
   ],
   "source": [
    "danjohn.describe()"
   ]
  },
  {
   "cell_type": "code",
   "execution_count": 179,
   "metadata": {},
   "outputs": [
    {
     "data": {
      "text/html": [
       "<div>\n",
       "<style scoped>\n",
       "    .dataframe tbody tr th:only-of-type {\n",
       "        vertical-align: middle;\n",
       "    }\n",
       "\n",
       "    .dataframe tbody tr th {\n",
       "        vertical-align: top;\n",
       "    }\n",
       "\n",
       "    .dataframe thead th {\n",
       "        text-align: right;\n",
       "    }\n",
       "</style>\n",
       "<table border=\"1\" class=\"dataframe\">\n",
       "  <thead>\n",
       "    <tr style=\"text-align: right;\">\n",
       "      <th></th>\n",
       "      <th>token_ct</th>\n",
       "    </tr>\n",
       "  </thead>\n",
       "  <tbody>\n",
       "    <tr>\n",
       "      <td>count</td>\n",
       "      <td>2541.000000</td>\n",
       "    </tr>\n",
       "    <tr>\n",
       "      <td>mean</td>\n",
       "      <td>230.385675</td>\n",
       "    </tr>\n",
       "    <tr>\n",
       "      <td>std</td>\n",
       "      <td>174.510025</td>\n",
       "    </tr>\n",
       "    <tr>\n",
       "      <td>min</td>\n",
       "      <td>1.000000</td>\n",
       "    </tr>\n",
       "    <tr>\n",
       "      <td>25%</td>\n",
       "      <td>115.000000</td>\n",
       "    </tr>\n",
       "    <tr>\n",
       "      <td>50%</td>\n",
       "      <td>194.000000</td>\n",
       "    </tr>\n",
       "    <tr>\n",
       "      <td>75%</td>\n",
       "      <td>300.000000</td>\n",
       "    </tr>\n",
       "    <tr>\n",
       "      <td>max</td>\n",
       "      <td>2155.000000</td>\n",
       "    </tr>\n",
       "  </tbody>\n",
       "</table>\n",
       "</div>"
      ],
      "text/plain": [
       "          token_ct\n",
       "count  2541.000000\n",
       "mean    230.385675\n",
       "std     174.510025\n",
       "min       1.000000\n",
       "25%     115.000000\n",
       "50%     194.000000\n",
       "75%     300.000000\n",
       "max    2155.000000"
      ]
     },
     "execution_count": 179,
     "metadata": {},
     "output_type": "execute_result"
    }
   ],
   "source": [
    "otherout.describe()"
   ]
  },
  {
   "cell_type": "markdown",
   "metadata": {},
   "source": [
    "**Non-Wesley Willis Outsider Music**\n",
    "- Artist Distribution\n",
    "- Token Distribution\n",
    "- Most Common Words"
   ]
  },
  {
   "cell_type": "code",
   "execution_count": 181,
   "metadata": {},
   "outputs": [],
   "source": [
    "# Separate out the top 15 non-Wesley Willis artists\n",
    "artists_to_plot = otherout.artist.value_counts()[:15]\n",
    "few_artist = otherout.artist.value_counts()[15:]\n",
    "\n",
    "# Create an \"other\" group, which sums together the bottom artist counts\n",
    "sum = 0\n",
    "for y in few_artist:\n",
    "    sum = sum +y\n",
    "artists_to_plot = artists_to_plot.append(pd.Series(sum))\n",
    "artists_to_plot.rename(index={0:'Other'},inplace=True)"
   ]
  },
  {
   "cell_type": "code",
   "execution_count": 182,
   "metadata": {},
   "outputs": [
    {
     "data": {
      "image/png": "[encoded data removed]",
      "text/plain": [
       "<Figure size 432x288 with 1 Axes>"
      ]
     },
     "metadata": {},
     "output_type": "display_data"
    }
   ],
   "source": [
    "# Only shows the top 15 artists, as well as 48 \"Other\" artists grouped together\n",
    "plt.pie(artists_to_plot, autopct='%1.1f%%', pctdistance = 1.2, labeldistance = 1.4)\n",
    "plt.legend(artists_to_plot.index, bbox_to_anchor=(-0.1, 1.),\n",
    "           fontsize=8)\n",
    "plt.title(\"Non-Wesley Willis Outsider Artist Distribution\")\n",
    "plt.savefig('../images/otherout_artist_dist_fig.png')\n",
    "plt.tight_layout()\n",
    "plt.show()"
   ]
  },
  {
   "cell_type": "markdown",
   "metadata": {},
   "source": [
    "The remaining 46 artists still represent less than 20% of the data.  Jandek, Daniel Johnston, Viper, Brian Wilson, and John Frusciante still make up a good portion of this data, but currently the goal is just to see exactly how much of the skew is toward *Wesley Willis*.  Other artists may be analyzed later."
   ]
  },
  {
   "cell_type": "code",
   "execution_count": 183,
   "metadata": {},
   "outputs": [
    {
     "data": {
      "image/png": "[encoded data removed]",
      "text/plain": [
       "<Figure size 432x288 with 1 Axes>"
      ]
     },
     "metadata": {
      "needs_background": "light"
     },
     "output_type": "display_data"
    }
   ],
   "source": [
    "otherout.token_ct.plot(kind = \"box\", rot=0, title = \"Non-Wesley Willis Outsider Music Token Count Distribution\")\n",
    "plt.savefig('../images/otherout_token_count_dist.png')"
   ]
  },
  {
   "cell_type": "code",
   "execution_count": 184,
   "metadata": {},
   "outputs": [
    {
     "data": {
      "text/plain": [
       "count    2541.000000\n",
       "mean      230.385675\n",
       "std       174.510025\n",
       "min         1.000000\n",
       "25%       115.000000\n",
       "50%       194.000000\n",
       "75%       300.000000\n",
       "max      2155.000000\n",
       "Name: token_ct, dtype: float64"
      ]
     },
     "execution_count": 184,
     "metadata": {},
     "output_type": "execute_result"
    }
   ],
   "source": [
    "otherout.token_ct.describe()"
   ]
  },
  {
   "cell_type": "code",
   "execution_count": 190,
   "metadata": {},
   "outputs": [],
   "source": [
    "# The most common words in the other outsiders dataset\n",
    "outtoks = []\n",
    "\n",
    "for toks in otherout.tokens:\n",
    "    outtoks.extend(toks)\n",
    "\n",
    "outfreq = Counter(outtoks)"
   ]
  },
  {
   "cell_type": "code",
   "execution_count": 226,
   "metadata": {},
   "outputs": [
    {
     "data": {
      "image/png": "[encoded data removed]",
      "text/plain": [
       "<Figure size 432x288 with 1 Axes>"
      ]
     },
     "metadata": {
      "needs_background": "light"
     },
     "output_type": "display_data"
    }
   ],
   "source": [
    "# Create bar plot with most common words and their counts\n",
    "word = []\n",
    "count = []\n",
    "for (w, c) in outfreq.most_common(20):\n",
    "    word.append(w)\n",
    "    count.append(c)\n",
    "plt.bar(word, count)\n",
    "plt.xticks(rotation = 90)\n",
    "plt.title(\"Most Common Words in Non-Wesley Willis Outsider Music\")\n",
    "plt.savefig(\"../images/otherout_most_common_words\")\n",
    "plt.show()"
   ]
  },
  {
   "cell_type": "code",
   "execution_count": 192,
   "metadata": {},
   "outputs": [],
   "source": [
    "# remove stopwords and punctuation\n",
    "stopwords = nltk.corpus.stopwords.words('english')\n",
    "stopwords.extend(['’', ',', '?', '!', '(', ')', '[', ']', '.', \"'\", '\"',])   # also remove punctuation\n",
    "filtered_outfreq = dict((word, freq) for word, freq in outfreq.items() if word not in (stopwords))\n",
    "otherout_fd = nltk.FreqDist(filtered_outfreq)"
   ]
  },
  {
   "cell_type": "code",
   "execution_count": 227,
   "metadata": {},
   "outputs": [
    {
     "data": {
      "image/png": "[encoded data removed]",
      "text/plain": [
       "<Figure size 432x288 with 1 Axes>"
      ]
     },
     "metadata": {
      "needs_background": "light"
     },
     "output_type": "display_data"
    }
   ],
   "source": [
    "# Create bar plot with most common words and their counts (NOT including stopwords)\n",
    "word = []\n",
    "count = []\n",
    "for (w, c) in otherout_fd.most_common(20):\n",
    "    word.append(w)\n",
    "    count.append(c)\n",
    "plt.bar(word, count)\n",
    "plt.xticks(rotation = 90)\n",
    "plt.title(\"Most Common Words in Non-Wesley Willis Outsider Music (Without Stopwords)\")\n",
    "plt.savefig(\"../images/otherout_most_common_words_nostops\")\n",
    "plt.show()"
   ]
  },
  {
   "cell_type": "code",
   "execution_count": null,
   "metadata": {},
   "outputs": [],
   "source": [
    "# \"rock\" and \"ass\" in non-Wesley Willis Music\n",
    "rock = otherout_fd[\"rock\"]\n",
    "ass = otherout_fd[\"ass\"]\n",
    "rockpct = otherout_fd[\"rock\"] / otherout.token_ct.sum()\n",
    "asspct = otherout_fd[\"ass\"] / otherout.token_ct.sum()\n",
    "print(\"In non-Wesley Willis Outsider Music:\\n\",\n",
    "    \"'rock' count =\", rock, \"\\n\",\n",
    "     \"'ass' count =\", ass, \"\\n\",\n",
    "     \"'rock' % =\", rockpct, \"\\n\",\n",
    "     \"'ass' % =\", asspct, \"\\n\")"
   ]
  },
  {
   "cell_type": "markdown",
   "metadata": {},
   "source": [
    "**Wesley Willis ONLY**\n",
    "- Token Count Distribution\n",
    "- Most Common Words"
   ]
  },
  {
   "cell_type": "code",
   "execution_count": 194,
   "metadata": {},
   "outputs": [
    {
     "data": {
      "image/png": "[encoded data removed]",
      "text/plain": [
       "<Figure size 432x288 with 1 Axes>"
      ]
     },
     "metadata": {
      "needs_background": "light"
     },
     "output_type": "display_data"
    }
   ],
   "source": [
    "willis.token_ct.plot(kind = \"box\", rot=0, title = \"Wesley Willis Outsider Music Token Count Distribution\")\n",
    "plt.savefig('../images/willis_token_count_dist.png')"
   ]
  },
  {
   "cell_type": "code",
   "execution_count": 195,
   "metadata": {
    "scrolled": true
   },
   "outputs": [
    {
     "data": {
      "text/plain": [
       "count    561.00000\n",
       "mean     146.29590\n",
       "std       37.97868\n",
       "min       72.00000\n",
       "25%      122.00000\n",
       "50%      135.00000\n",
       "75%      167.00000\n",
       "max      507.00000\n",
       "Name: token_ct, dtype: float64"
      ]
     },
     "execution_count": 195,
     "metadata": {},
     "output_type": "execute_result"
    }
   ],
   "source": [
    "willis.token_ct.describe()"
   ]
  },
  {
   "cell_type": "code",
   "execution_count": 196,
   "metadata": {},
   "outputs": [
    {
     "name": "stdout",
     "output_type": "stream",
     "text": [
      "[('the', 4845), ('a', 3051), ('’', 2708), ('rock', 2117), ('s', 1941), (',', 1762), ('you', 1618), ('was', 1395), ('on', 1218), ('my', 1211), ('i', 1163), ('ass', 1162), ('it', 1116), ('to', 1043), ('are', 994), ('me', 907), ('of', 869), ('in', 822), ('at', 810), ('over', 736)]\n"
     ]
    }
   ],
   "source": [
    "# The most common words in the Wesley Willis dataset\n",
    "outtoks = []\n",
    "\n",
    "for toks in willis.tokens:\n",
    "    outtoks.extend(toks)\n",
    "\n",
    "outfreq = Counter(outtoks)"
   ]
  },
  {
   "cell_type": "code",
   "execution_count": 228,
   "metadata": {},
   "outputs": [
    {
     "data": {
      "image/png": "[encoded data removed]",
      "text/plain": [
       "<Figure size 432x288 with 1 Axes>"
      ]
     },
     "metadata": {
      "needs_background": "light"
     },
     "output_type": "display_data"
    }
   ],
   "source": [
    "# Create bar plot with most common words and their counts\n",
    "word = []\n",
    "count = []\n",
    "for (w, c) in outfreq.most_common(20):\n",
    "    word.append(w)\n",
    "    count.append(c)\n",
    "plt.bar(word, count)\n",
    "plt.xticks(rotation = 90)\n",
    "plt.title(\"Most Common Words in Wesley Willis Music\")\n",
    "plt.savefig(\"../images/willis_most_common_words\")\n",
    "plt.show()"
   ]
  },
  {
   "cell_type": "code",
   "execution_count": 198,
   "metadata": {},
   "outputs": [],
   "source": [
    "# remove stopwords and punctuation\n",
    "filtered_outfreq = dict((word, freq) for word, freq in outfreq.items() if word not in (stopwords))\n",
    "willis_fd = nltk.FreqDist(filtered_outfreq)"
   ]
  },
  {
   "cell_type": "code",
   "execution_count": 229,
   "metadata": {},
   "outputs": [
    {
     "data": {
      "image/png": "[encoded data removed]",
      "text/plain": [
       "<Figure size 432x288 with 1 Axes>"
      ]
     },
     "metadata": {
      "needs_background": "light"
     },
     "output_type": "display_data"
    }
   ],
   "source": [
    "# Create bar plot with most common words and their counts (NOT including stopwords)\n",
    "word = []\n",
    "count = []\n",
    "for (w, c) in willis_fd.most_common(20):\n",
    "    word.append(w)\n",
    "    count.append(c)\n",
    "plt.bar(word, count)\n",
    "plt.xticks(rotation = 90)\n",
    "plt.title(\"Most Common Words in Wesley Willis Music (Without Stopwords)\")\n",
    "plt.savefig(\"../images/willis_most_common_words_nostops\")\n",
    "plt.show()"
   ]
  },
  {
   "cell_type": "markdown",
   "metadata": {},
   "source": [
    "This is not surprising.  Willis's most common words: rock and ass!"
   ]
  },
  {
   "cell_type": "code",
   "execution_count": 201,
   "metadata": {
    "scrolled": true
   },
   "outputs": [
    {
     "name": "stdout",
     "output_type": "stream",
     "text": [
      "In Wesley Willis Music:\n",
      " 'rock' count = 2117 \n",
      " 'ass' count = 1162 \n",
      " 'rock' % = 0.02579442440783702 \n",
      " 'ass' % = 0.014158300029242616 \n",
      "\n"
     ]
    }
   ],
   "source": [
    "# \"Rock\" and \"ass\" in Wesley Willis's Music\n",
    "rock = willis_fd[\"rock\"]\n",
    "ass = willis_fd[\"ass\"]\n",
    "rockpct = willis_fd[\"rock\"] / willis.token_ct.sum()\n",
    "asspct = willis_fd[\"ass\"] / willis.token_ct.sum()\n",
    "print(\"In Wesley Willis Music:\\n\",\n",
    "    \"'rock' count =\", rock, \"\\n\",\n",
    "     \"'ass' count =\", ass, \"\\n\",\n",
    "     \"'rock' % =\", rockpct, \"\\n\",\n",
    "     \"'ass' % =\", asspct, \"\\n\")"
   ]
  },
  {
   "cell_type": "markdown",
   "metadata": {},
   "source": [
    "**Jandek, Daniel Johnston, and Non-Top 3 Outsider Musicians**    \n",
    "Lastly, let's run a quick analysis on Jandek and Daniel Johnston, just to see if their data may have skewed the original analysis, as well.\n",
    "- Token Distribution\n",
    "- Most Common Words"
   ]
  },
  {
   "cell_type": "code",
   "execution_count": 203,
   "metadata": {},
   "outputs": [],
   "source": [
    "# Create a dataset without the top 3 artists:\n",
    "notop3 = lyricsdf[~lyricsdf.artist.isin([\"Wesley Willis\", \"Daniel Johnston\", \"Jandek\"])]"
   ]
  },
  {
   "cell_type": "code",
   "execution_count": 204,
   "metadata": {},
   "outputs": [
    {
     "data": {
      "image/png": "[encoded data removed]",
      "text/plain": [
       "<Figure size 432x288 with 1 Axes>"
      ]
     },
     "metadata": {
      "needs_background": "light"
     },
     "output_type": "display_data"
    }
   ],
   "source": [
    "# Plot the token distribution without the top 3 artists\n",
    "notop3.token_ct.plot(kind = \"box\", rot=0, title = \"Outsider Music without Top 3 Artists - Token Count Distribution\")\n",
    "plt.savefig('../images/no_top3_token_count_dist.png')"
   ]
  },
  {
   "cell_type": "code",
   "execution_count": 205,
   "metadata": {},
   "outputs": [
    {
     "data": {
      "text/plain": [
       "count    1889.000000\n",
       "mean      256.245103\n",
       "std       172.916354\n",
       "min         1.000000\n",
       "25%       140.000000\n",
       "50%       218.000000\n",
       "75%       338.000000\n",
       "max      1974.000000\n",
       "Name: token_ct, dtype: float64"
      ]
     },
     "execution_count": 205,
     "metadata": {},
     "output_type": "execute_result"
    }
   ],
   "source": [
    "notop3.token_ct.describe()"
   ]
  },
  {
   "cell_type": "code",
   "execution_count": 206,
   "metadata": {},
   "outputs": [
    {
     "data": {
      "image/png": "[encoded data removed]",
      "text/plain": [
       "<Figure size 432x288 with 1 Axes>"
      ]
     },
     "metadata": {
      "needs_background": "light"
     },
     "output_type": "display_data"
    }
   ],
   "source": [
    "# Jandek's token count distribution\n",
    "jandek.token_ct.plot(kind = \"box\", rot=0, title = \"Jandek Token Count Distribution\")\n",
    "plt.savefig('../images/jandek_token_count_dist.png')"
   ]
  },
  {
   "cell_type": "code",
   "execution_count": 207,
   "metadata": {},
   "outputs": [
    {
     "data": {
      "text/plain": [
       "count     339.000000\n",
       "mean      125.589971\n",
       "std       191.103275\n",
       "min         4.000000\n",
       "25%        56.000000\n",
       "50%        93.000000\n",
       "75%       135.500000\n",
       "max      2155.000000\n",
       "Name: token_ct, dtype: float64"
      ]
     },
     "execution_count": 207,
     "metadata": {},
     "output_type": "execute_result"
    }
   ],
   "source": [
    "jandek.token_ct.describe()"
   ]
  },
  {
   "cell_type": "code",
   "execution_count": 209,
   "metadata": {},
   "outputs": [
    {
     "data": {
      "image/png": "[encoded data removed]",
      "text/plain": [
       "<Figure size 432x288 with 1 Axes>"
      ]
     },
     "metadata": {
      "needs_background": "light"
     },
     "output_type": "display_data"
    }
   ],
   "source": [
    "# Daniel Johnston's token count distribution\n",
    "danjohn.token_ct.plot(kind = \"box\", rot=0, title = \"Daniel Johnston Token Count Distribution\")\n",
    "plt.savefig('../images/daniel_johnston_token_count_dist.png')"
   ]
  },
  {
   "cell_type": "code",
   "execution_count": 210,
   "metadata": {},
   "outputs": [
    {
     "data": {
      "text/plain": [
       "count    313.000000\n",
       "mean     187.821086\n",
       "std       98.124528\n",
       "min       16.000000\n",
       "25%      120.000000\n",
       "50%      181.000000\n",
       "75%      250.000000\n",
       "max      593.000000\n",
       "Name: token_ct, dtype: float64"
      ]
     },
     "execution_count": 210,
     "metadata": {},
     "output_type": "execute_result"
    }
   ],
   "source": [
    "danjohn.token_ct.describe()"
   ]
  },
  {
   "cell_type": "code",
   "execution_count": 230,
   "metadata": {},
   "outputs": [
    {
     "data": {
      "image/png": "[encoded data removed]",
      "text/plain": [
       "<Figure size 432x288 with 1 Axes>"
      ]
     },
     "metadata": {
      "needs_background": "light"
     },
     "output_type": "display_data"
    }
   ],
   "source": [
    "# The most common words in the non-top 3 outsiders dataset\n",
    "outtoks = []\n",
    "\n",
    "for toks in notop3.tokens:\n",
    "    outtoks.extend(toks)\n",
    "\n",
    "outfreq = Counter(outtoks)\n",
    "\n",
    "# Create a plot for most common 20 words\n",
    "word = []\n",
    "count = []\n",
    "for (w, c) in outfreq.most_common(20):\n",
    "    word.append(w)\n",
    "    count.append(c)\n",
    "plt.bar(word, count)\n",
    "plt.xticks(rotation = 90)\n",
    "plt.title(\"Most Common Words in Non-Top 3 Outsider Music\")\n",
    "plt.savefig(\"../images/no_top3_most_common_words\")\n",
    "plt.show()"
   ]
  },
  {
   "cell_type": "code",
   "execution_count": 231,
   "metadata": {},
   "outputs": [
    {
     "data": {
      "image/png": "[encoded data removed]",
      "text/plain": [
       "<Figure size 432x288 with 1 Axes>"
      ]
     },
     "metadata": {
      "needs_background": "light"
     },
     "output_type": "display_data"
    }
   ],
   "source": [
    "# remove stopwords and punctuation\n",
    "stopwords = nltk.corpus.stopwords.words('english')\n",
    "stopwords.extend(['’', ',', '?', '!', '(', ')', '[', ']', '.', \"'\", '\"',])\n",
    "filtered_outfreq = dict((word, freq) for word, freq in outfreq.items() if word not in (stopwords))\n",
    "notop3_fd = nltk.FreqDist(filtered_outfreq)\n",
    "\n",
    "# Create a plot for most common 20 words (NOT including stopwords)\n",
    "word = []\n",
    "count = []\n",
    "for (w, c) in notop3_fd.most_common(20):\n",
    "    word.append(w)\n",
    "    count.append(c)\n",
    "plt.bar(word, count)\n",
    "plt.xticks(rotation = 90)\n",
    "plt.title(\"Most Common Words in Non-Top 3 Outsider Music (Without Stopwords)\")\n",
    "plt.savefig(\"../images/no_top3_most_common_words_nostops\")\n",
    "plt.show()"
   ]
  },
  {
   "cell_type": "code",
   "execution_count": 232,
   "metadata": {
    "scrolled": true
   },
   "outputs": [
    {
     "data": {
      "image/png": "[encoded data removed]",
      "text/plain": [
       "<Figure size 432x288 with 1 Axes>"
      ]
     },
     "metadata": {
      "needs_background": "light"
     },
     "output_type": "display_data"
    }
   ],
   "source": [
    "# The most common words in the Jandek dataset\n",
    "outtoks = []\n",
    "\n",
    "for toks in jandek.tokens:\n",
    "    outtoks.extend(toks)\n",
    "\n",
    "outfreq = Counter(outtoks)\n",
    "\n",
    "# Create a plot for most common 20 words\n",
    "word = []\n",
    "count = []\n",
    "for (w, c) in outfreq.most_common(20):\n",
    "    word.append(w)\n",
    "    count.append(c)\n",
    "plt.bar(word, count)\n",
    "plt.xticks(rotation = 90)\n",
    "plt.title(\"Most Common Words in Jandek Music\")\n",
    "plt.savefig(\"../images/jandek_most_common_words\")\n",
    "plt.show()"
   ]
  },
  {
   "cell_type": "code",
   "execution_count": 233,
   "metadata": {},
   "outputs": [
    {
     "data": {
      "image/png": "[encoded data removed]",
      "text/plain": [
       "<Figure size 432x288 with 1 Axes>"
      ]
     },
     "metadata": {
      "needs_background": "light"
     },
     "output_type": "display_data"
    }
   ],
   "source": [
    "# remove stopwords and punctuation\n",
    "filtered_outfreq = dict((word, freq) for word, freq in outfreq.items() if word not in (stopwords))\n",
    "jandek_fd = nltk.FreqDist(filtered_outfreq)\n",
    "\n",
    "# Create a plot for most common 20 words (NOT including stopwords)\n",
    "word = []\n",
    "count = []\n",
    "for (w, c) in jandek_fd.most_common(20):\n",
    "    word.append(w)\n",
    "    count.append(c)\n",
    "plt.bar(word, count)\n",
    "plt.xticks(rotation = 90)\n",
    "plt.title(\"Most Common Words in Jandek Music (Without Stopwords)\")\n",
    "plt.savefig(\"../images/jandek_most_common_words_nostops\")\n",
    "plt.show()"
   ]
  },
  {
   "cell_type": "code",
   "execution_count": 234,
   "metadata": {},
   "outputs": [
    {
     "data": {
      "image/png": "[encoded data removed]",
      "text/plain": [
       "<Figure size 432x288 with 1 Axes>"
      ]
     },
     "metadata": {
      "needs_background": "light"
     },
     "output_type": "display_data"
    }
   ],
   "source": [
    "# The most common words in the Daniel Johnston dataset\n",
    "outtoks = []\n",
    "\n",
    "for toks in danjohn.tokens:\n",
    "    outtoks.extend(toks)\n",
    "\n",
    "outfreq = Counter(outtoks)\n",
    "\n",
    "# Create a plot for most common 20 words\n",
    "word = []\n",
    "count = []\n",
    "for (w, c) in outfreq.most_common(20):\n",
    "    word.append(w)\n",
    "    count.append(c)\n",
    "plt.bar(word, count)\n",
    "plt.xticks(rotation = 90)\n",
    "plt.title(\"Most Common Words in Daniel Johnston Music\")\n",
    "plt.savefig(\"../images/daniel_johnston_most_common_words\")\n",
    "plt.show()"
   ]
  },
  {
   "cell_type": "code",
   "execution_count": 235,
   "metadata": {},
   "outputs": [
    {
     "data": {
      "image/png": "[encoded data removed]",
      "text/plain": [
       "<Figure size 432x288 with 1 Axes>"
      ]
     },
     "metadata": {
      "needs_background": "light"
     },
     "output_type": "display_data"
    }
   ],
   "source": [
    "# remove stopwords and punctuation\n",
    "filtered_outfreq = dict((word, freq) for word, freq in outfreq.items() if word not in (stopwords))\n",
    "danjohn_fd = nltk.FreqDist(filtered_outfreq)\n",
    "\n",
    "# Create a plot for most common 20 words (NOT including stopwords)\n",
    "word = []\n",
    "count = []\n",
    "for (w, c) in danjohn_fd.most_common(20):\n",
    "    word.append(w)\n",
    "    count.append(c)\n",
    "plt.bar(word, count)\n",
    "plt.xticks(rotation = 90)\n",
    "plt.title(\"Most Common Words in Daniel Johnston Music (Without Stopwords)\")\n",
    "plt.savefig(\"../images/daniel_johnston_most_common_words_nostops\")\n",
    "plt.show()"
   ]
  },
  {
   "cell_type": "code",
   "execution_count": 217,
   "metadata": {},
   "outputs": [
    {
     "name": "stdout",
     "output_type": "stream",
     "text": [
      "KNOW in Jandek Music:\n",
      " 'know' count = 270 \n",
      " 'know' % = 0.006341749853200235\n",
      "KNOW in Outsider Music without Top 3 Artists:\n",
      " 'know' count = 2153 \n",
      " 'know' % = 0.004447915181790198\n"
     ]
    }
   ],
   "source": [
    "# Jandek's 2 most common words:\n",
    "# KNOW\n",
    "know = jandek_fd[\"know\"]\n",
    "knowpct = jandek_fd[\"know\"] / jandek.token_ct.sum()\n",
    "print(\"KNOW in Jandek Music:\\n\",\n",
    "    \"'know' count =\", know, \"\\n\",\n",
    "     \"'know' % =\", knowpct)\n",
    "\n",
    "know = notop3_fd[\"know\"]\n",
    "knowpct = notop3_fd[\"know\"] / notop3.token_ct.sum()\n",
    "print(\"KNOW in Outsider Music without Top 3 Artists:\\n\",\n",
    "    \"'know' count =\", know, \"\\n\",\n",
    "     \"'know' % =\", knowpct)"
   ]
  },
  {
   "cell_type": "code",
   "execution_count": 219,
   "metadata": {},
   "outputs": [
    {
     "name": "stdout",
     "output_type": "stream",
     "text": [
      "GOT in Jandek Music:\n",
      " 'got' count = 261 \n",
      " 'got' % = 0.006130358191426894\n",
      "GOT in Outsider Music without Top 3 Artists:\n",
      " 'got' count = 2311 \n",
      " 'got' % = 0.004774329765497978\n"
     ]
    }
   ],
   "source": [
    "# GOT\n",
    "got = jandek_fd[\"got\"]\n",
    "gotpct = jandek_fd[\"got\"] / jandek.token_ct.sum()\n",
    "print(\"GOT in Jandek Music:\\n\",\n",
    "    \"'got' count =\", got, \"\\n\",\n",
    "     \"'got' % =\", gotpct)\n",
    "\n",
    "got = notop3_fd[\"got\"]\n",
    "gotpct = notop3_fd[\"got\"] / notop3.token_ct.sum()\n",
    "print(\"GOT in Outsider Music without Top 3 Artists:\\n\",\n",
    "    \"'got' count =\", got, \"\\n\",\n",
    "     \"'got' % =\", gotpct)"
   ]
  },
  {
   "cell_type": "code",
   "execution_count": 220,
   "metadata": {},
   "outputs": [
    {
     "name": "stdout",
     "output_type": "stream",
     "text": [
      "LOVE in Daniel Johnston Music:\n",
      " 'love' count = 568 \n",
      " 'love' % = 0.00966183574879227\n",
      "LOVE in Outsider Music without Top 3 Artists:\n",
      " 'love' count = 1874 \n",
      " 'love' % = 0.003871524872584687\n"
     ]
    }
   ],
   "source": [
    "# Daniel Johnston's most common word:\n",
    "# LOVE\n",
    "love = danjohn_fd[\"love\"]\n",
    "lovepct = danjohn_fd[\"love\"] / danjohn.token_ct.sum()\n",
    "print(\"LOVE in Daniel Johnston Music:\\n\",\n",
    "    \"'love' count =\", love, \"\\n\",\n",
    "     \"'love' % =\", lovepct)\n",
    "\n",
    "love = notop3_fd[\"love\"]\n",
    "lovepct = notop3_fd[\"love\"] / notop3.token_ct.sum()\n",
    "print(\"LOVE in Outsider Music without Top 3 Artists:\\n\",\n",
    "    \"'love' count =\", love, \"\\n\",\n",
    "     \"'love' % =\", lovepct)"
   ]
  }
 ],
 "metadata": {
  "kernelspec": {
   "display_name": "Python 3",
   "language": "python",
   "name": "python3"
  },
  "language_info": {
   "codemirror_mode": {
    "name": "ipython",
    "version": 3
   },
   "file_extension": ".py",
   "mimetype": "text/x-python",
   "name": "python",
   "nbconvert_exporter": "python",
   "pygments_lexer": "ipython3",
   "version": "3.7.4"
  }
 },
 "nbformat": 4,
 "nbformat_minor": 2
}
