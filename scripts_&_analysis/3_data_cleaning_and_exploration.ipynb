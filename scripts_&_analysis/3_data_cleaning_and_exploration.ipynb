{
 "cells": [
  {
   "cell_type": "markdown",
   "metadata": {},
   "source": [
    "# Data Cleaning and Exploration\n"
   ]
  },
  {
   "cell_type": "markdown",
   "metadata": {},
   "source": [
    "## Table of Contents:\n",
    "1. [Important Information](http://localhost:8888/notebooks/Documents/DataSci/Outsider-Music-Linguistic-Analysis/scripts_%26_analysis/3_data_cleaning_and_exploration.ipynb#Important-Information)\n",
    "2. [Unpickle the Data](http://localhost:8888/notebooks/Documents/DataSci/Outsider-Music-Linguistic-Analysis/scripts_%26_analysis/3_data_cleaning_and_exploration.ipynb#Unpickle-the-Data)    \n",
    "3. [Initial Data Exploration](http://localhost:8888/notebooks/Documents/DataSci/Outsider-Music-Linguistic-Analysis/scripts_%26_analysis/3_data_cleaning_and_exploration.ipynb#Initial-Data-Exploration)    \n",
    "4. [Data Cleaning](http://localhost:8888/notebooks/Documents/DataSci/Outsider-Music-Linguistic-Analysis/scripts_%26_analysis/3_data_cleaning_and_exploration.ipynb#Data-Cleaning)\n",
    "\n",
    "If some output in this Jupyter notebook doesn't appear, check it out in this [nbviewer](https://nbviewer.org/github/Data-Science-for-Linguists-2022/Outsider-Music-Linguistic-Analysis/blob/main/scripts_%26_analysis/3_data_cleaning_and_exploration.ipynb)."
   ]
  },
  {
   "cell_type": "markdown",
   "metadata": {},
   "source": [
    "## Important Information\n",
    "### Prior to the Creation of this Script:\n",
    "I have scraped the list of musicians from Wikipedia using wiki_musicians.py.  I manually cleaned the text file to remove double quotations (\"\") and parentheticals like \"(performer),\" \"(musician),\" and \"(singer),\" since it was manageable with just 111 artists.\n",
    "\n",
    "I then retrieved lyrics from these artists from Genius.com using lyricsgenius_requests.ipynb, where 70+ artist-queries successfully returned JSON files.\n",
    "\n",
    "Lastly, I created and pickled the lyrics data frame (or rough_df.pkl, not uploaded in the repo) in the [load_json_to_df.ipynb](https://github.com/Data-Science-for-Linguists-2022/Outsider-Music-Linguistic-Analysis/blob/main/scripts_%26_analysis/2_load_json_to_df.ipynb) script, where an additional 8 artists could not be successfully loaded, due to entirely null lyrical entries.  This pickled data frame remains in my local repository.\n",
    "\n",
    "The steps above were broken into multiple scripts to avoid re-running time-intensive queries.\n",
    "\n",
    "### Progress Report Info:\n",
    "This script represents the end of Progress Report 1 and the main body of Progress Report 2.  PR1 was split into multiple scripts/notebooks so that data collection steps wouldn't be re-run."
   ]
  },
  {
   "cell_type": "markdown",
   "metadata": {},
   "source": [
    "## Unpickle the Data"
   ]
  },
  {
   "cell_type": "code",
   "execution_count": 1,
   "metadata": {},
   "outputs": [],
   "source": [
    "import pickle\n",
    "f = open('../data/rough_df.pkl', 'rb')\n",
    "lyricsdf = pickle.load(f)\n",
    "f.close()"
   ]
  },
  {
   "cell_type": "code",
   "execution_count": 2,
   "metadata": {},
   "outputs": [
    {
     "data": {
      "text/html": [
       "<div>\n",
       "<style scoped>\n",
       "    .dataframe tbody tr th:only-of-type {\n",
       "        vertical-align: middle;\n",
       "    }\n",
       "\n",
       "    .dataframe tbody tr th {\n",
       "        vertical-align: top;\n",
       "    }\n",
       "\n",
       "    .dataframe thead th {\n",
       "        text-align: right;\n",
       "    }\n",
       "</style>\n",
       "<table border=\"1\" class=\"dataframe\">\n",
       "  <thead>\n",
       "    <tr style=\"text-align: right;\">\n",
       "      <th></th>\n",
       "      <th>artist</th>\n",
       "      <th>title</th>\n",
       "      <th>lyrics</th>\n",
       "    </tr>\n",
       "  </thead>\n",
       "  <tbody>\n",
       "    <tr>\n",
       "      <td>0</td>\n",
       "      <td>Abner Jay</td>\n",
       "      <td>Bring It When You Come</td>\n",
       "      <td>Bring It When You Come Lyrics\\nTerrible things...</td>\n",
       "    </tr>\n",
       "    <tr>\n",
       "      <td>1</td>\n",
       "      <td>Abner Jay</td>\n",
       "      <td>Cocaine</td>\n",
       "      <td>Cocaine Lyrics\\nFolk music is high-class music...</td>\n",
       "    </tr>\n",
       "    <tr>\n",
       "      <td>2</td>\n",
       "      <td>Abner Jay</td>\n",
       "      <td>Cocaine Blues</td>\n",
       "      <td>Cocaine Blues LyricsCocaine, Cocaine\\nRunning ...</td>\n",
       "    </tr>\n",
       "    <tr>\n",
       "      <td>3</td>\n",
       "      <td>Abner Jay</td>\n",
       "      <td>Don’t Mess with Me Baby</td>\n",
       "      <td>Don’t Mess with Me Baby Lyrics\\nTerrible thing...</td>\n",
       "    </tr>\n",
       "    <tr>\n",
       "      <td>4</td>\n",
       "      <td>Abner Jay</td>\n",
       "      <td>I cried</td>\n",
       "      <td>I cried LyricsI, I cried\\nI cried in the ni-ig...</td>\n",
       "    </tr>\n",
       "  </tbody>\n",
       "</table>\n",
       "</div>"
      ],
      "text/plain": [
       "      artist                    title  \\\n",
       "0  Abner Jay   Bring It When You Come   \n",
       "1  Abner Jay                  Cocaine   \n",
       "2  Abner Jay            Cocaine Blues   \n",
       "3  Abner Jay  Don’t Mess with Me Baby   \n",
       "4  Abner Jay                  I cried   \n",
       "\n",
       "                                              lyrics  \n",
       "0  Bring It When You Come Lyrics\\nTerrible things...  \n",
       "1  Cocaine Lyrics\\nFolk music is high-class music...  \n",
       "2  Cocaine Blues LyricsCocaine, Cocaine\\nRunning ...  \n",
       "3  Don’t Mess with Me Baby Lyrics\\nTerrible thing...  \n",
       "4  I cried LyricsI, I cried\\nI cried in the ni-ig...  "
      ]
     },
     "execution_count": 2,
     "metadata": {},
     "output_type": "execute_result"
    }
   ],
   "source": [
    "lyricsdf.head()"
   ]
  },
  {
   "cell_type": "markdown",
   "metadata": {},
   "source": [
    "## Initial Data Exploration\n",
    "Before cleaning, I'd like to see the status of the data: \n",
    "- how many artists are there,\n",
    "- how many songs,\n",
    "- how many lyrics are empty strings,\n",
    "- how many are duplicates,\n",
    "- and what is the artist distribution like?"
   ]
  },
  {
   "cell_type": "code",
   "execution_count": 3,
   "metadata": {},
   "outputs": [],
   "source": [
    "import nltk\n",
    "import pandas as pd\n",
    "import numpy as np\n",
    "import matplotlib.pyplot as plt\n",
    "import re"
   ]
  },
  {
   "cell_type": "code",
   "execution_count": 4,
   "metadata": {},
   "outputs": [
    {
     "data": {
      "text/html": [
       "<div>\n",
       "<style scoped>\n",
       "    .dataframe tbody tr th:only-of-type {\n",
       "        vertical-align: middle;\n",
       "    }\n",
       "\n",
       "    .dataframe tbody tr th {\n",
       "        vertical-align: top;\n",
       "    }\n",
       "\n",
       "    .dataframe thead th {\n",
       "        text-align: right;\n",
       "    }\n",
       "</style>\n",
       "<table border=\"1\" class=\"dataframe\">\n",
       "  <thead>\n",
       "    <tr style=\"text-align: right;\">\n",
       "      <th></th>\n",
       "      <th>artist</th>\n",
       "      <th>title</th>\n",
       "      <th>lyrics</th>\n",
       "    </tr>\n",
       "  </thead>\n",
       "  <tbody>\n",
       "    <tr>\n",
       "      <td>count</td>\n",
       "      <td>3388</td>\n",
       "      <td>3388</td>\n",
       "      <td>3388</td>\n",
       "    </tr>\n",
       "    <tr>\n",
       "      <td>unique</td>\n",
       "      <td>63</td>\n",
       "      <td>3359</td>\n",
       "      <td>3187</td>\n",
       "    </tr>\n",
       "    <tr>\n",
       "      <td>top</td>\n",
       "      <td>Wesley Willis</td>\n",
       "      <td>Lullaby</td>\n",
       "      <td></td>\n",
       "    </tr>\n",
       "    <tr>\n",
       "      <td>freq</td>\n",
       "      <td>561</td>\n",
       "      <td>3</td>\n",
       "      <td>202</td>\n",
       "    </tr>\n",
       "  </tbody>\n",
       "</table>\n",
       "</div>"
      ],
      "text/plain": [
       "               artist    title lyrics\n",
       "count            3388     3388   3388\n",
       "unique             63     3359   3187\n",
       "top     Wesley Willis  Lullaby       \n",
       "freq              561        3    202"
      ]
     },
     "execution_count": 4,
     "metadata": {},
     "output_type": "execute_result"
    }
   ],
   "source": [
    "lyricsdf.describe()"
   ]
  },
  {
   "cell_type": "markdown",
   "metadata": {},
   "source": [
    "It looks like there are 3,388 lyric entries, with 63 unique artists. I sense there are a number of \"null\" lyrics, given that nearly 200 entries are not unique.  This may also be explained by duplicates (though I wouldn't expect exact duplicates for non-null lyrics)."
   ]
  },
  {
   "cell_type": "code",
   "execution_count": 5,
   "metadata": {},
   "outputs": [
    {
     "data": {
      "text/plain": [
       "202"
      ]
     },
     "execution_count": 5,
     "metadata": {},
     "output_type": "execute_result"
    }
   ],
   "source": [
    "# Find duplicates\n",
    "len(lyricsdf[lyricsdf.lyrics == \"\"])"
   ]
  },
  {
   "cell_type": "code",
   "execution_count": 6,
   "metadata": {},
   "outputs": [
    {
     "data": {
      "text/plain": [
       "False    3187\n",
       "True      201\n",
       "Name: lyrics, dtype: int64"
      ]
     },
     "execution_count": 6,
     "metadata": {},
     "output_type": "execute_result"
    }
   ],
   "source": [
    "lyricsdf.lyrics.duplicated().value_counts()"
   ]
  },
  {
   "cell_type": "markdown",
   "metadata": {},
   "source": [
    "201 lyric entries are duplicates of other entries, and 202 lyric entries are empty strings."
   ]
  },
  {
   "cell_type": "code",
   "execution_count": 7,
   "metadata": {},
   "outputs": [
    {
     "data": {
      "text/html": [
       "<div>\n",
       "<style scoped>\n",
       "    .dataframe tbody tr th:only-of-type {\n",
       "        vertical-align: middle;\n",
       "    }\n",
       "\n",
       "    .dataframe tbody tr th {\n",
       "        vertical-align: top;\n",
       "    }\n",
       "\n",
       "    .dataframe thead th {\n",
       "        text-align: right;\n",
       "    }\n",
       "</style>\n",
       "<table border=\"1\" class=\"dataframe\">\n",
       "  <thead>\n",
       "    <tr style=\"text-align: right;\">\n",
       "      <th></th>\n",
       "      <th>artist</th>\n",
       "      <th>title</th>\n",
       "      <th>lyrics</th>\n",
       "    </tr>\n",
       "  </thead>\n",
       "  <tbody>\n",
       "    <tr>\n",
       "      <td>count</td>\n",
       "      <td>3388</td>\n",
       "      <td>3388</td>\n",
       "      <td>3388</td>\n",
       "    </tr>\n",
       "    <tr>\n",
       "      <td>unique</td>\n",
       "      <td>63</td>\n",
       "      <td>3359</td>\n",
       "      <td>3187</td>\n",
       "    </tr>\n",
       "    <tr>\n",
       "      <td>top</td>\n",
       "      <td>Wesley Willis</td>\n",
       "      <td>Lullaby</td>\n",
       "      <td></td>\n",
       "    </tr>\n",
       "    <tr>\n",
       "      <td>freq</td>\n",
       "      <td>561</td>\n",
       "      <td>3</td>\n",
       "      <td>202</td>\n",
       "    </tr>\n",
       "  </tbody>\n",
       "</table>\n",
       "</div>"
      ],
      "text/plain": [
       "               artist    title lyrics\n",
       "count            3388     3388   3388\n",
       "unique             63     3359   3187\n",
       "top     Wesley Willis  Lullaby       \n",
       "freq              561        3    202"
      ]
     },
     "execution_count": 7,
     "metadata": {},
     "output_type": "execute_result"
    }
   ],
   "source": [
    "lyricsdf.describe()"
   ]
  },
  {
   "cell_type": "code",
   "execution_count": 8,
   "metadata": {},
   "outputs": [
    {
     "data": {
      "text/plain": [
       "Wesley Willis        561\n",
       "Jandek               351\n",
       "Daniel Johnston      316\n",
       "Viper                261\n",
       "Brian Wilson         237\n",
       "                    ... \n",
       "Damião Experiença      1\n",
       "Sky Saxon              1\n",
       "Paul Hawkins           1\n",
       "Mrs. Miller            1\n",
       "Lucia Pamela           1\n",
       "Name: artist, Length: 63, dtype: int64"
      ]
     },
     "execution_count": 8,
     "metadata": {},
     "output_type": "execute_result"
    }
   ],
   "source": [
    "lyricsdf.artist.value_counts()"
   ]
  },
  {
   "cell_type": "markdown",
   "metadata": {},
   "source": [
    "A good portion of the data is made up of Wesley Willis music (561 songs), while it appears that many artists may only have 1 or 2 songs in the list.  Obviously, this may skew the analysis toward \"Wesley Willis\" music and away from the more general \"Outsider Music\" genre.  I will wait until my data is fully cleaned before making any judgments on how to deal with this potential skew."
   ]
  },
  {
   "cell_type": "code",
   "execution_count": 9,
   "metadata": {},
   "outputs": [
    {
     "data": {
      "text/plain": [
       "<matplotlib.axes._subplots.AxesSubplot at 0x142a1de3888>"
      ]
     },
     "execution_count": 9,
     "metadata": {},
     "output_type": "execute_result"
    },
    {
     "data": {
      "image/png": "[encoded data removed]",
      "text/plain": [
       "<Figure size 432x288 with 1 Axes>"
      ]
     },
     "metadata": {
      "needs_background": "light"
     },
     "output_type": "display_data"
    }
   ],
   "source": [
    "lyricsdf.artist.value_counts().plot(kind = \"box\", rot=0, title = \"Outsider Music Artist Distribution\")"
   ]
  },
  {
   "cell_type": "markdown",
   "metadata": {},
   "source": [
    "This box plot is probably the cleanest way to visualize the artist distribution: there are many artists with only 1 or so songs in the data, as shown by the incredibly cramped 2nd quartile.  But there are also a handful of outliers with hundreds of songs present in the data."
   ]
  },
  {
   "cell_type": "markdown",
   "metadata": {},
   "source": [
    "## Data Cleaning"
   ]
  },
  {
   "cell_type": "markdown",
   "metadata": {},
   "source": [
    "**Progress Report 2 starts here**\n",
    "\n",
    "As I move forward with data cleaning, I will need to first take care of the \"*Song Title* Lyrics\" issue present at the beginning of most (if not all) of the lyrics in the dataset, then strip whitespace from the ends of the lyric text and handle \"\\n\" within the lyric body.  I had previously considered changing empty strings in the lyrics to be \"None,\" but that appears to drastically change the lyrics somehow (it copies lyrics from another song into an empty string, but I'm not sure why).  When removing blank songs, we'll just search for empty strings."
   ]
  },
  {
   "cell_type": "code",
   "execution_count": 10,
   "metadata": {},
   "outputs": [],
   "source": [
    "# cycles through rows, removes the *Song Title* Lyrics from beginning\n",
    "def removeTitle(df):\n",
    "    i = 0\n",
    "    while i != len(df):\n",
    "        row = df.iloc[i]\n",
    "        toRemove = row.title + \" Lyrics\"\n",
    "        row.lyrics = row.lyrics.replace(toRemove, \"\")\n",
    "        i = i+1"
   ]
  },
  {
   "cell_type": "code",
   "execution_count": 11,
   "metadata": {},
   "outputs": [],
   "source": [
    "removeTitle(lyricsdf)"
   ]
  },
  {
   "cell_type": "code",
   "execution_count": 12,
   "metadata": {},
   "outputs": [
    {
     "data": {
      "text/html": [
       "<div>\n",
       "<style scoped>\n",
       "    .dataframe tbody tr th:only-of-type {\n",
       "        vertical-align: middle;\n",
       "    }\n",
       "\n",
       "    .dataframe tbody tr th {\n",
       "        vertical-align: top;\n",
       "    }\n",
       "\n",
       "    .dataframe thead th {\n",
       "        text-align: right;\n",
       "    }\n",
       "</style>\n",
       "<table border=\"1\" class=\"dataframe\">\n",
       "  <thead>\n",
       "    <tr style=\"text-align: right;\">\n",
       "      <th></th>\n",
       "      <th>artist</th>\n",
       "      <th>title</th>\n",
       "      <th>lyrics</th>\n",
       "    </tr>\n",
       "  </thead>\n",
       "  <tbody>\n",
       "    <tr>\n",
       "      <td>0</td>\n",
       "      <td>Abner Jay</td>\n",
       "      <td>Bring It When You Come</td>\n",
       "      <td>\\nTerrible things, always happening\\nJust like...</td>\n",
       "    </tr>\n",
       "    <tr>\n",
       "      <td>1</td>\n",
       "      <td>Abner Jay</td>\n",
       "      <td>Cocaine</td>\n",
       "      <td>\\nFolk music is high-class music. There's a lo...</td>\n",
       "    </tr>\n",
       "    <tr>\n",
       "      <td>2</td>\n",
       "      <td>Abner Jay</td>\n",
       "      <td>Cocaine Blues</td>\n",
       "      <td>Cocaine, Cocaine\\nRunning round my heart\\nAnd ...</td>\n",
       "    </tr>\n",
       "    <tr>\n",
       "      <td>3</td>\n",
       "      <td>Abner Jay</td>\n",
       "      <td>Don’t Mess with Me Baby</td>\n",
       "      <td>\\nTerrible things; that's what's getting all t...</td>\n",
       "    </tr>\n",
       "    <tr>\n",
       "      <td>4</td>\n",
       "      <td>Abner Jay</td>\n",
       "      <td>I cried</td>\n",
       "      <td>I, I cried\\nI cried in the ni-ight\\nOh please ...</td>\n",
       "    </tr>\n",
       "  </tbody>\n",
       "</table>\n",
       "</div>"
      ],
      "text/plain": [
       "      artist                    title  \\\n",
       "0  Abner Jay   Bring It When You Come   \n",
       "1  Abner Jay                  Cocaine   \n",
       "2  Abner Jay            Cocaine Blues   \n",
       "3  Abner Jay  Don’t Mess with Me Baby   \n",
       "4  Abner Jay                  I cried   \n",
       "\n",
       "                                              lyrics  \n",
       "0  \\nTerrible things, always happening\\nJust like...  \n",
       "1  \\nFolk music is high-class music. There's a lo...  \n",
       "2  Cocaine, Cocaine\\nRunning round my heart\\nAnd ...  \n",
       "3  \\nTerrible things; that's what's getting all t...  \n",
       "4  I, I cried\\nI cried in the ni-ight\\nOh please ...  "
      ]
     },
     "execution_count": 12,
     "metadata": {},
     "output_type": "execute_result"
    }
   ],
   "source": [
    "lyricsdf.head()"
   ]
  },
  {
   "cell_type": "markdown",
   "metadata": {},
   "source": [
    "Note below that there are still duplicates.  After removing the song titles, lyrical entries like \"Transcription in progress\" and \"Embed\" are now identical, in addition to the None values added in.  It is difficult to tell, however, why some of these other entries are appearing as duplicates"
   ]
  },
  {
   "cell_type": "code",
   "execution_count": 13,
   "metadata": {},
   "outputs": [
    {
     "data": {
      "text/html": [
       "<div>\n",
       "<style scoped>\n",
       "    .dataframe tbody tr th:only-of-type {\n",
       "        vertical-align: middle;\n",
       "    }\n",
       "\n",
       "    .dataframe tbody tr th {\n",
       "        vertical-align: top;\n",
       "    }\n",
       "\n",
       "    .dataframe thead th {\n",
       "        text-align: right;\n",
       "    }\n",
       "</style>\n",
       "<table border=\"1\" class=\"dataframe\">\n",
       "  <thead>\n",
       "    <tr style=\"text-align: right;\">\n",
       "      <th></th>\n",
       "      <th>artist</th>\n",
       "      <th>title</th>\n",
       "      <th>lyrics</th>\n",
       "    </tr>\n",
       "  </thead>\n",
       "  <tbody>\n",
       "    <tr>\n",
       "      <td>23</td>\n",
       "      <td>The Red Krayola</td>\n",
       "      <td>Piece for Piano and Guitar</td>\n",
       "      <td></td>\n",
       "    </tr>\n",
       "    <tr>\n",
       "      <td>33</td>\n",
       "      <td>The Red Krayola</td>\n",
       "      <td>The Jewels of thre Madonna</td>\n",
       "      <td>Neevr let it be said that this is swill\\nI'm g...</td>\n",
       "    </tr>\n",
       "    <tr>\n",
       "      <td>36</td>\n",
       "      <td>The Red Krayola</td>\n",
       "      <td>Tina’s Gone to Have a Baby</td>\n",
       "      <td>The master tours the garden in a coach\\nI see ...</td>\n",
       "    </tr>\n",
       "    <tr>\n",
       "      <td>10</td>\n",
       "      <td>The Shaggs</td>\n",
       "      <td>Shaggs’ Own Thing (Musical Version)</td>\n",
       "      <td></td>\n",
       "    </tr>\n",
       "    <tr>\n",
       "      <td>17</td>\n",
       "      <td>The Shaggs</td>\n",
       "      <td>Wheels</td>\n",
       "      <td></td>\n",
       "    </tr>\n",
       "    <tr>\n",
       "      <td>1</td>\n",
       "      <td>Tonetta</td>\n",
       "      <td>81 Inch Prime Ass (Tonetta)</td>\n",
       "      <td>I'm going to tickle your ass\\nWith my tongue\\n...</td>\n",
       "    </tr>\n",
       "    <tr>\n",
       "      <td>79</td>\n",
       "      <td>Viper</td>\n",
       "      <td>Hop It, Drop It</td>\n",
       "      <td>\\nHop it, drop it\\nDon't hurt it, work it\\nHop...</td>\n",
       "    </tr>\n",
       "    <tr>\n",
       "      <td>113</td>\n",
       "      <td>Viper</td>\n",
       "      <td>In the Life of the Top-Choice Assassin</td>\n",
       "      <td>\\nIn the life of a baller\\nShot-caller, hater ...</td>\n",
       "    </tr>\n",
       "    <tr>\n",
       "      <td>127</td>\n",
       "      <td>Viper</td>\n",
       "      <td>Jackers Mad</td>\n",
       "      <td>Transcription in progress by Viper Crackpostin...</td>\n",
       "    </tr>\n",
       "    <tr>\n",
       "      <td>156</td>\n",
       "      <td>Viper</td>\n",
       "      <td>No 1 Had A Clue</td>\n",
       "      <td>\\nGirls love me cause I'm so real\\nCause I'm l...</td>\n",
       "    </tr>\n",
       "    <tr>\n",
       "      <td>181</td>\n",
       "      <td>Viper</td>\n",
       "      <td>Shinin’</td>\n",
       "      <td>Transcription in progress by Viper Crackpostin...</td>\n",
       "    </tr>\n",
       "    <tr>\n",
       "      <td>207</td>\n",
       "      <td>Viper</td>\n",
       "      <td>The Paper Man</td>\n",
       "      <td>\\nIf you're looking for me I'll be ballin'\\nCa...</td>\n",
       "    </tr>\n",
       "    <tr>\n",
       "      <td>213</td>\n",
       "      <td>Viper</td>\n",
       "      <td>The World’s Top Enemies</td>\n",
       "      <td>Transcription in progress by Viper Crackpostin...</td>\n",
       "    </tr>\n",
       "    <tr>\n",
       "      <td>217</td>\n",
       "      <td>Viper</td>\n",
       "      <td>Thick Grindin’</td>\n",
       "      <td>\\nStanging licks, hustlin' thick\\nBig grinding...</td>\n",
       "    </tr>\n",
       "    <tr>\n",
       "      <td>231</td>\n",
       "      <td>Viper</td>\n",
       "      <td>Top Money In Our Pocket</td>\n",
       "      <td>Transcription in progress by Viper Crackpostin...</td>\n",
       "    </tr>\n",
       "    <tr>\n",
       "      <td>233</td>\n",
       "      <td>Viper</td>\n",
       "      <td>U a Dime</td>\n",
       "      <td>\\nUp\\nYou a dime, get up\\nYou fine, get up\\nYo...</td>\n",
       "    </tr>\n",
       "    <tr>\n",
       "      <td>242</td>\n",
       "      <td>Viper</td>\n",
       "      <td>We Lit</td>\n",
       "      <td>Transcription in progress by Viper Crackpostin...</td>\n",
       "    </tr>\n",
       "    <tr>\n",
       "      <td>251</td>\n",
       "      <td>Viper</td>\n",
       "      <td>Winnin’ Through Your Best Side</td>\n",
       "      <td>\\nYou probably seen me rolling through your ho...</td>\n",
       "    </tr>\n",
       "    <tr>\n",
       "      <td>255</td>\n",
       "      <td>Viper</td>\n",
       "      <td>You Fine, Get Up</td>\n",
       "      <td>\\nUp\\nYou a dime, get up\\nYou fine, get up\\nYo...</td>\n",
       "    </tr>\n",
       "    <tr>\n",
       "      <td>196</td>\n",
       "      <td>Wesley Willis</td>\n",
       "      <td>I’m Shooting Out Your Lights (New York, New Yo...</td>\n",
       "      <td>\\nLook out as I speak, buddy boy\\nI'm going to...</td>\n",
       "    </tr>\n",
       "  </tbody>\n",
       "</table>\n",
       "</div>"
      ],
      "text/plain": [
       "              artist                                              title  \\\n",
       "23   The Red Krayola                         Piece for Piano and Guitar   \n",
       "33   The Red Krayola                         The Jewels of thre Madonna   \n",
       "36   The Red Krayola                         Tina’s Gone to Have a Baby   \n",
       "10        The Shaggs                Shaggs’ Own Thing (Musical Version)   \n",
       "17        The Shaggs                                             Wheels   \n",
       "1            Tonetta                        81 Inch Prime Ass (Tonetta)   \n",
       "79             Viper                                    Hop It, Drop It   \n",
       "113            Viper             In the Life of the Top-Choice Assassin   \n",
       "127            Viper                                        Jackers Mad   \n",
       "156            Viper                                    No 1 Had A Clue   \n",
       "181            Viper                                            Shinin’   \n",
       "207            Viper                                      The Paper Man   \n",
       "213            Viper                            The World’s Top Enemies   \n",
       "217            Viper                                     Thick Grindin’   \n",
       "231            Viper                            Top Money In Our Pocket   \n",
       "233            Viper                                           U a Dime   \n",
       "242            Viper                                             We Lit   \n",
       "251            Viper                     Winnin’ Through Your Best Side   \n",
       "255            Viper                                   You Fine, Get Up   \n",
       "196    Wesley Willis  I’m Shooting Out Your Lights (New York, New Yo...   \n",
       "\n",
       "                                                lyrics  \n",
       "23                                                      \n",
       "33   Neevr let it be said that this is swill\\nI'm g...  \n",
       "36   The master tours the garden in a coach\\nI see ...  \n",
       "10                                                      \n",
       "17                                                      \n",
       "1    I'm going to tickle your ass\\nWith my tongue\\n...  \n",
       "79   \\nHop it, drop it\\nDon't hurt it, work it\\nHop...  \n",
       "113  \\nIn the life of a baller\\nShot-caller, hater ...  \n",
       "127  Transcription in progress by Viper Crackpostin...  \n",
       "156  \\nGirls love me cause I'm so real\\nCause I'm l...  \n",
       "181  Transcription in progress by Viper Crackpostin...  \n",
       "207  \\nIf you're looking for me I'll be ballin'\\nCa...  \n",
       "213  Transcription in progress by Viper Crackpostin...  \n",
       "217  \\nStanging licks, hustlin' thick\\nBig grinding...  \n",
       "231  Transcription in progress by Viper Crackpostin...  \n",
       "233  \\nUp\\nYou a dime, get up\\nYou fine, get up\\nYo...  \n",
       "242  Transcription in progress by Viper Crackpostin...  \n",
       "251  \\nYou probably seen me rolling through your ho...  \n",
       "255  \\nUp\\nYou a dime, get up\\nYou fine, get up\\nYo...  \n",
       "196  \\nLook out as I speak, buddy boy\\nI'm going to...  "
      ]
     },
     "execution_count": 13,
     "metadata": {},
     "output_type": "execute_result"
    }
   ],
   "source": [
    "lyricsdf[lyricsdf.lyrics.duplicated()].tail(20)"
   ]
  },
  {
   "cell_type": "code",
   "execution_count": 14,
   "metadata": {},
   "outputs": [],
   "source": [
    "# strip whitespace from the beginning and end\n",
    "lyricsdf.lyrics = lyricsdf.lyrics.map(lambda x: x.strip(\"\\n\"))"
   ]
  },
  {
   "cell_type": "code",
   "execution_count": 15,
   "metadata": {},
   "outputs": [
    {
     "data": {
      "text/html": [
       "<div>\n",
       "<style scoped>\n",
       "    .dataframe tbody tr th:only-of-type {\n",
       "        vertical-align: middle;\n",
       "    }\n",
       "\n",
       "    .dataframe tbody tr th {\n",
       "        vertical-align: top;\n",
       "    }\n",
       "\n",
       "    .dataframe thead th {\n",
       "        text-align: right;\n",
       "    }\n",
       "</style>\n",
       "<table border=\"1\" class=\"dataframe\">\n",
       "  <thead>\n",
       "    <tr style=\"text-align: right;\">\n",
       "      <th></th>\n",
       "      <th>artist</th>\n",
       "      <th>title</th>\n",
       "      <th>lyrics</th>\n",
       "    </tr>\n",
       "  </thead>\n",
       "  <tbody>\n",
       "    <tr>\n",
       "      <td>0</td>\n",
       "      <td>Abner Jay</td>\n",
       "      <td>Bring It When You Come</td>\n",
       "      <td>Terrible things, always happening\\nJust like y...</td>\n",
       "    </tr>\n",
       "    <tr>\n",
       "      <td>1</td>\n",
       "      <td>Abner Jay</td>\n",
       "      <td>Cocaine</td>\n",
       "      <td>Folk music is high-class music. There's a lott...</td>\n",
       "    </tr>\n",
       "    <tr>\n",
       "      <td>2</td>\n",
       "      <td>Abner Jay</td>\n",
       "      <td>Cocaine Blues</td>\n",
       "      <td>Cocaine, Cocaine\\nRunning round my heart\\nAnd ...</td>\n",
       "    </tr>\n",
       "    <tr>\n",
       "      <td>3</td>\n",
       "      <td>Abner Jay</td>\n",
       "      <td>Don’t Mess with Me Baby</td>\n",
       "      <td>Terrible things; that's what's getting all the...</td>\n",
       "    </tr>\n",
       "    <tr>\n",
       "      <td>4</td>\n",
       "      <td>Abner Jay</td>\n",
       "      <td>I cried</td>\n",
       "      <td>I, I cried\\nI cried in the ni-ight\\nOh please ...</td>\n",
       "    </tr>\n",
       "  </tbody>\n",
       "</table>\n",
       "</div>"
      ],
      "text/plain": [
       "      artist                    title  \\\n",
       "0  Abner Jay   Bring It When You Come   \n",
       "1  Abner Jay                  Cocaine   \n",
       "2  Abner Jay            Cocaine Blues   \n",
       "3  Abner Jay  Don’t Mess with Me Baby   \n",
       "4  Abner Jay                  I cried   \n",
       "\n",
       "                                              lyrics  \n",
       "0  Terrible things, always happening\\nJust like y...  \n",
       "1  Folk music is high-class music. There's a lott...  \n",
       "2  Cocaine, Cocaine\\nRunning round my heart\\nAnd ...  \n",
       "3  Terrible things; that's what's getting all the...  \n",
       "4  I, I cried\\nI cried in the ni-ight\\nOh please ...  "
      ]
     },
     "execution_count": 15,
     "metadata": {},
     "output_type": "execute_result"
    }
   ],
   "source": [
    "lyricsdf.head()"
   ]
  },
  {
   "cell_type": "code",
   "execution_count": 16,
   "metadata": {
    "scrolled": true
   },
   "outputs": [
    {
     "data": {
      "text/html": [
       "<div>\n",
       "<style scoped>\n",
       "    .dataframe tbody tr th:only-of-type {\n",
       "        vertical-align: middle;\n",
       "    }\n",
       "\n",
       "    .dataframe tbody tr th {\n",
       "        vertical-align: top;\n",
       "    }\n",
       "\n",
       "    .dataframe thead th {\n",
       "        text-align: right;\n",
       "    }\n",
       "</style>\n",
       "<table border=\"1\" class=\"dataframe\">\n",
       "  <thead>\n",
       "    <tr style=\"text-align: right;\">\n",
       "      <th></th>\n",
       "      <th>artist</th>\n",
       "      <th>title</th>\n",
       "      <th>lyrics</th>\n",
       "    </tr>\n",
       "  </thead>\n",
       "  <tbody>\n",
       "    <tr>\n",
       "      <td>46</td>\n",
       "      <td>Ariel Pink</td>\n",
       "      <td>Function</td>\n",
       "      <td>What's the function of your soul\\nWhat's the f...</td>\n",
       "    </tr>\n",
       "    <tr>\n",
       "      <td>46</td>\n",
       "      <td>Brian Wilson</td>\n",
       "      <td>Dream Angel</td>\n",
       "      <td>I'm holding you as you sleep\\nI get this feeli...</td>\n",
       "    </tr>\n",
       "    <tr>\n",
       "      <td>46</td>\n",
       "      <td>Daniel Johnston</td>\n",
       "      <td>Despair Came Knocking</td>\n",
       "      <td>Despair came knocking at my door\\nAnd I let he...</td>\n",
       "    </tr>\n",
       "    <tr>\n",
       "      <td>46</td>\n",
       "      <td>Gary Wilson</td>\n",
       "      <td>Lonely Holiday (Intro)</td>\n",
       "      <td>Holiday\\nA holiday\\nIt's a holidayEmbed</td>\n",
       "    </tr>\n",
       "    <tr>\n",
       "      <td>46</td>\n",
       "      <td>Hasil Adkins</td>\n",
       "      <td>Woke Up This Morning</td>\n",
       "      <td>I got up this morning\\nYeah when I woke up thi...</td>\n",
       "    </tr>\n",
       "    <tr>\n",
       "      <td>46</td>\n",
       "      <td>IceJJFish</td>\n",
       "      <td>So Sweet</td>\n",
       "      <td>Baby you look so sweet\\nBaby girl put that bod...</td>\n",
       "    </tr>\n",
       "    <tr>\n",
       "      <td>46</td>\n",
       "      <td>Jandek</td>\n",
       "      <td>Comedy</td>\n",
       "      <td>Here's looking at you kid\\nYou got the German ...</td>\n",
       "    </tr>\n",
       "    <tr>\n",
       "      <td>46</td>\n",
       "      <td>John Frusciante</td>\n",
       "      <td>Dying (I Don’t Mind)</td>\n",
       "      <td>Here's one for the unknown past\\nShooting into...</td>\n",
       "    </tr>\n",
       "    <tr>\n",
       "      <td>46</td>\n",
       "      <td>John Maus</td>\n",
       "      <td>Love Letters From Hell (2007)</td>\n",
       "      <td>Well I'm fillin in for Gracie Roberts tonight,...</td>\n",
       "    </tr>\n",
       "    <tr>\n",
       "      <td>46</td>\n",
       "      <td>Moondog</td>\n",
       "      <td>Oboe Round</td>\n",
       "      <td></td>\n",
       "    </tr>\n",
       "    <tr>\n",
       "      <td>46</td>\n",
       "      <td>Philemon Arthur And The Dung</td>\n",
       "      <td>Philemon Arthur</td>\n",
       "      <td>Philemon Arthur\\nPhilemon Arthur\\nPhilemon Art...</td>\n",
       "    </tr>\n",
       "    <tr>\n",
       "      <td>46</td>\n",
       "      <td>R. Stevie Moore</td>\n",
       "      <td>I’ve Begun to Fall in Love</td>\n",
       "      <td>Carolynn will you come?\\nCarolynn will you com...</td>\n",
       "    </tr>\n",
       "    <tr>\n",
       "      <td>46</td>\n",
       "      <td>Roky Erickson</td>\n",
       "      <td>Night of the Vampire</td>\n",
       "      <td>Tonight is the night of the vampire\\nTonight i...</td>\n",
       "    </tr>\n",
       "    <tr>\n",
       "      <td>46</td>\n",
       "      <td>Syd Barrett</td>\n",
       "      <td>Long Gone</td>\n",
       "      <td>She was long gone, long, long gone\\nShe was go...</td>\n",
       "    </tr>\n",
       "    <tr>\n",
       "      <td>46</td>\n",
       "      <td>Viper</td>\n",
       "      <td>Doin’ That Heroin</td>\n",
       "      <td>You work, with, me baby\\nI work, with, ya baby...</td>\n",
       "    </tr>\n",
       "    <tr>\n",
       "      <td>46</td>\n",
       "      <td>Wesley Willis</td>\n",
       "      <td>Bone Face</td>\n",
       "      <td>This band played at the Metro\\nAbout 800 peopl...</td>\n",
       "    </tr>\n",
       "    <tr>\n",
       "      <td>46</td>\n",
       "      <td>Wild Man Fischer</td>\n",
       "      <td>The Wild Man Fischer Story</td>\n",
       "      <td>This song here is called \"The Wild Man Fischer...</td>\n",
       "    </tr>\n",
       "    <tr>\n",
       "      <td>46</td>\n",
       "      <td>William Shatner</td>\n",
       "      <td>Twilight Zone</td>\n",
       "      <td>(Somewhere in a lonely hotel room\\nThere's a g...</td>\n",
       "    </tr>\n",
       "  </tbody>\n",
       "</table>\n",
       "</div>"
      ],
      "text/plain": [
       "                          artist                          title  \\\n",
       "46                    Ariel Pink                       Function   \n",
       "46                  Brian Wilson                    Dream Angel   \n",
       "46               Daniel Johnston          Despair Came Knocking   \n",
       "46                   Gary Wilson         Lonely Holiday (Intro)   \n",
       "46                  Hasil Adkins           Woke Up This Morning   \n",
       "46                     IceJJFish                       So Sweet   \n",
       "46                        Jandek                         Comedy   \n",
       "46               John Frusciante           Dying (I Don’t Mind)   \n",
       "46                     John Maus  Love Letters From Hell (2007)   \n",
       "46                       Moondog                     Oboe Round   \n",
       "46  Philemon Arthur And The Dung                Philemon Arthur   \n",
       "46               R. Stevie Moore     I’ve Begun to Fall in Love   \n",
       "46                 Roky Erickson           Night of the Vampire   \n",
       "46                   Syd Barrett                      Long Gone   \n",
       "46                         Viper              Doin’ That Heroin   \n",
       "46                 Wesley Willis                      Bone Face   \n",
       "46              Wild Man Fischer     The Wild Man Fischer Story   \n",
       "46               William Shatner                  Twilight Zone   \n",
       "\n",
       "                                               lyrics  \n",
       "46  What's the function of your soul\\nWhat's the f...  \n",
       "46  I'm holding you as you sleep\\nI get this feeli...  \n",
       "46  Despair came knocking at my door\\nAnd I let he...  \n",
       "46            Holiday\\nA holiday\\nIt's a holidayEmbed  \n",
       "46  I got up this morning\\nYeah when I woke up thi...  \n",
       "46  Baby you look so sweet\\nBaby girl put that bod...  \n",
       "46  Here's looking at you kid\\nYou got the German ...  \n",
       "46  Here's one for the unknown past\\nShooting into...  \n",
       "46  Well I'm fillin in for Gracie Roberts tonight,...  \n",
       "46                                                     \n",
       "46  Philemon Arthur\\nPhilemon Arthur\\nPhilemon Art...  \n",
       "46  Carolynn will you come?\\nCarolynn will you com...  \n",
       "46  Tonight is the night of the vampire\\nTonight i...  \n",
       "46  She was long gone, long, long gone\\nShe was go...  \n",
       "46  You work, with, me baby\\nI work, with, ya baby...  \n",
       "46  This band played at the Metro\\nAbout 800 peopl...  \n",
       "46  This song here is called \"The Wild Man Fischer...  \n",
       "46  (Somewhere in a lonely hotel room\\nThere's a g...  "
      ]
     },
     "execution_count": 16,
     "metadata": {},
     "output_type": "execute_result"
    }
   ],
   "source": [
    "# I noticed that .loc[] worked on indexes the restart for individual artists.  This doesn't seem super useful.\n",
    "lyricsdf.loc[46]"
   ]
  },
  {
   "cell_type": "code",
   "execution_count": 17,
   "metadata": {},
   "outputs": [
    {
     "data": {
      "text/html": [
       "<div>\n",
       "<style scoped>\n",
       "    .dataframe tbody tr th:only-of-type {\n",
       "        vertical-align: middle;\n",
       "    }\n",
       "\n",
       "    .dataframe tbody tr th {\n",
       "        vertical-align: top;\n",
       "    }\n",
       "\n",
       "    .dataframe thead th {\n",
       "        text-align: right;\n",
       "    }\n",
       "</style>\n",
       "<table border=\"1\" class=\"dataframe\">\n",
       "  <thead>\n",
       "    <tr style=\"text-align: right;\">\n",
       "      <th></th>\n",
       "      <th>artist</th>\n",
       "      <th>title</th>\n",
       "      <th>lyrics</th>\n",
       "    </tr>\n",
       "  </thead>\n",
       "  <tbody>\n",
       "    <tr>\n",
       "      <td>0</td>\n",
       "      <td>Abner Jay</td>\n",
       "      <td>Bring It When You Come</td>\n",
       "      <td>Terrible things, always happening\\nJust like y...</td>\n",
       "    </tr>\n",
       "    <tr>\n",
       "      <td>1</td>\n",
       "      <td>Abner Jay</td>\n",
       "      <td>Cocaine</td>\n",
       "      <td>Folk music is high-class music. There's a lott...</td>\n",
       "    </tr>\n",
       "    <tr>\n",
       "      <td>2</td>\n",
       "      <td>Abner Jay</td>\n",
       "      <td>Cocaine Blues</td>\n",
       "      <td>Cocaine, Cocaine\\nRunning round my heart\\nAnd ...</td>\n",
       "    </tr>\n",
       "    <tr>\n",
       "      <td>3</td>\n",
       "      <td>Abner Jay</td>\n",
       "      <td>Don’t Mess with Me Baby</td>\n",
       "      <td>Terrible things; that's what's getting all the...</td>\n",
       "    </tr>\n",
       "    <tr>\n",
       "      <td>4</td>\n",
       "      <td>Abner Jay</td>\n",
       "      <td>I cried</td>\n",
       "      <td>I, I cried\\nI cried in the ni-ight\\nOh please ...</td>\n",
       "    </tr>\n",
       "  </tbody>\n",
       "</table>\n",
       "</div>"
      ],
      "text/plain": [
       "      artist                    title  \\\n",
       "0  Abner Jay   Bring It When You Come   \n",
       "1  Abner Jay                  Cocaine   \n",
       "2  Abner Jay            Cocaine Blues   \n",
       "3  Abner Jay  Don’t Mess with Me Baby   \n",
       "4  Abner Jay                  I cried   \n",
       "\n",
       "                                              lyrics  \n",
       "0  Terrible things, always happening\\nJust like y...  \n",
       "1  Folk music is high-class music. There's a lott...  \n",
       "2  Cocaine, Cocaine\\nRunning round my heart\\nAnd ...  \n",
       "3  Terrible things; that's what's getting all the...  \n",
       "4  I, I cried\\nI cried in the ni-ight\\nOh please ...  "
      ]
     },
     "execution_count": 17,
     "metadata": {},
     "output_type": "execute_result"
    }
   ],
   "source": [
    "# fix the indexing -- it probably won't be super useful to have each individual musician's songs\n",
    "# indexed from 0-n.  This makes sure everything has a unique index\n",
    "lyricsdf = lyricsdf.reset_index()\n",
    "lyricsdf = lyricsdf[['artist', 'title', 'lyrics']]\n",
    "lyricsdf.head()"
   ]
  },
  {
   "cell_type": "code",
   "execution_count": 18,
   "metadata": {},
   "outputs": [
    {
     "data": {
      "text/html": [
       "<div>\n",
       "<style scoped>\n",
       "    .dataframe tbody tr th:only-of-type {\n",
       "        vertical-align: middle;\n",
       "    }\n",
       "\n",
       "    .dataframe tbody tr th {\n",
       "        vertical-align: top;\n",
       "    }\n",
       "\n",
       "    .dataframe thead th {\n",
       "        text-align: right;\n",
       "    }\n",
       "</style>\n",
       "<table border=\"1\" class=\"dataframe\">\n",
       "  <thead>\n",
       "    <tr style=\"text-align: right;\">\n",
       "      <th></th>\n",
       "      <th>artist</th>\n",
       "      <th>title</th>\n",
       "      <th>lyrics</th>\n",
       "    </tr>\n",
       "  </thead>\n",
       "  <tbody>\n",
       "    <tr>\n",
       "      <td>3383</td>\n",
       "      <td>William Shatner</td>\n",
       "      <td>Together</td>\n",
       "      <td>He says Phoenix\\nPegasus\\nGrecian urn\\nMidwest...</td>\n",
       "    </tr>\n",
       "    <tr>\n",
       "      <td>3384</td>\n",
       "      <td>William Shatner</td>\n",
       "      <td>Twilight Zone</td>\n",
       "      <td>(Somewhere in a lonely hotel room\\nThere's a g...</td>\n",
       "    </tr>\n",
       "    <tr>\n",
       "      <td>3385</td>\n",
       "      <td>William Shatner</td>\n",
       "      <td>Walking on the Moon</td>\n",
       "      <td>Giant steps are what you take\\nI hope my legs ...</td>\n",
       "    </tr>\n",
       "    <tr>\n",
       "      <td>3386</td>\n",
       "      <td>William Shatner</td>\n",
       "      <td>What Have You Done</td>\n",
       "      <td>She was underwater\\nIn the shadows\\nWas it the...</td>\n",
       "    </tr>\n",
       "    <tr>\n",
       "      <td>3387</td>\n",
       "      <td>William Shatner</td>\n",
       "      <td>You’ll Have Time</td>\n",
       "      <td>Live life, live life like you're gonna die\\nBe...</td>\n",
       "    </tr>\n",
       "  </tbody>\n",
       "</table>\n",
       "</div>"
      ],
      "text/plain": [
       "               artist                title  \\\n",
       "3383  William Shatner             Together   \n",
       "3384  William Shatner        Twilight Zone   \n",
       "3385  William Shatner  Walking on the Moon   \n",
       "3386  William Shatner   What Have You Done   \n",
       "3387  William Shatner     You’ll Have Time   \n",
       "\n",
       "                                                 lyrics  \n",
       "3383  He says Phoenix\\nPegasus\\nGrecian urn\\nMidwest...  \n",
       "3384  (Somewhere in a lonely hotel room\\nThere's a g...  \n",
       "3385  Giant steps are what you take\\nI hope my legs ...  \n",
       "3386  She was underwater\\nIn the shadows\\nWas it the...  \n",
       "3387  Live life, live life like you're gonna die\\nBe...  "
      ]
     },
     "execution_count": 18,
     "metadata": {},
     "output_type": "execute_result"
    }
   ],
   "source": [
    "lyricsdf.tail()"
   ]
  },
  {
   "cell_type": "code",
   "execution_count": 19,
   "metadata": {},
   "outputs": [
    {
     "data": {
      "text/plain": [
       "' airplane crash\\nCar wreck, a cap in your ass2Embed'"
      ]
     },
     "execution_count": 19,
     "metadata": {},
     "output_type": "execute_result"
    }
   ],
   "source": [
    "# William Shatner \"You'll Have Time\" ends in \"2Embed\"\n",
    "lyricsdf.iloc[-1].lyrics[-50:]"
   ]
  },
  {
   "cell_type": "code",
   "execution_count": 20,
   "metadata": {},
   "outputs": [
    {
     "name": "stdout",
     "output_type": "stream",
     "text": [
      "ything\n",
      "Cathy please come south and be my mateEmbed\n",
      "panish in me!\n",
      " Floatin down a river to MadridEmbed\n",
      "to see your part\n",
      "Repeat, the heartbeat in L.AEmbed\n",
      " ditt paraply\n",
      "Får jag spy i ditt paraply\n",
      "WäähEmbed\n",
      "go\n",
      "Burger King - It's the home of the WhopperEmbed\n"
     ]
    }
   ],
   "source": [
    "# Randomly samples from lyrics & shows ending, check what \"Embed\"s look like\n",
    "embedtest = lyricsdf.lyrics.sample(5)\n",
    "for lyrics in embedtest:\n",
    "    print(lyrics[-50:])"
   ]
  },
  {
   "cell_type": "markdown",
   "metadata": {},
   "source": [
    "After running the code chunk above multiple times, I've seen a few features of the \"Embed\" issue at the tail of the lyrics:\n",
    "- No space before \"Embed\"\n",
    "- Occasionally (but rarely), there is a digit before (e.g., \"1Embed\")\n",
    "    - After checking some lyrics on the Genius site, I found that this number corresponds to the \"PYONG\"s on the lyrics.  This is sort of like a favoriting/sharing function, but for now, it's sort of unimportant.\n",
    "    \n",
    "Both the \"Embed\" and the preceding digit, if present, should be removed.  There is some risk that removing the digit will delete a digit at the end of the lyrics, but I judge that, in this case, losing a digit is preferable to including extraneous data.\n"
   ]
  },
  {
   "cell_type": "code",
   "execution_count": 21,
   "metadata": {},
   "outputs": [],
   "source": [
    "# Remove the nEmbed using a regex\n",
    "def removeEmbed(df):\n",
    "    i = 0\n",
    "    while i != len(df):\n",
    "        row = df.iloc[i]\n",
    "        embed = row.lyrics\n",
    "        row.lyrics = re.sub(r'\\d*Embed', \"\", embed)\n",
    "        #print(row.lyrics[-50:])\n",
    "        i = i+1"
   ]
  },
  {
   "cell_type": "code",
   "execution_count": 22,
   "metadata": {},
   "outputs": [],
   "source": [
    "removeEmbed(lyricsdf)"
   ]
  },
  {
   "cell_type": "code",
   "execution_count": 23,
   "metadata": {},
   "outputs": [
    {
     "data": {
      "text/html": [
       "<div>\n",
       "<style scoped>\n",
       "    .dataframe tbody tr th:only-of-type {\n",
       "        vertical-align: middle;\n",
       "    }\n",
       "\n",
       "    .dataframe tbody tr th {\n",
       "        vertical-align: top;\n",
       "    }\n",
       "\n",
       "    .dataframe thead th {\n",
       "        text-align: right;\n",
       "    }\n",
       "</style>\n",
       "<table border=\"1\" class=\"dataframe\">\n",
       "  <thead>\n",
       "    <tr style=\"text-align: right;\">\n",
       "      <th></th>\n",
       "      <th>artist</th>\n",
       "      <th>title</th>\n",
       "      <th>lyrics</th>\n",
       "      <th>lyrics_lines</th>\n",
       "    </tr>\n",
       "  </thead>\n",
       "  <tbody>\n",
       "    <tr>\n",
       "      <td>0</td>\n",
       "      <td>Abner Jay</td>\n",
       "      <td>Bring It When You Come</td>\n",
       "      <td>Terrible things, always happening Just like ye...</td>\n",
       "      <td>Terrible things, always happening\\nJust like y...</td>\n",
       "    </tr>\n",
       "    <tr>\n",
       "      <td>1</td>\n",
       "      <td>Abner Jay</td>\n",
       "      <td>Cocaine</td>\n",
       "      <td>Folk music is high-class music. There's a lott...</td>\n",
       "      <td>Folk music is high-class music. There's a lott...</td>\n",
       "    </tr>\n",
       "    <tr>\n",
       "      <td>2</td>\n",
       "      <td>Abner Jay</td>\n",
       "      <td>Cocaine Blues</td>\n",
       "      <td>Cocaine, Cocaine Running round my heart And th...</td>\n",
       "      <td>Cocaine, Cocaine\\nRunning round my heart\\nAnd ...</td>\n",
       "    </tr>\n",
       "    <tr>\n",
       "      <td>3</td>\n",
       "      <td>Abner Jay</td>\n",
       "      <td>Don’t Mess with Me Baby</td>\n",
       "      <td>Terrible things; that's what's getting all the...</td>\n",
       "      <td>Terrible things; that's what's getting all the...</td>\n",
       "    </tr>\n",
       "    <tr>\n",
       "      <td>4</td>\n",
       "      <td>Abner Jay</td>\n",
       "      <td>I cried</td>\n",
       "      <td>I, I cried I cried in the ni-ight Oh please co...</td>\n",
       "      <td>I, I cried\\nI cried in the ni-ight\\nOh please ...</td>\n",
       "    </tr>\n",
       "  </tbody>\n",
       "</table>\n",
       "</div>"
      ],
      "text/plain": [
       "      artist                    title  \\\n",
       "0  Abner Jay   Bring It When You Come   \n",
       "1  Abner Jay                  Cocaine   \n",
       "2  Abner Jay            Cocaine Blues   \n",
       "3  Abner Jay  Don’t Mess with Me Baby   \n",
       "4  Abner Jay                  I cried   \n",
       "\n",
       "                                              lyrics  \\\n",
       "0  Terrible things, always happening Just like ye...   \n",
       "1  Folk music is high-class music. There's a lott...   \n",
       "2  Cocaine, Cocaine Running round my heart And th...   \n",
       "3  Terrible things; that's what's getting all the...   \n",
       "4  I, I cried I cried in the ni-ight Oh please co...   \n",
       "\n",
       "                                        lyrics_lines  \n",
       "0  Terrible things, always happening\\nJust like y...  \n",
       "1  Folk music is high-class music. There's a lott...  \n",
       "2  Cocaine, Cocaine\\nRunning round my heart\\nAnd ...  \n",
       "3  Terrible things; that's what's getting all the...  \n",
       "4  I, I cried\\nI cried in the ni-ight\\nOh please ...  "
      ]
     },
     "execution_count": 23,
     "metadata": {},
     "output_type": "execute_result"
    }
   ],
   "source": [
    "# replaces newlines with spaces, but maintains the line-break data in a separate column\n",
    "lyricsdf[\"lyrics_lines\"] = lyricsdf.lyrics\n",
    "lyricsdf.lyrics = lyricsdf.lyrics.map(lambda x: x.replace(\"\\n\", \" \"))\n",
    "lyricsdf.head()"
   ]
  },
  {
   "cell_type": "code",
   "execution_count": 24,
   "metadata": {},
   "outputs": [
    {
     "name": "stdout",
     "output_type": "stream",
     "text": [
      "it with you, honey Bring it with you when you come\n",
      "heart And it runnin', oh it runnin' Round my brain\n",
      "nd then running Lord, it's running Round my brain \n",
      "with me baby And I declare, I declare I am through\n",
      "back tonight And then I'll kiss and hold you tight\n"
     ]
    }
   ],
   "source": [
    "# The end is looking pretty good, too! No Embed, no newlines\n",
    "for lyrics in lyricsdf.lyrics[:5]:\n",
    "    print(lyrics[-50:])"
   ]
  },
  {
   "cell_type": "markdown",
   "metadata": {},
   "source": [
    "Some lyrics are not in English characters.  While sampling, I saw at least one song written in Japanese characters.  I'll tag these in a separate \"English_char\" column, but won't remove them for now.  There is the possibility that there are foreign language songs written in English characters that won't be recognized by this step.  Given the nature of the data, I sense there may also be some \"non-English\" nonsense songs.  I'll leave these in, as well, and will leave them untagged (for now), under the assumption that they do not make up a good portion of the data."
   ]
  },
  {
   "cell_type": "code",
   "execution_count": 25,
   "metadata": {},
   "outputs": [
    {
     "data": {
      "text/plain": [
       "'En dag när jag gick i en skog Så tappade jag mina byxor Jag märkte det ej Men jag mötte en tjej Och hon tittade så konstigt på mig Men så sa hon hej ... ... Och sen så gick jag hem'"
      ]
     },
     "execution_count": 25,
     "metadata": {},
     "output_type": "execute_result"
    }
   ],
   "source": [
    "# This is not English :)\n",
    "lyricsdf.iloc[1915].lyrics"
   ]
  },
  {
   "cell_type": "markdown",
   "metadata": {},
   "source": [
    "The code below was taken from this [stack overflow page](https://stackoverflow.com/questions/27084617/detect-strings-with-non-english-characters-in-python).  It should identify non-English characters not found in ASCII."
   ]
  },
  {
   "cell_type": "code",
   "execution_count": 26,
   "metadata": {},
   "outputs": [],
   "source": [
    "# [1915] is not English for sure\n",
    "def isEnglish(s):\n",
    "    try:\n",
    "        s.encode(encoding='utf-8').decode('ascii')\n",
    "    except UnicodeDecodeError:\n",
    "        return False\n",
    "    else:\n",
    "        return True"
   ]
  },
  {
   "cell_type": "code",
   "execution_count": 27,
   "metadata": {},
   "outputs": [
    {
     "data": {
      "text/plain": [
       "False"
      ]
     },
     "execution_count": 27,
     "metadata": {},
     "output_type": "execute_result"
    }
   ],
   "source": [
    "# Good job! That was, indeed, not English :)\n",
    "isEnglish(lyricsdf.iloc[1915].lyrics)"
   ]
  },
  {
   "cell_type": "code",
   "execution_count": 28,
   "metadata": {},
   "outputs": [
    {
     "data": {
      "text/html": [
       "<div>\n",
       "<style scoped>\n",
       "    .dataframe tbody tr th:only-of-type {\n",
       "        vertical-align: middle;\n",
       "    }\n",
       "\n",
       "    .dataframe tbody tr th {\n",
       "        vertical-align: top;\n",
       "    }\n",
       "\n",
       "    .dataframe thead th {\n",
       "        text-align: right;\n",
       "    }\n",
       "</style>\n",
       "<table border=\"1\" class=\"dataframe\">\n",
       "  <thead>\n",
       "    <tr style=\"text-align: right;\">\n",
       "      <th></th>\n",
       "      <th>artist</th>\n",
       "      <th>title</th>\n",
       "      <th>lyrics</th>\n",
       "      <th>lyrics_lines</th>\n",
       "      <th>eng_chars_only</th>\n",
       "    </tr>\n",
       "  </thead>\n",
       "  <tbody>\n",
       "    <tr>\n",
       "      <td>0</td>\n",
       "      <td>Abner Jay</td>\n",
       "      <td>Bring It When You Come</td>\n",
       "      <td>Terrible things, always happening Just like ye...</td>\n",
       "      <td>Terrible things, always happening\\nJust like y...</td>\n",
       "      <td>True</td>\n",
       "    </tr>\n",
       "    <tr>\n",
       "      <td>1</td>\n",
       "      <td>Abner Jay</td>\n",
       "      <td>Cocaine</td>\n",
       "      <td>Folk music is high-class music. There's a lott...</td>\n",
       "      <td>Folk music is high-class music. There's a lott...</td>\n",
       "      <td>True</td>\n",
       "    </tr>\n",
       "    <tr>\n",
       "      <td>2</td>\n",
       "      <td>Abner Jay</td>\n",
       "      <td>Cocaine Blues</td>\n",
       "      <td>Cocaine, Cocaine Running round my heart And th...</td>\n",
       "      <td>Cocaine, Cocaine\\nRunning round my heart\\nAnd ...</td>\n",
       "      <td>True</td>\n",
       "    </tr>\n",
       "    <tr>\n",
       "      <td>3</td>\n",
       "      <td>Abner Jay</td>\n",
       "      <td>Don’t Mess with Me Baby</td>\n",
       "      <td>Terrible things; that's what's getting all the...</td>\n",
       "      <td>Terrible things; that's what's getting all the...</td>\n",
       "      <td>True</td>\n",
       "    </tr>\n",
       "    <tr>\n",
       "      <td>4</td>\n",
       "      <td>Abner Jay</td>\n",
       "      <td>I cried</td>\n",
       "      <td>I, I cried I cried in the ni-ight Oh please co...</td>\n",
       "      <td>I, I cried\\nI cried in the ni-ight\\nOh please ...</td>\n",
       "      <td>True</td>\n",
       "    </tr>\n",
       "  </tbody>\n",
       "</table>\n",
       "</div>"
      ],
      "text/plain": [
       "      artist                    title  \\\n",
       "0  Abner Jay   Bring It When You Come   \n",
       "1  Abner Jay                  Cocaine   \n",
       "2  Abner Jay            Cocaine Blues   \n",
       "3  Abner Jay  Don’t Mess with Me Baby   \n",
       "4  Abner Jay                  I cried   \n",
       "\n",
       "                                              lyrics  \\\n",
       "0  Terrible things, always happening Just like ye...   \n",
       "1  Folk music is high-class music. There's a lott...   \n",
       "2  Cocaine, Cocaine Running round my heart And th...   \n",
       "3  Terrible things; that's what's getting all the...   \n",
       "4  I, I cried I cried in the ni-ight Oh please co...   \n",
       "\n",
       "                                        lyrics_lines  eng_chars_only  \n",
       "0  Terrible things, always happening\\nJust like y...            True  \n",
       "1  Folk music is high-class music. There's a lott...            True  \n",
       "2  Cocaine, Cocaine\\nRunning round my heart\\nAnd ...            True  \n",
       "3  Terrible things; that's what's getting all the...            True  \n",
       "4  I, I cried\\nI cried in the ni-ight\\nOh please ...            True  "
      ]
     },
     "execution_count": 28,
     "metadata": {},
     "output_type": "execute_result"
    }
   ],
   "source": [
    "lyricsdf[\"eng_chars_only\"] = lyricsdf.lyrics.map(lambda x: isEnglish(x))\n",
    "lyricsdf.head()"
   ]
  },
  {
   "cell_type": "code",
   "execution_count": 29,
   "metadata": {},
   "outputs": [
    {
     "data": {
      "text/plain": [
       "True     2337\n",
       "False    1051\n",
       "Name: eng_chars_only, dtype: int64"
      ]
     },
     "execution_count": 29,
     "metadata": {},
     "output_type": "execute_result"
    }
   ],
   "source": [
    "# That's a lot of non-English songs. Hmm...\n",
    "lyricsdf.eng_chars_only.value_counts()"
   ]
  },
  {
   "cell_type": "code",
   "execution_count": 30,
   "metadata": {},
   "outputs": [
    {
     "data": {
      "text/plain": [
       "678     First you say you will Then you say you won’t ...\n",
       "3178    This band played at The Point in Atlanta, Geor...\n",
       "2797    Don't ask me for a car loan Don't ask me for a...\n",
       "2949    You are a sweet, loving woman You are a loving...\n",
       "3275    WMF: Original songs for sale. Sir, would you l...\n",
       "2710     Comes in an instant  This band played at the ...\n",
       "2614    Pussy nigga lyin' on yo thang Claimin' that yo...\n",
       "3199    When I had a show at the , I was getting down ...\n",
       "2018    I don't wanna see you telling other girls abou...\n",
       "2715    This rock band played at the Double Door About...\n",
       "Name: lyrics, dtype: object"
      ]
     },
     "execution_count": 30,
     "metadata": {},
     "output_type": "execute_result"
    }
   ],
   "source": [
    "# These look pretty English to me.\n",
    "nonEng = lyricsdf[lyricsdf.eng_chars_only == False]\n",
    "nonEng.lyrics.sample(10)"
   ]
  },
  {
   "cell_type": "code",
   "execution_count": 31,
   "metadata": {},
   "outputs": [
    {
     "data": {
      "text/plain": [
       "\"This band rocked the Czar bar About 180 people were at the show The rock show was\\u2005a\\u2005rock 'n roll\\u2005experience It was a great knockout  The Dollrods The\\u2005Dollrods The Dollrods The Dollrods  The band played it on The band got down like a Magikist They can really rock the nation They can really jam the guitar  The Dollrods The Dollrods The Dollrods The Dollrods  The show was a rock 'n roller The jam session was a big rock 'n roll blast The jam session was kick ass show They can really knock it out The Dollrods The Dollrods The Dollrods The Dollrods  Rock over London, rock on Chicago Diet Pepsi, uh-huh!\""
      ]
     },
     "execution_count": 31,
     "metadata": {},
     "output_type": "execute_result"
    }
   ],
   "source": [
    "# it looks like there are \\u2005 characters (they don't appear as anything on the site)\n",
    "lyricsdf.iloc[3175].lyrics"
   ]
  },
  {
   "cell_type": "markdown",
   "metadata": {},
   "source": [
    "It looks like there may be a different kind of space formatting on some of the lyrics.  We'll replace them the same way the newlines were replaced."
   ]
  },
  {
   "cell_type": "code",
   "execution_count": 32,
   "metadata": {},
   "outputs": [
    {
     "data": {
      "text/html": [
       "<div>\n",
       "<style scoped>\n",
       "    .dataframe tbody tr th:only-of-type {\n",
       "        vertical-align: middle;\n",
       "    }\n",
       "\n",
       "    .dataframe tbody tr th {\n",
       "        vertical-align: top;\n",
       "    }\n",
       "\n",
       "    .dataframe thead th {\n",
       "        text-align: right;\n",
       "    }\n",
       "</style>\n",
       "<table border=\"1\" class=\"dataframe\">\n",
       "  <thead>\n",
       "    <tr style=\"text-align: right;\">\n",
       "      <th></th>\n",
       "      <th>artist</th>\n",
       "      <th>title</th>\n",
       "      <th>lyrics</th>\n",
       "      <th>lyrics_lines</th>\n",
       "      <th>eng_chars_only</th>\n",
       "    </tr>\n",
       "  </thead>\n",
       "  <tbody>\n",
       "    <tr>\n",
       "      <td>0</td>\n",
       "      <td>Abner Jay</td>\n",
       "      <td>Bring It When You Come</td>\n",
       "      <td>Terrible things, always happening Just like ye...</td>\n",
       "      <td>Terrible things, always happening\\nJust like y...</td>\n",
       "      <td>True</td>\n",
       "    </tr>\n",
       "    <tr>\n",
       "      <td>1</td>\n",
       "      <td>Abner Jay</td>\n",
       "      <td>Cocaine</td>\n",
       "      <td>Folk music is high-class music. There's a lott...</td>\n",
       "      <td>Folk music is high-class music. There's a lott...</td>\n",
       "      <td>True</td>\n",
       "    </tr>\n",
       "    <tr>\n",
       "      <td>2</td>\n",
       "      <td>Abner Jay</td>\n",
       "      <td>Cocaine Blues</td>\n",
       "      <td>Cocaine, Cocaine Running round my heart And th...</td>\n",
       "      <td>Cocaine, Cocaine\\nRunning round my heart\\nAnd ...</td>\n",
       "      <td>True</td>\n",
       "    </tr>\n",
       "    <tr>\n",
       "      <td>3</td>\n",
       "      <td>Abner Jay</td>\n",
       "      <td>Don’t Mess with Me Baby</td>\n",
       "      <td>Terrible things; that's what's getting all the...</td>\n",
       "      <td>Terrible things; that's what's getting all the...</td>\n",
       "      <td>True</td>\n",
       "    </tr>\n",
       "    <tr>\n",
       "      <td>4</td>\n",
       "      <td>Abner Jay</td>\n",
       "      <td>I cried</td>\n",
       "      <td>I, I cried I cried in the ni-ight Oh please co...</td>\n",
       "      <td>I, I cried\\nI cried in the ni-ight\\nOh please ...</td>\n",
       "      <td>True</td>\n",
       "    </tr>\n",
       "  </tbody>\n",
       "</table>\n",
       "</div>"
      ],
      "text/plain": [
       "      artist                    title  \\\n",
       "0  Abner Jay   Bring It When You Come   \n",
       "1  Abner Jay                  Cocaine   \n",
       "2  Abner Jay            Cocaine Blues   \n",
       "3  Abner Jay  Don’t Mess with Me Baby   \n",
       "4  Abner Jay                  I cried   \n",
       "\n",
       "                                              lyrics  \\\n",
       "0  Terrible things, always happening Just like ye...   \n",
       "1  Folk music is high-class music. There's a lott...   \n",
       "2  Cocaine, Cocaine Running round my heart And th...   \n",
       "3  Terrible things; that's what's getting all the...   \n",
       "4  I, I cried I cried in the ni-ight Oh please co...   \n",
       "\n",
       "                                        lyrics_lines  eng_chars_only  \n",
       "0  Terrible things, always happening\\nJust like y...            True  \n",
       "1  Folk music is high-class music. There's a lott...            True  \n",
       "2  Cocaine, Cocaine\\nRunning round my heart\\nAnd ...            True  \n",
       "3  Terrible things; that's what's getting all the...            True  \n",
       "4  I, I cried\\nI cried in the ni-ight\\nOh please ...            True  "
      ]
     },
     "execution_count": 32,
     "metadata": {},
     "output_type": "execute_result"
    }
   ],
   "source": [
    "lyricsdf.lyrics = lyricsdf.lyrics.map(lambda x: x.replace(\"\\u2005\", \" \"))\n",
    "lyricsdf.lyrics_lines = lyricsdf.lyrics_lines.map(lambda x: x.replace(\"\\u2005\", \" \"))\n",
    "lyricsdf.head()"
   ]
  },
  {
   "cell_type": "code",
   "execution_count": 33,
   "metadata": {},
   "outputs": [
    {
     "data": {
      "text/plain": [
       "True     2630\n",
       "False     758\n",
       "Name: eng_chars_only, dtype: int64"
      ]
     },
     "execution_count": 33,
     "metadata": {},
     "output_type": "execute_result"
    }
   ],
   "source": [
    "# Re-run the eng_chars_only column, see if .value_counts() has changed\n",
    "lyricsdf[\"eng_chars_only\"] = lyricsdf.lyrics.map(lambda x: isEnglish(x))\n",
    "lyricsdf.eng_chars_only.value_counts()"
   ]
  },
  {
   "cell_type": "markdown",
   "metadata": {},
   "source": [
    "The number of songs with non-English characters has gone down significantly, but it's still worth checking to see if there are other whitespace characters (or similar issues) that may be causing over-tagging."
   ]
  },
  {
   "cell_type": "code",
   "execution_count": 34,
   "metadata": {},
   "outputs": [
    {
     "data": {
      "text/plain": [
       "3034    Ride profanity on my ass Make me angry so I ca...\n",
       "1368    I mean it I wouldn't go outside And walk aroun...\n",
       "3158    Taste a panda's raw dick Taste a snow leopard'...\n",
       "1096    You sure are cool, a European jewel I dig you ...\n",
       "56      Dust on your skin Must trust when it scatters ...\n",
       "534     Frustrated artist are you afraid of your own r...\n",
       "1906    One Two Three! Lille Arthur svängde! Potatiskn...\n",
       "2845    This band played at the Metro About 1200 peopl...\n",
       "2902    James Doo was a train robbery suspect He robbe...\n",
       "2474    If you're looking for me I’ll be ballin' Cashi...\n",
       "Name: lyrics, dtype: object"
      ]
     },
     "execution_count": 34,
     "metadata": {},
     "output_type": "execute_result"
    }
   ],
   "source": [
    "# Uh-oh.  Stil pretty English.\n",
    "nonEng = lyricsdf[lyricsdf.eng_chars_only == False]\n",
    "nonEng.lyrics.sample(10)"
   ]
  },
  {
   "cell_type": "code",
   "execution_count": 35,
   "metadata": {},
   "outputs": [
    {
     "data": {
      "text/plain": [
       "\"This band played at the Empty Bottle About two hundred fifty people were at the rock show The jam session was perfect The rock 'n roll burned a monkey up  Brain Kiss Brain Kiss Brain Kiss Brain Kiss  The band played it on The\\u205fband\\u205fgot\\u205fdown like a\\u205fMagikist The crowd roared\\u205flike a lion The jam session whooped a llama's ass  Brain Kiss Brain Kiss Brain Kiss Brain Kiss  The show was over A lot of people met the band The rock 'n roll show was awesome It whipped a pony's ass with a belt Brain Kiss Brain Kiss Brain Kiss Brain Kiss  Rock over London, rock on Chicago Radio Shack, you got questions, we got answers\""
      ]
     },
     "execution_count": 35,
     "metadata": {},
     "output_type": "execute_result"
    }
   ],
   "source": [
    "# Starting to think maybe tagging non-English songs is a bit fruitless\n",
    "# But that \\u2005 space issue was a good catch, at least!\n",
    "# Another space formatting issue\n",
    "lyricsdf.iloc[2734].lyrics"
   ]
  },
  {
   "cell_type": "code",
   "execution_count": 36,
   "metadata": {},
   "outputs": [
    {
     "data": {
      "text/html": [
       "<div>\n",
       "<style scoped>\n",
       "    .dataframe tbody tr th:only-of-type {\n",
       "        vertical-align: middle;\n",
       "    }\n",
       "\n",
       "    .dataframe tbody tr th {\n",
       "        vertical-align: top;\n",
       "    }\n",
       "\n",
       "    .dataframe thead th {\n",
       "        text-align: right;\n",
       "    }\n",
       "</style>\n",
       "<table border=\"1\" class=\"dataframe\">\n",
       "  <thead>\n",
       "    <tr style=\"text-align: right;\">\n",
       "      <th></th>\n",
       "      <th>artist</th>\n",
       "      <th>title</th>\n",
       "      <th>lyrics</th>\n",
       "      <th>lyrics_lines</th>\n",
       "      <th>eng_chars_only</th>\n",
       "    </tr>\n",
       "  </thead>\n",
       "  <tbody>\n",
       "    <tr>\n",
       "      <td>0</td>\n",
       "      <td>Abner Jay</td>\n",
       "      <td>Bring It When You Come</td>\n",
       "      <td>Terrible things, always happening Just like ye...</td>\n",
       "      <td>Terrible things, always happening\\nJust like y...</td>\n",
       "      <td>True</td>\n",
       "    </tr>\n",
       "    <tr>\n",
       "      <td>1</td>\n",
       "      <td>Abner Jay</td>\n",
       "      <td>Cocaine</td>\n",
       "      <td>Folk music is high-class music. There's a lott...</td>\n",
       "      <td>Folk music is high-class music. There's a lott...</td>\n",
       "      <td>True</td>\n",
       "    </tr>\n",
       "    <tr>\n",
       "      <td>2</td>\n",
       "      <td>Abner Jay</td>\n",
       "      <td>Cocaine Blues</td>\n",
       "      <td>Cocaine, Cocaine Running round my heart And th...</td>\n",
       "      <td>Cocaine, Cocaine\\nRunning round my heart\\nAnd ...</td>\n",
       "      <td>True</td>\n",
       "    </tr>\n",
       "    <tr>\n",
       "      <td>3</td>\n",
       "      <td>Abner Jay</td>\n",
       "      <td>Don’t Mess with Me Baby</td>\n",
       "      <td>Terrible things; that's what's getting all the...</td>\n",
       "      <td>Terrible things; that's what's getting all the...</td>\n",
       "      <td>True</td>\n",
       "    </tr>\n",
       "    <tr>\n",
       "      <td>4</td>\n",
       "      <td>Abner Jay</td>\n",
       "      <td>I cried</td>\n",
       "      <td>I, I cried I cried in the ni-ight Oh please co...</td>\n",
       "      <td>I, I cried\\nI cried in the ni-ight\\nOh please ...</td>\n",
       "      <td>True</td>\n",
       "    </tr>\n",
       "  </tbody>\n",
       "</table>\n",
       "</div>"
      ],
      "text/plain": [
       "      artist                    title  \\\n",
       "0  Abner Jay   Bring It When You Come   \n",
       "1  Abner Jay                  Cocaine   \n",
       "2  Abner Jay            Cocaine Blues   \n",
       "3  Abner Jay  Don’t Mess with Me Baby   \n",
       "4  Abner Jay                  I cried   \n",
       "\n",
       "                                              lyrics  \\\n",
       "0  Terrible things, always happening Just like ye...   \n",
       "1  Folk music is high-class music. There's a lott...   \n",
       "2  Cocaine, Cocaine Running round my heart And th...   \n",
       "3  Terrible things; that's what's getting all the...   \n",
       "4  I, I cried I cried in the ni-ight Oh please co...   \n",
       "\n",
       "                                        lyrics_lines  eng_chars_only  \n",
       "0  Terrible things, always happening\\nJust like y...            True  \n",
       "1  Folk music is high-class music. There's a lott...            True  \n",
       "2  Cocaine, Cocaine\\nRunning round my heart\\nAnd ...            True  \n",
       "3  Terrible things; that's what's getting all the...            True  \n",
       "4  I, I cried\\nI cried in the ni-ight\\nOh please ...            True  "
      ]
     },
     "execution_count": 36,
     "metadata": {},
     "output_type": "execute_result"
    }
   ],
   "source": [
    "# Fix the \\u205f spacing\n",
    "lyricsdf.lyrics = lyricsdf.lyrics.map(lambda x: x.replace(\"\\u205f\", \" \"))\n",
    "lyricsdf.lyrics_lines = lyricsdf.lyrics_lines.map(lambda x: x.replace(\"\\u205f\", \" \"))\n",
    "lyricsdf.head()"
   ]
  },
  {
   "cell_type": "code",
   "execution_count": 37,
   "metadata": {},
   "outputs": [
    {
     "data": {
      "text/plain": [
       "True     2835\n",
       "False     553\n",
       "Name: eng_chars_only, dtype: int64"
      ]
     },
     "execution_count": 37,
     "metadata": {},
     "output_type": "execute_result"
    }
   ],
   "source": [
    "# count decreases, yet again!\n",
    "lyricsdf[\"eng_chars_only\"] = lyricsdf.lyrics.map(lambda x: isEnglish(x))\n",
    "lyricsdf.eng_chars_only.value_counts()"
   ]
  },
  {
   "cell_type": "code",
   "execution_count": 38,
   "metadata": {},
   "outputs": [
    {
     "data": {
      "text/plain": [
       "1292    Well you gotta throw it over if you expect to ...\n",
       "688     Sad and lonely You don’t know why Ooh, ooh Ooh...\n",
       "1259    There's a key somewhere  where did I put it M...\n",
       "647     Funny how love dwells on your mind When life i...\n",
       "769     (Yelling) Now I'm the kind of man Who never go...\n",
       "536     Funeral home, funeral home Going to the funera...\n",
       "2454    No yats ot tog I diaS No yats ot tog I ,no yat...\n",
       "451     O Fortuna velut luna  unleash Adry   Mongella ...\n",
       "3245    Lynette: What's your name? WMF: My name is Lar...\n",
       "2478    You gon' see a baller bling You gon' see a hus...\n",
       "Name: lyrics, dtype: object"
      ]
     },
     "execution_count": 38,
     "metadata": {},
     "output_type": "execute_result"
    }
   ],
   "source": [
    "# Catching a lot more actual non-English lyrics, so we might be close to catching all of the formatting issues.\n",
    "nonEng = lyricsdf[lyricsdf.eng_chars_only == False]\n",
    "nonEng.lyrics.sample(10)"
   ]
  },
  {
   "cell_type": "code",
   "execution_count": 39,
   "metadata": {},
   "outputs": [
    {
     "data": {
      "text/plain": [
       "'High on a rocky ledge lives a mädel, Edelweiß Shy as a shadow, lovely as lace, and cold as ice High on a rocky ledge, I pledge my love to her Ev\\'ry time I climb up to Paradise How many times I\\'ve been up to see her, goodness knows Huffing and puffing, dressed in the warmest climbing clothes How many chances would be taken in my Hopeless pursuit of the Schnee-Mädel-Edelweiß Then spoke a spirit, \"If you would win your Lady Love There\\'s only one way: fall to your death from high above You will begin to grow in snow beside the one You have waited for to be mated with\" Now, I\\'m an Edel, vice to my Mädel, Edelweiß Dying to be with her wasn\\'t any sacrifice We\\'re so deliriously happy on our ledge Where I pledge my love to my Lady Fair You who are climbing breathless to see me and my love Snow flowers growing fonder on Lover\\'s Ledge above If you\\'ve the yen to pluck, then pluck us both For we who have lived as one wish to die as one'"
      ]
     },
     "execution_count": 39,
     "metadata": {},
     "output_type": "execute_result"
    }
   ],
   "source": [
    "lyricsdf.iloc[1795].lyrics"
   ]
  },
  {
   "cell_type": "markdown",
   "metadata": {},
   "source": [
    "Note that the straight apostrophe (') is being escaped here.  In other lyrics, the apostrophe is formatted as the curly ’.  I will try standardizing the apostrophe to the curly version below."
   ]
  },
  {
   "cell_type": "code",
   "execution_count": 40,
   "metadata": {},
   "outputs": [
    {
     "data": {
      "text/plain": [
       "'High on a rocky ledge lives a mädel, Edelweiß Shy as a shadow, lovely as lace, and cold as ice High on a rocky ledge, I pledge my love to her Ev’ry time I climb up to Paradise How many times I’ve been up to see her, goodness knows Huffing and puffing, dressed in the warmest climbing clothes How many chances would be taken in my Hopeless pursuit of the Schnee-Mädel-Edelweiß Then spoke a spirit, \"If you would win your Lady Love There’s only one way: fall to your death from high above You will begin to grow in snow beside the one You have waited for to be mated with\" Now, I’m an Edel, vice to my Mädel, Edelweiß Dying to be with her wasn’t any sacrifice We’re so deliriously happy on our ledge Where I pledge my love to my Lady Fair You who are climbing breathless to see me and my love Snow flowers growing fonder on Lover’s Ledge above If you’ve the yen to pluck, then pluck us both For we who have lived as one wish to die as one'"
      ]
     },
     "execution_count": 40,
     "metadata": {},
     "output_type": "execute_result"
    }
   ],
   "source": [
    "lyricsdf.lyrics = lyricsdf.lyrics.map(lambda x: x.replace(\"\\'\", \"’\"))\n",
    "lyricsdf.lyrics_lines = lyricsdf.lyrics_lines.map(lambda x: x.replace(\"\\'\", \"’\"))\n",
    "lyricsdf.iloc[1795].lyrics"
   ]
  },
  {
   "cell_type": "code",
   "execution_count": 41,
   "metadata": {},
   "outputs": [
    {
     "data": {
      "text/plain": [
       "'To yo dome with the chrome To yo dome with the chrome To yo dome with the chrome To yo dome with the chrome To yo dome with the chrome To yo dome with the chrome To yo dome with the chrome To yo dome with the chrome To yo dome with the chrome To yo dome with the chrome To yo dome with the chrome To yo dome with the chrome  Don’t get sent home In a body bag for not leaving me alone I don’t care what you got goin on Cuz i already paid and my body is every bone Yea i know, that I’m conceited and arrogant And that can be repeated But that’s just my personality And it’s magnified cuz im a G So i ain’t trying to hear what they gotta say Like they ? for a jack, so i ? the gun spray These marks are fucking up my day Rollin up asking if they may Ask me a question about some bullshit Bitch ass nigga you better get a grip I’m tired of playing with these faggots I’m bout to get my four and let you snitch niggas have it To yo dome with the chrome To yo dome with the chrome To yo dome with the chrome To yo dome with the chrome To yo dome with the chrome To yo dome with the chrome To yo dome with the chrome To yo dome with the chrome To yo dome with the chrome To yo dome with the chrome To yo dome with the chrome To yo dome with the chrome  I roll on my own My homeboys sad they walks and rome Around upset In a rush to get wet Why do you wanna die Don’t you see, living is fly? Don’t make your folk cry And have niggas looking at your frame Closed eyes I ball and mash No room in pockets They full of cash My task Is to make dough Im getting loot from places i ain’t seen before Or knew existed A baller stuck on a mission But wondering when this green gon’ stop coming in I’ll go… To yo dome with the chrome To yo dome with the chrome To yo dome with the chrome To yo dome with the chrome To yo dome with the chrome To yo dome with the chrome To yo dome with the chrome To yo dome with the chrome To yo dome with the chrome To yo dome with the chrome To yo dome with the chrome To yo dome with the chrome'"
      ]
     },
     "execution_count": 41,
     "metadata": {},
     "output_type": "execute_result"
    }
   ],
   "source": [
    "# the ellipsis here is specially formatted as \"…\"\n",
    "lyricsdf.iloc[2522].lyrics"
   ]
  },
  {
   "cell_type": "code",
   "execution_count": 42,
   "metadata": {},
   "outputs": [
    {
     "data": {
      "text/plain": [
       "'ck on a mission But wondering when this green gon’ stop coming in I’ll go... To yo dome with the chrome To yo dome with the chrome To yo dome with the chrome To yo dome with the chrome To yo dome with'"
      ]
     },
     "execution_count": 42,
     "metadata": {},
     "output_type": "execute_result"
    }
   ],
   "source": [
    "# replace special ellipsis with plain \"...\"\n",
    "lyricsdf.lyrics = lyricsdf.lyrics.map(lambda x: x.replace(\"…\", \"...\"))\n",
    "lyricsdf.lyrics_lines = lyricsdf.lyrics_lines.map(lambda x: x.replace(\"…\", \"...\"))\n",
    "lyricsdf.iloc[2522].lyrics[-400:-200]"
   ]
  },
  {
   "cell_type": "markdown",
   "metadata": {},
   "source": [
    "I'm going to search the lyrics for \"\\\\\" to see if there are any other formatting issues present."
   ]
  },
  {
   "cell_type": "code",
   "execution_count": 43,
   "metadata": {},
   "outputs": [],
   "source": [
    "# It look like there are not \"\\\" formatting issues left\n",
    "i=0\n",
    "while i != len(lyricsdf):\n",
    "    x = re.findall(r\"\\\\\", lyricsdf.lyrics[i])\n",
    "    if x: print(x)\n",
    "    i = i+1"
   ]
  },
  {
   "cell_type": "markdown",
   "metadata": {},
   "source": [
    "From earlier, I remember seeing \"Transcription in progress ...\" lyric entries.  I'd like to set these as null."
   ]
  },
  {
   "cell_type": "code",
   "execution_count": 44,
   "metadata": {},
   "outputs": [
    {
     "name": "stdout",
     "output_type": "stream",
     "text": [
      "['Transcription']\n",
      "['Transcription']\n",
      "['Transcription']\n",
      "['Transcription']\n",
      "['Transcription']\n",
      "['Transcription']\n"
     ]
    }
   ],
   "source": [
    "i=0\n",
    "while i != len(lyricsdf):\n",
    "    x = re.findall(r\"transcription\", lyricsdf.lyrics[i], re.IGNORECASE)\n",
    "    if x: print(x)\n",
    "    i = i+1"
   ]
  },
  {
   "cell_type": "code",
   "execution_count": 45,
   "metadata": {},
   "outputs": [],
   "source": [
    "# There are 6! and they all appear to say \"Transcription in progress\"\n",
    "i=0\n",
    "transcript_del = []\n",
    "while i != len(lyricsdf):\n",
    "    if \"Transcription in progress\" in lyricsdf.iloc[i].lyrics:\n",
    "        transcript_del.append(i)\n",
    "    i= i+1"
   ]
  },
  {
   "cell_type": "code",
   "execution_count": 46,
   "metadata": {},
   "outputs": [
    {
     "name": "stdout",
     "output_type": "stream",
     "text": [
      "Transcription in progress by Viper Crackposting admins\n",
      "Transcription in progress by Viper Crackposting admins\n",
      "Transcription in progress by Viper Crackposting admins\n",
      "Transcription in progress by Viper Crackposting admins\n",
      "Transcription in progress by Viper Crackposting admins\n",
      "Transcription in progress by Viper Crackposting admins\n"
     ]
    }
   ],
   "source": [
    "for i in transcript_del:\n",
    "    print(lyricsdf.iloc[i].lyrics)"
   ]
  },
  {
   "cell_type": "code",
   "execution_count": 47,
   "metadata": {},
   "outputs": [],
   "source": [
    "# They're all the same string, so:\n",
    "lyricsdf.lyrics = lyricsdf.lyrics.replace(\"Transcription in progress by Viper Crackposting admins\", None)"
   ]
  },
  {
   "cell_type": "code",
   "execution_count": 48,
   "metadata": {},
   "outputs": [],
   "source": [
    "i=0\n",
    "while i != len(lyricsdf):\n",
    "    x = re.findall(r\"Transcription\", lyricsdf.lyrics[i])\n",
    "    if x: print(x)\n",
    "    i = i+1"
   ]
  },
  {
   "cell_type": "markdown",
   "metadata": {},
   "source": [
    "Because some English songs contain non-English characters, the eng_chars_only column isn't very useful at the moment.  However, it did help significantly with catching other formatting issues that I had not anticipated.  I will consider the data clean for the moment.\n",
    "\n",
    "Note, also, that the data remains very Zipfian in terms of artists.  For now, I will leave it as such.  As a disclaimer, the Wesley Willis skew sort of represents the \"poster child\" of outsider music, so the analysis may feed into the ideology surrounding the genre."
   ]
  },
  {
   "cell_type": "code",
   "execution_count": 49,
   "metadata": {},
   "outputs": [],
   "source": [
    "# returns % of characters that are non-English\n",
    "def nonEngChars(s):\n",
    "    i = 0  # counter for non-Eng chars\n",
    "    for c in s:  # iterate through string\n",
    "        try:\n",
    "            c.encode(encoding='utf-8').decode('ascii')\n",
    "        except UnicodeDecodeError:\n",
    "            i+=1  # increment if char causes error\n",
    "    if len(s) > 0:\n",
    "        return i/len(s)\n",
    "    else:\n",
    "        return np.nan"
   ]
  },
  {
   "cell_type": "code",
   "execution_count": 50,
   "metadata": {},
   "outputs": [
    {
     "data": {
      "text/plain": [
       "0.044444444444444446"
      ]
     },
     "execution_count": 50,
     "metadata": {},
     "output_type": "execute_result"
    }
   ],
   "source": [
    "# [1915] is not English for sure\n",
    "nonEngChars(lyricsdf.iloc[1915].lyrics)"
   ]
  },
  {
   "cell_type": "code",
   "execution_count": 51,
   "metadata": {},
   "outputs": [
    {
     "data": {
      "text/html": [
       "<div>\n",
       "<style scoped>\n",
       "    .dataframe tbody tr th:only-of-type {\n",
       "        vertical-align: middle;\n",
       "    }\n",
       "\n",
       "    .dataframe tbody tr th {\n",
       "        vertical-align: top;\n",
       "    }\n",
       "\n",
       "    .dataframe thead th {\n",
       "        text-align: right;\n",
       "    }\n",
       "</style>\n",
       "<table border=\"1\" class=\"dataframe\">\n",
       "  <thead>\n",
       "    <tr style=\"text-align: right;\">\n",
       "      <th></th>\n",
       "      <th>artist</th>\n",
       "      <th>title</th>\n",
       "      <th>lyrics</th>\n",
       "      <th>lyrics_lines</th>\n",
       "      <th>eng_chars_only</th>\n",
       "      <th>percent_non_english</th>\n",
       "    </tr>\n",
       "  </thead>\n",
       "  <tbody>\n",
       "    <tr>\n",
       "      <td>0</td>\n",
       "      <td>Abner Jay</td>\n",
       "      <td>Bring It When You Come</td>\n",
       "      <td>Terrible things, always happening Just like ye...</td>\n",
       "      <td>Terrible things, always happening\\nJust like y...</td>\n",
       "      <td>True</td>\n",
       "      <td>0.009918</td>\n",
       "    </tr>\n",
       "    <tr>\n",
       "      <td>1</td>\n",
       "      <td>Abner Jay</td>\n",
       "      <td>Cocaine</td>\n",
       "      <td>Folk music is high-class music. There’s a lott...</td>\n",
       "      <td>Folk music is high-class music. There’s a lott...</td>\n",
       "      <td>True</td>\n",
       "      <td>0.023657</td>\n",
       "    </tr>\n",
       "    <tr>\n",
       "      <td>2</td>\n",
       "      <td>Abner Jay</td>\n",
       "      <td>Cocaine Blues</td>\n",
       "      <td>Cocaine, Cocaine Running round my heart And th...</td>\n",
       "      <td>Cocaine, Cocaine\\nRunning round my heart\\nAnd ...</td>\n",
       "      <td>True</td>\n",
       "      <td>0.016551</td>\n",
       "    </tr>\n",
       "    <tr>\n",
       "      <td>3</td>\n",
       "      <td>Abner Jay</td>\n",
       "      <td>Don’t Mess with Me Baby</td>\n",
       "      <td>Terrible things; that’s what’s getting all the...</td>\n",
       "      <td>Terrible things; that’s what’s getting all the...</td>\n",
       "      <td>True</td>\n",
       "      <td>0.010326</td>\n",
       "    </tr>\n",
       "    <tr>\n",
       "      <td>4</td>\n",
       "      <td>Abner Jay</td>\n",
       "      <td>I cried</td>\n",
       "      <td>I, I cried I cried in the ni-ight Oh please co...</td>\n",
       "      <td>I, I cried\\nI cried in the ni-ight\\nOh please ...</td>\n",
       "      <td>True</td>\n",
       "      <td>0.004902</td>\n",
       "    </tr>\n",
       "  </tbody>\n",
       "</table>\n",
       "</div>"
      ],
      "text/plain": [
       "      artist                    title  \\\n",
       "0  Abner Jay   Bring It When You Come   \n",
       "1  Abner Jay                  Cocaine   \n",
       "2  Abner Jay            Cocaine Blues   \n",
       "3  Abner Jay  Don’t Mess with Me Baby   \n",
       "4  Abner Jay                  I cried   \n",
       "\n",
       "                                              lyrics  \\\n",
       "0  Terrible things, always happening Just like ye...   \n",
       "1  Folk music is high-class music. There’s a lott...   \n",
       "2  Cocaine, Cocaine Running round my heart And th...   \n",
       "3  Terrible things; that’s what’s getting all the...   \n",
       "4  I, I cried I cried in the ni-ight Oh please co...   \n",
       "\n",
       "                                        lyrics_lines  eng_chars_only  \\\n",
       "0  Terrible things, always happening\\nJust like y...            True   \n",
       "1  Folk music is high-class music. There’s a lott...            True   \n",
       "2  Cocaine, Cocaine\\nRunning round my heart\\nAnd ...            True   \n",
       "3  Terrible things; that’s what’s getting all the...            True   \n",
       "4  I, I cried\\nI cried in the ni-ight\\nOh please ...            True   \n",
       "\n",
       "   percent_non_english  \n",
       "0             0.009918  \n",
       "1             0.023657  \n",
       "2             0.016551  \n",
       "3             0.010326  \n",
       "4             0.004902  "
      ]
     },
     "execution_count": 51,
     "metadata": {},
     "output_type": "execute_result"
    }
   ],
   "source": [
    "lyricsdf[\"percent_non_english\"] = lyricsdf.lyrics.map(lambda x: nonEngChars(x))\n",
    "lyricsdf.head()"
   ]
  },
  {
   "cell_type": "code",
   "execution_count": 52,
   "metadata": {},
   "outputs": [
    {
     "data": {
      "image/png": "[encoded data removed]",
      "text/plain": [
       "<Figure size 432x288 with 1 Axes>"
      ]
     },
     "metadata": {
      "needs_background": "light"
     },
     "output_type": "display_data"
    }
   ],
   "source": [
    "# Looks like a good number are on the low end, but some are on the higher end.\n",
    "# Potentially missing lyric data!\n",
    "lyricsdf.percent_non_english.plot(kind='box')\n",
    "plt.show()"
   ]
  },
  {
   "cell_type": "code",
   "execution_count": 53,
   "metadata": {},
   "outputs": [
    {
     "data": {
      "text/html": [
       "<div>\n",
       "<style scoped>\n",
       "    .dataframe tbody tr th:only-of-type {\n",
       "        vertical-align: middle;\n",
       "    }\n",
       "\n",
       "    .dataframe tbody tr th {\n",
       "        vertical-align: top;\n",
       "    }\n",
       "\n",
       "    .dataframe thead th {\n",
       "        text-align: right;\n",
       "    }\n",
       "</style>\n",
       "<table border=\"1\" class=\"dataframe\">\n",
       "  <thead>\n",
       "    <tr style=\"text-align: right;\">\n",
       "      <th></th>\n",
       "      <th>artist</th>\n",
       "      <th>title</th>\n",
       "      <th>lyrics</th>\n",
       "      <th>lyrics_lines</th>\n",
       "      <th>eng_chars_only</th>\n",
       "      <th>percent_non_english</th>\n",
       "    </tr>\n",
       "  </thead>\n",
       "  <tbody>\n",
       "    <tr>\n",
       "      <td>12</td>\n",
       "      <td>Ajdar</td>\n",
       "      <td>Şahdamar</td>\n",
       "      <td>Şah şah şah Dam  dam dam Ar  ar ar Şahdamar, ş...</td>\n",
       "      <td>Şah şah şah\\nDam  dam dam\\nAr  ar ar\\nŞahdamar...</td>\n",
       "      <td>False</td>\n",
       "      <td>0.089683</td>\n",
       "    </tr>\n",
       "    <tr>\n",
       "      <td>43</td>\n",
       "      <td>Ariel Pink</td>\n",
       "      <td>Corazon Que</td>\n",
       "      <td>Corazón qué Corazón qué Corazón qué   Corazón ...</td>\n",
       "      <td>Corazón qué\\nCorazón qué\\nCorazón qué \\n\\nCora...</td>\n",
       "      <td>False</td>\n",
       "      <td>0.153846</td>\n",
       "    </tr>\n",
       "    <tr>\n",
       "      <td>130</td>\n",
       "      <td>Ariel Pink</td>\n",
       "      <td>Red Room</td>\n",
       "      <td>‏‏thginot nwod teG ‏‏thginot nwod teG ‏‏thgino...</td>\n",
       "      <td>‏‏thginot nwod teG\\n‏‏thginot nwod teG\\n‏‏thgi...</td>\n",
       "      <td>False</td>\n",
       "      <td>0.110372</td>\n",
       "    </tr>\n",
       "    <tr>\n",
       "      <td>147</td>\n",
       "      <td>Ariel Pink</td>\n",
       "      <td>Starry Eyes</td>\n",
       "      <td>​raw ot oG</td>\n",
       "      <td>​raw ot oG</td>\n",
       "      <td>False</td>\n",
       "      <td>0.100000</td>\n",
       "    </tr>\n",
       "    <tr>\n",
       "      <td>1746</td>\n",
       "      <td>Les Rallizes Dénudés</td>\n",
       "      <td>Enter the Mirror</td>\n",
       "      <td>あらゆる夜（闇）を通り過ぎてきた 時々ひとりで あらゆる闇（夜）を通り過ぎてきた お前といっ...</td>\n",
       "      <td>あらゆる夜（闇）を通り過ぎてきた\\n時々ひとりで\\nあらゆる闇（夜）を通り過ぎてきた\\nお前...</td>\n",
       "      <td>False</td>\n",
       "      <td>0.928571</td>\n",
       "    </tr>\n",
       "    <tr>\n",
       "      <td>1748</td>\n",
       "      <td>Les Rallizes Dénudés</td>\n",
       "      <td>The Last One</td>\n",
       "      <td>心の裏側で喜びに震え　生きていることさえ忘れてしまった 僕が１人で歩くのは、だれもいない波の...</td>\n",
       "      <td>心の裏側で喜びに震え　生きていることさえ忘れてしまった\\n僕が１人で歩くのは、だれもいない波...</td>\n",
       "      <td>False</td>\n",
       "      <td>0.159120</td>\n",
       "    </tr>\n",
       "    <tr>\n",
       "      <td>1749</td>\n",
       "      <td>Les Rallizes Dénudés</td>\n",
       "      <td>White Awakening</td>\n",
       "      <td>パターンA： ----------- 私の春が始まった時　あなただけしか欲しくなかった 風の...</td>\n",
       "      <td>パターンA：\\n-----------\\n私の春が始まった時　あなただけしか欲しくなかった\\...</td>\n",
       "      <td>False</td>\n",
       "      <td>0.888112</td>\n",
       "    </tr>\n",
       "    <tr>\n",
       "      <td>1751</td>\n",
       "      <td>Les Rallizes Dénudés</td>\n",
       "      <td>夜、暗殺者の夜 (Night of the Assassins)</td>\n",
       "      <td>Japanese (Original) とても深い夜 まるで誰かを殺したみたい 何がお前の飢...</td>\n",
       "      <td>Japanese (Original)\\nとても深い夜 まるで誰かを殺したみたい\\n何がお前...</td>\n",
       "      <td>False</td>\n",
       "      <td>0.158151</td>\n",
       "    </tr>\n",
       "    <tr>\n",
       "      <td>1752</td>\n",
       "      <td>Les Rallizes Dénudés</td>\n",
       "      <td>永遠に今が (Forever is Now)</td>\n",
       "      <td>Japanese (Original) いくつもの永遠を横切って いくつもの望みを後にして ...</td>\n",
       "      <td>Japanese (Original)\\nいくつもの永遠を横切って\\nいくつもの望みを後にし...</td>\n",
       "      <td>False</td>\n",
       "      <td>0.146000</td>\n",
       "    </tr>\n",
       "    <tr>\n",
       "      <td>1753</td>\n",
       "      <td>Les Rallizes Dénudés</td>\n",
       "      <td>記憶は遠い</td>\n",
       "      <td>遠い記憶の中にお前を見る 見知らぬ二つの街が通り過ぎる 僕らの周りで海が血に変わる それしか...</td>\n",
       "      <td>遠い記憶の中にお前を見る\\n見知らぬ二つの街が通り過ぎる\\n僕らの周りで海が血に変わる\\nそ...</td>\n",
       "      <td>False</td>\n",
       "      <td>0.938462</td>\n",
       "    </tr>\n",
       "    <tr>\n",
       "      <td>1800</td>\n",
       "      <td>Moondog</td>\n",
       "      <td>I’m This, I’m That</td>\n",
       "      <td>I’m this, I’m that; I’m sharp, I’m flat; I’m y...</td>\n",
       "      <td>I’m this, I’m that;\\nI’m sharp, I’m flat;\\nI’m...</td>\n",
       "      <td>True</td>\n",
       "      <td>0.099502</td>\n",
       "    </tr>\n",
       "    <tr>\n",
       "      <td>1883</td>\n",
       "      <td>Philemon Arthur And The Dung</td>\n",
       "      <td>Djurvisa</td>\n",
       "      <td>En kossa på ängen Den kommer gående och säger ...</td>\n",
       "      <td>En kossa på ängen\\nDen kommer gående och säger...</td>\n",
       "      <td>False</td>\n",
       "      <td>0.132512</td>\n",
       "    </tr>\n",
       "    <tr>\n",
       "      <td>1884</td>\n",
       "      <td>Philemon Arthur And The Dung</td>\n",
       "      <td>Djurvisa För Barn</td>\n",
       "      <td>En kossa på ängen Den kommer gående och säger ...</td>\n",
       "      <td>En kossa på ängen\\nDen kommer gående och säger...</td>\n",
       "      <td>False</td>\n",
       "      <td>0.132512</td>\n",
       "    </tr>\n",
       "    <tr>\n",
       "      <td>1901</td>\n",
       "      <td>Philemon Arthur And The Dung</td>\n",
       "      <td>In Kommer Gösta</td>\n",
       "      <td>In kommer Gösta In kommer Gösta, Gösta In komm...</td>\n",
       "      <td>In kommer Gösta\\nIn kommer Gösta, Gösta\\nIn ko...</td>\n",
       "      <td>False</td>\n",
       "      <td>0.084871</td>\n",
       "    </tr>\n",
       "    <tr>\n",
       "      <td>1917</td>\n",
       "      <td>Philemon Arthur And The Dung</td>\n",
       "      <td>Ödesvalsen</td>\n",
       "      <td>Jag mötte dig i hamnen Du hade ramlat i Jag to...</td>\n",
       "      <td>Jag mötte dig i hamnen\\nDu hade ramlat i\\nJag ...</td>\n",
       "      <td>False</td>\n",
       "      <td>0.084430</td>\n",
       "    </tr>\n",
       "  </tbody>\n",
       "</table>\n",
       "</div>"
      ],
      "text/plain": [
       "                            artist                             title  \\\n",
       "12                           Ajdar                          Şahdamar   \n",
       "43                      Ariel Pink                       Corazon Que   \n",
       "130                     Ariel Pink                          Red Room   \n",
       "147                     Ariel Pink                       Starry Eyes   \n",
       "1746          Les Rallizes Dénudés                  Enter the Mirror   \n",
       "1748          Les Rallizes Dénudés                      The Last One   \n",
       "1749          Les Rallizes Dénudés                   White Awakening   \n",
       "1751          Les Rallizes Dénudés  夜、暗殺者の夜 (Night of the Assassins)   \n",
       "1752          Les Rallizes Dénudés            永遠に今が (Forever is Now)   \n",
       "1753          Les Rallizes Dénudés                             記憶は遠い   \n",
       "1800                       Moondog                I’m This, I’m That   \n",
       "1883  Philemon Arthur And The Dung                          Djurvisa   \n",
       "1884  Philemon Arthur And The Dung                 Djurvisa För Barn   \n",
       "1901  Philemon Arthur And The Dung                   In Kommer Gösta   \n",
       "1917  Philemon Arthur And The Dung                        Ödesvalsen   \n",
       "\n",
       "                                                 lyrics  \\\n",
       "12    Şah şah şah Dam  dam dam Ar  ar ar Şahdamar, ş...   \n",
       "43    Corazón qué Corazón qué Corazón qué   Corazón ...   \n",
       "130   ‏‏thginot nwod teG ‏‏thginot nwod teG ‏‏thgino...   \n",
       "147                                          ​raw ot oG   \n",
       "1746  あらゆる夜（闇）を通り過ぎてきた 時々ひとりで あらゆる闇（夜）を通り過ぎてきた お前といっ...   \n",
       "1748  心の裏側で喜びに震え　生きていることさえ忘れてしまった 僕が１人で歩くのは、だれもいない波の...   \n",
       "1749  パターンA： ----------- 私の春が始まった時　あなただけしか欲しくなかった 風の...   \n",
       "1751  Japanese (Original) とても深い夜 まるで誰かを殺したみたい 何がお前の飢...   \n",
       "1752  Japanese (Original) いくつもの永遠を横切って いくつもの望みを後にして ...   \n",
       "1753  遠い記憶の中にお前を見る 見知らぬ二つの街が通り過ぎる 僕らの周りで海が血に変わる それしか...   \n",
       "1800  I’m this, I’m that; I’m sharp, I’m flat; I’m y...   \n",
       "1883  En kossa på ängen Den kommer gående och säger ...   \n",
       "1884  En kossa på ängen Den kommer gående och säger ...   \n",
       "1901  In kommer Gösta In kommer Gösta, Gösta In komm...   \n",
       "1917  Jag mötte dig i hamnen Du hade ramlat i Jag to...   \n",
       "\n",
       "                                           lyrics_lines  eng_chars_only  \\\n",
       "12    Şah şah şah\\nDam  dam dam\\nAr  ar ar\\nŞahdamar...           False   \n",
       "43    Corazón qué\\nCorazón qué\\nCorazón qué \\n\\nCora...           False   \n",
       "130   ‏‏thginot nwod teG\\n‏‏thginot nwod teG\\n‏‏thgi...           False   \n",
       "147                                          ​raw ot oG           False   \n",
       "1746  あらゆる夜（闇）を通り過ぎてきた\\n時々ひとりで\\nあらゆる闇（夜）を通り過ぎてきた\\nお前...           False   \n",
       "1748  心の裏側で喜びに震え　生きていることさえ忘れてしまった\\n僕が１人で歩くのは、だれもいない波...           False   \n",
       "1749  パターンA：\\n-----------\\n私の春が始まった時　あなただけしか欲しくなかった\\...           False   \n",
       "1751  Japanese (Original)\\nとても深い夜 まるで誰かを殺したみたい\\n何がお前...           False   \n",
       "1752  Japanese (Original)\\nいくつもの永遠を横切って\\nいくつもの望みを後にし...           False   \n",
       "1753  遠い記憶の中にお前を見る\\n見知らぬ二つの街が通り過ぎる\\n僕らの周りで海が血に変わる\\nそ...           False   \n",
       "1800  I’m this, I’m that;\\nI’m sharp, I’m flat;\\nI’m...            True   \n",
       "1883  En kossa på ängen\\nDen kommer gående och säger...           False   \n",
       "1884  En kossa på ängen\\nDen kommer gående och säger...           False   \n",
       "1901  In kommer Gösta\\nIn kommer Gösta, Gösta\\nIn ko...           False   \n",
       "1917  Jag mötte dig i hamnen\\nDu hade ramlat i\\nJag ...           False   \n",
       "\n",
       "      percent_non_english  \n",
       "12               0.089683  \n",
       "43               0.153846  \n",
       "130              0.110372  \n",
       "147              0.100000  \n",
       "1746             0.928571  \n",
       "1748             0.159120  \n",
       "1749             0.888112  \n",
       "1751             0.158151  \n",
       "1752             0.146000  \n",
       "1753             0.938462  \n",
       "1800             0.099502  \n",
       "1883             0.132512  \n",
       "1884             0.132512  \n",
       "1901             0.084871  \n",
       "1917             0.084430  "
      ]
     },
     "execution_count": 53,
     "metadata": {},
     "output_type": "execute_result"
    }
   ],
   "source": [
    "# These look pretty English to me.\n",
    "nonEng = lyricsdf[lyricsdf.percent_non_english > 0.08]\n",
    "nonEng"
   ]
  },
  {
   "cell_type": "code",
   "execution_count": 54,
   "metadata": {},
   "outputs": [
    {
     "data": {
      "text/plain": [
       "'Let’s get busy (let’s get busy) Let’s get busy (let’s get busy) Let’s get hot (let’s get hot) Let’s be cool (let’s be cool) Let’s get crooked, let’s get crazy Get it together and let’s get busy  I’m feelin good, let’s have a party I’m on the phone, callin’ my homies Come have some fun, we’ll be jammin’ Bring some food, but don’t bring beer now Bring your pajamas and your boom box We’ll rock the house and dance our socks off  Let’s get busy (let’s get busy) Let’s get busy (let’s get busy) Let’s get hot (let’s get hot) Let’s be cool (let’s be cool) Let’s get crooked, let’s get crazy Get it together and let’s get busy  I’m havin’ fun, eatin’ pizza I see my boyfriend, I see my girlfriend Let’s get up and start dancin’ Make some noise, turn up the music Let’s not stop until we drop Let’s keep goin’ til the break of dawn Let’s get busy (let’s get busy) Let’s get busy (let’s get busy) Let’s get hot (let’s get hot) Let’s be cool (let’s be cool) Let’s get crooked, let’s get crazy Get it together and let’s get busy  I’ve got some tapes, let’s get rockin’ MC Hammer, the Chili Peppers Lollapalooza, el Grupo Niche Let’s have a blast, go barefootin’ We’re gettin’ loose, we’re gettin’ funky We’re feelin’ fresh, we love to party  Let’s get busy (let’s get busy) Let’s get busy (let’s get busy) Let’s get hot (let’s get hot) Let’s be cool (let’s be cool) Let’s get crooked, let’s get crazy Get it together and let’s get busy Let’s get busy (let’s get busy) Let’s get busy (let’s get busy) Let’s get hot (let’s get hot) Let’s be cool (let’s be cool) Let’s get crooked, let’s get crazy Get it together and let’s get busy Let’s get busy right now!'"
      ]
     },
     "execution_count": 54,
     "metadata": {},
     "output_type": "execute_result"
    }
   ],
   "source": [
    "# These are indices indicated to be mostly non-English, but it seems the curly apostrophe is just mixing up the encoding\n",
    "lyricsdf.iloc[2242].lyrics #1800, 1232, 1003, 1989"
   ]
  },
  {
   "cell_type": "markdown",
   "metadata": {},
   "source": [
    "I am going to instead try using a pre-packaged language detector to see if I can weed out the non-English lyrics more definitively.  It seems going based off of encoding isn't ideal, given that symbols like the curly apostrophe can easily mix up the encoding method, and it's difficult to find a cut-off % point."
   ]
  },
  {
   "cell_type": "code",
   "execution_count": 55,
   "metadata": {},
   "outputs": [],
   "source": [
    "import spacy"
   ]
  },
  {
   "cell_type": "markdown",
   "metadata": {},
   "source": [
    "Using the spaCy documentation and this [stack overflow page](https://stackoverflow.com/questions/66712753/how-to-use-languagedetector-from-spacy-langdetect-package), I'll create a new column to store the language detected and the confidence score."
   ]
  },
  {
   "cell_type": "code",
   "execution_count": 56,
   "metadata": {},
   "outputs": [
    {
     "name": "stdout",
     "output_type": "stream",
     "text": [
      "{'language': 'en', 'score': 0.9999967704213413}\n"
     ]
    }
   ],
   "source": [
    "from spacy_langdetect import LanguageDetector\n",
    "from spacy.language import Language\n",
    "\n",
    "def get_lang_detector(nlp, name):\n",
    "    return LanguageDetector()\n",
    "\n",
    "# This just outputs an example, to show that the detector is working\n",
    "nlp = spacy.load(\"en_core_web_sm\")\n",
    "Language.factory(\"language_detector\", func=get_lang_detector)\n",
    "nlp.add_pipe('language_detector', last=True)\n",
    "text = 'This is an english text.'\n",
    "doc = nlp(text)\n",
    "print(doc._.language)"
   ]
  },
  {
   "cell_type": "code",
   "execution_count": 57,
   "metadata": {},
   "outputs": [],
   "source": [
    "def langDetect(nlp, text):\n",
    "    doc = nlp(text)\n",
    "    return doc._.language\n",
    "\n",
    "lyricsdf[\"lang_detect\"] = lyricsdf.lyrics.map(lambda x: langDetect(nlp, x))"
   ]
  },
  {
   "cell_type": "code",
   "execution_count": 58,
   "metadata": {},
   "outputs": [
    {
     "data": {
      "text/html": [
       "<div>\n",
       "<style scoped>\n",
       "    .dataframe tbody tr th:only-of-type {\n",
       "        vertical-align: middle;\n",
       "    }\n",
       "\n",
       "    .dataframe tbody tr th {\n",
       "        vertical-align: top;\n",
       "    }\n",
       "\n",
       "    .dataframe thead th {\n",
       "        text-align: right;\n",
       "    }\n",
       "</style>\n",
       "<table border=\"1\" class=\"dataframe\">\n",
       "  <thead>\n",
       "    <tr style=\"text-align: right;\">\n",
       "      <th></th>\n",
       "      <th>artist</th>\n",
       "      <th>title</th>\n",
       "      <th>lyrics</th>\n",
       "      <th>lyrics_lines</th>\n",
       "      <th>eng_chars_only</th>\n",
       "      <th>percent_non_english</th>\n",
       "      <th>lang_detect</th>\n",
       "    </tr>\n",
       "  </thead>\n",
       "  <tbody>\n",
       "    <tr>\n",
       "      <td>0</td>\n",
       "      <td>Abner Jay</td>\n",
       "      <td>Bring It When You Come</td>\n",
       "      <td>Terrible things, always happening Just like ye...</td>\n",
       "      <td>Terrible things, always happening\\nJust like y...</td>\n",
       "      <td>True</td>\n",
       "      <td>0.009918</td>\n",
       "      <td>{'language': 'en', 'score': 0.9999976141175171}</td>\n",
       "    </tr>\n",
       "    <tr>\n",
       "      <td>1</td>\n",
       "      <td>Abner Jay</td>\n",
       "      <td>Cocaine</td>\n",
       "      <td>Folk music is high-class music. There’s a lott...</td>\n",
       "      <td>Folk music is high-class music. There’s a lott...</td>\n",
       "      <td>True</td>\n",
       "      <td>0.023657</td>\n",
       "      <td>{'language': 'en', 'score': 0.9999977834377968}</td>\n",
       "    </tr>\n",
       "    <tr>\n",
       "      <td>2</td>\n",
       "      <td>Abner Jay</td>\n",
       "      <td>Cocaine Blues</td>\n",
       "      <td>Cocaine, Cocaine Running round my heart And th...</td>\n",
       "      <td>Cocaine, Cocaine\\nRunning round my heart\\nAnd ...</td>\n",
       "      <td>True</td>\n",
       "      <td>0.016551</td>\n",
       "      <td>{'language': 'en', 'score': 0.9999955609542157}</td>\n",
       "    </tr>\n",
       "    <tr>\n",
       "      <td>3</td>\n",
       "      <td>Abner Jay</td>\n",
       "      <td>Don’t Mess with Me Baby</td>\n",
       "      <td>Terrible things; that’s what’s getting all the...</td>\n",
       "      <td>Terrible things; that’s what’s getting all the...</td>\n",
       "      <td>True</td>\n",
       "      <td>0.010326</td>\n",
       "      <td>{'language': 'en', 'score': 0.9999954255517557}</td>\n",
       "    </tr>\n",
       "    <tr>\n",
       "      <td>4</td>\n",
       "      <td>Abner Jay</td>\n",
       "      <td>I cried</td>\n",
       "      <td>I, I cried I cried in the ni-ight Oh please co...</td>\n",
       "      <td>I, I cried\\nI cried in the ni-ight\\nOh please ...</td>\n",
       "      <td>True</td>\n",
       "      <td>0.004902</td>\n",
       "      <td>{'language': 'en', 'score': 0.9999975986146884}</td>\n",
       "    </tr>\n",
       "  </tbody>\n",
       "</table>\n",
       "</div>"
      ],
      "text/plain": [
       "      artist                    title  \\\n",
       "0  Abner Jay   Bring It When You Come   \n",
       "1  Abner Jay                  Cocaine   \n",
       "2  Abner Jay            Cocaine Blues   \n",
       "3  Abner Jay  Don’t Mess with Me Baby   \n",
       "4  Abner Jay                  I cried   \n",
       "\n",
       "                                              lyrics  \\\n",
       "0  Terrible things, always happening Just like ye...   \n",
       "1  Folk music is high-class music. There’s a lott...   \n",
       "2  Cocaine, Cocaine Running round my heart And th...   \n",
       "3  Terrible things; that’s what’s getting all the...   \n",
       "4  I, I cried I cried in the ni-ight Oh please co...   \n",
       "\n",
       "                                        lyrics_lines  eng_chars_only  \\\n",
       "0  Terrible things, always happening\\nJust like y...            True   \n",
       "1  Folk music is high-class music. There’s a lott...            True   \n",
       "2  Cocaine, Cocaine\\nRunning round my heart\\nAnd ...            True   \n",
       "3  Terrible things; that’s what’s getting all the...            True   \n",
       "4  I, I cried\\nI cried in the ni-ight\\nOh please ...            True   \n",
       "\n",
       "   percent_non_english                                      lang_detect  \n",
       "0             0.009918  {'language': 'en', 'score': 0.9999976141175171}  \n",
       "1             0.023657  {'language': 'en', 'score': 0.9999977834377968}  \n",
       "2             0.016551  {'language': 'en', 'score': 0.9999955609542157}  \n",
       "3             0.010326  {'language': 'en', 'score': 0.9999954255517557}  \n",
       "4             0.004902  {'language': 'en', 'score': 0.9999975986146884}  "
      ]
     },
     "execution_count": 58,
     "metadata": {},
     "output_type": "execute_result"
    }
   ],
   "source": [
    "lyricsdf.head()"
   ]
  },
  {
   "cell_type": "code",
   "execution_count": 59,
   "metadata": {},
   "outputs": [],
   "source": [
    "# lang_detect is a short dictionary, containing 'language' and 'score' as keys\n",
    "# extract 'language'\n",
    "\n",
    "lyricsdf[\"lang\"] = lyricsdf.lang_detect.map(lambda x: x[\"language\"])"
   ]
  },
  {
   "cell_type": "code",
   "execution_count": 60,
   "metadata": {},
   "outputs": [
    {
     "data": {
      "text/plain": [
       "en         3053\n",
       "UNKNOWN     224\n",
       "sv           60\n",
       "so            7\n",
       "fr            6\n",
       "id            5\n",
       "tl            4\n",
       "ca            3\n",
       "no            3\n",
       "tr            3\n",
       "ja            3\n",
       "es            3\n",
       "af            2\n",
       "cy            2\n",
       "nl            2\n",
       "sw            2\n",
       "it            1\n",
       "sk            1\n",
       "pt            1\n",
       "hr            1\n",
       "sl            1\n",
       "pl            1\n",
       "Name: lang, dtype: int64"
      ]
     },
     "execution_count": 60,
     "metadata": {},
     "output_type": "execute_result"
    }
   ],
   "source": [
    "lyricsdf.lang.value_counts()"
   ]
  },
  {
   "cell_type": "code",
   "execution_count": 61,
   "metadata": {},
   "outputs": [
    {
     "data": {
      "text/html": [
       "<div>\n",
       "<style scoped>\n",
       "    .dataframe tbody tr th:only-of-type {\n",
       "        vertical-align: middle;\n",
       "    }\n",
       "\n",
       "    .dataframe tbody tr th {\n",
       "        vertical-align: top;\n",
       "    }\n",
       "\n",
       "    .dataframe thead th {\n",
       "        text-align: right;\n",
       "    }\n",
       "</style>\n",
       "<table border=\"1\" class=\"dataframe\">\n",
       "  <thead>\n",
       "    <tr style=\"text-align: right;\">\n",
       "      <th></th>\n",
       "      <th>artist</th>\n",
       "      <th>title</th>\n",
       "      <th>lyrics</th>\n",
       "      <th>lyrics_lines</th>\n",
       "      <th>eng_chars_only</th>\n",
       "      <th>percent_non_english</th>\n",
       "      <th>lang_detect</th>\n",
       "      <th>lang</th>\n",
       "    </tr>\n",
       "  </thead>\n",
       "  <tbody>\n",
       "    <tr>\n",
       "      <td>1963</td>\n",
       "      <td>R. Stevie Moore</td>\n",
       "      <td>Games</td>\n",
       "      <td></td>\n",
       "      <td></td>\n",
       "      <td>True</td>\n",
       "      <td>NaN</td>\n",
       "      <td>{'language': 'UNKNOWN', 'score': 0.0}</td>\n",
       "      <td>UNKNOWN</td>\n",
       "    </tr>\n",
       "    <tr>\n",
       "      <td>859</td>\n",
       "      <td>Gary Wilson</td>\n",
       "      <td>Weird World, Pt. 2</td>\n",
       "      <td></td>\n",
       "      <td></td>\n",
       "      <td>True</td>\n",
       "      <td>NaN</td>\n",
       "      <td>{'language': 'UNKNOWN', 'score': 0.0}</td>\n",
       "      <td>UNKNOWN</td>\n",
       "    </tr>\n",
       "    <tr>\n",
       "      <td>169</td>\n",
       "      <td>Ariel Pink</td>\n",
       "      <td>Zip Drive</td>\n",
       "      <td></td>\n",
       "      <td></td>\n",
       "      <td>True</td>\n",
       "      <td>NaN</td>\n",
       "      <td>{'language': 'UNKNOWN', 'score': 0.0}</td>\n",
       "      <td>UNKNOWN</td>\n",
       "    </tr>\n",
       "    <tr>\n",
       "      <td>121</td>\n",
       "      <td>Ariel Pink</td>\n",
       "      <td>Phillip (Glass Freckles)</td>\n",
       "      <td></td>\n",
       "      <td></td>\n",
       "      <td>True</td>\n",
       "      <td>NaN</td>\n",
       "      <td>{'language': 'UNKNOWN', 'score': 0.0}</td>\n",
       "      <td>UNKNOWN</td>\n",
       "    </tr>\n",
       "    <tr>\n",
       "      <td>840</td>\n",
       "      <td>Gary Wilson</td>\n",
       "      <td>She Danced Near the Frozen Lake</td>\n",
       "      <td></td>\n",
       "      <td></td>\n",
       "      <td>True</td>\n",
       "      <td>NaN</td>\n",
       "      <td>{'language': 'UNKNOWN', 'score': 0.0}</td>\n",
       "      <td>UNKNOWN</td>\n",
       "    </tr>\n",
       "  </tbody>\n",
       "</table>\n",
       "</div>"
      ],
      "text/plain": [
       "               artist                            title lyrics lyrics_lines  \\\n",
       "1963  R. Stevie Moore                            Games                       \n",
       "859       Gary Wilson               Weird World, Pt. 2                       \n",
       "169        Ariel Pink                        Zip Drive                       \n",
       "121        Ariel Pink         Phillip (Glass Freckles)                       \n",
       "840       Gary Wilson  She Danced Near the Frozen Lake                       \n",
       "\n",
       "      eng_chars_only  percent_non_english  \\\n",
       "1963            True                  NaN   \n",
       "859             True                  NaN   \n",
       "169             True                  NaN   \n",
       "121             True                  NaN   \n",
       "840             True                  NaN   \n",
       "\n",
       "                                lang_detect     lang  \n",
       "1963  {'language': 'UNKNOWN', 'score': 0.0}  UNKNOWN  \n",
       "859   {'language': 'UNKNOWN', 'score': 0.0}  UNKNOWN  \n",
       "169   {'language': 'UNKNOWN', 'score': 0.0}  UNKNOWN  \n",
       "121   {'language': 'UNKNOWN', 'score': 0.0}  UNKNOWN  \n",
       "840   {'language': 'UNKNOWN', 'score': 0.0}  UNKNOWN  "
      ]
     },
     "execution_count": 61,
     "metadata": {},
     "output_type": "execute_result"
    }
   ],
   "source": [
    "non_eng = lyricsdf[lyricsdf.lang != \"en\"]\n",
    "non_eng.sample(5)"
   ]
  },
  {
   "cell_type": "code",
   "execution_count": 62,
   "metadata": {},
   "outputs": [
    {
     "data": {
      "text/html": [
       "<div>\n",
       "<style scoped>\n",
       "    .dataframe tbody tr th:only-of-type {\n",
       "        vertical-align: middle;\n",
       "    }\n",
       "\n",
       "    .dataframe tbody tr th {\n",
       "        vertical-align: top;\n",
       "    }\n",
       "\n",
       "    .dataframe thead th {\n",
       "        text-align: right;\n",
       "    }\n",
       "</style>\n",
       "<table border=\"1\" class=\"dataframe\">\n",
       "  <thead>\n",
       "    <tr style=\"text-align: right;\">\n",
       "      <th></th>\n",
       "      <th>artist</th>\n",
       "      <th>title</th>\n",
       "      <th>lyrics</th>\n",
       "      <th>lyrics_lines</th>\n",
       "      <th>eng_chars_only</th>\n",
       "      <th>percent_non_english</th>\n",
       "      <th>lang_detect</th>\n",
       "      <th>lang</th>\n",
       "    </tr>\n",
       "  </thead>\n",
       "  <tbody>\n",
       "    <tr>\n",
       "      <td>2744</td>\n",
       "      <td>Wesley Willis</td>\n",
       "      <td>Carla Winterbottom</td>\n",
       "      <td>I love you, you are my friend You are my sweet...</td>\n",
       "      <td>I love you, you are my friend\\nYou are my swee...</td>\n",
       "      <td>True</td>\n",
       "      <td>0.001590</td>\n",
       "      <td>{'language': 'en', 'score': 0.9999965101812103}</td>\n",
       "      <td>en</td>\n",
       "    </tr>\n",
       "    <tr>\n",
       "      <td>3252</td>\n",
       "      <td>Wild Man Fischer</td>\n",
       "      <td>God, Send Me Leonard and Sandra</td>\n",
       "      <td>Oh. Oh God, send me Leonard and Sandra to watc...</td>\n",
       "      <td>Oh. Oh God, send me Leonard and Sandra to watc...</td>\n",
       "      <td>True</td>\n",
       "      <td>0.004545</td>\n",
       "      <td>{'language': 'en', 'score': 0.9999964831242013}</td>\n",
       "      <td>en</td>\n",
       "    </tr>\n",
       "    <tr>\n",
       "      <td>885</td>\n",
       "      <td>Hasil Adkins</td>\n",
       "      <td>By The Lonesome River</td>\n",
       "      <td>I take a walk every evening Darling just alone...</td>\n",
       "      <td>I take a walk every evening\\nDarling just alon...</td>\n",
       "      <td>True</td>\n",
       "      <td>0.000000</td>\n",
       "      <td>{'language': 'en', 'score': 0.9999974767968635}</td>\n",
       "      <td>en</td>\n",
       "    </tr>\n",
       "    <tr>\n",
       "      <td>2352</td>\n",
       "      <td>Tiny Tim</td>\n",
       "      <td>Girl</td>\n",
       "      <td>Is there anybody there? Anybody there? Is ther...</td>\n",
       "      <td>Is there anybody there? Anybody there?\\nIs the...</td>\n",
       "      <td>True</td>\n",
       "      <td>0.010084</td>\n",
       "      <td>{'language': 'en', 'score': 0.9999977317000563}</td>\n",
       "      <td>en</td>\n",
       "    </tr>\n",
       "    <tr>\n",
       "      <td>3060</td>\n",
       "      <td>Wesley Willis</td>\n",
       "      <td>Richard Speck</td>\n",
       "      <td>This man killed eight nurses The ninth nurse h...</td>\n",
       "      <td>This man killed eight nurses\\nThe ninth nurse ...</td>\n",
       "      <td>True</td>\n",
       "      <td>0.001391</td>\n",
       "      <td>{'language': 'en', 'score': 0.9999956277117106}</td>\n",
       "      <td>en</td>\n",
       "    </tr>\n",
       "  </tbody>\n",
       "</table>\n",
       "</div>"
      ],
      "text/plain": [
       "                artist                            title  \\\n",
       "2744     Wesley Willis               Carla Winterbottom   \n",
       "3252  Wild Man Fischer  God, Send Me Leonard and Sandra   \n",
       "885       Hasil Adkins            By The Lonesome River   \n",
       "2352          Tiny Tim                             Girl   \n",
       "3060     Wesley Willis                    Richard Speck   \n",
       "\n",
       "                                                 lyrics  \\\n",
       "2744  I love you, you are my friend You are my sweet...   \n",
       "3252  Oh. Oh God, send me Leonard and Sandra to watc...   \n",
       "885   I take a walk every evening Darling just alone...   \n",
       "2352  Is there anybody there? Anybody there? Is ther...   \n",
       "3060  This man killed eight nurses The ninth nurse h...   \n",
       "\n",
       "                                           lyrics_lines  eng_chars_only  \\\n",
       "2744  I love you, you are my friend\\nYou are my swee...            True   \n",
       "3252  Oh. Oh God, send me Leonard and Sandra to watc...            True   \n",
       "885   I take a walk every evening\\nDarling just alon...            True   \n",
       "2352  Is there anybody there? Anybody there?\\nIs the...            True   \n",
       "3060  This man killed eight nurses\\nThe ninth nurse ...            True   \n",
       "\n",
       "      percent_non_english                                      lang_detect  \\\n",
       "2744             0.001590  {'language': 'en', 'score': 0.9999965101812103}   \n",
       "3252             0.004545  {'language': 'en', 'score': 0.9999964831242013}   \n",
       "885              0.000000  {'language': 'en', 'score': 0.9999974767968635}   \n",
       "2352             0.010084  {'language': 'en', 'score': 0.9999977317000563}   \n",
       "3060             0.001391  {'language': 'en', 'score': 0.9999956277117106}   \n",
       "\n",
       "     lang  \n",
       "2744   en  \n",
       "3252   en  \n",
       "885    en  \n",
       "2352   en  \n",
       "3060   en  "
      ]
     },
     "execution_count": 62,
     "metadata": {},
     "output_type": "execute_result"
    }
   ],
   "source": [
    "lyricsdf[lyricsdf.lang == \"en\"].sample(5)"
   ]
  },
  {
   "cell_type": "code",
   "execution_count": 63,
   "metadata": {},
   "outputs": [
    {
     "data": {
      "text/html": [
       "<div>\n",
       "<style scoped>\n",
       "    .dataframe tbody tr th:only-of-type {\n",
       "        vertical-align: middle;\n",
       "    }\n",
       "\n",
       "    .dataframe tbody tr th {\n",
       "        vertical-align: top;\n",
       "    }\n",
       "\n",
       "    .dataframe thead th {\n",
       "        text-align: right;\n",
       "    }\n",
       "</style>\n",
       "<table border=\"1\" class=\"dataframe\">\n",
       "  <thead>\n",
       "    <tr style=\"text-align: right;\">\n",
       "      <th></th>\n",
       "      <th>artist</th>\n",
       "      <th>title</th>\n",
       "      <th>lyrics</th>\n",
       "      <th>lyrics_lines</th>\n",
       "      <th>eng_chars_only</th>\n",
       "      <th>percent_non_english</th>\n",
       "      <th>lang_detect</th>\n",
       "      <th>lang</th>\n",
       "    </tr>\n",
       "  </thead>\n",
       "  <tbody>\n",
       "    <tr>\n",
       "      <td>1746</td>\n",
       "      <td>Les Rallizes Dénudés</td>\n",
       "      <td>Enter the Mirror</td>\n",
       "      <td>あらゆる夜（闇）を通り過ぎてきた 時々ひとりで あらゆる闇（夜）を通り過ぎてきた お前といっ...</td>\n",
       "      <td>あらゆる夜（闇）を通り過ぎてきた\\n時々ひとりで\\nあらゆる闇（夜）を通り過ぎてきた\\nお前...</td>\n",
       "      <td>False</td>\n",
       "      <td>0.928571</td>\n",
       "      <td>{'language': 'ja', 'score': 0.999999883073572}</td>\n",
       "      <td>ja</td>\n",
       "    </tr>\n",
       "    <tr>\n",
       "      <td>129</td>\n",
       "      <td>Ariel Pink</td>\n",
       "      <td>Ramaya</td>\n",
       "      <td>Right!  (Woo!)  Bokuko ramaya, bokuko  (Woo!) ...</td>\n",
       "      <td>Right!\\n\\n(Woo!)\\n\\nBokuko ramaya, bokuko\\n\\n(...</td>\n",
       "      <td>True</td>\n",
       "      <td>0.000000</td>\n",
       "      <td>{'language': 'sw', 'score': 0.7142827417085209}</td>\n",
       "      <td>sw</td>\n",
       "    </tr>\n",
       "    <tr>\n",
       "      <td>1679</td>\n",
       "      <td>John Maus</td>\n",
       "      <td>The Crucifix</td>\n",
       "      <td>Saw a crucifix (Saw a crucifix) Saw a crucifix...</td>\n",
       "      <td>Saw a crucifix (Saw a crucifix)\\nSaw a crucifi...</td>\n",
       "      <td>True</td>\n",
       "      <td>0.000000</td>\n",
       "      <td>{'language': 'ca', 'score': 0.9999953756904275}</td>\n",
       "      <td>ca</td>\n",
       "    </tr>\n",
       "    <tr>\n",
       "      <td>223</td>\n",
       "      <td>Brian Wilson</td>\n",
       "      <td>Deck The Halls</td>\n",
       "      <td>Deck the halls with boughs of holly Fa, la, la...</td>\n",
       "      <td>Deck the halls with boughs of holly\\nFa, la, l...</td>\n",
       "      <td>True</td>\n",
       "      <td>0.001616</td>\n",
       "      <td>{'language': 'es', 'score': 0.9999882615370095}</td>\n",
       "      <td>es</td>\n",
       "    </tr>\n",
       "    <tr>\n",
       "      <td>1241</td>\n",
       "      <td>Jandek</td>\n",
       "      <td>Oh No</td>\n",
       "      <td>Ooh Oh no, oh no</td>\n",
       "      <td>Ooh\\nOh no, oh no</td>\n",
       "      <td>True</td>\n",
       "      <td>0.000000</td>\n",
       "      <td>{'language': 'sl', 'score': 0.6196165510308684}</td>\n",
       "      <td>sl</td>\n",
       "    </tr>\n",
       "  </tbody>\n",
       "</table>\n",
       "</div>"
      ],
      "text/plain": [
       "                    artist             title  \\\n",
       "1746  Les Rallizes Dénudés  Enter the Mirror   \n",
       "129             Ariel Pink            Ramaya   \n",
       "1679             John Maus      The Crucifix   \n",
       "223           Brian Wilson    Deck The Halls   \n",
       "1241                Jandek             Oh No   \n",
       "\n",
       "                                                 lyrics  \\\n",
       "1746  あらゆる夜（闇）を通り過ぎてきた 時々ひとりで あらゆる闇（夜）を通り過ぎてきた お前といっ...   \n",
       "129   Right!  (Woo!)  Bokuko ramaya, bokuko  (Woo!) ...   \n",
       "1679  Saw a crucifix (Saw a crucifix) Saw a crucifix...   \n",
       "223   Deck the halls with boughs of holly Fa, la, la...   \n",
       "1241                                   Ooh Oh no, oh no   \n",
       "\n",
       "                                           lyrics_lines  eng_chars_only  \\\n",
       "1746  あらゆる夜（闇）を通り過ぎてきた\\n時々ひとりで\\nあらゆる闇（夜）を通り過ぎてきた\\nお前...           False   \n",
       "129   Right!\\n\\n(Woo!)\\n\\nBokuko ramaya, bokuko\\n\\n(...            True   \n",
       "1679  Saw a crucifix (Saw a crucifix)\\nSaw a crucifi...            True   \n",
       "223   Deck the halls with boughs of holly\\nFa, la, l...            True   \n",
       "1241                                  Ooh\\nOh no, oh no            True   \n",
       "\n",
       "      percent_non_english                                      lang_detect  \\\n",
       "1746             0.928571   {'language': 'ja', 'score': 0.999999883073572}   \n",
       "129              0.000000  {'language': 'sw', 'score': 0.7142827417085209}   \n",
       "1679             0.000000  {'language': 'ca', 'score': 0.9999953756904275}   \n",
       "223              0.001616  {'language': 'es', 'score': 0.9999882615370095}   \n",
       "1241             0.000000  {'language': 'sl', 'score': 0.6196165510308684}   \n",
       "\n",
       "     lang  \n",
       "1746   ja  \n",
       "129    sw  \n",
       "1679   ca  \n",
       "223    es  \n",
       "1241   sl  "
      ]
     },
     "execution_count": 63,
     "metadata": {},
     "output_type": "execute_result"
    }
   ],
   "source": [
    "# Check some of the less frequent languages\n",
    "lyricsdf[lyricsdf.lang.isin(['ja', 'no', 'es', 'nl', 'tr', 'sw', 'it', 'ca', 'et', 'pt', 'pl', 'sl', 'sk', 'hr'])].sample(5)"
   ]
  },
  {
   "cell_type": "code",
   "execution_count": 64,
   "metadata": {},
   "outputs": [
    {
     "data": {
      "text/html": [
       "<div>\n",
       "<style scoped>\n",
       "    .dataframe tbody tr th:only-of-type {\n",
       "        vertical-align: middle;\n",
       "    }\n",
       "\n",
       "    .dataframe tbody tr th {\n",
       "        vertical-align: top;\n",
       "    }\n",
       "\n",
       "    .dataframe thead th {\n",
       "        text-align: right;\n",
       "    }\n",
       "</style>\n",
       "<table border=\"1\" class=\"dataframe\">\n",
       "  <thead>\n",
       "    <tr style=\"text-align: right;\">\n",
       "      <th></th>\n",
       "      <th>artist</th>\n",
       "      <th>title</th>\n",
       "      <th>lyrics</th>\n",
       "      <th>lyrics_lines</th>\n",
       "      <th>eng_chars_only</th>\n",
       "      <th>percent_non_english</th>\n",
       "      <th>lang_detect</th>\n",
       "      <th>lang</th>\n",
       "    </tr>\n",
       "  </thead>\n",
       "  <tbody>\n",
       "    <tr>\n",
       "      <td>130</td>\n",
       "      <td>Ariel Pink</td>\n",
       "      <td>Red Room</td>\n",
       "      <td>‏‏thginot nwod teG ‏‏thginot nwod teG ‏‏thgino...</td>\n",
       "      <td>‏‏thginot nwod teG\\n‏‏thginot nwod teG\\n‏‏thgi...</td>\n",
       "      <td>False</td>\n",
       "      <td>0.110372</td>\n",
       "      <td>{'language': 'cy', 'score': 0.7142842161991281}</td>\n",
       "      <td>cy</td>\n",
       "    </tr>\n",
       "    <tr>\n",
       "      <td>332</td>\n",
       "      <td>Brian Wilson</td>\n",
       "      <td>Our Prayer / Gee</td>\n",
       "      <td>Du du du du du How I love my girl Heroes and v...</td>\n",
       "      <td>Du du du du du\\nHow I love my girl\\nHeroes and...</td>\n",
       "      <td>True</td>\n",
       "      <td>0.000000</td>\n",
       "      <td>{'language': 'fr', 'score': 0.9999967323088076}</td>\n",
       "      <td>fr</td>\n",
       "    </tr>\n",
       "    <tr>\n",
       "      <td>1356</td>\n",
       "      <td>Jandek</td>\n",
       "      <td>You Don’t Have to Entertain Me</td>\n",
       "      <td>You don’t have to entertain me You don’t have ...</td>\n",
       "      <td>You don’t have to entertain me\\nYou don’t have...</td>\n",
       "      <td>False</td>\n",
       "      <td>0.032787</td>\n",
       "      <td>{'language': 'fr', 'score': 0.8571394334378022}</td>\n",
       "      <td>fr</td>\n",
       "    </tr>\n",
       "    <tr>\n",
       "      <td>104</td>\n",
       "      <td>Ariel Pink</td>\n",
       "      <td>Nana</td>\n",
       "      <td>Nana, nana is the mama Nana, nana is th— Nana,...</td>\n",
       "      <td>Nana, nana is the mama\\nNana, nana is th—\\nNan...</td>\n",
       "      <td>False</td>\n",
       "      <td>0.012510</td>\n",
       "      <td>{'language': 'tl', 'score': 0.9999956544463124}</td>\n",
       "      <td>tl</td>\n",
       "    </tr>\n",
       "    <tr>\n",
       "      <td>1923</td>\n",
       "      <td>Philemon Arthur And The Dung</td>\n",
       "      <td>Polismannen</td>\n",
       "      <td>En polisman i gatan står En törn av en bil han...</td>\n",
       "      <td>En polisman i gatan står\\nEn törn av en bil ha...</td>\n",
       "      <td>False</td>\n",
       "      <td>0.027132</td>\n",
       "      <td>{'language': 'id', 'score': 0.8571400282597207}</td>\n",
       "      <td>id</td>\n",
       "    </tr>\n",
       "  </tbody>\n",
       "</table>\n",
       "</div>"
      ],
      "text/plain": [
       "                            artist                           title  \\\n",
       "130                     Ariel Pink                        Red Room   \n",
       "332                   Brian Wilson                Our Prayer / Gee   \n",
       "1356                        Jandek  You Don’t Have to Entertain Me   \n",
       "104                     Ariel Pink                            Nana   \n",
       "1923  Philemon Arthur And The Dung                     Polismannen   \n",
       "\n",
       "                                                 lyrics  \\\n",
       "130   ‏‏thginot nwod teG ‏‏thginot nwod teG ‏‏thgino...   \n",
       "332   Du du du du du How I love my girl Heroes and v...   \n",
       "1356  You don’t have to entertain me You don’t have ...   \n",
       "104   Nana, nana is the mama Nana, nana is th— Nana,...   \n",
       "1923  En polisman i gatan står En törn av en bil han...   \n",
       "\n",
       "                                           lyrics_lines  eng_chars_only  \\\n",
       "130   ‏‏thginot nwod teG\\n‏‏thginot nwod teG\\n‏‏thgi...           False   \n",
       "332   Du du du du du\\nHow I love my girl\\nHeroes and...            True   \n",
       "1356  You don’t have to entertain me\\nYou don’t have...           False   \n",
       "104   Nana, nana is the mama\\nNana, nana is th—\\nNan...           False   \n",
       "1923  En polisman i gatan står\\nEn törn av en bil ha...           False   \n",
       "\n",
       "      percent_non_english                                      lang_detect  \\\n",
       "130              0.110372  {'language': 'cy', 'score': 0.7142842161991281}   \n",
       "332              0.000000  {'language': 'fr', 'score': 0.9999967323088076}   \n",
       "1356             0.032787  {'language': 'fr', 'score': 0.8571394334378022}   \n",
       "104              0.012510  {'language': 'tl', 'score': 0.9999956544463124}   \n",
       "1923             0.027132  {'language': 'id', 'score': 0.8571400282597207}   \n",
       "\n",
       "     lang  \n",
       "130    cy  \n",
       "332    fr  \n",
       "1356   fr  \n",
       "104    tl  \n",
       "1923   id  "
      ]
     },
     "execution_count": 64,
     "metadata": {},
     "output_type": "execute_result"
    }
   ],
   "source": [
    "# Check out some of the more frequent languages:\n",
    "lyricsdf[lyricsdf.lang.isin(['fr', 'so', 'tl', 'id', 'cy', 'af'])].sample(5)"
   ]
  },
  {
   "cell_type": "markdown",
   "metadata": {},
   "source": [
    "The above lists are samples, but I've skimmed through the full non-English lists. Note that this isn't a perfect solution.  Many English lyrics have been misidentified as foreign languages, as shown below with \"Deck the Halls.\"  It appears that too many \"la\"s has classified this one as Spanish.  However, it's easier to trust that the remaining data is, indeed, English, which could be worth the loss of some data."
   ]
  },
  {
   "cell_type": "code",
   "execution_count": 65,
   "metadata": {},
   "outputs": [
    {
     "name": "stdout",
     "output_type": "stream",
     "text": [
      "language: es \n",
      " Deck the halls with boughs of holly Fa, la, la, la, la, la, la, la, la ’Tis the season to be jolly Fa, la, la, la, la, la, la, la, la Don we now our gay apparel Fa, la, la, la, la, la, la, la, la Troll the ancient Yule tide carol Fa, la, la, la, la, la, la, la, la See the blazing Yule before us Fa, la, la, la, la, la, la, la, la Strike the harp and join the chorus Fa, la, la, la, la, la, la, la, la Follow me in merry measure Fa, la, la, la, la, la, la, la, la While I tell of Yule tide treasure Fa, la, la, la, la, la, la, la, la Fast away the old year passes Fa, la, la, la, la, la, la, la, la Hail the new, ye lads and lasses Fa, la, la, la, la, la, la, la, la Sing we joyous, all together Fa, la, la, la, la, la, la, la, la Heedless of the wind and weather Fa, la, la, la, la, la, la, la, la Deck the halls with boughs of holly Fa, la, la, la, la, la, la, la, la ’Tis the season to be jolly Fa, la, la, la, la, la, la, la, la Don we now our gay apparel Fa, la, la, la, la, la, la, la, la Troll the ancient Yule tide carol Fa, la, la, la, la, la, la, la, la Fa, la, la, la, la, la, la, la, la Fa, la, la, la, la, la, la, la, la Fa, la, la, la, la, la, la, la, la Fa, la, la, la, la, la, la, la, la Fa, la, la, la, la, la, la, la, la\n"
     ]
    }
   ],
   "source": [
    "print(\"language:\", lyricsdf.iloc[223].lang, \"\\n\", lyricsdf.iloc[223].lyrics)"
   ]
  },
  {
   "cell_type": "code",
   "execution_count": 66,
   "metadata": {},
   "outputs": [
    {
     "data": {
      "text/plain": [
       "{'language': 'es', 'score': 0.9999882615370095}"
      ]
     },
     "execution_count": 66,
     "metadata": {},
     "output_type": "execute_result"
    }
   ],
   "source": [
    "lyricsdf.iloc[223].lang_detect"
   ]
  },
  {
   "cell_type": "code",
   "execution_count": 67,
   "metadata": {},
   "outputs": [
    {
     "data": {
      "text/html": [
       "<div>\n",
       "<style scoped>\n",
       "    .dataframe tbody tr th:only-of-type {\n",
       "        vertical-align: middle;\n",
       "    }\n",
       "\n",
       "    .dataframe tbody tr th {\n",
       "        vertical-align: top;\n",
       "    }\n",
       "\n",
       "    .dataframe thead th {\n",
       "        text-align: right;\n",
       "    }\n",
       "</style>\n",
       "<table border=\"1\" class=\"dataframe\">\n",
       "  <thead>\n",
       "    <tr style=\"text-align: right;\">\n",
       "      <th></th>\n",
       "      <th>artist</th>\n",
       "      <th>title</th>\n",
       "      <th>lyrics</th>\n",
       "      <th>lyrics_lines</th>\n",
       "      <th>eng_chars_only</th>\n",
       "      <th>percent_non_english</th>\n",
       "      <th>lang_detect</th>\n",
       "      <th>lang</th>\n",
       "    </tr>\n",
       "  </thead>\n",
       "  <tbody>\n",
       "    <tr>\n",
       "      <td>1890</td>\n",
       "      <td>Philemon Arthur And The Dung</td>\n",
       "      <td>En Förtorkad Kaffeböna</td>\n",
       "      <td>Om ni bjuder på choklad nån gång En apelsin el...</td>\n",
       "      <td>Om ni bjuder på choklad nån gång\\nEn apelsin e...</td>\n",
       "      <td>False</td>\n",
       "      <td>0.059818</td>\n",
       "      <td>{'language': 'sv', 'score': 0.9999953821052052}</td>\n",
       "      <td>sv</td>\n",
       "    </tr>\n",
       "    <tr>\n",
       "      <td>1880</td>\n",
       "      <td>Philemon Arthur And The Dung</td>\n",
       "      <td>Den Sista Veckan</td>\n",
       "      <td>Jag vakna’ en söndagmorgon Och inga träd det f...</td>\n",
       "      <td>Jag vakna’ en söndagmorgon\\nOch inga träd det ...</td>\n",
       "      <td>False</td>\n",
       "      <td>0.025663</td>\n",
       "      <td>{'language': 'sv', 'score': 0.999995964909624}</td>\n",
       "      <td>sv</td>\n",
       "    </tr>\n",
       "    <tr>\n",
       "      <td>1877</td>\n",
       "      <td>Philemon Arthur And The Dung</td>\n",
       "      <td>Allt Detta Heter Fille</td>\n",
       "      <td>(lalala lala) Små grisar gick, på getingstick!...</td>\n",
       "      <td>(lalala lala)\\nSmå grisar gick, på getingstick...</td>\n",
       "      <td>False</td>\n",
       "      <td>0.036184</td>\n",
       "      <td>{'language': 'sv', 'score': 0.9999950014385031}</td>\n",
       "      <td>sv</td>\n",
       "    </tr>\n",
       "    <tr>\n",
       "      <td>1879</td>\n",
       "      <td>Philemon Arthur And The Dung</td>\n",
       "      <td>Damm I Hans Säng</td>\n",
       "      <td>Det blev kulhål i byxan Och damm i hans säng O...</td>\n",
       "      <td>Det blev kulhål i byxan\\nOch damm i hans säng\\...</td>\n",
       "      <td>False</td>\n",
       "      <td>0.036538</td>\n",
       "      <td>{'language': 'sv', 'score': 0.9999978548784483}</td>\n",
       "      <td>sv</td>\n",
       "    </tr>\n",
       "    <tr>\n",
       "      <td>1922</td>\n",
       "      <td>Philemon Arthur And The Dung</td>\n",
       "      <td>Plocka Päror</td>\n",
       "      <td>(\"nu alla barn ska jag berätta om mitt sommarl...</td>\n",
       "      <td>(\"nu alla barn ska jag berätta om mitt sommarl...</td>\n",
       "      <td>False</td>\n",
       "      <td>0.057389</td>\n",
       "      <td>{'language': 'sv', 'score': 0.9999981899856218}</td>\n",
       "      <td>sv</td>\n",
       "    </tr>\n",
       "  </tbody>\n",
       "</table>\n",
       "</div>"
      ],
      "text/plain": [
       "                            artist                   title  \\\n",
       "1890  Philemon Arthur And The Dung  En Förtorkad Kaffeböna   \n",
       "1880  Philemon Arthur And The Dung        Den Sista Veckan   \n",
       "1877  Philemon Arthur And The Dung  Allt Detta Heter Fille   \n",
       "1879  Philemon Arthur And The Dung        Damm I Hans Säng   \n",
       "1922  Philemon Arthur And The Dung            Plocka Päror   \n",
       "\n",
       "                                                 lyrics  \\\n",
       "1890  Om ni bjuder på choklad nån gång En apelsin el...   \n",
       "1880  Jag vakna’ en söndagmorgon Och inga träd det f...   \n",
       "1877  (lalala lala) Små grisar gick, på getingstick!...   \n",
       "1879  Det blev kulhål i byxan Och damm i hans säng O...   \n",
       "1922  (\"nu alla barn ska jag berätta om mitt sommarl...   \n",
       "\n",
       "                                           lyrics_lines  eng_chars_only  \\\n",
       "1890  Om ni bjuder på choklad nån gång\\nEn apelsin e...           False   \n",
       "1880  Jag vakna’ en söndagmorgon\\nOch inga träd det ...           False   \n",
       "1877  (lalala lala)\\nSmå grisar gick, på getingstick...           False   \n",
       "1879  Det blev kulhål i byxan\\nOch damm i hans säng\\...           False   \n",
       "1922  (\"nu alla barn ska jag berätta om mitt sommarl...           False   \n",
       "\n",
       "      percent_non_english                                      lang_detect  \\\n",
       "1890             0.059818  {'language': 'sv', 'score': 0.9999953821052052}   \n",
       "1880             0.025663   {'language': 'sv', 'score': 0.999995964909624}   \n",
       "1877             0.036184  {'language': 'sv', 'score': 0.9999950014385031}   \n",
       "1879             0.036538  {'language': 'sv', 'score': 0.9999978548784483}   \n",
       "1922             0.057389  {'language': 'sv', 'score': 0.9999981899856218}   \n",
       "\n",
       "     lang  \n",
       "1890   sv  \n",
       "1880   sv  \n",
       "1877   sv  \n",
       "1879   sv  \n",
       "1922   sv  "
      ]
     },
     "execution_count": 67,
     "metadata": {},
     "output_type": "execute_result"
    }
   ],
   "source": [
    "# Note that all 59 of these lyrics are Swedish\n",
    "# Only a sample shown below\n",
    "lyricsdf[lyricsdf.lang == \"sv\"].sample(5)"
   ]
  },
  {
   "cell_type": "markdown",
   "metadata": {},
   "source": [
    "For the analysis, I will remove those languages which I know are entirely non-English lyrics, including Swedish ('sv') and Japanese ('ja').  The other languages identified are not so definitively English or non-English, so I will leave them in the dataset for analysis.  Given that there were 59 Swedish songs identified, it seems worthwhile to remove them.\n",
    "\n",
    "If it seems as if the non-English data may be confounding the analysis, the songs identified as English ('en') appear to be identified as such reliably and can be used for a smaller analysis.  However, I would like to avoid doing this, since many of the stranger, non-sense lyrics that could characterize outsider music have been identified as non-English."
   ]
  },
  {
   "cell_type": "code",
   "execution_count": 68,
   "metadata": {},
   "outputs": [
    {
     "data": {
      "text/html": [
       "<div>\n",
       "<style scoped>\n",
       "    .dataframe tbody tr th:only-of-type {\n",
       "        vertical-align: middle;\n",
       "    }\n",
       "\n",
       "    .dataframe tbody tr th {\n",
       "        vertical-align: top;\n",
       "    }\n",
       "\n",
       "    .dataframe thead th {\n",
       "        text-align: right;\n",
       "    }\n",
       "</style>\n",
       "<table border=\"1\" class=\"dataframe\">\n",
       "  <thead>\n",
       "    <tr style=\"text-align: right;\">\n",
       "      <th></th>\n",
       "      <th>artist</th>\n",
       "      <th>title</th>\n",
       "      <th>lyrics</th>\n",
       "      <th>lyrics_lines</th>\n",
       "      <th>eng_chars_only</th>\n",
       "      <th>percent_non_english</th>\n",
       "      <th>lang_detect</th>\n",
       "      <th>lang</th>\n",
       "    </tr>\n",
       "  </thead>\n",
       "  <tbody>\n",
       "    <tr>\n",
       "      <td>1653</td>\n",
       "      <td>John Maus</td>\n",
       "      <td>Navy Seals</td>\n",
       "      <td></td>\n",
       "      <td></td>\n",
       "      <td>True</td>\n",
       "      <td>NaN</td>\n",
       "      <td>{'language': 'UNKNOWN', 'score': 0.0}</td>\n",
       "      <td>UNKNOWN</td>\n",
       "    </tr>\n",
       "    <tr>\n",
       "      <td>828</td>\n",
       "      <td>Gary Wilson</td>\n",
       "      <td>Music for Piano</td>\n",
       "      <td></td>\n",
       "      <td></td>\n",
       "      <td>True</td>\n",
       "      <td>NaN</td>\n",
       "      <td>{'language': 'UNKNOWN', 'score': 0.0}</td>\n",
       "      <td>UNKNOWN</td>\n",
       "    </tr>\n",
       "    <tr>\n",
       "      <td>1030</td>\n",
       "      <td>Jandek</td>\n",
       "      <td>Basic Themes</td>\n",
       "      <td></td>\n",
       "      <td></td>\n",
       "      <td>True</td>\n",
       "      <td>NaN</td>\n",
       "      <td>{'language': 'UNKNOWN', 'score': 0.0}</td>\n",
       "      <td>UNKNOWN</td>\n",
       "    </tr>\n",
       "    <tr>\n",
       "      <td>990</td>\n",
       "      <td>Jad Fair</td>\n",
       "      <td>Back</td>\n",
       "      <td></td>\n",
       "      <td></td>\n",
       "      <td>True</td>\n",
       "      <td>NaN</td>\n",
       "      <td>{'language': 'UNKNOWN', 'score': 0.0}</td>\n",
       "      <td>UNKNOWN</td>\n",
       "    </tr>\n",
       "    <tr>\n",
       "      <td>1834</td>\n",
       "      <td>Moondog</td>\n",
       "      <td>Suit No.1</td>\n",
       "      <td></td>\n",
       "      <td></td>\n",
       "      <td>True</td>\n",
       "      <td>NaN</td>\n",
       "      <td>{'language': 'UNKNOWN', 'score': 0.0}</td>\n",
       "      <td>UNKNOWN</td>\n",
       "    </tr>\n",
       "  </tbody>\n",
       "</table>\n",
       "</div>"
      ],
      "text/plain": [
       "           artist            title lyrics lyrics_lines  eng_chars_only  \\\n",
       "1653    John Maus       Navy Seals                                True   \n",
       "828   Gary Wilson  Music for Piano                                True   \n",
       "1030       Jandek     Basic Themes                                True   \n",
       "990      Jad Fair             Back                                True   \n",
       "1834      Moondog        Suit No.1                                True   \n",
       "\n",
       "      percent_non_english                            lang_detect     lang  \n",
       "1653                  NaN  {'language': 'UNKNOWN', 'score': 0.0}  UNKNOWN  \n",
       "828                   NaN  {'language': 'UNKNOWN', 'score': 0.0}  UNKNOWN  \n",
       "1030                  NaN  {'language': 'UNKNOWN', 'score': 0.0}  UNKNOWN  \n",
       "990                   NaN  {'language': 'UNKNOWN', 'score': 0.0}  UNKNOWN  \n",
       "1834                  NaN  {'language': 'UNKNOWN', 'score': 0.0}  UNKNOWN  "
      ]
     },
     "execution_count": 68,
     "metadata": {},
     "output_type": "execute_result"
    }
   ],
   "source": [
    "# And UNKNOWN language is just the empty string lyrics!\n",
    "lyricsdf[lyricsdf.lang == \"UNKNOWN\"].sample(5)"
   ]
  },
  {
   "cell_type": "code",
   "execution_count": 69,
   "metadata": {},
   "outputs": [],
   "source": [
    "# save the data into a different data frame\n",
    "lyricsdf_orig = lyricsdf\n",
    "# update the lyricsdf to remove Swedish, Japanese, and empty strings\n",
    "lyricsdf = lyricsdf[~lyricsdf.lang.isin(['sv', 'ja', 'UNKNOWN'])]"
   ]
  },
  {
   "cell_type": "markdown",
   "metadata": {},
   "source": [
    "## Beginning Analysis\n",
    "The lyrics need to be tokenized so that they can be analyzed at the word-level."
   ]
  },
  {
   "cell_type": "code",
   "execution_count": 70,
   "metadata": {},
   "outputs": [
    {
     "name": "stderr",
     "output_type": "stream",
     "text": [
      "C:\\Users\\Emma\\Anaconda3\\lib\\site-packages\\ipykernel_launcher.py:2: SettingWithCopyWarning: \n",
      "A value is trying to be set on a copy of a slice from a DataFrame.\n",
      "Try using .loc[row_indexer,col_indexer] = value instead\n",
      "\n",
      "See the caveats in the documentation: http://pandas.pydata.org/pandas-docs/stable/user_guide/indexing.html#returning-a-view-versus-a-copy\n",
      "  \n",
      "C:\\Users\\Emma\\Anaconda3\\lib\\site-packages\\pandas\\core\\generic.py:5208: SettingWithCopyWarning: \n",
      "A value is trying to be set on a copy of a slice from a DataFrame.\n",
      "Try using .loc[row_indexer,col_indexer] = value instead\n",
      "\n",
      "See the caveats in the documentation: http://pandas.pydata.org/pandas-docs/stable/user_guide/indexing.html#returning-a-view-versus-a-copy\n",
      "  self[name] = value\n"
     ]
    },
    {
     "data": {
      "text/html": [
       "<div>\n",
       "<style scoped>\n",
       "    .dataframe tbody tr th:only-of-type {\n",
       "        vertical-align: middle;\n",
       "    }\n",
       "\n",
       "    .dataframe tbody tr th {\n",
       "        vertical-align: top;\n",
       "    }\n",
       "\n",
       "    .dataframe thead th {\n",
       "        text-align: right;\n",
       "    }\n",
       "</style>\n",
       "<table border=\"1\" class=\"dataframe\">\n",
       "  <thead>\n",
       "    <tr style=\"text-align: right;\">\n",
       "      <th></th>\n",
       "      <th>artist</th>\n",
       "      <th>title</th>\n",
       "      <th>lyrics</th>\n",
       "      <th>lyrics_lines</th>\n",
       "      <th>eng_chars_only</th>\n",
       "      <th>percent_non_english</th>\n",
       "      <th>lang_detect</th>\n",
       "      <th>lang</th>\n",
       "      <th>tokens</th>\n",
       "    </tr>\n",
       "  </thead>\n",
       "  <tbody>\n",
       "    <tr>\n",
       "      <td>0</td>\n",
       "      <td>Abner Jay</td>\n",
       "      <td>Bring It When You Come</td>\n",
       "      <td>Terrible things, always happening Just like ye...</td>\n",
       "      <td>Terrible things, always happening\\nJust like y...</td>\n",
       "      <td>True</td>\n",
       "      <td>0.009918</td>\n",
       "      <td>{'language': 'en', 'score': 0.9999976141175171}</td>\n",
       "      <td>en</td>\n",
       "      <td>[terrible, things, ,, always, happening, just,...</td>\n",
       "    </tr>\n",
       "    <tr>\n",
       "      <td>1</td>\n",
       "      <td>Abner Jay</td>\n",
       "      <td>Cocaine</td>\n",
       "      <td>Folk music is high-class music. There’s a lott...</td>\n",
       "      <td>Folk music is high-class music. There’s a lott...</td>\n",
       "      <td>True</td>\n",
       "      <td>0.023657</td>\n",
       "      <td>{'language': 'en', 'score': 0.9999977834377968}</td>\n",
       "      <td>en</td>\n",
       "      <td>[folk, music, is, high-class, music, ., there,...</td>\n",
       "    </tr>\n",
       "    <tr>\n",
       "      <td>2</td>\n",
       "      <td>Abner Jay</td>\n",
       "      <td>Cocaine Blues</td>\n",
       "      <td>Cocaine, Cocaine Running round my heart And th...</td>\n",
       "      <td>Cocaine, Cocaine\\nRunning round my heart\\nAnd ...</td>\n",
       "      <td>True</td>\n",
       "      <td>0.016551</td>\n",
       "      <td>{'language': 'en', 'score': 0.9999955609542157}</td>\n",
       "      <td>en</td>\n",
       "      <td>[cocaine, ,, cocaine, running, round, my, hear...</td>\n",
       "    </tr>\n",
       "    <tr>\n",
       "      <td>3</td>\n",
       "      <td>Abner Jay</td>\n",
       "      <td>Don’t Mess with Me Baby</td>\n",
       "      <td>Terrible things; that’s what’s getting all the...</td>\n",
       "      <td>Terrible things; that’s what’s getting all the...</td>\n",
       "      <td>True</td>\n",
       "      <td>0.010326</td>\n",
       "      <td>{'language': 'en', 'score': 0.9999954255517557}</td>\n",
       "      <td>en</td>\n",
       "      <td>[terrible, things, ;, that, ’, s, what, ’, s, ...</td>\n",
       "    </tr>\n",
       "    <tr>\n",
       "      <td>4</td>\n",
       "      <td>Abner Jay</td>\n",
       "      <td>I cried</td>\n",
       "      <td>I, I cried I cried in the ni-ight Oh please co...</td>\n",
       "      <td>I, I cried\\nI cried in the ni-ight\\nOh please ...</td>\n",
       "      <td>True</td>\n",
       "      <td>0.004902</td>\n",
       "      <td>{'language': 'en', 'score': 0.9999975986146884}</td>\n",
       "      <td>en</td>\n",
       "      <td>[i, ,, i, cried, i, cried, in, the, ni-ight, o...</td>\n",
       "    </tr>\n",
       "  </tbody>\n",
       "</table>\n",
       "</div>"
      ],
      "text/plain": [
       "      artist                    title  \\\n",
       "0  Abner Jay   Bring It When You Come   \n",
       "1  Abner Jay                  Cocaine   \n",
       "2  Abner Jay            Cocaine Blues   \n",
       "3  Abner Jay  Don’t Mess with Me Baby   \n",
       "4  Abner Jay                  I cried   \n",
       "\n",
       "                                              lyrics  \\\n",
       "0  Terrible things, always happening Just like ye...   \n",
       "1  Folk music is high-class music. There’s a lott...   \n",
       "2  Cocaine, Cocaine Running round my heart And th...   \n",
       "3  Terrible things; that’s what’s getting all the...   \n",
       "4  I, I cried I cried in the ni-ight Oh please co...   \n",
       "\n",
       "                                        lyrics_lines  eng_chars_only  \\\n",
       "0  Terrible things, always happening\\nJust like y...            True   \n",
       "1  Folk music is high-class music. There’s a lott...            True   \n",
       "2  Cocaine, Cocaine\\nRunning round my heart\\nAnd ...            True   \n",
       "3  Terrible things; that’s what’s getting all the...            True   \n",
       "4  I, I cried\\nI cried in the ni-ight\\nOh please ...            True   \n",
       "\n",
       "   percent_non_english                                      lang_detect lang  \\\n",
       "0             0.009918  {'language': 'en', 'score': 0.9999976141175171}   en   \n",
       "1             0.023657  {'language': 'en', 'score': 0.9999977834377968}   en   \n",
       "2             0.016551  {'language': 'en', 'score': 0.9999955609542157}   en   \n",
       "3             0.010326  {'language': 'en', 'score': 0.9999954255517557}   en   \n",
       "4             0.004902  {'language': 'en', 'score': 0.9999975986146884}   en   \n",
       "\n",
       "                                              tokens  \n",
       "0  [terrible, things, ,, always, happening, just,...  \n",
       "1  [folk, music, is, high-class, music, ., there,...  \n",
       "2  [cocaine, ,, cocaine, running, round, my, hear...  \n",
       "3  [terrible, things, ;, that, ’, s, what, ’, s, ...  \n",
       "4  [i, ,, i, cried, i, cried, in, the, ni-ight, o...  "
      ]
     },
     "execution_count": 70,
     "metadata": {},
     "output_type": "execute_result"
    }
   ],
   "source": [
    "# tokenize, then lowercase tokens\n",
    "lyricsdf[\"tokens\"] = lyricsdf.lyrics.map(lambda x: nltk.word_tokenize(x))\n",
    "lyricsdf.tokens = lyricsdf.tokens.map(lambda x: [word.lower() for word in x])\n",
    "lyricsdf.head()"
   ]
  },
  {
   "cell_type": "code",
   "execution_count": 71,
   "metadata": {},
   "outputs": [
    {
     "name": "stderr",
     "output_type": "stream",
     "text": [
      "C:\\Users\\Emma\\Anaconda3\\lib\\site-packages\\ipykernel_launcher.py:1: SettingWithCopyWarning: \n",
      "A value is trying to be set on a copy of a slice from a DataFrame.\n",
      "Try using .loc[row_indexer,col_indexer] = value instead\n",
      "\n",
      "See the caveats in the documentation: http://pandas.pydata.org/pandas-docs/stable/user_guide/indexing.html#returning-a-view-versus-a-copy\n",
      "  \"\"\"Entry point for launching an IPython kernel.\n",
      "C:\\Users\\Emma\\Anaconda3\\lib\\site-packages\\ipykernel_launcher.py:2: SettingWithCopyWarning: \n",
      "A value is trying to be set on a copy of a slice from a DataFrame.\n",
      "Try using .loc[row_indexer,col_indexer] = value instead\n",
      "\n",
      "See the caveats in the documentation: http://pandas.pydata.org/pandas-docs/stable/user_guide/indexing.html#returning-a-view-versus-a-copy\n",
      "  \n",
      "C:\\Users\\Emma\\Anaconda3\\lib\\site-packages\\ipykernel_launcher.py:3: SettingWithCopyWarning: \n",
      "A value is trying to be set on a copy of a slice from a DataFrame.\n",
      "Try using .loc[row_indexer,col_indexer] = value instead\n",
      "\n",
      "See the caveats in the documentation: http://pandas.pydata.org/pandas-docs/stable/user_guide/indexing.html#returning-a-view-versus-a-copy\n",
      "  This is separate from the ipykernel package so we can avoid doing imports until\n"
     ]
    },
    {
     "data": {
      "text/html": [
       "<div>\n",
       "<style scoped>\n",
       "    .dataframe tbody tr th:only-of-type {\n",
       "        vertical-align: middle;\n",
       "    }\n",
       "\n",
       "    .dataframe tbody tr th {\n",
       "        vertical-align: top;\n",
       "    }\n",
       "\n",
       "    .dataframe thead th {\n",
       "        text-align: right;\n",
       "    }\n",
       "</style>\n",
       "<table border=\"1\" class=\"dataframe\">\n",
       "  <thead>\n",
       "    <tr style=\"text-align: right;\">\n",
       "      <th></th>\n",
       "      <th>artist</th>\n",
       "      <th>title</th>\n",
       "      <th>lyrics</th>\n",
       "      <th>lyrics_lines</th>\n",
       "      <th>eng_chars_only</th>\n",
       "      <th>percent_non_english</th>\n",
       "      <th>lang_detect</th>\n",
       "      <th>lang</th>\n",
       "      <th>tokens</th>\n",
       "      <th>token_ct</th>\n",
       "      <th>type_ct</th>\n",
       "      <th>TTR</th>\n",
       "    </tr>\n",
       "  </thead>\n",
       "  <tbody>\n",
       "    <tr>\n",
       "      <td>0</td>\n",
       "      <td>Abner Jay</td>\n",
       "      <td>Bring It When You Come</td>\n",
       "      <td>Terrible things, always happening Just like ye...</td>\n",
       "      <td>Terrible things, always happening\\nJust like y...</td>\n",
       "      <td>True</td>\n",
       "      <td>0.009918</td>\n",
       "      <td>{'language': 'en', 'score': 0.9999976141175171}</td>\n",
       "      <td>en</td>\n",
       "      <td>[terrible, things, ,, always, happening, just,...</td>\n",
       "      <td>429</td>\n",
       "      <td>143</td>\n",
       "      <td>0.333333</td>\n",
       "    </tr>\n",
       "    <tr>\n",
       "      <td>1</td>\n",
       "      <td>Abner Jay</td>\n",
       "      <td>Cocaine</td>\n",
       "      <td>Folk music is high-class music. There’s a lott...</td>\n",
       "      <td>Folk music is high-class music. There’s a lott...</td>\n",
       "      <td>True</td>\n",
       "      <td>0.023657</td>\n",
       "      <td>{'language': 'en', 'score': 0.9999977834377968}</td>\n",
       "      <td>en</td>\n",
       "      <td>[folk, music, is, high-class, music, ., there,...</td>\n",
       "      <td>501</td>\n",
       "      <td>195</td>\n",
       "      <td>0.389222</td>\n",
       "    </tr>\n",
       "    <tr>\n",
       "      <td>2</td>\n",
       "      <td>Abner Jay</td>\n",
       "      <td>Cocaine Blues</td>\n",
       "      <td>Cocaine, Cocaine Running round my heart And th...</td>\n",
       "      <td>Cocaine, Cocaine\\nRunning round my heart\\nAnd ...</td>\n",
       "      <td>True</td>\n",
       "      <td>0.016551</td>\n",
       "      <td>{'language': 'en', 'score': 0.9999955609542157}</td>\n",
       "      <td>en</td>\n",
       "      <td>[cocaine, ,, cocaine, running, round, my, hear...</td>\n",
       "      <td>443</td>\n",
       "      <td>169</td>\n",
       "      <td>0.381490</td>\n",
       "    </tr>\n",
       "    <tr>\n",
       "      <td>3</td>\n",
       "      <td>Abner Jay</td>\n",
       "      <td>Don’t Mess with Me Baby</td>\n",
       "      <td>Terrible things; that’s what’s getting all the...</td>\n",
       "      <td>Terrible things; that’s what’s getting all the...</td>\n",
       "      <td>True</td>\n",
       "      <td>0.010326</td>\n",
       "      <td>{'language': 'en', 'score': 0.9999954255517557}</td>\n",
       "      <td>en</td>\n",
       "      <td>[terrible, things, ;, that, ’, s, what, ’, s, ...</td>\n",
       "      <td>733</td>\n",
       "      <td>265</td>\n",
       "      <td>0.361528</td>\n",
       "    </tr>\n",
       "    <tr>\n",
       "      <td>4</td>\n",
       "      <td>Abner Jay</td>\n",
       "      <td>I cried</td>\n",
       "      <td>I, I cried I cried in the ni-ight Oh please co...</td>\n",
       "      <td>I, I cried\\nI cried in the ni-ight\\nOh please ...</td>\n",
       "      <td>True</td>\n",
       "      <td>0.004902</td>\n",
       "      <td>{'language': 'en', 'score': 0.9999975986146884}</td>\n",
       "      <td>en</td>\n",
       "      <td>[i, ,, i, cried, i, cried, in, the, ni-ight, o...</td>\n",
       "      <td>152</td>\n",
       "      <td>51</td>\n",
       "      <td>0.335526</td>\n",
       "    </tr>\n",
       "  </tbody>\n",
       "</table>\n",
       "</div>"
      ],
      "text/plain": [
       "      artist                    title  \\\n",
       "0  Abner Jay   Bring It When You Come   \n",
       "1  Abner Jay                  Cocaine   \n",
       "2  Abner Jay            Cocaine Blues   \n",
       "3  Abner Jay  Don’t Mess with Me Baby   \n",
       "4  Abner Jay                  I cried   \n",
       "\n",
       "                                              lyrics  \\\n",
       "0  Terrible things, always happening Just like ye...   \n",
       "1  Folk music is high-class music. There’s a lott...   \n",
       "2  Cocaine, Cocaine Running round my heart And th...   \n",
       "3  Terrible things; that’s what’s getting all the...   \n",
       "4  I, I cried I cried in the ni-ight Oh please co...   \n",
       "\n",
       "                                        lyrics_lines  eng_chars_only  \\\n",
       "0  Terrible things, always happening\\nJust like y...            True   \n",
       "1  Folk music is high-class music. There’s a lott...            True   \n",
       "2  Cocaine, Cocaine\\nRunning round my heart\\nAnd ...            True   \n",
       "3  Terrible things; that’s what’s getting all the...            True   \n",
       "4  I, I cried\\nI cried in the ni-ight\\nOh please ...            True   \n",
       "\n",
       "   percent_non_english                                      lang_detect lang  \\\n",
       "0             0.009918  {'language': 'en', 'score': 0.9999976141175171}   en   \n",
       "1             0.023657  {'language': 'en', 'score': 0.9999977834377968}   en   \n",
       "2             0.016551  {'language': 'en', 'score': 0.9999955609542157}   en   \n",
       "3             0.010326  {'language': 'en', 'score': 0.9999954255517557}   en   \n",
       "4             0.004902  {'language': 'en', 'score': 0.9999975986146884}   en   \n",
       "\n",
       "                                              tokens  token_ct  type_ct  \\\n",
       "0  [terrible, things, ,, always, happening, just,...       429      143   \n",
       "1  [folk, music, is, high-class, music, ., there,...       501      195   \n",
       "2  [cocaine, ,, cocaine, running, round, my, hear...       443      169   \n",
       "3  [terrible, things, ;, that, ’, s, what, ’, s, ...       733      265   \n",
       "4  [i, ,, i, cried, i, cried, in, the, ni-ight, o...       152       51   \n",
       "\n",
       "        TTR  \n",
       "0  0.333333  \n",
       "1  0.389222  \n",
       "2  0.381490  \n",
       "3  0.361528  \n",
       "4  0.335526  "
      ]
     },
     "execution_count": 71,
     "metadata": {},
     "output_type": "execute_result"
    }
   ],
   "source": [
    "lyricsdf[\"token_ct\"] = lyricsdf.tokens.map(len)\n",
    "lyricsdf[\"type_ct\"] = lyricsdf.tokens.map(lambda x: len(set(x)))\n",
    "lyricsdf[\"TTR\"] = lyricsdf.type_ct / lyricsdf.token_ct\n",
    "lyricsdf.head()"
   ]
  },
  {
   "cell_type": "code",
   "execution_count": 72,
   "metadata": {},
   "outputs": [
    {
     "data": {
      "text/plain": [
       "count    3101.000000\n",
       "mean      215.192519\n",
       "std       162.051047\n",
       "min         1.000000\n",
       "25%       119.000000\n",
       "50%       173.000000\n",
       "75%       267.000000\n",
       "max      2155.000000\n",
       "Name: token_ct, dtype: float64"
      ]
     },
     "execution_count": 72,
     "metadata": {},
     "output_type": "execute_result"
    }
   ],
   "source": [
    "lyricsdf.token_ct.describe()"
   ]
  },
  {
   "cell_type": "code",
   "execution_count": 73,
   "metadata": {},
   "outputs": [
    {
     "data": {
      "image/png": "[encoded data removed]",
      "text/plain": [
       "<Figure size 432x288 with 1 Axes>"
      ]
     },
     "metadata": {
      "needs_background": "light"
     },
     "output_type": "display_data"
    }
   ],
   "source": [
    "# Let's take a quick look at the token_ct distribution\n",
    "# NOTE: This still includes non-English data\n",
    "lyricsdf.token_ct.plot(kind = \"box\", rot=0, title = \"Outsider Music Token Count Distribution\")\n",
    "plt.savefig('../images/outsider_token_count_dist.png')"
   ]
  },
  {
   "cell_type": "markdown",
   "metadata": {},
   "source": [
    "There are some lyrics with around 2,000 tokens!  This seems unusual.  Let's investigate... could this be a tokenization issue?  Note that, on average, most songs are about 200 tokens long, which seems a bit more reasonable."
   ]
  },
  {
   "cell_type": "code",
   "execution_count": 74,
   "metadata": {},
   "outputs": [
    {
     "data": {
      "text/html": [
       "<div>\n",
       "<style scoped>\n",
       "    .dataframe tbody tr th:only-of-type {\n",
       "        vertical-align: middle;\n",
       "    }\n",
       "\n",
       "    .dataframe tbody tr th {\n",
       "        vertical-align: top;\n",
       "    }\n",
       "\n",
       "    .dataframe thead th {\n",
       "        text-align: right;\n",
       "    }\n",
       "</style>\n",
       "<table border=\"1\" class=\"dataframe\">\n",
       "  <thead>\n",
       "    <tr style=\"text-align: right;\">\n",
       "      <th></th>\n",
       "      <th>artist</th>\n",
       "      <th>title</th>\n",
       "      <th>lyrics</th>\n",
       "      <th>lyrics_lines</th>\n",
       "      <th>eng_chars_only</th>\n",
       "      <th>percent_non_english</th>\n",
       "      <th>lang_detect</th>\n",
       "      <th>lang</th>\n",
       "      <th>tokens</th>\n",
       "      <th>token_ct</th>\n",
       "      <th>type_ct</th>\n",
       "      <th>TTR</th>\n",
       "    </tr>\n",
       "  </thead>\n",
       "  <tbody>\n",
       "    <tr>\n",
       "      <td>1242</td>\n",
       "      <td>Jandek</td>\n",
       "      <td>One Last Chance</td>\n",
       "      <td>I need another chance I need one last chance I...</td>\n",
       "      <td>I need another chance\\nI need one last chance\\...</td>\n",
       "      <td>True</td>\n",
       "      <td>0.012782</td>\n",
       "      <td>{'language': 'en', 'score': 0.9999965739530454}</td>\n",
       "      <td>en</td>\n",
       "      <td>[i, need, another, chance, i, need, one, last,...</td>\n",
       "      <td>2155</td>\n",
       "      <td>325</td>\n",
       "      <td>0.150812</td>\n",
       "    </tr>\n",
       "  </tbody>\n",
       "</table>\n",
       "</div>"
      ],
      "text/plain": [
       "      artist            title  \\\n",
       "1242  Jandek  One Last Chance   \n",
       "\n",
       "                                                 lyrics  \\\n",
       "1242  I need another chance I need one last chance I...   \n",
       "\n",
       "                                           lyrics_lines  eng_chars_only  \\\n",
       "1242  I need another chance\\nI need one last chance\\...            True   \n",
       "\n",
       "      percent_non_english                                      lang_detect  \\\n",
       "1242             0.012782  {'language': 'en', 'score': 0.9999965739530454}   \n",
       "\n",
       "     lang                                             tokens  token_ct  \\\n",
       "1242   en  [i, need, another, chance, i, need, one, last,...      2155   \n",
       "\n",
       "      type_ct       TTR  \n",
       "1242      325  0.150812  "
      ]
     },
     "execution_count": 74,
     "metadata": {},
     "output_type": "execute_result"
    }
   ],
   "source": [
    "lyricsdf[lyricsdf.token_ct >= 2000]"
   ]
  },
  {
   "cell_type": "code",
   "execution_count": 75,
   "metadata": {},
   "outputs": [
    {
     "data": {
      "text/plain": [
       "'I need another chance I need one last chance I’ve looked at myself I don’t like what I see I need another chance To try to do it right I can do it right If I have the strength If I keep my will If I direct my body I can do it right I need another chance Because I looked at myself And I’m goin wrong But I can do it right You can show me how Like you did before When I really needed to do it right I was in a fix before I was really in trouble It was sharp and quick It took me by surprise And you helped me then It was a matter of time But this time it’s different It’s been a growing thing It wasn’t sharp and quick No no no no It didn’t take me by surprise It came along slow and soft It crept and I saw it all along the way It came on bit by bit And I knew it all along The only difference is now It’s gone too far It’s gone too far It almost seems irreversible I need another chance I wanna do it right Cause when I looked at myself It was going all wrong I’ve got to change my style I’ve got to do something different I’ve got to be in my world I’ve got to see what I see I’ve got to hear what I hear I’ve got to move through time With me on my mind You can forget the rest Because if I think about it I’m gonna lose myself And it’ll be too late Don’t let it be too late now Don’t let it be too late now I need another chance Cause it’s gone too far I hope it’s not irreversible Let me stem the tide Let me reverse this thing Let me put my hand up and say \"Stop\" Even \"Turn around, go back where you came\" Give me another chance Because I can do it right I can do it right I’ve got to do it right Because if I don’t I’m gone I’m real gone And I don’t want to lose All of my control I wanna be the driver The one ridin’ in the trunk With the rope around my feet and my hand And a gag in my mouth Don’t wanna be kidnapped by What? Who? Where? I wanna move through time With me on my mind I wanna be the driver I wanna say to my selves \"Move like you should, assemble yourselves And do right for this body, this mind This soul, this spirit, this being\" I wanna live right I wanna live so right I don’t wanna go wrong And I see myself goin wrong So I’ve got to stop I’ve got to summon my powers I’ve got to drop off all the dead and dying I got to cauterize my wounds I got to stem the tide of the bad I got to say \"Stop, turn around Go back to from where you came\" I wanna be right, you bad go back Go back to from where you came Bad bad, go back, bad bad, go back I wanna be right I wanna be right I wanna control my body my soul my mind my spirit I wanna be in charge I wanna say it’s like this I wanna say it’s like that I don’t wanna be told Don’t wanna be told \"You gotta be like that You gotta be like this\" Cause it don’t help none I know why I know where I know how I know when I wanna be I know what I wanna be I know how I wanna be I know when I wanna be I know where I wanna be I wanna be right in my own mind If I can’t be right I’m gonna be gone I don’t wanna be gone I just wanna be, me, here, now Give me another chance Give one more chance And let me do right Once and for all All time eternally I wanna be right eternally I don’t have to be alone I can be alone I don’t have to be alone But I can be alone But I don’t have to be alone It doesn’t matter Right is right It comes from outside, not from the outside I wanna be right from the inside out I want you to see I want them to see I want to be right for everyone to see I wanna be right For me, for you, for them, for the elements For space, for time Please give me another chance Don’t let it be gone Don’t it be the end of being right I saw myself right I let it go, give it back Give me another chance, give it back I let it go, give it back Give me another chance I wanna live right I wanna live right I wanna be in charge of my life My death, my eternity I wanna be right And I’ll do anything I gotta summon my powers I gotta be myself I gotta have my will I gotta be myself I gotta get my strength I gotta conquer these foes I gotta beat up on bad I gotta elevate the good It’s so easy to see Bad and good, I can see I can see what’s bad and good I can look I can tell I can judge I can point my finger And say \"That’s bad, that’s good\" And deep inside I know I can’t be wrong If I’m right, give me another chance I wanna be right I wanna be right I wanna be right Give me another chance Give me another chance Give me another chance Cause I looked at myself And I saw bad I looked at myself and I said \"Oh, is it too late?\" Is it too late? Oh, please don’t let it be too late Don’t let it be too late Help me reverse this trend Help me stem this tide Help me put my hand down and say \"Stop, turn around Go back to from where you came\" Let me take the good Let me put it in myself Let me digest the good Let me emanate the good Let me be in control Don’t let this sickness take me over Don’t let these things get me down Don’t let these things take effect Don’t let em change me And I don’t mind if I change But let it be good Let me change to the good Every time I change Every second I move Every time I turn around Kill the bad, kill em Kill the bad Kill the bad Generate the good in me Kill the bad things I got inside me Let them die They don’t deserve, let em die Just kill em It ain’t like killin’ no It’s annihilation, extermination Elimination elimination Eliminate the bad Cast the bad Eliminate the bad I want to be good I wanna be right There’s only one judge of that I know I wanna be right I gotta see myself right I got to see myself If I’m not right, why not? Cause I did bad Yeah, I did bad And I’ll tell you this Bad is different for everyone that is different And that’s everyone and everything So your bad’s not my bad But I got bad and you bad Unless I don’t know you like I know me But I know me, and I got bad, and I got wrong And I don’t like it And I want to eliminate it I want it gone before I’m gone I want bad to be gone before I’m gone I don’t want to be gone I want bad to be gone so I can be I don’t be right I wanna be right Give me another chance Give me another chance I won’t let you down, not this time Three strikes and you’re out And I had one And I hit a home run But I stopped after first base And hey, they They pushed me, they They pushed and pulled But they couldn’t pull me any farther than that Must of been fear I think it was fear Cause I had it made I had the whole home run But I missed it Second time up I hardly even swung I didn’t even try I quit trying I knew what I should be doin Every once in a while I’d touch my little toe in the water But I never did jump in I never did dive in to that water And that’s what I know I gotta do now Cause if I don’t do it now I’m gone Because wrong is at the point It’s at the point of smothering me Smoldering me, drowning me Putting me out And I need to burn my flame I need to ignite I need to spark I need to beam I need to shine my light Give me another chance to shine my light I don’t want to go down I don’t have to go down Not if I got some will And I got some power And I got some strength And I got some control And I’m the driver And I’m in charge I can do it I can do it Hey, I got to do it If I don’t do it, I’m done It’s either do or be done I’m not over yet I’m not over I’m never gonna be over I’m never gonna end I shall not end I’m not gonna be gone I’m gonna be forever Eternally I shall be And I’m not saying That I always was I’m saying I shall always be And I make this decision now I shall be I want to do right And there is no eye in this universe That can tell me What right is, because I know what right is And I know what wrong is By this time I know Give me another chance Give me another chance I surely need your help I surely need your help To conquer death To conquer evil To conquer bad I wanna be in charge I wanna control my destiny I wanna live up to my standards I know it can be done It came sharp and quick And you helped me And I conquered all Now it’s come slow and soft And I need your help For the last time Cause if it’s not this time I believe it’s never And I can’t face that I don’t have to face that I demand your assistance It only takes one word And that word is yes Give me your yes And I’ll give you mine I gave you mine I forgot it, and I’m sorry But you hit me hard'"
      ]
     },
     "execution_count": 75,
     "metadata": {},
     "output_type": "execute_result"
    }
   ],
   "source": [
    "lyricsdf.loc[1242].lyrics"
   ]
  },
  {
   "cell_type": "markdown",
   "metadata": {},
   "source": [
    "This is actually pretty long.  (It's a 30-minute video on [YouTube](https://www.youtube.com/watch?v=nbn1Ei7Jfkc)!"
   ]
  },
  {
   "cell_type": "code",
   "execution_count": 76,
   "metadata": {},
   "outputs": [
    {
     "data": {
      "text/html": [
       "<div>\n",
       "<style scoped>\n",
       "    .dataframe tbody tr th:only-of-type {\n",
       "        vertical-align: middle;\n",
       "    }\n",
       "\n",
       "    .dataframe tbody tr th {\n",
       "        vertical-align: top;\n",
       "    }\n",
       "\n",
       "    .dataframe thead th {\n",
       "        text-align: right;\n",
       "    }\n",
       "</style>\n",
       "<table border=\"1\" class=\"dataframe\">\n",
       "  <thead>\n",
       "    <tr style=\"text-align: right;\">\n",
       "      <th></th>\n",
       "      <th>percent_non_english</th>\n",
       "      <th>token_ct</th>\n",
       "      <th>type_ct</th>\n",
       "      <th>TTR</th>\n",
       "    </tr>\n",
       "  </thead>\n",
       "  <tbody>\n",
       "    <tr>\n",
       "      <td>count</td>\n",
       "      <td>3101.000000</td>\n",
       "      <td>3101.000000</td>\n",
       "      <td>3101.000000</td>\n",
       "      <td>3101.000000</td>\n",
       "    </tr>\n",
       "    <tr>\n",
       "      <td>mean</td>\n",
       "      <td>0.011579</td>\n",
       "      <td>215.192519</td>\n",
       "      <td>80.191551</td>\n",
       "      <td>0.426618</td>\n",
       "    </tr>\n",
       "    <tr>\n",
       "      <td>std</td>\n",
       "      <td>0.011018</td>\n",
       "      <td>162.051047</td>\n",
       "      <td>47.952807</td>\n",
       "      <td>0.154090</td>\n",
       "    </tr>\n",
       "    <tr>\n",
       "      <td>min</td>\n",
       "      <td>0.000000</td>\n",
       "      <td>1.000000</td>\n",
       "      <td>1.000000</td>\n",
       "      <td>0.033708</td>\n",
       "    </tr>\n",
       "    <tr>\n",
       "      <td>25%</td>\n",
       "      <td>0.004306</td>\n",
       "      <td>119.000000</td>\n",
       "      <td>50.000000</td>\n",
       "      <td>0.321063</td>\n",
       "    </tr>\n",
       "    <tr>\n",
       "      <td>50%</td>\n",
       "      <td>0.009615</td>\n",
       "      <td>173.000000</td>\n",
       "      <td>70.000000</td>\n",
       "      <td>0.412214</td>\n",
       "    </tr>\n",
       "    <tr>\n",
       "      <td>75%</td>\n",
       "      <td>0.016129</td>\n",
       "      <td>267.000000</td>\n",
       "      <td>99.000000</td>\n",
       "      <td>0.504950</td>\n",
       "    </tr>\n",
       "    <tr>\n",
       "      <td>max</td>\n",
       "      <td>0.159120</td>\n",
       "      <td>2155.000000</td>\n",
       "      <td>464.000000</td>\n",
       "      <td>1.000000</td>\n",
       "    </tr>\n",
       "  </tbody>\n",
       "</table>\n",
       "</div>"
      ],
      "text/plain": [
       "       percent_non_english     token_ct      type_ct          TTR\n",
       "count          3101.000000  3101.000000  3101.000000  3101.000000\n",
       "mean              0.011579   215.192519    80.191551     0.426618\n",
       "std               0.011018   162.051047    47.952807     0.154090\n",
       "min               0.000000     1.000000     1.000000     0.033708\n",
       "25%               0.004306   119.000000    50.000000     0.321063\n",
       "50%               0.009615   173.000000    70.000000     0.412214\n",
       "75%               0.016129   267.000000    99.000000     0.504950\n",
       "max               0.159120  2155.000000   464.000000     1.000000"
      ]
     },
     "execution_count": 76,
     "metadata": {},
     "output_type": "execute_result"
    }
   ],
   "source": [
    "lyricsdf.describe()"
   ]
  },
  {
   "cell_type": "code",
   "execution_count": 77,
   "metadata": {},
   "outputs": [
    {
     "data": {
      "text/plain": [
       "count              3101\n",
       "unique               62\n",
       "top       Wesley Willis\n",
       "freq                561\n",
       "Name: artist, dtype: object"
      ]
     },
     "execution_count": 77,
     "metadata": {},
     "output_type": "execute_result"
    }
   ],
   "source": [
    "lyricsdf.artist.describe()"
   ]
  },
  {
   "cell_type": "code",
   "execution_count": 78,
   "metadata": {},
   "outputs": [
    {
     "data": {
      "text/plain": [
       "Wesley Willis       561\n",
       "Jandek              339\n",
       "Daniel Johnston     313\n",
       "Viper               261\n",
       "Brian Wilson        223\n",
       "John Frusciante     177\n",
       "Ariel Pink          121\n",
       "R. Stevie Moore     102\n",
       "John Maus            93\n",
       "Syd Barrett          91\n",
       "Roky Erickson        80\n",
       "IceJJFish            57\n",
       "Gary Wilson          56\n",
       "Wild Man Fischer     54\n",
       "William Shatner      50\n",
       "Name: artist, dtype: int64"
      ]
     },
     "execution_count": 78,
     "metadata": {},
     "output_type": "execute_result"
    }
   ],
   "source": [
    "# 15 most frequent artists\n",
    "lyricsdf.artist.value_counts()[:15]"
   ]
  },
  {
   "cell_type": "code",
   "execution_count": 79,
   "metadata": {},
   "outputs": [
    {
     "data": {
      "text/plain": [
       "Legendary Stardust Cowboy    2\n",
       "Bobby Jameson                2\n",
       "Craig Smith                  2\n",
       "Leona Anderson               2\n",
       "David Cronenberg’s Wife      2\n",
       "Nervous Norvus               2\n",
       "Mrs. Miller                  1\n",
       "Lucia Pamela                 1\n",
       "Dr. Demento                  1\n",
       "Damião Experiença            1\n",
       "Paul Hawkins                 1\n",
       "Sky Saxon                    1\n",
       "Eilert pilarm                1\n",
       "Varg Vikernes                1\n",
       "Harry Partch                 1\n",
       "Name: artist, dtype: int64"
      ]
     },
     "execution_count": 79,
     "metadata": {},
     "output_type": "execute_result"
    }
   ],
   "source": [
    "# 15 least frequent artists\n",
    "lyricsdf.artist.value_counts()[-15:]"
   ]
  },
  {
   "cell_type": "code",
   "execution_count": 80,
   "metadata": {},
   "outputs": [],
   "source": [
    "artists_to_plot = lyricsdf.artist.value_counts()[:15]\n",
    "few_artist = lyricsdf.artist.value_counts()[15:]\n",
    "\n",
    "sum = 0\n",
    "for y in few_artist:\n",
    "    sum = sum +y\n",
    "artists_to_plot = artists_to_plot.append(pd.Series(sum))\n",
    "artists_to_plot.rename(index={0:'Other'},inplace=True)"
   ]
  },
  {
   "cell_type": "code",
   "execution_count": 83,
   "metadata": {},
   "outputs": [
    {
     "data": {
      "image/png": "[encoded data removed]",
      "text/plain": [
       "<Figure size 432x288 with 1 Axes>"
      ]
     },
     "metadata": {},
     "output_type": "display_data"
    }
   ],
   "source": [
    "# Only shows the top 15 artists, as well as 48 \"Other\" artists grouped together\n",
    "plt.pie(artists_to_plot, autopct='%1.1f%%', pctdistance = 1.2, labeldistance = 1.4)\n",
    "plt.legend(artists_to_plot.index, bbox_to_anchor=(-0.1, 1.),\n",
    "           fontsize=8)\n",
    "plt.title(\"Outsider Artist Distribution\")\n",
    "plt.savefig('../images/outsider_artist_dist_fig.png')\n",
    "plt.tight_layout()\n",
    "plt.show()\n"
   ]
  },
  {
   "cell_type": "code",
   "execution_count": 84,
   "metadata": {},
   "outputs": [
    {
     "data": {
      "text/plain": [
       "Wesley Willis       561\n",
       "Jandek              339\n",
       "Daniel Johnston     313\n",
       "Viper               261\n",
       "Brian Wilson        223\n",
       "John Frusciante     177\n",
       "Ariel Pink          121\n",
       "R. Stevie Moore     102\n",
       "John Maus            93\n",
       "Syd Barrett          91\n",
       "Roky Erickson        80\n",
       "IceJJFish            57\n",
       "Gary Wilson          56\n",
       "Wild Man Fischer     54\n",
       "William Shatner      50\n",
       "Other               523\n",
       "dtype: int64"
      ]
     },
     "execution_count": 84,
     "metadata": {},
     "output_type": "execute_result"
    }
   ],
   "source": [
    "artists_to_plot"
   ]
  },
  {
   "cell_type": "code",
   "execution_count": 85,
   "metadata": {},
   "outputs": [
    {
     "data": {
      "text/plain": [
       "count              3101\n",
       "unique               62\n",
       "top       Wesley Willis\n",
       "freq                561\n",
       "Name: artist, dtype: object"
      ]
     },
     "execution_count": 85,
     "metadata": {},
     "output_type": "execute_result"
    }
   ],
   "source": [
    "lyricsdf.artist.describe()"
   ]
  },
  {
   "cell_type": "code",
   "execution_count": 86,
   "metadata": {},
   "outputs": [
    {
     "data": {
      "text/plain": [
       "count                                                  3101\n",
       "unique                                                 3035\n",
       "top       Up You a dime, get up You fine, get up You a d...\n",
       "freq                                                      3\n",
       "Name: lyrics, dtype: object"
      ]
     },
     "execution_count": 86,
     "metadata": {},
     "output_type": "execute_result"
    }
   ],
   "source": [
    "lyricsdf.lyrics.describe()"
   ]
  },
  {
   "cell_type": "markdown",
   "metadata": {},
   "source": [
    "After cleaning up the data, Wesley Willis is still at the top of the artist-count list, followed by 7 artists with song volumes of the same magnitude (in the 100s).  Note that Willis has more representation in this dataset (18.1%) than 47 of the least frequent artists (16.9%).\n",
    "\n",
    "In total, there are 3,102 viable lyric entries left in the dataset after cleaning.  Of this, there are 62 unique artists, and 3,036 unique entries, indicating that there are potentially duplicate lyrics.  Let's investigate."
   ]
  },
  {
   "cell_type": "code",
   "execution_count": 87,
   "metadata": {},
   "outputs": [
    {
     "data": {
      "text/html": [
       "<div>\n",
       "<style scoped>\n",
       "    .dataframe tbody tr th:only-of-type {\n",
       "        vertical-align: middle;\n",
       "    }\n",
       "\n",
       "    .dataframe tbody tr th {\n",
       "        vertical-align: top;\n",
       "    }\n",
       "\n",
       "    .dataframe thead th {\n",
       "        text-align: right;\n",
       "    }\n",
       "</style>\n",
       "<table border=\"1\" class=\"dataframe\">\n",
       "  <thead>\n",
       "    <tr style=\"text-align: right;\">\n",
       "      <th></th>\n",
       "      <th>artist</th>\n",
       "      <th>title</th>\n",
       "      <th>lyrics</th>\n",
       "      <th>lyrics_lines</th>\n",
       "      <th>eng_chars_only</th>\n",
       "      <th>percent_non_english</th>\n",
       "      <th>lang_detect</th>\n",
       "      <th>lang</th>\n",
       "      <th>tokens</th>\n",
       "      <th>token_ct</th>\n",
       "      <th>type_ct</th>\n",
       "      <th>TTR</th>\n",
       "    </tr>\n",
       "  </thead>\n",
       "  <tbody>\n",
       "    <tr>\n",
       "      <td>177</td>\n",
       "      <td>Bobb Trimble</td>\n",
       "      <td>Premonitions Boy – The Reality</td>\n",
       "      <td>Premonitions are running wild ’cause you’re in...</td>\n",
       "      <td>Premonitions are running wild\\n’cause you’re i...</td>\n",
       "      <td>True</td>\n",
       "      <td>0.015862</td>\n",
       "      <td>{'language': 'en', 'score': 0.9999963375303627}</td>\n",
       "      <td>en</td>\n",
       "      <td>[premonitions, are, running, wild, ’, cause, y...</td>\n",
       "      <td>335</td>\n",
       "      <td>84</td>\n",
       "      <td>0.250746</td>\n",
       "    </tr>\n",
       "    <tr>\n",
       "      <td>178</td>\n",
       "      <td>Bobb Trimble</td>\n",
       "      <td>Premonitions – The Fantasy</td>\n",
       "      <td>Premonitions are running wild ’cause you’re in...</td>\n",
       "      <td>Premonitions are running wild\\n’cause you’re i...</td>\n",
       "      <td>True</td>\n",
       "      <td>0.015862</td>\n",
       "      <td>{'language': 'en', 'score': 0.9999965767578892}</td>\n",
       "      <td>en</td>\n",
       "      <td>[premonitions, are, running, wild, ’, cause, y...</td>\n",
       "      <td>335</td>\n",
       "      <td>84</td>\n",
       "      <td>0.250746</td>\n",
       "    </tr>\n",
       "    <tr>\n",
       "      <td>195</td>\n",
       "      <td>Brian Wilson</td>\n",
       "      <td>Barbara Ann</td>\n",
       "      <td>Ba ba ba ba Barbara Ann Ba ba ba ba Barbara An...</td>\n",
       "      <td>Ba ba ba ba Barbara Ann\\nBa ba ba ba Barbara A...</td>\n",
       "      <td>True</td>\n",
       "      <td>0.022901</td>\n",
       "      <td>{'language': 'id', 'score': 0.9999947518993313}</td>\n",
       "      <td>id</td>\n",
       "      <td>[ba, ba, ba, ba, barbara, ann, ba, ba, ba, ba,...</td>\n",
       "      <td>293</td>\n",
       "      <td>43</td>\n",
       "      <td>0.146758</td>\n",
       "    </tr>\n",
       "    <tr>\n",
       "      <td>196</td>\n",
       "      <td>Brian Wilson</td>\n",
       "      <td>Barbara Anne</td>\n",
       "      <td>Ba ba ba ba Barbara Ann Ba ba ba ba Barbara An...</td>\n",
       "      <td>Ba ba ba ba Barbara Ann\\nBa ba ba ba Barbara A...</td>\n",
       "      <td>True</td>\n",
       "      <td>0.022901</td>\n",
       "      <td>{'language': 'id', 'score': 0.9999927265960191}</td>\n",
       "      <td>id</td>\n",
       "      <td>[ba, ba, ba, ba, barbara, ann, ba, ba, ba, ba,...</td>\n",
       "      <td>293</td>\n",
       "      <td>43</td>\n",
       "      <td>0.146758</td>\n",
       "    </tr>\n",
       "    <tr>\n",
       "      <td>214</td>\n",
       "      <td>Brian Wilson</td>\n",
       "      <td>Cinco De Mayo</td>\n",
       "      <td>Down on Olivera Street, a Mexicano cry A grito...</td>\n",
       "      <td>Down on Olivera Street, a Mexicano cry\\nA grit...</td>\n",
       "      <td>True</td>\n",
       "      <td>0.005000</td>\n",
       "      <td>{'language': 'en', 'score': 0.9999946254613761}</td>\n",
       "      <td>en</td>\n",
       "      <td>[down, on, olivera, street, ,, a, mexicano, cr...</td>\n",
       "      <td>87</td>\n",
       "      <td>64</td>\n",
       "      <td>0.735632</td>\n",
       "    </tr>\n",
       "    <tr>\n",
       "      <td>215</td>\n",
       "      <td>Brian Wilson</td>\n",
       "      <td>Cinco De Mayo (Narrative)</td>\n",
       "      <td>Down on Olivera Street, a Mexicano cry A grito...</td>\n",
       "      <td>Down on Olivera Street, a Mexicano cry\\nA grit...</td>\n",
       "      <td>True</td>\n",
       "      <td>0.005000</td>\n",
       "      <td>{'language': 'en', 'score': 0.9999964786400348}</td>\n",
       "      <td>en</td>\n",
       "      <td>[down, on, olivera, street, ,, a, mexicano, cr...</td>\n",
       "      <td>87</td>\n",
       "      <td>64</td>\n",
       "      <td>0.735632</td>\n",
       "    </tr>\n",
       "    <tr>\n",
       "      <td>293</td>\n",
       "      <td>Brian Wilson</td>\n",
       "      <td>Little Children</td>\n",
       "      <td>On a Monday mornin’ you see ’em all there (Lit...</td>\n",
       "      <td>On a Monday mornin’ you see ’em all there\\n(Li...</td>\n",
       "      <td>True</td>\n",
       "      <td>0.015717</td>\n",
       "      <td>{'language': 'en', 'score': 0.9999965839324862}</td>\n",
       "      <td>en</td>\n",
       "      <td>[on, a, monday, mornin, ’, you, see, ’, em, al...</td>\n",
       "      <td>222</td>\n",
       "      <td>77</td>\n",
       "      <td>0.346847</td>\n",
       "    </tr>\n",
       "    <tr>\n",
       "      <td>294</td>\n",
       "      <td>Brian Wilson</td>\n",
       "      <td>Little Children (demo)</td>\n",
       "      <td>On a Monday mornin’ you see ’em all there (Lit...</td>\n",
       "      <td>On a Monday mornin’ you see ’em all there\\n(Li...</td>\n",
       "      <td>True</td>\n",
       "      <td>0.015717</td>\n",
       "      <td>{'language': 'en', 'score': 0.9999963526066182}</td>\n",
       "      <td>en</td>\n",
       "      <td>[on, a, monday, mornin, ’, you, see, ’, em, al...</td>\n",
       "      <td>222</td>\n",
       "      <td>77</td>\n",
       "      <td>0.346847</td>\n",
       "    </tr>\n",
       "  </tbody>\n",
       "</table>\n",
       "</div>"
      ],
      "text/plain": [
       "           artist                           title  \\\n",
       "177  Bobb Trimble  Premonitions Boy – The Reality   \n",
       "178  Bobb Trimble      Premonitions – The Fantasy   \n",
       "195  Brian Wilson                     Barbara Ann   \n",
       "196  Brian Wilson                    Barbara Anne   \n",
       "214  Brian Wilson                   Cinco De Mayo   \n",
       "215  Brian Wilson       Cinco De Mayo (Narrative)   \n",
       "293  Brian Wilson                 Little Children   \n",
       "294  Brian Wilson          Little Children (demo)   \n",
       "\n",
       "                                                lyrics  \\\n",
       "177  Premonitions are running wild ’cause you’re in...   \n",
       "178  Premonitions are running wild ’cause you’re in...   \n",
       "195  Ba ba ba ba Barbara Ann Ba ba ba ba Barbara An...   \n",
       "196  Ba ba ba ba Barbara Ann Ba ba ba ba Barbara An...   \n",
       "214  Down on Olivera Street, a Mexicano cry A grito...   \n",
       "215  Down on Olivera Street, a Mexicano cry A grito...   \n",
       "293  On a Monday mornin’ you see ’em all there (Lit...   \n",
       "294  On a Monday mornin’ you see ’em all there (Lit...   \n",
       "\n",
       "                                          lyrics_lines  eng_chars_only  \\\n",
       "177  Premonitions are running wild\\n’cause you’re i...            True   \n",
       "178  Premonitions are running wild\\n’cause you’re i...            True   \n",
       "195  Ba ba ba ba Barbara Ann\\nBa ba ba ba Barbara A...            True   \n",
       "196  Ba ba ba ba Barbara Ann\\nBa ba ba ba Barbara A...            True   \n",
       "214  Down on Olivera Street, a Mexicano cry\\nA grit...            True   \n",
       "215  Down on Olivera Street, a Mexicano cry\\nA grit...            True   \n",
       "293  On a Monday mornin’ you see ’em all there\\n(Li...            True   \n",
       "294  On a Monday mornin’ you see ’em all there\\n(Li...            True   \n",
       "\n",
       "     percent_non_english                                      lang_detect  \\\n",
       "177             0.015862  {'language': 'en', 'score': 0.9999963375303627}   \n",
       "178             0.015862  {'language': 'en', 'score': 0.9999965767578892}   \n",
       "195             0.022901  {'language': 'id', 'score': 0.9999947518993313}   \n",
       "196             0.022901  {'language': 'id', 'score': 0.9999927265960191}   \n",
       "214             0.005000  {'language': 'en', 'score': 0.9999946254613761}   \n",
       "215             0.005000  {'language': 'en', 'score': 0.9999964786400348}   \n",
       "293             0.015717  {'language': 'en', 'score': 0.9999965839324862}   \n",
       "294             0.015717  {'language': 'en', 'score': 0.9999963526066182}   \n",
       "\n",
       "    lang                                             tokens  token_ct  \\\n",
       "177   en  [premonitions, are, running, wild, ’, cause, y...       335   \n",
       "178   en  [premonitions, are, running, wild, ’, cause, y...       335   \n",
       "195   id  [ba, ba, ba, ba, barbara, ann, ba, ba, ba, ba,...       293   \n",
       "196   id  [ba, ba, ba, ba, barbara, ann, ba, ba, ba, ba,...       293   \n",
       "214   en  [down, on, olivera, street, ,, a, mexicano, cr...        87   \n",
       "215   en  [down, on, olivera, street, ,, a, mexicano, cr...        87   \n",
       "293   en  [on, a, monday, mornin, ’, you, see, ’, em, al...       222   \n",
       "294   en  [on, a, monday, mornin, ’, you, see, ’, em, al...       222   \n",
       "\n",
       "     type_ct       TTR  \n",
       "177       84  0.250746  \n",
       "178       84  0.250746  \n",
       "195       43  0.146758  \n",
       "196       43  0.146758  \n",
       "214       64  0.735632  \n",
       "215       64  0.735632  \n",
       "293       77  0.346847  \n",
       "294       77  0.346847  "
      ]
     },
     "execution_count": 87,
     "metadata": {},
     "output_type": "execute_result"
    }
   ],
   "source": [
    "# It looks like there are some duplicate lyrics.  These should be removed for statistical analysis of lyrics.\n",
    "lyricsdf[lyricsdf.lyrics.duplicated(keep=False)].head(8)"
   ]
  },
  {
   "cell_type": "markdown",
   "metadata": {},
   "source": [
    "It looks like some lyrics are repeated, but under different titles.  Originally, the code above was indicative of a data cleaning issue: by replacing empty strings (\"\") with `None`, I had accidentally somehow duplicated the lyrics above the song into the empty string.  This meant that there were no `None`s *and* no remaining empty strings, so up until this point, it was difficult to identify the problem.  I went back and removed the code that replaced these empty strings and will instead filter out the empty string lyrics themselves."
   ]
  },
  {
   "cell_type": "code",
   "execution_count": 88,
   "metadata": {},
   "outputs": [
    {
     "data": {
      "text/html": [
       "<div>\n",
       "<style scoped>\n",
       "    .dataframe tbody tr th:only-of-type {\n",
       "        vertical-align: middle;\n",
       "    }\n",
       "\n",
       "    .dataframe tbody tr th {\n",
       "        vertical-align: top;\n",
       "    }\n",
       "\n",
       "    .dataframe thead th {\n",
       "        text-align: right;\n",
       "    }\n",
       "</style>\n",
       "<table border=\"1\" class=\"dataframe\">\n",
       "  <thead>\n",
       "    <tr style=\"text-align: right;\">\n",
       "      <th></th>\n",
       "      <th>artist</th>\n",
       "      <th>title</th>\n",
       "      <th>lyrics</th>\n",
       "      <th>lyrics_lines</th>\n",
       "      <th>eng_chars_only</th>\n",
       "      <th>percent_non_english</th>\n",
       "      <th>lang_detect</th>\n",
       "      <th>lang</th>\n",
       "      <th>tokens</th>\n",
       "      <th>token_ct</th>\n",
       "      <th>type_ct</th>\n",
       "      <th>TTR</th>\n",
       "    </tr>\n",
       "  </thead>\n",
       "  <tbody>\n",
       "  </tbody>\n",
       "</table>\n",
       "</div>"
      ],
      "text/plain": [
       "Empty DataFrame\n",
       "Columns: [artist, title, lyrics, lyrics_lines, eng_chars_only, percent_non_english, lang_detect, lang, tokens, token_ct, type_ct, TTR]\n",
       "Index: []"
      ]
     },
     "execution_count": 88,
     "metadata": {},
     "output_type": "execute_result"
    }
   ],
   "source": [
    "# But there are no duplicates of the exact same song.\n",
    "lyricsdf[lyricsdf.duplicated(subset=['title', 'lyrics'], keep=False)]"
   ]
  },
  {
   "cell_type": "markdown",
   "metadata": {},
   "source": [
    "We looked at one song so far with some of the longest lyrics; what are some with the shortest?"
   ]
  },
  {
   "cell_type": "code",
   "execution_count": 89,
   "metadata": {},
   "outputs": [
    {
     "data": {
      "text/html": [
       "<div>\n",
       "<style scoped>\n",
       "    .dataframe tbody tr th:only-of-type {\n",
       "        vertical-align: middle;\n",
       "    }\n",
       "\n",
       "    .dataframe tbody tr th {\n",
       "        vertical-align: top;\n",
       "    }\n",
       "\n",
       "    .dataframe thead th {\n",
       "        text-align: right;\n",
       "    }\n",
       "</style>\n",
       "<table border=\"1\" class=\"dataframe\">\n",
       "  <thead>\n",
       "    <tr style=\"text-align: right;\">\n",
       "      <th></th>\n",
       "      <th>artist</th>\n",
       "      <th>title</th>\n",
       "      <th>lyrics</th>\n",
       "      <th>lyrics_lines</th>\n",
       "      <th>eng_chars_only</th>\n",
       "      <th>percent_non_english</th>\n",
       "      <th>lang_detect</th>\n",
       "      <th>lang</th>\n",
       "      <th>tokens</th>\n",
       "      <th>token_ct</th>\n",
       "      <th>type_ct</th>\n",
       "      <th>TTR</th>\n",
       "    </tr>\n",
       "  </thead>\n",
       "  <tbody>\n",
       "    <tr>\n",
       "      <td>57</td>\n",
       "      <td>Ariel Pink</td>\n",
       "      <td>El Fantastic Summer Part</td>\n",
       "      <td>Yeah</td>\n",
       "      <td>Yeah</td>\n",
       "      <td>True</td>\n",
       "      <td>0.0</td>\n",
       "      <td>{'language': 'tr', 'score': 0.7142851368904615}</td>\n",
       "      <td>tr</td>\n",
       "      <td>[yeah]</td>\n",
       "      <td>1</td>\n",
       "      <td>1</td>\n",
       "      <td>1.000000</td>\n",
       "    </tr>\n",
       "    <tr>\n",
       "      <td>2452</td>\n",
       "      <td>Viper</td>\n",
       "      <td>Cocaine</td>\n",
       "      <td>Cocaine</td>\n",
       "      <td>Cocaine</td>\n",
       "      <td>True</td>\n",
       "      <td>0.0</td>\n",
       "      <td>{'language': 'fr', 'score': 0.8571388239333675}</td>\n",
       "      <td>fr</td>\n",
       "      <td>[cocaine]</td>\n",
       "      <td>1</td>\n",
       "      <td>1</td>\n",
       "      <td>1.000000</td>\n",
       "    </tr>\n",
       "    <tr>\n",
       "      <td>314</td>\n",
       "      <td>Brian Wilson</td>\n",
       "      <td>Metal Beach</td>\n",
       "      <td>Metal beach</td>\n",
       "      <td>Metal beach</td>\n",
       "      <td>True</td>\n",
       "      <td>0.0</td>\n",
       "      <td>{'language': 'en', 'score': 0.8571390736282003}</td>\n",
       "      <td>en</td>\n",
       "      <td>[metal, beach]</td>\n",
       "      <td>2</td>\n",
       "      <td>2</td>\n",
       "      <td>1.000000</td>\n",
       "    </tr>\n",
       "    <tr>\n",
       "      <td>147</td>\n",
       "      <td>Ariel Pink</td>\n",
       "      <td>Starry Eyes</td>\n",
       "      <td>​raw ot oG</td>\n",
       "      <td>​raw ot oG</td>\n",
       "      <td>False</td>\n",
       "      <td>0.1</td>\n",
       "      <td>{'language': 'pl', 'score': 0.8571406111442977}</td>\n",
       "      <td>pl</td>\n",
       "      <td>[​raw, ot, og]</td>\n",
       "      <td>3</td>\n",
       "      <td>3</td>\n",
       "      <td>1.000000</td>\n",
       "    </tr>\n",
       "    <tr>\n",
       "      <td>1353</td>\n",
       "      <td>Jandek</td>\n",
       "      <td>You</td>\n",
       "      <td>You can feel...</td>\n",
       "      <td>You can feel...</td>\n",
       "      <td>True</td>\n",
       "      <td>0.0</td>\n",
       "      <td>{'language': 'ca', 'score': 0.7142827113189785}</td>\n",
       "      <td>ca</td>\n",
       "      <td>[you, can, feel, ...]</td>\n",
       "      <td>4</td>\n",
       "      <td>4</td>\n",
       "      <td>1.000000</td>\n",
       "    </tr>\n",
       "    <tr>\n",
       "      <td>2272</td>\n",
       "      <td>The Red Krayola</td>\n",
       "      <td>Listen to This</td>\n",
       "      <td>Listen to this!</td>\n",
       "      <td>Listen to this!\\n</td>\n",
       "      <td>True</td>\n",
       "      <td>0.0</td>\n",
       "      <td>{'language': 'en', 'score': 0.9999959958703133}</td>\n",
       "      <td>en</td>\n",
       "      <td>[listen, to, this, !]</td>\n",
       "      <td>4</td>\n",
       "      <td>4</td>\n",
       "      <td>1.000000</td>\n",
       "    </tr>\n",
       "    <tr>\n",
       "      <td>2528</td>\n",
       "      <td>Viper</td>\n",
       "      <td>InTheBack</td>\n",
       "      <td>Needs to be transcribed</td>\n",
       "      <td>Needs to be transcribed</td>\n",
       "      <td>True</td>\n",
       "      <td>0.0</td>\n",
       "      <td>{'language': 'en', 'score': 0.999996052741215}</td>\n",
       "      <td>en</td>\n",
       "      <td>[needs, to, be, transcribed]</td>\n",
       "      <td>4</td>\n",
       "      <td>4</td>\n",
       "      <td>1.000000</td>\n",
       "    </tr>\n",
       "    <tr>\n",
       "      <td>2456</td>\n",
       "      <td>Viper</td>\n",
       "      <td>Crakkkk</td>\n",
       "      <td>Ahahhaah u dunevn smoke crakk</td>\n",
       "      <td>Ahahhaah u dunevn smoke crakk</td>\n",
       "      <td>True</td>\n",
       "      <td>0.0</td>\n",
       "      <td>{'language': 'id', 'score': 0.7142832940277634}</td>\n",
       "      <td>id</td>\n",
       "      <td>[ahahhaah, u, dunevn, smoke, crakk]</td>\n",
       "      <td>5</td>\n",
       "      <td>5</td>\n",
       "      <td>1.000000</td>\n",
       "    </tr>\n",
       "    <tr>\n",
       "      <td>1241</td>\n",
       "      <td>Jandek</td>\n",
       "      <td>Oh No</td>\n",
       "      <td>Ooh Oh no, oh no</td>\n",
       "      <td>Ooh\\nOh no, oh no</td>\n",
       "      <td>True</td>\n",
       "      <td>0.0</td>\n",
       "      <td>{'language': 'sl', 'score': 0.6196165510308684}</td>\n",
       "      <td>sl</td>\n",
       "      <td>[ooh, oh, no, ,, oh, no]</td>\n",
       "      <td>6</td>\n",
       "      <td>4</td>\n",
       "      <td>0.666667</td>\n",
       "    </tr>\n",
       "    <tr>\n",
       "      <td>208</td>\n",
       "      <td>Brian Wilson</td>\n",
       "      <td>Can’t Wait Too Long</td>\n",
       "      <td>Been too long Been too long</td>\n",
       "      <td>Been too long\\nBeen too long</td>\n",
       "      <td>True</td>\n",
       "      <td>0.0</td>\n",
       "      <td>{'language': 'nl', 'score': 0.9999947446240542}</td>\n",
       "      <td>nl</td>\n",
       "      <td>[been, too, long, been, too, long]</td>\n",
       "      <td>6</td>\n",
       "      <td>3</td>\n",
       "      <td>0.500000</td>\n",
       "    </tr>\n",
       "  </tbody>\n",
       "</table>\n",
       "</div>"
      ],
      "text/plain": [
       "               artist                     title  \\\n",
       "57         Ariel Pink  El Fantastic Summer Part   \n",
       "2452            Viper                   Cocaine   \n",
       "314      Brian Wilson               Metal Beach   \n",
       "147        Ariel Pink               Starry Eyes   \n",
       "1353           Jandek                       You   \n",
       "2272  The Red Krayola            Listen to This   \n",
       "2528            Viper                 InTheBack   \n",
       "2456            Viper                   Crakkkk   \n",
       "1241           Jandek                     Oh No   \n",
       "208      Brian Wilson       Can’t Wait Too Long   \n",
       "\n",
       "                             lyrics                   lyrics_lines  \\\n",
       "57                             Yeah                           Yeah   \n",
       "2452                        Cocaine                        Cocaine   \n",
       "314                     Metal beach                    Metal beach   \n",
       "147                      ​raw ot oG                     ​raw ot oG   \n",
       "1353                You can feel...                You can feel...   \n",
       "2272               Listen to this!               Listen to this!\\n   \n",
       "2528        Needs to be transcribed        Needs to be transcribed   \n",
       "2456  Ahahhaah u dunevn smoke crakk  Ahahhaah u dunevn smoke crakk   \n",
       "1241               Ooh Oh no, oh no              Ooh\\nOh no, oh no   \n",
       "208     Been too long Been too long   Been too long\\nBeen too long   \n",
       "\n",
       "      eng_chars_only  percent_non_english  \\\n",
       "57              True                  0.0   \n",
       "2452            True                  0.0   \n",
       "314             True                  0.0   \n",
       "147            False                  0.1   \n",
       "1353            True                  0.0   \n",
       "2272            True                  0.0   \n",
       "2528            True                  0.0   \n",
       "2456            True                  0.0   \n",
       "1241            True                  0.0   \n",
       "208             True                  0.0   \n",
       "\n",
       "                                          lang_detect lang  \\\n",
       "57    {'language': 'tr', 'score': 0.7142851368904615}   tr   \n",
       "2452  {'language': 'fr', 'score': 0.8571388239333675}   fr   \n",
       "314   {'language': 'en', 'score': 0.8571390736282003}   en   \n",
       "147   {'language': 'pl', 'score': 0.8571406111442977}   pl   \n",
       "1353  {'language': 'ca', 'score': 0.7142827113189785}   ca   \n",
       "2272  {'language': 'en', 'score': 0.9999959958703133}   en   \n",
       "2528   {'language': 'en', 'score': 0.999996052741215}   en   \n",
       "2456  {'language': 'id', 'score': 0.7142832940277634}   id   \n",
       "1241  {'language': 'sl', 'score': 0.6196165510308684}   sl   \n",
       "208   {'language': 'nl', 'score': 0.9999947446240542}   nl   \n",
       "\n",
       "                                   tokens  token_ct  type_ct       TTR  \n",
       "57                                 [yeah]         1        1  1.000000  \n",
       "2452                            [cocaine]         1        1  1.000000  \n",
       "314                        [metal, beach]         2        2  1.000000  \n",
       "147                        [​raw, ot, og]         3        3  1.000000  \n",
       "1353                [you, can, feel, ...]         4        4  1.000000  \n",
       "2272                [listen, to, this, !]         4        4  1.000000  \n",
       "2528         [needs, to, be, transcribed]         4        4  1.000000  \n",
       "2456  [ahahhaah, u, dunevn, smoke, crakk]         5        5  1.000000  \n",
       "1241             [ooh, oh, no, ,, oh, no]         6        4  0.666667  \n",
       "208    [been, too, long, been, too, long]         6        3  0.500000  "
      ]
     },
     "execution_count": 89,
     "metadata": {},
     "output_type": "execute_result"
    }
   ],
   "source": [
    "shortest = lyricsdf[lyricsdf.token_ct < 20]\n",
    "shortest.sort_values('token_ct').head(10)"
   ]
  },
  {
   "cell_type": "markdown",
   "metadata": {},
   "source": [
    "\"Needs to be transcribed\" is likely not a lyric and was missed during data cleaning--however, I'm sensing that, since this example and a few others I have encountered through data sampling don't follow the exact format as previous \"transcription\"-centered comments, it will be difficult to identify and remove all comments like this.\n",
    "\n",
    "Furthermore, note that spaCy's language detector identified many of these shorter lyrical entries as non-English languages.  It's additionally interesting to note that many of these lyrics are identical to the titles, bringing up a question: are these mistakes from the Genius API pulling titles from empty lyric pages, or are these really just the lyrics of the song?  These can't be answered by further linguistic analysis but are rather just questions about the dataset.  In the case that anyone would like to replicate my methods of pulling and cleaning the data, this is something to keep in mind."
   ]
  },
  {
   "cell_type": "code",
   "execution_count": 90,
   "metadata": {},
   "outputs": [
    {
     "name": "stdout",
     "output_type": "stream",
     "text": [
      "[('’', 33748), ('i', 25506), (',', 24260), ('the', 23877), ('you', 18573), ('a', 13446), ('and', 11878), ('to', 11611), ('s', 9768), ('it', 9514), ('me', 8931), ('my', 8541), ('in', 7396), ('t', 6646), ('of', 5641), ('that', 5491), ('on', 5125), ('m', 4951), ('your', 4242), ('is', 4032)]\n"
     ]
    }
   ],
   "source": [
    "# The most common words in this dataset\n",
    "from collections import Counter\n",
    "outtoks = []\n",
    "\n",
    "for toks in lyricsdf.tokens:\n",
    "    outtoks.extend(toks)\n",
    "\n",
    "outfreq = Counter(outtoks)\n",
    "print(outfreq.most_common(20))"
   ]
  },
  {
   "cell_type": "code",
   "execution_count": 91,
   "metadata": {},
   "outputs": [
    {
     "data": {
      "image/png": "[encoded data removed]",
      "text/plain": [
       "<Figure size 432x288 with 1 Axes>"
      ]
     },
     "metadata": {
      "needs_background": "light"
     },
     "output_type": "display_data"
    }
   ],
   "source": [
    "word = []\n",
    "count = []\n",
    "for (w, c) in outfreq.most_common(20):\n",
    "    word.append(w)\n",
    "    count.append(c)\n",
    "plt.bar(word, count)\n",
    "plt.xticks(rotation = 90)\n",
    "plt.savefig(\"../images/out_most_common_words\")\n",
    "plt.show()"
   ]
  },
  {
   "cell_type": "markdown",
   "metadata": {},
   "source": [
    "Unsurprisingly (or maybe surprisingly, given the nature of the data so far), the most common words in the dataset are pronouns, contractions, and other functional items or punctuation.  Let's try to look at the most common words that aren't stopwords ([source](https://stackoverflow.com/questions/31826950/dropping-specific-words-out-of-an-nltk-distribution-beyond-stopwords))."
   ]
  },
  {
   "cell_type": "code",
   "execution_count": 123,
   "metadata": {},
   "outputs": [
    {
     "name": "stdout",
     "output_type": "stream",
     "text": [
      "[('got', 3048), ('like', 2832), ('know', 2748), ('love', 2713), ('rock', 2396), ('go', 1964), ('na', 1960), ('time', 1870), ('get', 1856), ('oh', 1809), ('see', 1773), ('one', 1647), ('let', 1495), ('never', 1411), ('cause', 1335), ('ass', 1314), ('way', 1302), ('yeah', 1240), ('life', 1196), ('baby', 1195)]\n"
     ]
    }
   ],
   "source": [
    "# If we remove stopwords and punctuation, what do we get?\n",
    "stopwords = nltk.corpus.stopwords.words('english')\n",
    "stopwords.extend(['’', ',', '?', '!', '(', ')', '[', ']', '.', \"'\", '\"',])   # also remove punctuation\n",
    "filtered_outfreq = dict((word, freq) for word, freq in outfreq.items() if word not in (stopwords))\n",
    "print(nltk.FreqDist(filtered_outfreq).most_common(20))"
   ]
  },
  {
   "cell_type": "code",
   "execution_count": 124,
   "metadata": {},
   "outputs": [
    {
     "data": {
      "image/png": "[encoded data removed]",
      "text/plain": [
       "<Figure size 432x288 with 1 Axes>"
      ]
     },
     "metadata": {
      "needs_background": "light"
     },
     "output_type": "display_data"
    }
   ],
   "source": [
    "word = []\n",
    "count = []\n",
    "for (w, c) in nltk.FreqDist(filtered_outfreq).most_common(20):\n",
    "    word.append(w)\n",
    "    count.append(c)\n",
    "plt.bar(word, count)\n",
    "plt.xticks(rotation = 90)\n",
    "plt.savefig(\"../images/out_most_common_words_nostops\")\n",
    "plt.show()"
   ]
  },
  {
   "cell_type": "markdown",
   "metadata": {},
   "source": [
    "Now these are some more interesting words!  I wonder how they'll play out against the \"insider\" music dataset--the Billboard Hot 100 corpus."
   ]
  },
  {
   "cell_type": "markdown",
   "metadata": {},
   "source": [
    "## Billboard Hot 100 Corpus\n",
    "I'll be using Kaylin Pavlik's dataset from her [\"50 Years of Pop Music\"](https://www.kaylinpavlik.com/50-years-of-pop-music/) project as a means of comparison for the present outsider music dataset.  It should be noted that Pavlik's dataset contains the most popular music over a span of 5 decades, and so it is not perfectly comparable to the outsider music dataset, which does not contain information on temporal stratification or genre."
   ]
  },
  {
   "cell_type": "code",
   "execution_count": 93,
   "metadata": {},
   "outputs": [
    {
     "data": {
      "text/html": [
       "<div>\n",
       "<style scoped>\n",
       "    .dataframe tbody tr th:only-of-type {\n",
       "        vertical-align: middle;\n",
       "    }\n",
       "\n",
       "    .dataframe tbody tr th {\n",
       "        vertical-align: top;\n",
       "    }\n",
       "\n",
       "    .dataframe thead th {\n",
       "        text-align: right;\n",
       "    }\n",
       "</style>\n",
       "<table border=\"1\" class=\"dataframe\">\n",
       "  <thead>\n",
       "    <tr style=\"text-align: right;\">\n",
       "      <th></th>\n",
       "      <th>Rank</th>\n",
       "      <th>Song</th>\n",
       "      <th>Artist</th>\n",
       "      <th>Year</th>\n",
       "      <th>Lyrics</th>\n",
       "      <th>Source</th>\n",
       "    </tr>\n",
       "  </thead>\n",
       "  <tbody>\n",
       "    <tr>\n",
       "      <td>0</td>\n",
       "      <td>1</td>\n",
       "      <td>wooly bully</td>\n",
       "      <td>sam the sham and the pharaohs</td>\n",
       "      <td>1965</td>\n",
       "      <td>sam the sham miscellaneous wooly bully wooly b...</td>\n",
       "      <td>3.0</td>\n",
       "    </tr>\n",
       "    <tr>\n",
       "      <td>1</td>\n",
       "      <td>2</td>\n",
       "      <td>i cant help myself sugar pie honey bunch</td>\n",
       "      <td>four tops</td>\n",
       "      <td>1965</td>\n",
       "      <td>sugar pie honey bunch you know that i love yo...</td>\n",
       "      <td>1.0</td>\n",
       "    </tr>\n",
       "    <tr>\n",
       "      <td>2</td>\n",
       "      <td>3</td>\n",
       "      <td>i cant get no satisfaction</td>\n",
       "      <td>the rolling stones</td>\n",
       "      <td>1965</td>\n",
       "      <td></td>\n",
       "      <td>1.0</td>\n",
       "    </tr>\n",
       "    <tr>\n",
       "      <td>3</td>\n",
       "      <td>4</td>\n",
       "      <td>you were on my mind</td>\n",
       "      <td>we five</td>\n",
       "      <td>1965</td>\n",
       "      <td>when i woke up this morning you were on my mi...</td>\n",
       "      <td>1.0</td>\n",
       "    </tr>\n",
       "    <tr>\n",
       "      <td>4</td>\n",
       "      <td>5</td>\n",
       "      <td>youve lost that lovin feelin</td>\n",
       "      <td>the righteous brothers</td>\n",
       "      <td>1965</td>\n",
       "      <td>you never close your eyes anymore when i kiss...</td>\n",
       "      <td>1.0</td>\n",
       "    </tr>\n",
       "  </tbody>\n",
       "</table>\n",
       "</div>"
      ],
      "text/plain": [
       "   Rank                                      Song  \\\n",
       "0     1                               wooly bully   \n",
       "1     2  i cant help myself sugar pie honey bunch   \n",
       "2     3                i cant get no satisfaction   \n",
       "3     4                       you were on my mind   \n",
       "4     5              youve lost that lovin feelin   \n",
       "\n",
       "                          Artist  Year  \\\n",
       "0  sam the sham and the pharaohs  1965   \n",
       "1                      four tops  1965   \n",
       "2             the rolling stones  1965   \n",
       "3                        we five  1965   \n",
       "4         the righteous brothers  1965   \n",
       "\n",
       "                                              Lyrics  Source  \n",
       "0  sam the sham miscellaneous wooly bully wooly b...     3.0  \n",
       "1   sugar pie honey bunch you know that i love yo...     1.0  \n",
       "2                                                        1.0  \n",
       "3   when i woke up this morning you were on my mi...     1.0  \n",
       "4   you never close your eyes anymore when i kiss...     1.0  "
      ]
     },
     "execution_count": 93,
     "metadata": {},
     "output_type": "execute_result"
    }
   ],
   "source": [
    "# load in the lyrics dataset\n",
    "popdf = pd.read_csv(\"../data/billboard_lyrics_1964-2015.csv\", encoding = \"ISO-8859-1\")\n",
    "popdf.head()"
   ]
  },
  {
   "cell_type": "code",
   "execution_count": 94,
   "metadata": {},
   "outputs": [
    {
     "data": {
      "text/plain": [
       "(5100, 6)"
      ]
     },
     "execution_count": 94,
     "metadata": {},
     "output_type": "execute_result"
    }
   ],
   "source": [
    "popdf.shape"
   ]
  },
  {
   "cell_type": "markdown",
   "metadata": {},
   "source": [
    "Note that there are also about 2000 more data points in Pavlik's dataset. This dataset labels instrumental songs as such in the lyrics, but the outsider music dataset showed no lyrics for songs like this.  For consistency, I will remove the \"instrumental\" strings from the Lyrics column, along with the float `np.nan` values."
   ]
  },
  {
   "cell_type": "code",
   "execution_count": 95,
   "metadata": {},
   "outputs": [
    {
     "data": {
      "text/plain": [
       "'  '"
      ]
     },
     "execution_count": 95,
     "metadata": {},
     "output_type": "execute_result"
    }
   ],
   "source": [
    "popdf.Lyrics = popdf.Lyrics.replace({np.nan: \"\", \"instrumental\":\"\", None:\"\"})\n",
    "popdf.Lyrics = popdf.Lyrics.astype(str)\n",
    "\n",
    "popdf.iloc[2].Lyrics  # note that this is multiple spaces"
   ]
  },
  {
   "cell_type": "code",
   "execution_count": 96,
   "metadata": {},
   "outputs": [],
   "source": [
    "# Reduce multiple spaces to an empty string\n",
    "popdf.Lyrics = popdf.Lyrics.map(lambda x: x.strip())"
   ]
  },
  {
   "cell_type": "code",
   "execution_count": 97,
   "metadata": {},
   "outputs": [
    {
     "data": {
      "text/plain": [
       "''"
      ]
     },
     "execution_count": 97,
     "metadata": {},
     "output_type": "execute_result"
    }
   ],
   "source": [
    "# Now it's just an empty string instead of 2 spaces!\n",
    "popdf.iloc[2].Lyrics"
   ]
  },
  {
   "cell_type": "code",
   "execution_count": 98,
   "metadata": {},
   "outputs": [
    {
     "data": {
      "text/html": [
       "<div>\n",
       "<style scoped>\n",
       "    .dataframe tbody tr th:only-of-type {\n",
       "        vertical-align: middle;\n",
       "    }\n",
       "\n",
       "    .dataframe tbody tr th {\n",
       "        vertical-align: top;\n",
       "    }\n",
       "\n",
       "    .dataframe thead th {\n",
       "        text-align: right;\n",
       "    }\n",
       "</style>\n",
       "<table border=\"1\" class=\"dataframe\">\n",
       "  <thead>\n",
       "    <tr style=\"text-align: right;\">\n",
       "      <th></th>\n",
       "      <th>title</th>\n",
       "      <th>artist</th>\n",
       "      <th>lyrics</th>\n",
       "    </tr>\n",
       "  </thead>\n",
       "  <tbody>\n",
       "    <tr>\n",
       "      <td>0</td>\n",
       "      <td>wooly bully</td>\n",
       "      <td>sam the sham and the pharaohs</td>\n",
       "      <td>sam the sham miscellaneous wooly bully wooly b...</td>\n",
       "    </tr>\n",
       "    <tr>\n",
       "      <td>1</td>\n",
       "      <td>i cant help myself sugar pie honey bunch</td>\n",
       "      <td>four tops</td>\n",
       "      <td>sugar pie honey bunch you know that i love you...</td>\n",
       "    </tr>\n",
       "    <tr>\n",
       "      <td>2</td>\n",
       "      <td>i cant get no satisfaction</td>\n",
       "      <td>the rolling stones</td>\n",
       "      <td></td>\n",
       "    </tr>\n",
       "    <tr>\n",
       "      <td>3</td>\n",
       "      <td>you were on my mind</td>\n",
       "      <td>we five</td>\n",
       "      <td>when i woke up this morning you were on my min...</td>\n",
       "    </tr>\n",
       "    <tr>\n",
       "      <td>4</td>\n",
       "      <td>youve lost that lovin feelin</td>\n",
       "      <td>the righteous brothers</td>\n",
       "      <td>you never close your eyes anymore when i kiss ...</td>\n",
       "    </tr>\n",
       "  </tbody>\n",
       "</table>\n",
       "</div>"
      ],
      "text/plain": [
       "                                      title                         artist  \\\n",
       "0                               wooly bully  sam the sham and the pharaohs   \n",
       "1  i cant help myself sugar pie honey bunch                      four tops   \n",
       "2                i cant get no satisfaction             the rolling stones   \n",
       "3                       you were on my mind                        we five   \n",
       "4              youve lost that lovin feelin         the righteous brothers   \n",
       "\n",
       "                                              lyrics  \n",
       "0  sam the sham miscellaneous wooly bully wooly b...  \n",
       "1  sugar pie honey bunch you know that i love you...  \n",
       "2                                                     \n",
       "3  when i woke up this morning you were on my min...  \n",
       "4  you never close your eyes anymore when i kiss ...  "
      ]
     },
     "execution_count": 98,
     "metadata": {},
     "output_type": "execute_result"
    }
   ],
   "source": [
    "popdf.rename(columns={\"Song\":\"title\", \"Artist\":\"artist\", \"Lyrics\":\"lyrics\"}, inplace=True)\n",
    "popdf = popdf[[\"title\", \"artist\", \"lyrics\"]]\n",
    "popdf.head()"
   ]
  },
  {
   "cell_type": "code",
   "execution_count": 99,
   "metadata": {},
   "outputs": [
    {
     "data": {
      "text/plain": [
       "'i dont know much about my history now dont know much about biology dont know much about the science book now dont know much about the french i tookall i do know is i love you now and i wonder if you love me too ooh what a wonderful world this could beooh i dont know much about geography now dont know much about trigonometry now dont know much about the algebra dont know what a slide rule is forbut i do know one and one is two now and i wonder if you love me too ooh what a wonderful world this could bei dont claim to be an a student but thats what im trying to be but by being an a student baby look like i could win your love for medont know much about the history now oh now dont know much about biology i dont know much about the science book now dont know much about the good french i took ohall i do know is i love you now oh now and i wonder if you love me too ooh what a wonderful world this could begood lord i dont claim to be an a student but thats what im trying to be oh now but if i have to be an a student baby im gonna win your love for mei dont know much about geography now oh now dont know much about trigonometry dont know much about the algebra now dont know what a good slide rule is forbut i do know one and one is two now oh now and i wonder if you love me too ooh what a wonderful world this could beoh my my good lord ive been trying ive been trying ive been trying oh lord to understand the thing that ive been looking for'"
      ]
     },
     "execution_count": 99,
     "metadata": {},
     "output_type": "execute_result"
    }
   ],
   "source": [
    "popdf.iloc[66].lyrics"
   ]
  },
  {
   "cell_type": "markdown",
   "metadata": {},
   "source": [
    "Note that this dataset isn't perfect either -- many words have been concatenated, likely because newlines were cut out, rather than replaced with spaces.  Because of this, words like \"beooh,\" \"tookall,\" \"forbut,\" \"bei,\" and \"begood\" will each be considered as single tokens.  However, in the interest of saving time and using existing resources, we'll assume that the frequencies of these words will be low enough to effect the ensuing analysis only minimally!"
   ]
  },
  {
   "cell_type": "code",
   "execution_count": 100,
   "metadata": {},
   "outputs": [
    {
     "data": {
      "text/html": [
       "<div>\n",
       "<style scoped>\n",
       "    .dataframe tbody tr th:only-of-type {\n",
       "        vertical-align: middle;\n",
       "    }\n",
       "\n",
       "    .dataframe tbody tr th {\n",
       "        vertical-align: top;\n",
       "    }\n",
       "\n",
       "    .dataframe thead th {\n",
       "        text-align: right;\n",
       "    }\n",
       "</style>\n",
       "<table border=\"1\" class=\"dataframe\">\n",
       "  <thead>\n",
       "    <tr style=\"text-align: right;\">\n",
       "      <th></th>\n",
       "      <th>title</th>\n",
       "      <th>artist</th>\n",
       "      <th>lyrics</th>\n",
       "      <th>tokens</th>\n",
       "    </tr>\n",
       "  </thead>\n",
       "  <tbody>\n",
       "    <tr>\n",
       "      <td>0</td>\n",
       "      <td>wooly bully</td>\n",
       "      <td>sam the sham and the pharaohs</td>\n",
       "      <td>sam the sham miscellaneous wooly bully wooly b...</td>\n",
       "      <td>[sam, the, sham, miscellaneous, wooly, bully, ...</td>\n",
       "    </tr>\n",
       "    <tr>\n",
       "      <td>1</td>\n",
       "      <td>i cant help myself sugar pie honey bunch</td>\n",
       "      <td>four tops</td>\n",
       "      <td>sugar pie honey bunch you know that i love you...</td>\n",
       "      <td>[sugar, pie, honey, bunch, you, know, that, i,...</td>\n",
       "    </tr>\n",
       "    <tr>\n",
       "      <td>2</td>\n",
       "      <td>i cant get no satisfaction</td>\n",
       "      <td>the rolling stones</td>\n",
       "      <td></td>\n",
       "      <td>[]</td>\n",
       "    </tr>\n",
       "    <tr>\n",
       "      <td>3</td>\n",
       "      <td>you were on my mind</td>\n",
       "      <td>we five</td>\n",
       "      <td>when i woke up this morning you were on my min...</td>\n",
       "      <td>[when, i, woke, up, this, morning, you, were, ...</td>\n",
       "    </tr>\n",
       "    <tr>\n",
       "      <td>4</td>\n",
       "      <td>youve lost that lovin feelin</td>\n",
       "      <td>the righteous brothers</td>\n",
       "      <td>you never close your eyes anymore when i kiss ...</td>\n",
       "      <td>[you, never, close, your, eyes, anymore, when,...</td>\n",
       "    </tr>\n",
       "  </tbody>\n",
       "</table>\n",
       "</div>"
      ],
      "text/plain": [
       "                                      title                         artist  \\\n",
       "0                               wooly bully  sam the sham and the pharaohs   \n",
       "1  i cant help myself sugar pie honey bunch                      four tops   \n",
       "2                i cant get no satisfaction             the rolling stones   \n",
       "3                       you were on my mind                        we five   \n",
       "4              youve lost that lovin feelin         the righteous brothers   \n",
       "\n",
       "                                              lyrics  \\\n",
       "0  sam the sham miscellaneous wooly bully wooly b...   \n",
       "1  sugar pie honey bunch you know that i love you...   \n",
       "2                                                      \n",
       "3  when i woke up this morning you were on my min...   \n",
       "4  you never close your eyes anymore when i kiss ...   \n",
       "\n",
       "                                              tokens  \n",
       "0  [sam, the, sham, miscellaneous, wooly, bully, ...  \n",
       "1  [sugar, pie, honey, bunch, you, know, that, i,...  \n",
       "2                                                 []  \n",
       "3  [when, i, woke, up, this, morning, you, were, ...  \n",
       "4  [you, never, close, your, eyes, anymore, when,...  "
      ]
     },
     "execution_count": 100,
     "metadata": {},
     "output_type": "execute_result"
    }
   ],
   "source": [
    "# tokenize\n",
    "popdf[\"tokens\"] = popdf.lyrics.map(lambda x: nltk.word_tokenize(x))\n",
    "popdf.tokens = popdf.tokens.map(lambda x: [word.lower() for word in x])\n",
    "popdf.head()"
   ]
  },
  {
   "cell_type": "code",
   "execution_count": 101,
   "metadata": {},
   "outputs": [
    {
     "data": {
      "text/html": [
       "<div>\n",
       "<style scoped>\n",
       "    .dataframe tbody tr th:only-of-type {\n",
       "        vertical-align: middle;\n",
       "    }\n",
       "\n",
       "    .dataframe tbody tr th {\n",
       "        vertical-align: top;\n",
       "    }\n",
       "\n",
       "    .dataframe thead th {\n",
       "        text-align: right;\n",
       "    }\n",
       "</style>\n",
       "<table border=\"1\" class=\"dataframe\">\n",
       "  <thead>\n",
       "    <tr style=\"text-align: right;\">\n",
       "      <th></th>\n",
       "      <th>title</th>\n",
       "      <th>artist</th>\n",
       "      <th>lyrics</th>\n",
       "      <th>tokens</th>\n",
       "      <th>token_ct</th>\n",
       "      <th>type_ct</th>\n",
       "      <th>TTR</th>\n",
       "    </tr>\n",
       "  </thead>\n",
       "  <tbody>\n",
       "    <tr>\n",
       "      <td>0</td>\n",
       "      <td>wooly bully</td>\n",
       "      <td>sam the sham and the pharaohs</td>\n",
       "      <td>sam the sham miscellaneous wooly bully wooly b...</td>\n",
       "      <td>[sam, the, sham, miscellaneous, wooly, bully, ...</td>\n",
       "      <td>125</td>\n",
       "      <td>64</td>\n",
       "      <td>0.512000</td>\n",
       "    </tr>\n",
       "    <tr>\n",
       "      <td>1</td>\n",
       "      <td>i cant help myself sugar pie honey bunch</td>\n",
       "      <td>four tops</td>\n",
       "      <td>sugar pie honey bunch you know that i love you...</td>\n",
       "      <td>[sugar, pie, honey, bunch, you, know, that, i,...</td>\n",
       "      <td>205</td>\n",
       "      <td>94</td>\n",
       "      <td>0.458537</td>\n",
       "    </tr>\n",
       "    <tr>\n",
       "      <td>2</td>\n",
       "      <td>i cant get no satisfaction</td>\n",
       "      <td>the rolling stones</td>\n",
       "      <td></td>\n",
       "      <td>[]</td>\n",
       "      <td>0</td>\n",
       "      <td>0</td>\n",
       "      <td>NaN</td>\n",
       "    </tr>\n",
       "    <tr>\n",
       "      <td>3</td>\n",
       "      <td>you were on my mind</td>\n",
       "      <td>we five</td>\n",
       "      <td>when i woke up this morning you were on my min...</td>\n",
       "      <td>[when, i, woke, up, this, morning, you, were, ...</td>\n",
       "      <td>152</td>\n",
       "      <td>44</td>\n",
       "      <td>0.289474</td>\n",
       "    </tr>\n",
       "    <tr>\n",
       "      <td>4</td>\n",
       "      <td>youve lost that lovin feelin</td>\n",
       "      <td>the righteous brothers</td>\n",
       "      <td>you never close your eyes anymore when i kiss ...</td>\n",
       "      <td>[you, never, close, your, eyes, anymore, when,...</td>\n",
       "      <td>232</td>\n",
       "      <td>88</td>\n",
       "      <td>0.379310</td>\n",
       "    </tr>\n",
       "  </tbody>\n",
       "</table>\n",
       "</div>"
      ],
      "text/plain": [
       "                                      title                         artist  \\\n",
       "0                               wooly bully  sam the sham and the pharaohs   \n",
       "1  i cant help myself sugar pie honey bunch                      four tops   \n",
       "2                i cant get no satisfaction             the rolling stones   \n",
       "3                       you were on my mind                        we five   \n",
       "4              youve lost that lovin feelin         the righteous brothers   \n",
       "\n",
       "                                              lyrics  \\\n",
       "0  sam the sham miscellaneous wooly bully wooly b...   \n",
       "1  sugar pie honey bunch you know that i love you...   \n",
       "2                                                      \n",
       "3  when i woke up this morning you were on my min...   \n",
       "4  you never close your eyes anymore when i kiss ...   \n",
       "\n",
       "                                              tokens  token_ct  type_ct  \\\n",
       "0  [sam, the, sham, miscellaneous, wooly, bully, ...       125       64   \n",
       "1  [sugar, pie, honey, bunch, you, know, that, i,...       205       94   \n",
       "2                                                 []         0        0   \n",
       "3  [when, i, woke, up, this, morning, you, were, ...       152       44   \n",
       "4  [you, never, close, your, eyes, anymore, when,...       232       88   \n",
       "\n",
       "        TTR  \n",
       "0  0.512000  \n",
       "1  0.458537  \n",
       "2       NaN  \n",
       "3  0.289474  \n",
       "4  0.379310  "
      ]
     },
     "execution_count": 101,
     "metadata": {},
     "output_type": "execute_result"
    }
   ],
   "source": [
    "popdf[\"token_ct\"] = popdf.tokens.map(len)\n",
    "popdf[\"type_ct\"] = popdf.tokens.map(lambda x: len(set(x)))\n",
    "popdf[\"TTR\"] = popdf.type_ct / popdf.token_ct\n",
    "popdf.head()"
   ]
  },
  {
   "cell_type": "code",
   "execution_count": 102,
   "metadata": {},
   "outputs": [
    {
     "data": {
      "text/html": [
       "<div>\n",
       "<style scoped>\n",
       "    .dataframe tbody tr th:only-of-type {\n",
       "        vertical-align: middle;\n",
       "    }\n",
       "\n",
       "    .dataframe tbody tr th {\n",
       "        vertical-align: top;\n",
       "    }\n",
       "\n",
       "    .dataframe thead th {\n",
       "        text-align: right;\n",
       "    }\n",
       "</style>\n",
       "<table border=\"1\" class=\"dataframe\">\n",
       "  <thead>\n",
       "    <tr style=\"text-align: right;\">\n",
       "      <th></th>\n",
       "      <th>token_ct</th>\n",
       "      <th>type_ct</th>\n",
       "      <th>TTR</th>\n",
       "    </tr>\n",
       "  </thead>\n",
       "  <tbody>\n",
       "    <tr>\n",
       "      <td>count</td>\n",
       "      <td>5100.000000</td>\n",
       "      <td>5100.000000</td>\n",
       "      <td>4851.000000</td>\n",
       "    </tr>\n",
       "    <tr>\n",
       "      <td>mean</td>\n",
       "      <td>316.646471</td>\n",
       "      <td>107.972353</td>\n",
       "      <td>0.367281</td>\n",
       "    </tr>\n",
       "    <tr>\n",
       "      <td>std</td>\n",
       "      <td>181.255214</td>\n",
       "      <td>58.376938</td>\n",
       "      <td>0.112131</td>\n",
       "    </tr>\n",
       "    <tr>\n",
       "      <td>min</td>\n",
       "      <td>0.000000</td>\n",
       "      <td>0.000000</td>\n",
       "      <td>0.053571</td>\n",
       "    </tr>\n",
       "    <tr>\n",
       "      <td>25%</td>\n",
       "      <td>204.000000</td>\n",
       "      <td>77.000000</td>\n",
       "      <td>0.293406</td>\n",
       "    </tr>\n",
       "    <tr>\n",
       "      <td>50%</td>\n",
       "      <td>285.000000</td>\n",
       "      <td>98.000000</td>\n",
       "      <td>0.353791</td>\n",
       "    </tr>\n",
       "    <tr>\n",
       "      <td>75%</td>\n",
       "      <td>399.000000</td>\n",
       "      <td>127.000000</td>\n",
       "      <td>0.427735</td>\n",
       "    </tr>\n",
       "    <tr>\n",
       "      <td>max</td>\n",
       "      <td>1158.000000</td>\n",
       "      <td>434.000000</td>\n",
       "      <td>1.000000</td>\n",
       "    </tr>\n",
       "  </tbody>\n",
       "</table>\n",
       "</div>"
      ],
      "text/plain": [
       "          token_ct      type_ct          TTR\n",
       "count  5100.000000  5100.000000  4851.000000\n",
       "mean    316.646471   107.972353     0.367281\n",
       "std     181.255214    58.376938     0.112131\n",
       "min       0.000000     0.000000     0.053571\n",
       "25%     204.000000    77.000000     0.293406\n",
       "50%     285.000000    98.000000     0.353791\n",
       "75%     399.000000   127.000000     0.427735\n",
       "max    1158.000000   434.000000     1.000000"
      ]
     },
     "execution_count": 102,
     "metadata": {},
     "output_type": "execute_result"
    }
   ],
   "source": [
    "popdf.describe()"
   ]
  },
  {
   "cell_type": "code",
   "execution_count": 103,
   "metadata": {},
   "outputs": [
    {
     "data": {
      "text/html": [
       "<div>\n",
       "<style scoped>\n",
       "    .dataframe tbody tr th:only-of-type {\n",
       "        vertical-align: middle;\n",
       "    }\n",
       "\n",
       "    .dataframe tbody tr th {\n",
       "        vertical-align: top;\n",
       "    }\n",
       "\n",
       "    .dataframe thead th {\n",
       "        text-align: right;\n",
       "    }\n",
       "</style>\n",
       "<table border=\"1\" class=\"dataframe\">\n",
       "  <thead>\n",
       "    <tr style=\"text-align: right;\">\n",
       "      <th></th>\n",
       "      <th>token_ct</th>\n",
       "      <th>type_ct</th>\n",
       "      <th>TTR</th>\n",
       "    </tr>\n",
       "  </thead>\n",
       "  <tbody>\n",
       "    <tr>\n",
       "      <td>count</td>\n",
       "      <td>4847.000000</td>\n",
       "      <td>4847.000000</td>\n",
       "      <td>4847.000000</td>\n",
       "    </tr>\n",
       "    <tr>\n",
       "      <td>mean</td>\n",
       "      <td>333.173716</td>\n",
       "      <td>113.607386</td>\n",
       "      <td>0.366759</td>\n",
       "    </tr>\n",
       "    <tr>\n",
       "      <td>std</td>\n",
       "      <td>170.473888</td>\n",
       "      <td>54.273010</td>\n",
       "      <td>0.110693</td>\n",
       "    </tr>\n",
       "    <tr>\n",
       "      <td>min</td>\n",
       "      <td>1.000000</td>\n",
       "      <td>1.000000</td>\n",
       "      <td>0.053571</td>\n",
       "    </tr>\n",
       "    <tr>\n",
       "      <td>25%</td>\n",
       "      <td>216.500000</td>\n",
       "      <td>80.000000</td>\n",
       "      <td>0.293364</td>\n",
       "    </tr>\n",
       "    <tr>\n",
       "      <td>50%</td>\n",
       "      <td>293.000000</td>\n",
       "      <td>101.000000</td>\n",
       "      <td>0.353712</td>\n",
       "    </tr>\n",
       "    <tr>\n",
       "      <td>75%</td>\n",
       "      <td>407.000000</td>\n",
       "      <td>129.000000</td>\n",
       "      <td>0.427597</td>\n",
       "    </tr>\n",
       "    <tr>\n",
       "      <td>max</td>\n",
       "      <td>1158.000000</td>\n",
       "      <td>434.000000</td>\n",
       "      <td>1.000000</td>\n",
       "    </tr>\n",
       "  </tbody>\n",
       "</table>\n",
       "</div>"
      ],
      "text/plain": [
       "          token_ct      type_ct          TTR\n",
       "count  4847.000000  4847.000000  4847.000000\n",
       "mean    333.173716   113.607386     0.366759\n",
       "std     170.473888    54.273010     0.110693\n",
       "min       1.000000     1.000000     0.053571\n",
       "25%     216.500000    80.000000     0.293364\n",
       "50%     293.000000   101.000000     0.353712\n",
       "75%     407.000000   129.000000     0.427597\n",
       "max    1158.000000   434.000000     1.000000"
      ]
     },
     "execution_count": 103,
     "metadata": {},
     "output_type": "execute_result"
    }
   ],
   "source": [
    "# save full dataset to different object in case it's needed later\n",
    "popdf_orig = popdf\n",
    "\n",
    "# drop empty/null lyrics, and instrumental lyrics\n",
    "popdf = popdf[~popdf.lyrics.isin(['', 'instrumental'])]\n",
    "popdf.describe()"
   ]
  },
  {
   "cell_type": "code",
   "execution_count": 104,
   "metadata": {
    "scrolled": true
   },
   "outputs": [
    {
     "data": {
      "image/png": "[encoded data removed]",
      "text/plain": [
       "<Figure size 432x288 with 1 Axes>"
      ]
     },
     "metadata": {
      "needs_background": "light"
     },
     "output_type": "display_data"
    }
   ],
   "source": [
    "popdf.token_ct.plot(kind = \"box\", rot=0, title = \"Pop Music Token Count Distribution\")\n",
    "plt.savefig('../images/pop_token_count_dist.png')"
   ]
  },
  {
   "cell_type": "markdown",
   "metadata": {},
   "source": [
    "There are still some pretty long lyrics here, but the maximum token count is still nearly half that of the outsider music.  The distribution here seems to be a little more normal.  While the outside music had a great wealth of data crammed around the mean token count of 215.  Here, the mean is a little higher, at about 333 tokens per song (and potentially more, given that some words are concatenated mistakenly) and the spread is more consistent."
   ]
  },
  {
   "cell_type": "code",
   "execution_count": 105,
   "metadata": {},
   "outputs": [
    {
     "data": {
      "text/plain": [
       "count        4847\n",
       "unique       2340\n",
       "top       madonna\n",
       "freq           34\n",
       "Name: artist, dtype: object"
      ]
     },
     "execution_count": 105,
     "metadata": {},
     "output_type": "execute_result"
    }
   ],
   "source": [
    "popdf.artist.describe()"
   ]
  },
  {
   "cell_type": "markdown",
   "metadata": {},
   "source": [
    "This dataset has 2,340 unique artists (compared to our measly 62 artists in the outsider dataset)."
   ]
  },
  {
   "cell_type": "code",
   "execution_count": 106,
   "metadata": {},
   "outputs": [
    {
     "data": {
      "text/plain": [
       "madonna                                        34\n",
       "elton john                                     25\n",
       "mariah carey                                   24\n",
       "janet jackson                                  22\n",
       "michael jackson                                22\n",
       "                                               ..\n",
       "flo rida featuring sia                          1\n",
       "diddy featuring keyshia cole                    1\n",
       "gwen stefani featuring akon                     1\n",
       "natasha bedingfield featuring sean kingston     1\n",
       "gary numan                                      1\n",
       "Name: artist, Length: 2340, dtype: int64"
      ]
     },
     "execution_count": 106,
     "metadata": {},
     "output_type": "execute_result"
    }
   ],
   "source": [
    "popdf.artist.value_counts()"
   ]
  },
  {
   "cell_type": "markdown",
   "metadata": {},
   "source": [
    "And note that this dataset is also less skewed toward any particular artist; Madonna, who is most represented in Pavlik's Billboard data, only has 34 songs total."
   ]
  },
  {
   "cell_type": "code",
   "execution_count": 126,
   "metadata": {},
   "outputs": [],
   "source": [
    "pop_artists_to_plot = popdf.artist.value_counts()[:15]\n",
    "pop_few_artist = popdf.artist.value_counts()[15:]\n",
    "\n",
    "sum = 0\n",
    "for y in pop_few_artist:\n",
    "    sum = sum +y\n",
    "pop_artists_to_plot = pop_artists_to_plot.append(pd.Series(sum))\n",
    "pop_artists_to_plot.rename(index={0:'Other'},inplace=True)"
   ]
  },
  {
   "cell_type": "code",
   "execution_count": 127,
   "metadata": {},
   "outputs": [
    {
     "data": {
      "text/plain": [
       "0.9378997317928616"
      ]
     },
     "execution_count": 127,
     "metadata": {},
     "output_type": "execute_result"
    }
   ],
   "source": [
    "sum / len(popdf)"
   ]
  },
  {
   "cell_type": "code",
   "execution_count": 128,
   "metadata": {
    "scrolled": true
   },
   "outputs": [
    {
     "data": {
      "image/png": "[encoded data removed]",
      "text/plain": [
       "<Figure size 432x288 with 1 Axes>"
      ]
     },
     "metadata": {},
     "output_type": "display_data"
    }
   ],
   "source": [
    "# Only shows the top 15 artists to be comparable to the outsider music chart\n",
    "plt.pie(pop_artists_to_plot)\n",
    "plt.title(\"Top 15 Pop Artists Distribution\")\n",
    "plt.legend(pop_artists_to_plot.index, bbox_to_anchor=(-0.1, 1.),\n",
    "           fontsize=8)\n",
    "plt.tight_layout()\n",
    "plt.savefig('../images/pop_artist_dist_fig.png')\n",
    "plt.show()"
   ]
  },
  {
   "cell_type": "markdown",
   "metadata": {},
   "source": [
    "This chart isn't a wonderfully informative visualization on its own, but in contrast to the outsider music dataset, you can see that the distribution is much less skewed toward any one artist.  The brown section, representing artists beyond the top-15, is 93.8% of the data.  Below, I will visualize again, but using a number of top artists proportional to the number of artists in Pavlik's dataset."
   ]
  },
  {
   "cell_type": "code",
   "execution_count": 110,
   "metadata": {},
   "outputs": [
    {
     "data": {
      "text/plain": [
       "566.1290322580645"
      ]
     },
     "execution_count": 110,
     "metadata": {},
     "output_type": "execute_result"
    }
   ],
   "source": [
    "proportion = 15/len(lyricsdf.artist.unique())\n",
    "size = proportion * len(popdf.artist.unique())\n",
    "size"
   ]
  },
  {
   "cell_type": "code",
   "execution_count": 111,
   "metadata": {},
   "outputs": [],
   "source": [
    "pop_artists_to_plot = popdf.artist.value_counts()[:566]\n",
    "pop_few_artist = popdf.artist.value_counts()[566:]\n",
    "\n",
    "sum = 0\n",
    "for y in pop_few_artist:\n",
    "    sum = sum +y\n",
    "pop_artists_to_plot = pop_artists_to_plot.append(pd.Series(sum))\n",
    "pop_artists_to_plot.rename(index={0:'Other'},inplace=True)"
   ]
  },
  {
   "cell_type": "code",
   "execution_count": 112,
   "metadata": {},
   "outputs": [
    {
     "data": {
      "text/plain": [
       "0.4146894986589643"
      ]
     },
     "execution_count": 112,
     "metadata": {},
     "output_type": "execute_result"
    }
   ],
   "source": [
    "sum / len(popdf)"
   ]
  },
  {
   "cell_type": "code",
   "execution_count": 113,
   "metadata": {},
   "outputs": [
    {
     "data": {
      "image/png": "[encoded data removed]",
      "text/plain": [
       "<Figure size 432x288 with 1 Axes>"
      ]
     },
     "metadata": {},
     "output_type": "display_data"
    }
   ],
   "source": [
    "# Shows the top 556 artists to be comparable *proportionally* to the outsider music chart\n",
    "plt.pie(pop_artists_to_plot)\n",
    "plt.title(\"Top 556 Pop Artists - Proportional Pie Chart\")\n",
    "plt.savefig('../images/pop_proportional_artist_dist_fig.png')\n",
    "plt.show()"
   ]
  },
  {
   "cell_type": "markdown",
   "metadata": {},
   "source": [
    "Once again, alone, this chart is extremely unreadable, but it should be viewed contrastively to understand that, while the outsider music's \"Other\" artist category (about 76% of the artists) took up only 16.9% of the total lyrics dataset, the Billboard Pop Music dataset has 41.5% of its data in this \"Other\" category.\n",
    "\n",
    "It should be clear by now, then, that a major issue with the outsider music dataset will be its representativeness, or generalizability.  Given the nature of the outsider music dataset (and given enough time), it would be interesting to analyze the outsider music dataset split between Wesley Willis songs alone and the full dataset without Willis's music. This could give some insight into how much Wesley Willis influences the overall dataset, as well as show whether the conventional understanding of outsider music is attrubutable mostly to Wesley Willis, if it does not hold true for both parts of the full dataset.\n",
    "\n",
    "But FIRST: let's analyze the most common words in the pop dataset."
   ]
  },
  {
   "cell_type": "code",
   "execution_count": 137,
   "metadata": {},
   "outputs": [
    {
     "name": "stdout",
     "output_type": "stream",
     "text": [
      "[('you', 64606), ('i', 56511), ('the', 53451), ('to', 35752), ('and', 32555), ('me', 31640), ('a', 29282), ('it', 25688), ('my', 22821), ('in', 18553), ('that', 16151), ('on', 15814), ('your', 15459), ('love', 15283), ('im', 14278), ('be', 13004), ('of', 12825), ('all', 11895), ('dont', 11587), ('know', 11166)]\n"
     ]
    }
   ],
   "source": [
    "# most common words in the pop dataset\n",
    "poptoks = []\n",
    "\n",
    "for toks in popdf.tokens:\n",
    "    poptoks.extend(toks)\n",
    "\n",
    "popfreq = Counter(poptoks)\n",
    "print(popfreq.most_common(20))"
   ]
  },
  {
   "cell_type": "code",
   "execution_count": 138,
   "metadata": {},
   "outputs": [
    {
     "data": {
      "image/png": "[encoded data removed]",
      "text/plain": [
       "<Figure size 432x288 with 1 Axes>"
      ]
     },
     "metadata": {
      "needs_background": "light"
     },
     "output_type": "display_data"
    }
   ],
   "source": [
    "word = []\n",
    "count = []\n",
    "for (w, c) in popfreq.most_common(20):\n",
    "    word.append(w)\n",
    "    count.append(c)\n",
    "plt.bar(word, count)\n",
    "plt.xticks(rotation = 90)\n",
    "plt.savefig(\"../images/pop_most_common_words\")\n",
    "plt.show()"
   ]
  },
  {
   "cell_type": "code",
   "execution_count": 134,
   "metadata": {},
   "outputs": [
    {
     "name": "stdout",
     "output_type": "stream",
     "text": [
      "[('love', 15283), ('im', 14278), ('dont', 11587), ('know', 11166), ('na', 11108), ('like', 10949), ('got', 10215), ('oh', 9736), ('baby', 9098), ('get', 8265), ('youre', 6592), ('yeah', 6259), ('want', 6214), ('go', 6105), ('make', 5520), ('one', 5412), ('cant', 5338), ('see', 5264), ('gon', 5255), ('time', 5176)]\n"
     ]
    }
   ],
   "source": [
    "# If we remove stopwords and punctuation, what do we get?\n",
    "stopwords = nltk.corpus.stopwords.words('english')\n",
    "# also remove punctuation, though it doesn't seem present here\n",
    "stopwords.extend(['’', ',', '?', '!', '(', ')', '[', ']', '.', \"'\", '\"',]) \n",
    "filtered_popfreq = dict((word, freq) for word, freq in popfreq.items() if word not in (stopwords))\n",
    "print(nltk.FreqDist(filtered_popfreq).most_common(20))"
   ]
  },
  {
   "cell_type": "code",
   "execution_count": 135,
   "metadata": {},
   "outputs": [
    {
     "name": "stdout",
     "output_type": "stream",
     "text": [
      "[('love', 15283), ('im', 14278), ('know', 11166), ('na', 11108), ('like', 10949), ('got', 10215), ('oh', 9736), ('baby', 9098), ('get', 8265), ('yeah', 6259), ('want', 6214), ('go', 6105), ('make', 5520), ('one', 5412), ('cant', 5338), ('see', 5264), ('gon', 5255), ('time', 5176), ('let', 4927), ('come', 4867)]\n"
     ]
    }
   ],
   "source": [
    "# If we remove stopwords and punctuation, what do we get?\n",
    "\n",
    "stopwords = nltk.corpus.stopwords.words('english')\n",
    "# alter  stopwords so that it will catch \"dont\", \"cant\", etc.\n",
    "stopwords = [x.replace(\"'\", \"\") for x in stopwords]\n",
    "filtered_popfreq = dict((word, freq) for word, freq in popfreq.items() if word not in (stopwords))\n",
    "print(nltk.FreqDist(filtered_popfreq).most_common(20))"
   ]
  },
  {
   "cell_type": "code",
   "execution_count": 136,
   "metadata": {},
   "outputs": [
    {
     "data": {
      "image/png": "[encoded data removed]",
      "text/plain": [
       "<Figure size 432x288 with 1 Axes>"
      ]
     },
     "metadata": {
      "needs_background": "light"
     },
     "output_type": "display_data"
    }
   ],
   "source": [
    "word = []\n",
    "count = []\n",
    "for (w, c) in nltk.FreqDist(filtered_popfreq).most_common(20):\n",
    "    word.append(w)\n",
    "    count.append(c)\n",
    "plt.bar(word, count)\n",
    "plt.xticks(rotation = 90)\n",
    "plt.savefig(\"../images/pop_most_common_words_nostops\")\n",
    "plt.show()"
   ]
  },
  {
   "cell_type": "markdown",
   "metadata": {},
   "source": [
    "Seeing words like \"im,\" \"dont,\" \"youre,\" and \"cant\" pop up in the first non-stopwords analysis is a bit tell-tale that Pavlik's dataset has been cleaned very differently from the outsider music dataset.  Just removing the apostrophes in the stopwords list isn't enough either, since stopwords expects that the data is tokenized to split contractions (e.g., \"i\", \"'\", \"m\", for \"I'm\")\n",
    "\n",
    "It may be worthwhile to reformat my own data to match this schema so that the data will be readily comparable.  Since I wanted to try some sort of classifier, I'd prefer if formatting differences between the datasets wasnt a factor that would tip off a Naive Bayes Algorithm.  I would like to analyze the *lyrics*, not data cleaning processes.\n",
    "\n",
    "In the meantime, I will let it go just to make headway into the classifier code, but I'm strongly considering altering my dataset to remove apostrophes."
   ]
  },
  {
   "cell_type": "markdown",
   "metadata": {
    "scrolled": false
   },
   "source": [
    "## The Big 3:\n",
    "**Wesley Willis, Jandek, and Daniel Johnston**"
   ]
  },
  {
   "cell_type": "code",
   "execution_count": 117,
   "metadata": {},
   "outputs": [
    {
     "name": "stderr",
     "output_type": "stream",
     "text": [
      "C:\\Users\\Emma\\Anaconda3\\lib\\site-packages\\ipykernel_launcher.py:7: SettingWithCopyWarning: \n",
      "A value is trying to be set on a copy of a slice from a DataFrame.\n",
      "Try using .loc[row_indexer,col_indexer] = value instead\n",
      "\n",
      "See the caveats in the documentation: http://pandas.pydata.org/pandas-docs/stable/user_guide/indexing.html#returning-a-view-versus-a-copy\n",
      "  import sys\n"
     ]
    }
   ],
   "source": [
    "def top3(x):\n",
    "    if x in [\"Wesley Willis\", \"Jandek\", \"Daniel Johnston\"]:\n",
    "        return \"top 3\"\n",
    "    else:\n",
    "        return \"other\"\n",
    "    \n",
    "lyricsdf[\"top3\"] = lyricsdf.artist.map(lambda x: top3(x))"
   ]
  },
  {
   "cell_type": "code",
   "execution_count": 118,
   "metadata": {},
   "outputs": [
    {
     "data": {
      "image/png": "[encoded data removed]",
      "text/plain": [
       "<Figure size 432x288 with 1 Axes>"
      ]
     },
     "metadata": {
      "needs_background": "light"
     },
     "output_type": "display_data"
    }
   ],
   "source": [
    "plt.barh(lyricsdf.top3.unique(), lyricsdf.top3.value_counts(), color = \"olivedrab\")\n",
    "plt.title(\"Wesley Willis, Jandek, and Daniel Johnston Songs vs. Other Artists\")\n",
    "plt.savefig(\"../images/top3_vs_other_artists_distribution\")\n",
    "plt.show()"
   ]
  },
  {
   "cell_type": "code",
   "execution_count": 119,
   "metadata": {},
   "outputs": [
    {
     "data": {
      "image/png": "[encoded data removed]",
      "text/plain": [
       "<Figure size 432x288 with 1 Axes>"
      ]
     },
     "metadata": {
      "needs_background": "light"
     },
     "output_type": "display_data"
    }
   ],
   "source": [
    "# In the original data (including null & obviously non-English items)\n",
    "lyricsdf_orig[\"top3\"] = lyricsdf_orig.artist.map(lambda x: top3(x))\n",
    "plt.barh(lyricsdf_orig.top3.unique(), lyricsdf_orig.top3.value_counts(), color = \"olivedrab\")\n",
    "plt.title(\"Wesley Willis, Jandek, and Daniel Johnston Songs vs. Other Artists in Original Data\")\n",
    "plt.show()"
   ]
  }
 ],
 "metadata": {
  "kernelspec": {
   "display_name": "Python 3",
   "language": "python",
   "name": "python3"
  },
  "language_info": {
   "codemirror_mode": {
    "name": "ipython",
    "version": 3
   },
   "file_extension": ".py",
   "mimetype": "text/x-python",
   "name": "python",
   "nbconvert_exporter": "python",
   "pygments_lexer": "ipython3",
   "version": "3.7.4"
  }
 },
 "nbformat": 4,
 "nbformat_minor": 2
}
